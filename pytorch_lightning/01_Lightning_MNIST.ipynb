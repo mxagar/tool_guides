{
 "cells": [
  {
   "cell_type": "markdown",
   "metadata": {},
   "source": [
    "# Pytorch Lightning Tutorial with MNIST"
   ]
  },
  {
   "cell_type": "markdown",
   "metadata": {},
   "source": [
    "This notebook is the [starter tutorial from the official documentation](https://lightning.ai/docs/pytorch/stable/starter/introduction.html), with some added features. In the notebook, an Autoencoder is implemented for the MNIST dataset.\n",
    "\n",
    "Pytorch Lightning uses Pytorch under the hood; however, the usual Pytorch boilerplate code is abstracted to a cleaner implementation similar to Keras. In that implementation, the code is structured in two major classes:\n",
    "\n",
    "- `LightningModule`: this class takes the Pytorch model and expects the definition of some functions, such as:\n",
    "  - `training_step()`\n",
    "  - `validation_step()`\n",
    "  - `test_step()`\n",
    "  - `configure_optimizers()`, which returns the optimizer and the scheduler\n",
    "  - `forward()`\n",
    "  - `predict_step()`\n",
    "- `Trainer`: this class takes the `LightningModule` and the datasets in the form of `Dataloaders` and is able to run these methods:\n",
    "  - `fit()`\n",
    "  - `test()`\n",
    "  - `predict()`\n",
    "\n",
    "In addition to those classes, we also need Pytorch `Dataloaders`.\n",
    "\n",
    "Many nice operations are automatically performed via arguments/flags in the `Trainer` and minor definitions/calls in `LightningModule`:\n",
    "\n",
    "- Epoch and batch iteration\n",
    "- `optimizer.step()`, `loss.backward()`, `optimizer.zero_grad()` calls\n",
    "- Calling of `model.eval()`, enabling/disabling grads during evaluation\n",
    "- [Checkpoint Saving and Loading](https://lightning.ai/docs/pytorch/stable/common/checkpointing.html)\n",
    "- Tensorboard logging (see [loggers](https://lightning.ai/docs/pytorch/stable/visualize/loggers.html) options)\n",
    "- [Multi-GPU](https://lightning.ai/docs/pytorch/stable/accelerators/gpu.html) support\n",
    "- etc.\n",
    "\n",
    "Alltogether, this is a summary of the contents implemented in the notebook:\n",
    "\n",
    "- The encoder/decoder models are created with Pytorch.\n",
    "- A Lightning model is created with `LightningModule`; it has the most common methods:\n",
    "  - `training_step()` with loss computation and logging\n",
    "  - `validation_step()`\n",
    "  - `test_step()`\n",
    "  - `configure_optimizers()`, which returns the optimizer and the scheduler\n",
    "  - `forward()`, if the model is called\n",
    "  - `predict_step()` for using it in `Trainer().predict()`\n",
    "- A `Trainer` is instantiated and `fit()` with:\n",
    "  - `EarlyStopping` passed as a callbac\n",
    "  - Train and validation data loaders\n",
    "- The model is tested with `Trainer().test()`\n",
    "- The checkpoint is loaded and used:\n",
    "  - The Pytorch model is used independently from Lightning\n",
    "  - The `Trainer().predict()` interface is used to predict a dataset\n",
    "- Training is resumed starting with a desired framework.\n",
    "- Logs are visualized with Tensorboard\n",
    "- Interesting `Trainer` tricks are shown\n",
    "  - Learning rate finding\n",
    "  - Accumulated gradient batching\n",
    "  - Mixed precision\n",
    "  - Gradient clipping"
   ]
  },
  {
   "cell_type": "markdown",
   "metadata": {},
   "source": [
    "Interesting resources:\n",
    "\n",
    "- [Lightning in 15 Minutes](https://lightning.ai/docs/pytorch/stable/starter/introduction.html)\n",
    "- [How to Organize PyTorch Into Lightning](https://lightning.ai/docs/pytorch/stable/starter/converting.html)"
   ]
  },
  {
   "cell_type": "markdown",
   "metadata": {},
   "source": [
    "Installation of the environment and **Lightning**:\n",
    "\n",
    "```bash\n",
    "# Install/activate a basic environment\n",
    "conda env create -f conda.yaml\n",
    "conda activate ds\n",
    "# Alternatively, if you have an env and wnat to install tensorboard\n",
    "python -m pip install lightning\n",
    "\n",
    "# OPTIONAL: Pytorch on Windows + CUDA 11.7\n",
    "# Update your NVIDIA drivers: https://www.nvidia.com/Download/index.aspx\n",
    "# I have version 12.1, but it works with older versions, e.g. 11.7\n",
    "# Check your CUDA version with: nvidia-smi.exe\n",
    "# In case of any runtime errors, check vrsion compatibility tables:\n",
    "# https://github.com/pytorch/vision#installation\n",
    "python -m pip install -U torch==1.13+cu117 torchvision==0.14+cu117 torchaudio torchtext==0.14 --index-url https://download.pytorch.org/whl/cu117\n",
    "```"
   ]
  },
  {
   "cell_type": "markdown",
   "metadata": {},
   "source": [
    "## 0. GPU Setup"
   ]
  },
  {
   "cell_type": "code",
   "execution_count": 1,
   "metadata": {},
   "outputs": [
    {
     "name": "stdout",
     "output_type": "stream",
     "text": [
      "1.13.0+cu117\n"
     ]
    }
   ],
   "source": [
    "import os\n",
    "import torch\n",
    "import torchvision\n",
    "\n",
    "print(torch.__version__)\n",
    "# '1.13.0+cu117'"
   ]
  },
  {
   "cell_type": "code",
   "execution_count": 2,
   "metadata": {},
   "outputs": [
    {
     "name": "stdout",
     "output_type": "stream",
     "text": [
      "Fri Aug 11 19:06:26 2023       \n",
      "+---------------------------------------------------------------------------------------+\n",
      "| NVIDIA-SMI 536.23                 Driver Version: 536.23       CUDA Version: 12.2     |\n",
      "|-----------------------------------------+----------------------+----------------------+\n",
      "| GPU  Name                     TCC/WDDM  | Bus-Id        Disp.A | Volatile Uncorr. ECC |\n",
      "| Fan  Temp   Perf          Pwr:Usage/Cap |         Memory-Usage | GPU-Util  Compute M. |\n",
      "|                                         |                      |               MIG M. |\n",
      "|=========================================+======================+======================|\n",
      "|   0  NVIDIA GeForce RTX 3060      WDDM  | 00000000:22:00.0 Off |                  N/A |\n",
      "|  0%   38C    P8              14W / 170W |      0MiB / 12288MiB |      0%      Default |\n",
      "|                                         |                      |                  N/A |\n",
      "+-----------------------------------------+----------------------+----------------------+\n",
      "                                                                                         \n",
      "+---------------------------------------------------------------------------------------+\n",
      "| Processes:                                                                            |\n",
      "|  GPU   GI   CI        PID   Type   Process name                            GPU Memory |\n",
      "|        ID   ID                                                             Usage      |\n",
      "|=======================================================================================|\n",
      "|  No running processes found                                                           |\n",
      "+---------------------------------------------------------------------------------------+\n"
     ]
    }
   ],
   "source": [
    "# Get info of all GPU devices\n",
    "!nvidia-smi"
   ]
  },
  {
   "cell_type": "code",
   "execution_count": 3,
   "metadata": {},
   "outputs": [
    {
     "name": "stdout",
     "output_type": "stream",
     "text": [
      "0,1\n"
     ]
    }
   ],
   "source": [
    "# Set environment variable with possible device ids\n",
    "os.environ[\"CUDA_VISIBLE_DEVICES\"] = \"0,1\"\n",
    "print(os.environ[\"CUDA_VISIBLE_DEVICES\"])\n",
    "# Set device: 0 or 1\n",
    "# NOTE: indices are not necessarily the ones shown by nvidia-smi\n",
    "# We need to try them with the cell below\n",
    "torch.cuda.set_device(\"cuda:0\")"
   ]
  },
  {
   "cell_type": "code",
   "execution_count": 4,
   "metadata": {},
   "outputs": [
    {
     "name": "stdout",
     "output_type": "stream",
     "text": [
      "Torch version? 1.13.0+cu117\n",
      "Torchvision version? 0.14.0+cu117\n",
      "Is cuda available? True\n",
      "Is cuDNN version: 8500\n",
      "cuDNN enabled?  True\n",
      "Device count? 1\n",
      "Current device? 0\n",
      "Device name?  NVIDIA GeForce RTX 3060\n"
     ]
    }
   ],
   "source": [
    "# Check that the selected device is the desired one\n",
    "print(\"Torch version?\", torch.__version__)\n",
    "print(\"Torchvision version?\", torchvision.__version__)\n",
    "print(\"Is cuda available?\", torch.cuda.is_available())\n",
    "print(\"Is cuDNN version:\", torch.backends.cudnn.version())\n",
    "print(\"cuDNN enabled? \", torch.backends.cudnn.enabled)\n",
    "print(\"Device count?\", torch.cuda.device_count())\n",
    "print(\"Current device?\", torch.cuda.current_device())\n",
    "print(\"Device name? \", torch.cuda.get_device_name(torch.cuda.current_device()))"
   ]
  },
  {
   "cell_type": "markdown",
   "metadata": {},
   "source": [
    "## 1. Define the Lightning Model"
   ]
  },
  {
   "cell_type": "markdown",
   "metadata": {},
   "source": [
    "A LightningModule enables your PyTorch nn.Module to play together in complex ways inside the training_step (there is also an optional validation_step and test_step)."
   ]
  },
  {
   "cell_type": "code",
   "execution_count": 5,
   "metadata": {},
   "outputs": [
    {
     "name": "stderr",
     "output_type": "stream",
     "text": [
      "c:\\Users\\Msagardi\\AppData\\Local\\anaconda3\\envs\\ds\\lib\\site-packages\\torchaudio\\backend\\utils.py:62: UserWarning: No audio backend is available.\n",
      "  warnings.warn(\"No audio backend is available.\")\n",
      "Global seed set to 42\n"
     ]
    }
   ],
   "source": [
    "import os\n",
    "from torch import optim, nn, utils, Tensor\n",
    "import torch.nn.functional as F\n",
    "from torchvision.datasets import MNIST\n",
    "from torchvision.transforms import ToTensor\n",
    "import lightning.pytorch as pl\n",
    "\n",
    "# ensure reproducibility\n",
    "pl.seed_everything(42, workers=True)\n",
    "\n",
    "# define any number of nn.Modules (or use your current ones)\n",
    "# actually, we can define the model outside and then pass\n",
    "# it to the LightningModule\n",
    "# we can also do it with 1-liners\n",
    "# encoder = nn.Sequential(nn.Linear(28 * 28, 64), nn.ReLU(), nn.Linear(64, 3))\n",
    "# decoder = nn.Sequential(nn.Linear(3, 64), nn.ReLU(), nn.Linear(64, 28 * 28))\n",
    "\n",
    "class Encoder(nn.Module):\n",
    "    def __init__(self):\n",
    "        super(Encoder, self).__init__()\n",
    "        self.encoder = nn.Sequential(nn.Linear(28 * 28, 64), nn.ReLU(), nn.Linear(64, 3))\n",
    "        \n",
    "    def forward(self, x):\n",
    "        return self.encoder(x)\n",
    "\n",
    "class Decoder(nn.Module):\n",
    "    def __init__(self):\n",
    "        super(Decoder, self).__init__()\n",
    "        self.decoder = nn.Sequential(nn.Linear(3, 64), nn.ReLU(), nn.Linear(64, 28 * 28))\n",
    "        \n",
    "    def forward(self, x):\n",
    "        return self.decoder(x)\n",
    "\n",
    "# Optional class, not used\n",
    "class AutoEncoder(nn.Module):\n",
    "    def __init__(self):\n",
    "        super().__init__()\n",
    "        self.encoder = Encoder()\n",
    "        self.decoder = Decoder()\n",
    "\n",
    "    def forward(self, x):\n",
    "        x = x.view(x.size(0), -1) # in this case, the batch is reshaped to (B, 28*28)\n",
    "        return self.decoder(self.encoder(x))    \n",
    "\n",
    "# define the LightningModule\n",
    "class LitAutoEncoder(pl.LightningModule):\n",
    "    def __init__(self, encoder, decoder, learning_rate=0.001, batch_size=64):\n",
    "        super().__init__()\n",
    "        # the model can be defined here or outside\n",
    "        self.encoder = encoder\n",
    "        self.decoder = decoder\n",
    "        self.learning_rate = learning_rate\n",
    "        self.batch_size = batch_size\n",
    "        # OPTIONAL: automatically save all the hyperparameters passed to init,\n",
    "        # but exclude things we don't want to save\n",
    "        # NOTE: hyperparams saved to lightning_logs/version_X/hparams.yaml\n",
    "        self.save_hyperparameters(\"learning_rate\", \"batch_size\", ignore=[\"encoder\", \"decoder\"])\n",
    "        # then, hyperparams are also available as\n",
    "        # self.hparams.learning_rate\n",
    "\n",
    "    def training_step(self, batch, batch_idx):\n",
    "        # training_step defines the train loop\n",
    "        # it is independent of forward()\n",
    "        x, y = batch\n",
    "        x = x.view(x.size(0), -1)\n",
    "        z = self.encoder(x)\n",
    "        x_hat = self.decoder(z) # x_hat is (B, 28*28)\n",
    "        loss = F.mse_loss(x_hat, x)\n",
    "        # Logging to TensorBoard (if installed) by default\n",
    "        self.log(\"train_loss\", loss.item()) # important to take .item() to remove computational graph\n",
    "        # If we have a scheduler:\n",
    "        # lr = self.optimizers().param_groups[0]['lr']\n",
    "        # self.log('learning_rate', lr)\n",
    "        return loss\n",
    "\n",
    "    def validation_step(self, batch, batch_idx):\n",
    "        # this is the validation loop (optional)\n",
    "        x, y = batch\n",
    "        x = x.view(x.size(0), -1)\n",
    "        z = self.encoder(x)\n",
    "        x_hat = self.decoder(z)\n",
    "        val_loss = F.mse_loss(x_hat, x)\n",
    "        self.log(\"val_loss\", val_loss.item())\n",
    "        # we would return the loss if sth needs to be done on\n",
    "        # hooks like on_validation_end()\n",
    "\n",
    "    def test_step(self, batch, batch_idx):\n",
    "        # this is the test loop (optional)\n",
    "        x, y = batch\n",
    "        x = x.view(x.size(0), -1)\n",
    "        z = self.encoder(x)\n",
    "        x_hat = self.decoder(z)\n",
    "        test_loss = F.mse_loss(x_hat, x)\n",
    "        self.log(\"test_loss\", test_loss.item())\n",
    "        # we would return the loss if sth needs to be done on\n",
    "        # hooks like on_test_end()\n",
    "\n",
    "    def configure_optimizers(self):\n",
    "        # intantiate return optimizer and learning rate schedulers\n",
    "        optimizer = optim.Adam(self.parameters(), lr=self.learning_rate)\n",
    "        lr_scheduler = optim.lr_scheduler.StepLR(optimizer, step_size=70, gamma=0.1)\n",
    "        return [optimizer], [lr_scheduler]\n",
    "    \n",
    "    def forward(self, x):\n",
    "        x = x.view(x.size(0), -1) # in this case, the batch is reshaped to (B, 28*28)\n",
    "        return self.decoder(self.encoder(x))\n",
    "    \n",
    "    def predict_step(self, batch, batch_idx, dataloader_idx=0):\n",
    "        # this calls forward\n",
    "        # this will be used in trainer.predict(...)\n",
    "        # we can make this step more sophisticated, if desired\n",
    "        # NOTE: we can also avoid the forward() call\n",
    "        # and implement any desired predict step here!\n",
    "        return self(batch[0]) # a batch is a list with one batch inside, so we take element 0\n",
    "\n",
    "\n",
    "# init the autoencoder\n",
    "encoder = Encoder() # nn.Sequential(nn.Linear(28 * 28, 64), nn.ReLU(), nn.Linear(64, 3))\n",
    "decoder = Decoder() # nn.Sequential(nn.Linear(3, 64), nn.ReLU(), nn.Linear(64, 28 * 28))\n",
    "autoencoder = LitAutoEncoder(encoder, decoder)"
   ]
  },
  {
   "cell_type": "markdown",
   "metadata": {},
   "source": [
    "## 2. Define a Dataset"
   ]
  },
  {
   "cell_type": "markdown",
   "metadata": {},
   "source": [
    "Lightning supports ANY iterable (DataLoader, numpy, etc…) for the train/val/test/predict splits."
   ]
  },
  {
   "cell_type": "code",
   "execution_count": 6,
   "metadata": {},
   "outputs": [],
   "source": [
    "# setup data\n",
    "train_set = MNIST(os.path.join(os.getcwd(), \"data\"), download=True, transform=ToTensor())\n",
    "test_set = MNIST(os.path.join(os.getcwd(), \"data\"), download=True, train=False, transform=ToTensor())\n",
    "# use 20% of training data for validation\n",
    "train_set_size = int(len(train_set) * 0.8)\n",
    "valid_set_size = len(train_set) - train_set_size\n",
    "# split the train set into two\n",
    "seed = torch.Generator().manual_seed(42)\n",
    "train_set, valid_set = utils.data.random_split(train_set, [train_set_size, valid_set_size], generator=seed)\n",
    "\n",
    "# loaders\n",
    "# we can/should define batch_size as a hyperparameter in the LightningModule to be able to tune it\n",
    "# but the trainer.text() which uses the test_loader does not use the hyperparameter\n",
    "# HOWEVER, the recommended way is to tune/find the batch size and then instantiate the loaders with a hard-coded value\n",
    "train_loader = utils.data.DataLoader(train_set) # , batch_size=64)\n",
    "valid_loader = utils.data.DataLoader(valid_set) #, batch_size=64)\n",
    "test_loader = utils.data.DataLoader(test_set, batch_size=64)"
   ]
  },
  {
   "cell_type": "markdown",
   "metadata": {},
   "source": [
    "## 3. Train the Model"
   ]
  },
  {
   "cell_type": "markdown",
   "metadata": {},
   "source": [
    "The Lightning [Trainer](https://lightning.ai/docs/pytorch/stable/common/trainer.html) “mixes” any [LightningModule](https://lightning.ai/docs/pytorch/stable/common/lightning_module.html) with any dataset and abstracts away all the engineering complexity needed for scale.\n",
    "\n",
    "The Lightning [Trainer](https://lightning.ai/docs/pytorch/stable/common/trainer.html) automates [40+ tricks](https://lightning.ai/docs/pytorch/stable/common/trainer.html#trainer-flags) including:\n",
    "\n",
    "- Epoch and batch iteration\n",
    "- `optimizer.step()`, `loss.backward()`, `optimizer.zero_grad()` calls\n",
    "- Calling of `model.eval()`, enabling/disabling grads during evaluation\n",
    "- [Checkpoint Saving and Loading](https://lightning.ai/docs/pytorch/stable/common/checkpointing.html)\n",
    "- Tensorboard logging (see [loggers](https://lightning.ai/docs/pytorch/stable/visualize/loggers.html) options)\n",
    "- [Multi-GPU](https://lightning.ai/docs/pytorch/stable/accelerators/gpu.html) support\n",
    "- [TPU](https://lightning.ai/docs/pytorch/stable/accelerators/tpu.html)\n",
    "- [16-bit precision](https://lightning.ai/docs/pytorch/stable/advanced/speed.html#speed-amp) AMP support"
   ]
  },
  {
   "cell_type": "markdown",
   "metadata": {},
   "source": [
    "One of the most important functionalities to improve our training is [early stopping](https://lightning.ai/docs/pytorch/stable/common/early_stopping.html), which is implemented with callbacks."
   ]
  },
  {
   "cell_type": "code",
   "execution_count": 9,
   "metadata": {},
   "outputs": [],
   "source": [
    "from lightning.pytorch.callbacks.early_stopping import EarlyStopping\n",
    "\n",
    "early_stop_callback = EarlyStopping(\n",
    "    monitor=\"val_loss\", # must be saved with self.log() in the LightningModule\n",
    "    min_delta=0.00, # minimum change in the monitored quantity to qualify as an improvement\n",
    "    patience=3,\n",
    "    verbose=False,\n",
    "    mode=\"min\" # or max if val_accuracy\n",
    ")"
   ]
  },
  {
   "cell_type": "markdown",
   "metadata": {},
   "source": [
    "Additionally, we can also use the `ModelCheckpoint` callback to save both the last and the best model in our specified folder:"
   ]
  },
  {
   "cell_type": "code",
   "execution_count": 10,
   "metadata": {},
   "outputs": [],
   "source": [
    "from lightning.pytorch.callbacks import ModelCheckpoint\n",
    "\n",
    "# NOTE: if no ModelCheckpoint is specified, after each epoch the model checkpoint\n",
    "# is saved in ./lightning_logs/version_X/checkpoints\n",
    "checkpoint_callback = ModelCheckpoint(\n",
    "    monitor='val_loss', # which metric to monitor\n",
    "    dirpath='./output_mnist',  # specify the path to save the checkpoints\n",
    "    filename='best',  # best.ckpt - we can also use naming formats: {epoch}-{val_loss:.2f}\n",
    "    save_last=True,  # ensures that the last epoch's model is saved: last.ckpt\n",
    "    mode='min',  # save the model with the minimum 'val_loss'\n",
    ")"
   ]
  },
  {
   "cell_type": "markdown",
   "metadata": {},
   "source": [
    "Finally, note that logs will be automatically written to `./lightning_logs` using Tensorboard (default); if we want to control logging, we can do it as follows:\n",
    "\n",
    "```python\n",
    "from lightning.pytorch.loggers import TensorBoardLogger # other loggers are also available!\n",
    "\n",
    "# Create the logger\n",
    "logger = TensorBoardLogger(\n",
    "    save_dir=\"logs/\", # folder\n",
    "    name=\"my_experiment\",\n",
    "    version=\"1\" # if no version passed, it will be automatically incremented\n",
    ")\n",
    "\n",
    "# Pass the logger to the Trainer\n",
    "trainer = Trainer(logger=logger)\n",
    "```"
   ]
  },
  {
   "cell_type": "code",
   "execution_count": 11,
   "metadata": {},
   "outputs": [
    {
     "name": "stderr",
     "output_type": "stream",
     "text": [
      "GPU available: True (cuda), used: True\n",
      "TPU available: False, using: 0 TPU cores\n",
      "IPU available: False, using: 0 IPUs\n",
      "HPU available: False, using: 0 HPUs\n",
      "You are using a CUDA device ('NVIDIA GeForce RTX 3060') that has Tensor Cores. To properly utilize them, you should set `torch.set_float32_matmul_precision('medium' | 'high')` which will trade-off precision for performance. For more details, read https://pytorch.org/docs/stable/generated/torch.set_float32_matmul_precision.html#torch.set_float32_matmul_precision\n",
      "LOCAL_RANK: 0 - CUDA_VISIBLE_DEVICES: [0,1]\n",
      "\n",
      "  | Name    | Type    | Params\n",
      "------------------------------------\n",
      "0 | encoder | Encoder | 50.4 K\n",
      "1 | decoder | Decoder | 51.2 K\n",
      "------------------------------------\n",
      "101 K     Trainable params\n",
      "0         Non-trainable params\n",
      "101 K     Total params\n",
      "0.407     Total estimated model params size (MB)\n"
     ]
    },
    {
     "data": {
      "application/vnd.jupyter.widget-view+json": {
       "model_id": "535d92dd9edd467781bd323a2e6c96d7",
       "version_major": 2,
       "version_minor": 0
      },
      "text/plain": [
       "Sanity Checking: 0it [00:00, ?it/s]"
      ]
     },
     "metadata": {},
     "output_type": "display_data"
    },
    {
     "name": "stderr",
     "output_type": "stream",
     "text": [
      "c:\\Users\\Msagardi\\AppData\\Local\\anaconda3\\envs\\ds\\lib\\site-packages\\lightning\\pytorch\\trainer\\connectors\\data_connector.py:432: PossibleUserWarning: The dataloader, val_dataloader, does not have many workers which may be a bottleneck. Consider increasing the value of the `num_workers` argument` (try 8 which is the number of cpus on this machine) in the `DataLoader` init to improve performance.\n",
      "  rank_zero_warn(\n",
      "c:\\Users\\Msagardi\\AppData\\Local\\anaconda3\\envs\\ds\\lib\\site-packages\\lightning\\pytorch\\trainer\\connectors\\data_connector.py:432: PossibleUserWarning: The dataloader, train_dataloader, does not have many workers which may be a bottleneck. Consider increasing the value of the `num_workers` argument` (try 8 which is the number of cpus on this machine) in the `DataLoader` init to improve performance.\n",
      "  rank_zero_warn(\n"
     ]
    },
    {
     "data": {
      "application/vnd.jupyter.widget-view+json": {
       "model_id": "5b1c1b0bb7ac45b4889a74c4788a0510",
       "version_major": 2,
       "version_minor": 0
      },
      "text/plain": [
       "Training: 0it [00:00, ?it/s]"
      ]
     },
     "metadata": {},
     "output_type": "display_data"
    },
    {
     "data": {
      "application/vnd.jupyter.widget-view+json": {
       "model_id": "403709d03d8f40b2a70a85f545c9eb09",
       "version_major": 2,
       "version_minor": 0
      },
      "text/plain": [
       "Validation: 0it [00:00, ?it/s]"
      ]
     },
     "metadata": {},
     "output_type": "display_data"
    },
    {
     "name": "stderr",
     "output_type": "stream",
     "text": [
      "`Trainer.fit` stopped: `max_epochs=1` reached.\n"
     ]
    }
   ],
   "source": [
    "# train the model (hint: here are some helpful Trainer arguments for rapid idea iteration)\n",
    "# if GPU is available, we can invoke it with the accelerator flag\n",
    "# the checkpoint and the logs are saved to lightining_logs/version_X\n",
    "trainer = pl.Trainer(\n",
    "    # OPTIONAL arguments\n",
    "    limit_train_batches=100,\n",
    "    limit_val_batches=100,\n",
    "    limit_test_batches=100,\n",
    "    max_epochs=1,\n",
    "    accelerator=\"gpu\", # \"mps\" for Apple Silicon! Metal Performance Shaders\n",
    "    devices=1, # in case we have several GPUs\n",
    "    callbacks=[early_stop_callback, checkpoint_callback]\n",
    "    # if we want to disable saving / checkpointing\n",
    "    # enable_checkpointing=False\n",
    "    # if we want to control the directory where the checkpoint is saved\n",
    "    # default_root_dir=\"some/path/\"\n",
    ")\n",
    "trainer.fit(\n",
    "    model=autoencoder,\n",
    "    train_dataloaders=train_loader,\n",
    "    val_dataloaders=valid_loader\n",
    "    # if we want to resume training where we left\n",
    "    # ckpt_path=\"some/path/to/my_checkpoint.ckpt\"\n",
    ")"
   ]
  },
  {
   "cell_type": "markdown",
   "metadata": {},
   "source": [
    "## 4. Test the Model"
   ]
  },
  {
   "cell_type": "code",
   "execution_count": 12,
   "metadata": {},
   "outputs": [
    {
     "name": "stderr",
     "output_type": "stream",
     "text": [
      "LOCAL_RANK: 0 - CUDA_VISIBLE_DEVICES: [0,1]\n",
      "c:\\Users\\Msagardi\\AppData\\Local\\anaconda3\\envs\\ds\\lib\\site-packages\\lightning\\pytorch\\trainer\\connectors\\data_connector.py:432: PossibleUserWarning: The dataloader, test_dataloader, does not have many workers which may be a bottleneck. Consider increasing the value of the `num_workers` argument` (try 8 which is the number of cpus on this machine) in the `DataLoader` init to improve performance.\n",
      "  rank_zero_warn(\n"
     ]
    },
    {
     "data": {
      "application/vnd.jupyter.widget-view+json": {
       "model_id": "1c07c9423cac4d868a8f677b37620e22",
       "version_major": 2,
       "version_minor": 0
      },
      "text/plain": [
       "Testing: 0it [00:00, ?it/s]"
      ]
     },
     "metadata": {},
     "output_type": "display_data"
    },
    {
     "data": {
      "text/html": [
       "<pre style=\"white-space:pre;overflow-x:auto;line-height:normal;font-family:Menlo,'DejaVu Sans Mono',consolas,'Courier New',monospace\">┏━━━━━━━━━━━━━━━━━━━━━━━━━━━┳━━━━━━━━━━━━━━━━━━━━━━━━━━━┓\n",
       "┃<span style=\"font-weight: bold\">        Test metric        </span>┃<span style=\"font-weight: bold\">       DataLoader 0        </span>┃\n",
       "┡━━━━━━━━━━━━━━━━━━━━━━━━━━━╇━━━━━━━━━━━━━━━━━━━━━━━━━━━┩\n",
       "│<span style=\"color: #008080; text-decoration-color: #008080\">         test_loss         </span>│<span style=\"color: #800080; text-decoration-color: #800080\">    0.06443773210048676    </span>│\n",
       "└───────────────────────────┴───────────────────────────┘\n",
       "</pre>\n"
      ],
      "text/plain": [
       "┏━━━━━━━━━━━━━━━━━━━━━━━━━━━┳━━━━━━━━━━━━━━━━━━━━━━━━━━━┓\n",
       "┃\u001b[1m \u001b[0m\u001b[1m       Test metric       \u001b[0m\u001b[1m \u001b[0m┃\u001b[1m \u001b[0m\u001b[1m      DataLoader 0       \u001b[0m\u001b[1m \u001b[0m┃\n",
       "┡━━━━━━━━━━━━━━━━━━━━━━━━━━━╇━━━━━━━━━━━━━━━━━━━━━━━━━━━┩\n",
       "│\u001b[36m \u001b[0m\u001b[36m        test_loss        \u001b[0m\u001b[36m \u001b[0m│\u001b[35m \u001b[0m\u001b[35m   0.06443773210048676   \u001b[0m\u001b[35m \u001b[0m│\n",
       "└───────────────────────────┴───────────────────────────┘\n"
      ]
     },
     "metadata": {},
     "output_type": "display_data"
    },
    {
     "data": {
      "text/plain": [
       "[{'test_loss': 0.06443773210048676}]"
      ]
     },
     "execution_count": 12,
     "metadata": {},
     "output_type": "execute_result"
    }
   ],
   "source": [
    "# test the model\n",
    "# WARNING: We should first load the best model and then run .test(),\n",
    "# see below how to load the best model\n",
    "trainer.test(model=autoencoder,\n",
    "             dataloaders=test_loader)"
   ]
  },
  {
   "cell_type": "markdown",
   "metadata": {},
   "source": [
    "## 5. Load Checkpoint and Use the Model"
   ]
  },
  {
   "cell_type": "markdown",
   "metadata": {},
   "source": [
    "Once we’ve trained the model you can export to onnx, torchscript and put it into production or simply load the weights and run predictions."
   ]
  },
  {
   "cell_type": "code",
   "execution_count": 13,
   "metadata": {},
   "outputs": [
    {
     "name": "stdout",
     "output_type": "stream",
     "text": [
      "dict_keys(['epoch', 'global_step', 'pytorch-lightning_version', 'state_dict', 'loops', 'callbacks', 'optimizer_states', 'lr_schedulers', 'hparams_name', 'hyper_parameters'])\n",
      "{'learning_rate': 0.001, 'batch_size': 64}\n",
      "⚡⚡⚡⚡⚡⚡⚡⚡⚡⚡⚡⚡⚡⚡⚡⚡⚡⚡⚡⚡ \n",
      "Predictions (4 image embeddings):\n",
      " tensor([[-0.8746, -0.5090, -0.5199],\n",
      "        [-0.8949, -0.4956, -0.5267],\n",
      "        [-0.8948, -0.3335, -0.4570],\n",
      "        [-0.8834, -0.5024, -0.5150]], device='cuda:0',\n",
      "       grad_fn=<AddmmBackward0>) \n",
      " ⚡⚡⚡⚡⚡⚡⚡⚡⚡⚡⚡⚡⚡⚡⚡⚡⚡⚡⚡⚡\n"
     ]
    }
   ],
   "source": [
    "# load checkpoint as Lightning object\n",
    "# check logs path for correct version_X and checkpoint\n",
    "#checkpoint = \"./lightning_logs/version_19/checkpoints/epoch=0-step=100.ckpt\"\n",
    "checkpoint = \"./output_mnist/best.ckpt\"\n",
    "lit_autoencoder = LitAutoEncoder.load_from_checkpoint(checkpoint, encoder=Encoder(), decoder=Decoder())\n",
    "\n",
    "# We should run trainer.test() now\n",
    "\n",
    "# we can also load the checkpoint with torch\n",
    "# many things are saved: 'state_dict', 'optimizer_states', 'hyper_parameters', etc.\n",
    "checkpoint_torch = torch.load(checkpoint, map_location=lambda storage, loc: storage)\n",
    "print(checkpoint_torch.keys())\n",
    "print(checkpoint_torch[\"hyper_parameters\"])\n",
    "\n",
    "# choose your trained nn.Module\n",
    "# having the model defined outside makes it easier to use it later\n",
    "encoder = lit_autoencoder.encoder\n",
    "encoder.eval()\n",
    "\n",
    "# embed 4 fake images!\n",
    "fake_image_batch = torch.rand(4, 28 * 28, device=lit_autoencoder.device)\n",
    "embeddings = encoder(fake_image_batch)\n",
    "print(\"⚡\" * 20, \"\\nPredictions (4 image embeddings):\\n\", embeddings, \"\\n\", \"⚡\" * 20)"
   ]
  },
  {
   "cell_type": "code",
   "execution_count": 14,
   "metadata": {},
   "outputs": [
    {
     "name": "stderr",
     "output_type": "stream",
     "text": [
      "GPU available: True (cuda), used: True\n",
      "TPU available: False, using: 0 TPU cores\n",
      "IPU available: False, using: 0 IPUs\n",
      "HPU available: False, using: 0 HPUs\n",
      "LOCAL_RANK: 0 - CUDA_VISIBLE_DEVICES: [0,1]\n",
      "c:\\Users\\Msagardi\\AppData\\Local\\anaconda3\\envs\\ds\\lib\\site-packages\\lightning\\pytorch\\trainer\\connectors\\data_connector.py:432: PossibleUserWarning: The dataloader, predict_dataloader, does not have many workers which may be a bottleneck. Consider increasing the value of the `num_workers` argument` (try 8 which is the number of cpus on this machine) in the `DataLoader` init to improve performance.\n",
      "  rank_zero_warn(\n"
     ]
    },
    {
     "data": {
      "application/vnd.jupyter.widget-view+json": {
       "model_id": "12a915820baa43fc8580866059784d31",
       "version_major": 2,
       "version_minor": 0
      },
      "text/plain": [
       "Predicting: 0it [00:00, ?it/s]"
      ]
     },
     "metadata": {},
     "output_type": "display_data"
    }
   ],
   "source": [
    "# Also, it is possible to use the forward() and the predict_step() functions\n",
    "# of the LitAutoencoder from the Trainer\n",
    "# NOTE that predict_step() is called\n",
    "trainer = pl.Trainer()\n",
    "predictions = trainer.predict(model=lit_autoencoder, dataloaders=test_loader)"
   ]
  },
  {
   "cell_type": "code",
   "execution_count": 15,
   "metadata": {},
   "outputs": [
    {
     "data": {
      "text/plain": [
       "157"
      ]
     },
     "execution_count": 15,
     "metadata": {},
     "output_type": "execute_result"
    }
   ],
   "source": [
    "# Number of batches\n",
    "len(predictions)"
   ]
  },
  {
   "cell_type": "code",
   "execution_count": 16,
   "metadata": {},
   "outputs": [
    {
     "data": {
      "text/plain": [
       "torch.Size([64, 784])"
      ]
     },
     "execution_count": 16,
     "metadata": {},
     "output_type": "execute_result"
    }
   ],
   "source": [
    "# Batch 0, all outputs from Autoencoder: (B, 28*28)\n",
    "# NOTE that in this implementation the images were not resized to 28x28\n",
    "predictions[0].shape"
   ]
  },
  {
   "cell_type": "markdown",
   "metadata": {},
   "source": [
    "## 6. Visualize Logs"
   ]
  },
  {
   "cell_type": "code",
   "execution_count": 17,
   "metadata": {},
   "outputs": [],
   "source": [
    "# %load_ext tensorboard\n",
    "# %tensorboard --logdir ./lightning_logs\n",
    "# http://localhost:6006/"
   ]
  },
  {
   "cell_type": "markdown",
   "metadata": {},
   "source": [
    "### Optional: Extract Tensorboard Logs"
   ]
  },
  {
   "cell_type": "code",
   "execution_count": 17,
   "metadata": {},
   "outputs": [
    {
     "name": "stdout",
     "output_type": "stream",
     "text": [
      "Event Keys: {'images': [], 'audio': [], 'histograms': [], 'scalars': ['hp_metric', 'train_loss', 'epoch', 'val_loss', 'test_loss'], 'distributions': [], 'tensors': [], 'graph': False, 'meta_graph': False, 'run_metadata': []}\n",
      "Scalar Tags: ['hp_metric', 'train_loss', 'epoch', 'val_loss', 'test_loss']\n"
     ]
    }
   ],
   "source": [
    "from tensorboard.backend.event_processing import event_accumulator\n",
    "\n",
    "# Path to the TensorBoard log directory\n",
    "# NOTE that we check in the folder structure the metric we want...\n",
    "#log_dir = \"./runs/fashion_mnist_experiment_1/\"\n",
    "log_dir = './lightning_logs/version_44'\n",
    "#log_dir = './runs/fashion_mnist_experiment_1/Training vs. Validation Loss_Validation/'\n",
    "\n",
    "# Load the TensorBoard event files\n",
    "event_acc = event_accumulator.EventAccumulator(log_dir)\n",
    "event_acc.Reload()\n",
    "\n",
    "# Print the list of events\n",
    "print(\"Event Keys:\", event_acc.Tags())\n",
    "\n",
    "# Print the list of scalar tags\n",
    "print(\"Scalar Tags:\", event_acc.scalars.Keys()) # This output should be used"
   ]
  },
  {
   "cell_type": "code",
   "execution_count": 18,
   "metadata": {},
   "outputs": [
    {
     "name": "stdout",
     "output_type": "stream",
     "text": [
      "Metric Values: [0.08668341487646103, 0.05452636629343033]\n"
     ]
    }
   ],
   "source": [
    "# Get the scalar events (train and validation losses)\n",
    "metric = event_acc.Scalars('train_loss')\n",
    "\n",
    "# Extract the loss values as Python lists\n",
    "metric_values = [event.value for event in metric]\n",
    "\n",
    "# Print the extracted loss values\n",
    "print(\"Metric Values:\", metric_values)"
   ]
  },
  {
   "cell_type": "markdown",
   "metadata": {},
   "source": [
    "## 7. Re-Train or Resume Training"
   ]
  },
  {
   "cell_type": "code",
   "execution_count": 20,
   "metadata": {},
   "outputs": [
    {
     "name": "stderr",
     "output_type": "stream",
     "text": [
      "GPU available: True (cuda), used: True\n",
      "TPU available: False, using: 0 TPU cores\n",
      "IPU available: False, using: 0 IPUs\n",
      "HPU available: False, using: 0 HPUs\n",
      "Restoring states from the checkpoint path at ./output_mnist/best.ckpt\n",
      "c:\\Users\\Msagardi\\AppData\\Local\\anaconda3\\envs\\ds\\lib\\site-packages\\lightning\\pytorch\\trainer\\call.py:247: UserWarning: Be aware that when using `ckpt_path`, callbacks used to create the checkpoint need to be provided during `Trainer` instantiation. Please add the following callbacks: [\"ModelCheckpoint{'monitor': 'val_loss', 'mode': 'min', 'every_n_train_steps': 0, 'every_n_epochs': 1, 'train_time_interval': None}\", \"EarlyStopping{'monitor': 'val_loss', 'mode': 'min'}\"].\n",
      "  rank_zero_warn(\n",
      "LOCAL_RANK: 0 - CUDA_VISIBLE_DEVICES: [0,1]\n",
      "\n",
      "  | Name    | Type    | Params\n",
      "------------------------------------\n",
      "0 | encoder | Encoder | 50.4 K\n",
      "1 | decoder | Decoder | 51.2 K\n",
      "------------------------------------\n",
      "101 K     Trainable params\n",
      "0         Non-trainable params\n",
      "101 K     Total params\n",
      "0.407     Total estimated model params size (MB)\n",
      "Restored all states from the checkpoint at ./output_mnist/best.ckpt\n"
     ]
    },
    {
     "data": {
      "application/vnd.jupyter.widget-view+json": {
       "model_id": "0dae8599a1734605b77f2df16be16619",
       "version_major": 2,
       "version_minor": 0
      },
      "text/plain": [
       "Sanity Checking: 0it [00:00, ?it/s]"
      ]
     },
     "metadata": {},
     "output_type": "display_data"
    },
    {
     "name": "stderr",
     "output_type": "stream",
     "text": [
      "c:\\Users\\Msagardi\\AppData\\Local\\anaconda3\\envs\\ds\\lib\\site-packages\\lightning\\pytorch\\trainer\\connectors\\data_connector.py:432: PossibleUserWarning: The dataloader, val_dataloader, does not have many workers which may be a bottleneck. Consider increasing the value of the `num_workers` argument` (try 8 which is the number of cpus on this machine) in the `DataLoader` init to improve performance.\n",
      "  rank_zero_warn(\n",
      "c:\\Users\\Msagardi\\AppData\\Local\\anaconda3\\envs\\ds\\lib\\site-packages\\lightning\\pytorch\\trainer\\connectors\\data_connector.py:432: PossibleUserWarning: The dataloader, train_dataloader, does not have many workers which may be a bottleneck. Consider increasing the value of the `num_workers` argument` (try 8 which is the number of cpus on this machine) in the `DataLoader` init to improve performance.\n",
      "  rank_zero_warn(\n",
      "`Trainer.fit` stopped: `max_epochs=1` reached.\n"
     ]
    }
   ],
   "source": [
    "#encoder = nn.Sequential(nn.Linear(28 * 28, 64), nn.ReLU(), nn.Linear(64, 3))\n",
    "#decoder = nn.Sequential(nn.Linear(3, 64), nn.ReLU(), nn.Linear(64, 28 * 28))\n",
    "encoder = Encoder()\n",
    "decoder = Decoder()\n",
    "autoencoder = LitAutoEncoder(encoder, decoder)\n",
    "\n",
    "trainer = pl.Trainer(\n",
    "    limit_train_batches=100,\n",
    "    limit_val_batches=100,\n",
    "    limit_test_batches=100,\n",
    "    max_epochs=1,\n",
    "    accelerator=\"gpu\"\n",
    ")\n",
    "\n",
    "# automatically restores model, epoch, step, LR schedulers, etc...\n",
    "trainer.fit(\n",
    "    model=autoencoder,\n",
    "    train_dataloaders=train_loader,\n",
    "    val_dataloaders=valid_loader,\n",
    "    #ckpt_path=\"./lightning_logs/version_44/checkpoints/epoch=0-step=100.ckpt\"\n",
    "    ckpt_path=\"./output_mnist/best.ckpt\"\n",
    ")"
   ]
  },
  {
   "cell_type": "markdown",
   "metadata": {},
   "source": [
    "## 8. Trainer Tricks"
   ]
  },
  {
   "cell_type": "markdown",
   "metadata": {},
   "source": [
    "Sources:\n",
    "\n",
    "- [Training Tricks](https://lightning.ai/docs/pytorch/stable/advanced/training_tricks.html)\n",
    "- [Trainer Flags](https://lightning.ai/docs/pytorch/stable/common/trainer.html)\n",
    "- [Trainer API](https://lightning.ai/docs/pytorch/stable/api/lightning.pytorch.trainer.trainer.Trainer.html#lightning.pytorch.trainer.trainer.Trainer)"
   ]
  },
  {
   "cell_type": "code",
   "execution_count": 23,
   "metadata": {},
   "outputs": [],
   "source": [
    "encoder = Encoder()\n",
    "decoder = Decoder()\n",
    "model = LitAutoEncoder(encoder, decoder)"
   ]
  },
  {
   "cell_type": "markdown",
   "metadata": {},
   "source": [
    "### Automatic Batch Size Finder"
   ]
  },
  {
   "cell_type": "markdown",
   "metadata": {},
   "source": [
    ":warning: **Warning: This did not work.**\n",
    "\n",
    "```python\n",
    "from lightning.pytorch.tuner import Tuner\n",
    "\n",
    "# Usually we know the possible batch size, but we can find it, too\n",
    "# Usually we want to have the largest batch size possible\n",
    "# For this to work, we need in the LightningModule, either\n",
    "# self.batch_size\n",
    "# self.hparams.batch_size\n",
    "# HOWEVER, the recommended way is to tune/find the batch size and then instantiate the loaders with a hard-coded value\n",
    "\n",
    "# Create a tuner for the trainer\n",
    "trainer = pl.Trainer()\n",
    "tuner = Tuner(trainer)\n",
    "\n",
    "# Auto-scale batch size by growing it exponentially (default)\n",
    "tuner.scale_batch_size(model, train_dataloaders=train_loader, val_dataloaders=valid_loader, mode=\"power\")\n",
    "\n",
    "# Auto-scale batch size with binary search\n",
    "tuner.scale_batch_size(model, train_dataloaders=train_loader, val_dataloaders=valid_loader, mode=\"binsearch\")\n",
    "\n",
    "# THEN:\n",
    "# Fit as normal with new batch size\n",
    "# trainer.fit(model)\n",
    "```"
   ]
  },
  {
   "cell_type": "markdown",
   "metadata": {},
   "source": [
    "### Automatic Learning Rate Finder"
   ]
  },
  {
   "cell_type": "code",
   "execution_count": 38,
   "metadata": {},
   "outputs": [
    {
     "name": "stderr",
     "output_type": "stream",
     "text": [
      "GPU available: True (cuda), used: True\n",
      "TPU available: False, using: 0 TPU cores\n",
      "IPU available: False, using: 0 IPUs\n",
      "HPU available: False, using: 0 HPUs\n"
     ]
    },
    {
     "name": "stderr",
     "output_type": "stream",
     "text": [
      "LOCAL_RANK: 0 - CUDA_VISIBLE_DEVICES: [0,1]\n"
     ]
    },
    {
     "data": {
      "application/vnd.jupyter.widget-view+json": {
       "model_id": "2c605baa2de14b76aedb17687fce3cc6",
       "version_major": 2,
       "version_minor": 0
      },
      "text/plain": [
       "Finding best initial lr:   0%|          | 0/100 [00:00<?, ?it/s]"
      ]
     },
     "metadata": {},
     "output_type": "display_data"
    },
    {
     "name": "stderr",
     "output_type": "stream",
     "text": [
      "LR finder stopped early after 95 steps due to diverging loss.\n",
      "Learning rate set to 1.0964781961431852e-07\n",
      "Restoring states from the checkpoint path at c:\\Users\\Msagardi\\git_repositories\\tool_guides\\pytorch_lightning\\.lr_find_b540e2bc-58f4-44c6-96c3-324f5751bb4f.ckpt\n",
      "Restored all states from the checkpoint at c:\\Users\\Msagardi\\git_repositories\\tool_guides\\pytorch_lightning\\.lr_find_b540e2bc-58f4-44c6-96c3-324f5751bb4f.ckpt\n",
      "C:\\Users\\Msagardi\\AppData\\Local\\Temp\\ipykernel_78204\\3095258436.py:13: UserWarning: Matplotlib is currently using module://matplotlib_inline.backend_inline, which is a non-GUI backend, so cannot show the figure.\n",
      "  fig.show()\n"
     ]
    },
    {
     "name": "stdout",
     "output_type": "stream",
     "text": [
      "{'lr': [1e-08, 1.4454397707459274e-08, 1.7378008287493753e-08, 2.0892961308540398e-08, 2.51188643150958e-08, 3.019951720402016e-08, 3.630780547701014e-08, 4.36515832240166e-08, 5.248074602497726e-08, 6.309573444801934e-08, 7.585775750291837e-08, 9.120108393559096e-08, 1.0964781961431852e-07, 1.3182567385564074e-07, 1.5848931924611133e-07, 1.9054607179632475e-07, 2.2908676527677735e-07, 2.7542287033381663e-07, 3.311311214825911e-07, 3.9810717055349735e-07, 4.786300923226383e-07, 5.75439937337157e-07, 6.918309709189366e-07, 8.317637711026709e-07, 1e-06, 1.2022644346174132e-06, 1.445439770745928e-06, 1.7378008287493761e-06, 2.089296130854039e-06, 2.5118864315095797e-06, 3.0199517204020163e-06, 3.630780547701014e-06, 4.365158322401661e-06, 5.248074602497728e-06, 6.3095734448019305e-06, 7.585775750291836e-06, 9.120108393559096e-06, 1.0964781961431852e-05, 1.3182567385564076e-05, 1.584893192461114e-05, 1.9054607179632464e-05, 2.2908676527677725e-05, 2.7542287033381663e-05, 3.311311214825911e-05, 3.9810717055349735e-05, 4.786300923226385e-05, 5.7543993733715664e-05, 6.918309709189363e-05, 8.317637711026709e-05, 0.0001, 0.00012022644346174131, 0.0001445439770745928, 0.00017378008287493763, 0.0002089296130854041, 0.0002511886431509582, 0.0003019951720402019, 0.000363078054770101, 0.0004365158322401656, 0.0005248074602497723, 0.000630957344480193, 0.0007585775750291836, 0.0009120108393559097, 0.0010964781961431851, 0.0013182567385564075, 0.001584893192461114, 0.0019054607179632484, 0.0022908676527677745, 0.002754228703338169, 0.003311311214825908, 0.003981071705534969, 0.00478630092322638, 0.005754399373371567, 0.006918309709189364, 0.008317637711026709, 0.01, 0.012022644346174132, 0.01445439770745928, 0.017378008287493765, 0.02089296130854041, 0.025118864315095822, 0.030199517204020192, 0.036307805477010104, 0.04365158322401657, 0.05248074602497723, 0.0630957344480193, 0.07585775750291836, 0.09120108393559097, 0.10964781961431852, 0.13182567385564073, 0.15848931924611143, 0.19054607179632482, 0.2290867652767775, 0.2754228703338169, 0.3311311214825908, 0.3981071705534969], 'loss': [0.15997176218514472, 0.1423715431217335, 0.14411844250723668, 0.1411264079604949, 0.1305138137471967, 0.1404046094515364, 0.13304568142866224, 0.12927801222922566, 0.1384205862689445, 0.1345221772338932, 0.13414787708922318, 0.13954607354190707, 0.13586515411777017, 0.13160485060562782, 0.13739847243195893, 0.14091974422928513, 0.1394694122180092, 0.13734018688384841, 0.14134110840473368, 0.1430643018596689, 0.1430114363118817, 0.1410004702278739, 0.13993632007681886, 0.14279775934449657, 0.14278678351002905, 0.14361480384903938, 0.141174908553287, 0.14126579578320245, 0.1408187723852219, 0.14257387480094608, 0.14187810705749443, 0.1391496650993077, 0.13921030712932317, 0.13951592433381318, 0.1375927882506168, 0.13557386812963473, 0.13360756028775342, 0.13342801037928262, 0.13247469629596767, 0.13276029884408605, 0.13209554040275523, 0.1312423730506515, 0.1344787994593503, 0.13333005936438164, 0.1340377770652294, 0.1335104554524396, 0.1357526406330289, 0.1357071751322241, 0.13618442481981607, 0.13678297390897787, 0.1388282533863425, 0.13816949677154314, 0.13768567145500435, 0.13784382043626614, 0.13808400468731, 0.13745055179971777, 0.13910223048025908, 0.1378377115967852, 0.13726768612432472, 0.13534400367972904, 0.13498347774566374, 0.13428718021576067, 0.1327429200348814, 0.13118876528732987, 0.12954437813390135, 0.12885946775244564, 0.12839786827535324, 0.12806725745593803, 0.12717134800675742, 0.12892530042588687, 0.12808191954845569, 0.1266721601377614, 0.12511553745940027, 0.1237180126338758, 0.1218679396842652, 0.12022062482146957, 0.11896690962054249, 0.11780283886317966, 0.11711200142117222, 0.11598363378562576, 0.11684370854384986, 0.115588425809419, 0.11435651897345699, 0.11383078987613866, 0.11314495757663466, 0.11184901513103233, 0.11078675155909831, 0.10998474547936388, 0.10924162910968577, 0.10755819321274494, 0.10777993567710173, 0.10720032191789393, 0.10721350904171044, 0.10672197188663779, 2.9522381144858256]}\n"
     ]
    },
    {
     "data": {
      "image/png": "[encoded data removed]",
      "text/plain": [
       "<Figure size 640x480 with 1 Axes>"
      ]
     },
     "metadata": {},
     "output_type": "display_data"
    }
   ],
   "source": [
    "# Instantiate Trainer and Tuner\n",
    "trainer = pl.Trainer()\n",
    "tuner = Tuner(trainer)\n",
    "\n",
    "# Run learning rate finder\n",
    "# https://lightning.ai/docs/pytorch/stable/api/lightning.pytorch.tuner.tuning.Tuner.html#lightning.pytorch.tuner.tuning.Tuner\n",
    "lr_finder = tuner.lr_find(model, train_dataloaders=train_loader, val_dataloaders=valid_loader)\n",
    "\n",
    "# Results can be found in\n",
    "print(lr_finder.results)\n",
    "\n",
    "# Plot with\n",
    "fig = lr_finder.plot(suggest=True)\n",
    "fig.show()\n",
    "\n",
    "# Pick point based on plot, or get suggestion\n",
    "new_lr = lr_finder.suggestion()\n",
    "\n",
    "# update hparams of the model\n",
    "model.learning_rate = new_lr\n",
    "model.hparams.learning_rate = new_lr\n",
    "\n",
    "# THEN:\n",
    "# Fit model\n",
    "# trainer.fit(model)"
   ]
  },
  {
   "cell_type": "markdown",
   "metadata": {},
   "source": [
    "### Gradient Clipping to Avoid Exploding/Vanishing Gradients"
   ]
  },
  {
   "cell_type": "markdown",
   "metadata": {},
   "source": [
    "```python\n",
    "# DEFAULT (ie: don't clip)\n",
    "trainer = Trainer(gradient_clip_val=0)\n",
    "\n",
    "# clip gradients' global norm to <=0.5 using gradient_clip_algorithm='norm' by default\n",
    "trainer = Trainer(gradient_clip_val=0.5)\n",
    "\n",
    "# clip gradients' maximum magnitude to <=0.5\n",
    "trainer = Trainer(gradient_clip_val=0.5, gradient_clip_algorithm=\"value\")\n",
    "```"
   ]
  },
  {
   "cell_type": "markdown",
   "metadata": {},
   "source": [
    "### Accummulate Gradient Batches"
   ]
  },
  {
   "cell_type": "markdown",
   "metadata": {},
   "source": [
    "```python\n",
    "# accumulate every 4 batches (effective batch size is batch*4)\n",
    "trainer = Trainer(accumulate_grad_batches=4)\n",
    "```"
   ]
  },
  {
   "cell_type": "markdown",
   "metadata": {},
   "source": [
    "### Precision"
   ]
  },
  {
   "cell_type": "markdown",
   "metadata": {},
   "source": [
    "> Lightning supports either double (64, default), float (32), bfloat16 (bf16), or half (16) precision training.\n",
    "> Half precision, or mixed precision, is the combined use of 32 and 16 bit floating points to reduce memory footprint during model training.\n",
    "> This can result in improved performance, achieving +3X speedups on modern GPUs.\n",
    "\n",
    "```python\n",
    "# default used by the Trainer\n",
    "trainer = Trainer(precision=32)\n",
    "\n",
    "# 16-bit precision\n",
    "trainer = Trainer(precision=\"16-mixed\", accelerator=\"gpu\", devices=1)  # works only on CUDA\n",
    "\n",
    "# bfloat16 precision\n",
    "trainer = Trainer(precision=\"bf16-mixed\")\n",
    "\n",
    "# 64-bit precision\n",
    "trainer = Trainer(precision=64)\n",
    "```"
   ]
  },
  {
   "cell_type": "markdown",
   "metadata": {},
   "source": [
    "### Some Other Flags"
   ]
  },
  {
   "cell_type": "markdown",
   "metadata": {},
   "source": [
    "```python\n",
    "# Profiler: get time spent in each function call\n",
    "trainer = Trainer(profiler=True)\n",
    "\n",
    "# Number of epochs\n",
    "trainer = Trainer(max_epochs=100)\n",
    "\n",
    "# Limit number of batches (for testing); also: limit_val_batches, limit_test_batches\n",
    "trainer = Trainer(limit_train_batches=100)\n",
    "\n",
    "# Logging; default is 50\n",
    "trainer = Trainer(log_every_n_steps=50)\n",
    "\n",
    "# Use deterministic algos, but slower; defaults to False\n",
    "trainer = Trainer(deterministic=True)\n",
    "\n",
    "# Faster on GPUs if sizes don't change\n",
    "trainer = Trainer(benchmark=True)\n",
    "\n",
    "# The trainer has also properties!\n",
    "trainer.current_epoch\n",
    "trainer.logged_metrics\n",
    "trainer.num_training_batches\n",
    "trainer.train_dataloader\n",
    "trainer.logger\n",
    "#...\n",
    "```"
   ]
  },
  {
   "cell_type": "markdown",
   "metadata": {},
   "source": [
    "## 9. Interesting Links"
   ]
  },
  {
   "cell_type": "markdown",
   "metadata": {},
   "source": [
    "- Log histograms of weights: [Track and Visualize Experiments](https://lightning.ai/docs/pytorch/stable/visualize/logging_intermediate.html)\n",
    "- Save checkpoints by condition: [Customize checkpointing behavior](https://lightning.ai/docs/pytorch/stable/common/checkpointing_intermediate.html)\n",
    "- [Debugging](https://lightning.ai/docs/pytorch/stable/debug/debugging_basic.html)\n",
    "- [Profiling](https://lightning.ai/docs/pytorch/stable/tuning/profiler_basic.html)\n",
    "- [Deploy models into production with ONNX](https://lightning.ai/docs/pytorch/stable/deploy/production_advanced.html)\n",
    "- [Customize the Trainer with Callbacks](https://lightning.ai/docs/pytorch/stable/extensions/callbacks.html)\n",
    "- [Effective Training Tricks](https://lightning.ai/docs/pytorch/stable/advanced/training_tricks.html)\n",
    "  - Accumulate gradient batches\n",
    "  - Gradient clipping\n",
    "  - Stochastic Weight Averaging\n",
    "  - Batch Size Finder\n",
    "  - Learning Rate Finder\n",
    "  - N-Bit precision\n",
    "    - [Basic](https://lightning.ai/docs/pytorch/stable/common/precision_basic.html)\n",
    "    - [Intermediate](https://lightning.ai/docs/pytorch/stable/common/precision_intermediate.html)"
   ]
  },
  {
   "cell_type": "markdown",
   "metadata": {},
   "source": []
  }
 ],
 "metadata": {
  "kernelspec": {
   "display_name": "ds",
   "language": "python",
   "name": "python3"
  },
  "language_info": {
   "codemirror_mode": {
    "name": "ipython",
    "version": 3
   },
   "file_extension": ".py",
   "mimetype": "text/x-python",
   "name": "python",
   "nbconvert_exporter": "python",
   "pygments_lexer": "ipython3",
   "version": "3.8.16"
  },
  "orig_nbformat": 4
 },
 "nbformat": 4,
 "nbformat_minor": 2
}
