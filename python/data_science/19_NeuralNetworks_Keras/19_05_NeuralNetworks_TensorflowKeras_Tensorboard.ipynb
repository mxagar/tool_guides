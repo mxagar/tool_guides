{
 "cells": [
  {
   "cell_type": "markdown",
   "metadata": {},
   "source": [
    "# Tensorboard\n",
    "\n",
    "I modified the notebook orginally created by JM Portilla (Pierian Data Inc.).\n",
    "\n",
    "Tensorboard is a dashboard that visualizes how the network is trained, eg., the weight values along the epochs are displayed, etc.\n",
    "\n",
    "Official tutorial: https://www.tensorflow.org/tensorboard/get_started\n",
    "\n",
    "**Install**:\n",
    "`pip/3 install tensorboard`\n",
    "\n",
    "**Usage**:\n",
    "1. We instantiate a TensorBoard callback and pass it to `model.fit()`; the callback logs can save many different data\n",
    "2. Then, we launch tensorboard in the terminal: `tensorboard --logdir=path_to_your_logs`\n",
    "3. We open the tensorboard dashboard with browser at: http://localhost:6006/\n"
   ]
  },
  {
   "cell_type": "markdown",
   "metadata": {},
   "source": [
    "## 1. Data"
   ]
  },
  {
   "cell_type": "code",
   "execution_count": 1,
   "metadata": {},
   "outputs": [],
   "source": [
    "import pandas as pd\n",
    "import numpy as np"
   ]
  },
  {
   "cell_type": "code",
   "execution_count": 2,
   "metadata": {},
   "outputs": [],
   "source": [
    "df = pd.read_csv('../data/cancer_classification.csv')"
   ]
  },
  {
   "cell_type": "markdown",
   "metadata": {},
   "source": [
    "### Train Test Split"
   ]
  },
  {
   "cell_type": "code",
   "execution_count": 3,
   "metadata": {},
   "outputs": [],
   "source": [
    "X = df.drop('benign_0__mal_1',axis=1).values\n",
    "y = df['benign_0__mal_1'].values"
   ]
  },
  {
   "cell_type": "code",
   "execution_count": 4,
   "metadata": {},
   "outputs": [],
   "source": [
    "from sklearn.model_selection import train_test_split"
   ]
  },
  {
   "cell_type": "code",
   "execution_count": 5,
   "metadata": {},
   "outputs": [],
   "source": [
    "X_train, X_test, y_train, y_test = train_test_split(X,y,test_size=0.25,random_state=101)"
   ]
  },
  {
   "cell_type": "markdown",
   "metadata": {},
   "source": [
    "\n",
    "### Scaling Data"
   ]
  },
  {
   "cell_type": "code",
   "execution_count": 6,
   "metadata": {},
   "outputs": [],
   "source": [
    "from sklearn.preprocessing import MinMaxScaler"
   ]
  },
  {
   "cell_type": "code",
   "execution_count": 7,
   "metadata": {},
   "outputs": [],
   "source": [
    "scaler = MinMaxScaler()"
   ]
  },
  {
   "cell_type": "code",
   "execution_count": 8,
   "metadata": {},
   "outputs": [
    {
     "data": {
      "text/plain": [
       "MinMaxScaler()"
      ]
     },
     "execution_count": 8,
     "metadata": {},
     "output_type": "execute_result"
    }
   ],
   "source": [
    "scaler.fit(X_train)"
   ]
  },
  {
   "cell_type": "code",
   "execution_count": 9,
   "metadata": {},
   "outputs": [],
   "source": [
    "X_train = scaler.transform(X_train)\n",
    "X_test = scaler.transform(X_test)"
   ]
  },
  {
   "cell_type": "markdown",
   "metadata": {},
   "source": [
    "## 2. Creating the Model"
   ]
  },
  {
   "cell_type": "code",
   "execution_count": 10,
   "metadata": {},
   "outputs": [],
   "source": [
    "import tensorflow as tf\n",
    "from tensorflow.keras.models import Sequential\n",
    "from tensorflow.keras.layers import Dense, Activation,Dropout"
   ]
  },
  {
   "cell_type": "code",
   "execution_count": 11,
   "metadata": {},
   "outputs": [],
   "source": [
    "# We import the TersorBoard callback\n",
    "from tensorflow.keras.callbacks import EarlyStopping,TensorBoard"
   ]
  },
  {
   "cell_type": "code",
   "execution_count": 12,
   "metadata": {},
   "outputs": [],
   "source": [
    "early_stop = EarlyStopping(monitor='val_loss', mode='min', verbose=1, patience=25)"
   ]
  },
  {
   "cell_type": "markdown",
   "metadata": {},
   "source": [
    "### Creating the Tensorboard Callback"
   ]
  },
  {
   "cell_type": "markdown",
   "metadata": {},
   "source": [
    "Arguments to instantiate `TensorBoard` (from the help docstring):\n",
    "- `log_dir`: directory of log files used by TensorBoard\n",
    "- `histogram_freq`: frequency (in epochs) at which to compute activation and\n",
    "weight histograms for the layers of the model. If set to 0, histograms\n",
    "won't be computed. Validation data (or split) must be specified for\n",
    "histogram visualizations.\n",
    "- `write_graph`: whether to visualize the graph in TensorBoard. The log file\n",
    "can become quite large when write_graph is set to True.\n",
    "write_images: whether to write model weights to visualize as image in\n",
    "TensorBoard.\n",
    "- `update_freq`: `'batch'` or `'epoch'` or integer. When using `'batch'`,\n",
    "writes the losses and metrics to TensorBoard after each batch. The same\n",
    "applies for `'epoch'`. If using an integer, let's say `1000`, the\n",
    "callback will write the metrics and losses to TensorBoard every 1000\n",
    "samples. Note that writing too frequently to TensorBoard can slow down\n",
    "your training.\n",
    "- `profile_batch`: Profile the batch to sample compute characteristics. By\n",
    "default, it will profile the second batch. Set `profile_batch=0` to\n",
    "disable profiling. Must run in TensorFlow eager mode.\n",
    "- `embeddings_freq`: frequency (in epochs) at which embedding layers will\n",
    "be visualized. If set to 0, embeddings won't be visualized.       "
   ]
  },
  {
   "cell_type": "code",
   "execution_count": 13,
   "metadata": {},
   "outputs": [],
   "source": [
    "from datetime import datetime"
   ]
  },
  {
   "cell_type": "code",
   "execution_count": 14,
   "metadata": {},
   "outputs": [
    {
     "data": {
      "text/plain": [
       "'2021-11-07--1234'"
      ]
     },
     "execution_count": 14,
     "metadata": {},
     "output_type": "execute_result"
    }
   ],
   "source": [
    "timestamp = datetime.now().strftime(\"%Y-%m-%d--%H%M\")\n",
    "timestamp"
   ]
  },
  {
   "cell_type": "code",
   "execution_count": 15,
   "metadata": {},
   "outputs": [],
   "source": [
    "# WINDOWS: Use \"logs\\\\fit\"\n",
    "# MACOS/LINUX: Use \"logs/fit\"\n",
    "\n",
    "# Path where log files are stored needs to be specified\n",
    "# Log files are necessary for the visualizations done in tensorboard\n",
    "# Always use `logs/fit` and then what you want (eg, a timestamp) \n",
    "log_directory = 'logs/fit/'+ timestamp\n",
    "# Later, when we launch tensorboard in the Terminal:\n",
    "# --logdir=logs/fit/<timestamp>\n",
    "\n",
    "board = TensorBoard(log_dir=log_directory,histogram_freq=1,\n",
    "    write_graph=True,\n",
    "    write_images=True,\n",
    "    update_freq='epoch',\n",
    "    profile_batch=2,\n",
    "    embeddings_freq=1)"
   ]
  },
  {
   "cell_type": "markdown",
   "metadata": {},
   "source": [
    "### Network / Model"
   ]
  },
  {
   "cell_type": "code",
   "execution_count": 16,
   "metadata": {},
   "outputs": [],
   "source": [
    "model = Sequential()\n",
    "model.add(Dense(units=30,activation='relu'))\n",
    "model.add(Dropout(0.5))\n",
    "model.add(Dense(units=15,activation='relu'))\n",
    "model.add(Dropout(0.5))\n",
    "model.add(Dense(units=1,activation='sigmoid'))\n",
    "model.compile(loss='binary_crossentropy', optimizer='adam')"
   ]
  },
  {
   "cell_type": "markdown",
   "metadata": {},
   "source": [
    "### Train the Model"
   ]
  },
  {
   "cell_type": "code",
   "execution_count": 17,
   "metadata": {},
   "outputs": [
    {
     "name": "stderr",
     "output_type": "stream",
     "text": [
      "2021-11-07 12:35:27.016122: I tensorflow/core/platform/cpu_feature_guard.cc:145] This TensorFlow binary is optimized with Intel(R) MKL-DNN to use the following CPU instructions in performance critical operations:  SSE4.1 SSE4.2\n",
      "To enable them in non-MKL-DNN operations, rebuild TensorFlow with the appropriate compiler flags.\n",
      "2021-11-07 12:35:27.017202: I tensorflow/core/common_runtime/process_util.cc:115] Creating new thread pool with default inter op setting: 8. Tune using inter_op_parallelism_threads for best performance.\n"
     ]
    },
    {
     "name": "stdout",
     "output_type": "stream",
     "text": [
      "Train on 426 samples, validate on 143 samples\n",
      "Epoch 1/600\n",
      "426/426 [==============================] - 1s 2ms/sample - loss: 0.7245 - val_loss: 0.6848\n",
      "Epoch 2/600\n",
      " 32/426 [=>............................] - ETA: 0s - loss: 0.6842"
     ]
    },
    {
     "name": "stderr",
     "output_type": "stream",
     "text": [
      "2021-11-07 12:35:27.771751: I tensorflow/core/profiler/lib/profiler_session.cc:184] Profiler session started.\n"
     ]
    },
    {
     "name": "stdout",
     "output_type": "stream",
     "text": [
      "426/426 [==============================] - 0s 191us/sample - loss: 0.6833 - val_loss: 0.6706\n",
      "Epoch 3/600\n",
      "426/426 [==============================] - 0s 189us/sample - loss: 0.6891 - val_loss: 0.6631\n",
      "Epoch 4/600\n",
      "426/426 [==============================] - 0s 184us/sample - loss: 0.6452 - val_loss: 0.6452\n",
      "Epoch 5/600\n",
      "426/426 [==============================] - 0s 180us/sample - loss: 0.6556 - val_loss: 0.6200\n",
      "Epoch 6/600\n",
      "426/426 [==============================] - 0s 182us/sample - loss: 0.6278 - val_loss: 0.5962\n",
      "Epoch 7/600\n",
      "426/426 [==============================] - 0s 180us/sample - loss: 0.5872 - val_loss: 0.5615\n",
      "Epoch 8/600\n",
      "426/426 [==============================] - 0s 186us/sample - loss: 0.5880 - val_loss: 0.5318\n",
      "Epoch 9/600\n",
      "426/426 [==============================] - 0s 182us/sample - loss: 0.5460 - val_loss: 0.4994\n",
      "Epoch 10/600\n",
      "426/426 [==============================] - 0s 179us/sample - loss: 0.5210 - val_loss: 0.4680\n",
      "Epoch 11/600\n",
      "426/426 [==============================] - 0s 177us/sample - loss: 0.5049 - val_loss: 0.4425\n",
      "Epoch 12/600\n",
      "426/426 [==============================] - 0s 179us/sample - loss: 0.4817 - val_loss: 0.4127\n",
      "Epoch 13/600\n",
      "426/426 [==============================] - 0s 179us/sample - loss: 0.4484 - val_loss: 0.3809\n",
      "Epoch 14/600\n",
      "426/426 [==============================] - 0s 177us/sample - loss: 0.4532 - val_loss: 0.3717\n",
      "Epoch 15/600\n",
      "426/426 [==============================] - 0s 177us/sample - loss: 0.4434 - val_loss: 0.3614\n",
      "Epoch 16/600\n",
      "426/426 [==============================] - 0s 178us/sample - loss: 0.4244 - val_loss: 0.3342\n",
      "Epoch 17/600\n",
      "426/426 [==============================] - 0s 177us/sample - loss: 0.3859 - val_loss: 0.3160\n",
      "Epoch 18/600\n",
      "426/426 [==============================] - 0s 178us/sample - loss: 0.4023 - val_loss: 0.3018\n",
      "Epoch 19/600\n",
      "426/426 [==============================] - 0s 177us/sample - loss: 0.3745 - val_loss: 0.2881\n",
      "Epoch 20/600\n",
      "426/426 [==============================] - 0s 177us/sample - loss: 0.3357 - val_loss: 0.2706\n",
      "Epoch 21/600\n",
      "426/426 [==============================] - 0s 178us/sample - loss: 0.3721 - val_loss: 0.2573\n",
      "Epoch 22/600\n",
      "426/426 [==============================] - 0s 178us/sample - loss: 0.3335 - val_loss: 0.2499\n",
      "Epoch 23/600\n",
      "426/426 [==============================] - 0s 177us/sample - loss: 0.3249 - val_loss: 0.2361\n",
      "Epoch 24/600\n",
      "426/426 [==============================] - 0s 178us/sample - loss: 0.3171 - val_loss: 0.2277\n",
      "Epoch 25/600\n",
      "426/426 [==============================] - 0s 177us/sample - loss: 0.2946 - val_loss: 0.2143\n",
      "Epoch 26/600\n",
      "426/426 [==============================] - 0s 179us/sample - loss: 0.3013 - val_loss: 0.2115\n",
      "Epoch 27/600\n",
      "426/426 [==============================] - 0s 177us/sample - loss: 0.3014 - val_loss: 0.1976\n",
      "Epoch 28/600\n",
      "426/426 [==============================] - 0s 178us/sample - loss: 0.2849 - val_loss: 0.1945\n",
      "Epoch 29/600\n",
      "426/426 [==============================] - 0s 178us/sample - loss: 0.2729 - val_loss: 0.1843\n",
      "Epoch 30/600\n",
      "426/426 [==============================] - 0s 178us/sample - loss: 0.2462 - val_loss: 0.1767\n",
      "Epoch 31/600\n",
      "426/426 [==============================] - 0s 179us/sample - loss: 0.2599 - val_loss: 0.1757\n",
      "Epoch 32/600\n",
      "426/426 [==============================] - 0s 178us/sample - loss: 0.2727 - val_loss: 0.1711\n",
      "Epoch 33/600\n",
      "426/426 [==============================] - 0s 181us/sample - loss: 0.2427 - val_loss: 0.1573\n",
      "Epoch 34/600\n",
      "426/426 [==============================] - 0s 178us/sample - loss: 0.2304 - val_loss: 0.1577\n",
      "Epoch 35/600\n",
      "426/426 [==============================] - 0s 178us/sample - loss: 0.2428 - val_loss: 0.1477\n",
      "Epoch 36/600\n",
      "426/426 [==============================] - 0s 178us/sample - loss: 0.2446 - val_loss: 0.1512\n",
      "Epoch 37/600\n",
      "426/426 [==============================] - 0s 180us/sample - loss: 0.2211 - val_loss: 0.1410\n",
      "Epoch 38/600\n",
      "426/426 [==============================] - 0s 177us/sample - loss: 0.2350 - val_loss: 0.1568\n",
      "Epoch 39/600\n",
      "426/426 [==============================] - 0s 179us/sample - loss: 0.2387 - val_loss: 0.1349\n",
      "Epoch 40/600\n",
      "426/426 [==============================] - 0s 178us/sample - loss: 0.2211 - val_loss: 0.1446\n",
      "Epoch 41/600\n",
      "426/426 [==============================] - 0s 179us/sample - loss: 0.2161 - val_loss: 0.1352\n",
      "Epoch 42/600\n",
      "426/426 [==============================] - 0s 180us/sample - loss: 0.2078 - val_loss: 0.1393\n",
      "Epoch 43/600\n",
      "426/426 [==============================] - 0s 178us/sample - loss: 0.2230 - val_loss: 0.1322\n",
      "Epoch 44/600\n",
      "426/426 [==============================] - 0s 178us/sample - loss: 0.1895 - val_loss: 0.1264\n",
      "Epoch 45/600\n",
      "426/426 [==============================] - 0s 181us/sample - loss: 0.2018 - val_loss: 0.1336\n",
      "Epoch 46/600\n",
      "426/426 [==============================] - 0s 180us/sample - loss: 0.2027 - val_loss: 0.1231\n",
      "Epoch 47/600\n",
      "426/426 [==============================] - 0s 180us/sample - loss: 0.1999 - val_loss: 0.1210\n",
      "Epoch 48/600\n",
      "426/426 [==============================] - 0s 179us/sample - loss: 0.1853 - val_loss: 0.1316\n",
      "Epoch 49/600\n",
      "426/426 [==============================] - 0s 183us/sample - loss: 0.1625 - val_loss: 0.1212\n",
      "Epoch 50/600\n",
      "426/426 [==============================] - 0s 181us/sample - loss: 0.1753 - val_loss: 0.1226\n",
      "Epoch 51/600\n",
      "426/426 [==============================] - 0s 179us/sample - loss: 0.1736 - val_loss: 0.1140\n",
      "Epoch 52/600\n",
      "426/426 [==============================] - 0s 179us/sample - loss: 0.2130 - val_loss: 0.1293\n",
      "Epoch 53/600\n",
      "426/426 [==============================] - 0s 179us/sample - loss: 0.1802 - val_loss: 0.1229\n",
      "Epoch 54/600\n",
      "426/426 [==============================] - 0s 180us/sample - loss: 0.1724 - val_loss: 0.1337\n",
      "Epoch 55/600\n",
      "426/426 [==============================] - 0s 179us/sample - loss: 0.1968 - val_loss: 0.1174\n",
      "Epoch 56/600\n",
      "426/426 [==============================] - 0s 181us/sample - loss: 0.1686 - val_loss: 0.1191\n",
      "Epoch 57/600\n",
      "426/426 [==============================] - 0s 191us/sample - loss: 0.1590 - val_loss: 0.1101\n",
      "Epoch 58/600\n",
      "426/426 [==============================] - 0s 179us/sample - loss: 0.1729 - val_loss: 0.1283\n",
      "Epoch 59/600\n",
      "426/426 [==============================] - 0s 218us/sample - loss: 0.1901 - val_loss: 0.1061\n",
      "Epoch 60/600\n",
      "426/426 [==============================] - 0s 177us/sample - loss: 0.1662 - val_loss: 0.1125\n",
      "Epoch 61/600\n",
      "426/426 [==============================] - 0s 178us/sample - loss: 0.1614 - val_loss: 0.1189\n",
      "Epoch 62/600\n",
      "426/426 [==============================] - 0s 176us/sample - loss: 0.1653 - val_loss: 0.1062\n",
      "Epoch 63/600\n",
      "426/426 [==============================] - 0s 177us/sample - loss: 0.1443 - val_loss: 0.1127\n",
      "Epoch 64/600\n",
      "426/426 [==============================] - 0s 177us/sample - loss: 0.1518 - val_loss: 0.1072\n",
      "Epoch 65/600\n",
      "426/426 [==============================] - 0s 178us/sample - loss: 0.1325 - val_loss: 0.1045\n",
      "Epoch 66/600\n",
      "426/426 [==============================] - 0s 178us/sample - loss: 0.1558 - val_loss: 0.1142\n",
      "Epoch 67/600\n",
      "426/426 [==============================] - 0s 177us/sample - loss: 0.1485 - val_loss: 0.1122\n",
      "Epoch 68/600\n",
      "426/426 [==============================] - 0s 179us/sample - loss: 0.1329 - val_loss: 0.0985\n",
      "Epoch 69/600\n",
      "426/426 [==============================] - 0s 177us/sample - loss: 0.1406 - val_loss: 0.0999\n",
      "Epoch 70/600\n",
      "426/426 [==============================] - 0s 177us/sample - loss: 0.1456 - val_loss: 0.1012\n",
      "Epoch 71/600\n",
      "426/426 [==============================] - 0s 178us/sample - loss: 0.1459 - val_loss: 0.1081\n",
      "Epoch 72/600\n",
      "426/426 [==============================] - 0s 178us/sample - loss: 0.1481 - val_loss: 0.1064\n",
      "Epoch 73/600\n",
      "426/426 [==============================] - 0s 178us/sample - loss: 0.1090 - val_loss: 0.0963\n",
      "Epoch 74/600\n",
      "426/426 [==============================] - 0s 178us/sample - loss: 0.1207 - val_loss: 0.1002\n",
      "Epoch 75/600\n",
      "426/426 [==============================] - 0s 176us/sample - loss: 0.1465 - val_loss: 0.1042\n",
      "Epoch 76/600\n",
      "426/426 [==============================] - 0s 177us/sample - loss: 0.1363 - val_loss: 0.0961\n",
      "Epoch 77/600\n",
      "426/426 [==============================] - 0s 177us/sample - loss: 0.1331 - val_loss: 0.1069\n",
      "Epoch 78/600\n",
      "426/426 [==============================] - 0s 176us/sample - loss: 0.1225 - val_loss: 0.0958\n",
      "Epoch 79/600\n",
      "426/426 [==============================] - 0s 177us/sample - loss: 0.1324 - val_loss: 0.0989\n",
      "Epoch 80/600\n",
      "426/426 [==============================] - 0s 177us/sample - loss: 0.1177 - val_loss: 0.0980\n",
      "Epoch 81/600\n",
      "426/426 [==============================] - 0s 178us/sample - loss: 0.1133 - val_loss: 0.0990\n",
      "Epoch 82/600\n",
      "426/426 [==============================] - 0s 178us/sample - loss: 0.1180 - val_loss: 0.1001\n",
      "Epoch 83/600\n",
      "426/426 [==============================] - 0s 178us/sample - loss: 0.1202 - val_loss: 0.0966\n",
      "Epoch 84/600\n",
      "426/426 [==============================] - 0s 177us/sample - loss: 0.1247 - val_loss: 0.0955\n",
      "Epoch 85/600\n",
      "426/426 [==============================] - 0s 177us/sample - loss: 0.1171 - val_loss: 0.1024\n",
      "Epoch 86/600\n",
      "426/426 [==============================] - 0s 178us/sample - loss: 0.1286 - val_loss: 0.1156\n",
      "Epoch 87/600\n",
      "426/426 [==============================] - 0s 177us/sample - loss: 0.1191 - val_loss: 0.0984\n",
      "Epoch 88/600\n",
      "426/426 [==============================] - 0s 177us/sample - loss: 0.1106 - val_loss: 0.1097\n",
      "Epoch 89/600\n",
      "426/426 [==============================] - 0s 177us/sample - loss: 0.1040 - val_loss: 0.1016\n",
      "Epoch 90/600\n",
      "426/426 [==============================] - 0s 179us/sample - loss: 0.0974 - val_loss: 0.0939\n",
      "Epoch 91/600\n",
      "426/426 [==============================] - 0s 178us/sample - loss: 0.1064 - val_loss: 0.1032\n",
      "Epoch 92/600\n",
      "426/426 [==============================] - 0s 177us/sample - loss: 0.1196 - val_loss: 0.1067\n",
      "Epoch 93/600\n",
      "426/426 [==============================] - 0s 179us/sample - loss: 0.1360 - val_loss: 0.1151\n",
      "Epoch 94/600\n",
      "426/426 [==============================] - 0s 181us/sample - loss: 0.1013 - val_loss: 0.0960\n",
      "Epoch 95/600\n",
      "426/426 [==============================] - 0s 179us/sample - loss: 0.1164 - val_loss: 0.0976\n",
      "Epoch 96/600\n",
      "426/426 [==============================] - 0s 179us/sample - loss: 0.0802 - val_loss: 0.1122\n",
      "Epoch 97/600\n",
      "426/426 [==============================] - 0s 179us/sample - loss: 0.1452 - val_loss: 0.0921\n",
      "Epoch 98/600\n",
      "426/426 [==============================] - 0s 179us/sample - loss: 0.1290 - val_loss: 0.1065\n",
      "Epoch 99/600\n",
      "426/426 [==============================] - 0s 178us/sample - loss: 0.1103 - val_loss: 0.0918\n",
      "Epoch 100/600\n",
      "426/426 [==============================] - 0s 177us/sample - loss: 0.1167 - val_loss: 0.0984\n",
      "Epoch 101/600\n",
      "426/426 [==============================] - 0s 178us/sample - loss: 0.0921 - val_loss: 0.1049\n",
      "Epoch 102/600\n",
      "426/426 [==============================] - 0s 178us/sample - loss: 0.1182 - val_loss: 0.0894\n",
      "Epoch 103/600\n",
      "426/426 [==============================] - 0s 178us/sample - loss: 0.0886 - val_loss: 0.0933\n",
      "Epoch 104/600\n",
      "426/426 [==============================] - 0s 177us/sample - loss: 0.1069 - val_loss: 0.0966\n",
      "Epoch 105/600\n",
      "426/426 [==============================] - 0s 179us/sample - loss: 0.0945 - val_loss: 0.1218\n",
      "Epoch 106/600\n",
      "426/426 [==============================] - 0s 180us/sample - loss: 0.1005 - val_loss: 0.0938\n",
      "Epoch 107/600\n",
      "426/426 [==============================] - 0s 185us/sample - loss: 0.0988 - val_loss: 0.0899\n",
      "Epoch 108/600\n",
      "426/426 [==============================] - 0s 185us/sample - loss: 0.0850 - val_loss: 0.0953\n",
      "Epoch 109/600\n",
      "426/426 [==============================] - 0s 188us/sample - loss: 0.0918 - val_loss: 0.1069\n",
      "Epoch 110/600\n",
      "426/426 [==============================] - 0s 187us/sample - loss: 0.1307 - val_loss: 0.1016\n",
      "Epoch 111/600\n",
      "426/426 [==============================] - 0s 180us/sample - loss: 0.0920 - val_loss: 0.1027\n",
      "Epoch 112/600\n",
      "426/426 [==============================] - 0s 184us/sample - loss: 0.0848 - val_loss: 0.0954\n",
      "Epoch 113/600\n",
      "426/426 [==============================] - 0s 179us/sample - loss: 0.1135 - val_loss: 0.1005\n",
      "Epoch 114/600\n",
      "426/426 [==============================] - 0s 182us/sample - loss: 0.0752 - val_loss: 0.1003\n",
      "Epoch 115/600\n",
      "426/426 [==============================] - 0s 182us/sample - loss: 0.0944 - val_loss: 0.0995\n",
      "Epoch 116/600\n",
      "426/426 [==============================] - 0s 186us/sample - loss: 0.1019 - val_loss: 0.0970\n",
      "Epoch 117/600\n",
      "426/426 [==============================] - 0s 180us/sample - loss: 0.1036 - val_loss: 0.1023\n",
      "Epoch 118/600\n",
      "426/426 [==============================] - 0s 183us/sample - loss: 0.0809 - val_loss: 0.1058\n",
      "Epoch 119/600\n",
      "426/426 [==============================] - 0s 187us/sample - loss: 0.1145 - val_loss: 0.0958\n",
      "Epoch 120/600\n",
      "426/426 [==============================] - 0s 181us/sample - loss: 0.1006 - val_loss: 0.1121\n",
      "Epoch 121/600\n",
      "426/426 [==============================] - 0s 180us/sample - loss: 0.0921 - val_loss: 0.0960\n",
      "Epoch 122/600\n",
      "426/426 [==============================] - 0s 179us/sample - loss: 0.0951 - val_loss: 0.0926\n",
      "Epoch 123/600\n",
      "426/426 [==============================] - 0s 179us/sample - loss: 0.0960 - val_loss: 0.0985\n",
      "Epoch 124/600\n",
      "426/426 [==============================] - 0s 183us/sample - loss: 0.0937 - val_loss: 0.0919\n",
      "Epoch 125/600\n",
      "426/426 [==============================] - 0s 182us/sample - loss: 0.1041 - val_loss: 0.0960\n",
      "Epoch 126/600\n",
      "426/426 [==============================] - 0s 179us/sample - loss: 0.1038 - val_loss: 0.1010\n",
      "Epoch 127/600\n",
      "426/426 [==============================] - 0s 178us/sample - loss: 0.1229 - val_loss: 0.0982\n",
      "Epoch 00127: early stopping\n"
     ]
    },
    {
     "data": {
      "text/plain": [
       "<tensorflow.python.keras.callbacks.History at 0x7fd0002b0750>"
      ]
     },
     "execution_count": 17,
     "metadata": {},
     "output_type": "execute_result"
    }
   ],
   "source": [
    "# We pass th early stop and the (tensor-)board as callbacks\n",
    "model.fit(x=X_train, \n",
    "          y=y_train, \n",
    "          epochs=600,\n",
    "          validation_data=(X_test, y_test), verbose=1,\n",
    "          callbacks=[early_stop,board]\n",
    "          )"
   ]
  },
  {
   "cell_type": "markdown",
   "metadata": {},
   "source": [
    "## 3. Launch TensorBoard\n",
    "\n",
    "Open terminal and start TensorBoard passing our path to the log files:\n",
    "\n",
    "```bash\n",
    "cd <path/to/our/project>\n",
    "tensorboard --logdir=<path/to/your/logs>\n",
    "tensorboard --logdir=logs/fit/<timestamp>\n",
    "```\n",
    "\n",
    "Open the TensorBoard dashboard with the broswer on [http://localhost:6006/](http://localhost:6006/)\n",
    "\n",
    "More info:\n",
    "https://www.tensorflow.org/tensorboard/\n",
    "\n",
    "Some comments on the TensorBoard dashboard:\n",
    "- Loss is ploted (smoothed or not) for train & validation split\n",
    "- Images (activation maps?) can be visualized in different stages of the network -- it makes sense for CNNs processing images\n",
    "- The graph of the model is visualized\n",
    "- Weight (& bias) ranges during epochs visualized\n",
    "- Histograms of weights (& biases) during epochs visualized\n",
    "- Projector: Really cool data visualization (high-dim data projected) "
   ]
  },
  {
   "cell_type": "code",
   "execution_count": null,
   "metadata": {},
   "outputs": [],
   "source": []
  }
 ],
 "metadata": {
  "kernelspec": {
   "display_name": "Python 3 (ipykernel)",
   "language": "python",
   "name": "python3"
  },
  "language_info": {
   "codemirror_mode": {
    "name": "ipython",
    "version": 3
   },
   "file_extension": ".py",
   "mimetype": "text/x-python",
   "name": "python",
   "nbconvert_exporter": "python",
   "pygments_lexer": "ipython3",
   "version": "3.7.11"
  }
 },
 "nbformat": 4,
 "nbformat_minor": 4
}
