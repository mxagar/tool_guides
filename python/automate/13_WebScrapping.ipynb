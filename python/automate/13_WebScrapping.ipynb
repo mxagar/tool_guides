{
 "cells": [
  {
   "cell_type": "markdown",
   "metadata": {},
   "source": [
    "# Automate Boring Stuff with Python\n",
    "## Section 13: Web Scrapping"
   ]
  },
  {
   "cell_type": "code",
   "execution_count": 2,
   "metadata": {},
   "outputs": [],
   "source": [
    "import webbrowser"
   ]
  },
  {
   "cell_type": "code",
   "execution_count": 4,
   "metadata": {},
   "outputs": [
    {
     "data": {
      "text/plain": [
       "True"
      ]
     },
     "execution_count": 4,
     "metadata": {},
     "output_type": "execute_result"
    }
   ],
   "source": [
    "# Open a website\n",
    "webbrowser.open('https://automatetheboringstuff.com')"
   ]
  },
  {
   "cell_type": "code",
   "execution_count": 5,
   "metadata": {},
   "outputs": [],
   "source": [
    "# Tip: look for structure in webpages that provide services to use them\n",
    "# Example: google maps\n",
    "def mapit(adress):\n",
    "    url = 'https://www.google.com/maps/place/' + adress\n",
    "    webbrowser.open(url)"
   ]
  },
  {
   "cell_type": "code",
   "execution_count": 6,
   "metadata": {},
   "outputs": [],
   "source": [
    "mapit('Tximistarri bidea 9, San Sebastian')"
   ]
  },
  {
   "cell_type": "markdown",
   "metadata": {},
   "source": [
    "### Downloading from webpages"
   ]
  },
  {
   "cell_type": "code",
   "execution_count": 7,
   "metadata": {},
   "outputs": [],
   "source": [
    "# Install: requests\n",
    "# pip install requests\n",
    "# pip3 install requests\n",
    "# conda install requests"
   ]
  },
  {
   "cell_type": "code",
   "execution_count": 8,
   "metadata": {},
   "outputs": [],
   "source": [
    "import requests"
   ]
  },
  {
   "cell_type": "code",
   "execution_count": 9,
   "metadata": {},
   "outputs": [],
   "source": [
    "res = requests.get('https://automatetheboringstuff.com/files/rj.txt')"
   ]
  },
  {
   "cell_type": "code",
   "execution_count": 12,
   "metadata": {},
   "outputs": [
    {
     "data": {
      "text/plain": [
       "200"
      ]
     },
     "execution_count": 12,
     "metadata": {},
     "output_type": "execute_result"
    }
   ],
   "source": [
    "# check if everything went ok with the status code\n",
    "# 200: everything ok, 404: not found, etc\n",
    "res.status_code"
   ]
  },
  {
   "cell_type": "code",
   "execution_count": 17,
   "metadata": {},
   "outputs": [
    {
     "data": {
      "text/plain": [
       "178978"
      ]
     },
     "execution_count": 17,
     "metadata": {},
     "output_type": "execute_result"
    }
   ],
   "source": [
    "# access the text in the downloaded text file\n",
    "len(res.text)"
   ]
  },
  {
   "cell_type": "code",
   "execution_count": 18,
   "metadata": {},
   "outputs": [],
   "source": [
    "# raise an error if something went wrong\n",
    "res.raise_for_status()"
   ]
  },
  {
   "cell_type": "code",
   "execution_count": 19,
   "metadata": {},
   "outputs": [],
   "source": [
    "# More info\n",
    "# https://requests.readthedocs.io/en/master/"
   ]
  },
  {
   "cell_type": "code",
   "execution_count": 20,
   "metadata": {},
   "outputs": [],
   "source": [
    "# If we want to save the file AND maintain the encoding\n",
    "# we need to save the text in binary!"
   ]
  },
  {
   "cell_type": "code",
   "execution_count": 21,
   "metadata": {},
   "outputs": [],
   "source": [
    "text_file = open('romeo_and_juliet.txt', 'wb') # create & write as binary"
   ]
  },
  {
   "cell_type": "code",
   "execution_count": 22,
   "metadata": {},
   "outputs": [],
   "source": [
    "# binary data can be stored in bhunks of bytes\n",
    "# we can decide the size of the chunk\n",
    "for chunk in res.iter_content(10000):\n",
    "    text_file.write(chunk)"
   ]
  },
  {
   "cell_type": "markdown",
   "metadata": {},
   "source": [
    "### Parsing HTML with beutifulsoup module"
   ]
  },
  {
   "cell_type": "code",
   "execution_count": 24,
   "metadata": {},
   "outputs": [],
   "source": [
    "# Firefox: F12, HTML elements shown; right click + 'Inspect element', HTML code highllighted\n",
    "# requests downloads the whole webpage text; but we need to parse it --> pip/3/conda install beautifulsoup4"
   ]
  },
  {
   "cell_type": "code",
   "execution_count": 26,
   "metadata": {},
   "outputs": [],
   "source": [
    "import bs4\n",
    "import requests"
   ]
  },
  {
   "cell_type": "code",
   "execution_count": 31,
   "metadata": {},
   "outputs": [],
   "source": [
    "res = requests.get('https://automatetheboringstuff.com')"
   ]
  },
  {
   "cell_type": "code",
   "execution_count": 32,
   "metadata": {},
   "outputs": [],
   "source": [
    "res.raise_for_status()"
   ]
  },
  {
   "cell_type": "code",
   "execution_count": 35,
   "metadata": {},
   "outputs": [],
   "source": [
    "soup = bs4.BeautifulSoup(res.text)"
   ]
  },
  {
   "cell_type": "code",
   "execution_count": 38,
   "metadata": {},
   "outputs": [],
   "source": [
    "# Firefox, F12, select element + right click -> inspect; in code, right click + Copy > CSS Path\n",
    "# Then, paste it in .select()\n",
    "# elems: we get the HTML part\n",
    "elem = soup.select('html body div.main div ul li a')"
   ]
  },
  {
   "cell_type": "code",
   "execution_count": 45,
   "metadata": {},
   "outputs": [
    {
     "data": {
      "text/plain": [
       "[<a href=\"/2e/chapter0/\">Chapter  0 – Introduction</a>,\n",
       " <a href=\"/2e/chapter1/\">Chapter  1 – Python Basics</a>,\n",
       " <a href=\"/2e/chapter2/\">Chapter  2 – Flow Control</a>,\n",
       " <a href=\"/2e/chapter3/\">Chapter  3 – Functions</a>,\n",
       " <a href=\"/2e/chapter4/\">Chapter  4 – Lists</a>,\n",
       " <a href=\"/2e/chapter5/\">Chapter  5 – Dictionaries and Structuring Data</a>,\n",
       " <a href=\"/2e/chapter6/\">Chapter  6 – Manipulating Strings</a>,\n",
       " <a href=\"/2e/chapter7/\">Chapter  7 – Pattern Matching with Regular Expressions</a>,\n",
       " <a href=\"/2e/chapter8/\">Chapter  8 – Input Validation</a>,\n",
       " <a href=\"/2e/chapter9/\">Chapter  9 – Reading and Writing Files</a>,\n",
       " <a href=\"/2e/chapter10/\">Chapter 10 – Organizing Files</a>,\n",
       " <a href=\"/2e/chapter11/\">Chapter 11 – Debugging</a>,\n",
       " <a href=\"/2e/chapter12/\">Chapter 12 – Web Scraping</a>,\n",
       " <a href=\"/2e/chapter13/\">Chapter 13 – Working with Excel Spreadsheets</a>,\n",
       " <a href=\"/2e/chapter14/\">Chapter 14 – Working with Google Spreadsheets</a>,\n",
       " <a href=\"/2e/chapter15/\">Chapter 15 – Working with PDF and Word Documents</a>,\n",
       " <a href=\"/2e/chapter16/\">Chapter 16 – Working with CSV Files and JSON Data</a>,\n",
       " <a href=\"/2e/chapter17/\">Chapter 17 – Keeping Time, Scheduling Tasks, and Launching Programs</a>,\n",
       " <a href=\"/2e/chapter18/\">Chapter 18 – Sending Email and Text Messages</a>,\n",
       " <a href=\"/2e/chapter19/\">Chapter 19 – Manipulating Images</a>,\n",
       " <a href=\"/2e/chapter20/\">Chapter 20 – Controlling the Keyboard and Mouse with GUI Automation</a>,\n",
       " <a href=\"/2e/appendixa/\">Appendix A – Installing Third-Party Modules</a>,\n",
       " <a href=\"/2e/appendixb/\">Appendix B – Running Programs</a>,\n",
       " <a href=\"/2e/appendixc/\">Appendix C – Answers to the Practice Questions</a>,\n",
       " <a href=\"https://www.nostarch.com/download/Automate_the_Boring_Stuff_onlinematerials.zip\">Download files used in the book</a>,\n",
       " <a href=\"/list-of-css-selector-tutorials.html\">List of CSS Selector Tutorials</a>,\n",
       " <a href=\"/list-of-json-apis.html\">List of JSON APIs</a>,\n",
       " <a href=\"/list-of-programming-practice-sites.html\">List of Programming Practice Sites</a>,\n",
       " <a href=\"/list-of-web-comics.html\">List of Web Comics</a>,\n",
       " <a href=\"/schedulers.html\">Schedulers for Windows, Mac, and Linux</a>,\n",
       " <a href=\"/how-to-do-pycon.html\">How to Do PyCon (or any tech conference)</a>]"
      ]
     },
     "execution_count": 45,
     "metadata": {},
     "output_type": "execute_result"
    }
   ],
   "source": [
    "# Visualize content\n",
    "elem"
   ]
  },
  {
   "cell_type": "code",
   "execution_count": 46,
   "metadata": {},
   "outputs": [
    {
     "data": {
      "text/plain": [
       "<a href=\"/2e/chapter0/\">Chapter  0 – Introduction</a>"
      ]
     },
     "execution_count": 46,
     "metadata": {},
     "output_type": "execute_result"
    }
   ],
   "source": [
    "# Visualize content of first element\n",
    "elem[0]"
   ]
  },
  {
   "cell_type": "code",
   "execution_count": 47,
   "metadata": {},
   "outputs": [
    {
     "data": {
      "text/plain": [
       "'Chapter  0 – Introduction'"
      ]
     },
     "execution_count": 47,
     "metadata": {},
     "output_type": "execute_result"
    }
   ],
   "source": [
    "# Get text\n",
    "elem[0].text"
   ]
  },
  {
   "cell_type": "code",
   "execution_count": 48,
   "metadata": {},
   "outputs": [
    {
     "data": {
      "text/plain": [
       "'Chapter  0 – Introduction'"
      ]
     },
     "execution_count": 48,
     "metadata": {},
     "output_type": "execute_result"
    }
   ],
   "source": [
    "# Strip text to the minimum\n",
    "elem[0].text.strip()"
   ]
  },
  {
   "cell_type": "markdown",
   "metadata": {},
   "source": [
    "### Example: get price of Amazon product"
   ]
  },
  {
   "cell_type": "markdown",
   "metadata": {},
   "source": [
    "For me, it did't work, probably because Amazon changed their page to hide this kind of info...\n",
    "That's actually a pitty, because the application of getting automatically the amazon price of hundred of thousands of products is very interesting..."
   ]
  },
  {
   "cell_type": "markdown",
   "metadata": {},
   "source": [
    "#### Other cool applications we could try\n",
    "- weather.org: parse weather\n",
    "- xkcd.com: donwload comic strips: download current, and go back following Prev link"
   ]
  },
  {
   "cell_type": "markdown",
   "metadata": {},
   "source": [
    "### Controlling the web browser with selenium"
   ]
  },
  {
   "cell_type": "code",
   "execution_count": null,
   "metadata": {},
   "outputs": [],
   "source": [
    "# Install selenium: pip/3/conda install selenium\n",
    "# https://selenium-python.readthedocs.io"
   ]
  },
  {
   "cell_type": "markdown",
   "metadata": {},
   "source": [
    "Sometimes webpages rely on javascript, or you need to log in, etc - then, downloading the content is not enough.\n",
    "The Selenium 3rd party modules allows controlling web pages\n",
    "We can fill out forms, click submit buttons, etc.\n",
    "It's slower than beautifulsoup, because it opens a browser."
   ]
  },
  {
   "cell_type": "markdown",
   "metadata": {},
   "source": [
    "geckodriver must be downloaded & installed:\n",
    "\n",
    "https://learn-automation.com/firefox-browser-on-mac-using-selenium-webdriver/\n",
    "\n",
    "https://firefox-source-docs.mozilla.org/testing/geckodriver/Notarization.html"
   ]
  },
  {
   "cell_type": "code",
   "execution_count": 67,
   "metadata": {},
   "outputs": [],
   "source": [
    "from selenium import webdriver"
   ]
  },
  {
   "cell_type": "code",
   "execution_count": 95,
   "metadata": {},
   "outputs": [],
   "source": [
    "# Open the browser\n",
    "browser = webdriver.Firefox()"
   ]
  },
  {
   "cell_type": "code",
   "execution_count": 71,
   "metadata": {},
   "outputs": [],
   "source": [
    "# Open a page/URL\n",
    "browser.get('https://automatetheboringstuff.com/')"
   ]
  },
  {
   "cell_type": "code",
   "execution_count": 80,
   "metadata": {},
   "outputs": [],
   "source": [
    "# Get an element\n",
    "# Firefox: right click + Inspect element, right click on code + copy CSS selector\n",
    "elem = browser.find_element_by_css_selector('.main > div:nth-child(1) > ul:nth-child(21) > li:nth-child(1) > a:nth-child(1)')"
   ]
  },
  {
   "cell_type": "code",
   "execution_count": 81,
   "metadata": {},
   "outputs": [],
   "source": [
    "# Once we have the element, we can perform typical actions on it with code!\n",
    "elem.click()"
   ]
  },
  {
   "cell_type": "code",
   "execution_count": 82,
   "metadata": {},
   "outputs": [],
   "source": [
    "# We can also get more general elements, eg, all paragraphs\n",
    "elems = browser.find_elements_by_css_selector('p')"
   ]
  },
  {
   "cell_type": "code",
   "execution_count": 77,
   "metadata": {},
   "outputs": [
    {
     "data": {
      "text/plain": [
       "109"
      ]
     },
     "execution_count": 77,
     "metadata": {},
     "output_type": "execute_result"
    }
   ],
   "source": [
    "len(elems)"
   ]
  },
  {
   "cell_type": "code",
   "execution_count": 84,
   "metadata": {},
   "outputs": [],
   "source": [
    "# Other Selenium's webdriver methods\n",
    "# https://automatetheboringstuff.com/2e/chapter12/\n",
    "# browser.find_element_by_class_name()\n",
    "# browser.find_elements_by_class_name()\n",
    "# browser.find_element_by_id()\n",
    "# browser.find_elements_by_is()\n",
    "# ..."
   ]
  },
  {
   "cell_type": "code",
   "execution_count": 96,
   "metadata": {},
   "outputs": [],
   "source": [
    "# Use the search field\n",
    "browser.get('https://nostarch.com/automatestuff2')\n",
    "searchElem = browser.find_element_by_css_selector('div.logo-wrapper:nth-child(2) > div:nth-child(1) > div:nth-child(1) > section:nth-child(1) > form:nth-child(1) > div:nth-child(1) > div:nth-child(1) > div:nth-child(2) > input:nth-child(1)')"
   ]
  },
  {
   "cell_type": "code",
   "execution_count": 97,
   "metadata": {},
   "outputs": [],
   "source": [
    "# Write text into field + submit text (no need of clicking, submit detects what to do)\n",
    "searchElem.send_keys('deep learning')\n",
    "searchElem.submit()"
   ]
  },
  {
   "cell_type": "code",
   "execution_count": 98,
   "metadata": {},
   "outputs": [],
   "source": [
    "# Navigate\n",
    "browser.back()"
   ]
  },
  {
   "cell_type": "code",
   "execution_count": 108,
   "metadata": {},
   "outputs": [],
   "source": [
    "browser.forward()"
   ]
  },
  {
   "cell_type": "code",
   "execution_count": 100,
   "metadata": {},
   "outputs": [],
   "source": [
    "browser.refresh()"
   ]
  },
  {
   "cell_type": "code",
   "execution_count": 101,
   "metadata": {},
   "outputs": [],
   "source": [
    "# Close browser\n",
    "browser.quit()"
   ]
  },
  {
   "cell_type": "code",
   "execution_count": 102,
   "metadata": {},
   "outputs": [],
   "source": [
    "browser = webdriver.Firefox()"
   ]
  },
  {
   "cell_type": "code",
   "execution_count": 103,
   "metadata": {},
   "outputs": [],
   "source": [
    "browser.get('https://automatetheboringstuff.com/')"
   ]
  },
  {
   "cell_type": "code",
   "execution_count": 104,
   "metadata": {},
   "outputs": [],
   "source": [
    "# Get a paragraph element\n",
    "elem = browser.find_element_by_css_selector('.main > div:nth-child(1) > p:nth-child(9)')"
   ]
  },
  {
   "cell_type": "code",
   "execution_count": 105,
   "metadata": {},
   "outputs": [
    {
     "data": {
      "text/plain": [
       "\"If you've ever spent hours renaming files or updating hundreds of spreadsheet cells, you know how tedious tasks like these can be. But what if you could have your computer do them for you?\""
      ]
     },
     "execution_count": 105,
     "metadata": {},
     "output_type": "execute_result"
    }
   ],
   "source": [
    "# Extract text\n",
    "elem.text"
   ]
  },
  {
   "cell_type": "code",
   "execution_count": 106,
   "metadata": {},
   "outputs": [],
   "source": [
    "# Get entire page: html is the element in a webpage that contains the whole web page\n",
    "elem = browser.find_element_by_css_selector('html')"
   ]
  },
  {
   "cell_type": "code",
   "execution_count": 107,
   "metadata": {},
   "outputs": [
    {
     "data": {
      "text/plain": [
       "'Home | Buy on No Starch Press | Buy on Amazon | @AlSweigart |\\nAutomate the Boring Stuff with Python\\nBy Al Sweigart. Free to read under a Creative Commons license.\\n\\nNew Book: \"Beyond the Basic Stuff with Python\"\\nYou\\'ve read a beginner resource like Automate the Boring Stuff with Python or Python Crash Course, but still don\\'t feel like a \"real\" programmer? Beyond the Basic Stuff covers software development tools and best practices so you can code like a professional. Available in November 2020, but you can use discount code PREORDER for 25% off.\\n\\nSecond Edition of Automate the Boring Stuff with Python\\n\\nPurchase directly from the publisher to get free PDF, Kindle, and epub ebook copies.\\nBuy on Amazon\\n\\n\\n\\nUse this link to sign up for the Automate the Boring Stuff with Python online course on Udemy.\\nPreview the first 15 of the course\\'s 50 videos for free on YouTube.\\n\"The best part of programming is the triumph of seeing the machine do something useful. Automate the Boring Stuff with Python frames all of programming as these small triumphs; it makes the boring fun.\"\\n- Hilary Mason, Founder of Fast Forward Labs and Data Scientist in Residence at Accel\\n\"I\\'m having a lot of fun breaking things and then putting them back together, and just remembering the joy of turning a set of instructions into something useful and fun, like I did when I was a kid.\"\\n- Wil Wheaton, WIL WHEATON dot NET\\nPractical programming for total beginners.\\nIf you\\'ve ever spent hours renaming files or updating hundreds of spreadsheet cells, you know how tedious tasks like these can be. But what if you could have your computer do them for you?\\nIn Automate the Boring Stuff with Python, you\\'ll learn how to use Python to write programs that do in minutes what would take you hours to do by hand-no prior programming experience required. Once you\\'ve mastered the basics of programming, you\\'ll create Python programs that effortlessly perform useful and impressive feats of automation to:\\nSearch for text in a file or across multiple files\\nCreate, update, move, and rename files and folders\\nSearch the Web and download online content\\nUpdate and format data in Excel spreadsheets of any size\\nSplit, merge, watermark, and encrypt PDFs\\nSend reminder emails and text notifications\\nFill out online forms\\nStep-by-step instructions walk you through each program, and practice projects at the end of each chapter challenge you to improve those programs and use your newfound skills to automate similar tasks.\\nDon\\'t spend your time doing work a well-trained monkey could do. Even if you\\'ve never written a line of code, you can make your computer do the grunt work. Learn how in Automate the Boring Stuff with Python.\\nUdemy Online Video Course\\nThe Automate the Boring Stuff with Python Programming online course on Udemy covers most of the content of the book. If you\\'d prefer a video format for learning to program, you can use this link to get a 70% discount. You will have lifetime access to the course content and can post questions to the course\\'s forums.\\nYou can preview the first 15 of the course\\'s 50 videos on YouTube for free.\\nLike this book? Writing a review helps get it in front of more people!\\nTable of Contents\\nChapter 0 – Introduction\\nChapter 1 – Python Basics\\nChapter 2 – Flow Control\\nChapter 3 – Functions\\nChapter 4 – Lists\\nChapter 5 – Dictionaries and Structuring Data\\nChapter 6 – Manipulating Strings\\nChapter 7 – Pattern Matching with Regular Expressions\\nChapter 8 – Input Validation\\nChapter 9 – Reading and Writing Files\\nChapter 10 – Organizing Files\\nChapter 11 – Debugging\\nChapter 12 – Web Scraping\\nChapter 13 – Working with Excel Spreadsheets\\nChapter 14 – Working with Google Spreadsheets\\nChapter 15 – Working with PDF and Word Documents\\nChapter 16 – Working with CSV Files and JSON Data\\nChapter 17 – Keeping Time, Scheduling Tasks, and Launching Programs\\nChapter 18 – Sending Email and Text Messages\\nChapter 19 – Manipulating Images\\nChapter 20 – Controlling the Keyboard and Mouse with GUI Automation\\nAppendix A – Installing Third-Party Modules\\nAppendix B – Running Programs\\nAppendix C – Answers to the Practice Questions\\n(Read the 1st edition.)\\nAdditional Content\\nDownload files used in the book\\nList of CSS Selector Tutorials\\nList of JSON APIs\\nList of Programming Practice Sites\\nList of Web Comics\\nSchedulers for Windows, Mac, and Linux\\nHow to Do PyCon (or any tech conference)\\nAbout the Author\\nAl Sweigart is a software developer and teaches programming to kids and adults. He has written several books for beginners, including Scratch Programming Playground, Cracking Codes with Python, Invent Your Own Computer Games with Python, and Making Games with Python & Pygame\\nSupport the author by purchasing the print/ebook bundle from No Starch Press or separately on Amazon.\\nRead the author\\'s other Creative Commons licensed Python books.'"
      ]
     },
     "execution_count": 107,
     "metadata": {},
     "output_type": "execute_result"
    }
   ],
   "source": [
    "elem.text"
   ]
  },
  {
   "cell_type": "code",
   "execution_count": null,
   "metadata": {},
   "outputs": [],
   "source": []
  }
 ],
 "metadata": {
  "kernelspec": {
   "display_name": "Python 3 (ipykernel)",
   "language": "python",
   "name": "python3"
  },
  "language_info": {
   "codemirror_mode": {
    "name": "ipython",
    "version": 3
   },
   "file_extension": ".py",
   "mimetype": "text/x-python",
   "name": "python",
   "nbconvert_exporter": "python",
   "pygments_lexer": "ipython3",
   "version": "3.7.11"
  }
 },
 "nbformat": 4,
 "nbformat_minor": 4
}
