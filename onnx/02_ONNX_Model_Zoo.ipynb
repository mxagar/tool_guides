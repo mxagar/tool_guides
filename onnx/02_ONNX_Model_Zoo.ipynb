{
 "cells": [
  {
   "cell_type": "markdown",
   "metadata": {},
   "source": [
    "# ONNX Model Zoo"
   ]
  },
  {
   "cell_type": "markdown",
   "metadata": {},
   "source": [
    "Soure: [entbappy/ONNX-Open-Neural-Network-Exchange/ONNX_model_zoo](https://github.com/entbappy/ONNX-Open-Neural-Network-Exchange/tree/master/ONNX_model_zoo)."
   ]
  },
  {
   "cell_type": "markdown",
   "metadata": {},
   "source": [
    "## Download the MNIST Digit Classification Model"
   ]
  },
  {
   "cell_type": "code",
   "execution_count": 9,
   "metadata": {},
   "outputs": [
    {
     "name": "stderr",
     "output_type": "stream",
     "text": [
      "  % Total    % Received % Xferd  Average Speed   Time    Time     Time  Current\n",
      "                                 Dload  Upload   Total   Spent    Left  Speed\n",
      "100 25959  100 25959    0     0  24760      0  0:00:01  0:00:01 --:--:-- 24817\n"
     ]
    }
   ],
   "source": [
    "# Download the model\n",
    "%%sh\n",
    "curl -k -o mnist.tar.gz https://www.cntk.ai/OnnxModels/mnist/opset_7/mnist.tar.gz"
   ]
  },
  {
   "cell_type": "code",
   "execution_count": 11,
   "metadata": {},
   "outputs": [],
   "source": [
    "# Uncompress the model\n",
    "%%sh\n",
    "tar -xzf mnist.tar.gz\n",
    "# in the folder mnist, we'll find the model.onnx"
   ]
  },
  {
   "cell_type": "markdown",
   "metadata": {},
   "source": [
    "## Inference"
   ]
  },
  {
   "cell_type": "markdown",
   "metadata": {},
   "source": [
    "We need hand-written digits to test the inference; these can be downloaded from the source example repository, for instance."
   ]
  },
  {
   "cell_type": "code",
   "execution_count": 15,
   "metadata": {},
   "outputs": [
    {
     "name": "stdout",
     "output_type": "stream",
     "text": [
      "Predicted:  3\n"
     ]
    }
   ],
   "source": [
    "import sys\n",
    "import json\n",
    "import cv2\n",
    "import numpy as np\n",
    "import onnx\n",
    "import onnxruntime\n",
    "from onnx import numpy_helper\n",
    "\n",
    "model_dir = './mnist' # model directory\n",
    "model = model_dir + '/model.onnx' # model file\n",
    "image_path = \"./data/mnist_3.png\" # image path\n",
    "#image_path = \"./data/mnist_7.png\" # image path\n",
    "\n",
    "# Preprocessing the image\n",
    "img = cv2.imread(image_path)\n",
    "# Extract RGB (not alpha) and convert to grayscale with weighted channel values\n",
    "img = np.dot(img[...,:3], [0.299, 0.587, 0.114])\n",
    "img = cv2.resize(img, (28, 28), interpolation=cv2.INTER_AREA)\n",
    "img.resize((1,1,28,28)) # batch of image\n",
    "\n",
    "data = json.dumps({\"data\": img.tolist()})\n",
    "data = np.array(json.loads(data)[\"data\"]).astype(np.float32)\n",
    "session = onnxruntime.InferenceSession(model, None)\n",
    "input_name = session.get_inputs()[0].name\n",
    "ouput_name = session.get_outputs()[0].name\n",
    "\n",
    "result = session.run([ouput_name], {input_name: data})\n",
    "prediction = int(np.argmax(np.array(result).squeeze(), axis=0))\n",
    "print(\"Predicted: \",prediction)"
   ]
  },
  {
   "cell_type": "code",
   "execution_count": null,
   "metadata": {},
   "outputs": [],
   "source": []
  }
 ],
 "metadata": {
  "kernelspec": {
   "display_name": "ds",
   "language": "python",
   "name": "python3"
  },
  "language_info": {
   "codemirror_mode": {
    "name": "ipython",
    "version": 3
   },
   "file_extension": ".py",
   "mimetype": "text/x-python",
   "name": "python",
   "nbconvert_exporter": "python",
   "pygments_lexer": "ipython3",
   "version": "3.8.16"
  },
  "orig_nbformat": 4
 },
 "nbformat": 4,
 "nbformat_minor": 2
}
