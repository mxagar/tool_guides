{
 "cells": [
  {
   "cell_type": "markdown",
   "id": "5daa63d9-568a-42ef-b5db-17f642849a2e",
   "metadata": {},
   "source": [
    "# Embedding Visualization"
   ]
  },
  {
   "cell_type": "markdown",
   "id": "c81f4edf",
   "metadata": {},
   "source": [
    "This example shows how to visualize embedding vectors of images using the Tensorflow **Embedding Projector**.\n",
    "\n",
    "Before running the application, image/text embeddings need to be generated. In this example, I use the image embeddings from my other repository [simclr_pytorch_flowers](https://github.com/mxagar/simclr_pytorch_flowers), where the embedding vectors of the [Flowers dataset](https://www.kaggle.com/datasets/imsparsh/flowers-dataset) from Kaggle are generated in [`datasets/vectors_dataset.csv`](./datasets/vectors_dataset.csv). "
   ]
  },
  {
   "cell_type": "code",
   "execution_count": 2,
   "id": "4b7698ab-d003-4ba1-acbd-8d8c2e5c7397",
   "metadata": {},
   "outputs": [],
   "source": [
    "import os\n",
    "import sys\n",
    "\n",
    "import numpy as np\n",
    "from tqdm import tqdm\n",
    "from PIL import Image\n",
    "import pandas as pd\n",
    "import ast\n",
    "\n",
    "import warnings\n",
    "warnings.filterwarnings(\"ignore\", message=\".*The 'nopython' keyword.*\")"
   ]
  },
  {
   "cell_type": "code",
   "execution_count": 3,
   "id": "e1a67274-3747-4917-bb25-6998803d7577",
   "metadata": {},
   "outputs": [],
   "source": [
    "class Config:\n",
    "    def __init__(self):\n",
    "        self.vector_dataset_path = \"../datasets/vectors_dataset.csv\"\n",
    "        self.output_path = \"./output\"\n",
    "        os.makedirs(self.output_path, exist_ok=True)  # Create the output_path directory if it doesn't exist\n",
    "\n",
    "config = Config()"
   ]
  },
  {
   "cell_type": "markdown",
   "id": "79519b4d-2003-475f-9c83-779c11dedc13",
   "metadata": {},
   "source": [
    "## Load Dataset (Vectors & Image Paths)"
   ]
  },
  {
   "cell_type": "code",
   "execution_count": 4,
   "id": "3bd0c7ae-38c8-4533-91ff-c1766a3f9394",
   "metadata": {},
   "outputs": [
    {
     "data": {
      "text/plain": [
       "(2746, 6)"
      ]
     },
     "execution_count": 4,
     "metadata": {},
     "output_type": "execute_result"
    }
   ],
   "source": [
    "df = pd.read_csv(config.vector_dataset_path)\n",
    "df['embedding'] = df['embedding'].apply(ast.literal_eval)\n",
    "df.shape"
   ]
  },
  {
   "cell_type": "code",
   "execution_count": 5,
   "id": "ea059be4-387d-4b24-a0dc-6393fe0296f5",
   "metadata": {},
   "outputs": [
    {
     "data": {
      "text/html": [
       "<div>\n",
       "<style scoped>\n",
       "    .dataframe tbody tr th:only-of-type {\n",
       "        vertical-align: middle;\n",
       "    }\n",
       "\n",
       "    .dataframe tbody tr th {\n",
       "        vertical-align: top;\n",
       "    }\n",
       "\n",
       "    .dataframe thead th {\n",
       "        text-align: right;\n",
       "    }\n",
       "</style>\n",
       "<table border=\"1\" class=\"dataframe\">\n",
       "  <thead>\n",
       "    <tr style=\"text-align: right;\">\n",
       "      <th></th>\n",
       "      <th>filename</th>\n",
       "      <th>filepath</th>\n",
       "      <th>label</th>\n",
       "      <th>linear_pred</th>\n",
       "      <th>embedding</th>\n",
       "      <th>cluster</th>\n",
       "    </tr>\n",
       "  </thead>\n",
       "  <tbody>\n",
       "    <tr>\n",
       "      <th>0</th>\n",
       "      <td>10140303196_b88d3d6cec.jpg</td>\n",
       "      <td>../datasets/flowers/train\\daisy\\10140303196_b8...</td>\n",
       "      <td>daisy</td>\n",
       "      <td>daisy</td>\n",
       "      <td>[-0.5338386297225952, -0.7343480587005615, 0.3...</td>\n",
       "      <td>2</td>\n",
       "    </tr>\n",
       "    <tr>\n",
       "      <th>1</th>\n",
       "      <td>10172379554_b296050f82_n.jpg</td>\n",
       "      <td>../datasets/flowers/train\\daisy\\10172379554_b2...</td>\n",
       "      <td>daisy</td>\n",
       "      <td>daisy</td>\n",
       "      <td>[0.058685123920440674, -1.1110296249389648, 0....</td>\n",
       "      <td>1</td>\n",
       "    </tr>\n",
       "    <tr>\n",
       "      <th>2</th>\n",
       "      <td>10172567486_2748826a8b.jpg</td>\n",
       "      <td>../datasets/flowers/train\\daisy\\10172567486_27...</td>\n",
       "      <td>daisy</td>\n",
       "      <td>daisy</td>\n",
       "      <td>[-0.2931477725505829, -1.0281589031219482, 0.0...</td>\n",
       "      <td>2</td>\n",
       "    </tr>\n",
       "    <tr>\n",
       "      <th>3</th>\n",
       "      <td>10172636503_21bededa75_n.jpg</td>\n",
       "      <td>../datasets/flowers/train\\daisy\\10172636503_21...</td>\n",
       "      <td>daisy</td>\n",
       "      <td>daisy</td>\n",
       "      <td>[-0.8797124624252319, -0.700323760509491, -0.0...</td>\n",
       "      <td>1</td>\n",
       "    </tr>\n",
       "    <tr>\n",
       "      <th>4</th>\n",
       "      <td>10391248763_1d16681106_n.jpg</td>\n",
       "      <td>../datasets/flowers/train\\daisy\\10391248763_1d...</td>\n",
       "      <td>daisy</td>\n",
       "      <td>daisy</td>\n",
       "      <td>[0.512474000453949, -0.4610719680786133, 0.934...</td>\n",
       "      <td>1</td>\n",
       "    </tr>\n",
       "  </tbody>\n",
       "</table>\n",
       "</div>"
      ],
      "text/plain": [
       "                       filename  \\\n",
       "0    10140303196_b88d3d6cec.jpg   \n",
       "1  10172379554_b296050f82_n.jpg   \n",
       "2    10172567486_2748826a8b.jpg   \n",
       "3  10172636503_21bededa75_n.jpg   \n",
       "4  10391248763_1d16681106_n.jpg   \n",
       "\n",
       "                                            filepath  label linear_pred  \\\n",
       "0  ../datasets/flowers/train\\daisy\\10140303196_b8...  daisy       daisy   \n",
       "1  ../datasets/flowers/train\\daisy\\10172379554_b2...  daisy       daisy   \n",
       "2  ../datasets/flowers/train\\daisy\\10172567486_27...  daisy       daisy   \n",
       "3  ../datasets/flowers/train\\daisy\\10172636503_21...  daisy       daisy   \n",
       "4  ../datasets/flowers/train\\daisy\\10391248763_1d...  daisy       daisy   \n",
       "\n",
       "                                           embedding  cluster  \n",
       "0  [-0.5338386297225952, -0.7343480587005615, 0.3...        2  \n",
       "1  [0.058685123920440674, -1.1110296249389648, 0....        1  \n",
       "2  [-0.2931477725505829, -1.0281589031219482, 0.0...        2  \n",
       "3  [-0.8797124624252319, -0.700323760509491, -0.0...        1  \n",
       "4  [0.512474000453949, -0.4610719680786133, 0.934...        1  "
      ]
     },
     "execution_count": 5,
     "metadata": {},
     "output_type": "execute_result"
    }
   ],
   "source": [
    "df.head()"
   ]
  },
  {
   "cell_type": "markdown",
   "id": "09f0a6cc-9d25-433f-abb5-e05c3bee1df8",
   "metadata": {},
   "source": [
    "## Create Image Sprite"
   ]
  },
  {
   "cell_type": "code",
   "execution_count": 6,
   "id": "65a4e4cc-7313-47e7-8417-4436b2331da9",
   "metadata": {},
   "outputs": [
    {
     "name": "stderr",
     "output_type": "stream",
     "text": [
      "100%|██████████| 2746/2746 [00:07<00:00, 370.15it/s]\n"
     ]
    }
   ],
   "source": [
    "# Fix small image size\n",
    "size = 60\n",
    "image_width, image_height = size, size\n",
    "# Resize all images\n",
    "images = [Image.open(filename).resize((image_width,image_height)) for filename in tqdm(df['filepath'])]"
   ]
  },
  {
   "cell_type": "code",
   "execution_count": 7,
   "id": "314c126f-5681-4dc8-b738-f987e38cd69f",
   "metadata": {},
   "outputs": [
    {
     "name": "stdout",
     "output_type": "stream",
     "text": [
      "The size of 'images' in memory is 23720 bytes.\n"
     ]
    }
   ],
   "source": [
    "size_in_bytes = sys.getsizeof(images)\n",
    "print(f\"The size of 'images' in memory is {size_in_bytes} bytes.\")"
   ]
  },
  {
   "cell_type": "code",
   "execution_count": 8,
   "id": "d5b554fa-fd3c-4aac-a49f-14f80a20f8ea",
   "metadata": {},
   "outputs": [],
   "source": [
    "one_square_size = int(np.ceil(np.sqrt(len(images))))\n",
    "master_width = (image_width * one_square_size) \n",
    "master_height = image_height * one_square_size\n",
    "\n",
    "spriteimage = Image.new(\n",
    "    mode='RGBA',\n",
    "    size=(master_width, master_height),\n",
    "    color=(0,0,0,0))  # fully transparent\n",
    "\n",
    "for count, image in enumerate(images):\n",
    "    div, mod = divmod(count,one_square_size)\n",
    "    h_loc = image_width*div\n",
    "    w_loc = image_width*mod    \n",
    "    spriteimage.paste(image,(w_loc,h_loc))\n",
    "\n",
    "image_sprinte_filepath = os.path.join(config.output_path, \"sprite.jpg\")\n",
    "spriteimage.convert(\"RGB\").save(image_sprinte_filepath, transparency=0)"
   ]
  },
  {
   "cell_type": "markdown",
   "id": "6bba60d0-d4aa-4664-94aa-228dc9f36c4f",
   "metadata": {},
   "source": [
    "## Save Embedding Vectors and Metadata as TSV"
   ]
  },
  {
   "cell_type": "code",
   "execution_count": 9,
   "id": "f89c92d0-fe8a-436c-8424-8b97f3526a7d",
   "metadata": {},
   "outputs": [],
   "source": [
    "embeddings_list = df[\"embedding\"].tolist()\n",
    "embeddings_df = pd.DataFrame(embeddings_list)\n",
    "embedding_tsv_filepath = os.path.join(config.output_path, \"image_embeddings.tsv\")\n",
    "embeddings_df.to_csv(embedding_tsv_filepath, sep='\\t', header=False, index=False)"
   ]
  },
  {
   "cell_type": "code",
   "execution_count": 11,
   "id": "ec5d8cee-9a26-4840-a091-ca0fb6969473",
   "metadata": {},
   "outputs": [],
   "source": [
    "filenames_df = df[[\"filename\", \"filepath\", \"label\", \"cluster\"]]\n",
    "filename_tsv_filepath = os.path.join(config.output_path, \"image_metadata.tsv\")\n",
    "filenames_df.to_csv(filename_tsv_filepath, sep='\\t', header=True, index=False)"
   ]
  },
  {
   "cell_type": "markdown",
   "id": "cc9dd8f0-f93f-46c8-811b-2bce5334b924",
   "metadata": {},
   "source": [
    "## Save Config File"
   ]
  },
  {
   "cell_type": "code",
   "execution_count": 12,
   "id": "0c8ead0e-d8ca-46df-b3eb-2cf857d27cc5",
   "metadata": {},
   "outputs": [],
   "source": [
    "config_filepath = os.path.join(config.output_path, \"projector_config.pbtxt\")\n",
    "\n",
    "content = '''embeddings {\n",
    "  tensor_path: \"image_embeddings.tsv\"\n",
    "  metadata_path: \"image_metadata.tsv\"\n",
    "  sprite {\n",
    "    image_path: \"sprite.jpg\"\n",
    "    single_image_dim: 60\n",
    "    single_image_dim: 60\n",
    "  }\n",
    "}'''\n",
    "\n",
    "with open(config_filepath, 'w') as file:\n",
    "    file.write(content)"
   ]
  },
  {
   "cell_type": "markdown",
   "id": "e8f5d107-2107-473c-a449-007e91895ad6",
   "metadata": {},
   "source": [
    "## Run Tensorboard"
   ]
  },
  {
   "cell_type": "markdown",
   "id": "72191d4f-91b6-467f-83af-2a1d097a9cca",
   "metadata": {},
   "source": [
    "```bash\n",
    "# Anaconda Powershell\n",
    "conda activate ds\n",
    "pip install tensorflow\n",
    "pip install tensorboard\n",
    "\n",
    "# On Windows:\n",
    "# Add path to tensorboard executable in the environment variables:\n",
    "# Path += C:\\Users\\<UserName>\\AppData\\Roaming\\Python\\Python39\\Scripts\n",
    "\n",
    "cd /path/to/all/tsv/sprite/and/config/files\n",
    "# Don't use blank spaces\n",
    "tensorboard --logdir=./\n",
    "# Open borwser at http://localhost:6006/\n",
    "# Refresh it several times until it works\n",
    "```"
   ]
  },
  {
   "cell_type": "code",
   "execution_count": null,
   "id": "366cd610-83a3-4389-941f-e859d956c0e9",
   "metadata": {},
   "outputs": [],
   "source": []
  }
 ],
 "metadata": {
  "kernelspec": {
   "display_name": "Python 3 (ipykernel)",
   "language": "python",
   "name": "python3"
  },
  "language_info": {
   "codemirror_mode": {
    "name": "ipython",
    "version": 3
   },
   "file_extension": ".py",
   "mimetype": "text/x-python",
   "name": "python",
   "nbconvert_exporter": "python",
   "pygments_lexer": "ipython3",
   "version": "3.8.16"
  }
 },
 "nbformat": 4,
 "nbformat_minor": 5
}
