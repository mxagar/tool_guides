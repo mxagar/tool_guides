{
 "cells": [
  {
   "cell_type": "code",
   "execution_count": 1,
   "id": "abe417b9-e4af-48f1-91d6-f1e566c31f1d",
   "metadata": {},
   "outputs": [],
   "source": [
    "# !pip install transformers diffusers torch torchvision"
   ]
  },
  {
   "cell_type": "markdown",
   "id": "293a6a5e-6f8d-442e-8114-fdfafd675373",
   "metadata": {},
   "source": [
    "# I2VGen XL Model\n",
    "\n",
    "More Info: https://huggingface.co/docs/diffusers/en/api/pipelines/i2vgenxl"
   ]
  },
  {
   "cell_type": "markdown",
   "id": "6af2ecce-a6ea-4363-9596-75dd7ae460f6",
   "metadata": {},
   "source": [
    "# An Extra Note on Removing Models In case you run out of space\n",
    "\n",
    "Here's a detailed step-by-step explanation on how to navigate to the `~/.cache` directory, find the `huggingface/hub` subdirectories, and delete a specific directory of cached models using the command line.\n",
    "\n",
    "### Step-by-Step Instructions\n",
    "\n",
    "1. **Open Terminal:**\n",
    "   - On MacOS, you can open the Terminal application by searching for it in Spotlight (Cmd + Space and type \"Terminal\") or finding it in the Applications > Utilities folder.\n",
    "\n",
    "2. **Navigate to the Home Directory:**\n",
    "   - By default, the Terminal opens in your home directory. You can ensure you are in the home directory by typing:\n",
    "     ```bash\n",
    "     cd ~\n",
    "     ```\n",
    "\n",
    "3. **Navigate to the `.cache` Directory:**\n",
    "   - The `.cache` directory is a hidden directory in your home folder. You can navigate to it using:\n",
    "     ```bash\n",
    "     cd .cache\n",
    "     ```\n",
    "\n",
    "4. **List Contents of the `.cache` Directory:**\n",
    "   - To see the contents of the `.cache` directory, you can use the `ls` command:\n",
    "     ```bash\n",
    "     ls\n",
    "     ```\n",
    "\n",
    "5. **Navigate to the `huggingface/hub` Directory:**\n",
    "   - Now, navigate to the `huggingface/hub` directory:\n",
    "     ```bash\n",
    "     cd huggingface/hub\n",
    "     ```\n",
    "\n",
    "6. **List Contents of the `hub` Directory:**\n",
    "   - To see the contents of the `hub` directory, use the `ls` command again:\n",
    "     ```bash\n",
    "     ls\n",
    "     ```\n",
    "\n",
    "7. **Find the Specific Cached Model Directory:**\n",
    "   - Look for the directory you want to delete, in this example `models--stabilityai--stable-video-diffusion-img2vid-xt`. You can verify its presence by listing the contents:\n",
    "     ```bash\n",
    "     ls\n",
    "     ```\n",
    "\n",
    "8. **Delete the Specific Cached Model Directory:**\n",
    "   - Once you have confirmed the directory name, you can delete it using the `rm` command with the `-r` (recursive) flag. Be very careful with this command, as it will permanently delete the directory and its contents.\n",
    "     ```bash\n",
    "     rm -r models--stabilityai--stable-video-diffusion-img2vid-xt/\n",
    "     ```\n",
    "\n",
    "### Example Commands Summary:\n",
    "```bash\n",
    "cd ~\n",
    "cd .cache\n",
    "cd huggingface/hub\n",
    "ls\n",
    "rm -r models--stabilityai--stable-video-diffusion-img2vid-xt/\n",
    "```\n",
    "\n",
    "### Additional Tips:\n",
    "- **Use Tab Completion:** While typing directory names, you can press the `Tab` key to autocomplete the names, which can help avoid typos.\n",
    "- **Confirm Before Deleting:** If you're not sure about deleting a directory, you can list its contents with `ls` to confirm what it contains.\n",
    "- **Backup Important Data:** Make sure you don't need any data from the directory you're deleting, as this operation is irreversible.\n",
    "\n",
    "Following these steps should help you navigate to the `~/.cache` directory, locate the `huggingface/hub` subdirectories, and delete a specific cached model directory using the command line."
   ]
  },
  {
   "cell_type": "markdown",
   "id": "95c9e10d-a8a3-4932-abeb-adb293e11a7d",
   "metadata": {
    "tags": []
   },
   "source": [
    "### Release CUDA Memory"
   ]
  },
  {
   "cell_type": "code",
   "execution_count": 2,
   "id": "314e32f0-5c04-402d-a295-2e662bd637bf",
   "metadata": {
    "tags": []
   },
   "outputs": [
    {
     "name": "stdout",
     "output_type": "stream",
     "text": [
      "Sun May 26 19:18:43 2024       \n",
      "+---------------------------------------------------------------------------------------+\n",
      "| NVIDIA-SMI 535.129.03             Driver Version: 535.129.03   CUDA Version: 12.2     |\n",
      "|-----------------------------------------+----------------------+----------------------+\n",
      "| GPU  Name                 Persistence-M | Bus-Id        Disp.A | Volatile Uncorr. ECC |\n",
      "| Fan  Temp   Perf          Pwr:Usage/Cap |         Memory-Usage | GPU-Util  Compute M. |\n",
      "|                                         |                      |               MIG M. |\n",
      "|=========================================+======================+======================|\n",
      "|   0  Tesla T4                       Off | 00000000:00:1E.0 Off |                    0 |\n",
      "| N/A   37C    P0              25W /  70W |      2MiB / 15360MiB |      5%      Default |\n",
      "|                                         |                      |                  N/A |\n",
      "+-----------------------------------------+----------------------+----------------------+\n",
      "                                                                                         \n",
      "+---------------------------------------------------------------------------------------+\n",
      "| Processes:                                                                            |\n",
      "|  GPU   GI   CI        PID   Type   Process name                            GPU Memory |\n",
      "|        ID   ID                                                             Usage      |\n",
      "|=======================================================================================|\n",
      "|  No running processes found                                                           |\n",
      "+---------------------------------------------------------------------------------------+\n"
     ]
    }
   ],
   "source": [
    "!nvidia-smi"
   ]
  },
  {
   "cell_type": "code",
   "execution_count": 3,
   "id": "8a37a00c-1ab6-43c7-8d1c-329887b29523",
   "metadata": {
    "tags": []
   },
   "outputs": [],
   "source": [
    "import torch\n",
    "\n",
    "torch.cuda.empty_cache()\n"
   ]
  },
  {
   "cell_type": "code",
   "execution_count": 9,
   "id": "54da43ef-e159-4a34-8838-0118a01dcb64",
   "metadata": {
    "tags": []
   },
   "outputs": [],
   "source": [
    "import torch\n",
    "from diffusers import I2VGenXLPipeline\n",
    "from diffusers.utils import load_image, export_to_gif, export_to_video  "
   ]
  },
  {
   "cell_type": "code",
   "execution_count": 5,
   "id": "76da6ab6-e490-4284-95b2-ffaeb761f5db",
   "metadata": {
    "tags": []
   },
   "outputs": [
    {
     "name": "stderr",
     "output_type": "stream",
     "text": [
      "/home/studio-lab-user/.conda/envs/default/lib/python3.9/site-packages/huggingface_hub/file_download.py:1132: FutureWarning: `resume_download` is deprecated and will be removed in version 1.0.0. Downloads always resume when possible. If you want to force a new download, use `force_download=True`.\n",
      "  warnings.warn(\n"
     ]
    },
    {
     "data": {
      "application/vnd.jupyter.widget-view+json": {
       "model_id": "f655cbccd5f74dfc947cbacad6729468",
       "version_major": 2,
       "version_minor": 0
      },
      "text/plain": [
       "Loading pipeline components...:   0%|          | 0/7 [00:00<?, ?it/s]"
      ]
     },
     "metadata": {},
     "output_type": "display_data"
    }
   ],
   "source": [
    "repo_id = \"ali-vilab/i2vgen-xl\" \n",
    "pipeline = I2VGenXLPipeline.from_pretrained(repo_id, torch_dtype=torch.float16, variant=\"fp16\")\n",
    "pipeline.enable_model_cpu_offload()"
   ]
  },
  {
   "cell_type": "code",
   "execution_count": 6,
   "id": "8c808354-ee71-4895-a0dc-e8ca04606782",
   "metadata": {
    "tags": []
   },
   "outputs": [],
   "source": [
    "image_url = \"nasa-U2uKrI4lci8-unsplash.png\"\n",
    "image = load_image(image_url).convert(\"RGB\")\n",
    "prompt = \"astronaut jumping straight up\""
   ]
  },
  {
   "cell_type": "code",
   "execution_count": 7,
   "id": "94728897-0ad0-4a80-997e-bce48e7bfba4",
   "metadata": {
    "tags": []
   },
   "outputs": [
    {
     "name": "stderr",
     "output_type": "stream",
     "text": [
      "/home/studio-lab-user/.conda/envs/default/lib/python3.9/site-packages/torch/nn/modules/conv.py:456: UserWarning: Plan failed with a cudnnException: CUDNN_BACKEND_EXECUTION_PLAN_DESCRIPTOR: cudnnFinalize Descriptor Failed cudnn_status: CUDNN_STATUS_NOT_SUPPORTED (Triggered internally at ../aten/src/ATen/native/cudnn/Conv_v8.cpp:919.)\n",
      "  return F.conv2d(input, weight, bias, self.stride,\n"
     ]
    },
    {
     "data": {
      "application/vnd.jupyter.widget-view+json": {
       "model_id": "5664449586bd4a15a3d2d445a247c7e0",
       "version_major": 2,
       "version_minor": 0
      },
      "text/plain": [
       "  0%|          | 0/50 [00:00<?, ?it/s]"
      ]
     },
     "metadata": {},
     "output_type": "display_data"
    },
    {
     "name": "stdout",
     "output_type": "stream",
     "text": [
      "/tmp/tmp7t1deh20.gif\n"
     ]
    }
   ],
   "source": [
    "generator = torch.manual_seed(8888)\n",
    "frames = pipeline(\n",
    "    prompt=prompt,\n",
    "    image=image,\n",
    "    generator=generator\n",
    ").frames[0]\n",
    "\n",
    "print(export_to_gif(frames))"
   ]
  },
  {
   "cell_type": "code",
   "execution_count": 8,
   "id": "0347db55-81bc-4bbb-85a5-d2ab14f41b23",
   "metadata": {},
   "outputs": [
    {
     "name": "stdout",
     "output_type": "stream",
     "text": [
      "GPU 0: Tesla T4 (UUID: GPU-4d59e37b-b6eb-bd91-ff59-624df4ace7eb)\n"
     ]
    }
   ],
   "source": [
    "!nvidia-smi -L"
   ]
  },
  {
   "cell_type": "code",
   "execution_count": 10,
   "id": "1bba796d-2a34-4355-b552-8762c60f6a2f",
   "metadata": {
    "tags": []
   },
   "outputs": [
    {
     "data": {
      "text/plain": [
       "16"
      ]
     },
     "execution_count": 10,
     "metadata": {},
     "output_type": "execute_result"
    }
   ],
   "source": [
    "len(frames)"
   ]
  },
  {
   "cell_type": "code",
   "execution_count": 11,
   "id": "5dd594c0-3714-424e-adcd-32254d627aeb",
   "metadata": {
    "tags": []
   },
   "outputs": [
    {
     "data": {
      "text/plain": [
       "'astro_jump.mp4'"
      ]
     },
     "execution_count": 11,
     "metadata": {},
     "output_type": "execute_result"
    }
   ],
   "source": [
    "export_to_video(frames,'astro_jump.mp4',fps=8)"
   ]
  },
  {
   "cell_type": "code",
   "execution_count": null,
   "id": "19d289ba-c9cd-43f2-96b0-af4848777e4c",
   "metadata": {},
   "outputs": [],
   "source": []
  }
 ],
 "metadata": {
  "kernelspec": {
   "display_name": "Python 3 (ipykernel)",
   "language": "python",
   "name": "python3"
  },
  "language_info": {
   "codemirror_mode": {
    "name": "ipython",
    "version": 3
   },
   "file_extension": ".py",
   "mimetype": "text/x-python",
   "name": "python",
   "nbconvert_exporter": "python",
   "pygments_lexer": "ipython3",
   "version": "3.9.12"
  }
 },
 "nbformat": 4,
 "nbformat_minor": 5
}
