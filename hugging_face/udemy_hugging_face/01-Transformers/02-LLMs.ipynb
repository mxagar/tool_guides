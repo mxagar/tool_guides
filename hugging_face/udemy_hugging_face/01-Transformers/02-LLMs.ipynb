{
  "cells": [
    {
      "cell_type": "markdown",
      "id": "36b63b15-fd1a-45fd-a52e-8833415d3320",
      "metadata": {
        "id": "36b63b15-fd1a-45fd-a52e-8833415d3320"
      },
      "source": [
        "# Understanding LLMs"
      ]
    },
    {
      "cell_type": "code",
      "execution_count": 1,
      "id": "eec83704-6c0a-43ee-955a-63aa4d909841",
      "metadata": {
        "id": "eec83704-6c0a-43ee-955a-63aa4d909841"
      },
      "outputs": [],
      "source": [
        "from transformers import AutoTokenizer\n",
        "import torch\n",
        "import transformers"
      ]
    },
    {
      "cell_type": "code",
      "execution_count": 2,
      "id": "3d799ad8-f1b9-46da-943a-0c6adc9b7f43",
      "metadata": {
        "colab": {
          "base_uri": "https://localhost:8080/"
        },
        "id": "3d799ad8-f1b9-46da-943a-0c6adc9b7f43",
        "outputId": "9495c2d7-ed7f-4161-8edb-f46dd2020645"
      },
      "outputs": [
        {
          "output_type": "stream",
          "name": "stdout",
          "text": [
            "4.41.2\n"
          ]
        }
      ],
      "source": [
        "print(transformers.__version__)"
      ]
    },
    {
      "cell_type": "code",
      "execution_count": 3,
      "id": "b7cc2c97-9fbb-4d98-85c0-537b0f30ff66",
      "metadata": {
        "colab": {
          "base_uri": "https://localhost:8080/"
        },
        "id": "b7cc2c97-9fbb-4d98-85c0-537b0f30ff66",
        "outputId": "15218ff5-8933-4d11-c85c-ee7bf6f2c5cc"
      },
      "outputs": [
        {
          "output_type": "stream",
          "name": "stdout",
          "text": [
            "2.3.0+cu121\n"
          ]
        }
      ],
      "source": [
        "print(torch.__version__)"
      ]
    },
    {
      "cell_type": "markdown",
      "id": "6486b253-05f2-4e94-950e-181a9a27c7d9",
      "metadata": {
        "id": "6486b253-05f2-4e94-950e-181a9a27c7d9"
      },
      "source": [
        "## Tokenizing Text\n",
        "\n",
        "### Why Tokenization?\n",
        "\n",
        "Tokenization transforms text into a format that models can comprehend. There are several methods for tokenizing text, each with its pros and cons:\n",
        "\n",
        "1. **Character-Based Tokenization**:\n",
        "   - **Method**: Splitting the text into individual characters and assigning each a unique numerical ID.\n",
        "   - **Pros**: Works well for languages like Chinese, where each character carries significant information.\n",
        "   - **Cons**: Creates a small vocabulary but requires many tokens to represent a string. This can affect performance and accuracy since individual characters carry minimal information.\n",
        "\n",
        "2. **Word-Based Tokenization**:\n",
        "   - **Method**: Splitting the text into individual words.\n",
        "   - **Pros**: Captures more meaning per token.\n",
        "   - **Cons**: Results in a large vocabulary with many unknown words (e.g., typos, slang) and different word forms (e.g., \"run\", \"runs\", \"running\").\n",
        "\n",
        "### Modern Tokenization Strategies\n",
        "\n",
        "Modern approaches balance character and word tokenization by splitting text into subwords. These methods effectively capture both the structure and meaning of the text while efficiently handling unknown words and different forms of the same word.\n",
        "\n",
        "- **Subword Tokenization**:\n",
        "  - **Method**: Frequently occurring words or subwords are assigned a single token, while complex words are split into multiple tokens, each representing a meaningful part of the word.\n",
        "  - **Example**: \"flabbergasted\" could be split into:\n",
        "              \n",
        "              tensor(781) \t:  fl\n",
        "              tensor(397) \t: ab\n",
        "              tensor(3900) \t: berg\n",
        "              tensor(8992) \t: asted\n",
        "\n",
        "Different models use different tokenizers, each with its unique strategy and vocabulary size. Let's see how the GPT-2 tokenizer handles a sentence.\n",
        "\n",
        "### Example with GPT-2 Tokenizer\n",
        "\n",
        "We'll use the GPT-2 tokenizer to tokenize the sentence shown below. This involves converting the text into tokens and then decoding those tokens back into text."
      ]
    },
    {
      "cell_type": "code",
      "execution_count": 4,
      "id": "ed917b48-6a6c-4b98-ad37-9eeb2c902b83",
      "metadata": {
        "colab": {
          "base_uri": "https://localhost:8080/",
          "height": 572,
          "referenced_widgets": [
            "c3608b980eb1443da069408f2f780fa8",
            "e26812a9bb04433789dfc2f21ec02bd5",
            "431ede1338934657a97aeba52c3cc623",
            "d32ec45f260e41e6b3202f9b2be98974",
            "c24e624ca24048a295a2954bfe331d70",
            "74e913fe584b403ab4960962460bc37e",
            "bdd9b8e38d8a4e07922264dc4bb07e42",
            "5b267770930b47169f9b5f09b04ad70b",
            "b6edb7ca88f142bdb90a673269fd6f6b",
            "a6b22d2c1ae24e52837d2a93fb39a20b",
            "0f8e5445334243b292d5bc3862208a99",
            "b6f1d57ead044c5b87f95298888231ab",
            "cce1833e3bc3403fa58ce3aa339552fe",
            "d3f9533f5aef421fa171fea03a4c0efe",
            "ca82b0ac74194f64ae83e62251629da9",
            "251a61290da849248fb7f6408d042ae5",
            "b0a9cb1805334f8aa4f7ef2823df26b4",
            "f85aca2142bd4db08d9b6f548274eb7c",
            "b5d29d6874a04471a12bff3cb71c2334",
            "27e3bb13ae414c6da4875530d8f201e2",
            "24c4ae632dfe48b38e256db04bcc8cd6",
            "0ac26f62cc3b4d24aca86070b2b90bec",
            "ed3e026ec6b14da589c1aefc77e9040b",
            "e3762104eb1c42189fa2142ae6e303d4",
            "9871e1050b7d4781a7fdf30b36e772bc",
            "e9499c36f0634b1cb90cbee358476050",
            "37cb2dd70b7845a09a1510f674ccd45c",
            "683cc2eb0c1849bab857a2ff7669a5f1",
            "3641f2a9fe4d4c0ebe35be8de75b9b1f",
            "08a3d70053fa4f4282eda6db048083ad",
            "dbaf19acb4184664aebd4a9c748c79e7",
            "c7c50af198a1463ab60c1da7764567c1",
            "fb72058cef8e47a3ad4c0c160ee85292",
            "03ae0784b4b645838983993b17a98426",
            "e1465e8e7852408bb37e79498c158587",
            "d72a8788abe84d3c8485588f338d792c",
            "cbf33a5c399e4cf3b08ca7622ecbd286",
            "b4f0debf7afa42598e4439c3530842ad",
            "a37d3d656b6442b082558f8914762aa0",
            "94ae66da73e34b95b07b0c23dd3895ea",
            "0793a06a12e2427caa0aaabef2b74be2",
            "1a924d827acc41838e764784cb9e5882",
            "6bc38d864b3843fcaa646d2646f3ab8c",
            "7d6d5813b47542e79759fbd240b8fdbb",
            "603ab53622ef4935ad2016f6373451d0",
            "a81c0b71b293412da8dcfb771f3ae0bd",
            "a91bf4186b824674b9e2d349bcdb3d63",
            "f5e47a9898334e409c0271a048f6b008",
            "88fd6310d78a4365b275deb698ae1831",
            "e9a38e229610477aae7737b829a01836",
            "a5a41e8c429d429996db97b1ba9554b1",
            "f1221d0e9a6641f6a45efbc474c29556",
            "89a6789f424a40c5be2e8606eacb9a24",
            "d980be8e152e437fb5861692c8b2575f",
            "518d4640f23445d79f26b355c3b9bdef"
          ]
        },
        "id": "ed917b48-6a6c-4b98-ad37-9eeb2c902b83",
        "outputId": "c1fcac2b-5e2d-473f-edfc-fc3743a0986c"
      },
      "outputs": [
        {
          "output_type": "stream",
          "name": "stderr",
          "text": [
            "/usr/local/lib/python3.10/dist-packages/huggingface_hub/utils/_token.py:89: UserWarning: \n",
            "The secret `HF_TOKEN` does not exist in your Colab secrets.\n",
            "To authenticate with the Hugging Face Hub, create a token in your settings tab (https://huggingface.co/settings/tokens), set it as secret in your Google Colab and restart your session.\n",
            "You will be able to reuse this secret in all of your notebooks.\n",
            "Please note that authentication is recommended but still optional to access public models or datasets.\n",
            "  warnings.warn(\n"
          ]
        },
        {
          "output_type": "display_data",
          "data": {
            "text/plain": [
              "tokenizer_config.json:   0%|          | 0.00/26.0 [00:00<?, ?B/s]"
            ],
            "application/vnd.jupyter.widget-view+json": {
              "version_major": 2,
              "version_minor": 0,
              "model_id": "c3608b980eb1443da069408f2f780fa8"
            }
          },
          "metadata": {}
        },
        {
          "output_type": "stream",
          "name": "stderr",
          "text": [
            "/usr/local/lib/python3.10/dist-packages/huggingface_hub/file_download.py:1132: FutureWarning: `resume_download` is deprecated and will be removed in version 1.0.0. Downloads always resume when possible. If you want to force a new download, use `force_download=True`.\n",
            "  warnings.warn(\n"
          ]
        },
        {
          "output_type": "display_data",
          "data": {
            "text/plain": [
              "config.json:   0%|          | 0.00/665 [00:00<?, ?B/s]"
            ],
            "application/vnd.jupyter.widget-view+json": {
              "version_major": 2,
              "version_minor": 0,
              "model_id": "b6f1d57ead044c5b87f95298888231ab"
            }
          },
          "metadata": {}
        },
        {
          "output_type": "display_data",
          "data": {
            "text/plain": [
              "vocab.json:   0%|          | 0.00/1.04M [00:00<?, ?B/s]"
            ],
            "application/vnd.jupyter.widget-view+json": {
              "version_major": 2,
              "version_minor": 0,
              "model_id": "ed3e026ec6b14da589c1aefc77e9040b"
            }
          },
          "metadata": {}
        },
        {
          "output_type": "display_data",
          "data": {
            "text/plain": [
              "merges.txt:   0%|          | 0.00/456k [00:00<?, ?B/s]"
            ],
            "application/vnd.jupyter.widget-view+json": {
              "version_major": 2,
              "version_minor": 0,
              "model_id": "03ae0784b4b645838983993b17a98426"
            }
          },
          "metadata": {}
        },
        {
          "output_type": "display_data",
          "data": {
            "text/plain": [
              "tokenizer.json:   0%|          | 0.00/1.36M [00:00<?, ?B/s]"
            ],
            "application/vnd.jupyter.widget-view+json": {
              "version_major": 2,
              "version_minor": 0,
              "model_id": "603ab53622ef4935ad2016f6373451d0"
            }
          },
          "metadata": {}
        },
        {
          "output_type": "stream",
          "name": "stdout",
          "text": [
            "tensor([[37534,  6197,   516,    11,   314,  1101,   781,   397,  3900,  8992,\n",
            "             0]])\n",
            "tensor(37534) \t: Prep\n",
            "tensor(6197) \t: oster\n",
            "tensor(516) \t: ous\n",
            "tensor(11) \t: ,\n",
            "tensor(314) \t:  I\n",
            "tensor(1101) \t: 'm\n",
            "tensor(781) \t:  fl\n",
            "tensor(397) \t: ab\n",
            "tensor(3900) \t: berg\n",
            "tensor(8992) \t: asted\n",
            "tensor(0) \t: !\n"
          ]
        }
      ],
      "source": [
        "# The tokenizers are abstracted by AutoTokenizer\n",
        "from transformers import AutoTokenizer\n",
        "\n",
        "# Load the GPT-2 tokenizer:\n",
        "# we pass the model name and its associated toknizer is loaded\n",
        "tokenizer = AutoTokenizer.from_pretrained(\"gpt2\")\n",
        "\n",
        "# return_tensors=\"pt\": PyTorch tensors\n",
        "# ids: we go from words to uids; then, we'll convert the uids into vectors\n",
        "input_ids = tokenizer(\"Preposterous, I'm flabbergasted!\", return_tensors=\"pt\").input_ids\n",
        "print(input_ids)\n",
        "# Output: tensor([[1026,  373,  257, 3223,  290, 6388,   88]])\n",
        "\n",
        "# Decode the tokens back into text\n",
        "for t in input_ids[0]:\n",
        "    print(t, \"\\t:\", tokenizer.decode(t))\n",
        "# tensor(37534) \t: Prep\n",
        "# tensor(6197) \t: oster\n",
        "# tensor(516) \t: ous\n",
        "# tensor(11) \t: ,\n",
        "# ..."
      ]
    },
    {
      "cell_type": "code",
      "execution_count": 5,
      "id": "a273853c-f112-4bd0-b54c-e80d6e42580b",
      "metadata": {
        "colab": {
          "base_uri": "https://localhost:8080/"
        },
        "id": "a273853c-f112-4bd0-b54c-e80d6e42580b",
        "outputId": "6127c2f8-0817-419d-c883-7925568d3269"
      },
      "outputs": [
        {
          "output_type": "stream",
          "name": "stdout",
          "text": [
            "tensor([[   40, 14267,  1973,   262]])\n",
            "tensor(40) \t: I\n",
            "tensor(14267) \t:  skip\n",
            "tensor(1973) \t:  across\n",
            "tensor(262) \t:  the\n"
          ]
        }
      ],
      "source": [
        "from transformers import AutoTokenizer\n",
        "\n",
        "# Load the GPT-2 tokenizer\n",
        "tokenizer = AutoTokenizer.from_pretrained(\"gpt2\")\n",
        "\n",
        "# Tokenize the input text\n",
        "input_ids = tokenizer(\"I skip across the\", return_tensors=\"pt\").input_ids\n",
        "print(input_ids)\n",
        "# Output: tensor([[1026,  373,  257, 3223,  290, 6388,   88]])\n",
        "\n",
        "# Decode the tokens back into text\n",
        "for t in input_ids[0]:\n",
        "    print(t, \"\\t:\", tokenizer.decode(t))\n",
        ""
      ]
    },
    {
      "cell_type": "markdown",
      "id": "5840d9a8-cbc5-40b7-a31b-043ae6bbb559",
      "metadata": {
        "id": "5840d9a8-cbc5-40b7-a31b-043ae6bbb559"
      },
      "source": [
        "As shown, the tokenizer splits the input string into a series of tokens, each assigned a unique ID. Most words are represented by a single token, but longer words (or even shorter ones!) can be split into multiple tokens. Play around with this!\n",
        "\n",
        "### Training Tokenizers vs. Training Models\n",
        "\n",
        "It's important to note that training tokenizers differs from training models. Training a model is a stochastic (non-deterministic) process, while training a tokenizer is deterministic and statistical. The tokenizer learns which subwords to use based on the dataset, a design decision of the tokenization algorithm.\n",
        "\n",
        "Popular subword tokenization approaches include Byte-level BPE (used in GPT-2), WordPiece, and SentencePiece. Each method has its advantages and is chosen based on the specific needs of the model and dataset.\n",
        "\n",
        "By understanding tokenization, we can better appreciate how models process text and generate meaningful outputs."
      ]
    },
    {
      "cell_type": "markdown",
      "id": "608e9c53-a7f4-47a5-91ce-0325e972b8b3",
      "metadata": {
        "id": "608e9c53-a7f4-47a5-91ce-0325e972b8b3"
      },
      "source": [
        "## Predicting Probabilities\n",
        "\n",
        "\n",
        "### Loading the Model\n",
        "\n",
        "First, we need to load the GPT-2 model. Here's how you do it:"
      ]
    },
    {
      "cell_type": "code",
      "execution_count": 7,
      "id": "4bfde49d-486f-435d-a5b6-233f49626b09",
      "metadata": {
        "colab": {
          "base_uri": "https://localhost:8080/",
          "height": 81,
          "referenced_widgets": [
            "a1490e0b132d4e9a9185a49e544c32cc",
            "94c4f640694e4d238a3396836d3291b1",
            "56d42b965d5648939ac1213a70f77813",
            "5c0c24e9ec54434db6e97d8633393852",
            "3e5ce61a8f51426ca56d7d073ac27d7b",
            "392e6589717a435d820dea429b3eea8b",
            "e7d60654af7f4ca5817d8100731b8245",
            "b69e2cd652504c0b81c1617ebf379e4c",
            "6bbd64961ec4496aa8318bf0e26b2c2a",
            "c261248f63ff493696a4cdf4e4263272",
            "514085ffd83249e28163d6f01c0fc0c2",
            "cbbe0b5842a644829331119570aaab6e",
            "1a5e3a79ee7e41548170d3fda96ce55d",
            "be91e02cb8c146949560f2871c78c1b2",
            "840abd9a75c242c2babe852027da00f3",
            "5090c17591604a999c673f93613d97d4",
            "4b91c71d491d44ae90d9603706aade40",
            "89f53e4dcdc74631bd7cb0303dd40644",
            "dfd4b0daff904af38b311c16b89625ed",
            "4db5ab13952046e7a7a5a9c9e4ea34c3",
            "fa2bc6fd0a864d52ba7eb172857606ee",
            "6ae064a37cbf40ba8d26a0f0b5414c51"
          ]
        },
        "id": "4bfde49d-486f-435d-a5b6-233f49626b09",
        "outputId": "504bb5c1-4394-43b1-dbe9-7ab21173b64a"
      },
      "outputs": [
        {
          "output_type": "display_data",
          "data": {
            "text/plain": [
              "model.safetensors:   0%|          | 0.00/548M [00:00<?, ?B/s]"
            ],
            "application/vnd.jupyter.widget-view+json": {
              "version_major": 2,
              "version_minor": 0,
              "model_id": "a1490e0b132d4e9a9185a49e544c32cc"
            }
          },
          "metadata": {}
        },
        {
          "output_type": "display_data",
          "data": {
            "text/plain": [
              "generation_config.json:   0%|          | 0.00/124 [00:00<?, ?B/s]"
            ],
            "application/vnd.jupyter.widget-view+json": {
              "version_major": 2,
              "version_minor": 0,
              "model_id": "cbbe0b5842a644829331119570aaab6e"
            }
          },
          "metadata": {}
        }
      ],
      "source": [
        "# Similarly as with the AutoTokenizer\n",
        "# we can use the AutoModelFor* + TAB\n",
        "# to load the model required\n",
        "# Note that the model and the tokenized must match\n",
        "# which is achieved with the model string \"gpt2\" we pass.\n",
        "from transformers import AutoModelForCausalLM\n",
        "\n",
        "gpt2 = AutoModelForCausalLM.from_pretrained(\"gpt2\")\n",
        ""
      ]
    },
    {
      "cell_type": "markdown",
      "id": "48000060-6f30-4243-90e9-52416c6bebcd",
      "metadata": {
        "id": "48000060-6f30-4243-90e9-52416c6bebcd"
      },
      "source": [
        "### Understanding the Tools\n",
        "\n",
        "We used `AutoTokenizer` and `AutoModelForCausalLM` from the `transformers` library. This library supports hundreds of models and their corresponding tokenizers. Instead of memorizing the name of each tokenizer and model class, we use `AutoTokenizer` and `AutoModelFor*`.\n",
        "\n",
        "For example, we use `AutoModelForCausalLM` for the causal language modeling task. The `transformers` library automatically selects the appropriate default classes based on the model's configuration. For GPT-2, this means using `GPT2Tokenizer` and `GPT2LMHeadModel` behind the scenes.\n",
        "\n",
        "### Feeding Input to the Model\n",
        "\n",
        "If we feed the tokenized sentence from the previous section into the model, we get a result back with 50,257 values for each token in the input string. Here’s how we do it:"
      ]
    },
    {
      "cell_type": "code",
      "execution_count": 8,
      "id": "1c87d60b-8c98-43ce-96af-495f95f2668e",
      "metadata": {
        "colab": {
          "base_uri": "https://localhost:8080/"
        },
        "id": "1c87d60b-8c98-43ce-96af-495f95f2668e",
        "outputId": "f7b47430-2524-4b50-96a5-a92ffe15b1c0"
      },
      "outputs": [
        {
          "output_type": "execute_result",
          "data": {
            "text/plain": [
              "torch.Size([1, 4, 50257])"
            ]
          },
          "metadata": {},
          "execution_count": 8
        }
      ],
      "source": [
        "outputs = gpt2(input_ids)\n",
        "outputs.logits.shape\n",
        "# torch.Size([1, 4, 50257])\n",
        "# 1: number of batches\n",
        "# 4: sequence length, i.e., number of tokens in \"I skip across the\"\n",
        "# 50257: vocabulary sized\n",
        "# logits: raw outputs from the model, we can convert them to ps\n",
        "# IMPORTANT: the length of the output sequence is the same as the input length, but:\n",
        "# - the first output tensor/token is the 2nd in the input sequence\n",
        "# - the last output tensor/token is the NEW token!"
      ]
    },
    {
      "cell_type": "markdown",
      "id": "23270fa8-0617-4592-82b4-30cfe86d5ed4",
      "metadata": {
        "id": "23270fa8-0617-4592-82b4-30cfe86d5ed4"
      },
      "source": [
        "- **First Dimension**: Number of batches (1 because we only ran a single sequence through the model).\n",
        "- **Second Dimension**: Sequence length (number of tokens in the input sequence, 4 in our case).\n",
        "- **Third Dimension**: Vocabulary size (~50,000).\n",
        "\n",
        "These are the raw model outputs, or logits, corresponding to the tokens in the vocabulary. For each input token, the model predicts the likelihood of each token in the vocabulary continuing the sequence. Higher logits mean the model considers that token a more likely continuation.\n",
        "\n",
        "### Converting Logits to Probabilities\n",
        "\n",
        "Logits are the raw outputs of the model, essentially a list of numbers like [0.1, 0.2, 0.01, ...]. We can use these logits to select the most likely token to continue the sequence. Let's see how we do that."
      ]
    },
    {
      "cell_type": "markdown",
      "id": "e1845ee8-7598-433a-91f4-de90c3eddf6e",
      "metadata": {
        "id": "e1845ee8-7598-433a-91f4-de90c3eddf6e"
      },
      "source": [
        "### Finding the Most Likely Next Token\n",
        "\n",
        "To focus on the logits for the entire input sentence and predict the next word, we find the index of the token with the highest value using the `argmax()` method:"
      ]
    },
    {
      "cell_type": "code",
      "execution_count": 11,
      "id": "0fbaec0b-7c9d-4056-8e80-9759633d26eb",
      "metadata": {
        "colab": {
          "base_uri": "https://localhost:8080/"
        },
        "id": "0fbaec0b-7c9d-4056-8e80-9759633d26eb",
        "outputId": "7ea7ea3c-b5b4-4e1a-a0f7-3706b3222ab1"
      },
      "outputs": [
        {
          "output_type": "execute_result",
          "data": {
            "text/plain": [
              "tensor(1627)"
            ]
          },
          "metadata": {},
          "execution_count": 11
        }
      ],
      "source": [
        "final_logits = gpt2(input_ids).logits[0, -1]  # The last set of logits\n",
        "final_logits.argmax()"
      ]
    },
    {
      "cell_type": "code",
      "execution_count": 13,
      "id": "4fa36745-ee7d-498a-ba90-ca1e66e37b6c",
      "metadata": {
        "colab": {
          "base_uri": "https://localhost:8080/",
          "height": 35
        },
        "id": "4fa36745-ee7d-498a-ba90-ca1e66e37b6c",
        "outputId": "9c6d10a9-bb31-4293-f0eb-1980111622e9"
      },
      "outputs": [
        {
          "output_type": "execute_result",
          "data": {
            "text/plain": [
              "' line'"
            ],
            "application/vnd.google.colaboratory.intrinsic+json": {
              "type": "string"
            }
          },
          "metadata": {},
          "execution_count": 13
        }
      ],
      "source": [
        "tokenizer.decode(final_logits.argmax()) # We decode the most probable NEW token"
      ]
    },
    {
      "cell_type": "markdown",
      "id": "0c1d79f8-27f9-4790-87fd-0989075465c6",
      "metadata": {
        "id": "0c1d79f8-27f9-4790-87fd-0989075465c6"
      },
      "source": [
        "Notice how the model begins a new word with a whitespace and an \"street\". This prediction makes sense given the input sentence since it ended and its time to start another sentence. The model learns to pay attention to other tokens using an algorithm called self-attention, the fundamental building block of transformers. Self-attention allows the model to determine the significance of each token in contributing to the overall meaning of the phrase.\n",
        "\n",
        "### Note on Transformer Models\n",
        "\n",
        "Transformer models contain multiple attention layers, each specializing in different aspects of the input. Unlike heuristic systems, these features are learned during training rather than being predefined.\n",
        "\n",
        "By understanding how GPT-2 predicts probabilities and generates text, we can better appreciate the power and intricacy of transformer-based language models.\n",
        "\n"
      ]
    },
    {
      "cell_type": "markdown",
      "id": "269f18e4-655a-4b74-bfa9-027b819915e5",
      "metadata": {
        "id": "269f18e4-655a-4b74-bfa9-027b819915e5"
      },
      "source": [
        "## Exploring Other Token Candidates\n",
        "\n",
        "Now, let's explore which other tokens were potential candidates by selecting the top 10 values. This will give us insight into the model's thought process and the alternatives it considered.\n",
        "\n",
        "First, we'll use PyTorch to get the top 10 logits:"
      ]
    },
    {
      "cell_type": "code",
      "execution_count": null,
      "id": "ff8896a4-5270-4af9-b328-d76f65f1cdb2",
      "metadata": {
        "id": "ff8896a4-5270-4af9-b328-d76f65f1cdb2",
        "outputId": "b755f9e9-4899-4c2a-f860-14f354629616"
      },
      "outputs": [
        {
          "name": "stdout",
          "output_type": "stream",
          "text": [
            " line\n",
            " street\n",
            " river\n",
            " room\n",
            " pond\n",
            " bridge\n",
            " border\n",
            " country\n",
            " road\n",
            " board\n"
          ]
        }
      ],
      "source": [
        "import torch\n",
        "\n",
        "# We can also check the top 10 NEW tokens\n",
        "top10_logits = torch.topk(final_logits, 10)\n",
        "for index in top10_logits.indices:\n",
        "    print(tokenizer.decode(index))"
      ]
    },
    {
      "cell_type": "markdown",
      "id": "12215042-9dd5-4387-9bd8-e11d4a87c223",
      "metadata": {
        "id": "12215042-9dd5-4387-9bd8-e11d4a87c223"
      },
      "source": [
        "### Converting Logits to Probabilities\n",
        "\n",
        "Logits are raw model outputs that don't represent probabilities. To understand the model's confidence in each prediction, we need to convert these logits into probabilities. This is done by comparing each value to all other predicted values and normalizing them so that their sum equals 1. This process is called the `softmax` operation.\n",
        "\n",
        "Here's the code that uses `softmax` to print out the top 10 most likely tokens along with their probabilities:"
      ]
    },
    {
      "cell_type": "code",
      "execution_count": null,
      "id": "67049280-068b-42f9-b0f8-e57047cfb790",
      "metadata": {
        "id": "67049280-068b-42f9-b0f8-e57047cfb790",
        "outputId": "b38d034b-0a54-47d0-b934-7f745f009b8d"
      },
      "outputs": [
        {
          "name": "stdout",
          "output_type": "stream",
          "text": [
            " line      3.6%\n",
            " street    2.7%\n",
            " river     2.2%\n",
            " room      1.9%\n",
            " pond      1.8%\n",
            " bridge    1.7%\n",
            " border    1.7%\n",
            " country   1.7%\n",
            " road      1.6%\n",
            " board     0.9%\n"
          ]
        }
      ],
      "source": [
        "top10 = torch.topk(final_logits.softmax(dim=0), 10)\n",
        "for value, index in zip(top10.values, top10.indices):\n",
        "    print(f\"{tokenizer.decode(index):<10} {value.item():.1%}\")"
      ]
    },
    {
      "cell_type": "markdown",
      "id": "464e83a9-4b13-46dc-8444-e5469cdaa4f3",
      "metadata": {
        "id": "464e83a9-4b13-46dc-8444-e5469cdaa4f3"
      },
      "source": [
        "### Experimenting with Predictions\n",
        "\n",
        "Before diving deeper, it's beneficial to experiment with the code above to understand how the model's predictions vary with different inputs. Here are some ideas to try:\n",
        "\n",
        "1. **Change a Few Words**: Modify the adjectives in the input string, such as \"dark\" and \"stormy\". Observe how the model's predictions change. Does it still predict \"night\"? How do the probabilities for each token shift?\n",
        "\n",
        "2. **Alter the Input String**: Try different input strings altogether. For instance, instead of \"It was a dark and stormy\", use \"It was a sunny and bright\". Do you agree with the model's new predictions? How do they differ?\n",
        "\n",
        "3. **Check Grammar**: Provide an input string that is not grammatically correct. For example, use \"It was a dark stormy and\". How does the model handle it? Look at the probabilities of the top predictions. Do the probabilities still make sense?\n",
        "\n",
        "By experimenting with these changes, you can gain a deeper understanding of how the model processes language and how sensitive it is to different inputs. This hands-on approach will help you appreciate the intricacies of language modeling and the strengths and limitations of transformer models like GPT-2."
      ]
    },
    {
      "cell_type": "markdown",
      "id": "48ebbead-95ac-44da-b03a-d34797fcdfe4",
      "metadata": {
        "id": "48ebbead-95ac-44da-b03a-d34797fcdfe4"
      },
      "source": [
        "## Generating Text\n",
        "\n",
        "Now that we understand how the model predicts the next token in a sequence, generating text becomes straightforward. By repeatedly feeding the model's predictions back into itself, we can extend the input text. The `transformers` library makes this easy with the `generate()` method, designed specifically for auto-regressive models like GPT-2. Let's explore how this works with an example.\n",
        "\n",
        "### Basic Text Generation\n",
        "\n",
        "Here’s how to use the `generate()` method to produce text:"
      ]
    },
    {
      "cell_type": "code",
      "execution_count": null,
      "id": "950ecbb6-ae54-4964-b848-578b6ec33d3b",
      "metadata": {
        "id": "950ecbb6-ae54-4964-b848-578b6ec33d3b",
        "outputId": "70c61ced-0bce-4768-bfcd-0576560abb9e"
      },
      "outputs": [
        {
          "name": "stderr",
          "output_type": "stream",
          "text": [
            "The attention mask and the pad token id were not set. As a consequence, you may observe unexpected behavior. Please pass your input's `attention_mask` to obtain reliable results.\n",
            "Setting `pad_token_id` to `eos_token_id`:50256 for open-end generation.\n"
          ]
        },
        {
          "name": "stdout",
          "output_type": "stream",
          "text": [
            "Input IDs: tensor([   40, 14267,  1973,   262])\n",
            "Output IDs: tensor([[   40, 14267,  1973,   262,  1627,   284,   262,  1306,  2665,    13,\n",
            "           198,   198,   464,   717,  1517,   284,  3465,   318,   326,   262,\n",
            "           717,  1627,   318,   257]])\n",
            "Generated text: I skip across the line to the next section.\n",
            "\n",
            "The first thing to note is that the first line is a\n"
          ]
        }
      ],
      "source": [
        "\n",
        "output_ids = gpt2.generate(input_ids, max_new_tokens=20)\n",
        "decoded_text = tokenizer.decode(output_ids[0])\n",
        "\n",
        "print(\"Input IDs:\", input_ids[0])\n",
        "print(\"Output IDs:\", output_ids)\n",
        "print(f\"Generated text: {decoded_text}\")\n",
        ""
      ]
    },
    {
      "cell_type": "markdown",
      "id": "91db9339-6b60-4a2e-baff-86622cf340cf",
      "metadata": {
        "id": "91db9339-6b60-4a2e-baff-86622cf340cf"
      },
      "source": [
        "When we call the `generate()` method, it abstracts away the details of making multiple forward passes, predicting the next token, and appending it to the input sequence. The result is a sequence of token IDs, including both the input and the new tokens generated by the model. Using the `tokenizer.decode()` method, we can convert these token IDs back into readable text.\n",
        "\n",
        "### Different Strategies for Text Generation\n",
        "\n",
        "While the `generate()` method simplifies text generation, the strategy we use can significantly impact the quality of the generated text. The default approach, known as greedy decoding, always picks the most likely next token. This method is simple but can lead to suboptimal results, especially for longer sequences. Let's look at why and explore other strategies.\n",
        "\n",
        "#### Greedy Decoding\n",
        "\n",
        "Greedy decoding selects the most likely next token at each step:"
      ]
    },
    {
      "cell_type": "code",
      "execution_count": null,
      "id": "b484a7cb-b980-46c7-bae0-88e2c197ecd0",
      "metadata": {
        "id": "b484a7cb-b980-46c7-bae0-88e2c197ecd0",
        "outputId": "c2d1ab5f-e381-4ac4-bf6e-69a33e77a407"
      },
      "outputs": [
        {
          "name": "stderr",
          "output_type": "stream",
          "text": [
            "The attention mask and the pad token id were not set. As a consequence, you may observe unexpected behavior. Please pass your input's `attention_mask` to obtain reliable results.\n",
            "Setting `pad_token_id` to `eos_token_id`:50256 for open-end generation.\n"
          ]
        },
        {
          "name": "stdout",
          "output_type": "stream",
          "text": [
            "Generated text: I skip across the line to the next section.\n",
            "\n",
            "The first thing to note is that the first line is a\n"
          ]
        }
      ],
      "source": [
        "\n",
        "output_ids = gpt2.generate(input_ids, max_new_tokens=20)\n",
        "decoded_text = tokenizer.decode(output_ids[0])\n",
        "\n",
        "print(f\"Generated text: {decoded_text}\")\n",
        ""
      ]
    },
    {
      "cell_type": "markdown",
      "id": "3323b27d-5b1c-439e-9520-5fe903a1a760",
      "metadata": {
        "id": "3323b27d-5b1c-439e-9520-5fe903a1a760"
      },
      "source": [
        "While straightforward, this method can miss more coherent sequences because it doesn't consider the overall context of the sentence. For example, given the starting phrase \"Sky,\" it might predict \"blue\" as the next word, missing out on a more contextually rich phrase like \"Sky rockets soar.\"\n",
        "\n",
        "#### Beam Search\n",
        "\n",
        "Beam search keeps track of multiple hypotheses during generation, choosing the most likely overall sequence:"
      ]
    },
    {
      "cell_type": "code",
      "execution_count": null,
      "id": "342324fa-6f30-4d7d-81cb-e01371dd7495",
      "metadata": {
        "id": "342324fa-6f30-4d7d-81cb-e01371dd7495",
        "outputId": "e2aada65-d1ee-4622-f557-b530657a582f"
      },
      "outputs": [
        {
          "name": "stderr",
          "output_type": "stream",
          "text": [
            "The attention mask and the pad token id were not set. As a consequence, you may observe unexpected behavior. Please pass your input's `attention_mask` to obtain reliable results.\n",
            "Setting `pad_token_id` to `eos_token_id`:50256 for open-end generation.\n"
          ]
        },
        {
          "name": "stdout",
          "output_type": "stream",
          "text": [
            "I skip across the line to the other side of the room.\n",
            "\n",
            "\"What's going on?\" I ask.\n",
            "\n",
            "\"I don't know,\" he says\n"
          ]
        }
      ],
      "source": [
        "\n",
        "beam_output = gpt2.generate(\n",
        "    input_ids,\n",
        "    num_beams=5,\n",
        "    max_new_tokens=30,\n",
        ")\n",
        "\n",
        "print(tokenizer.decode(beam_output[0], skip_special_tokens=True))\n",
        ""
      ]
    },
    {
      "cell_type": "markdown",
      "id": "79433d73-a71b-45cb-a971-cebcf45afc41",
      "metadata": {
        "id": "79433d73-a71b-45cb-a971-cebcf45afc41"
      },
      "source": [
        "Beam search is effective for tasks with predictable output lengths, like summarization or translation. However, it can be slower and sometimes still lead to repetition in open-ended generation tasks.\n",
        "\n",
        "#### Repetition Penalty and Bad Words\n",
        "\n",
        "To address repetition, you can introduce a repetition penalty:"
      ]
    },
    {
      "cell_type": "code",
      "execution_count": null,
      "id": "8ff969e3-26a7-4e09-bfd9-76d9dce6ff2e",
      "metadata": {
        "id": "8ff969e3-26a7-4e09-bfd9-76d9dce6ff2e",
        "outputId": "aa7b4360-2284-4dd8-d2d4-74c9c978660e"
      },
      "outputs": [
        {
          "name": "stderr",
          "output_type": "stream",
          "text": [
            "The attention mask and the pad token id were not set. As a consequence, you may observe unexpected behavior. Please pass your input's `attention_mask` to obtain reliable results.\n",
            "Setting `pad_token_id` to `eos_token_id`:50256 for open-end generation.\n"
          ]
        },
        {
          "name": "stdout",
          "output_type": "stream",
          "text": [
            "I skip across the street to the other side of the street, and I see a man with a gun in his hand. He says, \"I'm going to kill you.\" And I say, \"No\n"
          ]
        }
      ],
      "source": [
        "\n",
        "beam_output = gpt2.generate(\n",
        "    input_ids,\n",
        "    num_beams=5,\n",
        "    repetition_penalty=1.2,\n",
        "    max_new_tokens=38,\n",
        ")\n",
        "\n",
        "print(tokenizer.decode(beam_output[0], skip_special_tokens=True))\n",
        ""
      ]
    },
    {
      "cell_type": "markdown",
      "id": "608ebe63-b753-4c0e-9f81-5a6d6b37d7b0",
      "metadata": {
        "id": "608ebe63-b753-4c0e-9f81-5a6d6b37d7b0"
      },
      "source": [
        "You can also specify `bad_words_ids` to prevent the model from generating certain tokens, such as offensive words.\n",
        "\n",
        "### Sampling Techniques\n",
        "\n",
        "Instead of always picking the most likely next token, sampling introduces randomness by sampling from the probability distribution of the next tokens.\n",
        "\n",
        "#### Basic Sampling"
      ]
    },
    {
      "cell_type": "code",
      "execution_count": null,
      "id": "1541b4ea-3e19-4077-adf8-4117d1b44d01",
      "metadata": {
        "id": "1541b4ea-3e19-4077-adf8-4117d1b44d01",
        "outputId": "cdf9ecf1-b16e-4d1a-a8df-6dea4303f024"
      },
      "outputs": [
        {
          "name": "stderr",
          "output_type": "stream",
          "text": [
            "The attention mask and the pad token id were not set. As a consequence, you may observe unexpected behavior. Please pass your input's `attention_mask` to obtain reliable results.\n",
            "Setting `pad_token_id` to `eos_token_id`:50256 for open-end generation.\n"
          ]
        },
        {
          "name": "stdout",
          "output_type": "stream",
          "text": [
            "I skip across the border until it's available. Here's an overview of some of the growing money diluges:\n",
            "\n",
            "Here's a soothing mug from Keizer\n"
          ]
        }
      ],
      "source": [
        "\n",
        "from transformers import set_seed\n",
        "\n",
        "set_seed(70)\n",
        "\n",
        "sampling_output = gpt2.generate(\n",
        "    input_ids,\n",
        "    do_sample=True,\n",
        "    max_length=34,\n",
        "    top_k=0,  # We'll revisit this parameter\n",
        ")\n",
        "\n",
        "print(tokenizer.decode(sampling_output[0], skip_special_tokens=True))\n",
        ""
      ]
    },
    {
      "cell_type": "markdown",
      "id": "23c9147e-7d9e-433e-92b9-6a61886008fd",
      "metadata": {
        "id": "23c9147e-7d9e-433e-92b9-6a61886008fd"
      },
      "source": [
        "By setting `do_sample=True`, the model picks the next token based on its probability distribution, leading to more diverse and less repetitive text.\n",
        "\n",
        "#### Temperature\n",
        "\n",
        "The `temperature` parameter adjusts the randomness of the distribution:"
      ]
    },
    {
      "cell_type": "code",
      "execution_count": null,
      "id": "4654eea0-d9cd-4d88-b67d-771a19c10e04",
      "metadata": {
        "id": "4654eea0-d9cd-4d88-b67d-771a19c10e04",
        "outputId": "fd8149eb-07e0-4a14-8e2a-83eb437b7baf"
      },
      "outputs": [
        {
          "name": "stderr",
          "output_type": "stream",
          "text": [
            "The attention mask and the pad token id were not set. As a consequence, you may observe unexpected behavior. Please pass your input's `attention_mask` to obtain reliable results.\n",
            "Setting `pad_token_id` to `eos_token_id`:50256 for open-end generation.\n"
          ]
        },
        {
          "name": "stdout",
          "output_type": "stream",
          "text": [
            "I skip across the road to the last stop in the city, and I see a large crowd of people lining thegood road. I have no idea what to expect, but I'm not sure I\n"
          ]
        }
      ],
      "source": [
        "\n",
        "sampling_output = gpt2.generate(\n",
        "    input_ids,\n",
        "    do_sample=True,\n",
        "    temperature=0.4,\n",
        "    max_length=40,\n",
        "    top_k=0,\n",
        ")\n",
        "\n",
        "print(tokenizer.decode(sampling_output[0], skip_special_tokens=True))\n",
        ""
      ]
    },
    {
      "cell_type": "markdown",
      "id": "d4521593-13cd-4143-a1fe-ae450b5ecb83",
      "metadata": {
        "id": "d4521593-13cd-4143-a1fe-ae450b5ecb83"
      },
      "source": [
        "A higher temperature increases randomness, making the text more diverse but potentially less coherent. A lower temperature makes the output more predictable.\n",
        "\n",
        "#### Top-K Sampling\n",
        "\n",
        "Top-K sampling limits the selection to the top K tokens:"
      ]
    },
    {
      "cell_type": "code",
      "execution_count": null,
      "id": "194891af-b4c9-4b36-9a29-e7c2452cb98c",
      "metadata": {
        "id": "194891af-b4c9-4b36-9a29-e7c2452cb98c",
        "outputId": "4fc6ee30-4c8a-47c1-dd92-9b8adff24ad6"
      },
      "outputs": [
        {
          "name": "stderr",
          "output_type": "stream",
          "text": [
            "The attention mask and the pad token id were not set. As a consequence, you may observe unexpected behavior. Please pass your input's `attention_mask` to obtain reliable results.\n",
            "Setting `pad_token_id` to `eos_token_id`:50256 for open-end generation.\n"
          ]
        },
        {
          "name": "stdout",
          "output_type": "stream",
          "text": [
            "I skip across the border, you can get in and out of the U.S. without being caught. You're not going to be charged. You can just get through. It's like a\n"
          ]
        }
      ],
      "source": [
        "\n",
        "sampling_output = gpt2.generate(\n",
        "    input_ids,\n",
        "    do_sample=True,\n",
        "    max_length=40,\n",
        "    top_k=10,\n",
        ")\n",
        "\n",
        "print(tokenizer.decode(sampling_output[0], skip_special_tokens=True))\n",
        ""
      ]
    },
    {
      "cell_type": "markdown",
      "id": "a96efd7d-c540-47b5-8088-376ce6deadc8",
      "metadata": {
        "id": "a96efd7d-c540-47b5-8088-376ce6deadc8"
      },
      "source": [
        "This method ensures that only the most likely tokens are considered, improving quality but possibly reducing diversity.\n",
        "\n",
        "#### Top-P (Nucleus) Sampling\n",
        "\n",
        "Top-P sampling, or nucleus sampling, includes the most likely tokens whose cumulative probability exceeds a threshold:"
      ]
    },
    {
      "cell_type": "code",
      "execution_count": null,
      "id": "59dd5782-272f-4e79-8a7a-5ee6ea284b70",
      "metadata": {
        "id": "59dd5782-272f-4e79-8a7a-5ee6ea284b70",
        "outputId": "da89d4b6-1eef-478e-e42d-a8e327ade18b"
      },
      "outputs": [
        {
          "name": "stderr",
          "output_type": "stream",
          "text": [
            "The attention mask and the pad token id were not set. As a consequence, you may observe unexpected behavior. Please pass your input's `attention_mask` to obtain reliable results.\n",
            "Setting `pad_token_id` to `eos_token_id`:50256 for open-end generation.\n"
          ]
        },
        {
          "name": "stdout",
          "output_type": "stream",
          "text": [
            "I skip across the line from.0906.761 so try using \"REG_SETME\" instead of the initial ones.\n",
            "\n",
            "You should hear small echoing sounds when sliding, especially at\n"
          ]
        }
      ],
      "source": [
        "\n",
        "sampling_output = gpt2.generate(\n",
        "    input_ids,\n",
        "    do_sample=True,\n",
        "    max_length=40,\n",
        "    top_p=0.94,\n",
        "    top_k=0,\n",
        ")\n",
        "\n",
        "print(tokenizer.decode(sampling_output[0], skip_special_tokens=True))\n",
        ""
      ]
    },
    {
      "cell_type": "markdown",
      "id": "ed6c83d8-d4fc-4c7e-97cf-cf6a82afb4c7",
      "metadata": {
        "id": "ed6c83d8-d4fc-4c7e-97cf-cf6a82afb4c7"
      },
      "source": [
        "Top-P sampling dynamically chooses the number of tokens based on their cumulative probability, balancing quality and diversity.\n",
        "\n",
        "### Experimenting with Generation Strategies\n",
        "\n",
        "There’s no one-size-fits-all approach to text generation. Experiment with different parameters to see what works best for your specific use case. Here are some suggestions:\n",
        "\n",
        "1. **Parameter Tuning**: Adjust parameters like `num_beams`, `repetition_penalty`, `top_p`, and `top_k` to see how they impact the generated text.\n",
        "2. **Avoiding Repetition**: Use `no_repeat_ngram_size` to prevent the model from repeating the same sequence of words.\n",
        "3. **Advanced Techniques**: Explore newer methods like contrastive search, which balances probability and contextual similarity to generate coherent text while avoiding repetition."
      ]
    },
    {
      "cell_type": "code",
      "execution_count": null,
      "id": "91dc7756-ffcb-40be-bcfe-e1dc5f673fa9",
      "metadata": {
        "id": "91dc7756-ffcb-40be-bcfe-e1dc5f673fa9"
      },
      "outputs": [],
      "source": []
    }
  ],
  "metadata": {
    "kernelspec": {
      "display_name": "Python 3 (ipykernel)",
      "language": "python",
      "name": "python3"
    },
    "language_info": {
      "codemirror_mode": {
        "name": "ipython",
        "version": 3
      },
      "file_extension": ".py",
      "mimetype": "text/x-python",
      "name": "python",
      "nbconvert_exporter": "python",
      "pygments_lexer": "ipython3",
      "version": "3.9.12"
    },
    "colab": {
      "provenance": []
    },
    "widgets": {
      "application/vnd.jupyter.widget-state+json": {
        "c3608b980eb1443da069408f2f780fa8": {
          "model_module": "@jupyter-widgets/controls",
          "model_name": "HBoxModel",
          "model_module_version": "1.5.0",
          "state": {
            "_dom_classes": [],
            "_model_module": "@jupyter-widgets/controls",
            "_model_module_version": "1.5.0",
            "_model_name": "HBoxModel",
            "_view_count": null,
            "_view_module": "@jupyter-widgets/controls",
            "_view_module_version": "1.5.0",
            "_view_name": "HBoxView",
            "box_style": "",
            "children": [
              "IPY_MODEL_e26812a9bb04433789dfc2f21ec02bd5",
              "IPY_MODEL_431ede1338934657a97aeba52c3cc623",
              "IPY_MODEL_d32ec45f260e41e6b3202f9b2be98974"
            ],
            "layout": "IPY_MODEL_c24e624ca24048a295a2954bfe331d70"
          }
        },
        "e26812a9bb04433789dfc2f21ec02bd5": {
          "model_module": "@jupyter-widgets/controls",
          "model_name": "HTMLModel",
          "model_module_version": "1.5.0",
          "state": {
            "_dom_classes": [],
            "_model_module": "@jupyter-widgets/controls",
            "_model_module_version": "1.5.0",
            "_model_name": "HTMLModel",
            "_view_count": null,
            "_view_module": "@jupyter-widgets/controls",
            "_view_module_version": "1.5.0",
            "_view_name": "HTMLView",
            "description": "",
            "description_tooltip": null,
            "layout": "IPY_MODEL_74e913fe584b403ab4960962460bc37e",
            "placeholder": "​",
            "style": "IPY_MODEL_bdd9b8e38d8a4e07922264dc4bb07e42",
            "value": "tokenizer_config.json: 100%"
          }
        },
        "431ede1338934657a97aeba52c3cc623": {
          "model_module": "@jupyter-widgets/controls",
          "model_name": "FloatProgressModel",
          "model_module_version": "1.5.0",
          "state": {
            "_dom_classes": [],
            "_model_module": "@jupyter-widgets/controls",
            "_model_module_version": "1.5.0",
            "_model_name": "FloatProgressModel",
            "_view_count": null,
            "_view_module": "@jupyter-widgets/controls",
            "_view_module_version": "1.5.0",
            "_view_name": "ProgressView",
            "bar_style": "success",
            "description": "",
            "description_tooltip": null,
            "layout": "IPY_MODEL_5b267770930b47169f9b5f09b04ad70b",
            "max": 26,
            "min": 0,
            "orientation": "horizontal",
            "style": "IPY_MODEL_b6edb7ca88f142bdb90a673269fd6f6b",
            "value": 26
          }
        },
        "d32ec45f260e41e6b3202f9b2be98974": {
          "model_module": "@jupyter-widgets/controls",
          "model_name": "HTMLModel",
          "model_module_version": "1.5.0",
          "state": {
            "_dom_classes": [],
            "_model_module": "@jupyter-widgets/controls",
            "_model_module_version": "1.5.0",
            "_model_name": "HTMLModel",
            "_view_count": null,
            "_view_module": "@jupyter-widgets/controls",
            "_view_module_version": "1.5.0",
            "_view_name": "HTMLView",
            "description": "",
            "description_tooltip": null,
            "layout": "IPY_MODEL_a6b22d2c1ae24e52837d2a93fb39a20b",
            "placeholder": "​",
            "style": "IPY_MODEL_0f8e5445334243b292d5bc3862208a99",
            "value": " 26.0/26.0 [00:00&lt;00:00, 780B/s]"
          }
        },
        "c24e624ca24048a295a2954bfe331d70": {
          "model_module": "@jupyter-widgets/base",
          "model_name": "LayoutModel",
          "model_module_version": "1.2.0",
          "state": {
            "_model_module": "@jupyter-widgets/base",
            "_model_module_version": "1.2.0",
            "_model_name": "LayoutModel",
            "_view_count": null,
            "_view_module": "@jupyter-widgets/base",
            "_view_module_version": "1.2.0",
            "_view_name": "LayoutView",
            "align_content": null,
            "align_items": null,
            "align_self": null,
            "border": null,
            "bottom": null,
            "display": null,
            "flex": null,
            "flex_flow": null,
            "grid_area": null,
            "grid_auto_columns": null,
            "grid_auto_flow": null,
            "grid_auto_rows": null,
            "grid_column": null,
            "grid_gap": null,
            "grid_row": null,
            "grid_template_areas": null,
            "grid_template_columns": null,
            "grid_template_rows": null,
            "height": null,
            "justify_content": null,
            "justify_items": null,
            "left": null,
            "margin": null,
            "max_height": null,
            "max_width": null,
            "min_height": null,
            "min_width": null,
            "object_fit": null,
            "object_position": null,
            "order": null,
            "overflow": null,
            "overflow_x": null,
            "overflow_y": null,
            "padding": null,
            "right": null,
            "top": null,
            "visibility": null,
            "width": null
          }
        },
        "74e913fe584b403ab4960962460bc37e": {
          "model_module": "@jupyter-widgets/base",
          "model_name": "LayoutModel",
          "model_module_version": "1.2.0",
          "state": {
            "_model_module": "@jupyter-widgets/base",
            "_model_module_version": "1.2.0",
            "_model_name": "LayoutModel",
            "_view_count": null,
            "_view_module": "@jupyter-widgets/base",
            "_view_module_version": "1.2.0",
            "_view_name": "LayoutView",
            "align_content": null,
            "align_items": null,
            "align_self": null,
            "border": null,
            "bottom": null,
            "display": null,
            "flex": null,
            "flex_flow": null,
            "grid_area": null,
            "grid_auto_columns": null,
            "grid_auto_flow": null,
            "grid_auto_rows": null,
            "grid_column": null,
            "grid_gap": null,
            "grid_row": null,
            "grid_template_areas": null,
            "grid_template_columns": null,
            "grid_template_rows": null,
            "height": null,
            "justify_content": null,
            "justify_items": null,
            "left": null,
            "margin": null,
            "max_height": null,
            "max_width": null,
            "min_height": null,
            "min_width": null,
            "object_fit": null,
            "object_position": null,
            "order": null,
            "overflow": null,
            "overflow_x": null,
            "overflow_y": null,
            "padding": null,
            "right": null,
            "top": null,
            "visibility": null,
            "width": null
          }
        },
        "bdd9b8e38d8a4e07922264dc4bb07e42": {
          "model_module": "@jupyter-widgets/controls",
          "model_name": "DescriptionStyleModel",
          "model_module_version": "1.5.0",
          "state": {
            "_model_module": "@jupyter-widgets/controls",
            "_model_module_version": "1.5.0",
            "_model_name": "DescriptionStyleModel",
            "_view_count": null,
            "_view_module": "@jupyter-widgets/base",
            "_view_module_version": "1.2.0",
            "_view_name": "StyleView",
            "description_width": ""
          }
        },
        "5b267770930b47169f9b5f09b04ad70b": {
          "model_module": "@jupyter-widgets/base",
          "model_name": "LayoutModel",
          "model_module_version": "1.2.0",
          "state": {
            "_model_module": "@jupyter-widgets/base",
            "_model_module_version": "1.2.0",
            "_model_name": "LayoutModel",
            "_view_count": null,
            "_view_module": "@jupyter-widgets/base",
            "_view_module_version": "1.2.0",
            "_view_name": "LayoutView",
            "align_content": null,
            "align_items": null,
            "align_self": null,
            "border": null,
            "bottom": null,
            "display": null,
            "flex": null,
            "flex_flow": null,
            "grid_area": null,
            "grid_auto_columns": null,
            "grid_auto_flow": null,
            "grid_auto_rows": null,
            "grid_column": null,
            "grid_gap": null,
            "grid_row": null,
            "grid_template_areas": null,
            "grid_template_columns": null,
            "grid_template_rows": null,
            "height": null,
            "justify_content": null,
            "justify_items": null,
            "left": null,
            "margin": null,
            "max_height": null,
            "max_width": null,
            "min_height": null,
            "min_width": null,
            "object_fit": null,
            "object_position": null,
            "order": null,
            "overflow": null,
            "overflow_x": null,
            "overflow_y": null,
            "padding": null,
            "right": null,
            "top": null,
            "visibility": null,
            "width": null
          }
        },
        "b6edb7ca88f142bdb90a673269fd6f6b": {
          "model_module": "@jupyter-widgets/controls",
          "model_name": "ProgressStyleModel",
          "model_module_version": "1.5.0",
          "state": {
            "_model_module": "@jupyter-widgets/controls",
            "_model_module_version": "1.5.0",
            "_model_name": "ProgressStyleModel",
            "_view_count": null,
            "_view_module": "@jupyter-widgets/base",
            "_view_module_version": "1.2.0",
            "_view_name": "StyleView",
            "bar_color": null,
            "description_width": ""
          }
        },
        "a6b22d2c1ae24e52837d2a93fb39a20b": {
          "model_module": "@jupyter-widgets/base",
          "model_name": "LayoutModel",
          "model_module_version": "1.2.0",
          "state": {
            "_model_module": "@jupyter-widgets/base",
            "_model_module_version": "1.2.0",
            "_model_name": "LayoutModel",
            "_view_count": null,
            "_view_module": "@jupyter-widgets/base",
            "_view_module_version": "1.2.0",
            "_view_name": "LayoutView",
            "align_content": null,
            "align_items": null,
            "align_self": null,
            "border": null,
            "bottom": null,
            "display": null,
            "flex": null,
            "flex_flow": null,
            "grid_area": null,
            "grid_auto_columns": null,
            "grid_auto_flow": null,
            "grid_auto_rows": null,
            "grid_column": null,
            "grid_gap": null,
            "grid_row": null,
            "grid_template_areas": null,
            "grid_template_columns": null,
            "grid_template_rows": null,
            "height": null,
            "justify_content": null,
            "justify_items": null,
            "left": null,
            "margin": null,
            "max_height": null,
            "max_width": null,
            "min_height": null,
            "min_width": null,
            "object_fit": null,
            "object_position": null,
            "order": null,
            "overflow": null,
            "overflow_x": null,
            "overflow_y": null,
            "padding": null,
            "right": null,
            "top": null,
            "visibility": null,
            "width": null
          }
        },
        "0f8e5445334243b292d5bc3862208a99": {
          "model_module": "@jupyter-widgets/controls",
          "model_name": "DescriptionStyleModel",
          "model_module_version": "1.5.0",
          "state": {
            "_model_module": "@jupyter-widgets/controls",
            "_model_module_version": "1.5.0",
            "_model_name": "DescriptionStyleModel",
            "_view_count": null,
            "_view_module": "@jupyter-widgets/base",
            "_view_module_version": "1.2.0",
            "_view_name": "StyleView",
            "description_width": ""
          }
        },
        "b6f1d57ead044c5b87f95298888231ab": {
          "model_module": "@jupyter-widgets/controls",
          "model_name": "HBoxModel",
          "model_module_version": "1.5.0",
          "state": {
            "_dom_classes": [],
            "_model_module": "@jupyter-widgets/controls",
            "_model_module_version": "1.5.0",
            "_model_name": "HBoxModel",
            "_view_count": null,
            "_view_module": "@jupyter-widgets/controls",
            "_view_module_version": "1.5.0",
            "_view_name": "HBoxView",
            "box_style": "",
            "children": [
              "IPY_MODEL_cce1833e3bc3403fa58ce3aa339552fe",
              "IPY_MODEL_d3f9533f5aef421fa171fea03a4c0efe",
              "IPY_MODEL_ca82b0ac74194f64ae83e62251629da9"
            ],
            "layout": "IPY_MODEL_251a61290da849248fb7f6408d042ae5"
          }
        },
        "cce1833e3bc3403fa58ce3aa339552fe": {
          "model_module": "@jupyter-widgets/controls",
          "model_name": "HTMLModel",
          "model_module_version": "1.5.0",
          "state": {
            "_dom_classes": [],
            "_model_module": "@jupyter-widgets/controls",
            "_model_module_version": "1.5.0",
            "_model_name": "HTMLModel",
            "_view_count": null,
            "_view_module": "@jupyter-widgets/controls",
            "_view_module_version": "1.5.0",
            "_view_name": "HTMLView",
            "description": "",
            "description_tooltip": null,
            "layout": "IPY_MODEL_b0a9cb1805334f8aa4f7ef2823df26b4",
            "placeholder": "​",
            "style": "IPY_MODEL_f85aca2142bd4db08d9b6f548274eb7c",
            "value": "config.json: 100%"
          }
        },
        "d3f9533f5aef421fa171fea03a4c0efe": {
          "model_module": "@jupyter-widgets/controls",
          "model_name": "FloatProgressModel",
          "model_module_version": "1.5.0",
          "state": {
            "_dom_classes": [],
            "_model_module": "@jupyter-widgets/controls",
            "_model_module_version": "1.5.0",
            "_model_name": "FloatProgressModel",
            "_view_count": null,
            "_view_module": "@jupyter-widgets/controls",
            "_view_module_version": "1.5.0",
            "_view_name": "ProgressView",
            "bar_style": "success",
            "description": "",
            "description_tooltip": null,
            "layout": "IPY_MODEL_b5d29d6874a04471a12bff3cb71c2334",
            "max": 665,
            "min": 0,
            "orientation": "horizontal",
            "style": "IPY_MODEL_27e3bb13ae414c6da4875530d8f201e2",
            "value": 665
          }
        },
        "ca82b0ac74194f64ae83e62251629da9": {
          "model_module": "@jupyter-widgets/controls",
          "model_name": "HTMLModel",
          "model_module_version": "1.5.0",
          "state": {
            "_dom_classes": [],
            "_model_module": "@jupyter-widgets/controls",
            "_model_module_version": "1.5.0",
            "_model_name": "HTMLModel",
            "_view_count": null,
            "_view_module": "@jupyter-widgets/controls",
            "_view_module_version": "1.5.0",
            "_view_name": "HTMLView",
            "description": "",
            "description_tooltip": null,
            "layout": "IPY_MODEL_24c4ae632dfe48b38e256db04bcc8cd6",
            "placeholder": "​",
            "style": "IPY_MODEL_0ac26f62cc3b4d24aca86070b2b90bec",
            "value": " 665/665 [00:00&lt;00:00, 31.0kB/s]"
          }
        },
        "251a61290da849248fb7f6408d042ae5": {
          "model_module": "@jupyter-widgets/base",
          "model_name": "LayoutModel",
          "model_module_version": "1.2.0",
          "state": {
            "_model_module": "@jupyter-widgets/base",
            "_model_module_version": "1.2.0",
            "_model_name": "LayoutModel",
            "_view_count": null,
            "_view_module": "@jupyter-widgets/base",
            "_view_module_version": "1.2.0",
            "_view_name": "LayoutView",
            "align_content": null,
            "align_items": null,
            "align_self": null,
            "border": null,
            "bottom": null,
            "display": null,
            "flex": null,
            "flex_flow": null,
            "grid_area": null,
            "grid_auto_columns": null,
            "grid_auto_flow": null,
            "grid_auto_rows": null,
            "grid_column": null,
            "grid_gap": null,
            "grid_row": null,
            "grid_template_areas": null,
            "grid_template_columns": null,
            "grid_template_rows": null,
            "height": null,
            "justify_content": null,
            "justify_items": null,
            "left": null,
            "margin": null,
            "max_height": null,
            "max_width": null,
            "min_height": null,
            "min_width": null,
            "object_fit": null,
            "object_position": null,
            "order": null,
            "overflow": null,
            "overflow_x": null,
            "overflow_y": null,
            "padding": null,
            "right": null,
            "top": null,
            "visibility": null,
            "width": null
          }
        },
        "b0a9cb1805334f8aa4f7ef2823df26b4": {
          "model_module": "@jupyter-widgets/base",
          "model_name": "LayoutModel",
          "model_module_version": "1.2.0",
          "state": {
            "_model_module": "@jupyter-widgets/base",
            "_model_module_version": "1.2.0",
            "_model_name": "LayoutModel",
            "_view_count": null,
            "_view_module": "@jupyter-widgets/base",
            "_view_module_version": "1.2.0",
            "_view_name": "LayoutView",
            "align_content": null,
            "align_items": null,
            "align_self": null,
            "border": null,
            "bottom": null,
            "display": null,
            "flex": null,
            "flex_flow": null,
            "grid_area": null,
            "grid_auto_columns": null,
            "grid_auto_flow": null,
            "grid_auto_rows": null,
            "grid_column": null,
            "grid_gap": null,
            "grid_row": null,
            "grid_template_areas": null,
            "grid_template_columns": null,
            "grid_template_rows": null,
            "height": null,
            "justify_content": null,
            "justify_items": null,
            "left": null,
            "margin": null,
            "max_height": null,
            "max_width": null,
            "min_height": null,
            "min_width": null,
            "object_fit": null,
            "object_position": null,
            "order": null,
            "overflow": null,
            "overflow_x": null,
            "overflow_y": null,
            "padding": null,
            "right": null,
            "top": null,
            "visibility": null,
            "width": null
          }
        },
        "f85aca2142bd4db08d9b6f548274eb7c": {
          "model_module": "@jupyter-widgets/controls",
          "model_name": "DescriptionStyleModel",
          "model_module_version": "1.5.0",
          "state": {
            "_model_module": "@jupyter-widgets/controls",
            "_model_module_version": "1.5.0",
            "_model_name": "DescriptionStyleModel",
            "_view_count": null,
            "_view_module": "@jupyter-widgets/base",
            "_view_module_version": "1.2.0",
            "_view_name": "StyleView",
            "description_width": ""
          }
        },
        "b5d29d6874a04471a12bff3cb71c2334": {
          "model_module": "@jupyter-widgets/base",
          "model_name": "LayoutModel",
          "model_module_version": "1.2.0",
          "state": {
            "_model_module": "@jupyter-widgets/base",
            "_model_module_version": "1.2.0",
            "_model_name": "LayoutModel",
            "_view_count": null,
            "_view_module": "@jupyter-widgets/base",
            "_view_module_version": "1.2.0",
            "_view_name": "LayoutView",
            "align_content": null,
            "align_items": null,
            "align_self": null,
            "border": null,
            "bottom": null,
            "display": null,
            "flex": null,
            "flex_flow": null,
            "grid_area": null,
            "grid_auto_columns": null,
            "grid_auto_flow": null,
            "grid_auto_rows": null,
            "grid_column": null,
            "grid_gap": null,
            "grid_row": null,
            "grid_template_areas": null,
            "grid_template_columns": null,
            "grid_template_rows": null,
            "height": null,
            "justify_content": null,
            "justify_items": null,
            "left": null,
            "margin": null,
            "max_height": null,
            "max_width": null,
            "min_height": null,
            "min_width": null,
            "object_fit": null,
            "object_position": null,
            "order": null,
            "overflow": null,
            "overflow_x": null,
            "overflow_y": null,
            "padding": null,
            "right": null,
            "top": null,
            "visibility": null,
            "width": null
          }
        },
        "27e3bb13ae414c6da4875530d8f201e2": {
          "model_module": "@jupyter-widgets/controls",
          "model_name": "ProgressStyleModel",
          "model_module_version": "1.5.0",
          "state": {
            "_model_module": "@jupyter-widgets/controls",
            "_model_module_version": "1.5.0",
            "_model_name": "ProgressStyleModel",
            "_view_count": null,
            "_view_module": "@jupyter-widgets/base",
            "_view_module_version": "1.2.0",
            "_view_name": "StyleView",
            "bar_color": null,
            "description_width": ""
          }
        },
        "24c4ae632dfe48b38e256db04bcc8cd6": {
          "model_module": "@jupyter-widgets/base",
          "model_name": "LayoutModel",
          "model_module_version": "1.2.0",
          "state": {
            "_model_module": "@jupyter-widgets/base",
            "_model_module_version": "1.2.0",
            "_model_name": "LayoutModel",
            "_view_count": null,
            "_view_module": "@jupyter-widgets/base",
            "_view_module_version": "1.2.0",
            "_view_name": "LayoutView",
            "align_content": null,
            "align_items": null,
            "align_self": null,
            "border": null,
            "bottom": null,
            "display": null,
            "flex": null,
            "flex_flow": null,
            "grid_area": null,
            "grid_auto_columns": null,
            "grid_auto_flow": null,
            "grid_auto_rows": null,
            "grid_column": null,
            "grid_gap": null,
            "grid_row": null,
            "grid_template_areas": null,
            "grid_template_columns": null,
            "grid_template_rows": null,
            "height": null,
            "justify_content": null,
            "justify_items": null,
            "left": null,
            "margin": null,
            "max_height": null,
            "max_width": null,
            "min_height": null,
            "min_width": null,
            "object_fit": null,
            "object_position": null,
            "order": null,
            "overflow": null,
            "overflow_x": null,
            "overflow_y": null,
            "padding": null,
            "right": null,
            "top": null,
            "visibility": null,
            "width": null
          }
        },
        "0ac26f62cc3b4d24aca86070b2b90bec": {
          "model_module": "@jupyter-widgets/controls",
          "model_name": "DescriptionStyleModel",
          "model_module_version": "1.5.0",
          "state": {
            "_model_module": "@jupyter-widgets/controls",
            "_model_module_version": "1.5.0",
            "_model_name": "DescriptionStyleModel",
            "_view_count": null,
            "_view_module": "@jupyter-widgets/base",
            "_view_module_version": "1.2.0",
            "_view_name": "StyleView",
            "description_width": ""
          }
        },
        "ed3e026ec6b14da589c1aefc77e9040b": {
          "model_module": "@jupyter-widgets/controls",
          "model_name": "HBoxModel",
          "model_module_version": "1.5.0",
          "state": {
            "_dom_classes": [],
            "_model_module": "@jupyter-widgets/controls",
            "_model_module_version": "1.5.0",
            "_model_name": "HBoxModel",
            "_view_count": null,
            "_view_module": "@jupyter-widgets/controls",
            "_view_module_version": "1.5.0",
            "_view_name": "HBoxView",
            "box_style": "",
            "children": [
              "IPY_MODEL_e3762104eb1c42189fa2142ae6e303d4",
              "IPY_MODEL_9871e1050b7d4781a7fdf30b36e772bc",
              "IPY_MODEL_e9499c36f0634b1cb90cbee358476050"
            ],
            "layout": "IPY_MODEL_37cb2dd70b7845a09a1510f674ccd45c"
          }
        },
        "e3762104eb1c42189fa2142ae6e303d4": {
          "model_module": "@jupyter-widgets/controls",
          "model_name": "HTMLModel",
          "model_module_version": "1.5.0",
          "state": {
            "_dom_classes": [],
            "_model_module": "@jupyter-widgets/controls",
            "_model_module_version": "1.5.0",
            "_model_name": "HTMLModel",
            "_view_count": null,
            "_view_module": "@jupyter-widgets/controls",
            "_view_module_version": "1.5.0",
            "_view_name": "HTMLView",
            "description": "",
            "description_tooltip": null,
            "layout": "IPY_MODEL_683cc2eb0c1849bab857a2ff7669a5f1",
            "placeholder": "​",
            "style": "IPY_MODEL_3641f2a9fe4d4c0ebe35be8de75b9b1f",
            "value": "vocab.json: 100%"
          }
        },
        "9871e1050b7d4781a7fdf30b36e772bc": {
          "model_module": "@jupyter-widgets/controls",
          "model_name": "FloatProgressModel",
          "model_module_version": "1.5.0",
          "state": {
            "_dom_classes": [],
            "_model_module": "@jupyter-widgets/controls",
            "_model_module_version": "1.5.0",
            "_model_name": "FloatProgressModel",
            "_view_count": null,
            "_view_module": "@jupyter-widgets/controls",
            "_view_module_version": "1.5.0",
            "_view_name": "ProgressView",
            "bar_style": "success",
            "description": "",
            "description_tooltip": null,
            "layout": "IPY_MODEL_08a3d70053fa4f4282eda6db048083ad",
            "max": 1042301,
            "min": 0,
            "orientation": "horizontal",
            "style": "IPY_MODEL_dbaf19acb4184664aebd4a9c748c79e7",
            "value": 1042301
          }
        },
        "e9499c36f0634b1cb90cbee358476050": {
          "model_module": "@jupyter-widgets/controls",
          "model_name": "HTMLModel",
          "model_module_version": "1.5.0",
          "state": {
            "_dom_classes": [],
            "_model_module": "@jupyter-widgets/controls",
            "_model_module_version": "1.5.0",
            "_model_name": "HTMLModel",
            "_view_count": null,
            "_view_module": "@jupyter-widgets/controls",
            "_view_module_version": "1.5.0",
            "_view_name": "HTMLView",
            "description": "",
            "description_tooltip": null,
            "layout": "IPY_MODEL_c7c50af198a1463ab60c1da7764567c1",
            "placeholder": "​",
            "style": "IPY_MODEL_fb72058cef8e47a3ad4c0c160ee85292",
            "value": " 1.04M/1.04M [00:00&lt;00:00, 19.7MB/s]"
          }
        },
        "37cb2dd70b7845a09a1510f674ccd45c": {
          "model_module": "@jupyter-widgets/base",
          "model_name": "LayoutModel",
          "model_module_version": "1.2.0",
          "state": {
            "_model_module": "@jupyter-widgets/base",
            "_model_module_version": "1.2.0",
            "_model_name": "LayoutModel",
            "_view_count": null,
            "_view_module": "@jupyter-widgets/base",
            "_view_module_version": "1.2.0",
            "_view_name": "LayoutView",
            "align_content": null,
            "align_items": null,
            "align_self": null,
            "border": null,
            "bottom": null,
            "display": null,
            "flex": null,
            "flex_flow": null,
            "grid_area": null,
            "grid_auto_columns": null,
            "grid_auto_flow": null,
            "grid_auto_rows": null,
            "grid_column": null,
            "grid_gap": null,
            "grid_row": null,
            "grid_template_areas": null,
            "grid_template_columns": null,
            "grid_template_rows": null,
            "height": null,
            "justify_content": null,
            "justify_items": null,
            "left": null,
            "margin": null,
            "max_height": null,
            "max_width": null,
            "min_height": null,
            "min_width": null,
            "object_fit": null,
            "object_position": null,
            "order": null,
            "overflow": null,
            "overflow_x": null,
            "overflow_y": null,
            "padding": null,
            "right": null,
            "top": null,
            "visibility": null,
            "width": null
          }
        },
        "683cc2eb0c1849bab857a2ff7669a5f1": {
          "model_module": "@jupyter-widgets/base",
          "model_name": "LayoutModel",
          "model_module_version": "1.2.0",
          "state": {
            "_model_module": "@jupyter-widgets/base",
            "_model_module_version": "1.2.0",
            "_model_name": "LayoutModel",
            "_view_count": null,
            "_view_module": "@jupyter-widgets/base",
            "_view_module_version": "1.2.0",
            "_view_name": "LayoutView",
            "align_content": null,
            "align_items": null,
            "align_self": null,
            "border": null,
            "bottom": null,
            "display": null,
            "flex": null,
            "flex_flow": null,
            "grid_area": null,
            "grid_auto_columns": null,
            "grid_auto_flow": null,
            "grid_auto_rows": null,
            "grid_column": null,
            "grid_gap": null,
            "grid_row": null,
            "grid_template_areas": null,
            "grid_template_columns": null,
            "grid_template_rows": null,
            "height": null,
            "justify_content": null,
            "justify_items": null,
            "left": null,
            "margin": null,
            "max_height": null,
            "max_width": null,
            "min_height": null,
            "min_width": null,
            "object_fit": null,
            "object_position": null,
            "order": null,
            "overflow": null,
            "overflow_x": null,
            "overflow_y": null,
            "padding": null,
            "right": null,
            "top": null,
            "visibility": null,
            "width": null
          }
        },
        "3641f2a9fe4d4c0ebe35be8de75b9b1f": {
          "model_module": "@jupyter-widgets/controls",
          "model_name": "DescriptionStyleModel",
          "model_module_version": "1.5.0",
          "state": {
            "_model_module": "@jupyter-widgets/controls",
            "_model_module_version": "1.5.0",
            "_model_name": "DescriptionStyleModel",
            "_view_count": null,
            "_view_module": "@jupyter-widgets/base",
            "_view_module_version": "1.2.0",
            "_view_name": "StyleView",
            "description_width": ""
          }
        },
        "08a3d70053fa4f4282eda6db048083ad": {
          "model_module": "@jupyter-widgets/base",
          "model_name": "LayoutModel",
          "model_module_version": "1.2.0",
          "state": {
            "_model_module": "@jupyter-widgets/base",
            "_model_module_version": "1.2.0",
            "_model_name": "LayoutModel",
            "_view_count": null,
            "_view_module": "@jupyter-widgets/base",
            "_view_module_version": "1.2.0",
            "_view_name": "LayoutView",
            "align_content": null,
            "align_items": null,
            "align_self": null,
            "border": null,
            "bottom": null,
            "display": null,
            "flex": null,
            "flex_flow": null,
            "grid_area": null,
            "grid_auto_columns": null,
            "grid_auto_flow": null,
            "grid_auto_rows": null,
            "grid_column": null,
            "grid_gap": null,
            "grid_row": null,
            "grid_template_areas": null,
            "grid_template_columns": null,
            "grid_template_rows": null,
            "height": null,
            "justify_content": null,
            "justify_items": null,
            "left": null,
            "margin": null,
            "max_height": null,
            "max_width": null,
            "min_height": null,
            "min_width": null,
            "object_fit": null,
            "object_position": null,
            "order": null,
            "overflow": null,
            "overflow_x": null,
            "overflow_y": null,
            "padding": null,
            "right": null,
            "top": null,
            "visibility": null,
            "width": null
          }
        },
        "dbaf19acb4184664aebd4a9c748c79e7": {
          "model_module": "@jupyter-widgets/controls",
          "model_name": "ProgressStyleModel",
          "model_module_version": "1.5.0",
          "state": {
            "_model_module": "@jupyter-widgets/controls",
            "_model_module_version": "1.5.0",
            "_model_name": "ProgressStyleModel",
            "_view_count": null,
            "_view_module": "@jupyter-widgets/base",
            "_view_module_version": "1.2.0",
            "_view_name": "StyleView",
            "bar_color": null,
            "description_width": ""
          }
        },
        "c7c50af198a1463ab60c1da7764567c1": {
          "model_module": "@jupyter-widgets/base",
          "model_name": "LayoutModel",
          "model_module_version": "1.2.0",
          "state": {
            "_model_module": "@jupyter-widgets/base",
            "_model_module_version": "1.2.0",
            "_model_name": "LayoutModel",
            "_view_count": null,
            "_view_module": "@jupyter-widgets/base",
            "_view_module_version": "1.2.0",
            "_view_name": "LayoutView",
            "align_content": null,
            "align_items": null,
            "align_self": null,
            "border": null,
            "bottom": null,
            "display": null,
            "flex": null,
            "flex_flow": null,
            "grid_area": null,
            "grid_auto_columns": null,
            "grid_auto_flow": null,
            "grid_auto_rows": null,
            "grid_column": null,
            "grid_gap": null,
            "grid_row": null,
            "grid_template_areas": null,
            "grid_template_columns": null,
            "grid_template_rows": null,
            "height": null,
            "justify_content": null,
            "justify_items": null,
            "left": null,
            "margin": null,
            "max_height": null,
            "max_width": null,
            "min_height": null,
            "min_width": null,
            "object_fit": null,
            "object_position": null,
            "order": null,
            "overflow": null,
            "overflow_x": null,
            "overflow_y": null,
            "padding": null,
            "right": null,
            "top": null,
            "visibility": null,
            "width": null
          }
        },
        "fb72058cef8e47a3ad4c0c160ee85292": {
          "model_module": "@jupyter-widgets/controls",
          "model_name": "DescriptionStyleModel",
          "model_module_version": "1.5.0",
          "state": {
            "_model_module": "@jupyter-widgets/controls",
            "_model_module_version": "1.5.0",
            "_model_name": "DescriptionStyleModel",
            "_view_count": null,
            "_view_module": "@jupyter-widgets/base",
            "_view_module_version": "1.2.0",
            "_view_name": "StyleView",
            "description_width": ""
          }
        },
        "03ae0784b4b645838983993b17a98426": {
          "model_module": "@jupyter-widgets/controls",
          "model_name": "HBoxModel",
          "model_module_version": "1.5.0",
          "state": {
            "_dom_classes": [],
            "_model_module": "@jupyter-widgets/controls",
            "_model_module_version": "1.5.0",
            "_model_name": "HBoxModel",
            "_view_count": null,
            "_view_module": "@jupyter-widgets/controls",
            "_view_module_version": "1.5.0",
            "_view_name": "HBoxView",
            "box_style": "",
            "children": [
              "IPY_MODEL_e1465e8e7852408bb37e79498c158587",
              "IPY_MODEL_d72a8788abe84d3c8485588f338d792c",
              "IPY_MODEL_cbf33a5c399e4cf3b08ca7622ecbd286"
            ],
            "layout": "IPY_MODEL_b4f0debf7afa42598e4439c3530842ad"
          }
        },
        "e1465e8e7852408bb37e79498c158587": {
          "model_module": "@jupyter-widgets/controls",
          "model_name": "HTMLModel",
          "model_module_version": "1.5.0",
          "state": {
            "_dom_classes": [],
            "_model_module": "@jupyter-widgets/controls",
            "_model_module_version": "1.5.0",
            "_model_name": "HTMLModel",
            "_view_count": null,
            "_view_module": "@jupyter-widgets/controls",
            "_view_module_version": "1.5.0",
            "_view_name": "HTMLView",
            "description": "",
            "description_tooltip": null,
            "layout": "IPY_MODEL_a37d3d656b6442b082558f8914762aa0",
            "placeholder": "​",
            "style": "IPY_MODEL_94ae66da73e34b95b07b0c23dd3895ea",
            "value": "merges.txt: 100%"
          }
        },
        "d72a8788abe84d3c8485588f338d792c": {
          "model_module": "@jupyter-widgets/controls",
          "model_name": "FloatProgressModel",
          "model_module_version": "1.5.0",
          "state": {
            "_dom_classes": [],
            "_model_module": "@jupyter-widgets/controls",
            "_model_module_version": "1.5.0",
            "_model_name": "FloatProgressModel",
            "_view_count": null,
            "_view_module": "@jupyter-widgets/controls",
            "_view_module_version": "1.5.0",
            "_view_name": "ProgressView",
            "bar_style": "success",
            "description": "",
            "description_tooltip": null,
            "layout": "IPY_MODEL_0793a06a12e2427caa0aaabef2b74be2",
            "max": 456318,
            "min": 0,
            "orientation": "horizontal",
            "style": "IPY_MODEL_1a924d827acc41838e764784cb9e5882",
            "value": 456318
          }
        },
        "cbf33a5c399e4cf3b08ca7622ecbd286": {
          "model_module": "@jupyter-widgets/controls",
          "model_name": "HTMLModel",
          "model_module_version": "1.5.0",
          "state": {
            "_dom_classes": [],
            "_model_module": "@jupyter-widgets/controls",
            "_model_module_version": "1.5.0",
            "_model_name": "HTMLModel",
            "_view_count": null,
            "_view_module": "@jupyter-widgets/controls",
            "_view_module_version": "1.5.0",
            "_view_name": "HTMLView",
            "description": "",
            "description_tooltip": null,
            "layout": "IPY_MODEL_6bc38d864b3843fcaa646d2646f3ab8c",
            "placeholder": "​",
            "style": "IPY_MODEL_7d6d5813b47542e79759fbd240b8fdbb",
            "value": " 456k/456k [00:00&lt;00:00, 16.1MB/s]"
          }
        },
        "b4f0debf7afa42598e4439c3530842ad": {
          "model_module": "@jupyter-widgets/base",
          "model_name": "LayoutModel",
          "model_module_version": "1.2.0",
          "state": {
            "_model_module": "@jupyter-widgets/base",
            "_model_module_version": "1.2.0",
            "_model_name": "LayoutModel",
            "_view_count": null,
            "_view_module": "@jupyter-widgets/base",
            "_view_module_version": "1.2.0",
            "_view_name": "LayoutView",
            "align_content": null,
            "align_items": null,
            "align_self": null,
            "border": null,
            "bottom": null,
            "display": null,
            "flex": null,
            "flex_flow": null,
            "grid_area": null,
            "grid_auto_columns": null,
            "grid_auto_flow": null,
            "grid_auto_rows": null,
            "grid_column": null,
            "grid_gap": null,
            "grid_row": null,
            "grid_template_areas": null,
            "grid_template_columns": null,
            "grid_template_rows": null,
            "height": null,
            "justify_content": null,
            "justify_items": null,
            "left": null,
            "margin": null,
            "max_height": null,
            "max_width": null,
            "min_height": null,
            "min_width": null,
            "object_fit": null,
            "object_position": null,
            "order": null,
            "overflow": null,
            "overflow_x": null,
            "overflow_y": null,
            "padding": null,
            "right": null,
            "top": null,
            "visibility": null,
            "width": null
          }
        },
        "a37d3d656b6442b082558f8914762aa0": {
          "model_module": "@jupyter-widgets/base",
          "model_name": "LayoutModel",
          "model_module_version": "1.2.0",
          "state": {
            "_model_module": "@jupyter-widgets/base",
            "_model_module_version": "1.2.0",
            "_model_name": "LayoutModel",
            "_view_count": null,
            "_view_module": "@jupyter-widgets/base",
            "_view_module_version": "1.2.0",
            "_view_name": "LayoutView",
            "align_content": null,
            "align_items": null,
            "align_self": null,
            "border": null,
            "bottom": null,
            "display": null,
            "flex": null,
            "flex_flow": null,
            "grid_area": null,
            "grid_auto_columns": null,
            "grid_auto_flow": null,
            "grid_auto_rows": null,
            "grid_column": null,
            "grid_gap": null,
            "grid_row": null,
            "grid_template_areas": null,
            "grid_template_columns": null,
            "grid_template_rows": null,
            "height": null,
            "justify_content": null,
            "justify_items": null,
            "left": null,
            "margin": null,
            "max_height": null,
            "max_width": null,
            "min_height": null,
            "min_width": null,
            "object_fit": null,
            "object_position": null,
            "order": null,
            "overflow": null,
            "overflow_x": null,
            "overflow_y": null,
            "padding": null,
            "right": null,
            "top": null,
            "visibility": null,
            "width": null
          }
        },
        "94ae66da73e34b95b07b0c23dd3895ea": {
          "model_module": "@jupyter-widgets/controls",
          "model_name": "DescriptionStyleModel",
          "model_module_version": "1.5.0",
          "state": {
            "_model_module": "@jupyter-widgets/controls",
            "_model_module_version": "1.5.0",
            "_model_name": "DescriptionStyleModel",
            "_view_count": null,
            "_view_module": "@jupyter-widgets/base",
            "_view_module_version": "1.2.0",
            "_view_name": "StyleView",
            "description_width": ""
          }
        },
        "0793a06a12e2427caa0aaabef2b74be2": {
          "model_module": "@jupyter-widgets/base",
          "model_name": "LayoutModel",
          "model_module_version": "1.2.0",
          "state": {
            "_model_module": "@jupyter-widgets/base",
            "_model_module_version": "1.2.0",
            "_model_name": "LayoutModel",
            "_view_count": null,
            "_view_module": "@jupyter-widgets/base",
            "_view_module_version": "1.2.0",
            "_view_name": "LayoutView",
            "align_content": null,
            "align_items": null,
            "align_self": null,
            "border": null,
            "bottom": null,
            "display": null,
            "flex": null,
            "flex_flow": null,
            "grid_area": null,
            "grid_auto_columns": null,
            "grid_auto_flow": null,
            "grid_auto_rows": null,
            "grid_column": null,
            "grid_gap": null,
            "grid_row": null,
            "grid_template_areas": null,
            "grid_template_columns": null,
            "grid_template_rows": null,
            "height": null,
            "justify_content": null,
            "justify_items": null,
            "left": null,
            "margin": null,
            "max_height": null,
            "max_width": null,
            "min_height": null,
            "min_width": null,
            "object_fit": null,
            "object_position": null,
            "order": null,
            "overflow": null,
            "overflow_x": null,
            "overflow_y": null,
            "padding": null,
            "right": null,
            "top": null,
            "visibility": null,
            "width": null
          }
        },
        "1a924d827acc41838e764784cb9e5882": {
          "model_module": "@jupyter-widgets/controls",
          "model_name": "ProgressStyleModel",
          "model_module_version": "1.5.0",
          "state": {
            "_model_module": "@jupyter-widgets/controls",
            "_model_module_version": "1.5.0",
            "_model_name": "ProgressStyleModel",
            "_view_count": null,
            "_view_module": "@jupyter-widgets/base",
            "_view_module_version": "1.2.0",
            "_view_name": "StyleView",
            "bar_color": null,
            "description_width": ""
          }
        },
        "6bc38d864b3843fcaa646d2646f3ab8c": {
          "model_module": "@jupyter-widgets/base",
          "model_name": "LayoutModel",
          "model_module_version": "1.2.0",
          "state": {
            "_model_module": "@jupyter-widgets/base",
            "_model_module_version": "1.2.0",
            "_model_name": "LayoutModel",
            "_view_count": null,
            "_view_module": "@jupyter-widgets/base",
            "_view_module_version": "1.2.0",
            "_view_name": "LayoutView",
            "align_content": null,
            "align_items": null,
            "align_self": null,
            "border": null,
            "bottom": null,
            "display": null,
            "flex": null,
            "flex_flow": null,
            "grid_area": null,
            "grid_auto_columns": null,
            "grid_auto_flow": null,
            "grid_auto_rows": null,
            "grid_column": null,
            "grid_gap": null,
            "grid_row": null,
            "grid_template_areas": null,
            "grid_template_columns": null,
            "grid_template_rows": null,
            "height": null,
            "justify_content": null,
            "justify_items": null,
            "left": null,
            "margin": null,
            "max_height": null,
            "max_width": null,
            "min_height": null,
            "min_width": null,
            "object_fit": null,
            "object_position": null,
            "order": null,
            "overflow": null,
            "overflow_x": null,
            "overflow_y": null,
            "padding": null,
            "right": null,
            "top": null,
            "visibility": null,
            "width": null
          }
        },
        "7d6d5813b47542e79759fbd240b8fdbb": {
          "model_module": "@jupyter-widgets/controls",
          "model_name": "DescriptionStyleModel",
          "model_module_version": "1.5.0",
          "state": {
            "_model_module": "@jupyter-widgets/controls",
            "_model_module_version": "1.5.0",
            "_model_name": "DescriptionStyleModel",
            "_view_count": null,
            "_view_module": "@jupyter-widgets/base",
            "_view_module_version": "1.2.0",
            "_view_name": "StyleView",
            "description_width": ""
          }
        },
        "603ab53622ef4935ad2016f6373451d0": {
          "model_module": "@jupyter-widgets/controls",
          "model_name": "HBoxModel",
          "model_module_version": "1.5.0",
          "state": {
            "_dom_classes": [],
            "_model_module": "@jupyter-widgets/controls",
            "_model_module_version": "1.5.0",
            "_model_name": "HBoxModel",
            "_view_count": null,
            "_view_module": "@jupyter-widgets/controls",
            "_view_module_version": "1.5.0",
            "_view_name": "HBoxView",
            "box_style": "",
            "children": [
              "IPY_MODEL_a81c0b71b293412da8dcfb771f3ae0bd",
              "IPY_MODEL_a91bf4186b824674b9e2d349bcdb3d63",
              "IPY_MODEL_f5e47a9898334e409c0271a048f6b008"
            ],
            "layout": "IPY_MODEL_88fd6310d78a4365b275deb698ae1831"
          }
        },
        "a81c0b71b293412da8dcfb771f3ae0bd": {
          "model_module": "@jupyter-widgets/controls",
          "model_name": "HTMLModel",
          "model_module_version": "1.5.0",
          "state": {
            "_dom_classes": [],
            "_model_module": "@jupyter-widgets/controls",
            "_model_module_version": "1.5.0",
            "_model_name": "HTMLModel",
            "_view_count": null,
            "_view_module": "@jupyter-widgets/controls",
            "_view_module_version": "1.5.0",
            "_view_name": "HTMLView",
            "description": "",
            "description_tooltip": null,
            "layout": "IPY_MODEL_e9a38e229610477aae7737b829a01836",
            "placeholder": "​",
            "style": "IPY_MODEL_a5a41e8c429d429996db97b1ba9554b1",
            "value": "tokenizer.json: 100%"
          }
        },
        "a91bf4186b824674b9e2d349bcdb3d63": {
          "model_module": "@jupyter-widgets/controls",
          "model_name": "FloatProgressModel",
          "model_module_version": "1.5.0",
          "state": {
            "_dom_classes": [],
            "_model_module": "@jupyter-widgets/controls",
            "_model_module_version": "1.5.0",
            "_model_name": "FloatProgressModel",
            "_view_count": null,
            "_view_module": "@jupyter-widgets/controls",
            "_view_module_version": "1.5.0",
            "_view_name": "ProgressView",
            "bar_style": "success",
            "description": "",
            "description_tooltip": null,
            "layout": "IPY_MODEL_f1221d0e9a6641f6a45efbc474c29556",
            "max": 1355256,
            "min": 0,
            "orientation": "horizontal",
            "style": "IPY_MODEL_89a6789f424a40c5be2e8606eacb9a24",
            "value": 1355256
          }
        },
        "f5e47a9898334e409c0271a048f6b008": {
          "model_module": "@jupyter-widgets/controls",
          "model_name": "HTMLModel",
          "model_module_version": "1.5.0",
          "state": {
            "_dom_classes": [],
            "_model_module": "@jupyter-widgets/controls",
            "_model_module_version": "1.5.0",
            "_model_name": "HTMLModel",
            "_view_count": null,
            "_view_module": "@jupyter-widgets/controls",
            "_view_module_version": "1.5.0",
            "_view_name": "HTMLView",
            "description": "",
            "description_tooltip": null,
            "layout": "IPY_MODEL_d980be8e152e437fb5861692c8b2575f",
            "placeholder": "​",
            "style": "IPY_MODEL_518d4640f23445d79f26b355c3b9bdef",
            "value": " 1.36M/1.36M [00:00&lt;00:00, 28.7MB/s]"
          }
        },
        "88fd6310d78a4365b275deb698ae1831": {
          "model_module": "@jupyter-widgets/base",
          "model_name": "LayoutModel",
          "model_module_version": "1.2.0",
          "state": {
            "_model_module": "@jupyter-widgets/base",
            "_model_module_version": "1.2.0",
            "_model_name": "LayoutModel",
            "_view_count": null,
            "_view_module": "@jupyter-widgets/base",
            "_view_module_version": "1.2.0",
            "_view_name": "LayoutView",
            "align_content": null,
            "align_items": null,
            "align_self": null,
            "border": null,
            "bottom": null,
            "display": null,
            "flex": null,
            "flex_flow": null,
            "grid_area": null,
            "grid_auto_columns": null,
            "grid_auto_flow": null,
            "grid_auto_rows": null,
            "grid_column": null,
            "grid_gap": null,
            "grid_row": null,
            "grid_template_areas": null,
            "grid_template_columns": null,
            "grid_template_rows": null,
            "height": null,
            "justify_content": null,
            "justify_items": null,
            "left": null,
            "margin": null,
            "max_height": null,
            "max_width": null,
            "min_height": null,
            "min_width": null,
            "object_fit": null,
            "object_position": null,
            "order": null,
            "overflow": null,
            "overflow_x": null,
            "overflow_y": null,
            "padding": null,
            "right": null,
            "top": null,
            "visibility": null,
            "width": null
          }
        },
        "e9a38e229610477aae7737b829a01836": {
          "model_module": "@jupyter-widgets/base",
          "model_name": "LayoutModel",
          "model_module_version": "1.2.0",
          "state": {
            "_model_module": "@jupyter-widgets/base",
            "_model_module_version": "1.2.0",
            "_model_name": "LayoutModel",
            "_view_count": null,
            "_view_module": "@jupyter-widgets/base",
            "_view_module_version": "1.2.0",
            "_view_name": "LayoutView",
            "align_content": null,
            "align_items": null,
            "align_self": null,
            "border": null,
            "bottom": null,
            "display": null,
            "flex": null,
            "flex_flow": null,
            "grid_area": null,
            "grid_auto_columns": null,
            "grid_auto_flow": null,
            "grid_auto_rows": null,
            "grid_column": null,
            "grid_gap": null,
            "grid_row": null,
            "grid_template_areas": null,
            "grid_template_columns": null,
            "grid_template_rows": null,
            "height": null,
            "justify_content": null,
            "justify_items": null,
            "left": null,
            "margin": null,
            "max_height": null,
            "max_width": null,
            "min_height": null,
            "min_width": null,
            "object_fit": null,
            "object_position": null,
            "order": null,
            "overflow": null,
            "overflow_x": null,
            "overflow_y": null,
            "padding": null,
            "right": null,
            "top": null,
            "visibility": null,
            "width": null
          }
        },
        "a5a41e8c429d429996db97b1ba9554b1": {
          "model_module": "@jupyter-widgets/controls",
          "model_name": "DescriptionStyleModel",
          "model_module_version": "1.5.0",
          "state": {
            "_model_module": "@jupyter-widgets/controls",
            "_model_module_version": "1.5.0",
            "_model_name": "DescriptionStyleModel",
            "_view_count": null,
            "_view_module": "@jupyter-widgets/base",
            "_view_module_version": "1.2.0",
            "_view_name": "StyleView",
            "description_width": ""
          }
        },
        "f1221d0e9a6641f6a45efbc474c29556": {
          "model_module": "@jupyter-widgets/base",
          "model_name": "LayoutModel",
          "model_module_version": "1.2.0",
          "state": {
            "_model_module": "@jupyter-widgets/base",
            "_model_module_version": "1.2.0",
            "_model_name": "LayoutModel",
            "_view_count": null,
            "_view_module": "@jupyter-widgets/base",
            "_view_module_version": "1.2.0",
            "_view_name": "LayoutView",
            "align_content": null,
            "align_items": null,
            "align_self": null,
            "border": null,
            "bottom": null,
            "display": null,
            "flex": null,
            "flex_flow": null,
            "grid_area": null,
            "grid_auto_columns": null,
            "grid_auto_flow": null,
            "grid_auto_rows": null,
            "grid_column": null,
            "grid_gap": null,
            "grid_row": null,
            "grid_template_areas": null,
            "grid_template_columns": null,
            "grid_template_rows": null,
            "height": null,
            "justify_content": null,
            "justify_items": null,
            "left": null,
            "margin": null,
            "max_height": null,
            "max_width": null,
            "min_height": null,
            "min_width": null,
            "object_fit": null,
            "object_position": null,
            "order": null,
            "overflow": null,
            "overflow_x": null,
            "overflow_y": null,
            "padding": null,
            "right": null,
            "top": null,
            "visibility": null,
            "width": null
          }
        },
        "89a6789f424a40c5be2e8606eacb9a24": {
          "model_module": "@jupyter-widgets/controls",
          "model_name": "ProgressStyleModel",
          "model_module_version": "1.5.0",
          "state": {
            "_model_module": "@jupyter-widgets/controls",
            "_model_module_version": "1.5.0",
            "_model_name": "ProgressStyleModel",
            "_view_count": null,
            "_view_module": "@jupyter-widgets/base",
            "_view_module_version": "1.2.0",
            "_view_name": "StyleView",
            "bar_color": null,
            "description_width": ""
          }
        },
        "d980be8e152e437fb5861692c8b2575f": {
          "model_module": "@jupyter-widgets/base",
          "model_name": "LayoutModel",
          "model_module_version": "1.2.0",
          "state": {
            "_model_module": "@jupyter-widgets/base",
            "_model_module_version": "1.2.0",
            "_model_name": "LayoutModel",
            "_view_count": null,
            "_view_module": "@jupyter-widgets/base",
            "_view_module_version": "1.2.0",
            "_view_name": "LayoutView",
            "align_content": null,
            "align_items": null,
            "align_self": null,
            "border": null,
            "bottom": null,
            "display": null,
            "flex": null,
            "flex_flow": null,
            "grid_area": null,
            "grid_auto_columns": null,
            "grid_auto_flow": null,
            "grid_auto_rows": null,
            "grid_column": null,
            "grid_gap": null,
            "grid_row": null,
            "grid_template_areas": null,
            "grid_template_columns": null,
            "grid_template_rows": null,
            "height": null,
            "justify_content": null,
            "justify_items": null,
            "left": null,
            "margin": null,
            "max_height": null,
            "max_width": null,
            "min_height": null,
            "min_width": null,
            "object_fit": null,
            "object_position": null,
            "order": null,
            "overflow": null,
            "overflow_x": null,
            "overflow_y": null,
            "padding": null,
            "right": null,
            "top": null,
            "visibility": null,
            "width": null
          }
        },
        "518d4640f23445d79f26b355c3b9bdef": {
          "model_module": "@jupyter-widgets/controls",
          "model_name": "DescriptionStyleModel",
          "model_module_version": "1.5.0",
          "state": {
            "_model_module": "@jupyter-widgets/controls",
            "_model_module_version": "1.5.0",
            "_model_name": "DescriptionStyleModel",
            "_view_count": null,
            "_view_module": "@jupyter-widgets/base",
            "_view_module_version": "1.2.0",
            "_view_name": "StyleView",
            "description_width": ""
          }
        },
        "a1490e0b132d4e9a9185a49e544c32cc": {
          "model_module": "@jupyter-widgets/controls",
          "model_name": "HBoxModel",
          "model_module_version": "1.5.0",
          "state": {
            "_dom_classes": [],
            "_model_module": "@jupyter-widgets/controls",
            "_model_module_version": "1.5.0",
            "_model_name": "HBoxModel",
            "_view_count": null,
            "_view_module": "@jupyter-widgets/controls",
            "_view_module_version": "1.5.0",
            "_view_name": "HBoxView",
            "box_style": "",
            "children": [
              "IPY_MODEL_94c4f640694e4d238a3396836d3291b1",
              "IPY_MODEL_56d42b965d5648939ac1213a70f77813",
              "IPY_MODEL_5c0c24e9ec54434db6e97d8633393852"
            ],
            "layout": "IPY_MODEL_3e5ce61a8f51426ca56d7d073ac27d7b"
          }
        },
        "94c4f640694e4d238a3396836d3291b1": {
          "model_module": "@jupyter-widgets/controls",
          "model_name": "HTMLModel",
          "model_module_version": "1.5.0",
          "state": {
            "_dom_classes": [],
            "_model_module": "@jupyter-widgets/controls",
            "_model_module_version": "1.5.0",
            "_model_name": "HTMLModel",
            "_view_count": null,
            "_view_module": "@jupyter-widgets/controls",
            "_view_module_version": "1.5.0",
            "_view_name": "HTMLView",
            "description": "",
            "description_tooltip": null,
            "layout": "IPY_MODEL_392e6589717a435d820dea429b3eea8b",
            "placeholder": "​",
            "style": "IPY_MODEL_e7d60654af7f4ca5817d8100731b8245",
            "value": "model.safetensors: 100%"
          }
        },
        "56d42b965d5648939ac1213a70f77813": {
          "model_module": "@jupyter-widgets/controls",
          "model_name": "FloatProgressModel",
          "model_module_version": "1.5.0",
          "state": {
            "_dom_classes": [],
            "_model_module": "@jupyter-widgets/controls",
            "_model_module_version": "1.5.0",
            "_model_name": "FloatProgressModel",
            "_view_count": null,
            "_view_module": "@jupyter-widgets/controls",
            "_view_module_version": "1.5.0",
            "_view_name": "ProgressView",
            "bar_style": "success",
            "description": "",
            "description_tooltip": null,
            "layout": "IPY_MODEL_b69e2cd652504c0b81c1617ebf379e4c",
            "max": 548105171,
            "min": 0,
            "orientation": "horizontal",
            "style": "IPY_MODEL_6bbd64961ec4496aa8318bf0e26b2c2a",
            "value": 548105171
          }
        },
        "5c0c24e9ec54434db6e97d8633393852": {
          "model_module": "@jupyter-widgets/controls",
          "model_name": "HTMLModel",
          "model_module_version": "1.5.0",
          "state": {
            "_dom_classes": [],
            "_model_module": "@jupyter-widgets/controls",
            "_model_module_version": "1.5.0",
            "_model_name": "HTMLModel",
            "_view_count": null,
            "_view_module": "@jupyter-widgets/controls",
            "_view_module_version": "1.5.0",
            "_view_name": "HTMLView",
            "description": "",
            "description_tooltip": null,
            "layout": "IPY_MODEL_c261248f63ff493696a4cdf4e4263272",
            "placeholder": "​",
            "style": "IPY_MODEL_514085ffd83249e28163d6f01c0fc0c2",
            "value": " 548M/548M [00:07&lt;00:00, 99.5MB/s]"
          }
        },
        "3e5ce61a8f51426ca56d7d073ac27d7b": {
          "model_module": "@jupyter-widgets/base",
          "model_name": "LayoutModel",
          "model_module_version": "1.2.0",
          "state": {
            "_model_module": "@jupyter-widgets/base",
            "_model_module_version": "1.2.0",
            "_model_name": "LayoutModel",
            "_view_count": null,
            "_view_module": "@jupyter-widgets/base",
            "_view_module_version": "1.2.0",
            "_view_name": "LayoutView",
            "align_content": null,
            "align_items": null,
            "align_self": null,
            "border": null,
            "bottom": null,
            "display": null,
            "flex": null,
            "flex_flow": null,
            "grid_area": null,
            "grid_auto_columns": null,
            "grid_auto_flow": null,
            "grid_auto_rows": null,
            "grid_column": null,
            "grid_gap": null,
            "grid_row": null,
            "grid_template_areas": null,
            "grid_template_columns": null,
            "grid_template_rows": null,
            "height": null,
            "justify_content": null,
            "justify_items": null,
            "left": null,
            "margin": null,
            "max_height": null,
            "max_width": null,
            "min_height": null,
            "min_width": null,
            "object_fit": null,
            "object_position": null,
            "order": null,
            "overflow": null,
            "overflow_x": null,
            "overflow_y": null,
            "padding": null,
            "right": null,
            "top": null,
            "visibility": null,
            "width": null
          }
        },
        "392e6589717a435d820dea429b3eea8b": {
          "model_module": "@jupyter-widgets/base",
          "model_name": "LayoutModel",
          "model_module_version": "1.2.0",
          "state": {
            "_model_module": "@jupyter-widgets/base",
            "_model_module_version": "1.2.0",
            "_model_name": "LayoutModel",
            "_view_count": null,
            "_view_module": "@jupyter-widgets/base",
            "_view_module_version": "1.2.0",
            "_view_name": "LayoutView",
            "align_content": null,
            "align_items": null,
            "align_self": null,
            "border": null,
            "bottom": null,
            "display": null,
            "flex": null,
            "flex_flow": null,
            "grid_area": null,
            "grid_auto_columns": null,
            "grid_auto_flow": null,
            "grid_auto_rows": null,
            "grid_column": null,
            "grid_gap": null,
            "grid_row": null,
            "grid_template_areas": null,
            "grid_template_columns": null,
            "grid_template_rows": null,
            "height": null,
            "justify_content": null,
            "justify_items": null,
            "left": null,
            "margin": null,
            "max_height": null,
            "max_width": null,
            "min_height": null,
            "min_width": null,
            "object_fit": null,
            "object_position": null,
            "order": null,
            "overflow": null,
            "overflow_x": null,
            "overflow_y": null,
            "padding": null,
            "right": null,
            "top": null,
            "visibility": null,
            "width": null
          }
        },
        "e7d60654af7f4ca5817d8100731b8245": {
          "model_module": "@jupyter-widgets/controls",
          "model_name": "DescriptionStyleModel",
          "model_module_version": "1.5.0",
          "state": {
            "_model_module": "@jupyter-widgets/controls",
            "_model_module_version": "1.5.0",
            "_model_name": "DescriptionStyleModel",
            "_view_count": null,
            "_view_module": "@jupyter-widgets/base",
            "_view_module_version": "1.2.0",
            "_view_name": "StyleView",
            "description_width": ""
          }
        },
        "b69e2cd652504c0b81c1617ebf379e4c": {
          "model_module": "@jupyter-widgets/base",
          "model_name": "LayoutModel",
          "model_module_version": "1.2.0",
          "state": {
            "_model_module": "@jupyter-widgets/base",
            "_model_module_version": "1.2.0",
            "_model_name": "LayoutModel",
            "_view_count": null,
            "_view_module": "@jupyter-widgets/base",
            "_view_module_version": "1.2.0",
            "_view_name": "LayoutView",
            "align_content": null,
            "align_items": null,
            "align_self": null,
            "border": null,
            "bottom": null,
            "display": null,
            "flex": null,
            "flex_flow": null,
            "grid_area": null,
            "grid_auto_columns": null,
            "grid_auto_flow": null,
            "grid_auto_rows": null,
            "grid_column": null,
            "grid_gap": null,
            "grid_row": null,
            "grid_template_areas": null,
            "grid_template_columns": null,
            "grid_template_rows": null,
            "height": null,
            "justify_content": null,
            "justify_items": null,
            "left": null,
            "margin": null,
            "max_height": null,
            "max_width": null,
            "min_height": null,
            "min_width": null,
            "object_fit": null,
            "object_position": null,
            "order": null,
            "overflow": null,
            "overflow_x": null,
            "overflow_y": null,
            "padding": null,
            "right": null,
            "top": null,
            "visibility": null,
            "width": null
          }
        },
        "6bbd64961ec4496aa8318bf0e26b2c2a": {
          "model_module": "@jupyter-widgets/controls",
          "model_name": "ProgressStyleModel",
          "model_module_version": "1.5.0",
          "state": {
            "_model_module": "@jupyter-widgets/controls",
            "_model_module_version": "1.5.0",
            "_model_name": "ProgressStyleModel",
            "_view_count": null,
            "_view_module": "@jupyter-widgets/base",
            "_view_module_version": "1.2.0",
            "_view_name": "StyleView",
            "bar_color": null,
            "description_width": ""
          }
        },
        "c261248f63ff493696a4cdf4e4263272": {
          "model_module": "@jupyter-widgets/base",
          "model_name": "LayoutModel",
          "model_module_version": "1.2.0",
          "state": {
            "_model_module": "@jupyter-widgets/base",
            "_model_module_version": "1.2.0",
            "_model_name": "LayoutModel",
            "_view_count": null,
            "_view_module": "@jupyter-widgets/base",
            "_view_module_version": "1.2.0",
            "_view_name": "LayoutView",
            "align_content": null,
            "align_items": null,
            "align_self": null,
            "border": null,
            "bottom": null,
            "display": null,
            "flex": null,
            "flex_flow": null,
            "grid_area": null,
            "grid_auto_columns": null,
            "grid_auto_flow": null,
            "grid_auto_rows": null,
            "grid_column": null,
            "grid_gap": null,
            "grid_row": null,
            "grid_template_areas": null,
            "grid_template_columns": null,
            "grid_template_rows": null,
            "height": null,
            "justify_content": null,
            "justify_items": null,
            "left": null,
            "margin": null,
            "max_height": null,
            "max_width": null,
            "min_height": null,
            "min_width": null,
            "object_fit": null,
            "object_position": null,
            "order": null,
            "overflow": null,
            "overflow_x": null,
            "overflow_y": null,
            "padding": null,
            "right": null,
            "top": null,
            "visibility": null,
            "width": null
          }
        },
        "514085ffd83249e28163d6f01c0fc0c2": {
          "model_module": "@jupyter-widgets/controls",
          "model_name": "DescriptionStyleModel",
          "model_module_version": "1.5.0",
          "state": {
            "_model_module": "@jupyter-widgets/controls",
            "_model_module_version": "1.5.0",
            "_model_name": "DescriptionStyleModel",
            "_view_count": null,
            "_view_module": "@jupyter-widgets/base",
            "_view_module_version": "1.2.0",
            "_view_name": "StyleView",
            "description_width": ""
          }
        },
        "cbbe0b5842a644829331119570aaab6e": {
          "model_module": "@jupyter-widgets/controls",
          "model_name": "HBoxModel",
          "model_module_version": "1.5.0",
          "state": {
            "_dom_classes": [],
            "_model_module": "@jupyter-widgets/controls",
            "_model_module_version": "1.5.0",
            "_model_name": "HBoxModel",
            "_view_count": null,
            "_view_module": "@jupyter-widgets/controls",
            "_view_module_version": "1.5.0",
            "_view_name": "HBoxView",
            "box_style": "",
            "children": [
              "IPY_MODEL_1a5e3a79ee7e41548170d3fda96ce55d",
              "IPY_MODEL_be91e02cb8c146949560f2871c78c1b2",
              "IPY_MODEL_840abd9a75c242c2babe852027da00f3"
            ],
            "layout": "IPY_MODEL_5090c17591604a999c673f93613d97d4"
          }
        },
        "1a5e3a79ee7e41548170d3fda96ce55d": {
          "model_module": "@jupyter-widgets/controls",
          "model_name": "HTMLModel",
          "model_module_version": "1.5.0",
          "state": {
            "_dom_classes": [],
            "_model_module": "@jupyter-widgets/controls",
            "_model_module_version": "1.5.0",
            "_model_name": "HTMLModel",
            "_view_count": null,
            "_view_module": "@jupyter-widgets/controls",
            "_view_module_version": "1.5.0",
            "_view_name": "HTMLView",
            "description": "",
            "description_tooltip": null,
            "layout": "IPY_MODEL_4b91c71d491d44ae90d9603706aade40",
            "placeholder": "​",
            "style": "IPY_MODEL_89f53e4dcdc74631bd7cb0303dd40644",
            "value": "generation_config.json: 100%"
          }
        },
        "be91e02cb8c146949560f2871c78c1b2": {
          "model_module": "@jupyter-widgets/controls",
          "model_name": "FloatProgressModel",
          "model_module_version": "1.5.0",
          "state": {
            "_dom_classes": [],
            "_model_module": "@jupyter-widgets/controls",
            "_model_module_version": "1.5.0",
            "_model_name": "FloatProgressModel",
            "_view_count": null,
            "_view_module": "@jupyter-widgets/controls",
            "_view_module_version": "1.5.0",
            "_view_name": "ProgressView",
            "bar_style": "success",
            "description": "",
            "description_tooltip": null,
            "layout": "IPY_MODEL_dfd4b0daff904af38b311c16b89625ed",
            "max": 124,
            "min": 0,
            "orientation": "horizontal",
            "style": "IPY_MODEL_4db5ab13952046e7a7a5a9c9e4ea34c3",
            "value": 124
          }
        },
        "840abd9a75c242c2babe852027da00f3": {
          "model_module": "@jupyter-widgets/controls",
          "model_name": "HTMLModel",
          "model_module_version": "1.5.0",
          "state": {
            "_dom_classes": [],
            "_model_module": "@jupyter-widgets/controls",
            "_model_module_version": "1.5.0",
            "_model_name": "HTMLModel",
            "_view_count": null,
            "_view_module": "@jupyter-widgets/controls",
            "_view_module_version": "1.5.0",
            "_view_name": "HTMLView",
            "description": "",
            "description_tooltip": null,
            "layout": "IPY_MODEL_fa2bc6fd0a864d52ba7eb172857606ee",
            "placeholder": "​",
            "style": "IPY_MODEL_6ae064a37cbf40ba8d26a0f0b5414c51",
            "value": " 124/124 [00:00&lt;00:00, 6.60kB/s]"
          }
        },
        "5090c17591604a999c673f93613d97d4": {
          "model_module": "@jupyter-widgets/base",
          "model_name": "LayoutModel",
          "model_module_version": "1.2.0",
          "state": {
            "_model_module": "@jupyter-widgets/base",
            "_model_module_version": "1.2.0",
            "_model_name": "LayoutModel",
            "_view_count": null,
            "_view_module": "@jupyter-widgets/base",
            "_view_module_version": "1.2.0",
            "_view_name": "LayoutView",
            "align_content": null,
            "align_items": null,
            "align_self": null,
            "border": null,
            "bottom": null,
            "display": null,
            "flex": null,
            "flex_flow": null,
            "grid_area": null,
            "grid_auto_columns": null,
            "grid_auto_flow": null,
            "grid_auto_rows": null,
            "grid_column": null,
            "grid_gap": null,
            "grid_row": null,
            "grid_template_areas": null,
            "grid_template_columns": null,
            "grid_template_rows": null,
            "height": null,
            "justify_content": null,
            "justify_items": null,
            "left": null,
            "margin": null,
            "max_height": null,
            "max_width": null,
            "min_height": null,
            "min_width": null,
            "object_fit": null,
            "object_position": null,
            "order": null,
            "overflow": null,
            "overflow_x": null,
            "overflow_y": null,
            "padding": null,
            "right": null,
            "top": null,
            "visibility": null,
            "width": null
          }
        },
        "4b91c71d491d44ae90d9603706aade40": {
          "model_module": "@jupyter-widgets/base",
          "model_name": "LayoutModel",
          "model_module_version": "1.2.0",
          "state": {
            "_model_module": "@jupyter-widgets/base",
            "_model_module_version": "1.2.0",
            "_model_name": "LayoutModel",
            "_view_count": null,
            "_view_module": "@jupyter-widgets/base",
            "_view_module_version": "1.2.0",
            "_view_name": "LayoutView",
            "align_content": null,
            "align_items": null,
            "align_self": null,
            "border": null,
            "bottom": null,
            "display": null,
            "flex": null,
            "flex_flow": null,
            "grid_area": null,
            "grid_auto_columns": null,
            "grid_auto_flow": null,
            "grid_auto_rows": null,
            "grid_column": null,
            "grid_gap": null,
            "grid_row": null,
            "grid_template_areas": null,
            "grid_template_columns": null,
            "grid_template_rows": null,
            "height": null,
            "justify_content": null,
            "justify_items": null,
            "left": null,
            "margin": null,
            "max_height": null,
            "max_width": null,
            "min_height": null,
            "min_width": null,
            "object_fit": null,
            "object_position": null,
            "order": null,
            "overflow": null,
            "overflow_x": null,
            "overflow_y": null,
            "padding": null,
            "right": null,
            "top": null,
            "visibility": null,
            "width": null
          }
        },
        "89f53e4dcdc74631bd7cb0303dd40644": {
          "model_module": "@jupyter-widgets/controls",
          "model_name": "DescriptionStyleModel",
          "model_module_version": "1.5.0",
          "state": {
            "_model_module": "@jupyter-widgets/controls",
            "_model_module_version": "1.5.0",
            "_model_name": "DescriptionStyleModel",
            "_view_count": null,
            "_view_module": "@jupyter-widgets/base",
            "_view_module_version": "1.2.0",
            "_view_name": "StyleView",
            "description_width": ""
          }
        },
        "dfd4b0daff904af38b311c16b89625ed": {
          "model_module": "@jupyter-widgets/base",
          "model_name": "LayoutModel",
          "model_module_version": "1.2.0",
          "state": {
            "_model_module": "@jupyter-widgets/base",
            "_model_module_version": "1.2.0",
            "_model_name": "LayoutModel",
            "_view_count": null,
            "_view_module": "@jupyter-widgets/base",
            "_view_module_version": "1.2.0",
            "_view_name": "LayoutView",
            "align_content": null,
            "align_items": null,
            "align_self": null,
            "border": null,
            "bottom": null,
            "display": null,
            "flex": null,
            "flex_flow": null,
            "grid_area": null,
            "grid_auto_columns": null,
            "grid_auto_flow": null,
            "grid_auto_rows": null,
            "grid_column": null,
            "grid_gap": null,
            "grid_row": null,
            "grid_template_areas": null,
            "grid_template_columns": null,
            "grid_template_rows": null,
            "height": null,
            "justify_content": null,
            "justify_items": null,
            "left": null,
            "margin": null,
            "max_height": null,
            "max_width": null,
            "min_height": null,
            "min_width": null,
            "object_fit": null,
            "object_position": null,
            "order": null,
            "overflow": null,
            "overflow_x": null,
            "overflow_y": null,
            "padding": null,
            "right": null,
            "top": null,
            "visibility": null,
            "width": null
          }
        },
        "4db5ab13952046e7a7a5a9c9e4ea34c3": {
          "model_module": "@jupyter-widgets/controls",
          "model_name": "ProgressStyleModel",
          "model_module_version": "1.5.0",
          "state": {
            "_model_module": "@jupyter-widgets/controls",
            "_model_module_version": "1.5.0",
            "_model_name": "ProgressStyleModel",
            "_view_count": null,
            "_view_module": "@jupyter-widgets/base",
            "_view_module_version": "1.2.0",
            "_view_name": "StyleView",
            "bar_color": null,
            "description_width": ""
          }
        },
        "fa2bc6fd0a864d52ba7eb172857606ee": {
          "model_module": "@jupyter-widgets/base",
          "model_name": "LayoutModel",
          "model_module_version": "1.2.0",
          "state": {
            "_model_module": "@jupyter-widgets/base",
            "_model_module_version": "1.2.0",
            "_model_name": "LayoutModel",
            "_view_count": null,
            "_view_module": "@jupyter-widgets/base",
            "_view_module_version": "1.2.0",
            "_view_name": "LayoutView",
            "align_content": null,
            "align_items": null,
            "align_self": null,
            "border": null,
            "bottom": null,
            "display": null,
            "flex": null,
            "flex_flow": null,
            "grid_area": null,
            "grid_auto_columns": null,
            "grid_auto_flow": null,
            "grid_auto_rows": null,
            "grid_column": null,
            "grid_gap": null,
            "grid_row": null,
            "grid_template_areas": null,
            "grid_template_columns": null,
            "grid_template_rows": null,
            "height": null,
            "justify_content": null,
            "justify_items": null,
            "left": null,
            "margin": null,
            "max_height": null,
            "max_width": null,
            "min_height": null,
            "min_width": null,
            "object_fit": null,
            "object_position": null,
            "order": null,
            "overflow": null,
            "overflow_x": null,
            "overflow_y": null,
            "padding": null,
            "right": null,
            "top": null,
            "visibility": null,
            "width": null
          }
        },
        "6ae064a37cbf40ba8d26a0f0b5414c51": {
          "model_module": "@jupyter-widgets/controls",
          "model_name": "DescriptionStyleModel",
          "model_module_version": "1.5.0",
          "state": {
            "_model_module": "@jupyter-widgets/controls",
            "_model_module_version": "1.5.0",
            "_model_name": "DescriptionStyleModel",
            "_view_count": null,
            "_view_module": "@jupyter-widgets/base",
            "_view_module_version": "1.2.0",
            "_view_name": "StyleView",
            "description_width": ""
          }
        }
      }
    }
  },
  "nbformat": 4,
  "nbformat_minor": 5
}