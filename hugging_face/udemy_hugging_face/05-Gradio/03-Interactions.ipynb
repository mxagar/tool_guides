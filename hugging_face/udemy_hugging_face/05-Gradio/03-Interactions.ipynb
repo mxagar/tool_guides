{
 "cells": [
  {
   "cell_type": "markdown",
   "id": "f95e9aa5-8138-4f9a-a463-2e458931193f",
   "metadata": {},
   "source": [
    "## Interactions\n",
    "\n",
    "Gradio events can be used to trigger actions based on changes in the interface, such as when a button is pressed or an input value changes.\n"
   ]
  },
  {
   "cell_type": "code",
   "execution_count": 1,
   "id": "b5796131-94bc-4b8e-9c96-64fa38593510",
   "metadata": {},
   "outputs": [],
   "source": [
    "import numpy as np\n",
    "import gradio as gr"
   ]
  },
  {
   "cell_type": "markdown",
   "id": "1560b4c5-136d-43e4-bbe5-701459f54dcd",
   "metadata": {},
   "source": [
    "Let's create a function which calculates the product between two values as soon as the second value changes. To this end we can use the **change** event listener of the input component to bind the multiply function to the second slider.\n",
    "Whenever the value of the second slider changes,  `multiply` is triggered, updating the result.\n",
    "\n",
    "`change` can be used in the same way as **gr.Interface**, thus it accepts\n",
    "- a function fn\n",
    "- inputs\n",
    "- outputs\n"
   ]
  },
  {
   "cell_type": "code",
   "execution_count": 2,
   "id": "58b67c18-29ce-4504-88a8-66947e0fa381",
   "metadata": {},
   "outputs": [
    {
     "name": "stdout",
     "output_type": "stream",
     "text": [
      "Running on local URL:  http://127.0.0.1:7860\n",
      "\n",
      "To create a public link, set `share=True` in `launch()`.\n"
     ]
    },
    {
     "data": {
      "text/html": [
       "<div><iframe src=\"http://127.0.0.1:7860/\" width=\"100%\" height=\"500\" allow=\"autoplay; camera; microphone; clipboard-read; clipboard-write;\" frameborder=\"0\" allowfullscreen></iframe></div>"
      ],
      "text/plain": [
       "<IPython.core.display.HTML object>"
      ]
     },
     "metadata": {},
     "output_type": "display_data"
    },
    {
     "data": {
      "text/plain": []
     },
     "execution_count": 2,
     "metadata": {},
     "output_type": "execute_result"
    }
   ],
   "source": [
    "def multiply(x, y):\n",
    "    return x*y\n",
    "with gr.Blocks() as demo:\n",
    "    with gr.Row():\n",
    "        slider1 = gr.Slider()\n",
    "        slider2 = gr.Slider()\n",
    "    with gr.Row():\n",
    "        result = gr.Text()\n",
    "\n",
    "    slider2.change(fn=multiply, inputs=[slider1, slider2], outputs=result)\n",
    "demo.launch()"
   ]
  },
  {
   "cell_type": "markdown",
   "id": "2caece4f-29c3-431e-b9a1-41d452b0eec4",
   "metadata": {},
   "source": [
    "Instead of using the event listener we can also create a submit button to which we append the **click** function which accepts the same arguments as `interface` or `change`."
   ]
  },
  {
   "cell_type": "code",
   "execution_count": 3,
   "id": "15cbbfa9-d50d-4032-8680-61f2228cc070",
   "metadata": {},
   "outputs": [
    {
     "name": "stdout",
     "output_type": "stream",
     "text": [
      "Running on local URL:  http://127.0.0.1:7861\n",
      "\n",
      "To create a public link, set `share=True` in `launch()`.\n"
     ]
    },
    {
     "data": {
      "text/html": [
       "<div><iframe src=\"http://127.0.0.1:7861/\" width=\"100%\" height=\"500\" allow=\"autoplay; camera; microphone; clipboard-read; clipboard-write;\" frameborder=\"0\" allowfullscreen></iframe></div>"
      ],
      "text/plain": [
       "<IPython.core.display.HTML object>"
      ]
     },
     "metadata": {},
     "output_type": "display_data"
    },
    {
     "data": {
      "text/plain": []
     },
     "execution_count": 3,
     "metadata": {},
     "output_type": "execute_result"
    }
   ],
   "source": [
    "def multiply(x, y):\n",
    "    return x*y\n",
    "with gr.Blocks() as demo:\n",
    "    with gr.Row():\n",
    "        slider1 = gr.Slider()\n",
    "        slider2 = gr.Slider()\n",
    "    with gr.Row():\n",
    "        button = gr.Button(\"Multiply\")\n",
    "    with gr.Row():\n",
    "        result = gr.Text()\n",
    "\n",
    "    button.click(fn=multiply, inputs=[slider1, slider2], outputs=[result])\n",
    "demo.launch()"
   ]
  },
  {
   "cell_type": "markdown",
   "id": "b3af57ef-86a2-45c2-99c0-fdc211404d46",
   "metadata": {},
   "source": [
    "Let's look at another example:"
   ]
  },
  {
   "cell_type": "markdown",
   "id": "4a12c98b-75be-44ea-a6aa-04d7745de9d3",
   "metadata": {},
   "source": [
    "*   **Setting Up Interactivity**:\n",
    "    \n",
    "    *   `inp.change(to_grayscale, inputs=inp, outputs=[out, log])` sets up an event listener on the input image component (`inp`). Whenever the input image changes (i.e., when a user uploads a new image), the `process_image` function is triggered, updating both the output image and the log textbox.\n",
    "     \n",
    "This example also demonstrates how to use multiple in&outputs"
   ]
  },
  {
   "cell_type": "code",
   "execution_count": 4,
   "id": "9f9db322-c91c-4267-aff7-1ea5aa5513d8",
   "metadata": {},
   "outputs": [
    {
     "name": "stdout",
     "output_type": "stream",
     "text": [
      "Running on local URL:  http://127.0.0.1:7862\n",
      "\n",
      "To create a public link, set `share=True` in `launch()`.\n"
     ]
    },
    {
     "data": {
      "text/html": [
       "<div><iframe src=\"http://127.0.0.1:7862/\" width=\"100%\" height=\"500\" allow=\"autoplay; camera; microphone; clipboard-read; clipboard-write;\" frameborder=\"0\" allowfullscreen></iframe></div>"
      ],
      "text/plain": [
       "<IPython.core.display.HTML object>"
      ]
     },
     "metadata": {},
     "output_type": "display_data"
    },
    {
     "data": {
      "text/plain": []
     },
     "execution_count": 4,
     "metadata": {},
     "output_type": "execute_result"
    }
   ],
   "source": [
    "def to_grayscale(input_image):\n",
    "    grayscale_image = np.mean(input_image, axis=2, keepdims=True)\n",
    "    grayscale_image = np.tile(grayscale_image, (1, 1, 3))\n",
    "    return grayscale_image.astype(np.uint8), \"Log\"\n",
    "\n",
    "with gr.Blocks() as demo:\n",
    "    gr.Markdown(\"Upload an image to process:\")\n",
    "    with gr.Row():\n",
    "        with gr.Column():\n",
    "            inp = gr.Image()\n",
    "            out = gr.Image()\n",
    "        with gr.Column():\n",
    "            log = gr.Textbox()\n",
    "            submit = gr.Button(value=\"Run this function\")\n",
    "            submit.click(fn=to_grayscale, inputs=inp, outputs=[out, log])\n",
    "\n",
    "demo.launch()\n"
   ]
  },
  {
   "cell_type": "markdown",
   "id": "4a7c84c2-5f43-4a8e-a19c-df05da2f8541",
   "metadata": {},
   "source": [
    "## Multiple functions\n",
    "It's straightforward to add more functionality to your program!\n",
    "Simply create additional components (e.g buttons) and link the corresponding function to it"
   ]
  },
  {
   "cell_type": "code",
   "execution_count": 5,
   "id": "b874777b-200c-4564-a5d1-a8b10c76f717",
   "metadata": {},
   "outputs": [
    {
     "name": "stdout",
     "output_type": "stream",
     "text": [
      "Running on local URL:  http://127.0.0.1:7863\n",
      "\n",
      "To create a public link, set `share=True` in `launch()`.\n"
     ]
    },
    {
     "data": {
      "text/html": [
       "<div><iframe src=\"http://127.0.0.1:7863/\" width=\"100%\" height=\"500\" allow=\"autoplay; camera; microphone; clipboard-read; clipboard-write;\" frameborder=\"0\" allowfullscreen></iframe></div>"
      ],
      "text/plain": [
       "<IPython.core.display.HTML object>"
      ]
     },
     "metadata": {},
     "output_type": "display_data"
    },
    {
     "data": {
      "text/plain": []
     },
     "execution_count": 5,
     "metadata": {},
     "output_type": "execute_result"
    }
   ],
   "source": [
    "def multiply(x, y):\n",
    "    return x*y\n",
    "\n",
    "def addition(x, y):\n",
    "    return x+y\n",
    "with gr.Blocks() as demo:\n",
    "    with gr.Row():\n",
    "        slider1 = gr.Slider()\n",
    "        slider2 = gr.Slider()\n",
    "    with gr.Row():\n",
    "        button_multiply = gr.Button(\"Multiply\")\n",
    "        button_addition = gr.Button(\"Addition\")\n",
    "\n",
    "    with gr.Row():\n",
    "        result = gr.Text()\n",
    "\n",
    "    button_multiply.click(fn=multiply, inputs=[slider1, slider2], outputs=[result])\n",
    "    button_addition.click(fn=addition, inputs=[slider1, slider2], outputs=[result])\n",
    "\n",
    "demo.launch()"
   ]
  },
  {
   "cell_type": "markdown",
   "id": "22cf52b9-fd53-4fe8-a460-428e675617ac",
   "metadata": {},
   "source": [
    "You can of course also create more python programs. The only requirement is that you link one function to the button. However, you are free to call multiply other functions and even create multiple classes within this function"
   ]
  },
  {
   "cell_type": "code",
   "execution_count": 6,
   "id": "ff39c8f8-4282-4838-9a06-bbb7d68c2e44",
   "metadata": {},
   "outputs": [],
   "source": [
    "def create_result_string(i1, i2):\n",
    "    return f\"{i1} is the squared value and {i2} is the square root!\"\n",
    "\n",
    "def square_root_input(input_value):\n",
    "    return input_value ** 0.5\n",
    "\n",
    "def square_input(input_value):\n",
    "    return input_value**2\n",
    "\n",
    "def main(input_value):\n",
    "    # Call function2 on input 1\n",
    "    input_value_squared = square_input(input_value)\n",
    "    input_value_root = square_root_input(input_value)\n",
    "    return create_result_string(input_value_squared, input_value_root)\n",
    "    "
   ]
  },
  {
   "cell_type": "code",
   "execution_count": 7,
   "id": "b83b34a5-2265-4887-a650-b4edfca0204a",
   "metadata": {},
   "outputs": [
    {
     "name": "stdout",
     "output_type": "stream",
     "text": [
      "Running on local URL:  http://127.0.0.1:7864\n",
      "\n",
      "To create a public link, set `share=True` in `launch()`.\n"
     ]
    },
    {
     "data": {
      "text/html": [
       "<div><iframe src=\"http://127.0.0.1:7864/\" width=\"100%\" height=\"500\" allow=\"autoplay; camera; microphone; clipboard-read; clipboard-write;\" frameborder=\"0\" allowfullscreen></iframe></div>"
      ],
      "text/plain": [
       "<IPython.core.display.HTML object>"
      ]
     },
     "metadata": {},
     "output_type": "display_data"
    },
    {
     "data": {
      "text/plain": []
     },
     "execution_count": 7,
     "metadata": {},
     "output_type": "execute_result"
    }
   ],
   "source": [
    "\n",
    "with gr.Blocks() as demo:\n",
    "    with gr.Row():\n",
    "        slider1 = gr.Slider()\n",
    "    with gr.Row():\n",
    "        button = gr.Button(\"Start program!\")\n",
    "\n",
    "    with gr.Row():\n",
    "        result = gr.Label()\n",
    "\n",
    "    button.click(fn=main, inputs=[slider1], outputs=[result])\n",
    "\n",
    "demo.launch()"
   ]
  },
  {
   "cell_type": "markdown",
   "id": "d8d64349-50cb-4b53-87f2-6336ceb587f7",
   "metadata": {},
   "source": [
    "## OOP\n",
    "Of course, you can also use OOP!"
   ]
  },
  {
   "cell_type": "code",
   "execution_count": 8,
   "id": "4713b657-5307-4856-aa68-d63e79ee789b",
   "metadata": {},
   "outputs": [
    {
     "name": "stdout",
     "output_type": "stream",
     "text": [
      "Running on local URL:  http://127.0.0.1:7865\n",
      "\n",
      "To create a public link, set `share=True` in `launch()`.\n"
     ]
    },
    {
     "data": {
      "text/html": [
       "<div><iframe src=\"http://127.0.0.1:7865/\" width=\"100%\" height=\"500\" allow=\"autoplay; camera; microphone; clipboard-read; clipboard-write;\" frameborder=\"0\" allowfullscreen></iframe></div>"
      ],
      "text/plain": [
       "<IPython.core.display.HTML object>"
      ]
     },
     "metadata": {},
     "output_type": "display_data"
    },
    {
     "data": {
      "text/plain": []
     },
     "execution_count": 8,
     "metadata": {},
     "output_type": "execute_result"
    }
   ],
   "source": [
    "\n",
    "class Calculator:\n",
    "    def __init__(self):\n",
    "        pass\n",
    "    \n",
    "    @staticmethod\n",
    "    def multiply(x, y):\n",
    "        return x*y\n",
    "    \n",
    "    @staticmethod\n",
    "    def addition(x, y):\n",
    "        return x+y\n",
    "\n",
    "calc = Calculator()\n",
    "\n",
    "with gr.Blocks() as demo:\n",
    "    with gr.Row():\n",
    "        slider1 = gr.Slider()\n",
    "        slider2 = gr.Slider()\n",
    "    with gr.Row():\n",
    "        button_multiply = gr.Button(\"Multiply\")\n",
    "        button_addition = gr.Button(\"Addition\")\n",
    "\n",
    "    with gr.Row():\n",
    "        result = gr.Text()\n",
    "\n",
    "    button_multiply.click(fn=calc.multiply, inputs=[slider1, slider2], outputs=[result])\n",
    "    button_addition.click(fn=calc.addition, inputs=[slider1, slider2], outputs=[result])\n",
    "\n",
    "demo.launch()"
   ]
  },
  {
   "cell_type": "code",
   "execution_count": null,
   "id": "f87ead9f-7140-46f7-b7e4-786d65ed51d7",
   "metadata": {},
   "outputs": [],
   "source": []
  }
 ],
 "metadata": {
  "kernelspec": {
   "display_name": "Python 3 (ipykernel)",
   "language": "python",
   "name": "python3"
  },
  "language_info": {
   "codemirror_mode": {
    "name": "ipython",
    "version": 3
   },
   "file_extension": ".py",
   "mimetype": "text/x-python",
   "name": "python",
   "nbconvert_exporter": "python",
   "pygments_lexer": "ipython3",
   "version": "3.11.0"
  }
 },
 "nbformat": 4,
 "nbformat_minor": 5
}
