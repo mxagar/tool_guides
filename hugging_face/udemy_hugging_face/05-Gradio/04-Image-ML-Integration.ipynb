{
 "cells": [
  {
   "cell_type": "markdown",
   "id": "80baf78d-ecc7-443c-b9c1-a4d4ff4b3a3c",
   "metadata": {},
   "source": [
    "# Integrating Machine Learning Models\n",
    "\n",
    "## Model Integration\n",
    "\n",
    "To demonstrate how to integrate a machine learning model with Gradio, we'll use a pre-trained model using hugging face's *pipeline*. Specifically, we'll use the ResNet18 model, which is commonly used for image classification tasks. Here's how to set up and use this model with Gradio:\n",
    "\n",
    "### Setting Up the Model\n",
    "\n",
    "First, import the necessary libraries and load the pre-trained model:\n",
    "\n"
   ]
  },
  {
   "cell_type": "code",
   "execution_count": 1,
   "id": "8a2592e6-4d7a-4a37-93fc-e38abf16f2e6",
   "metadata": {},
   "outputs": [
    {
     "name": "stderr",
     "output_type": "stream",
     "text": [
      "Could not find image processor class in the image processor config or the model config. Loading based on pattern matching with the model's feature extractor configuration. Please open a PR/issue to update `preprocessor_config.json` to use `image_processor_type` instead of `feature_extractor_type`. This warning will be removed in v4.40.\n"
     ]
    }
   ],
   "source": [
    "from PIL import Image\n",
    "import numpy as np\n",
    "\n",
    "from transformers import AutoImageProcessor, AutoModelForImageClassification\n",
    "\n",
    "image_processor = AutoImageProcessor.from_pretrained(\"microsoft/resnet-18\")\n",
    "model = AutoModelForImageClassification.from_pretrained(\"microsoft/resnet-18\")"
   ]
  },
  {
   "cell_type": "code",
   "execution_count": 5,
   "id": "237a55e1-257c-4d06-a699-ca61b6c5672b",
   "metadata": {},
   "outputs": [],
   "source": [
    "def classify_image(image):\n",
    "    # Apply the transformations to the image\n",
    "    image = image_processor(image, return_tensors=\"pt\")[\"pixel_values\"]\n",
    "    # Predict the class with the highest probability\n",
    "    prediction = model(image).logits\n",
    "\n",
    "    # Convert class index to label\n",
    "    \n",
    "    return model.config.id2label[prediction.argmax().item()]\n"
   ]
  },
  {
   "cell_type": "code",
   "execution_count": 6,
   "id": "6f7429d5-9e91-4412-a50f-68c8ea8f3be7",
   "metadata": {},
   "outputs": [
    {
     "name": "stdout",
     "output_type": "stream",
     "text": [
      "Running on local URL:  http://127.0.0.1:7867\n",
      "\n",
      "To create a public link, set `share=True` in `launch()`.\n"
     ]
    },
    {
     "data": {
      "text/html": [
       "<div><iframe src=\"http://127.0.0.1:7867/\" width=\"100%\" height=\"500\" allow=\"autoplay; camera; microphone; clipboard-read; clipboard-write;\" frameborder=\"0\" allowfullscreen></iframe></div>"
      ],
      "text/plain": [
       "<IPython.core.display.HTML object>"
      ]
     },
     "metadata": {},
     "output_type": "display_data"
    },
    {
     "data": {
      "text/plain": []
     },
     "execution_count": 6,
     "metadata": {},
     "output_type": "execute_result"
    },
    {
     "name": "stderr",
     "output_type": "stream",
     "text": [
      "Traceback (most recent call last):\n",
      "  File \"/Users/marci/opt/miniconda3/envs/gradio/lib/python3.11/site-packages/gradio/queueing.py\", line 527, in process_events\n",
      "    response = await route_utils.call_process_api(\n",
      "               ^^^^^^^^^^^^^^^^^^^^^^^^^^^^^^^^^^^\n",
      "  File \"/Users/marci/opt/miniconda3/envs/gradio/lib/python3.11/site-packages/gradio/route_utils.py\", line 270, in call_process_api\n",
      "    output = await app.get_blocks().process_api(\n",
      "             ^^^^^^^^^^^^^^^^^^^^^^^^^^^^^^^^^^^\n",
      "  File \"/Users/marci/opt/miniconda3/envs/gradio/lib/python3.11/site-packages/gradio/blocks.py\", line 1887, in process_api\n",
      "    result = await self.call_function(\n",
      "             ^^^^^^^^^^^^^^^^^^^^^^^^^\n",
      "  File \"/Users/marci/opt/miniconda3/envs/gradio/lib/python3.11/site-packages/gradio/blocks.py\", line 1472, in call_function\n",
      "    prediction = await anyio.to_thread.run_sync(\n",
      "                 ^^^^^^^^^^^^^^^^^^^^^^^^^^^^^^^\n",
      "  File \"/Users/marci/opt/miniconda3/envs/gradio/lib/python3.11/site-packages/anyio/to_thread.py\", line 56, in run_sync\n",
      "    return await get_async_backend().run_sync_in_worker_thread(\n",
      "           ^^^^^^^^^^^^^^^^^^^^^^^^^^^^^^^^^^^^^^^^^^^^^^^^^^^^\n",
      "  File \"/Users/marci/opt/miniconda3/envs/gradio/lib/python3.11/site-packages/anyio/_backends/_asyncio.py\", line 2144, in run_sync_in_worker_thread\n",
      "    return await future\n",
      "           ^^^^^^^^^^^^\n",
      "  File \"/Users/marci/opt/miniconda3/envs/gradio/lib/python3.11/site-packages/anyio/_backends/_asyncio.py\", line 851, in run\n",
      "    result = context.run(func, *args)\n",
      "             ^^^^^^^^^^^^^^^^^^^^^^^^\n",
      "  File \"/Users/marci/opt/miniconda3/envs/gradio/lib/python3.11/site-packages/gradio/utils.py\", line 808, in wrapper\n",
      "    response = f(*args, **kwargs)\n",
      "               ^^^^^^^^^^^^^^^^^^\n",
      "  File \"/var/folders/vm/b4sfyssn6sz9q2275crdzzvc0000gn/T/ipykernel_21756/2787031163.py\", line 3, in classify_image\n",
      "    image = image_processor(image, return_tensors=\"pt\")[\"pixel_values\"]\n",
      "            ^^^^^^^^^^^^^^^^^^^^^^^^^^^^^^^^^^^^^^^^^^^\n",
      "  File \"/Users/marci/opt/miniconda3/envs/gradio/lib/python3.11/site-packages/transformers/image_processing_utils.py\", line 551, in __call__\n",
      "    return self.preprocess(images, **kwargs)\n",
      "           ^^^^^^^^^^^^^^^^^^^^^^^^^^^^^^^^^\n",
      "  File \"/Users/marci/opt/miniconda3/envs/gradio/lib/python3.11/site-packages/transformers/models/convnext/image_processing_convnext.py\", line 281, in preprocess\n",
      "    images = make_list_of_images(images)\n",
      "             ^^^^^^^^^^^^^^^^^^^^^^^^^^^\n",
      "  File \"/Users/marci/opt/miniconda3/envs/gradio/lib/python3.11/site-packages/transformers/image_utils.py\", line 162, in make_list_of_images\n",
      "    raise ValueError(\n",
      "ValueError: Invalid image type. Expected either PIL.Image.Image, numpy.ndarray, torch.Tensor, tf.Tensor or jax.ndarray, but got <class 'NoneType'>.\n"
     ]
    }
   ],
   "source": [
    "import gradio as gr\n",
    "\n",
    "iface = gr.Interface(\n",
    "    fn=classify_image,\n",
    "    inputs=gr.Image(),\n",
    "    outputs=gr.Label(),\n",
    "    title=\"Real-time Image Classifier\",\n",
    "    description=\"Upload an image to classify it into one of 1000 classes\",\n",
    "    live=True\n",
    ")\n",
    "iface.launch()\n"
   ]
  },
  {
   "cell_type": "markdown",
   "id": "03715883-73cd-45ed-ba11-7296839e8c96",
   "metadata": {},
   "source": [
    "You just built an easy shareable image classification model!\n",
    "\n",
    "Image sources:\n",
    "- https://en.wikipedia.org/wiki/Puppy#/media/File:Golde33443.jpg\n",
    "- https://en.wikipedia.org/wiki/Cat#/media/File:Cat_August_2010-4.jpg"
   ]
  },
  {
   "cell_type": "code",
   "execution_count": null,
   "id": "ddbee09b-9583-4c19-812e-370e5dd5c90c",
   "metadata": {},
   "outputs": [],
   "source": []
  }
 ],
 "metadata": {
  "kernelspec": {
   "display_name": "Python 3 (ipykernel)",
   "language": "python",
   "name": "python3"
  },
  "language_info": {
   "codemirror_mode": {
    "name": "ipython",
    "version": 3
   },
   "file_extension": ".py",
   "mimetype": "text/x-python",
   "name": "python",
   "nbconvert_exporter": "python",
   "pygments_lexer": "ipython3",
   "version": "3.11.0"
  }
 },
 "nbformat": 4,
 "nbformat_minor": 5
}
