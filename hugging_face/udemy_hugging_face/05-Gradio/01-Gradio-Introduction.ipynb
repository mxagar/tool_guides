{
 "cells": [
  {
   "cell_type": "markdown",
   "id": "fb609a7a-34fa-4f49-a882-bf7100ce1cac",
   "metadata": {},
   "source": [
    "# Introduction to Gradio\n",
    "\n",
    "## Purpose and Benefits\n",
    "\n",
    "Gradio is an open-source Python library that simplifies the process of creating interfaces for machine learning models. It allows developers and researchers to quickly build customizable web-based UIs for their models. The main advantages of using Gradio include:\n",
    "\n",
    "- **Ease of Use**: Gradio makes it easy for anyone, regardless of their web development expertise, to create and share interactive demos of machine learning models.\n",
    "- **Rapid Prototyping**: You can develop and iterate on your model's interface quickly, making it an ideal tool for experimentation and prototype development.\n",
    "- **Accessibility**: By providing a simple way to interact with models via the web, Gradio helps in democratizing access to AI technology, making it accessible to a non-technical audience.\n",
    "- **Collaboration and Sharing**: Gradio interfaces can be shared with a link, enabling easy collaboration and feedback gathering from users or stakeholders anywhere in the world.\n",
    "\n",
    "## Installation Guide\n",
    "\n",
    "To get started with Gradio, you first need to install the library. You can install Gradio using pip:\n",
    "\n",
    "```bash\n",
    "pip install gradio\n"
   ]
  },
  {
   "cell_type": "markdown",
   "id": "54ca5fd0-9958-4e30-bafe-a71d40704e3e",
   "metadata": {},
   "source": [
    "# Basics of Gradio\n",
    "\n",
    "## Creating Your First Interface\n",
    "\n",
    "To start using Gradio, let's create a simple interface for a function that adds two numbers. This will demonstrate how you can turn a Python function into an interactive web app with just a few lines of code.\n",
    "\n",
    "First, define the Python function:"
   ]
  },
  {
   "cell_type": "code",
   "execution_count": 1,
   "id": "f6046597-bf18-4f16-b0fe-4eeb487aa99b",
   "metadata": {},
   "outputs": [],
   "source": [
    "def add_numbers(x, y):\n",
    "    return x + y"
   ]
  },
  {
   "cell_type": "markdown",
   "id": "d8aa8a50-12d8-435f-94ad-f411530273cc",
   "metadata": {},
   "source": [
    "Next, create a Gradio interface for this function:"
   ]
  },
  {
   "cell_type": "code",
   "execution_count": 2,
   "id": "3845b060-7748-4d48-94db-db9c21796eae",
   "metadata": {},
   "outputs": [
    {
     "name": "stdout",
     "output_type": "stream",
     "text": [
      "Running on local URL:  http://127.0.0.1:7865\n",
      "\n",
      "To create a public link, set `share=True` in `launch()`.\n"
     ]
    },
    {
     "data": {
      "text/html": [
       "<div><iframe src=\"http://127.0.0.1:7865/\" width=\"100%\" height=\"500\" allow=\"autoplay; camera; microphone; clipboard-read; clipboard-write;\" frameborder=\"0\" allowfullscreen></iframe></div>"
      ],
      "text/plain": [
       "<IPython.core.display.HTML object>"
      ]
     },
     "metadata": {},
     "output_type": "display_data"
    },
    {
     "data": {
      "text/plain": []
     },
     "execution_count": 2,
     "metadata": {},
     "output_type": "execute_result"
    }
   ],
   "source": [
    "import gradio as gr\n",
    "\n",
    "iface = gr.Interface(fn=add_numbers, inputs=[gr.Number(10), gr.Number()], outputs=gr.Number())\n",
    "iface.launch()\n"
   ]
  },
  {
   "cell_type": "markdown",
   "id": "b4ca3607-6cc7-4cd9-a7a6-0d9cc1853b0b",
   "metadata": {},
   "source": [
    "This code snippet does the following:\n",
    "\n",
    "- `gr.Interface` creates a new Gradio interface. The `fn` parameter takes the function we defined earlier (`add_numbers`).\n",
    "- The `inputs` parameter specifies that our function requires two numeric inputs.\n",
    "    - `gr.Number()` accepts various [arguments](https://www.gradio.app/docs/gradio/number), such as default values and min/max values.\n",
    "- The `outputs` parameter indicates that our function returns a numeric output.\n",
    "- `iface.launch()` launches the interface. By default, it will be served locally and be accessible via a web browser at `http://localhost:7860`.\n",
    "  \n",
    "The `Flag` button can be used to *flag* outputs for manual review. The flagged outputs are stored within the `flagged`directory.\n",
    "\n",
    "You can find the full documentation for the Interface function [here](https://www.gradio.app/docs/gradio/interface)"
   ]
  },
  {
   "cell_type": "markdown",
   "id": "3b23c94e-bf24-4d10-90b8-fcf2e2a7ddb4",
   "metadata": {},
   "source": [
    "# Components Overview\n",
    "Gradio offers a wide range of input and output [components](https://www.gradio.app/docs/gradio/components) to handle various data types and use cases. Here are some of the most commonly used components:\n",
    "\n",
    "- **Number**: Enables to enter a number. Useful to add additional information.\n",
    "- **Textbox**: Allows users to enter text. Useful for models that process text input like translations or sentiment analysis.\n",
    "- **Slider**: Provides a slider for numerical input. Ideal for parameters that range within a defined interval.\n",
    "- **Image**: Lets users upload an image or take a picture for image processing models.\n",
    "- **Dropdown**: Enables selection from a list of options. Perfect for choosing model options or categories.\n",
    "- **Label**: Displays text output. Commonly used to show the result from classification models.\n",
    "- **Image**: Allow for image handling. Useful for models that generate or modify images.\n",
    "- **JSON**: Handle JSON data. Ideal for displaying raw model outputs or more complex data structures.\n",
    "\n",
    "Each gradio application has a structure as shown in the image below([Source](https://raw.githubusercontent.com/gradio-app/gradio/main/guides/assets/dataflow.svg))\n",
    "![Data Flow of a gradio application](dataflow.svg)\n",
    "\n",
    "\n",
    "In addition, each component has its specific events that they support. We will investigate invents in a later lecture!\n",
    "\n",
    "Let's look at some examples!"
   ]
  },
  {
   "cell_type": "markdown",
   "id": "153e64e5-d671-4be8-8dd1-51edceacfa74",
   "metadata": {},
   "source": [
    "**Text Example**"
   ]
  },
  {
   "cell_type": "code",
   "execution_count": 3,
   "id": "1fcc0592-0bc6-4c52-81d2-3074b17a97c3",
   "metadata": {},
   "outputs": [
    {
     "name": "stdout",
     "output_type": "stream",
     "text": [
      "Running on local URL:  http://127.0.0.1:7866\n",
      "\n",
      "To create a public link, set `share=True` in `launch()`.\n"
     ]
    },
    {
     "data": {
      "text/html": [
       "<div><iframe src=\"http://127.0.0.1:7866/\" width=\"100%\" height=\"500\" allow=\"autoplay; camera; microphone; clipboard-read; clipboard-write;\" frameborder=\"0\" allowfullscreen></iframe></div>"
      ],
      "text/plain": [
       "<IPython.core.display.HTML object>"
      ]
     },
     "metadata": {},
     "output_type": "display_data"
    },
    {
     "data": {
      "text/plain": []
     },
     "execution_count": 3,
     "metadata": {},
     "output_type": "execute_result"
    }
   ],
   "source": [
    "def reverse_text(input_text):\n",
    "    return input_text[::-1]\n",
    "\n",
    "iface = gr.Interface(fn=reverse_text, inputs=gr.Text(), outputs=gr.Text())\n",
    "iface.launch()\n"
   ]
  },
  {
   "cell_type": "markdown",
   "id": "c274ca7e-dae0-4f6a-beb8-b9e0429b7b2e",
   "metadata": {},
   "source": [
    "**Slider Example**"
   ]
  },
  {
   "cell_type": "code",
   "execution_count": 4,
   "id": "a4e7f49e-4384-4410-948d-19996cc279f9",
   "metadata": {},
   "outputs": [
    {
     "name": "stdout",
     "output_type": "stream",
     "text": [
      "Running on local URL:  http://127.0.0.1:7867\n",
      "\n",
      "To create a public link, set `share=True` in `launch()`.\n"
     ]
    },
    {
     "data": {
      "text/html": [
       "<div><iframe src=\"http://127.0.0.1:7867/\" width=\"100%\" height=\"500\" allow=\"autoplay; camera; microphone; clipboard-read; clipboard-write;\" frameborder=\"0\" allowfullscreen></iframe></div>"
      ],
      "text/plain": [
       "<IPython.core.display.HTML object>"
      ]
     },
     "metadata": {},
     "output_type": "display_data"
    },
    {
     "data": {
      "text/plain": []
     },
     "execution_count": 4,
     "metadata": {},
     "output_type": "execute_result"
    }
   ],
   "source": [
    "def slider_example(value):\n",
    "    return f\"Slider value: {value}\"\n",
    "\n",
    "iface = gr.Interface(fn=slider_example, inputs=gr.Slider(minimum=0, maximum=100), outputs=gr.Text())\n",
    "iface.launch()\n"
   ]
  },
  {
   "cell_type": "markdown",
   "id": "bc04e826-1254-4fa8-af0b-0f4a59ccabd5",
   "metadata": {},
   "source": [
    "**Image Example**"
   ]
  },
  {
   "cell_type": "code",
   "execution_count": 5,
   "id": "18dfb71c-6699-4151-828d-0f7d12b53f0d",
   "metadata": {},
   "outputs": [
    {
     "name": "stdout",
     "output_type": "stream",
     "text": [
      "Running on local URL:  http://127.0.0.1:7868\n",
      "\n",
      "To create a public link, set `share=True` in `launch()`.\n"
     ]
    },
    {
     "data": {
      "text/html": [
       "<div><iframe src=\"http://127.0.0.1:7868/\" width=\"100%\" height=\"500\" allow=\"autoplay; camera; microphone; clipboard-read; clipboard-write;\" frameborder=\"0\" allowfullscreen></iframe></div>"
      ],
      "text/plain": [
       "<IPython.core.display.HTML object>"
      ]
     },
     "metadata": {},
     "output_type": "display_data"
    },
    {
     "data": {
      "text/plain": []
     },
     "execution_count": 5,
     "metadata": {},
     "output_type": "execute_result"
    }
   ],
   "source": [
    "from PIL import Image\n",
    "import numpy as np\n",
    "\n",
    "def to_grayscale(input_image):\n",
    "    grayscale_image = np.mean(input_image, axis=2, keepdims=True)\n",
    "    grayscale_image = np.tile(grayscale_image, (1, 1, 3))\n",
    "    return grayscale_image.astype(np.uint8)\n",
    "\n",
    "iface = gr.Interface(fn=to_grayscale, inputs=gr.Image(), outputs=gr.Image())\n",
    "iface.launch()\n"
   ]
  },
  {
   "cell_type": "markdown",
   "id": "2395285a-dc0f-401f-a705-047ee90bd29a",
   "metadata": {},
   "source": [
    "**Dropdown Example**"
   ]
  },
  {
   "cell_type": "code",
   "execution_count": 6,
   "id": "c2064556-8169-4c09-ab9e-61d8ab7e54e8",
   "metadata": {},
   "outputs": [
    {
     "name": "stdout",
     "output_type": "stream",
     "text": [
      "Running on local URL:  http://127.0.0.1:7869\n",
      "\n",
      "To create a public link, set `share=True` in `launch()`.\n"
     ]
    },
    {
     "data": {
      "text/html": [
       "<div><iframe src=\"http://127.0.0.1:7869/\" width=\"100%\" height=\"500\" allow=\"autoplay; camera; microphone; clipboard-read; clipboard-write;\" frameborder=\"0\" allowfullscreen></iframe></div>"
      ],
      "text/plain": [
       "<IPython.core.display.HTML object>"
      ]
     },
     "metadata": {},
     "output_type": "display_data"
    },
    {
     "data": {
      "text/plain": []
     },
     "execution_count": 6,
     "metadata": {},
     "output_type": "execute_result"
    }
   ],
   "source": [
    "def handle_dropdown(selection):\n",
    "    return f\"You selected: {selection}\"\n",
    "\n",
    "options = [\"Option 1\", \"Option 2\", \"Option 3\"]\n",
    "iface = gr.Interface(fn=handle_dropdown, inputs=gr.Dropdown(choices=options), outputs=gr.Text())\n",
    "iface.launch()\n"
   ]
  },
  {
   "cell_type": "markdown",
   "id": "a5d1d302-3fd0-441f-b3e9-8414c89a624e",
   "metadata": {},
   "source": [
    "**Json**"
   ]
  },
  {
   "cell_type": "code",
   "execution_count": 7,
   "id": "3fe49061-2cde-4a98-936e-339f476b8793",
   "metadata": {},
   "outputs": [
    {
     "name": "stdout",
     "output_type": "stream",
     "text": [
      "Running on local URL:  http://127.0.0.1:7870\n",
      "\n",
      "To create a public link, set `share=True` in `launch()`.\n"
     ]
    },
    {
     "data": {
      "text/html": [
       "<div><iframe src=\"http://127.0.0.1:7870/\" width=\"100%\" height=\"500\" allow=\"autoplay; camera; microphone; clipboard-read; clipboard-write;\" frameborder=\"0\" allowfullscreen></iframe></div>"
      ],
      "text/plain": [
       "<IPython.core.display.HTML object>"
      ]
     },
     "metadata": {},
     "output_type": "display_data"
    },
    {
     "data": {
      "text/plain": []
     },
     "execution_count": 7,
     "metadata": {},
     "output_type": "execute_result"
    }
   ],
   "source": [
    "def number_details(number):\n",
    "    details = {\n",
    "        \"original\": number,\n",
    "        \"squared\": number ** 2,\n",
    "        \"sqrt\": number ** 0.5,\n",
    "        \"is_even\": number % 2 == 0\n",
    "    }\n",
    "    return details\n",
    "\n",
    "iface = gr.Interface(fn=number_details, inputs=gr.Number(), outputs=gr.Json())\n",
    "iface.launch()\n"
   ]
  },
  {
   "cell_type": "markdown",
   "id": "e05a9e86-b04a-4622-b2ff-e797725c4bf4",
   "metadata": {},
   "source": [
    "**Label**"
   ]
  },
  {
   "cell_type": "code",
   "execution_count": 8,
   "id": "7eb249a7-0d50-4cc8-b390-90b6d3c441d2",
   "metadata": {},
   "outputs": [
    {
     "name": "stdout",
     "output_type": "stream",
     "text": [
      "Running on local URL:  http://127.0.0.1:7871\n",
      "\n",
      "To create a public link, set `share=True` in `launch()`.\n"
     ]
    },
    {
     "data": {
      "text/html": [
       "<div><iframe src=\"http://127.0.0.1:7871/\" width=\"100%\" height=\"500\" allow=\"autoplay; camera; microphone; clipboard-read; clipboard-write;\" frameborder=\"0\" allowfullscreen></iframe></div>"
      ],
      "text/plain": [
       "<IPython.core.display.HTML object>"
      ]
     },
     "metadata": {},
     "output_type": "display_data"
    },
    {
     "data": {
      "text/plain": []
     },
     "execution_count": 8,
     "metadata": {},
     "output_type": "execute_result"
    }
   ],
   "source": [
    "def classify_number(number):\n",
    "    if number > 0:\n",
    "        return \"Positive\"\n",
    "    elif number < 0:\n",
    "        return \"Negative\"\n",
    "    else:\n",
    "        return \"Zero\"\n",
    "\n",
    "iface = gr.Interface(fn=classify_number, inputs=gr.Number(), outputs=gr.Label())\n",
    "iface.launch()\n"
   ]
  },
  {
   "cell_type": "markdown",
   "id": "24d006c3-e98b-4745-9b55-dd3a234ef0e2",
   "metadata": {},
   "source": [
    "Great! As we now are familiar with the basics of gradio we can take a look at more in-depth concepts"
   ]
  }
 ],
 "metadata": {
  "kernelspec": {
   "display_name": "Python 3 (ipykernel)",
   "language": "python",
   "name": "python3"
  },
  "language_info": {
   "codemirror_mode": {
    "name": "ipython",
    "version": 3
   },
   "file_extension": ".py",
   "mimetype": "text/x-python",
   "name": "python",
   "nbconvert_exporter": "python",
   "pygments_lexer": "ipython3",
   "version": "3.11.0"
  }
 },
 "nbformat": 4,
 "nbformat_minor": 5
}
