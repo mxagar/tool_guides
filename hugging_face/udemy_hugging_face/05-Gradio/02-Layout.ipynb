{
 "cells": [
  {
   "cell_type": "markdown",
   "id": "f95e9aa5-8138-4f9a-a463-2e458931193f",
   "metadata": {},
   "source": [
    "## Interface Layout\n",
    "\n",
    "Gradio allows you to organize the layout of your interface components to better suit the needs of your application. You can arrange inputs and outputs side by side, in grids, or in sequence, depending on your requirements. \n",
    "\n",
    "gradio provides the following layout blocks:\n",
    "- [Row](https://www.gradio.app/docs/gradio/row)\n",
    "- [Column](https://www.gradio.app/docs/gradio/column)\n",
    "- [Tab](https://www.gradio.app/docs/gradio/tab)\n",
    "- [Group](https://www.gradio.app/docs/gradio/group)\n",
    "- [Accordion](https://www.gradio.app/docs/gradio/accordion)\n",
    "\n",
    "\n",
    "**Setting Up the Interface**:\n",
    "*   **`gr.Blocks()`**: initializes a block layout.\n",
    "*   **`gr.Row()`**: organizes the widgets in a row.\n",
    "*   **`gr.Column()`**: organizes the widgets in a column.\n",
    "*   **`gr.Tab()`**: create multiple tabs.\n",
    "*   **`gr.Accordion()`**: enables to show/hide content.\n",
    "*   **`gr.Group()`**: removes all space between elements.\n"
   ]
  },
  {
   "cell_type": "code",
   "execution_count": 1,
   "id": "b5796131-94bc-4b8e-9c96-64fa38593510",
   "metadata": {},
   "outputs": [],
   "source": [
    "import numpy as np\n",
    "import gradio as gr"
   ]
  },
  {
   "cell_type": "markdown",
   "id": "b0622d1e-42b8-463c-a0ec-13b5ea8bb6ba",
   "metadata": {},
   "source": [
    "**`gr.Row()`**: Place two Text components next to each other"
   ]
  },
  {
   "cell_type": "code",
   "execution_count": 2,
   "id": "58b67c18-29ce-4504-88a8-66947e0fa381",
   "metadata": {},
   "outputs": [
    {
     "name": "stdout",
     "output_type": "stream",
     "text": [
      "Running on local URL:  http://127.0.0.1:7860\n",
      "\n",
      "To create a public link, set `share=True` in `launch()`.\n"
     ]
    },
    {
     "data": {
      "text/html": [
       "<div><iframe src=\"http://127.0.0.1:7860/\" width=\"100%\" height=\"500\" allow=\"autoplay; camera; microphone; clipboard-read; clipboard-write;\" frameborder=\"0\" allowfullscreen></iframe></div>"
      ],
      "text/plain": [
       "<IPython.core.display.HTML object>"
      ]
     },
     "metadata": {},
     "output_type": "display_data"
    },
    {
     "data": {
      "text/plain": []
     },
     "execution_count": 2,
     "metadata": {},
     "output_type": "execute_result"
    }
   ],
   "source": [
    "with gr.Blocks() as demo:\n",
    "    with gr.Row():\n",
    "        gr.Text(value=\"Hello\")\n",
    "        gr.Text(value=\"World\")\n",
    "demo.launch()\n"
   ]
  },
  {
   "cell_type": "markdown",
   "id": "0c108645-ba25-48c3-8bd9-f0183288f7f7",
   "metadata": {},
   "source": [
    "As you can see, there is no submit button. If you decide to use the more complex custom layouts you manually have to add all interactions. We'll investigate this in the next notebook"
   ]
  },
  {
   "cell_type": "markdown",
   "id": "85720c0c-ad0e-4a22-8f6c-95f30df3835a",
   "metadata": {},
   "source": [
    "**`gr.Column()`**: Use the column block to place components below each other. Each `gr.Column()` create a new column in your application"
   ]
  },
  {
   "cell_type": "markdown",
   "id": "6ba86792-deea-4a26-b04e-6005fc5b52b4",
   "metadata": {},
   "source": [
    "If you wish, you can provde the scale factor as an argument to **gr.Column()**"
   ]
  },
  {
   "cell_type": "code",
   "execution_count": 3,
   "id": "0bdda7b1-e125-4656-918d-e821c43a8258",
   "metadata": {},
   "outputs": [
    {
     "name": "stdout",
     "output_type": "stream",
     "text": [
      "Running on local URL:  http://127.0.0.1:7861\n",
      "\n",
      "To create a public link, set `share=True` in `launch()`.\n"
     ]
    },
    {
     "data": {
      "text/html": [
       "<div><iframe src=\"http://127.0.0.1:7861/\" width=\"100%\" height=\"500\" allow=\"autoplay; camera; microphone; clipboard-read; clipboard-write;\" frameborder=\"0\" allowfullscreen></iframe></div>"
      ],
      "text/plain": [
       "<IPython.core.display.HTML object>"
      ]
     },
     "metadata": {},
     "output_type": "display_data"
    },
    {
     "data": {
      "text/plain": []
     },
     "execution_count": 3,
     "metadata": {},
     "output_type": "execute_result"
    }
   ],
   "source": [
    "with gr.Blocks() as demo:\n",
    "    with gr.Row():\n",
    "        with gr.Column(scale=2):\n",
    "            text1 = gr.Text()\n",
    "            text2 = gr.Text()\n",
    "        with gr.Column(scale=1):\n",
    "            btn1 = gr.Image()\n",
    "    with gr.Row():\n",
    "        with gr.Column(scale=2):\n",
    "            text1 = gr.Text()\n",
    "            text2 = gr.Text()\n",
    "\n",
    "demo.launch()"
   ]
  },
  {
   "cell_type": "markdown",
   "id": "498aed4e-a07e-4400-ba2c-af846b93de87",
   "metadata": {},
   "source": [
    "**`gr.Tab()`**: Let's create two tabs with different content"
   ]
  },
  {
   "cell_type": "code",
   "execution_count": 4,
   "id": "184b0a7d-525d-4914-9c76-0a1f9a776429",
   "metadata": {},
   "outputs": [
    {
     "name": "stdout",
     "output_type": "stream",
     "text": [
      "Running on local URL:  http://127.0.0.1:7862\n",
      "\n",
      "To create a public link, set `share=True` in `launch()`.\n"
     ]
    },
    {
     "data": {
      "text/html": [
       "<div><iframe src=\"http://127.0.0.1:7862/\" width=\"100%\" height=\"500\" allow=\"autoplay; camera; microphone; clipboard-read; clipboard-write;\" frameborder=\"0\" allowfullscreen></iframe></div>"
      ],
      "text/plain": [
       "<IPython.core.display.HTML object>"
      ]
     },
     "metadata": {},
     "output_type": "display_data"
    },
    {
     "data": {
      "text/plain": []
     },
     "execution_count": 4,
     "metadata": {},
     "output_type": "execute_result"
    }
   ],
   "source": [
    "with gr.Blocks() as demo:\n",
    "    with gr.Tab(\"Tab1\"):\n",
    "        gr.Button(\"Some Button in Tab 1\")\n",
    "    with gr.Tab(\"Tab2\"):\n",
    "        with gr.Row():\n",
    "            gr.Button(\"Some Button in Tab 2\")\n",
    "            gr.Image()\n",
    "\n",
    "demo.launch()"
   ]
  },
  {
   "cell_type": "markdown",
   "id": "dc09a420-218f-48b1-a7fd-be795379b7fa",
   "metadata": {},
   "source": [
    "**`gr.Accordion()`** allows you to show and hide content. This is especially useful when you use large components."
   ]
  },
  {
   "cell_type": "code",
   "execution_count": 5,
   "id": "70416ddc-7c9b-453d-9505-6f1ff50ed145",
   "metadata": {},
   "outputs": [
    {
     "name": "stdout",
     "output_type": "stream",
     "text": [
      "Running on local URL:  http://127.0.0.1:7863\n",
      "\n",
      "To create a public link, set `share=True` in `launch()`.\n"
     ]
    },
    {
     "data": {
      "text/html": [
       "<div><iframe src=\"http://127.0.0.1:7863/\" width=\"100%\" height=\"500\" allow=\"autoplay; camera; microphone; clipboard-read; clipboard-write;\" frameborder=\"0\" allowfullscreen></iframe></div>"
      ],
      "text/plain": [
       "<IPython.core.display.HTML object>"
      ]
     },
     "metadata": {},
     "output_type": "display_data"
    },
    {
     "data": {
      "text/plain": []
     },
     "execution_count": 5,
     "metadata": {},
     "output_type": "execute_result"
    }
   ],
   "source": [
    "with gr.Blocks() as demo:\n",
    "    gr.Label(\"Load Image\")\n",
    "    with gr.Accordion(\"Load Image\", open=False):\n",
    "        gr.Image()\n",
    "demo.launch()"
   ]
  },
  {
   "cell_type": "markdown",
   "id": "a0f77774-9314-422c-bde0-546123b7bde9",
   "metadata": {},
   "source": [
    "**`gr.Group()`** removes all padding / margin between the components. You can see that the buttons are located below each other with no space between them whereas the Image is placed further away."
   ]
  },
  {
   "cell_type": "code",
   "execution_count": 6,
   "id": "851aee1f-d2f4-4c2a-82e1-c97af4ea7516",
   "metadata": {
    "scrolled": true
   },
   "outputs": [
    {
     "name": "stdout",
     "output_type": "stream",
     "text": [
      "Running on local URL:  http://127.0.0.1:7864\n",
      "\n",
      "To create a public link, set `share=True` in `launch()`.\n"
     ]
    },
    {
     "data": {
      "text/html": [
       "<div><iframe src=\"http://127.0.0.1:7864/\" width=\"100%\" height=\"500\" allow=\"autoplay; camera; microphone; clipboard-read; clipboard-write;\" frameborder=\"0\" allowfullscreen></iframe></div>"
      ],
      "text/plain": [
       "<IPython.core.display.HTML object>"
      ]
     },
     "metadata": {},
     "output_type": "display_data"
    },
    {
     "data": {
      "text/plain": []
     },
     "execution_count": 6,
     "metadata": {},
     "output_type": "execute_result"
    }
   ],
   "source": [
    "with gr.Blocks() as demo:\n",
    "    with gr.Group():\n",
    "        gr.Button(\"Some Button\")\n",
    "        gr.Button(\"Some Button2\")\n",
    "        gr.Image()\n",
    "    gr.Image()\n",
    "\n",
    "demo.launch()"
   ]
  },
  {
   "cell_type": "markdown",
   "id": "5a991ac2-8997-4eb6-a357-442d7f22cf4d",
   "metadata": {},
   "source": [
    "### Dimensions\n",
    "To manually adjust the width and height of your components by either using the corresponding arguments or directly pass the css code. Keep in mind that you need to pass a string and unit (e.g \"150px\").\n",
    "\n",
    "Note, that not all components include these arguments yet. E.g for a button you can only specify the **min_width** argument."
   ]
  },
  {
   "cell_type": "code",
   "execution_count": 14,
   "id": "5abaca97-2fe4-4f1b-9111-84285c8cb2eb",
   "metadata": {},
   "outputs": [
    {
     "name": "stdout",
     "output_type": "stream",
     "text": [
      "Running on local URL:  http://127.0.0.1:7871\n",
      "\n",
      "To create a public link, set `share=True` in `launch()`.\n"
     ]
    },
    {
     "data": {
      "text/html": [
       "<div><iframe src=\"http://127.0.0.1:7871/\" width=\"100%\" height=\"500\" allow=\"autoplay; camera; microphone; clipboard-read; clipboard-write;\" frameborder=\"0\" allowfullscreen></iframe></div>"
      ],
      "text/plain": [
       "<IPython.core.display.HTML object>"
      ]
     },
     "metadata": {},
     "output_type": "display_data"
    },
    {
     "data": {
      "text/plain": []
     },
     "execution_count": 14,
     "metadata": {},
     "output_type": "execute_result"
    }
   ],
   "source": [
    "with gr.Blocks() as demo:\n",
    "    with gr.Group():\n",
    "        gr.Image(height=\"150px\", width=\"20px\")\n",
    "demo.launch()"
   ]
  },
  {
   "cell_type": "code",
   "execution_count": 29,
   "id": "9231cb45-66a7-4b3f-881c-e0d7f8f919d6",
   "metadata": {},
   "outputs": [],
   "source": [
    "css = \"\"\"\n",
    ".container {\n",
    "    height: 1400px;\n",
    "    width: 40px\n",
    "}\n",
    "\"\"\""
   ]
  },
  {
   "cell_type": "code",
   "execution_count": 30,
   "id": "709e3beb-8437-4b3f-b591-a75f364da85b",
   "metadata": {},
   "outputs": [
    {
     "name": "stdout",
     "output_type": "stream",
     "text": [
      "Running on local URL:  http://127.0.0.1:7882\n",
      "\n",
      "To create a public link, set `share=True` in `launch()`.\n"
     ]
    },
    {
     "data": {
      "text/html": [
       "<div><iframe src=\"http://127.0.0.1:7882/\" width=\"100%\" height=\"500\" allow=\"autoplay; camera; microphone; clipboard-read; clipboard-write;\" frameborder=\"0\" allowfullscreen></iframe></div>"
      ],
      "text/plain": [
       "<IPython.core.display.HTML object>"
      ]
     },
     "metadata": {},
     "output_type": "display_data"
    },
    {
     "data": {
      "text/plain": []
     },
     "execution_count": 30,
     "metadata": {},
     "output_type": "execute_result"
    }
   ],
   "source": [
    "with gr.Blocks(css=css) as demo:\n",
    "    with gr.Group():\n",
    "        gr.Label(value=\"Test\")\n",
    "        gr.Image()\n",
    "\n",
    "demo.launch()"
   ]
  },
  {
   "cell_type": "markdown",
   "id": "a968080d-7ac6-4517-a49b-2213dd2b7adf",
   "metadata": {},
   "source": [
    "### Nesting\n",
    "Of course you can combine the above statements to create more complex nested applications"
   ]
  },
  {
   "cell_type": "code",
   "execution_count": 53,
   "id": "600e8608-0506-464a-a04f-e033c95b58ac",
   "metadata": {},
   "outputs": [],
   "source": [
    "css = \"\"\"\n",
    ".container {\n",
    "    height: 200px;\n",
    "    width: 600px\n",
    "}\n",
    "\"\"\""
   ]
  },
  {
   "cell_type": "code",
   "execution_count": 55,
   "id": "63d2590b-e2b2-419c-91f9-dfa08cfe4b03",
   "metadata": {},
   "outputs": [
    {
     "name": "stdout",
     "output_type": "stream",
     "text": [
      "Running on local URL:  http://127.0.0.1:7899\n",
      "\n",
      "To create a public link, set `share=True` in `launch()`.\n"
     ]
    },
    {
     "data": {
      "text/html": [
       "<div><iframe src=\"http://127.0.0.1:7899/\" width=\"100%\" height=\"500\" allow=\"autoplay; camera; microphone; clipboard-read; clipboard-write;\" frameborder=\"0\" allowfullscreen></iframe></div>"
      ],
      "text/plain": [
       "<IPython.core.display.HTML object>"
      ]
     },
     "metadata": {},
     "output_type": "display_data"
    },
    {
     "data": {
      "text/plain": []
     },
     "execution_count": 55,
     "metadata": {},
     "output_type": "execute_result"
    }
   ],
   "source": [
    "with gr.Blocks(css=css) as demo:\n",
    "    with gr.Row():\n",
    "        text1 = gr.Text(label=\"Text 1\")\n",
    "        text2 = gr.Text(label=\"Text 2\")\n",
    "        image1 = gr.Image(label = \"Image1\")\n",
    "    with gr.Row():\n",
    "        with gr.Column():\n",
    "            label1 = gr.Label(label=\"These labels are\")\n",
    "            label2 = gr.Label(label=\"below each other\")\n",
    "        with gr.Column():\n",
    "            label3 = gr.Label(label=\"Note this new column\")\n",
    "demo.launch()"
   ]
  },
  {
   "cell_type": "code",
   "execution_count": null,
   "id": "ed7ffaaf-262c-46d2-be85-5ea23a72ea17",
   "metadata": {},
   "outputs": [],
   "source": []
  }
 ],
 "metadata": {
  "kernelspec": {
   "display_name": "Python 3 (ipykernel)",
   "language": "python",
   "name": "python3"
  },
  "language_info": {
   "codemirror_mode": {
    "name": "ipython",
    "version": 3
   },
   "file_extension": ".py",
   "mimetype": "text/x-python",
   "name": "python",
   "nbconvert_exporter": "python",
   "pygments_lexer": "ipython3",
   "version": "3.11.0"
  }
 },
 "nbformat": 4,
 "nbformat_minor": 5
}
