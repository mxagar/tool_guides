{
  "cells": [
    {
      "cell_type": "markdown",
      "id": "72566782-321f-4e1c-9ae4-8572b6fa99df",
      "metadata": {
        "jp-MarkdownHeadingCollapsed": true,
        "tags": [],
        "id": "72566782-321f-4e1c-9ae4-8572b6fa99df"
      },
      "source": [
        "# Audio Classification\n",
        "\n",
        "# Libraries\n",
        "\n",
        "Balancing, torch, torchaudio, and transformers can be tricky! Here are the versions used for this notebook:"
      ]
    },
    {
      "cell_type": "markdown",
      "id": "a531a21a-2753-4230-94f1-4c4c3b11bb85",
      "metadata": {
        "id": "a531a21a-2753-4230-94f1-4c4c3b11bb85"
      },
      "source": [
        "## Library and Versions"
      ]
    },
    {
      "cell_type": "code",
      "execution_count": 2,
      "id": "458a072c-f306-49c7-9af4-675a1850fe2f",
      "metadata": {
        "id": "458a072c-f306-49c7-9af4-675a1850fe2f",
        "outputId": "b813a48c-cdda-42c6-977b-2ec24af3c52a",
        "colab": {
          "base_uri": "https://localhost:8080/"
        }
      },
      "outputs": [
        {
          "output_type": "stream",
          "name": "stdout",
          "text": [
            "2.3.0+cu121\n",
            "2.3.0+cu121\n",
            "4.41.2\n"
          ]
        }
      ],
      "source": [
        "import torch, transformers, torchaudio\n",
        "# Sometimes we need a specific combination of library versions...\n",
        "print(torch.__version__) # 2.3.0+cu121\n",
        "print(torchaudio.__version__) # 2.3.0+cu121\n",
        "print(transformers.__version__) # 4.41.2\n"
      ]
    },
    {
      "cell_type": "code",
      "execution_count": 3,
      "id": "fe422402-cac1-4962-9d91-be9af4b7e77f",
      "metadata": {
        "id": "fe422402-cac1-4962-9d91-be9af4b7e77f"
      },
      "outputs": [],
      "source": [
        "# We perform the classification in 2 separate steps to show the capabilities/flexibility\n",
        "# for other use cases\n",
        "from transformers import AutoFeatureExtractor, ASTForAudioClassification"
      ]
    },
    {
      "cell_type": "code",
      "execution_count": 4,
      "id": "b5d0307d-bb51-40fe-bf3a-bb99501aff0f",
      "metadata": {
        "id": "b5d0307d-bb51-40fe-bf3a-bb99501aff0f",
        "outputId": "4909b7e0-2819-4d3e-d201-305729f0c615",
        "colab": {
          "base_uri": "https://localhost:8080/",
          "height": 176,
          "referenced_widgets": [
            "1df09cb266ed4fb69a837b090a8817b2",
            "f59f4442d22840f686b4a2c61abfca7c",
            "41323ad08ec1421299d00c7b1ba82474",
            "9727afbdf7aa441189916cf040e307e6",
            "d4f97b0bfc194d489ce80a42d060ebca",
            "8a4a6d93e85949c79ff74de09606598e",
            "b3c59beda01d474582897870c629f157",
            "a49bb7c3a63147858cd3f7c39d682def",
            "dc5b10916edd452fa9dc64379adbbb3f",
            "2df33a203bbb4192a39d57ebb1a37ebe",
            "99a09c47232a4abcb1a13e519e57bcb7"
          ]
        }
      },
      "outputs": [
        {
          "output_type": "stream",
          "name": "stderr",
          "text": [
            "/usr/local/lib/python3.10/dist-packages/huggingface_hub/utils/_token.py:89: UserWarning: \n",
            "The secret `HF_TOKEN` does not exist in your Colab secrets.\n",
            "To authenticate with the Hugging Face Hub, create a token in your settings tab (https://huggingface.co/settings/tokens), set it as secret in your Google Colab and restart your session.\n",
            "You will be able to reuse this secret in all of your notebooks.\n",
            "Please note that authentication is recommended but still optional to access public models or datasets.\n",
            "  warnings.warn(\n"
          ]
        },
        {
          "output_type": "display_data",
          "data": {
            "text/plain": [
              "preprocessor_config.json:   0%|          | 0.00/297 [00:00<?, ?B/s]"
            ],
            "application/vnd.jupyter.widget-view+json": {
              "version_major": 2,
              "version_minor": 0,
              "model_id": "1df09cb266ed4fb69a837b090a8817b2"
            }
          },
          "metadata": {}
        }
      ],
      "source": [
        "# Audio Spectrogram Transformer (AST) model fine-tuned on AudioSet\n",
        "# The Audio Spectrogram Transformer is equivalent to ViT, but applied on audio.\n",
        "# Audio is first turned into an image (as a spectrogram),\n",
        "# after which a Vision Transformer is applied.\n",
        "# The model gets state-of-the-art results on several audio classification benchmarks.\n",
        "# https://arxiv.org/abs/2104.01778\n",
        "# https://huggingface.co/MIT/ast-finetuned-audioset-10-10-0.4593\n",
        "feature_extractor = AutoFeatureExtractor.from_pretrained(\"MIT/ast-finetuned-audioset-10-10-0.4593\")"
      ]
    },
    {
      "cell_type": "code",
      "execution_count": 17,
      "id": "d06e7008-d918-4f2a-84f1-ed9700d00e1f",
      "metadata": {
        "id": "d06e7008-d918-4f2a-84f1-ed9700d00e1f",
        "outputId": "7eeb0564-ec3a-4373-c47d-8e9e2e465d03",
        "colab": {
          "base_uri": "https://localhost:8080/"
        }
      },
      "outputs": [
        {
          "output_type": "stream",
          "name": "stdout",
          "text": [
            "48000\n"
          ]
        }
      ],
      "source": [
        "import librosa\n",
        "audio_path = 'example.mp3'\n",
        "y, sr = librosa.load(audio_path, sr=None)\n",
        "print(sr) # 48000\n",
        "# Recall that the sampling rate at which the model was trained is important\n",
        "# Most models are trained for 16 kHz sr\n",
        "# If our audio files are not in that frequency, they need to be converted\n",
        "# but HF pipelines do that automatically."
      ]
    },
    {
      "cell_type": "code",
      "source": [
        "len(y) # 630031"
      ],
      "metadata": {
        "id": "5-kAsQFTfkBY",
        "outputId": "fba5ce93-022f-472d-c8cc-3b2758cc7b0c",
        "colab": {
          "base_uri": "https://localhost:8080/"
        }
      },
      "id": "5-kAsQFTfkBY",
      "execution_count": 20,
      "outputs": [
        {
          "output_type": "execute_result",
          "data": {
            "text/plain": [
              "630031"
            ]
          },
          "metadata": {},
          "execution_count": 20
        }
      ]
    },
    {
      "cell_type": "code",
      "source": [
        "# We'll downsample from 48 kHz - (/3) -> 16 kHz\n",
        "len(y)/3 # 210010"
      ],
      "metadata": {
        "id": "cKtOdiawgTla",
        "outputId": "0b3cdde1-75a4-468e-f834-383e4c1f30dd",
        "colab": {
          "base_uri": "https://localhost:8080/"
        }
      },
      "id": "cKtOdiawgTla",
      "execution_count": 22,
      "outputs": [
        {
          "output_type": "execute_result",
          "data": {
            "text/plain": [
              "210010.33333333334"
            ]
          },
          "metadata": {},
          "execution_count": 22
        }
      ]
    },
    {
      "cell_type": "markdown",
      "id": "56ee2059-3f2b-4273-8f84-e4bcaae2419d",
      "metadata": {
        "id": "56ee2059-3f2b-4273-8f84-e4bcaae2419d"
      },
      "source": [
        "## Sampling Rate Issues\n",
        "\n",
        "Recall that most ML models are trained on 16 kHz sampling rate, you will run into issues if you try to force your own sampling rate:"
      ]
    },
    {
      "cell_type": "code",
      "execution_count": null,
      "id": "da8caf3d-0511-457f-a1a3-377921e358a7",
      "metadata": {
        "id": "da8caf3d-0511-457f-a1a3-377921e358a7"
      },
      "outputs": [],
      "source": [
        "# ERROR!\n",
        "# result = feature_extractor(y,sampling_rate=sr)"
      ]
    },
    {
      "cell_type": "code",
      "execution_count": 12,
      "id": "c87cec69-240e-44d9-897b-f7ae5c08b052",
      "metadata": {
        "id": "c87cec69-240e-44d9-897b-f7ae5c08b052",
        "outputId": "441f7a94-5953-4973-9641-eaf56b944cc3",
        "colab": {
          "base_uri": "https://localhost:8080/"
        }
      },
      "outputs": [
        {
          "output_type": "stream",
          "name": "stderr",
          "text": [
            "It is strongly recommended to pass the `sampling_rate` argument to this function. Failing to do so can result in silent errors that might be hard to debug.\n"
          ]
        }
      ],
      "source": [
        "# Get feature vector\n",
        "# y is in 48 kHz, but it will be downsampled to 16 kHz automatically\n",
        "# If we don't set return_tensors=\"pt\", we get a dict with a numpy array\n",
        "# If we want to play around with the feature vectors, we can use the numpy arrays,\n",
        "# but if we want to perform the classification, we need the Pytorch tensors: \"pt\"\n",
        "# If we don't pass sampling_rate, the input sampling rate will be adjusted\n",
        "# to the model sr.\n",
        "# Important arguments:\n",
        "# - num_mel_bins (int, *optional*, defaults to 128): Number of Mel-frequency bins.\n",
        "# - max_length (int, *optional*, defaults to 1024): Max length to which to pad/truncate the extracted features.\n",
        "result = feature_extractor(y,return_tensors=\"pt\")"
      ]
    },
    {
      "cell_type": "code",
      "execution_count": 15,
      "id": "728a1b1f-61fc-4111-afc5-bb186e706b89",
      "metadata": {
        "id": "728a1b1f-61fc-4111-afc5-bb186e706b89",
        "outputId": "a3e3762c-1f10-494d-927a-4eaf00abc36a",
        "colab": {
          "base_uri": "https://localhost:8080/"
        }
      },
      "outputs": [
        {
          "output_type": "execute_result",
          "data": {
            "text/plain": [
              "{'input_values': tensor([[[ 0.0770, -0.2676,  0.1092,  ..., -1.2776, -1.2776, -1.2776],\n",
              "         [ 0.0846, -0.2771,  0.0997,  ..., -1.2776, -1.2776, -1.2776],\n",
              "         [-0.2939, -0.3674,  0.0095,  ..., -1.2776, -1.2776, -1.2776],\n",
              "         ...,\n",
              "         [ 0.2184, -0.0845,  0.2923,  ..., -1.2776, -1.2776, -1.2776],\n",
              "         [ 0.1963, -0.1293,  0.2475,  ..., -1.2776, -1.2776, -1.2776],\n",
              "         [-0.0509, -0.4521, -0.0752,  ..., -1.2776, -1.2776, -1.2776]]])}"
            ]
          },
          "metadata": {},
          "execution_count": 15
        }
      ],
      "source": [
        "result\n",
        "# {'input_values': tensor([[[ 0.0770, ..., -1.2776]]])}"
      ]
    },
    {
      "cell_type": "code",
      "source": [
        "# 210010 steps will be truncated here to 1024 if default args are used\n",
        "result['input_values'].shape # torch.Size([1, 1024, 128]): num_mel_bins, max_length"
      ],
      "metadata": {
        "id": "OsmounjRfa33",
        "outputId": "1050c151-c96f-4fec-a456-c70bdaa460e4",
        "colab": {
          "base_uri": "https://localhost:8080/"
        }
      },
      "id": "OsmounjRfa33",
      "execution_count": 16,
      "outputs": [
        {
          "output_type": "execute_result",
          "data": {
            "text/plain": [
              "torch.Size([1, 1024, 128])"
            ]
          },
          "metadata": {},
          "execution_count": 16
        }
      ]
    },
    {
      "cell_type": "code",
      "execution_count": 23,
      "id": "ae49bafd-8bb0-408b-b5bf-1ed7d4e254aa",
      "metadata": {
        "id": "ae49bafd-8bb0-408b-b5bf-1ed7d4e254aa",
        "outputId": "e367e886-9fa3-4f41-a4af-e978ee584e59",
        "colab": {
          "base_uri": "https://localhost:8080/",
          "height": 81,
          "referenced_widgets": [
            "84d1dbc2ba3e4d09a01f92d6d429a2b1",
            "24e8254a577c41c1aee14ea23489e87f",
            "6c56d98372364a409ef179ab1304486c",
            "4eaa1516457840419ea2ab248e703281",
            "5e82031d504043a393eb457f23164d9d",
            "78c9ed6009644ecf803ce46581bf22d6",
            "1a79932cea0b46809d85d34bd2b147c7",
            "f3edc760c3664c219ddc9462cb66c001",
            "366ad07660a643b183cf5f5aed8182d6",
            "2deaa4f34d624b0d88e5a39da1b66196",
            "e2813ed485cf47d4aa3f9cc8cc5821d7",
            "2115fd7c29d1420ca8a54e834acf16fe",
            "9c6a535e3e124024b57d457a77dd8102",
            "96828bfc751947f0bb244e30be433f9a",
            "eaf724e95ceb436f81619f1f07041db9",
            "9364c986ced441c9bfacc6307a41ca5b",
            "eb3ba23ac57141a6a8d2e58febcba671",
            "a42ed4a75947490f9e79f6d37fce7681",
            "fe91bcfab0b642e2b5a32b69baeed8cf",
            "3aca7120c0e542eb99779b0fb81b40bf",
            "a40f92dcaefa44e3af4da1f734b5a670",
            "3e29405c4f634367bbb2983afcdb7dcd"
          ]
        }
      },
      "outputs": [
        {
          "output_type": "display_data",
          "data": {
            "text/plain": [
              "config.json:   0%|          | 0.00/26.8k [00:00<?, ?B/s]"
            ],
            "application/vnd.jupyter.widget-view+json": {
              "version_major": 2,
              "version_minor": 0,
              "model_id": "84d1dbc2ba3e4d09a01f92d6d429a2b1"
            }
          },
          "metadata": {}
        },
        {
          "output_type": "display_data",
          "data": {
            "text/plain": [
              "model.safetensors:   0%|          | 0.00/346M [00:00<?, ?B/s]"
            ],
            "application/vnd.jupyter.widget-view+json": {
              "version_major": 2,
              "version_minor": 0,
              "model_id": "2115fd7c29d1420ca8a54e834acf16fe"
            }
          },
          "metadata": {}
        }
      ],
      "source": [
        "# Load model\n",
        "model = ASTForAudioClassification.from_pretrained(\"MIT/ast-finetuned-audioset-10-10-0.4593\")"
      ]
    },
    {
      "cell_type": "code",
      "source": [
        "# Check class labels: dictionary with ids & class names\n",
        "# 0: 'Speech'\n",
        "# 1: 'Male speech, man speaking',\n",
        "# 2: 'Female speech, woman speaking',\n",
        "# ...\n",
        "model.config.id2label"
      ],
      "metadata": {
        "id": "VTDmOsYThLKo",
        "outputId": "24e40378-c37b-45e0-aa05-cf3f0be30c31",
        "colab": {
          "base_uri": "https://localhost:8080/"
        }
      },
      "id": "VTDmOsYThLKo",
      "execution_count": 37,
      "outputs": [
        {
          "output_type": "execute_result",
          "data": {
            "text/plain": [
              "{0: 'Speech',\n",
              " 1: 'Male speech, man speaking',\n",
              " 2: 'Female speech, woman speaking',\n",
              " 3: 'Child speech, kid speaking',\n",
              " 4: 'Conversation',\n",
              " 5: 'Narration, monologue',\n",
              " 6: 'Babbling',\n",
              " 7: 'Speech synthesizer',\n",
              " 8: 'Shout',\n",
              " 9: 'Bellow',\n",
              " 10: 'Whoop',\n",
              " 11: 'Yell',\n",
              " 12: 'Battle cry',\n",
              " 13: 'Children shouting',\n",
              " 14: 'Screaming',\n",
              " 15: 'Whispering',\n",
              " 16: 'Laughter',\n",
              " 17: 'Baby laughter',\n",
              " 18: 'Giggle',\n",
              " 19: 'Snicker',\n",
              " 20: 'Belly laugh',\n",
              " 21: 'Chuckle, chortle',\n",
              " 22: 'Crying, sobbing',\n",
              " 23: 'Baby cry, infant cry',\n",
              " 24: 'Whimper',\n",
              " 25: 'Wail, moan',\n",
              " 26: 'Sigh',\n",
              " 27: 'Singing',\n",
              " 28: 'Choir',\n",
              " 29: 'Yodeling',\n",
              " 30: 'Chant',\n",
              " 31: 'Mantra',\n",
              " 32: 'Male singing',\n",
              " 33: 'Female singing',\n",
              " 34: 'Child singing',\n",
              " 35: 'Synthetic singing',\n",
              " 36: 'Rapping',\n",
              " 37: 'Humming',\n",
              " 38: 'Groan',\n",
              " 39: 'Grunt',\n",
              " 40: 'Whistling',\n",
              " 41: 'Breathing',\n",
              " 42: 'Wheeze',\n",
              " 43: 'Snoring',\n",
              " 44: 'Gasp',\n",
              " 45: 'Pant',\n",
              " 46: 'Snort',\n",
              " 47: 'Cough',\n",
              " 48: 'Throat clearing',\n",
              " 49: 'Sneeze',\n",
              " 50: 'Sniff',\n",
              " 51: 'Run',\n",
              " 52: 'Shuffle',\n",
              " 53: 'Walk, footsteps',\n",
              " 54: 'Chewing, mastication',\n",
              " 55: 'Biting',\n",
              " 56: 'Gargling',\n",
              " 57: 'Stomach rumble',\n",
              " 58: 'Burping, eructation',\n",
              " 59: 'Hiccup',\n",
              " 60: 'Fart',\n",
              " 61: 'Hands',\n",
              " 62: 'Finger snapping',\n",
              " 63: 'Clapping',\n",
              " 64: 'Heart sounds, heartbeat',\n",
              " 65: 'Heart murmur',\n",
              " 66: 'Cheering',\n",
              " 67: 'Applause',\n",
              " 68: 'Chatter',\n",
              " 69: 'Crowd',\n",
              " 70: 'Hubbub, speech noise, speech babble',\n",
              " 71: 'Children playing',\n",
              " 72: 'Animal',\n",
              " 73: 'Domestic animals, pets',\n",
              " 74: 'Dog',\n",
              " 75: 'Bark',\n",
              " 76: 'Yip',\n",
              " 77: 'Howl',\n",
              " 78: 'Bow-wow',\n",
              " 79: 'Growling',\n",
              " 80: 'Whimper (dog)',\n",
              " 81: 'Cat',\n",
              " 82: 'Purr',\n",
              " 83: 'Meow',\n",
              " 84: 'Hiss',\n",
              " 85: 'Caterwaul',\n",
              " 86: 'Livestock, farm animals, working animals',\n",
              " 87: 'Horse',\n",
              " 88: 'Clip-clop',\n",
              " 89: 'Neigh, whinny',\n",
              " 90: 'Cattle, bovinae',\n",
              " 91: 'Moo',\n",
              " 92: 'Cowbell',\n",
              " 93: 'Pig',\n",
              " 94: 'Oink',\n",
              " 95: 'Goat',\n",
              " 96: 'Bleat',\n",
              " 97: 'Sheep',\n",
              " 98: 'Fowl',\n",
              " 99: 'Chicken, rooster',\n",
              " 100: 'Cluck',\n",
              " 101: 'Crowing, cock-a-doodle-doo',\n",
              " 102: 'Turkey',\n",
              " 103: 'Gobble',\n",
              " 104: 'Duck',\n",
              " 105: 'Quack',\n",
              " 106: 'Goose',\n",
              " 107: 'Honk',\n",
              " 108: 'Wild animals',\n",
              " 109: 'Roaring cats (lions, tigers)',\n",
              " 110: 'Roar',\n",
              " 111: 'Bird',\n",
              " 112: 'Bird vocalization, bird call, bird song',\n",
              " 113: 'Chirp, tweet',\n",
              " 114: 'Squawk',\n",
              " 115: 'Pigeon, dove',\n",
              " 116: 'Coo',\n",
              " 117: 'Crow',\n",
              " 118: 'Caw',\n",
              " 119: 'Owl',\n",
              " 120: 'Hoot',\n",
              " 121: 'Bird flight, flapping wings',\n",
              " 122: 'Canidae, dogs, wolves',\n",
              " 123: 'Rodents, rats, mice',\n",
              " 124: 'Mouse',\n",
              " 125: 'Patter',\n",
              " 126: 'Insect',\n",
              " 127: 'Cricket',\n",
              " 128: 'Mosquito',\n",
              " 129: 'Fly, housefly',\n",
              " 130: 'Buzz',\n",
              " 131: 'Bee, wasp, etc.',\n",
              " 132: 'Frog',\n",
              " 133: 'Croak',\n",
              " 134: 'Snake',\n",
              " 135: 'Rattle',\n",
              " 136: 'Whale vocalization',\n",
              " 137: 'Music',\n",
              " 138: 'Musical instrument',\n",
              " 139: 'Plucked string instrument',\n",
              " 140: 'Guitar',\n",
              " 141: 'Electric guitar',\n",
              " 142: 'Bass guitar',\n",
              " 143: 'Acoustic guitar',\n",
              " 144: 'Steel guitar, slide guitar',\n",
              " 145: 'Tapping (guitar technique)',\n",
              " 146: 'Strum',\n",
              " 147: 'Banjo',\n",
              " 148: 'Sitar',\n",
              " 149: 'Mandolin',\n",
              " 150: 'Zither',\n",
              " 151: 'Ukulele',\n",
              " 152: 'Keyboard (musical)',\n",
              " 153: 'Piano',\n",
              " 154: 'Electric piano',\n",
              " 155: 'Organ',\n",
              " 156: 'Electronic organ',\n",
              " 157: 'Hammond organ',\n",
              " 158: 'Synthesizer',\n",
              " 159: 'Sampler',\n",
              " 160: 'Harpsichord',\n",
              " 161: 'Percussion',\n",
              " 162: 'Drum kit',\n",
              " 163: 'Drum machine',\n",
              " 164: 'Drum',\n",
              " 165: 'Snare drum',\n",
              " 166: 'Rimshot',\n",
              " 167: 'Drum roll',\n",
              " 168: 'Bass drum',\n",
              " 169: 'Timpani',\n",
              " 170: 'Tabla',\n",
              " 171: 'Cymbal',\n",
              " 172: 'Hi-hat',\n",
              " 173: 'Wood block',\n",
              " 174: 'Tambourine',\n",
              " 175: 'Rattle (instrument)',\n",
              " 176: 'Maraca',\n",
              " 177: 'Gong',\n",
              " 178: 'Tubular bells',\n",
              " 179: 'Mallet percussion',\n",
              " 180: 'Marimba, xylophone',\n",
              " 181: 'Glockenspiel',\n",
              " 182: 'Vibraphone',\n",
              " 183: 'Steelpan',\n",
              " 184: 'Orchestra',\n",
              " 185: 'Brass instrument',\n",
              " 186: 'French horn',\n",
              " 187: 'Trumpet',\n",
              " 188: 'Trombone',\n",
              " 189: 'Bowed string instrument',\n",
              " 190: 'String section',\n",
              " 191: 'Violin, fiddle',\n",
              " 192: 'Pizzicato',\n",
              " 193: 'Cello',\n",
              " 194: 'Double bass',\n",
              " 195: 'Wind instrument, woodwind instrument',\n",
              " 196: 'Flute',\n",
              " 197: 'Saxophone',\n",
              " 198: 'Clarinet',\n",
              " 199: 'Harp',\n",
              " 200: 'Bell',\n",
              " 201: 'Church bell',\n",
              " 202: 'Jingle bell',\n",
              " 203: 'Bicycle bell',\n",
              " 204: 'Tuning fork',\n",
              " 205: 'Chime',\n",
              " 206: 'Wind chime',\n",
              " 207: 'Change ringing (campanology)',\n",
              " 208: 'Harmonica',\n",
              " 209: 'Accordion',\n",
              " 210: 'Bagpipes',\n",
              " 211: 'Didgeridoo',\n",
              " 212: 'Shofar',\n",
              " 213: 'Theremin',\n",
              " 214: 'Singing bowl',\n",
              " 215: 'Scratching (performance technique)',\n",
              " 216: 'Pop music',\n",
              " 217: 'Hip hop music',\n",
              " 218: 'Beatboxing',\n",
              " 219: 'Rock music',\n",
              " 220: 'Heavy metal',\n",
              " 221: 'Punk rock',\n",
              " 222: 'Grunge',\n",
              " 223: 'Progressive rock',\n",
              " 224: 'Rock and roll',\n",
              " 225: 'Psychedelic rock',\n",
              " 226: 'Rhythm and blues',\n",
              " 227: 'Soul music',\n",
              " 228: 'Reggae',\n",
              " 229: 'Country',\n",
              " 230: 'Swing music',\n",
              " 231: 'Bluegrass',\n",
              " 232: 'Funk',\n",
              " 233: 'Folk music',\n",
              " 234: 'Middle Eastern music',\n",
              " 235: 'Jazz',\n",
              " 236: 'Disco',\n",
              " 237: 'Classical music',\n",
              " 238: 'Opera',\n",
              " 239: 'Electronic music',\n",
              " 240: 'House music',\n",
              " 241: 'Techno',\n",
              " 242: 'Dubstep',\n",
              " 243: 'Drum and bass',\n",
              " 244: 'Electronica',\n",
              " 245: 'Electronic dance music',\n",
              " 246: 'Ambient music',\n",
              " 247: 'Trance music',\n",
              " 248: 'Music of Latin America',\n",
              " 249: 'Salsa music',\n",
              " 250: 'Flamenco',\n",
              " 251: 'Blues',\n",
              " 252: 'Music for children',\n",
              " 253: 'New-age music',\n",
              " 254: 'Vocal music',\n",
              " 255: 'A capella',\n",
              " 256: 'Music of Africa',\n",
              " 257: 'Afrobeat',\n",
              " 258: 'Christian music',\n",
              " 259: 'Gospel music',\n",
              " 260: 'Music of Asia',\n",
              " 261: 'Carnatic music',\n",
              " 262: 'Music of Bollywood',\n",
              " 263: 'Ska',\n",
              " 264: 'Traditional music',\n",
              " 265: 'Independent music',\n",
              " 266: 'Song',\n",
              " 267: 'Background music',\n",
              " 268: 'Theme music',\n",
              " 269: 'Jingle (music)',\n",
              " 270: 'Soundtrack music',\n",
              " 271: 'Lullaby',\n",
              " 272: 'Video game music',\n",
              " 273: 'Christmas music',\n",
              " 274: 'Dance music',\n",
              " 275: 'Wedding music',\n",
              " 276: 'Happy music',\n",
              " 277: 'Funny music',\n",
              " 278: 'Sad music',\n",
              " 279: 'Tender music',\n",
              " 280: 'Exciting music',\n",
              " 281: 'Angry music',\n",
              " 282: 'Scary music',\n",
              " 283: 'Wind',\n",
              " 284: 'Rustling leaves',\n",
              " 285: 'Wind noise (microphone)',\n",
              " 286: 'Thunderstorm',\n",
              " 287: 'Thunder',\n",
              " 288: 'Water',\n",
              " 289: 'Rain',\n",
              " 290: 'Raindrop',\n",
              " 291: 'Rain on surface',\n",
              " 292: 'Stream',\n",
              " 293: 'Waterfall',\n",
              " 294: 'Ocean',\n",
              " 295: 'Waves, surf',\n",
              " 296: 'Steam',\n",
              " 297: 'Gurgling',\n",
              " 298: 'Fire',\n",
              " 299: 'Crackle',\n",
              " 300: 'Vehicle',\n",
              " 301: 'Boat, Water vehicle',\n",
              " 302: 'Sailboat, sailing ship',\n",
              " 303: 'Rowboat, canoe, kayak',\n",
              " 304: 'Motorboat, speedboat',\n",
              " 305: 'Ship',\n",
              " 306: 'Motor vehicle (road)',\n",
              " 307: 'Car',\n",
              " 308: 'Vehicle horn, car horn, honking',\n",
              " 309: 'Toot',\n",
              " 310: 'Car alarm',\n",
              " 311: 'Power windows, electric windows',\n",
              " 312: 'Skidding',\n",
              " 313: 'Tire squeal',\n",
              " 314: 'Car passing by',\n",
              " 315: 'Race car, auto racing',\n",
              " 316: 'Truck',\n",
              " 317: 'Air brake',\n",
              " 318: 'Air horn, truck horn',\n",
              " 319: 'Reversing beeps',\n",
              " 320: 'Ice cream truck, ice cream van',\n",
              " 321: 'Bus',\n",
              " 322: 'Emergency vehicle',\n",
              " 323: 'Police car (siren)',\n",
              " 324: 'Ambulance (siren)',\n",
              " 325: 'Fire engine, fire truck (siren)',\n",
              " 326: 'Motorcycle',\n",
              " 327: 'Traffic noise, roadway noise',\n",
              " 328: 'Rail transport',\n",
              " 329: 'Train',\n",
              " 330: 'Train whistle',\n",
              " 331: 'Train horn',\n",
              " 332: 'Railroad car, train wagon',\n",
              " 333: 'Train wheels squealing',\n",
              " 334: 'Subway, metro, underground',\n",
              " 335: 'Aircraft',\n",
              " 336: 'Aircraft engine',\n",
              " 337: 'Jet engine',\n",
              " 338: 'Propeller, airscrew',\n",
              " 339: 'Helicopter',\n",
              " 340: 'Fixed-wing aircraft, airplane',\n",
              " 341: 'Bicycle',\n",
              " 342: 'Skateboard',\n",
              " 343: 'Engine',\n",
              " 344: 'Light engine (high frequency)',\n",
              " 345: \"Dental drill, dentist's drill\",\n",
              " 346: 'Lawn mower',\n",
              " 347: 'Chainsaw',\n",
              " 348: 'Medium engine (mid frequency)',\n",
              " 349: 'Heavy engine (low frequency)',\n",
              " 350: 'Engine knocking',\n",
              " 351: 'Engine starting',\n",
              " 352: 'Idling',\n",
              " 353: 'Accelerating, revving, vroom',\n",
              " 354: 'Door',\n",
              " 355: 'Doorbell',\n",
              " 356: 'Ding-dong',\n",
              " 357: 'Sliding door',\n",
              " 358: 'Slam',\n",
              " 359: 'Knock',\n",
              " 360: 'Tap',\n",
              " 361: 'Squeak',\n",
              " 362: 'Cupboard open or close',\n",
              " 363: 'Drawer open or close',\n",
              " 364: 'Dishes, pots, and pans',\n",
              " 365: 'Cutlery, silverware',\n",
              " 366: 'Chopping (food)',\n",
              " 367: 'Frying (food)',\n",
              " 368: 'Microwave oven',\n",
              " 369: 'Blender',\n",
              " 370: 'Water tap, faucet',\n",
              " 371: 'Sink (filling or washing)',\n",
              " 372: 'Bathtub (filling or washing)',\n",
              " 373: 'Hair dryer',\n",
              " 374: 'Toilet flush',\n",
              " 375: 'Toothbrush',\n",
              " 376: 'Electric toothbrush',\n",
              " 377: 'Vacuum cleaner',\n",
              " 378: 'Zipper (clothing)',\n",
              " 379: 'Keys jangling',\n",
              " 380: 'Coin (dropping)',\n",
              " 381: 'Scissors',\n",
              " 382: 'Electric shaver, electric razor',\n",
              " 383: 'Shuffling cards',\n",
              " 384: 'Typing',\n",
              " 385: 'Typewriter',\n",
              " 386: 'Computer keyboard',\n",
              " 387: 'Writing',\n",
              " 388: 'Alarm',\n",
              " 389: 'Telephone',\n",
              " 390: 'Telephone bell ringing',\n",
              " 391: 'Ringtone',\n",
              " 392: 'Telephone dialing, DTMF',\n",
              " 393: 'Dial tone',\n",
              " 394: 'Busy signal',\n",
              " 395: 'Alarm clock',\n",
              " 396: 'Siren',\n",
              " 397: 'Civil defense siren',\n",
              " 398: 'Buzzer',\n",
              " 399: 'Smoke detector, smoke alarm',\n",
              " 400: 'Fire alarm',\n",
              " 401: 'Foghorn',\n",
              " 402: 'Whistle',\n",
              " 403: 'Steam whistle',\n",
              " 404: 'Mechanisms',\n",
              " 405: 'Ratchet, pawl',\n",
              " 406: 'Clock',\n",
              " 407: 'Tick',\n",
              " 408: 'Tick-tock',\n",
              " 409: 'Gears',\n",
              " 410: 'Pulleys',\n",
              " 411: 'Sewing machine',\n",
              " 412: 'Mechanical fan',\n",
              " 413: 'Air conditioning',\n",
              " 414: 'Cash register',\n",
              " 415: 'Printer',\n",
              " 416: 'Camera',\n",
              " 417: 'Single-lens reflex camera',\n",
              " 418: 'Tools',\n",
              " 419: 'Hammer',\n",
              " 420: 'Jackhammer',\n",
              " 421: 'Sawing',\n",
              " 422: 'Filing (rasp)',\n",
              " 423: 'Sanding',\n",
              " 424: 'Power tool',\n",
              " 425: 'Drill',\n",
              " 426: 'Explosion',\n",
              " 427: 'Gunshot, gunfire',\n",
              " 428: 'Machine gun',\n",
              " 429: 'Fusillade',\n",
              " 430: 'Artillery fire',\n",
              " 431: 'Cap gun',\n",
              " 432: 'Fireworks',\n",
              " 433: 'Firecracker',\n",
              " 434: 'Burst, pop',\n",
              " 435: 'Eruption',\n",
              " 436: 'Boom',\n",
              " 437: 'Wood',\n",
              " 438: 'Chop',\n",
              " 439: 'Splinter',\n",
              " 440: 'Crack',\n",
              " 441: 'Glass',\n",
              " 442: 'Chink, clink',\n",
              " 443: 'Shatter',\n",
              " 444: 'Liquid',\n",
              " 445: 'Splash, splatter',\n",
              " 446: 'Slosh',\n",
              " 447: 'Squish',\n",
              " 448: 'Drip',\n",
              " 449: 'Pour',\n",
              " 450: 'Trickle, dribble',\n",
              " 451: 'Gush',\n",
              " 452: 'Fill (with liquid)',\n",
              " 453: 'Spray',\n",
              " 454: 'Pump (liquid)',\n",
              " 455: 'Stir',\n",
              " 456: 'Boiling',\n",
              " 457: 'Sonar',\n",
              " 458: 'Arrow',\n",
              " 459: 'Whoosh, swoosh, swish',\n",
              " 460: 'Thump, thud',\n",
              " 461: 'Thunk',\n",
              " 462: 'Electronic tuner',\n",
              " 463: 'Effects unit',\n",
              " 464: 'Chorus effect',\n",
              " 465: 'Basketball bounce',\n",
              " 466: 'Bang',\n",
              " 467: 'Slap, smack',\n",
              " 468: 'Whack, thwack',\n",
              " 469: 'Smash, crash',\n",
              " 470: 'Breaking',\n",
              " 471: 'Bouncing',\n",
              " 472: 'Whip',\n",
              " 473: 'Flap',\n",
              " 474: 'Scratch',\n",
              " 475: 'Scrape',\n",
              " 476: 'Rub',\n",
              " 477: 'Roll',\n",
              " 478: 'Crushing',\n",
              " 479: 'Crumpling, crinkling',\n",
              " 480: 'Tearing',\n",
              " 481: 'Beep, bleep',\n",
              " 482: 'Ping',\n",
              " 483: 'Ding',\n",
              " 484: 'Clang',\n",
              " 485: 'Squeal',\n",
              " 486: 'Creak',\n",
              " 487: 'Rustle',\n",
              " 488: 'Whir',\n",
              " 489: 'Clatter',\n",
              " 490: 'Sizzle',\n",
              " 491: 'Clicking',\n",
              " 492: 'Clickety-clack',\n",
              " 493: 'Rumble',\n",
              " 494: 'Plop',\n",
              " 495: 'Jingle, tinkle',\n",
              " 496: 'Hum',\n",
              " 497: 'Zing',\n",
              " 498: 'Boing',\n",
              " 499: 'Crunch',\n",
              " 500: 'Silence',\n",
              " 501: 'Sine wave',\n",
              " 502: 'Harmonic',\n",
              " 503: 'Chirp tone',\n",
              " 504: 'Sound effect',\n",
              " 505: 'Pulse',\n",
              " 506: 'Inside, small room',\n",
              " 507: 'Inside, large room or hall',\n",
              " 508: 'Inside, public space',\n",
              " 509: 'Outside, urban or manmade',\n",
              " 510: 'Outside, rural or natural',\n",
              " 511: 'Reverberation',\n",
              " 512: 'Echo',\n",
              " 513: 'Noise',\n",
              " 514: 'Environmental noise',\n",
              " 515: 'Static',\n",
              " 516: 'Mains hum',\n",
              " 517: 'Distortion',\n",
              " 518: 'Sidetone',\n",
              " 519: 'Cacophony',\n",
              " 520: 'White noise',\n",
              " 521: 'Pink noise',\n",
              " 522: 'Throbbing',\n",
              " 523: 'Vibration',\n",
              " 524: 'Television',\n",
              " 525: 'Radio',\n",
              " 526: 'Field recording'}"
            ]
          },
          "metadata": {},
          "execution_count": 37
        }
      ]
    },
    {
      "cell_type": "code",
      "execution_count": 25,
      "id": "2e4efed1-1818-403b-b32d-5653d84b5b98",
      "metadata": {
        "id": "2e4efed1-1818-403b-b32d-5653d84b5b98"
      },
      "outputs": [],
      "source": [
        "# Forward pass\n",
        "prediction_logits = model(result['input_values']).logits"
      ]
    },
    {
      "cell_type": "code",
      "execution_count": 29,
      "id": "98da0a86-5902-49a3-b062-de29467861dd",
      "metadata": {
        "id": "98da0a86-5902-49a3-b062-de29467861dd",
        "outputId": "bdc4e6c1-c468-4632-ca29-c5e584d10b0f",
        "colab": {
          "base_uri": "https://localhost:8080/"
        }
      },
      "outputs": [
        {
          "output_type": "execute_result",
          "data": {
            "text/plain": [
              "torch.Size([1, 527])"
            ]
          },
          "metadata": {},
          "execution_count": 29
        }
      ],
      "source": [
        "# One raw logit output per each class\n",
        "prediction_logits.shape # torch.Size([1, 527])"
      ]
    },
    {
      "cell_type": "code",
      "execution_count": 30,
      "id": "b3dfc19c-b0ab-4b67-95c5-ee9df7361908",
      "metadata": {
        "id": "b3dfc19c-b0ab-4b67-95c5-ee9df7361908"
      },
      "outputs": [],
      "source": [
        "# Select max value -> predicted class\n",
        "predicted_class_ids = torch.argmax(prediction_logits, dim=-1).item()"
      ]
    },
    {
      "cell_type": "code",
      "execution_count": 31,
      "id": "c23e65a9-6d79-4e3c-88ed-d425f0b835f7",
      "metadata": {
        "id": "c23e65a9-6d79-4e3c-88ed-d425f0b835f7"
      },
      "outputs": [],
      "source": [
        "predicted_label = model.config.id2label[predicted_class_ids]"
      ]
    },
    {
      "cell_type": "code",
      "execution_count": 32,
      "id": "4a86578c-bba3-48b3-be8d-e28aa5a17776",
      "metadata": {
        "id": "4a86578c-bba3-48b3-be8d-e28aa5a17776",
        "outputId": "655261da-0099-4b2f-bbbf-01ec5bf4453d",
        "colab": {
          "base_uri": "https://localhost:8080/",
          "height": 35
        }
      },
      "outputs": [
        {
          "output_type": "execute_result",
          "data": {
            "text/plain": [
              "'Music'"
            ],
            "application/vnd.google.colaboratory.intrinsic+json": {
              "type": "string"
            }
          },
          "metadata": {},
          "execution_count": 32
        }
      ],
      "source": [
        "predicted_label"
      ]
    },
    {
      "cell_type": "markdown",
      "id": "dcbe6d98-87b8-4086-95c1-d96bf40536d8",
      "metadata": {
        "id": "dcbe6d98-87b8-4086-95c1-d96bf40536d8"
      },
      "source": [
        "## Pipeline for Audio Classification"
      ]
    },
    {
      "cell_type": "code",
      "execution_count": 38,
      "id": "c7bb1d37-859f-4cee-8979-aea1ab77038e",
      "metadata": {
        "id": "c7bb1d37-859f-4cee-8979-aea1ab77038e"
      },
      "outputs": [],
      "source": [
        "# Instead of performing manually the feature extraction + inference,\n",
        "# we can use a pipeline as a high-level helper\n",
        "from transformers import pipeline\n",
        "\n",
        "pipe = pipeline(\"audio-classification\", model=\"MIT/ast-finetuned-audioset-10-10-0.4593\")"
      ]
    },
    {
      "cell_type": "code",
      "execution_count": 39,
      "id": "d725f7ef-cc90-433d-b5da-af0b141a9cde",
      "metadata": {
        "id": "d725f7ef-cc90-433d-b5da-af0b141a9cde",
        "outputId": "d9371abd-8145-4bc5-cffc-070cb1b31fe7",
        "colab": {
          "base_uri": "https://localhost:8080/"
        }
      },
      "outputs": [
        {
          "output_type": "execute_result",
          "data": {
            "text/plain": [
              "ASTForAudioClassification(\n",
              "  (audio_spectrogram_transformer): ASTModel(\n",
              "    (embeddings): ASTEmbeddings(\n",
              "      (patch_embeddings): ASTPatchEmbeddings(\n",
              "        (projection): Conv2d(1, 768, kernel_size=(16, 16), stride=(10, 10))\n",
              "      )\n",
              "      (dropout): Dropout(p=0.0, inplace=False)\n",
              "    )\n",
              "    (encoder): ASTEncoder(\n",
              "      (layer): ModuleList(\n",
              "        (0-11): 12 x ASTLayer(\n",
              "          (attention): ASTSdpaAttention(\n",
              "            (attention): ASTSdpaSelfAttention(\n",
              "              (query): Linear(in_features=768, out_features=768, bias=True)\n",
              "              (key): Linear(in_features=768, out_features=768, bias=True)\n",
              "              (value): Linear(in_features=768, out_features=768, bias=True)\n",
              "              (dropout): Dropout(p=0.0, inplace=False)\n",
              "            )\n",
              "            (output): ASTSelfOutput(\n",
              "              (dense): Linear(in_features=768, out_features=768, bias=True)\n",
              "              (dropout): Dropout(p=0.0, inplace=False)\n",
              "            )\n",
              "          )\n",
              "          (intermediate): ASTIntermediate(\n",
              "            (dense): Linear(in_features=768, out_features=3072, bias=True)\n",
              "            (intermediate_act_fn): GELUActivation()\n",
              "          )\n",
              "          (output): ASTOutput(\n",
              "            (dense): Linear(in_features=3072, out_features=768, bias=True)\n",
              "            (dropout): Dropout(p=0.0, inplace=False)\n",
              "          )\n",
              "          (layernorm_before): LayerNorm((768,), eps=1e-12, elementwise_affine=True)\n",
              "          (layernorm_after): LayerNorm((768,), eps=1e-12, elementwise_affine=True)\n",
              "        )\n",
              "      )\n",
              "    )\n",
              "    (layernorm): LayerNorm((768,), eps=1e-12, elementwise_affine=True)\n",
              "  )\n",
              "  (classifier): ASTMLPHead(\n",
              "    (layernorm): LayerNorm((768,), eps=1e-12, elementwise_affine=True)\n",
              "    (dense): Linear(in_features=768, out_features=527, bias=True)\n",
              "  )\n",
              ")"
            ]
          },
          "metadata": {},
          "execution_count": 39
        }
      ],
      "source": [
        "# We can check that it's the same model as before\n",
        "pipe.model"
      ]
    },
    {
      "cell_type": "code",
      "execution_count": 40,
      "id": "160631d9-bcc8-4771-a43b-56cbd6d428a1",
      "metadata": {
        "id": "160631d9-bcc8-4771-a43b-56cbd6d428a1",
        "outputId": "4f90454c-f0be-4c0b-a45c-dfae8b04caef",
        "colab": {
          "base_uri": "https://localhost:8080/"
        }
      },
      "outputs": [
        {
          "output_type": "stream",
          "name": "stderr",
          "text": [
            "/usr/local/lib/python3.10/dist-packages/transformers/models/audio_spectrogram_transformer/feature_extraction_audio_spectrogram_transformer.py:118: UserWarning: The given NumPy array is not writable, and PyTorch does not support non-writable tensors. This means writing to this tensor will result in undefined behavior. You may want to copy the array to protect its data or make it writable before converting it to a tensor. This type of warning will be suppressed for the rest of this program. (Triggered internally at ../torch/csrc/utils/tensor_numpy.cpp:206.)\n",
            "  waveform = torch.from_numpy(waveform).unsqueeze(0)\n"
          ]
        },
        {
          "output_type": "execute_result",
          "data": {
            "text/plain": [
              "[{'score': 0.48486781120300293, 'label': 'Music'},\n",
              " {'score': 0.19131098687648773, 'label': 'Violin, fiddle'},\n",
              " {'score': 0.08519725501537323, 'label': 'Musical instrument'},\n",
              " {'score': 0.04692428186535835, 'label': 'Bowed string instrument'},\n",
              " {'score': 0.045360978692770004, 'label': 'Orchestra'}]"
            ]
          },
          "metadata": {},
          "execution_count": 40
        }
      ],
      "source": [
        "# We run the pipeline and we obtain the top n classes\n",
        "pipe('example.mp3')"
      ]
    },
    {
      "cell_type": "code",
      "execution_count": null,
      "id": "64d3ea93-a1b1-4272-b42d-87a04964f0d0",
      "metadata": {
        "id": "64d3ea93-a1b1-4272-b42d-87a04964f0d0",
        "outputId": "8a8a76b4-a674-4665-b2b9-a4e149565255"
      },
      "outputs": [
        {
          "data": {
            "text/plain": [
              "527"
            ]
          },
          "execution_count": 8,
          "metadata": {},
          "output_type": "execute_result"
        }
      ],
      "source": [
        "len(pipe.model.config.id2label)"
      ]
    },
    {
      "cell_type": "code",
      "execution_count": null,
      "id": "f36b69fa-ac10-49a7-9282-c93b4de70a58",
      "metadata": {
        "id": "f36b69fa-ac10-49a7-9282-c93b4de70a58"
      },
      "outputs": [],
      "source": []
    },
    {
      "cell_type": "markdown",
      "source": [
        "## AudioSet\n",
        "\n",
        "In classification tasks, often the [AudioSet](https://research.google.com/audioset/) dataset and class-list are from Google/YouTube used. AudioSet consists of an expanding ontology of 632 audio event classes and a collection of 2,084,320 human-labeled 10-second sound clips drawn from YouTube videos.\n",
        "\n",
        "Sometimes a subset of 527 most common classes is taken.\n",
        "The original ontology has high level groups which are then refined:\n",
        "\n",
        "- **Human sounds**\n",
        "  - Speech\n",
        "  - Laughter\n",
        "  - Crying, sobbing\n",
        "  - Shout\n",
        "  - Whispering\n",
        "\n",
        "- **Animal sounds**\n",
        "  - Dog\n",
        "  - Cat\n",
        "  - Bird\n",
        "  - Rooster\n",
        "  - Insect\n",
        "\n",
        "- **Natural sounds**\n",
        "  - Wind\n",
        "  - Rain\n",
        "  - Thunder\n",
        "  - Fire\n",
        "  - Waterfall\n",
        "\n",
        "- **Musical instruments**\n",
        "  - Piano\n",
        "  - Guitar\n",
        "  - Violin\n",
        "  - Drums\n",
        "  - Flute\n",
        "\n",
        "- **Environmental sounds**\n",
        "  - Car\n",
        "  - Motorcycle\n",
        "  - Train\n",
        "  - Aircraft\n",
        "  - Siren\n",
        "\n",
        "- **Machine sounds**\n",
        "  - Engine\n",
        "  - Tools\n",
        "  - Machinery\n",
        "\n",
        "- **Music genres and instruments**\n",
        "  - Rock music\n",
        "  - Pop music\n",
        "  - Jazz\n",
        "  - Classical music\n",
        "\n"
      ],
      "metadata": {
        "id": "8iq5KZaMnI0n"
      },
      "id": "8iq5KZaMnI0n"
    },
    {
      "cell_type": "code",
      "source": [
        "import json\n",
        "import requests\n",
        "import pandas as pd\n",
        "\n",
        "# URL to the ontology file\n",
        "ontology_url = \"https://raw.githubusercontent.com/audioset/ontology/master/ontology.json\"\n",
        "\n",
        "# Load the ontology\n",
        "response = requests.get(ontology_url)\n",
        "ontology = json.loads(response.text)\n",
        "\n",
        "# Count the number of classes\n",
        "num_classes = len(ontology)\n",
        "print(f\"Number of classes in AudioSet: {num_classes}\") # 632\n",
        "\n",
        "# URL to the SUBSET AudioSet class labels (527 classes)\n",
        "subset_labels_url = \"http://storage.googleapis.com/us_audioset/youtube_corpus/v1/csv/class_labels_indices.csv\"\n",
        "\n",
        "# Load the class labels\n",
        "subset_labels_df = pd.read_csv(subset_labels_url)\n",
        "num_classes = subset_labels_df.shape[0]\n",
        "print(f\"Number of classes in the subset: {num_classes}\") # 527\n",
        "\n",
        "# Display some top-level classes and their sub-classes\n",
        "num = 5\n",
        "for category in ontology[:num]:  # Display the first num=5 top-level classes\n",
        "    print(f\"Class: {category['name']}\")\n",
        "    if 'child_ids' in category:\n",
        "        for child_id in category['child_ids'][:num]:  # Display the first 5 sub-classes\n",
        "            child = next((c for c in ontology if c['id'] == child_id), None)\n",
        "            if child:\n",
        "                print(f\"  Sub-class: {child['name']}\")\n",
        "    print()\n",
        "\n"
      ],
      "metadata": {
        "id": "fAkWp07hnKU9",
        "outputId": "c8a22e6f-88d0-4127-ac34-adc5e4dc3692",
        "colab": {
          "base_uri": "https://localhost:8080/"
        }
      },
      "id": "fAkWp07hnKU9",
      "execution_count": 45,
      "outputs": [
        {
          "output_type": "stream",
          "name": "stdout",
          "text": [
            "Number of classes in AudioSet: 632\n",
            "Number of classes in the subset: 527\n",
            "Class: Human sounds\n",
            "  Sub-class: Human voice\n",
            "  Sub-class: Whistling\n",
            "  Sub-class: Respiratory sounds\n",
            "  Sub-class: Human locomotion\n",
            "  Sub-class: Digestive\n",
            "\n",
            "Class: Human voice\n",
            "  Sub-class: Speech\n",
            "  Sub-class: Shout\n",
            "  Sub-class: Screaming\n",
            "  Sub-class: Whispering\n",
            "  Sub-class: Laughter\n",
            "\n",
            "Class: Speech\n",
            "  Sub-class: Male speech, man speaking\n",
            "  Sub-class: Female speech, woman speaking\n",
            "  Sub-class: Child speech, kid speaking\n",
            "  Sub-class: Conversation\n",
            "  Sub-class: Narration, monologue\n",
            "\n",
            "Class: Male speech, man speaking\n",
            "\n",
            "Class: Female speech, woman speaking\n",
            "\n"
          ]
        }
      ]
    },
    {
      "cell_type": "code",
      "source": [],
      "metadata": {
        "id": "p07EUlTioZTR"
      },
      "id": "p07EUlTioZTR",
      "execution_count": null,
      "outputs": []
    }
  ],
  "metadata": {
    "kernelspec": {
      "display_name": "Python 3",
      "name": "python3"
    },
    "language_info": {
      "codemirror_mode": {
        "name": "ipython",
        "version": 3
      },
      "file_extension": ".py",
      "mimetype": "text/x-python",
      "name": "python",
      "nbconvert_exporter": "python",
      "pygments_lexer": "ipython3",
      "version": "3.9.12"
    },
    "colab": {
      "provenance": [],
      "gpuType": "T4"
    },
    "accelerator": "GPU",
    "widgets": {
      "application/vnd.jupyter.widget-state+json": {
        "1df09cb266ed4fb69a837b090a8817b2": {
          "model_module": "@jupyter-widgets/controls",
          "model_name": "HBoxModel",
          "model_module_version": "1.5.0",
          "state": {
            "_dom_classes": [],
            "_model_module": "@jupyter-widgets/controls",
            "_model_module_version": "1.5.0",
            "_model_name": "HBoxModel",
            "_view_count": null,
            "_view_module": "@jupyter-widgets/controls",
            "_view_module_version": "1.5.0",
            "_view_name": "HBoxView",
            "box_style": "",
            "children": [
              "IPY_MODEL_f59f4442d22840f686b4a2c61abfca7c",
              "IPY_MODEL_41323ad08ec1421299d00c7b1ba82474",
              "IPY_MODEL_9727afbdf7aa441189916cf040e307e6"
            ],
            "layout": "IPY_MODEL_d4f97b0bfc194d489ce80a42d060ebca"
          }
        },
        "f59f4442d22840f686b4a2c61abfca7c": {
          "model_module": "@jupyter-widgets/controls",
          "model_name": "HTMLModel",
          "model_module_version": "1.5.0",
          "state": {
            "_dom_classes": [],
            "_model_module": "@jupyter-widgets/controls",
            "_model_module_version": "1.5.0",
            "_model_name": "HTMLModel",
            "_view_count": null,
            "_view_module": "@jupyter-widgets/controls",
            "_view_module_version": "1.5.0",
            "_view_name": "HTMLView",
            "description": "",
            "description_tooltip": null,
            "layout": "IPY_MODEL_8a4a6d93e85949c79ff74de09606598e",
            "placeholder": "​",
            "style": "IPY_MODEL_b3c59beda01d474582897870c629f157",
            "value": "preprocessor_config.json: 100%"
          }
        },
        "41323ad08ec1421299d00c7b1ba82474": {
          "model_module": "@jupyter-widgets/controls",
          "model_name": "FloatProgressModel",
          "model_module_version": "1.5.0",
          "state": {
            "_dom_classes": [],
            "_model_module": "@jupyter-widgets/controls",
            "_model_module_version": "1.5.0",
            "_model_name": "FloatProgressModel",
            "_view_count": null,
            "_view_module": "@jupyter-widgets/controls",
            "_view_module_version": "1.5.0",
            "_view_name": "ProgressView",
            "bar_style": "success",
            "description": "",
            "description_tooltip": null,
            "layout": "IPY_MODEL_a49bb7c3a63147858cd3f7c39d682def",
            "max": 297,
            "min": 0,
            "orientation": "horizontal",
            "style": "IPY_MODEL_dc5b10916edd452fa9dc64379adbbb3f",
            "value": 297
          }
        },
        "9727afbdf7aa441189916cf040e307e6": {
          "model_module": "@jupyter-widgets/controls",
          "model_name": "HTMLModel",
          "model_module_version": "1.5.0",
          "state": {
            "_dom_classes": [],
            "_model_module": "@jupyter-widgets/controls",
            "_model_module_version": "1.5.0",
            "_model_name": "HTMLModel",
            "_view_count": null,
            "_view_module": "@jupyter-widgets/controls",
            "_view_module_version": "1.5.0",
            "_view_name": "HTMLView",
            "description": "",
            "description_tooltip": null,
            "layout": "IPY_MODEL_2df33a203bbb4192a39d57ebb1a37ebe",
            "placeholder": "​",
            "style": "IPY_MODEL_99a09c47232a4abcb1a13e519e57bcb7",
            "value": " 297/297 [00:00&lt;00:00, 14.8kB/s]"
          }
        },
        "d4f97b0bfc194d489ce80a42d060ebca": {
          "model_module": "@jupyter-widgets/base",
          "model_name": "LayoutModel",
          "model_module_version": "1.2.0",
          "state": {
            "_model_module": "@jupyter-widgets/base",
            "_model_module_version": "1.2.0",
            "_model_name": "LayoutModel",
            "_view_count": null,
            "_view_module": "@jupyter-widgets/base",
            "_view_module_version": "1.2.0",
            "_view_name": "LayoutView",
            "align_content": null,
            "align_items": null,
            "align_self": null,
            "border": null,
            "bottom": null,
            "display": null,
            "flex": null,
            "flex_flow": null,
            "grid_area": null,
            "grid_auto_columns": null,
            "grid_auto_flow": null,
            "grid_auto_rows": null,
            "grid_column": null,
            "grid_gap": null,
            "grid_row": null,
            "grid_template_areas": null,
            "grid_template_columns": null,
            "grid_template_rows": null,
            "height": null,
            "justify_content": null,
            "justify_items": null,
            "left": null,
            "margin": null,
            "max_height": null,
            "max_width": null,
            "min_height": null,
            "min_width": null,
            "object_fit": null,
            "object_position": null,
            "order": null,
            "overflow": null,
            "overflow_x": null,
            "overflow_y": null,
            "padding": null,
            "right": null,
            "top": null,
            "visibility": null,
            "width": null
          }
        },
        "8a4a6d93e85949c79ff74de09606598e": {
          "model_module": "@jupyter-widgets/base",
          "model_name": "LayoutModel",
          "model_module_version": "1.2.0",
          "state": {
            "_model_module": "@jupyter-widgets/base",
            "_model_module_version": "1.2.0",
            "_model_name": "LayoutModel",
            "_view_count": null,
            "_view_module": "@jupyter-widgets/base",
            "_view_module_version": "1.2.0",
            "_view_name": "LayoutView",
            "align_content": null,
            "align_items": null,
            "align_self": null,
            "border": null,
            "bottom": null,
            "display": null,
            "flex": null,
            "flex_flow": null,
            "grid_area": null,
            "grid_auto_columns": null,
            "grid_auto_flow": null,
            "grid_auto_rows": null,
            "grid_column": null,
            "grid_gap": null,
            "grid_row": null,
            "grid_template_areas": null,
            "grid_template_columns": null,
            "grid_template_rows": null,
            "height": null,
            "justify_content": null,
            "justify_items": null,
            "left": null,
            "margin": null,
            "max_height": null,
            "max_width": null,
            "min_height": null,
            "min_width": null,
            "object_fit": null,
            "object_position": null,
            "order": null,
            "overflow": null,
            "overflow_x": null,
            "overflow_y": null,
            "padding": null,
            "right": null,
            "top": null,
            "visibility": null,
            "width": null
          }
        },
        "b3c59beda01d474582897870c629f157": {
          "model_module": "@jupyter-widgets/controls",
          "model_name": "DescriptionStyleModel",
          "model_module_version": "1.5.0",
          "state": {
            "_model_module": "@jupyter-widgets/controls",
            "_model_module_version": "1.5.0",
            "_model_name": "DescriptionStyleModel",
            "_view_count": null,
            "_view_module": "@jupyter-widgets/base",
            "_view_module_version": "1.2.0",
            "_view_name": "StyleView",
            "description_width": ""
          }
        },
        "a49bb7c3a63147858cd3f7c39d682def": {
          "model_module": "@jupyter-widgets/base",
          "model_name": "LayoutModel",
          "model_module_version": "1.2.0",
          "state": {
            "_model_module": "@jupyter-widgets/base",
            "_model_module_version": "1.2.0",
            "_model_name": "LayoutModel",
            "_view_count": null,
            "_view_module": "@jupyter-widgets/base",
            "_view_module_version": "1.2.0",
            "_view_name": "LayoutView",
            "align_content": null,
            "align_items": null,
            "align_self": null,
            "border": null,
            "bottom": null,
            "display": null,
            "flex": null,
            "flex_flow": null,
            "grid_area": null,
            "grid_auto_columns": null,
            "grid_auto_flow": null,
            "grid_auto_rows": null,
            "grid_column": null,
            "grid_gap": null,
            "grid_row": null,
            "grid_template_areas": null,
            "grid_template_columns": null,
            "grid_template_rows": null,
            "height": null,
            "justify_content": null,
            "justify_items": null,
            "left": null,
            "margin": null,
            "max_height": null,
            "max_width": null,
            "min_height": null,
            "min_width": null,
            "object_fit": null,
            "object_position": null,
            "order": null,
            "overflow": null,
            "overflow_x": null,
            "overflow_y": null,
            "padding": null,
            "right": null,
            "top": null,
            "visibility": null,
            "width": null
          }
        },
        "dc5b10916edd452fa9dc64379adbbb3f": {
          "model_module": "@jupyter-widgets/controls",
          "model_name": "ProgressStyleModel",
          "model_module_version": "1.5.0",
          "state": {
            "_model_module": "@jupyter-widgets/controls",
            "_model_module_version": "1.5.0",
            "_model_name": "ProgressStyleModel",
            "_view_count": null,
            "_view_module": "@jupyter-widgets/base",
            "_view_module_version": "1.2.0",
            "_view_name": "StyleView",
            "bar_color": null,
            "description_width": ""
          }
        },
        "2df33a203bbb4192a39d57ebb1a37ebe": {
          "model_module": "@jupyter-widgets/base",
          "model_name": "LayoutModel",
          "model_module_version": "1.2.0",
          "state": {
            "_model_module": "@jupyter-widgets/base",
            "_model_module_version": "1.2.0",
            "_model_name": "LayoutModel",
            "_view_count": null,
            "_view_module": "@jupyter-widgets/base",
            "_view_module_version": "1.2.0",
            "_view_name": "LayoutView",
            "align_content": null,
            "align_items": null,
            "align_self": null,
            "border": null,
            "bottom": null,
            "display": null,
            "flex": null,
            "flex_flow": null,
            "grid_area": null,
            "grid_auto_columns": null,
            "grid_auto_flow": null,
            "grid_auto_rows": null,
            "grid_column": null,
            "grid_gap": null,
            "grid_row": null,
            "grid_template_areas": null,
            "grid_template_columns": null,
            "grid_template_rows": null,
            "height": null,
            "justify_content": null,
            "justify_items": null,
            "left": null,
            "margin": null,
            "max_height": null,
            "max_width": null,
            "min_height": null,
            "min_width": null,
            "object_fit": null,
            "object_position": null,
            "order": null,
            "overflow": null,
            "overflow_x": null,
            "overflow_y": null,
            "padding": null,
            "right": null,
            "top": null,
            "visibility": null,
            "width": null
          }
        },
        "99a09c47232a4abcb1a13e519e57bcb7": {
          "model_module": "@jupyter-widgets/controls",
          "model_name": "DescriptionStyleModel",
          "model_module_version": "1.5.0",
          "state": {
            "_model_module": "@jupyter-widgets/controls",
            "_model_module_version": "1.5.0",
            "_model_name": "DescriptionStyleModel",
            "_view_count": null,
            "_view_module": "@jupyter-widgets/base",
            "_view_module_version": "1.2.0",
            "_view_name": "StyleView",
            "description_width": ""
          }
        },
        "84d1dbc2ba3e4d09a01f92d6d429a2b1": {
          "model_module": "@jupyter-widgets/controls",
          "model_name": "HBoxModel",
          "model_module_version": "1.5.0",
          "state": {
            "_dom_classes": [],
            "_model_module": "@jupyter-widgets/controls",
            "_model_module_version": "1.5.0",
            "_model_name": "HBoxModel",
            "_view_count": null,
            "_view_module": "@jupyter-widgets/controls",
            "_view_module_version": "1.5.0",
            "_view_name": "HBoxView",
            "box_style": "",
            "children": [
              "IPY_MODEL_24e8254a577c41c1aee14ea23489e87f",
              "IPY_MODEL_6c56d98372364a409ef179ab1304486c",
              "IPY_MODEL_4eaa1516457840419ea2ab248e703281"
            ],
            "layout": "IPY_MODEL_5e82031d504043a393eb457f23164d9d"
          }
        },
        "24e8254a577c41c1aee14ea23489e87f": {
          "model_module": "@jupyter-widgets/controls",
          "model_name": "HTMLModel",
          "model_module_version": "1.5.0",
          "state": {
            "_dom_classes": [],
            "_model_module": "@jupyter-widgets/controls",
            "_model_module_version": "1.5.0",
            "_model_name": "HTMLModel",
            "_view_count": null,
            "_view_module": "@jupyter-widgets/controls",
            "_view_module_version": "1.5.0",
            "_view_name": "HTMLView",
            "description": "",
            "description_tooltip": null,
            "layout": "IPY_MODEL_78c9ed6009644ecf803ce46581bf22d6",
            "placeholder": "​",
            "style": "IPY_MODEL_1a79932cea0b46809d85d34bd2b147c7",
            "value": "config.json: 100%"
          }
        },
        "6c56d98372364a409ef179ab1304486c": {
          "model_module": "@jupyter-widgets/controls",
          "model_name": "FloatProgressModel",
          "model_module_version": "1.5.0",
          "state": {
            "_dom_classes": [],
            "_model_module": "@jupyter-widgets/controls",
            "_model_module_version": "1.5.0",
            "_model_name": "FloatProgressModel",
            "_view_count": null,
            "_view_module": "@jupyter-widgets/controls",
            "_view_module_version": "1.5.0",
            "_view_name": "ProgressView",
            "bar_style": "success",
            "description": "",
            "description_tooltip": null,
            "layout": "IPY_MODEL_f3edc760c3664c219ddc9462cb66c001",
            "max": 26763,
            "min": 0,
            "orientation": "horizontal",
            "style": "IPY_MODEL_366ad07660a643b183cf5f5aed8182d6",
            "value": 26763
          }
        },
        "4eaa1516457840419ea2ab248e703281": {
          "model_module": "@jupyter-widgets/controls",
          "model_name": "HTMLModel",
          "model_module_version": "1.5.0",
          "state": {
            "_dom_classes": [],
            "_model_module": "@jupyter-widgets/controls",
            "_model_module_version": "1.5.0",
            "_model_name": "HTMLModel",
            "_view_count": null,
            "_view_module": "@jupyter-widgets/controls",
            "_view_module_version": "1.5.0",
            "_view_name": "HTMLView",
            "description": "",
            "description_tooltip": null,
            "layout": "IPY_MODEL_2deaa4f34d624b0d88e5a39da1b66196",
            "placeholder": "​",
            "style": "IPY_MODEL_e2813ed485cf47d4aa3f9cc8cc5821d7",
            "value": " 26.8k/26.8k [00:00&lt;00:00, 1.35MB/s]"
          }
        },
        "5e82031d504043a393eb457f23164d9d": {
          "model_module": "@jupyter-widgets/base",
          "model_name": "LayoutModel",
          "model_module_version": "1.2.0",
          "state": {
            "_model_module": "@jupyter-widgets/base",
            "_model_module_version": "1.2.0",
            "_model_name": "LayoutModel",
            "_view_count": null,
            "_view_module": "@jupyter-widgets/base",
            "_view_module_version": "1.2.0",
            "_view_name": "LayoutView",
            "align_content": null,
            "align_items": null,
            "align_self": null,
            "border": null,
            "bottom": null,
            "display": null,
            "flex": null,
            "flex_flow": null,
            "grid_area": null,
            "grid_auto_columns": null,
            "grid_auto_flow": null,
            "grid_auto_rows": null,
            "grid_column": null,
            "grid_gap": null,
            "grid_row": null,
            "grid_template_areas": null,
            "grid_template_columns": null,
            "grid_template_rows": null,
            "height": null,
            "justify_content": null,
            "justify_items": null,
            "left": null,
            "margin": null,
            "max_height": null,
            "max_width": null,
            "min_height": null,
            "min_width": null,
            "object_fit": null,
            "object_position": null,
            "order": null,
            "overflow": null,
            "overflow_x": null,
            "overflow_y": null,
            "padding": null,
            "right": null,
            "top": null,
            "visibility": null,
            "width": null
          }
        },
        "78c9ed6009644ecf803ce46581bf22d6": {
          "model_module": "@jupyter-widgets/base",
          "model_name": "LayoutModel",
          "model_module_version": "1.2.0",
          "state": {
            "_model_module": "@jupyter-widgets/base",
            "_model_module_version": "1.2.0",
            "_model_name": "LayoutModel",
            "_view_count": null,
            "_view_module": "@jupyter-widgets/base",
            "_view_module_version": "1.2.0",
            "_view_name": "LayoutView",
            "align_content": null,
            "align_items": null,
            "align_self": null,
            "border": null,
            "bottom": null,
            "display": null,
            "flex": null,
            "flex_flow": null,
            "grid_area": null,
            "grid_auto_columns": null,
            "grid_auto_flow": null,
            "grid_auto_rows": null,
            "grid_column": null,
            "grid_gap": null,
            "grid_row": null,
            "grid_template_areas": null,
            "grid_template_columns": null,
            "grid_template_rows": null,
            "height": null,
            "justify_content": null,
            "justify_items": null,
            "left": null,
            "margin": null,
            "max_height": null,
            "max_width": null,
            "min_height": null,
            "min_width": null,
            "object_fit": null,
            "object_position": null,
            "order": null,
            "overflow": null,
            "overflow_x": null,
            "overflow_y": null,
            "padding": null,
            "right": null,
            "top": null,
            "visibility": null,
            "width": null
          }
        },
        "1a79932cea0b46809d85d34bd2b147c7": {
          "model_module": "@jupyter-widgets/controls",
          "model_name": "DescriptionStyleModel",
          "model_module_version": "1.5.0",
          "state": {
            "_model_module": "@jupyter-widgets/controls",
            "_model_module_version": "1.5.0",
            "_model_name": "DescriptionStyleModel",
            "_view_count": null,
            "_view_module": "@jupyter-widgets/base",
            "_view_module_version": "1.2.0",
            "_view_name": "StyleView",
            "description_width": ""
          }
        },
        "f3edc760c3664c219ddc9462cb66c001": {
          "model_module": "@jupyter-widgets/base",
          "model_name": "LayoutModel",
          "model_module_version": "1.2.0",
          "state": {
            "_model_module": "@jupyter-widgets/base",
            "_model_module_version": "1.2.0",
            "_model_name": "LayoutModel",
            "_view_count": null,
            "_view_module": "@jupyter-widgets/base",
            "_view_module_version": "1.2.0",
            "_view_name": "LayoutView",
            "align_content": null,
            "align_items": null,
            "align_self": null,
            "border": null,
            "bottom": null,
            "display": null,
            "flex": null,
            "flex_flow": null,
            "grid_area": null,
            "grid_auto_columns": null,
            "grid_auto_flow": null,
            "grid_auto_rows": null,
            "grid_column": null,
            "grid_gap": null,
            "grid_row": null,
            "grid_template_areas": null,
            "grid_template_columns": null,
            "grid_template_rows": null,
            "height": null,
            "justify_content": null,
            "justify_items": null,
            "left": null,
            "margin": null,
            "max_height": null,
            "max_width": null,
            "min_height": null,
            "min_width": null,
            "object_fit": null,
            "object_position": null,
            "order": null,
            "overflow": null,
            "overflow_x": null,
            "overflow_y": null,
            "padding": null,
            "right": null,
            "top": null,
            "visibility": null,
            "width": null
          }
        },
        "366ad07660a643b183cf5f5aed8182d6": {
          "model_module": "@jupyter-widgets/controls",
          "model_name": "ProgressStyleModel",
          "model_module_version": "1.5.0",
          "state": {
            "_model_module": "@jupyter-widgets/controls",
            "_model_module_version": "1.5.0",
            "_model_name": "ProgressStyleModel",
            "_view_count": null,
            "_view_module": "@jupyter-widgets/base",
            "_view_module_version": "1.2.0",
            "_view_name": "StyleView",
            "bar_color": null,
            "description_width": ""
          }
        },
        "2deaa4f34d624b0d88e5a39da1b66196": {
          "model_module": "@jupyter-widgets/base",
          "model_name": "LayoutModel",
          "model_module_version": "1.2.0",
          "state": {
            "_model_module": "@jupyter-widgets/base",
            "_model_module_version": "1.2.0",
            "_model_name": "LayoutModel",
            "_view_count": null,
            "_view_module": "@jupyter-widgets/base",
            "_view_module_version": "1.2.0",
            "_view_name": "LayoutView",
            "align_content": null,
            "align_items": null,
            "align_self": null,
            "border": null,
            "bottom": null,
            "display": null,
            "flex": null,
            "flex_flow": null,
            "grid_area": null,
            "grid_auto_columns": null,
            "grid_auto_flow": null,
            "grid_auto_rows": null,
            "grid_column": null,
            "grid_gap": null,
            "grid_row": null,
            "grid_template_areas": null,
            "grid_template_columns": null,
            "grid_template_rows": null,
            "height": null,
            "justify_content": null,
            "justify_items": null,
            "left": null,
            "margin": null,
            "max_height": null,
            "max_width": null,
            "min_height": null,
            "min_width": null,
            "object_fit": null,
            "object_position": null,
            "order": null,
            "overflow": null,
            "overflow_x": null,
            "overflow_y": null,
            "padding": null,
            "right": null,
            "top": null,
            "visibility": null,
            "width": null
          }
        },
        "e2813ed485cf47d4aa3f9cc8cc5821d7": {
          "model_module": "@jupyter-widgets/controls",
          "model_name": "DescriptionStyleModel",
          "model_module_version": "1.5.0",
          "state": {
            "_model_module": "@jupyter-widgets/controls",
            "_model_module_version": "1.5.0",
            "_model_name": "DescriptionStyleModel",
            "_view_count": null,
            "_view_module": "@jupyter-widgets/base",
            "_view_module_version": "1.2.0",
            "_view_name": "StyleView",
            "description_width": ""
          }
        },
        "2115fd7c29d1420ca8a54e834acf16fe": {
          "model_module": "@jupyter-widgets/controls",
          "model_name": "HBoxModel",
          "model_module_version": "1.5.0",
          "state": {
            "_dom_classes": [],
            "_model_module": "@jupyter-widgets/controls",
            "_model_module_version": "1.5.0",
            "_model_name": "HBoxModel",
            "_view_count": null,
            "_view_module": "@jupyter-widgets/controls",
            "_view_module_version": "1.5.0",
            "_view_name": "HBoxView",
            "box_style": "",
            "children": [
              "IPY_MODEL_9c6a535e3e124024b57d457a77dd8102",
              "IPY_MODEL_96828bfc751947f0bb244e30be433f9a",
              "IPY_MODEL_eaf724e95ceb436f81619f1f07041db9"
            ],
            "layout": "IPY_MODEL_9364c986ced441c9bfacc6307a41ca5b"
          }
        },
        "9c6a535e3e124024b57d457a77dd8102": {
          "model_module": "@jupyter-widgets/controls",
          "model_name": "HTMLModel",
          "model_module_version": "1.5.0",
          "state": {
            "_dom_classes": [],
            "_model_module": "@jupyter-widgets/controls",
            "_model_module_version": "1.5.0",
            "_model_name": "HTMLModel",
            "_view_count": null,
            "_view_module": "@jupyter-widgets/controls",
            "_view_module_version": "1.5.0",
            "_view_name": "HTMLView",
            "description": "",
            "description_tooltip": null,
            "layout": "IPY_MODEL_eb3ba23ac57141a6a8d2e58febcba671",
            "placeholder": "​",
            "style": "IPY_MODEL_a42ed4a75947490f9e79f6d37fce7681",
            "value": "model.safetensors: 100%"
          }
        },
        "96828bfc751947f0bb244e30be433f9a": {
          "model_module": "@jupyter-widgets/controls",
          "model_name": "FloatProgressModel",
          "model_module_version": "1.5.0",
          "state": {
            "_dom_classes": [],
            "_model_module": "@jupyter-widgets/controls",
            "_model_module_version": "1.5.0",
            "_model_name": "FloatProgressModel",
            "_view_count": null,
            "_view_module": "@jupyter-widgets/controls",
            "_view_module_version": "1.5.0",
            "_view_name": "ProgressView",
            "bar_style": "success",
            "description": "",
            "description_tooltip": null,
            "layout": "IPY_MODEL_fe91bcfab0b642e2b5a32b69baeed8cf",
            "max": 346404948,
            "min": 0,
            "orientation": "horizontal",
            "style": "IPY_MODEL_3aca7120c0e542eb99779b0fb81b40bf",
            "value": 346404948
          }
        },
        "eaf724e95ceb436f81619f1f07041db9": {
          "model_module": "@jupyter-widgets/controls",
          "model_name": "HTMLModel",
          "model_module_version": "1.5.0",
          "state": {
            "_dom_classes": [],
            "_model_module": "@jupyter-widgets/controls",
            "_model_module_version": "1.5.0",
            "_model_name": "HTMLModel",
            "_view_count": null,
            "_view_module": "@jupyter-widgets/controls",
            "_view_module_version": "1.5.0",
            "_view_name": "HTMLView",
            "description": "",
            "description_tooltip": null,
            "layout": "IPY_MODEL_a40f92dcaefa44e3af4da1f734b5a670",
            "placeholder": "​",
            "style": "IPY_MODEL_3e29405c4f634367bbb2983afcdb7dcd",
            "value": " 346M/346M [00:06&lt;00:00, 31.0MB/s]"
          }
        },
        "9364c986ced441c9bfacc6307a41ca5b": {
          "model_module": "@jupyter-widgets/base",
          "model_name": "LayoutModel",
          "model_module_version": "1.2.0",
          "state": {
            "_model_module": "@jupyter-widgets/base",
            "_model_module_version": "1.2.0",
            "_model_name": "LayoutModel",
            "_view_count": null,
            "_view_module": "@jupyter-widgets/base",
            "_view_module_version": "1.2.0",
            "_view_name": "LayoutView",
            "align_content": null,
            "align_items": null,
            "align_self": null,
            "border": null,
            "bottom": null,
            "display": null,
            "flex": null,
            "flex_flow": null,
            "grid_area": null,
            "grid_auto_columns": null,
            "grid_auto_flow": null,
            "grid_auto_rows": null,
            "grid_column": null,
            "grid_gap": null,
            "grid_row": null,
            "grid_template_areas": null,
            "grid_template_columns": null,
            "grid_template_rows": null,
            "height": null,
            "justify_content": null,
            "justify_items": null,
            "left": null,
            "margin": null,
            "max_height": null,
            "max_width": null,
            "min_height": null,
            "min_width": null,
            "object_fit": null,
            "object_position": null,
            "order": null,
            "overflow": null,
            "overflow_x": null,
            "overflow_y": null,
            "padding": null,
            "right": null,
            "top": null,
            "visibility": null,
            "width": null
          }
        },
        "eb3ba23ac57141a6a8d2e58febcba671": {
          "model_module": "@jupyter-widgets/base",
          "model_name": "LayoutModel",
          "model_module_version": "1.2.0",
          "state": {
            "_model_module": "@jupyter-widgets/base",
            "_model_module_version": "1.2.0",
            "_model_name": "LayoutModel",
            "_view_count": null,
            "_view_module": "@jupyter-widgets/base",
            "_view_module_version": "1.2.0",
            "_view_name": "LayoutView",
            "align_content": null,
            "align_items": null,
            "align_self": null,
            "border": null,
            "bottom": null,
            "display": null,
            "flex": null,
            "flex_flow": null,
            "grid_area": null,
            "grid_auto_columns": null,
            "grid_auto_flow": null,
            "grid_auto_rows": null,
            "grid_column": null,
            "grid_gap": null,
            "grid_row": null,
            "grid_template_areas": null,
            "grid_template_columns": null,
            "grid_template_rows": null,
            "height": null,
            "justify_content": null,
            "justify_items": null,
            "left": null,
            "margin": null,
            "max_height": null,
            "max_width": null,
            "min_height": null,
            "min_width": null,
            "object_fit": null,
            "object_position": null,
            "order": null,
            "overflow": null,
            "overflow_x": null,
            "overflow_y": null,
            "padding": null,
            "right": null,
            "top": null,
            "visibility": null,
            "width": null
          }
        },
        "a42ed4a75947490f9e79f6d37fce7681": {
          "model_module": "@jupyter-widgets/controls",
          "model_name": "DescriptionStyleModel",
          "model_module_version": "1.5.0",
          "state": {
            "_model_module": "@jupyter-widgets/controls",
            "_model_module_version": "1.5.0",
            "_model_name": "DescriptionStyleModel",
            "_view_count": null,
            "_view_module": "@jupyter-widgets/base",
            "_view_module_version": "1.2.0",
            "_view_name": "StyleView",
            "description_width": ""
          }
        },
        "fe91bcfab0b642e2b5a32b69baeed8cf": {
          "model_module": "@jupyter-widgets/base",
          "model_name": "LayoutModel",
          "model_module_version": "1.2.0",
          "state": {
            "_model_module": "@jupyter-widgets/base",
            "_model_module_version": "1.2.0",
            "_model_name": "LayoutModel",
            "_view_count": null,
            "_view_module": "@jupyter-widgets/base",
            "_view_module_version": "1.2.0",
            "_view_name": "LayoutView",
            "align_content": null,
            "align_items": null,
            "align_self": null,
            "border": null,
            "bottom": null,
            "display": null,
            "flex": null,
            "flex_flow": null,
            "grid_area": null,
            "grid_auto_columns": null,
            "grid_auto_flow": null,
            "grid_auto_rows": null,
            "grid_column": null,
            "grid_gap": null,
            "grid_row": null,
            "grid_template_areas": null,
            "grid_template_columns": null,
            "grid_template_rows": null,
            "height": null,
            "justify_content": null,
            "justify_items": null,
            "left": null,
            "margin": null,
            "max_height": null,
            "max_width": null,
            "min_height": null,
            "min_width": null,
            "object_fit": null,
            "object_position": null,
            "order": null,
            "overflow": null,
            "overflow_x": null,
            "overflow_y": null,
            "padding": null,
            "right": null,
            "top": null,
            "visibility": null,
            "width": null
          }
        },
        "3aca7120c0e542eb99779b0fb81b40bf": {
          "model_module": "@jupyter-widgets/controls",
          "model_name": "ProgressStyleModel",
          "model_module_version": "1.5.0",
          "state": {
            "_model_module": "@jupyter-widgets/controls",
            "_model_module_version": "1.5.0",
            "_model_name": "ProgressStyleModel",
            "_view_count": null,
            "_view_module": "@jupyter-widgets/base",
            "_view_module_version": "1.2.0",
            "_view_name": "StyleView",
            "bar_color": null,
            "description_width": ""
          }
        },
        "a40f92dcaefa44e3af4da1f734b5a670": {
          "model_module": "@jupyter-widgets/base",
          "model_name": "LayoutModel",
          "model_module_version": "1.2.0",
          "state": {
            "_model_module": "@jupyter-widgets/base",
            "_model_module_version": "1.2.0",
            "_model_name": "LayoutModel",
            "_view_count": null,
            "_view_module": "@jupyter-widgets/base",
            "_view_module_version": "1.2.0",
            "_view_name": "LayoutView",
            "align_content": null,
            "align_items": null,
            "align_self": null,
            "border": null,
            "bottom": null,
            "display": null,
            "flex": null,
            "flex_flow": null,
            "grid_area": null,
            "grid_auto_columns": null,
            "grid_auto_flow": null,
            "grid_auto_rows": null,
            "grid_column": null,
            "grid_gap": null,
            "grid_row": null,
            "grid_template_areas": null,
            "grid_template_columns": null,
            "grid_template_rows": null,
            "height": null,
            "justify_content": null,
            "justify_items": null,
            "left": null,
            "margin": null,
            "max_height": null,
            "max_width": null,
            "min_height": null,
            "min_width": null,
            "object_fit": null,
            "object_position": null,
            "order": null,
            "overflow": null,
            "overflow_x": null,
            "overflow_y": null,
            "padding": null,
            "right": null,
            "top": null,
            "visibility": null,
            "width": null
          }
        },
        "3e29405c4f634367bbb2983afcdb7dcd": {
          "model_module": "@jupyter-widgets/controls",
          "model_name": "DescriptionStyleModel",
          "model_module_version": "1.5.0",
          "state": {
            "_model_module": "@jupyter-widgets/controls",
            "_model_module_version": "1.5.0",
            "_model_name": "DescriptionStyleModel",
            "_view_count": null,
            "_view_module": "@jupyter-widgets/base",
            "_view_module_version": "1.2.0",
            "_view_name": "StyleView",
            "description_width": ""
          }
        }
      }
    }
  },
  "nbformat": 4,
  "nbformat_minor": 5
}