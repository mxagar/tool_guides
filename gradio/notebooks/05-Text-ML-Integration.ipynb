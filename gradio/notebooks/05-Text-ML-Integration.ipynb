{
 "cells": [
  {
   "cell_type": "markdown",
   "id": "cc49fd83-5f25-4446-be82-876a4fa6cc75",
   "metadata": {},
   "source": [
    "# Using Hugging Face Models with Gradio\n",
    "\n",
    "In this example, we'll demonstrate how to use a Hugging Face model for sentiment analysis. We will use the `distilbert-base-uncased-finetuned-sst-2-english` model, which is a DistilBERT model fine-tuned for sentiment analysis on a dataset of movie reviews.\n",
    "\n",
    "There are two possibilities to achieve this goal:\n",
    "1) Run the model locally\n",
    "2) Use gradio.load(\"modelname\") to use the hugging face ecosystem to perform the inference and send the result back to us\n",
    "\n",
    "Let's look at both methods."
   ]
  },
  {
   "cell_type": "code",
   "execution_count": 5,
   "id": "48b0d74c-d3b9-4228-9aca-da27a26284c2",
   "metadata": {},
   "outputs": [],
   "source": [
    "import gradio as gr"
   ]
  },
  {
   "cell_type": "code",
   "execution_count": 6,
   "id": "4f8807ad-4fa8-4aef-b599-9ccef3964156",
   "metadata": {},
   "outputs": [],
   "source": [
    "# Run the model locally\n",
    "from transformers import pipeline\n",
    "\n",
    "# Load the sentiment analysis pipeline\n",
    "sentiment_analysis = pipeline(\"sentiment-analysis\", model=\"distilbert-base-uncased-finetuned-sst-2-english\")\n"
   ]
  },
  {
   "cell_type": "code",
   "execution_count": 7,
   "id": "174c2a38-50cd-4fa6-b263-2bb0fb8455d7",
   "metadata": {},
   "outputs": [
    {
     "data": {
      "text/plain": [
       "[{'label': 'NEGATIVE', 'score': 0.9991856217384338}]"
      ]
     },
     "execution_count": 7,
     "metadata": {},
     "output_type": "execute_result"
    }
   ],
   "source": [
    "sentiment_analysis(\"I am sad\")"
   ]
  },
  {
   "cell_type": "code",
   "execution_count": 8,
   "id": "44c39dfb-9610-4ad0-a13c-a2fccd81d018",
   "metadata": {},
   "outputs": [],
   "source": [
    "def predict_sentiment(text):\n",
    "    result = sentiment_analysis(text)\n",
    "    return result[0][\"label\"], result[0][\"score\"]\n"
   ]
  },
  {
   "cell_type": "code",
   "execution_count": 9,
   "id": "bf656067-76b9-41b1-8dc5-58acb41a079f",
   "metadata": {},
   "outputs": [
    {
     "name": "stdout",
     "output_type": "stream",
     "text": [
      "Running on local URL:  http://127.0.0.1:7913\n",
      "\n",
      "To create a public link, set `share=True` in `launch()`.\n"
     ]
    },
    {
     "data": {
      "text/html": [
       "<div><iframe src=\"http://127.0.0.1:7913/\" width=\"100%\" height=\"500\" allow=\"autoplay; camera; microphone; clipboard-read; clipboard-write;\" frameborder=\"0\" allowfullscreen></iframe></div>"
      ],
      "text/plain": [
       "<IPython.core.display.HTML object>"
      ]
     },
     "metadata": {},
     "output_type": "display_data"
    },
    {
     "data": {
      "text/plain": []
     },
     "execution_count": 9,
     "metadata": {},
     "output_type": "execute_result"
    }
   ],
   "source": [
    "iface = gr.Interface(\n",
    "    fn=predict_sentiment,\n",
    "    inputs=gr.Textbox(lines=2, placeholder=\"Type a sentence here...\"),\n",
    "    outputs=[gr.Label(label=\"Sentiment\"), gr.Text(label=\"Score\")],\n",
    "    title=\"Sentiment Analysis\",\n",
    "    description=\"Enter a sentence to analyze its sentiment. The model can predict positive or negative sentiments.\"\n",
    ")\n",
    "iface.launch()\n"
   ]
  },
  {
   "cell_type": "markdown",
   "id": "f8b23337-b985-4397-b795-677a4dcf6e0f",
   "metadata": {},
   "source": [
    "### Inference on hugging face"
   ]
  },
  {
   "cell_type": "code",
   "execution_count": 10,
   "id": "ff8723cf-34b8-4f61-ad4e-0f7319811b1e",
   "metadata": {},
   "outputs": [
    {
     "name": "stdout",
     "output_type": "stream",
     "text": [
      "Fetching model from: https://huggingface.co/distilbert-base-uncased-finetuned-sst-2-english\n",
      "Running on local URL:  http://127.0.0.1:7914\n",
      "\n",
      "To create a public link, set `share=True` in `launch()`.\n"
     ]
    },
    {
     "data": {
      "text/html": [
       "<div><iframe src=\"http://127.0.0.1:7914/\" width=\"100%\" height=\"500\" allow=\"autoplay; camera; microphone; clipboard-read; clipboard-write;\" frameborder=\"0\" allowfullscreen></iframe></div>"
      ],
      "text/plain": [
       "<IPython.core.display.HTML object>"
      ]
     },
     "metadata": {},
     "output_type": "display_data"
    },
    {
     "data": {
      "text/plain": []
     },
     "execution_count": 10,
     "metadata": {},
     "output_type": "execute_result"
    },
    {
     "name": "stderr",
     "output_type": "stream",
     "text": [
      "/Users/marci/opt/miniconda3/envs/gradio/lib/python3.11/site-packages/huggingface_hub/inference/_generated/types/base.py:139: FutureWarning: Accessing 'TextClassificationOutputElement' values through dict is deprecated and will be removed from version '0.25'. Use dataclass attributes instead.\n",
      "  warnings.warn(\n"
     ]
    }
   ],
   "source": [
    "# Access the model within the hugging face ecosystem\n",
    "demo = gr.load(\"distilbert-base-uncased-finetuned-sst-2-english\", src=\"models\")\n",
    "demo.launch()\n"
   ]
  }
 ],
 "metadata": {
  "kernelspec": {
   "display_name": "Python 3 (ipykernel)",
   "language": "python",
   "name": "python3"
  },
  "language_info": {
   "codemirror_mode": {
    "name": "ipython",
    "version": 3
   },
   "file_extension": ".py",
   "mimetype": "text/x-python",
   "name": "python",
   "nbconvert_exporter": "python",
   "pygments_lexer": "ipython3",
   "version": "3.11.0"
  }
 },
 "nbformat": 4,
 "nbformat_minor": 5
}
