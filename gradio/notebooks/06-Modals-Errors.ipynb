{
 "cells": [
  {
   "cell_type": "markdown",
   "id": "b9ba06bc-6e25-45e5-be9c-f496058b5ccb",
   "metadata": {},
   "source": [
    "## Errors\n",
    "In some occasions you might want to raise an error (**gr.Error()**). Examples include\n",
    "- division by zero\n",
    "- images that are too large for the model\n",
    "- format errors\n",
    "- custom functions\n",
    "\n",
    "When you raise an error the execution will be terminated!\n",
    "\n",
    "Let's look at an example:"
   ]
  },
  {
   "cell_type": "code",
   "execution_count": 1,
   "id": "80c9bf38-3c56-4ccd-9904-e5273a00e94f",
   "metadata": {},
   "outputs": [
    {
     "name": "stderr",
     "output_type": "stream",
     "text": [
      "c:\\Users\\A200239740\\AppData\\Local\\anaconda3\\envs\\hf\\lib\\site-packages\\tqdm\\auto.py:21: TqdmWarning: IProgress not found. Please update jupyter and ipywidgets. See https://ipywidgets.readthedocs.io/en/stable/user_install.html\n",
      "  from .autonotebook import tqdm as notebook_tqdm\n"
     ]
    }
   ],
   "source": [
    "import gradio as gr"
   ]
  },
  {
   "cell_type": "code",
   "execution_count": 3,
   "id": "233be617-af60-4e6e-ac5c-de0776bea6d1",
   "metadata": {},
   "outputs": [
    {
     "name": "stdout",
     "output_type": "stream",
     "text": [
      "Running on local URL:  http://127.0.0.1:7877\n",
      "\n",
      "To create a public link, set `share=True` in `launch()`.\n"
     ]
    },
    {
     "data": {
      "text/html": [
       "<div><iframe src=\"http://127.0.0.1:7877/\" width=\"100%\" height=\"500\" allow=\"autoplay; camera; microphone; clipboard-read; clipboard-write;\" frameborder=\"0\" allowfullscreen></iframe></div>"
      ],
      "text/plain": [
       "<IPython.core.display.HTML object>"
      ]
     },
     "metadata": {},
     "output_type": "display_data"
    },
    {
     "data": {
      "text/plain": []
     },
     "execution_count": 3,
     "metadata": {},
     "output_type": "execute_result"
    },
    {
     "name": "stderr",
     "output_type": "stream",
     "text": [
      "Traceback (most recent call last):\n",
      "  File \"c:\\Users\\A200239740\\AppData\\Local\\anaconda3\\envs\\hf\\lib\\site-packages\\gradio\\queueing.py\", line 536, in process_events\n",
      "    response = await route_utils.call_process_api(\n",
      "  File \"c:\\Users\\A200239740\\AppData\\Local\\anaconda3\\envs\\hf\\lib\\site-packages\\gradio\\route_utils.py\", line 276, in call_process_api\n",
      "    output = await app.get_blocks().process_api(\n",
      "  File \"c:\\Users\\A200239740\\AppData\\Local\\anaconda3\\envs\\hf\\lib\\site-packages\\gradio\\blocks.py\", line 1897, in process_api\n",
      "    result = await self.call_function(\n",
      "  File \"c:\\Users\\A200239740\\AppData\\Local\\anaconda3\\envs\\hf\\lib\\site-packages\\gradio\\blocks.py\", line 1483, in call_function\n",
      "    prediction = await anyio.to_thread.run_sync(\n",
      "  File \"c:\\Users\\A200239740\\AppData\\Local\\anaconda3\\envs\\hf\\lib\\site-packages\\anyio\\to_thread.py\", line 56, in run_sync\n",
      "    return await get_async_backend().run_sync_in_worker_thread(\n",
      "  File \"c:\\Users\\A200239740\\AppData\\Local\\anaconda3\\envs\\hf\\lib\\site-packages\\anyio\\_backends\\_asyncio.py\", line 2177, in run_sync_in_worker_thread\n",
      "    return await future\n",
      "  File \"c:\\Users\\A200239740\\AppData\\Local\\anaconda3\\envs\\hf\\lib\\site-packages\\anyio\\_backends\\_asyncio.py\", line 859, in run\n",
      "    result = context.run(func, *args)\n",
      "  File \"c:\\Users\\A200239740\\AppData\\Local\\anaconda3\\envs\\hf\\lib\\site-packages\\gradio\\utils.py\", line 816, in wrapper\n",
      "    response = f(*args, **kwargs)\n",
      "  File \"C:\\Users\\A200239740\\AppData\\Local\\Temp\\ipykernel_13152\\2405308546.py\", line 12, in add\n",
      "    raise gr.Error(\"Number 1 is not even!\")\n",
      "gradio.exceptions.Error: 'Number 1 is not even!'\n",
      "Traceback (most recent call last):\n",
      "  File \"c:\\Users\\A200239740\\AppData\\Local\\anaconda3\\envs\\hf\\lib\\site-packages\\gradio\\queueing.py\", line 536, in process_events\n",
      "    response = await route_utils.call_process_api(\n",
      "  File \"c:\\Users\\A200239740\\AppData\\Local\\anaconda3\\envs\\hf\\lib\\site-packages\\gradio\\route_utils.py\", line 276, in call_process_api\n",
      "    output = await app.get_blocks().process_api(\n",
      "  File \"c:\\Users\\A200239740\\AppData\\Local\\anaconda3\\envs\\hf\\lib\\site-packages\\gradio\\blocks.py\", line 1897, in process_api\n",
      "    result = await self.call_function(\n",
      "  File \"c:\\Users\\A200239740\\AppData\\Local\\anaconda3\\envs\\hf\\lib\\site-packages\\gradio\\blocks.py\", line 1483, in call_function\n",
      "    prediction = await anyio.to_thread.run_sync(\n",
      "  File \"c:\\Users\\A200239740\\AppData\\Local\\anaconda3\\envs\\hf\\lib\\site-packages\\anyio\\to_thread.py\", line 56, in run_sync\n",
      "    return await get_async_backend().run_sync_in_worker_thread(\n",
      "  File \"c:\\Users\\A200239740\\AppData\\Local\\anaconda3\\envs\\hf\\lib\\site-packages\\anyio\\_backends\\_asyncio.py\", line 2177, in run_sync_in_worker_thread\n",
      "    return await future\n",
      "  File \"c:\\Users\\A200239740\\AppData\\Local\\anaconda3\\envs\\hf\\lib\\site-packages\\anyio\\_backends\\_asyncio.py\", line 859, in run\n",
      "    result = context.run(func, *args)\n",
      "  File \"c:\\Users\\A200239740\\AppData\\Local\\anaconda3\\envs\\hf\\lib\\site-packages\\gradio\\utils.py\", line 816, in wrapper\n",
      "    response = f(*args, **kwargs)\n",
      "  File \"C:\\Users\\A200239740\\AppData\\Local\\Temp\\ipykernel_13152\\2405308546.py\", line 12, in add\n",
      "    raise gr.Error(\"Number 1 is not even!\")\n",
      "gradio.exceptions.Error: 'Number 1 is not even!'\n"
     ]
    }
   ],
   "source": [
    "def number_validation(number):\n",
    "    return number % 2 == 0\n",
    "\n",
    "def add(number1, number2):\n",
    "    # IMPORTANT: We run gr.Warning() without raising any error!\n",
    "    # That way, the execution is not stopped\n",
    "    if not number_validation(number1):\n",
    "        gr.Warning(\"Number 1 is not even!\")\n",
    "        # gr.Info(\"Number 1 is not even!\") # Another option/alternative to Warning\n",
    "    # Here we raise an error, so the execution is stopped\n",
    "    if not number_validation(number2):\n",
    "        raise gr.Error(\"Number 2 is not even!\")\n",
    "\n",
    "    return number1 + number2\n",
    "\n",
    "\n",
    "iface = gr.Interface(fn=add, inputs=[gr.Number(), gr.Number()], outputs=gr.Number())    \n",
    "iface.launch()"
   ]
  },
  {
   "cell_type": "markdown",
   "id": "58070c5e-0270-4245-a63c-6eaad6aef044",
   "metadata": {},
   "source": [
    "### Warnings\n",
    "Instead of raising an error, you can also warn the user using **gr.Warning()**.\n",
    "\n",
    "The difference to the above shown error is that program execution is not interrupted."
   ]
  },
  {
   "cell_type": "code",
   "execution_count": 10,
   "id": "18b22a07-b4d8-46e4-900c-1f0c85da7f94",
   "metadata": {},
   "outputs": [
    {
     "name": "stdout",
     "output_type": "stream",
     "text": [
      "Running on local URL:  http://127.0.0.1:7918\n",
      "\n",
      "To create a public link, set `share=True` in `launch()`.\n"
     ]
    },
    {
     "data": {
      "text/html": [
       "<div><iframe src=\"http://127.0.0.1:7918/\" width=\"100%\" height=\"500\" allow=\"autoplay; camera; microphone; clipboard-read; clipboard-write;\" frameborder=\"0\" allowfullscreen></iframe></div>"
      ],
      "text/plain": [
       "<IPython.core.display.HTML object>"
      ]
     },
     "metadata": {},
     "output_type": "display_data"
    },
    {
     "data": {
      "text/plain": []
     },
     "execution_count": 10,
     "metadata": {},
     "output_type": "execute_result"
    }
   ],
   "source": [
    "def number_validation(number):\n",
    "    \"\"\"\n",
    "    This function checks whether the provided number is even\n",
    "    \"\"\"\n",
    "\n",
    "    return number % 2 == 0\n",
    "\n",
    "def add(number1, number2):\n",
    "    \"\"\"\n",
    "    Add two numbers but only if number1 is even\n",
    "    \"\"\"\n",
    "    if not number_validation(number1):\n",
    "        gr.Warning(\"Number 1 is not even!\")\n",
    "    return number1 + number2\n",
    "\n",
    "\n",
    "iface = gr.Interface(fn=add, inputs=[gr.Number(), gr.Number()], outputs=gr.Number())    \n",
    "iface.launch()"
   ]
  },
  {
   "cell_type": "markdown",
   "id": "50e7cee0-0fb5-4615-b3d9-0c9219eb46c6",
   "metadata": {},
   "source": [
    "### Information\n",
    "To pass information to the user you can use **gr.Info()**"
   ]
  },
  {
   "cell_type": "code",
   "execution_count": 11,
   "id": "13236b9c-f05b-49dd-9e57-cc271da8920b",
   "metadata": {},
   "outputs": [
    {
     "name": "stdout",
     "output_type": "stream",
     "text": [
      "Running on local URL:  http://127.0.0.1:7919\n",
      "\n",
      "To create a public link, set `share=True` in `launch()`.\n"
     ]
    },
    {
     "data": {
      "text/html": [
       "<div><iframe src=\"http://127.0.0.1:7919/\" width=\"100%\" height=\"500\" allow=\"autoplay; camera; microphone; clipboard-read; clipboard-write;\" frameborder=\"0\" allowfullscreen></iframe></div>"
      ],
      "text/plain": [
       "<IPython.core.display.HTML object>"
      ]
     },
     "metadata": {},
     "output_type": "display_data"
    },
    {
     "data": {
      "text/plain": []
     },
     "execution_count": 11,
     "metadata": {},
     "output_type": "execute_result"
    }
   ],
   "source": [
    "def number_validation(number):\n",
    "    \"\"\"\n",
    "    This function checks whether the provided number is even\n",
    "    \"\"\"\n",
    "\n",
    "    return number % 2 == 0\n",
    "\n",
    "def add(number1, number2):\n",
    "    \"\"\"\n",
    "    Add two numbers but only if number1 is even\n",
    "    \"\"\"\n",
    "    if not number_validation(number1):\n",
    "        gr.Info(\"Number 1 is not even!\")\n",
    "    return number1 + number2\n",
    "\n",
    "\n",
    "iface = gr.Interface(fn=add, inputs=[gr.Number(), gr.Number()], outputs=gr.Number())    \n",
    "iface.launch()"
   ]
  },
  {
   "cell_type": "code",
   "execution_count": null,
   "id": "a0ff70ea-fb1d-4941-8847-bcf8aba75028",
   "metadata": {},
   "outputs": [],
   "source": []
  }
 ],
 "metadata": {
  "kernelspec": {
   "display_name": "Python 3 (ipykernel)",
   "language": "python",
   "name": "python3"
  },
  "language_info": {
   "codemirror_mode": {
    "name": "ipython",
    "version": 3
   },
   "file_extension": ".py",
   "mimetype": "text/x-python",
   "name": "python",
   "nbconvert_exporter": "python",
   "pygments_lexer": "ipython3",
   "version": "3.10.14"
  }
 },
 "nbformat": 4,
 "nbformat_minor": 5
}
