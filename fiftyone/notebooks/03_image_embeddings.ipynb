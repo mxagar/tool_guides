{
 "cells": [
  {
   "cell_type": "markdown",
   "metadata": {},
   "source": [
    "# FiftyOne: Using Image Embeddings"
   ]
  },
  {
   "cell_type": "markdown",
   "metadata": {},
   "source": [
    "Original tutorial: [FiftyOne Embeddings Visualization](https://docs.voxel51.com/user_guide/brain.html#visualizing-embeddings).\n",
    "\n",
    "Table of contents:\n",
    "\n",
    "1. A"
   ]
  },
  {
   "cell_type": "markdown",
   "metadata": {},
   "source": [
    "## 1. Setup"
   ]
  },
  {
   "cell_type": "code",
   "execution_count": null,
   "metadata": {},
   "outputs": [],
   "source": [
    "!pip install fiftyone"
   ]
  },
  {
   "cell_type": "code",
   "execution_count": 1,
   "metadata": {},
   "outputs": [
    {
     "name": "stdout",
     "output_type": "stream",
     "text": [
      "Requirement already satisfied: torch in c:\\users\\msagardi\\appdata\\local\\anaconda3\\envs\\label\\lib\\site-packages (1.13.0+cu117)\n",
      "Requirement already satisfied: torchvision in c:\\users\\msagardi\\appdata\\local\\anaconda3\\envs\\label\\lib\\site-packages (0.14.0+cu117)\n",
      "Collecting umap-learn\n",
      "  Downloading umap-learn-0.5.4.tar.gz (90 kB)\n",
      "     ---------------------------------------- 0.0/90.8 kB ? eta -:--:--\n",
      "     ---------------------------------------- 90.8/90.8 kB 5.0 MB/s eta 0:00:00\n",
      "  Preparing metadata (setup.py): started\n",
      "  Preparing metadata (setup.py): finished with status 'done'\n",
      "Requirement already satisfied: typing-extensions in c:\\users\\msagardi\\appdata\\local\\anaconda3\\envs\\label\\lib\\site-packages (from torch) (4.8.0)\n",
      "Requirement already satisfied: numpy in c:\\users\\msagardi\\appdata\\local\\anaconda3\\envs\\label\\lib\\site-packages (from torchvision) (1.24.3)\n",
      "Requirement already satisfied: requests in c:\\users\\msagardi\\appdata\\local\\anaconda3\\envs\\label\\lib\\site-packages (from torchvision) (2.31.0)\n",
      "Requirement already satisfied: pillow!=8.3.*,>=5.3.0 in c:\\users\\msagardi\\appdata\\local\\anaconda3\\envs\\label\\lib\\site-packages (from torchvision) (9.3.0)\n",
      "Requirement already satisfied: scipy>=1.3.1 in c:\\users\\msagardi\\appdata\\local\\anaconda3\\envs\\label\\lib\\site-packages (from umap-learn) (1.11.3)\n",
      "Requirement already satisfied: scikit-learn>=0.22 in c:\\users\\msagardi\\appdata\\local\\anaconda3\\envs\\label\\lib\\site-packages (from umap-learn) (1.3.1)\n",
      "Requirement already satisfied: numba>=0.51.2 in c:\\users\\msagardi\\appdata\\local\\anaconda3\\envs\\label\\lib\\site-packages (from umap-learn) (0.57.1)\n",
      "Collecting pynndescent>=0.5 (from umap-learn)\n",
      "  Using cached pynndescent-0.5.10-py3-none-any.whl\n",
      "Requirement already satisfied: tqdm in c:\\users\\msagardi\\appdata\\local\\anaconda3\\envs\\label\\lib\\site-packages (from umap-learn) (4.66.1)\n",
      "Requirement already satisfied: llvmlite<0.41,>=0.40.0dev0 in c:\\users\\msagardi\\appdata\\local\\anaconda3\\envs\\label\\lib\\site-packages (from numba>=0.51.2->umap-learn) (0.40.1)\n",
      "Requirement already satisfied: joblib>=0.11 in c:\\users\\msagardi\\appdata\\local\\anaconda3\\envs\\label\\lib\\site-packages (from pynndescent>=0.5->umap-learn) (1.3.2)\n",
      "Requirement already satisfied: threadpoolctl>=2.0.0 in c:\\users\\msagardi\\appdata\\local\\anaconda3\\envs\\label\\lib\\site-packages (from scikit-learn>=0.22->umap-learn) (3.2.0)\n",
      "Requirement already satisfied: charset-normalizer<4,>=2 in c:\\users\\msagardi\\appdata\\local\\anaconda3\\envs\\label\\lib\\site-packages (from requests->torchvision) (3.2.0)\n",
      "Requirement already satisfied: idna<4,>=2.5 in c:\\users\\msagardi\\appdata\\local\\anaconda3\\envs\\label\\lib\\site-packages (from requests->torchvision) (3.4)\n",
      "Requirement already satisfied: urllib3<3,>=1.21.1 in c:\\users\\msagardi\\appdata\\local\\anaconda3\\envs\\label\\lib\\site-packages (from requests->torchvision) (1.26.16)\n",
      "Requirement already satisfied: certifi>=2017.4.17 in c:\\users\\msagardi\\appdata\\local\\anaconda3\\envs\\label\\lib\\site-packages (from requests->torchvision) (2023.7.22)\n",
      "Requirement already satisfied: colorama in c:\\users\\msagardi\\appdata\\local\\anaconda3\\envs\\label\\lib\\site-packages (from tqdm->umap-learn) (0.4.6)\n",
      "Building wheels for collected packages: umap-learn\n",
      "  Building wheel for umap-learn (setup.py): started\n",
      "  Building wheel for umap-learn (setup.py): finished with status 'done'\n",
      "  Created wheel for umap-learn: filename=umap_learn-0.5.4-py3-none-any.whl size=86863 sha256=6c0bb9c0879e573af655e690a1f8681f7b32025033bc37e35e40e0737f7745e9\n",
      "  Stored in directory: c:\\users\\msagardi\\appdata\\local\\pip\\cache\\wheels\\e1\\8b\\ec\\51afd5b0c041b6a7dd5777ceb58cc0d645ba9454cc5a923e96\n",
      "Successfully built umap-learn\n",
      "Installing collected packages: pynndescent, umap-learn\n",
      "Successfully installed pynndescent-0.5.10 umap-learn-0.5.4\n"
     ]
    }
   ],
   "source": [
    "!pip install torch torchvision umap-learn"
   ]
  },
  {
   "cell_type": "code",
   "execution_count": 3,
   "metadata": {},
   "outputs": [
    {
     "name": "stderr",
     "output_type": "stream",
     "text": [
      "The system cannot find the file specified.\n"
     ]
    }
   ],
   "source": [
    "!pip install 'ipywidgets>=8,<9'"
   ]
  },
  {
   "cell_type": "markdown",
   "metadata": {},
   "source": [
    "## 2. Upload Dataset: MNIST"
   ]
  },
  {
   "cell_type": "code",
   "execution_count": 4,
   "metadata": {},
   "outputs": [
    {
     "name": "stdout",
     "output_type": "stream",
     "text": [
      "Downloading split 'train' to 'C:\\Users\\Msagardi\\fiftyone\\mnist\\train'\n",
      "Downloading http://yann.lecun.com/exdb/mnist/train-images-idx3-ubyte.gz\n",
      "Downloading http://yann.lecun.com/exdb/mnist/train-images-idx3-ubyte.gz to C:\\Users\\Msagardi\\fiftyone\\mnist\\tmp-download\\MNIST\\raw\\train-images-idx3-ubyte.gz\n"
     ]
    },
    {
     "data": {
      "application/vnd.jupyter.widget-view+json": {
       "model_id": "6eb7af5830c8409b87f25407c62d711c",
       "version_major": 2,
       "version_minor": 0
      },
      "text/plain": [
       "  0%|          | 0/9912422 [00:00<?, ?it/s]"
      ]
     },
     "metadata": {},
     "output_type": "display_data"
    },
    {
     "name": "stdout",
     "output_type": "stream",
     "text": [
      "Extracting C:\\Users\\Msagardi\\fiftyone\\mnist\\tmp-download\\MNIST\\raw\\train-images-idx3-ubyte.gz to C:\\Users\\Msagardi\\fiftyone\\mnist\\tmp-download\\MNIST\\raw\n",
      "\n",
      "Downloading http://yann.lecun.com/exdb/mnist/train-labels-idx1-ubyte.gz\n",
      "Downloading http://yann.lecun.com/exdb/mnist/train-labels-idx1-ubyte.gz to C:\\Users\\Msagardi\\fiftyone\\mnist\\tmp-download\\MNIST\\raw\\train-labels-idx1-ubyte.gz\n"
     ]
    },
    {
     "data": {
      "application/vnd.jupyter.widget-view+json": {
       "model_id": "a1c54febf1c74ac2b52792ec25e5140f",
       "version_major": 2,
       "version_minor": 0
      },
      "text/plain": [
       "  0%|          | 0/28881 [00:00<?, ?it/s]"
      ]
     },
     "metadata": {},
     "output_type": "display_data"
    },
    {
     "name": "stdout",
     "output_type": "stream",
     "text": [
      "Extracting C:\\Users\\Msagardi\\fiftyone\\mnist\\tmp-download\\MNIST\\raw\\train-labels-idx1-ubyte.gz to C:\\Users\\Msagardi\\fiftyone\\mnist\\tmp-download\\MNIST\\raw\n",
      "\n",
      "Downloading http://yann.lecun.com/exdb/mnist/t10k-images-idx3-ubyte.gz\n",
      "Downloading http://yann.lecun.com/exdb/mnist/t10k-images-idx3-ubyte.gz to C:\\Users\\Msagardi\\fiftyone\\mnist\\tmp-download\\MNIST\\raw\\t10k-images-idx3-ubyte.gz\n"
     ]
    },
    {
     "data": {
      "application/vnd.jupyter.widget-view+json": {
       "model_id": "55bdcb5d40be4da9ba258f1855c7e29b",
       "version_major": 2,
       "version_minor": 0
      },
      "text/plain": [
       "  0%|          | 0/1648877 [00:00<?, ?it/s]"
      ]
     },
     "metadata": {},
     "output_type": "display_data"
    },
    {
     "name": "stdout",
     "output_type": "stream",
     "text": [
      "Extracting C:\\Users\\Msagardi\\fiftyone\\mnist\\tmp-download\\MNIST\\raw\\t10k-images-idx3-ubyte.gz to C:\\Users\\Msagardi\\fiftyone\\mnist\\tmp-download\\MNIST\\raw\n",
      "\n",
      "Downloading http://yann.lecun.com/exdb/mnist/t10k-labels-idx1-ubyte.gz\n",
      "Downloading http://yann.lecun.com/exdb/mnist/t10k-labels-idx1-ubyte.gz to C:\\Users\\Msagardi\\fiftyone\\mnist\\tmp-download\\MNIST\\raw\\t10k-labels-idx1-ubyte.gz\n"
     ]
    },
    {
     "data": {
      "application/vnd.jupyter.widget-view+json": {
       "model_id": "e66cc6cdb9724b46a0f8241e7dc8ddbc",
       "version_major": 2,
       "version_minor": 0
      },
      "text/plain": [
       "  0%|          | 0/4542 [00:00<?, ?it/s]"
      ]
     },
     "metadata": {},
     "output_type": "display_data"
    },
    {
     "name": "stdout",
     "output_type": "stream",
     "text": [
      "Extracting C:\\Users\\Msagardi\\fiftyone\\mnist\\tmp-download\\MNIST\\raw\\t10k-labels-idx1-ubyte.gz to C:\\Users\\Msagardi\\fiftyone\\mnist\\tmp-download\\MNIST\\raw\n",
      "\n",
      " 100% |█████████████| 60000/60000 [4.7m elapsed, 0s remaining, 391.7 samples/s]      \n",
      "Downloading split 'test' to 'C:\\Users\\Msagardi\\fiftyone\\mnist\\test'\n",
      " 100% |█████████████| 10000/10000 [39.6s elapsed, 0s remaining, 294.5 samples/s]      \n",
      "Dataset info written to 'C:\\Users\\Msagardi\\fiftyone\\mnist\\info.json'\n",
      "Loading 'mnist' split 'train'\n",
      " 100% |█████████████| 60000/60000 [53.9s elapsed, 0s remaining, 1.2K samples/s]      \n",
      "Loading 'mnist' split 'test'\n",
      " 100% |█████████████| 10000/10000 [9.1s elapsed, 0s remaining, 1.1K samples/s]      \n",
      "Dataset 'mnist' created\n"
     ]
    }
   ],
   "source": [
    "import fiftyone as fo\n",
    "import fiftyone.zoo as foz\n",
    "\n",
    "# Datasets downloaded to: C:\\Users\\Msagardi\\fiftyone\\mnist\\\n",
    "dataset = foz.load_zoo_dataset(\"mnist\")"
   ]
  },
  {
   "cell_type": "code",
   "execution_count": 5,
   "metadata": {},
   "outputs": [],
   "source": [
    "# We start working with the test split, which contais 10k images\n",
    "test_split = dataset.match_tags(\"test\")"
   ]
  },
  {
   "cell_type": "code",
   "execution_count": 6,
   "metadata": {},
   "outputs": [
    {
     "name": "stdout",
     "output_type": "stream",
     "text": [
      "Dataset:     mnist\n",
      "Media type:  image\n",
      "Num samples: 10000\n",
      "Sample fields:\n",
      "    id:           fiftyone.core.fields.ObjectIdField\n",
      "    filepath:     fiftyone.core.fields.StringField\n",
      "    tags:         fiftyone.core.fields.ListField(fiftyone.core.fields.StringField)\n",
      "    metadata:     fiftyone.core.fields.EmbeddedDocumentField(fiftyone.core.metadata.ImageMetadata)\n",
      "    ground_truth: fiftyone.core.fields.EmbeddedDocumentField(fiftyone.core.labels.Classification)\n",
      "View stages:\n",
      "    1. MatchTags(tags=['test'], bool=True, all=False)\n"
     ]
    }
   ],
   "source": [
    "print(test_split)"
   ]
  },
  {
   "cell_type": "code",
   "execution_count": null,
   "metadata": {},
   "outputs": [],
   "source": [
    "import cv2\n",
    "import numpy as np\n",
    "\n",
    "import fiftyone.brain as fob\n",
    "\n",
    "# Construct a ``num_samples x num_pixels`` array of images\n",
    "embeddings = np.array([\n",
    "    cv2.imread(f, cv2.IMREAD_UNCHANGED).ravel()\n",
    "    for f in test_split.values(\"filepath\")\n",
    "])\n",
    "\n",
    "# Compute 2D representation\n",
    "results = fob.compute_visualization(\n",
    "    test_split,\n",
    "    embeddings=embeddings,\n",
    "    num_dims=2,\n",
    "    method=\"umap\",\n",
    "    brain_key=\"mnist_test\",\n",
    "    verbose=True,\n",
    "    seed=51,\n",
    ")"
   ]
  }
 ],
 "metadata": {
  "kernelspec": {
   "display_name": "label",
   "language": "python",
   "name": "python3"
  },
  "language_info": {
   "codemirror_mode": {
    "name": "ipython",
    "version": 3
   },
   "file_extension": ".py",
   "mimetype": "text/x-python",
   "name": "python",
   "nbconvert_exporter": "python",
   "pygments_lexer": "ipython3",
   "version": "3.9.18"
  }
 },
 "nbformat": 4,
 "nbformat_minor": 2
}
