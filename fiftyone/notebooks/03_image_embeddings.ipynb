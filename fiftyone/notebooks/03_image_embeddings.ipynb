{
 "cells": [
  {
   "cell_type": "markdown",
   "metadata": {},
   "source": [
    "# FiftyOne: Using Image Embeddings"
   ]
  },
  {
   "cell_type": "markdown",
   "metadata": {},
   "source": [
    "Original tutorial:\n",
    "\n",
    "- [Using Image Embeddings](https://docs.voxel51.com/tutorials/image_embeddings.html)\n",
    "- [FiftyOne Embeddings Visualization](https://docs.voxel51.com/user_guide/brain.html#visualizing-embeddings)\n",
    "\n",
    "> Covered concepts:\n",
    "> - Loading datasets from the FiftyOne Dataset Zoo\n",
    "> - Using compute_visualization() to generate 2D representations of images\n",
    "> - Providing custom embeddings to compute_visualization()\n",
    "> - Visualizing embeddings via interactive plots connected to the FiftyOne App\n",
    ">\n",
    "> And we’ll demonstrate how to use embeddings to:\n",
    "> - Identify anomolous/incorrect image labels\n",
    "> - Find examples of scenarios of interest\n",
    "> - Pre-annotate unlabeled data for training\n",
    "\n",
    "In summary, the following animation from [FiftyOne](https://docs.voxel51.com/tutorials/image_embeddings.html#Using-Image-Embeddings) shows the use-case in favor of embeddings: we can plot in 2D image vectors, color them with the predicted class labels and select interactively the ones which seem to be incorrect. Then, those selected samples are filtered in the web UI of FiftyOne.\n",
    "\n",
    "![MNIST embedding selection](../assets/mnist-interactive-fiftyone.gif)\n",
    "\n",
    "\n",
    "Table of contents:\n",
    "\n",
    "1. A"
   ]
  },
  {
   "cell_type": "markdown",
   "metadata": {},
   "source": [
    "## 1. Setup"
   ]
  },
  {
   "cell_type": "code",
   "execution_count": null,
   "metadata": {},
   "outputs": [],
   "source": [
    "!pip install fiftyone"
   ]
  },
  {
   "cell_type": "code",
   "execution_count": 1,
   "metadata": {},
   "outputs": [
    {
     "name": "stdout",
     "output_type": "stream",
     "text": [
      "Requirement already satisfied: torch in c:\\users\\msagardi\\appdata\\local\\anaconda3\\envs\\label\\lib\\site-packages (1.13.0+cu117)\n",
      "Requirement already satisfied: torchvision in c:\\users\\msagardi\\appdata\\local\\anaconda3\\envs\\label\\lib\\site-packages (0.14.0+cu117)\n",
      "Collecting umap-learn\n",
      "  Downloading umap-learn-0.5.4.tar.gz (90 kB)\n",
      "     ---------------------------------------- 0.0/90.8 kB ? eta -:--:--\n",
      "     ---------------------------------------- 90.8/90.8 kB 5.0 MB/s eta 0:00:00\n",
      "  Preparing metadata (setup.py): started\n",
      "  Preparing metadata (setup.py): finished with status 'done'\n",
      "Requirement already satisfied: typing-extensions in c:\\users\\msagardi\\appdata\\local\\anaconda3\\envs\\label\\lib\\site-packages (from torch) (4.8.0)\n",
      "Requirement already satisfied: numpy in c:\\users\\msagardi\\appdata\\local\\anaconda3\\envs\\label\\lib\\site-packages (from torchvision) (1.24.3)\n",
      "Requirement already satisfied: requests in c:\\users\\msagardi\\appdata\\local\\anaconda3\\envs\\label\\lib\\site-packages (from torchvision) (2.31.0)\n",
      "Requirement already satisfied: pillow!=8.3.*,>=5.3.0 in c:\\users\\msagardi\\appdata\\local\\anaconda3\\envs\\label\\lib\\site-packages (from torchvision) (9.3.0)\n",
      "Requirement already satisfied: scipy>=1.3.1 in c:\\users\\msagardi\\appdata\\local\\anaconda3\\envs\\label\\lib\\site-packages (from umap-learn) (1.11.3)\n",
      "Requirement already satisfied: scikit-learn>=0.22 in c:\\users\\msagardi\\appdata\\local\\anaconda3\\envs\\label\\lib\\site-packages (from umap-learn) (1.3.1)\n",
      "Requirement already satisfied: numba>=0.51.2 in c:\\users\\msagardi\\appdata\\local\\anaconda3\\envs\\label\\lib\\site-packages (from umap-learn) (0.57.1)\n",
      "Collecting pynndescent>=0.5 (from umap-learn)\n",
      "  Using cached pynndescent-0.5.10-py3-none-any.whl\n",
      "Requirement already satisfied: tqdm in c:\\users\\msagardi\\appdata\\local\\anaconda3\\envs\\label\\lib\\site-packages (from umap-learn) (4.66.1)\n",
      "Requirement already satisfied: llvmlite<0.41,>=0.40.0dev0 in c:\\users\\msagardi\\appdata\\local\\anaconda3\\envs\\label\\lib\\site-packages (from numba>=0.51.2->umap-learn) (0.40.1)\n",
      "Requirement already satisfied: joblib>=0.11 in c:\\users\\msagardi\\appdata\\local\\anaconda3\\envs\\label\\lib\\site-packages (from pynndescent>=0.5->umap-learn) (1.3.2)\n",
      "Requirement already satisfied: threadpoolctl>=2.0.0 in c:\\users\\msagardi\\appdata\\local\\anaconda3\\envs\\label\\lib\\site-packages (from scikit-learn>=0.22->umap-learn) (3.2.0)\n",
      "Requirement already satisfied: charset-normalizer<4,>=2 in c:\\users\\msagardi\\appdata\\local\\anaconda3\\envs\\label\\lib\\site-packages (from requests->torchvision) (3.2.0)\n",
      "Requirement already satisfied: idna<4,>=2.5 in c:\\users\\msagardi\\appdata\\local\\anaconda3\\envs\\label\\lib\\site-packages (from requests->torchvision) (3.4)\n",
      "Requirement already satisfied: urllib3<3,>=1.21.1 in c:\\users\\msagardi\\appdata\\local\\anaconda3\\envs\\label\\lib\\site-packages (from requests->torchvision) (1.26.16)\n",
      "Requirement already satisfied: certifi>=2017.4.17 in c:\\users\\msagardi\\appdata\\local\\anaconda3\\envs\\label\\lib\\site-packages (from requests->torchvision) (2023.7.22)\n",
      "Requirement already satisfied: colorama in c:\\users\\msagardi\\appdata\\local\\anaconda3\\envs\\label\\lib\\site-packages (from tqdm->umap-learn) (0.4.6)\n",
      "Building wheels for collected packages: umap-learn\n",
      "  Building wheel for umap-learn (setup.py): started\n",
      "  Building wheel for umap-learn (setup.py): finished with status 'done'\n",
      "  Created wheel for umap-learn: filename=umap_learn-0.5.4-py3-none-any.whl size=86863 sha256=6c0bb9c0879e573af655e690a1f8681f7b32025033bc37e35e40e0737f7745e9\n",
      "  Stored in directory: c:\\users\\msagardi\\appdata\\local\\pip\\cache\\wheels\\e1\\8b\\ec\\51afd5b0c041b6a7dd5777ceb58cc0d645ba9454cc5a923e96\n",
      "Successfully built umap-learn\n",
      "Installing collected packages: pynndescent, umap-learn\n",
      "Successfully installed pynndescent-0.5.10 umap-learn-0.5.4\n"
     ]
    }
   ],
   "source": [
    "!pip install torch torchvision umap-learn"
   ]
  },
  {
   "cell_type": "code",
   "execution_count": 3,
   "metadata": {},
   "outputs": [
    {
     "name": "stderr",
     "output_type": "stream",
     "text": [
      "The system cannot find the file specified.\n"
     ]
    }
   ],
   "source": [
    "!pip install 'ipywidgets>=8,<9'"
   ]
  },
  {
   "cell_type": "markdown",
   "metadata": {},
   "source": [
    "## 2. Upload Dataset: MNIST"
   ]
  },
  {
   "cell_type": "code",
   "execution_count": 4,
   "metadata": {},
   "outputs": [
    {
     "name": "stdout",
     "output_type": "stream",
     "text": [
      "Downloading split 'train' to 'C:\\Users\\Msagardi\\fiftyone\\mnist\\train'\n",
      "Downloading http://yann.lecun.com/exdb/mnist/train-images-idx3-ubyte.gz\n",
      "Downloading http://yann.lecun.com/exdb/mnist/train-images-idx3-ubyte.gz to C:\\Users\\Msagardi\\fiftyone\\mnist\\tmp-download\\MNIST\\raw\\train-images-idx3-ubyte.gz\n"
     ]
    },
    {
     "data": {
      "application/vnd.jupyter.widget-view+json": {
       "model_id": "6eb7af5830c8409b87f25407c62d711c",
       "version_major": 2,
       "version_minor": 0
      },
      "text/plain": [
       "  0%|          | 0/9912422 [00:00<?, ?it/s]"
      ]
     },
     "metadata": {},
     "output_type": "display_data"
    },
    {
     "name": "stdout",
     "output_type": "stream",
     "text": [
      "Extracting C:\\Users\\Msagardi\\fiftyone\\mnist\\tmp-download\\MNIST\\raw\\train-images-idx3-ubyte.gz to C:\\Users\\Msagardi\\fiftyone\\mnist\\tmp-download\\MNIST\\raw\n",
      "\n",
      "Downloading http://yann.lecun.com/exdb/mnist/train-labels-idx1-ubyte.gz\n",
      "Downloading http://yann.lecun.com/exdb/mnist/train-labels-idx1-ubyte.gz to C:\\Users\\Msagardi\\fiftyone\\mnist\\tmp-download\\MNIST\\raw\\train-labels-idx1-ubyte.gz\n"
     ]
    },
    {
     "data": {
      "application/vnd.jupyter.widget-view+json": {
       "model_id": "a1c54febf1c74ac2b52792ec25e5140f",
       "version_major": 2,
       "version_minor": 0
      },
      "text/plain": [
       "  0%|          | 0/28881 [00:00<?, ?it/s]"
      ]
     },
     "metadata": {},
     "output_type": "display_data"
    },
    {
     "name": "stdout",
     "output_type": "stream",
     "text": [
      "Extracting C:\\Users\\Msagardi\\fiftyone\\mnist\\tmp-download\\MNIST\\raw\\train-labels-idx1-ubyte.gz to C:\\Users\\Msagardi\\fiftyone\\mnist\\tmp-download\\MNIST\\raw\n",
      "\n",
      "Downloading http://yann.lecun.com/exdb/mnist/t10k-images-idx3-ubyte.gz\n",
      "Downloading http://yann.lecun.com/exdb/mnist/t10k-images-idx3-ubyte.gz to C:\\Users\\Msagardi\\fiftyone\\mnist\\tmp-download\\MNIST\\raw\\t10k-images-idx3-ubyte.gz\n"
     ]
    },
    {
     "data": {
      "application/vnd.jupyter.widget-view+json": {
       "model_id": "55bdcb5d40be4da9ba258f1855c7e29b",
       "version_major": 2,
       "version_minor": 0
      },
      "text/plain": [
       "  0%|          | 0/1648877 [00:00<?, ?it/s]"
      ]
     },
     "metadata": {},
     "output_type": "display_data"
    },
    {
     "name": "stdout",
     "output_type": "stream",
     "text": [
      "Extracting C:\\Users\\Msagardi\\fiftyone\\mnist\\tmp-download\\MNIST\\raw\\t10k-images-idx3-ubyte.gz to C:\\Users\\Msagardi\\fiftyone\\mnist\\tmp-download\\MNIST\\raw\n",
      "\n",
      "Downloading http://yann.lecun.com/exdb/mnist/t10k-labels-idx1-ubyte.gz\n",
      "Downloading http://yann.lecun.com/exdb/mnist/t10k-labels-idx1-ubyte.gz to C:\\Users\\Msagardi\\fiftyone\\mnist\\tmp-download\\MNIST\\raw\\t10k-labels-idx1-ubyte.gz\n"
     ]
    },
    {
     "data": {
      "application/vnd.jupyter.widget-view+json": {
       "model_id": "e66cc6cdb9724b46a0f8241e7dc8ddbc",
       "version_major": 2,
       "version_minor": 0
      },
      "text/plain": [
       "  0%|          | 0/4542 [00:00<?, ?it/s]"
      ]
     },
     "metadata": {},
     "output_type": "display_data"
    },
    {
     "name": "stdout",
     "output_type": "stream",
     "text": [
      "Extracting C:\\Users\\Msagardi\\fiftyone\\mnist\\tmp-download\\MNIST\\raw\\t10k-labels-idx1-ubyte.gz to C:\\Users\\Msagardi\\fiftyone\\mnist\\tmp-download\\MNIST\\raw\n",
      "\n",
      " 100% |█████████████| 60000/60000 [4.7m elapsed, 0s remaining, 391.7 samples/s]      \n",
      "Downloading split 'test' to 'C:\\Users\\Msagardi\\fiftyone\\mnist\\test'\n",
      " 100% |█████████████| 10000/10000 [39.6s elapsed, 0s remaining, 294.5 samples/s]      \n",
      "Dataset info written to 'C:\\Users\\Msagardi\\fiftyone\\mnist\\info.json'\n",
      "Loading 'mnist' split 'train'\n",
      " 100% |█████████████| 60000/60000 [53.9s elapsed, 0s remaining, 1.2K samples/s]      \n",
      "Loading 'mnist' split 'test'\n",
      " 100% |█████████████| 10000/10000 [9.1s elapsed, 0s remaining, 1.1K samples/s]      \n",
      "Dataset 'mnist' created\n"
     ]
    }
   ],
   "source": [
    "import fiftyone as fo\n",
    "import fiftyone.zoo as foz\n",
    "\n",
    "# Datasets downloaded to: C:\\Users\\Msagardi\\fiftyone\\mnist\\\n",
    "# Additionally, this command creates a dataset in the FiftyOne database\n",
    "dataset = foz.load_zoo_dataset(\"mnist\")"
   ]
  },
  {
   "cell_type": "code",
   "execution_count": 1,
   "metadata": {},
   "outputs": [
    {
     "name": "stdout",
     "output_type": "stream",
     "text": [
      "Name:        mnist\n",
      "Media type:  image\n",
      "Num samples: 70000\n",
      "Persistent:  False\n",
      "Tags:        []\n",
      "Sample fields:\n",
      "    id:           fiftyone.core.fields.ObjectIdField\n",
      "    filepath:     fiftyone.core.fields.StringField\n",
      "    tags:         fiftyone.core.fields.ListField(fiftyone.core.fields.StringField)\n",
      "    metadata:     fiftyone.core.fields.EmbeddedDocumentField(fiftyone.core.metadata.ImageMetadata)\n",
      "    ground_truth: fiftyone.core.fields.EmbeddedDocumentField(fiftyone.core.labels.Classification)\n"
     ]
    }
   ],
   "source": [
    "# Load existing dataset\n",
    "# If we restart the notebook/session, we can load the dataset as follows\n",
    "import fiftyone as fo\n",
    "\n",
    "dataset = fo.load_dataset(\"mnist\")\n",
    "print(dataset)"
   ]
  },
  {
   "cell_type": "code",
   "execution_count": 2,
   "metadata": {},
   "outputs": [],
   "source": [
    "# We start working with the test split, which contais 10k images\n",
    "test_split = dataset.match_tags(\"test\")"
   ]
  },
  {
   "cell_type": "code",
   "execution_count": 3,
   "metadata": {},
   "outputs": [
    {
     "name": "stdout",
     "output_type": "stream",
     "text": [
      "Dataset:     mnist\n",
      "Media type:  image\n",
      "Num samples: 10000\n",
      "Sample fields:\n",
      "    id:           fiftyone.core.fields.ObjectIdField\n",
      "    filepath:     fiftyone.core.fields.StringField\n",
      "    tags:         fiftyone.core.fields.ListField(fiftyone.core.fields.StringField)\n",
      "    metadata:     fiftyone.core.fields.EmbeddedDocumentField(fiftyone.core.metadata.ImageMetadata)\n",
      "    ground_truth: fiftyone.core.fields.EmbeddedDocumentField(fiftyone.core.labels.Classification)\n",
      "View stages:\n",
      "    1. MatchTags(tags=['test'], bool=True, all=False)\n"
     ]
    }
   ],
   "source": [
    "print(test_split)"
   ]
  },
  {
   "cell_type": "markdown",
   "metadata": {},
   "source": [
    "## 3. Compute Image Embeddings"
   ]
  },
  {
   "cell_type": "code",
   "execution_count": 4,
   "metadata": {},
   "outputs": [
    {
     "name": "stdout",
     "output_type": "stream",
     "text": [
      "Generating visualization...\n"
     ]
    },
    {
     "name": "stderr",
     "output_type": "stream",
     "text": [
      "C:\\Users\\Msagardi\\AppData\\Local\\anaconda3\\envs\\label\\lib\\site-packages\\umap\\umap_.py:1943: UserWarning: n_jobs value -1 overridden to 1 by setting random_state. Use no seed for parallelism.\n",
      "  warn(f\"n_jobs value {self.n_jobs} overridden to 1 by setting random_state. Use no seed for parallelism.\")\n"
     ]
    },
    {
     "name": "stdout",
     "output_type": "stream",
     "text": [
      "UMAP(random_state=51, verbose=True)\n",
      "Sat Nov  4 13:29:40 2023 Construct fuzzy simplicial set\n",
      "Sat Nov  4 13:29:40 2023 Finding Nearest Neighbors\n",
      "Sat Nov  4 13:29:40 2023 Building RP forest with 10 trees\n",
      "Sat Nov  4 13:29:50 2023 NN descent for 13 iterations\n",
      "\t 1  /  13\n",
      "\t 2  /  13\n",
      "\t 3  /  13\n",
      "\t 4  /  13\n",
      "\tStopping threshold met -- exiting after 4 iterations\n",
      "Sat Nov  4 13:30:17 2023 Finished Nearest Neighbor Search\n",
      "Sat Nov  4 13:30:25 2023 Construct embedding\n"
     ]
    },
    {
     "data": {
      "application/vnd.jupyter.widget-view+json": {
       "model_id": "06b2001cb1134c6499518077172d4be4",
       "version_major": 2,
       "version_minor": 0
      },
      "text/plain": [
       "Epochs completed:   0%|            0/500 [00:00]"
      ]
     },
     "metadata": {},
     "output_type": "display_data"
    },
    {
     "name": "stdout",
     "output_type": "stream",
     "text": [
      "\tcompleted  0  /  500 epochs\n",
      "\tcompleted  50  /  500 epochs\n",
      "\tcompleted  100  /  500 epochs\n",
      "\tcompleted  150  /  500 epochs\n",
      "\tcompleted  200  /  500 epochs\n",
      "\tcompleted  250  /  500 epochs\n",
      "\tcompleted  300  /  500 epochs\n",
      "\tcompleted  350  /  500 epochs\n",
      "\tcompleted  400  /  500 epochs\n",
      "\tcompleted  450  /  500 epochs\n",
      "Sat Nov  4 13:31:03 2023 Finished embedding\n"
     ]
    }
   ],
   "source": [
    "import cv2\n",
    "import numpy as np\n",
    "\n",
    "import fiftyone.brain as fob\n",
    "\n",
    "# Construct a ``num_samples x num_pixels`` array of images\n",
    "# Usually, first we need to generate image vectors/embeddings with a DL model\n",
    "# and them apply UMAP/T-SNE to project them to 2D\n",
    "# However, since MNIST has so small images (28x28), we can ravel them and use them\n",
    "# as embedding vectors, passed to UMAP/T-SNE\n",
    "embeddings = np.array([\n",
    "    cv2.imread(f, cv2.IMREAD_UNCHANGED).ravel()\n",
    "    for f in test_split.values(\"filepath\")\n",
    "])\n",
    "\n",
    "# Compute 2D representation\n",
    "# We can select one of the default methods\n",
    "# point to a model or a field in our dataset where vectors are stored\n",
    "# https://docs.voxel51.com/api/fiftyone.brain.html#fiftyone.brain.compute_visualization\n",
    "results = fob.compute_visualization(\n",
    "    test_split,\n",
    "    embeddings=embeddings,\n",
    "    num_dims=2,\n",
    "    method=\"umap\", # \"tsne\", \"pca\", \"manual\"\n",
    "    brain_key=\"mnist_test\",\n",
    "    verbose=True,\n",
    "    seed=51,\n",
    ")"
   ]
  },
  {
   "cell_type": "code",
   "execution_count": 5,
   "metadata": {},
   "outputs": [
    {
     "name": "stdout",
     "output_type": "stream",
     "text": [
      "<class 'fiftyone.brain.visualization.VisualizationResults'>\n",
      "(10000, 2)\n"
     ]
    }
   ],
   "source": [
    "print(type(results))\n",
    "print(results.points.shape)"
   ]
  },
  {
   "cell_type": "markdown",
   "metadata": {},
   "source": [
    "## 4. Visualize Embeddings and Selected Samples"
   ]
  },
  {
   "cell_type": "markdown",
   "metadata": {},
   "source": [
    "### Visualization and Selection in the Web IU"
   ]
  },
  {
   "cell_type": "markdown",
   "metadata": {},
   "source": [
    "We can launch the FiftyOne UI app in several ways; the two most common ways:\n",
    "\n",
    "1. With code in our environment:\n",
    "\n",
    "    ```python\n",
    "    # dataset = test_split\n",
    "    session = fo.launch_app(view=test_split, desktop=True) # Browser: http://localhost:5151\n",
    "    session = fo.launch_app(view=test_split, desktop=False) # Embedded in Jupyter\n",
    "    ```\n",
    "\n",
    "2. In the CLI:\n",
    "\n",
    "    ```bash\n",
    "    # fiftyone app launch <dataset_name>\n",
    "    # Note that if we launch it via the CLI the entire dataset is loaded\n",
    "    # not only the test_split\n",
    "    (label) fiftyone app launch \"mnist\"\n",
    "    # Browser: http://localhost:5151\n",
    "    ```\n",
    "\n",
    "Note that the main use-case of embeddings is to be able to visualize them in a 2D projection in order to select samples that have dubious locations/labels. In that sense, take into account that we have a subset of smaples `test_split = dataset.match_tags(\"test\")` for which we have generated the `embedding` vectors and uploaded to the dataset with `fob.compute_visualization()`.\n",
    "\n",
    "If we launch the the app via the CLI loading the entire dataset, we need to:\n",
    "\n",
    "- Add a filter/stage `MatchTags(test)` to narrow down to the samples in `test_split`; i.e., we are reproducing the command  `test_split = dataset.match_tags(\"test\")` but in the UI.\n",
    "- Create an `Embeddings` view in the tabs of the main frame, using:\n",
    "  - brain key: `mnist_test` - that was created with `fob.compute_visualization()`\n",
    "  - color by: `ground_truth.label`\n",
    "\n",
    "When the embeddings are visualized, we can select weird/bordeline samples and open the tab of the samples; there, we see which are those samples.\n",
    "\n",
    "Recall the basic usage of the UI:\n",
    "\n",
    "- Left frame: select tags / labels / primitives (features added in code)\n",
    "- Main frame: we can visualize several **panels**\n",
    "  - Samples: we can click on each of them and a detailed view is opened\n",
    "  - Histograms: we can select which vaiables to plot: labels, scalar values, etc.\n",
    "  - Embeddings: we can plot scatterplots that represent the dataset\n",
    "- We can add stages or filters, e.g.:\n",
    "  - `Limit(int)` takes the number of samples we specify\n",
    "  - `MatchTags(str)`: \n",
    "  - `SortBy`\n",
    "  - ...\n",
    "\n",
    "![MNIST embedding and sample selection](../assets/mnist_embedding_selection.png)\n",
    "![MNIST embedding and sample selection](../assets/mnist_embedding_selection_samples.png)"
   ]
  },
  {
   "cell_type": "markdown",
   "metadata": {},
   "source": [
    "### Visualization and Selection in Interactive Notebook Plots"
   ]
  },
  {
   "cell_type": "code",
   "execution_count": 6,
   "metadata": {},
   "outputs": [
    {
     "name": "stdout",
     "output_type": "stream",
     "text": [
      "\n",
      "Could not connect session, trying again in 10 seconds\n",
      "\n"
     ]
    },
    {
     "data": {
      "text/html": [
       "\n",
       "        <iframe\n",
       "            width=\"100%\"\n",
       "            height=\"800\"\n",
       "            src=\"http://localhost:5151/?notebook=True&subscription=a7f2d033-0e62-4792-83c4-ceac81f07d85\"\n",
       "            frameborder=\"0\"\n",
       "            allowfullscreen\n",
       "            \n",
       "        ></iframe>\n",
       "        "
      ],
      "text/plain": [
       "<IPython.lib.display.IFrame at 0x151976f63d0>"
      ]
     },
     "metadata": {},
     "output_type": "display_data"
    }
   ],
   "source": [
    "# Launch App instance from the code using the SDK\n",
    "# The advantage of this approach is that we get the session object\n",
    "# Recommendations:\n",
    "# - Use Jupyter lab\n",
    "# - Right click on this cell and select: \"Create New View for Cell Output\"\n",
    "# - Place cell output side-by-side\n",
    "# - Continue interacting with the UI using code! :)\r\n",
    "session = fo.launch_app(view=test_split)"
   ]
  },
  {
   "cell_type": "code",
   "execution_count": 7,
   "metadata": {},
   "outputs": [
    {
     "data": {
      "text/plain": []
     },
     "metadata": {},
     "output_type": "display_data"
    },
    {
     "data": {
      "text/plain": []
     },
     "metadata": {},
     "output_type": "display_data"
    },
    {
     "data": {
      "application/vnd.jupyter.widget-view+json": {
       "model_id": "2bed2e6e3cb24d6bbbbf30f76bf08482",
       "version_major": 2,
       "version_minor": 0
      },
      "text/plain": [
       "FigureWidget({\n",
       "    'data': [{'customdata': array(['6544cf856d0970ac84e38a12', '6544cf856d0970ac84e38a21',\n",
       "                                   '6544cf856d0970ac84e38a24', ..., '6544cf8e6d0970ac84e3d804',\n",
       "                                   '6544cf8e6d0970ac84e3d817', '6544cf8e6d0970ac84e3d821'], dtype=object),\n",
       "              'hovertemplate': ('<b>label: %{text}</b><br>x, y ' ... ': %{customdata}<extra></extra>'),\n",
       "              'line': {'color': '#3366CC'},\n",
       "              'mode': 'markers',\n",
       "              'name': '0 - zero',\n",
       "              'showlegend': True,\n",
       "              'text': array(['0 - zero', '0 - zero', '0 - zero', ..., '0 - zero', '0 - zero',\n",
       "                             '0 - zero'], dtype='<U8'),\n",
       "              'type': 'scattergl',\n",
       "              'uid': 'ad49ab1a-adb7-4490-a039-88d04f91e4d0',\n",
       "              'x': array([-0.66646504, -1.3560915 , -0.6667465 , ..., -1.6081772 , -1.595924  ,\n",
       "                          -2.3888087 ], dtype=float32),\n",
       "              'y': array([3.964175 , 3.2438743, 3.4428525, ..., 4.7225537, 3.5843246, 4.093327 ],\n",
       "                         dtype=float32)},\n",
       "             {'customdata': array(['6544cf856d0970ac84e38a0d', '6544cf856d0970ac84e38a14',\n",
       "                                   '6544cf856d0970ac84e38a25', ..., '6544cf8e6d0970ac84e3d812',\n",
       "                                   '6544cf8e6d0970ac84e3d818', '6544cf8e6d0970ac84e3d822'], dtype=object),\n",
       "              'hovertemplate': ('<b>label: %{text}</b><br>x, y ' ... ': %{customdata}<extra></extra>'),\n",
       "              'line': {'color': '#DC3912'},\n",
       "              'mode': 'markers',\n",
       "              'name': '1 - one',\n",
       "              'showlegend': True,\n",
       "              'text': array(['1 - one', '1 - one', '1 - one', ..., '1 - one', '1 - one', '1 - one'],\n",
       "                            dtype='<U7'),\n",
       "              'type': 'scattergl',\n",
       "              'uid': 'ddd450c0-47f6-4cdf-bb3f-67254e8accea',\n",
       "              'x': array([12.997916, 12.959666, 15.164672, ..., 10.748788, 14.143612, 13.262278],\n",
       "                         dtype=float32),\n",
       "              'y': array([1.5278826 , 1.6676404 , 1.6303858 , ..., 0.9337356 , 1.6612272 ,\n",
       "                          0.68317544], dtype=float32)},\n",
       "             {'customdata': array(['6544cf856d0970ac84e38a0c', '6544cf856d0970ac84e38a6a',\n",
       "                                   '6544cf856d0970ac84e38a6d', ..., '6544cf8e6d0970ac84e3d814',\n",
       "                                   '6544cf8e6d0970ac84e3d819', '6544cf8e6d0970ac84e3d823'], dtype=object),\n",
       "              'hovertemplate': ('<b>label: %{text}</b><br>x, y ' ... ': %{customdata}<extra></extra>'),\n",
       "              'line': {'color': '#FF9900'},\n",
       "              'mode': 'markers',\n",
       "              'name': '2 - two',\n",
       "              'showlegend': True,\n",
       "              'text': array(['2 - two', '2 - two', '2 - two', ..., '2 - two', '2 - two', '2 - two'],\n",
       "                            dtype='<U7'),\n",
       "              'type': 'scattergl',\n",
       "              'uid': '366fa6de-7bef-482e-b01b-7dbd1fb3b0e0',\n",
       "              'x': array([8.651701 , 8.106558 , 8.634423 , ..., 7.9531517, 8.280846 , 8.423941 ],\n",
       "                         dtype=float32),\n",
       "              'y': array([ 0.49121627, -1.2935627 ,  0.281141  , ..., -1.5824041 ,  0.35101774,\n",
       "                          -0.06086726], dtype=float32)},\n",
       "             {'customdata': array(['6544cf856d0970ac84e38a39', '6544cf856d0970ac84e38a45',\n",
       "                                   '6544cf856d0970ac84e38a67', ..., '6544cf8e6d0970ac84e3d80f',\n",
       "                                   '6544cf8e6d0970ac84e3d81a', '6544cf8e6d0970ac84e3d824'], dtype=object),\n",
       "              'hovertemplate': ('<b>label: %{text}</b><br>x, y ' ... ': %{customdata}<extra></extra>'),\n",
       "              'line': {'color': '#109618'},\n",
       "              'mode': 'markers',\n",
       "              'name': '3 - three',\n",
       "              'showlegend': True,\n",
       "              'text': array(['3 - three', '3 - three', '3 - three', ..., '3 - three', '3 - three',\n",
       "                             '3 - three'], dtype='<U9'),\n",
       "              'type': 'scattergl',\n",
       "              'uid': 'a9c313b8-d663-4a39-b6db-6512c0d09e2f',\n",
       "              'x': array([3.575341 , 4.1949186, 4.0849266, ..., 4.5862427, 4.8675647, 3.3182323],\n",
       "                         dtype=float32),\n",
       "              'y': array([3.0651405 , 2.3653686 , 2.906272  , ..., 0.80075127, 1.7490381 ,\n",
       "                          2.2551463 ], dtype=float32)},\n",
       "             {'customdata': array(['6544cf856d0970ac84e38a13', '6544cf856d0970ac84e38a15',\n",
       "                                   '6544cf856d0970ac84e38a3a', ..., '6544cf8e6d0970ac84e3d811',\n",
       "                                   '6544cf8e6d0970ac84e3d81b', '6544cf8e6d0970ac84e3d825'], dtype=object),\n",
       "              'hovertemplate': ('<b>label: %{text}</b><br>x, y ' ... ': %{customdata}<extra></extra>'),\n",
       "              'line': {'color': '#990099'},\n",
       "              'mode': 'markers',\n",
       "              'name': '4 - four',\n",
       "              'showlegend': True,\n",
       "              'text': array(['4 - four', '4 - four', '4 - four', ..., '4 - four', '4 - four',\n",
       "                             '4 - four'], dtype='<U8'),\n",
       "              'type': 'scattergl',\n",
       "              'uid': 'a4798d9a-2441-48ff-b396-faf49169de68',\n",
       "              'x': array([11.802625, 11.289097, 11.720495, ..., 10.207276, 10.688759, 10.177283],\n",
       "                         dtype=float32),\n",
       "              'y': array([9.494026, 8.715721, 8.697594, ..., 7.756287, 8.51696 , 7.638928],\n",
       "                         dtype=float32)},\n",
       "             {'customdata': array(['6544cf856d0970ac84e38a1f', '6544cf856d0970ac84e38a36',\n",
       "                                   '6544cf856d0970ac84e38a3e', ..., '6544cf8e6d0970ac84e3d816',\n",
       "                                   '6544cf8e6d0970ac84e3d81c', '6544cf8e6d0970ac84e3d826'], dtype=object),\n",
       "              'hovertemplate': ('<b>label: %{text}</b><br>x, y ' ... ': %{customdata}<extra></extra>'),\n",
       "              'line': {'color': '#0099C6'},\n",
       "              'mode': 'markers',\n",
       "              'name': '5 - five',\n",
       "              'showlegend': True,\n",
       "              'text': array(['5 - five', '5 - five', '5 - five', ..., '5 - five', '5 - five',\n",
       "                             '5 - five'], dtype='<U8'),\n",
       "              'type': 'scattergl',\n",
       "              'uid': 'c0371516-c244-4243-802e-209c9f3bc5b3',\n",
       "              'x': array([11.156394 ,  3.2940297,  4.380957 , ...,  3.2052596,  4.711563 ,\n",
       "                           4.9600196], dtype=float32),\n",
       "              'y': array([9.366019 , 3.5658567, 5.3871803, ..., 5.080634 , 6.1359525, 6.6388865],\n",
       "                         dtype=float32)},\n",
       "             {'customdata': array(['6544cf856d0970ac84e38a22', '6544cf856d0970ac84e38a3c',\n",
       "                                   '6544cf856d0970ac84e38a3d', ..., '6544cf8e6d0970ac84e3d815',\n",
       "                                   '6544cf8e6d0970ac84e3d81d', '6544cf8e6d0970ac84e3d827'], dtype=object),\n",
       "              'hovertemplate': ('<b>label: %{text}</b><br>x, y ' ... ': %{customdata}<extra></extra>'),\n",
       "              'line': {'color': '#DD4477'},\n",
       "              'mode': 'markers',\n",
       "              'name': '6 - six',\n",
       "              'showlegend': True,\n",
       "              'text': array(['6 - six', '6 - six', '6 - six', ..., '6 - six', '6 - six', '6 - six'],\n",
       "                            dtype='<U7'),\n",
       "              'type': 'scattergl',\n",
       "              'uid': '78d7be3c-8a7c-4012-9878-b070440a42d7',\n",
       "              'x': array([1.1318549, 2.0996985, 1.3339039, ..., 1.8214893, 1.5845279, 1.2307981],\n",
       "                         dtype=float32),\n",
       "              'y': array([10.5274105,  9.404107 , 10.514913 , ...,  7.56592  ,  8.018012 ,\n",
       "                           8.558934 ], dtype=float32)},\n",
       "             {'customdata': array(['6544cf856d0970ac84e38a09', '6544cf856d0970ac84e38a38',\n",
       "                                   '6544cf856d0970ac84e38a41', ..., '6544cf8e6d0970ac84e3d808',\n",
       "                                   '6544cf8e6d0970ac84e3d813', '6544cf8e6d0970ac84e3d81e'], dtype=object),\n",
       "              'hovertemplate': ('<b>label: %{text}</b><br>x, y ' ... ': %{customdata}<extra></extra>'),\n",
       "              'line': {'color': '#66AA00'},\n",
       "              'mode': 'markers',\n",
       "              'name': '7 - seven',\n",
       "              'showlegend': True,\n",
       "              'text': array(['7 - seven', '7 - seven', '7 - seven', ..., '7 - seven', '7 - seven',\n",
       "                             '7 - seven'], dtype='<U9'),\n",
       "              'type': 'scattergl',\n",
       "              'uid': '57ba4dae-3ae6-444d-92bd-05604caf55ba',\n",
       "              'x': array([12.272871 , 12.558867 , 13.814829 , ..., 11.616649 , 11.7172575,\n",
       "                          12.620886 ], dtype=float32),\n",
       "              'y': array([4.6283784, 4.962854 , 5.8746576, ..., 3.8932416, 4.753486 , 4.0960793],\n",
       "                         dtype=float32)},\n",
       "             {'customdata': array(['6544cf856d0970ac84e38a84', '6544cf856d0970ac84e38adb',\n",
       "                                   '6544cf856d0970ac84e38af5', ..., '6544cf8e6d0970ac84e3d7ff',\n",
       "                                   '6544cf8e6d0970ac84e3d807', '6544cf8e6d0970ac84e3d81f'], dtype=object),\n",
       "              'hovertemplate': ('<b>label: %{text}</b><br>x, y ' ... ': %{customdata}<extra></extra>'),\n",
       "              'line': {'color': '#B82E2E'},\n",
       "              'mode': 'markers',\n",
       "              'name': '8 - eight',\n",
       "              'showlegend': True,\n",
       "              'text': array(['8 - eight', '8 - eight', '8 - eight', ..., '8 - eight', '8 - eight',\n",
       "                             '8 - eight'], dtype='<U9'),\n",
       "              'type': 'scattergl',\n",
       "              'uid': 'e96835b6-f04b-4d04-a01d-5db5833103d1',\n",
       "              'x': array([7.9484153, 5.7866044, 7.0330253, ..., 6.6753645, 7.5899487, 6.1511636],\n",
       "                         dtype=float32),\n",
       "              'y': array([3.1409688, 3.963808 , 2.7452784, ..., 2.8614037, 2.8618371, 3.0381935],\n",
       "                         dtype=float32)},\n",
       "             {'customdata': array(['6544cf856d0970ac84e38a1e', '6544cf856d0970ac84e38a20',\n",
       "                                   '6544cf856d0970ac84e38a23', ..., '6544cf8e6d0970ac84e3d7f1',\n",
       "                                   '6544cf8e6d0970ac84e3d80d', '6544cf8e6d0970ac84e3d820'], dtype=object),\n",
       "              'hovertemplate': ('<b>label: %{text}</b><br>x, y ' ... ': %{customdata}<extra></extra>'),\n",
       "              'line': {'color': '#316395'},\n",
       "              'mode': 'markers',\n",
       "              'name': '9 - nine',\n",
       "              'showlegend': True,\n",
       "              'text': array(['9 - nine', '9 - nine', '9 - nine', ..., '9 - nine', '9 - nine',\n",
       "                             '9 - nine'], dtype='<U8'),\n",
       "              'type': 'scattergl',\n",
       "              'uid': '89a8d507-4b93-47fe-856a-2199e4dc25c9',\n",
       "              'x': array([13.479993, 10.68388 , 11.557482, ..., 11.311644, 10.928728, 11.323703],\n",
       "                         dtype=float32),\n",
       "              'y': array([7.9988236, 5.9360237, 7.062932 , ..., 6.734308 , 6.4598703, 6.8909497],\n",
       "                         dtype=float32)}],\n",
       "    'layout': {'height': 720,\n",
       "               'legend': {'itemsizing': 'constant', 'title': {'text': 'label'}},\n",
       "               'margin': {'b': 0, 'l': 0, 'r': 0, 't': 30},\n",
       "               'template': '...'}\n",
       "})"
      ]
     },
     "metadata": {},
     "output_type": "display_data"
    }
   ],
   "source": [
    "# Plot embeddings colored by ground truth label\n",
    "# Using the SDK interaction approach\n",
    "# we can plot a scatterplot of the embeddings (plotly)\n",
    "# zoom and select the weird samples\n",
    "# Then, the UI view is updated! :)\n",
    "# We can make use of the tools in plotly plots:\n",
    "# Zoom, lasso selection, label-based selection, etc.\n",
    "plot = results.visualize(labels=\"ground_truth.label\")\n",
    "plot.show(height=720)\n",
    "\n",
    "# Attach plot to session\n",
    "session.plots.attach(plot)"
   ]
  },
  {
   "attachments": {},
   "cell_type": "markdown",
   "metadata": {},
   "source": [
    "![MNIST: Selection of embeddings side-by-side](../assets/mnist_embedding_selection_jupyter.png)"
   ]
  },
  {
   "cell_type": "code",
   "execution_count": null,
   "metadata": {},
   "outputs": [],
   "source": [
    "session.freeze()  # screenshots App and plot for sharing"
   ]
  },
  {
   "cell_type": "markdown",
   "metadata": {},
   "source": [
    "### Pre-Annoations of Samples"
   ]
  },
  {
   "cell_type": "code",
   "execution_count": 5,
   "metadata": {},
   "outputs": [
    {
     "name": "stdout",
     "output_type": "stream",
     "text": [
      "Name:        mnist\n",
      "Media type:  image\n",
      "Num samples: 70000\n",
      "Persistent:  False\n",
      "Tags:        []\n",
      "Sample fields:\n",
      "    id:           fiftyone.core.fields.ObjectIdField\n",
      "    filepath:     fiftyone.core.fields.StringField\n",
      "    tags:         fiftyone.core.fields.ListField(fiftyone.core.fields.StringField)\n",
      "    metadata:     fiftyone.core.fields.EmbeddedDocumentField(fiftyone.core.metadata.ImageMetadata)\n",
      "    ground_truth: fiftyone.core.fields.EmbeddedDocumentField(fiftyone.core.labels.Classification)\n"
     ]
    }
   ],
   "source": [
    "# Let’s see how compute_visualization() can be used to efficiently pre-annotate the train split with minimal effort.\n",
    "# First, load existing dataset\n",
    "# If we restart the notebook/session, we can load the dataset as follows\n",
    "import fiftyone as fo\n",
    "\n",
    "dataset = fo.load_dataset(\"mnist\")\n",
    "print(dataset)"
   ]
  },
  {
   "cell_type": "code",
   "execution_count": 7,
   "metadata": {},
   "outputs": [
    {
     "name": "stdout",
     "output_type": "stream",
     "text": [
      "Generating visualization...\n"
     ]
    },
    {
     "name": "stderr",
     "output_type": "stream",
     "text": [
      "C:\\Users\\Msagardi\\AppData\\Local\\anaconda3\\envs\\label\\lib\\site-packages\\umap\\umap_.py:1943: UserWarning: n_jobs value -1 overridden to 1 by setting random_state. Use no seed for parallelism.\n",
      "  warn(f\"n_jobs value {self.n_jobs} overridden to 1 by setting random_state. Use no seed for parallelism.\")\n"
     ]
    },
    {
     "name": "stdout",
     "output_type": "stream",
     "text": [
      "UMAP(random_state=51, verbose=True)\n",
      "Sat Nov  4 14:37:40 2023 Construct fuzzy simplicial set\n",
      "Sat Nov  4 14:37:40 2023 Finding Nearest Neighbors\n",
      "Sat Nov  4 14:37:40 2023 Building RP forest with 18 trees\n",
      "Sat Nov  4 14:37:49 2023 NN descent for 16 iterations\n",
      "\t 1  /  16\n",
      "\t 2  /  16\n",
      "\t 3  /  16\n",
      "\t 4  /  16\n",
      "\tStopping threshold met -- exiting after 4 iterations\n",
      "Sat Nov  4 14:38:10 2023 Finished Nearest Neighbor Search\n",
      "Sat Nov  4 14:38:15 2023 Construct embedding\n"
     ]
    },
    {
     "data": {
      "application/vnd.jupyter.widget-view+json": {
       "model_id": "7e3c3636dfb94b8a9e34950aa70bb779",
       "version_major": 2,
       "version_minor": 0
      },
      "text/plain": [
       "Epochs completed:   0%|            0/200 [00:00]"
      ]
     },
     "metadata": {},
     "output_type": "display_data"
    },
    {
     "name": "stdout",
     "output_type": "stream",
     "text": [
      "\tcompleted  0  /  200 epochs\n",
      "\tcompleted  20  /  200 epochs\n",
      "\tcompleted  40  /  200 epochs\n",
      "\tcompleted  60  /  200 epochs\n",
      "\tcompleted  80  /  200 epochs\n",
      "\tcompleted  100  /  200 epochs\n",
      "\tcompleted  120  /  200 epochs\n",
      "\tcompleted  140  /  200 epochs\n",
      "\tcompleted  160  /  200 epochs\n",
      "\tcompleted  180  /  200 epochs\n",
      "Sat Nov  4 14:39:34 2023 Finished embedding\n"
     ]
    }
   ],
   "source": [
    "import cv2\n",
    "import numpy as np\n",
    "\n",
    "import fiftyone.brain as fob\n",
    "\n",
    "# Now, let's create embeddings for the entire dataset\n",
    "# Since MNIST images are so small, we ravel them and take their 28x28 pixel values as the embedding vectors\n",
    "# Construct a ``num_samples x num_pixels`` array of images\n",
    "embeddings = np.array([\n",
    "    cv2.imread(f, cv2.IMREAD_UNCHANGED).ravel()\n",
    "    for f in dataset.values(\"filepath\")\n",
    "])\n",
    "\n",
    "# Compute 2D representation\n",
    "results = fob.compute_visualization(\n",
    "    dataset,\n",
    "    embeddings=embeddings,\n",
    "    num_dims=2,\n",
    "    method=\"umap\",\n",
    "    brain_key=\"mnist\",\n",
    "    verbose=True,\n",
    "    seed=51,\n",
    ")"
   ]
  },
  {
   "cell_type": "code",
   "execution_count": 8,
   "metadata": {},
   "outputs": [],
   "source": [
    "from fiftyone import ViewField as F\n",
    "\n",
    "# Of course, our dataset already has ground truth labels for the train split,\n",
    "# but let’s pretend that’s not the case\n",
    "# Label `test` split samples by their ground truth label\n",
    "# Mark all samples in `train` split as `unlabeled`\n",
    "expr = F(\"$tags\").contains(\"test\").if_else(F(\"label\"), \"unlabeled\")\n",
    "labels = dataset.values(\"ground_truth\", expr=expr)"
   ]
  },
  {
   "cell_type": "code",
   "execution_count": 12,
   "metadata": {},
   "outputs": [
    {
     "data": {
      "text/html": [
       "\n",
       "        <iframe\n",
       "            width=\"100%\"\n",
       "            height=\"800\"\n",
       "            src=\"http://localhost:5151/?notebook=True&subscription=f6611ebc-eb10-492b-b4dd-01374f559764\"\n",
       "            frameborder=\"0\"\n",
       "            allowfullscreen\n",
       "            \n",
       "        ></iframe>\n",
       "        "
      ],
      "text/plain": [
       "<IPython.lib.display.IFrame at 0x22899d22c10>"
      ]
     },
     "metadata": {},
     "output_type": "display_data"
    }
   ],
   "source": [
    "# Launch App instance from the code using the SDK\n",
    "# The advantage of this approach is that we get the session object\n",
    "# Recommendations:\n",
    "# - Use Jupyter lab\n",
    "# - Right click on this cell and select: \"Create New View for Cell Output\"\n",
    "# - Place cell output side-by-side\n",
    "# - Continue interacting with the UI using code! :)\n",
    "session = fo.launch_app(dataset)"
   ]
  },
  {
   "cell_type": "code",
   "execution_count": 13,
   "metadata": {},
   "outputs": [
    {
     "data": {
      "text/plain": []
     },
     "metadata": {},
     "output_type": "display_data"
    },
    {
     "data": {
      "text/plain": []
     },
     "metadata": {},
     "output_type": "display_data"
    },
    {
     "data": {
      "application/vnd.jupyter.widget-view+json": {
       "model_id": "5be7aa0f07104d4bab5450bcf14af86d",
       "version_major": 2,
       "version_minor": 0
      },
      "text/plain": [
       "FigureWidget({\n",
       "    'data': [{'customdata': array(['6544cf856d0970ac84e38a12', '6544cf856d0970ac84e38a21',\n",
       "                                   '6544cf856d0970ac84e38a24', ..., '6544cf8e6d0970ac84e3d804',\n",
       "                                   '6544cf8e6d0970ac84e3d817', '6544cf8e6d0970ac84e3d821'], dtype=object),\n",
       "              'hovertemplate': ('<b>label: %{text}</b><br>x, y ' ... ': %{customdata}<extra></extra>'),\n",
       "              'line': {'color': '#AA0DFE'},\n",
       "              'mode': 'markers',\n",
       "              'name': '0 - zero',\n",
       "              'showlegend': True,\n",
       "              'text': array(['0 - zero', '0 - zero', '0 - zero', ..., '0 - zero', '0 - zero',\n",
       "                             '0 - zero'], dtype='<U8'),\n",
       "              'type': 'scattergl',\n",
       "              'uid': '3cb25c79-36a8-422b-90e7-ae89cf7b9e3e',\n",
       "              'x': array([14.642015, 14.908134, 14.404558, ..., 16.10947 , 15.313407, 16.262272],\n",
       "                         dtype=float32),\n",
       "              'y': array([6.539795 , 7.8326154, 7.379261 , ..., 6.2672057, 7.6182184, 7.395312 ],\n",
       "                         dtype=float32)},\n",
       "             {'customdata': array(['6544cf856d0970ac84e38a0d', '6544cf856d0970ac84e38a14',\n",
       "                                   '6544cf856d0970ac84e38a25', ..., '6544cf8e6d0970ac84e3d812',\n",
       "                                   '6544cf8e6d0970ac84e3d818', '6544cf8e6d0970ac84e3d822'], dtype=object),\n",
       "              'hovertemplate': ('<b>label: %{text}</b><br>x, y ' ... ': %{customdata}<extra></extra>'),\n",
       "              'line': {'color': '#3283FE'},\n",
       "              'mode': 'markers',\n",
       "              'name': '1 - one',\n",
       "              'showlegend': True,\n",
       "              'text': array(['1 - one', '1 - one', '1 - one', ..., '1 - one', '1 - one', '1 - one'],\n",
       "                            dtype='<U7'),\n",
       "              'type': 'scattergl',\n",
       "              'uid': '525dbe4e-3c3f-4d1c-b6cd-13465f3e0094',\n",
       "              'x': array([-2.2105138, -2.6494393, -3.3137357, ..., -2.8133354, -2.7404938,\n",
       "                          -1.5913379], dtype=float32),\n",
       "              'y': array([-0.95515776, -0.8003917 , -3.5260434 , ...,  2.2510824 , -2.0933487 ,\n",
       "                          -0.7726414 ], dtype=float32)},\n",
       "             {'customdata': array(['6544cf856d0970ac84e38a0c', '6544cf856d0970ac84e38a6a',\n",
       "                                   '6544cf856d0970ac84e38a6d', ..., '6544cf8e6d0970ac84e3d814',\n",
       "                                   '6544cf8e6d0970ac84e3d819', '6544cf8e6d0970ac84e3d823'], dtype=object),\n",
       "              'hovertemplate': ('<b>label: %{text}</b><br>x, y ' ... ': %{customdata}<extra></extra>'),\n",
       "              'line': {'color': '#85660D'},\n",
       "              'mode': 'markers',\n",
       "              'name': '2 - two',\n",
       "              'showlegend': True,\n",
       "              'text': array(['2 - two', '2 - two', '2 - two', ..., '2 - two', '2 - two', '2 - two'],\n",
       "                            dtype='<U7'),\n",
       "              'type': 'scattergl',\n",
       "              'uid': 'c21bf015-cc92-4f2c-b6ad-3f4928ef2b55',\n",
       "              'x': array([2.5546901, 4.734615 , 2.6203766, ..., 5.1541095, 2.6793857, 3.1218143],\n",
       "                         dtype=float32),\n",
       "              'y': array([-0.6349424 , -1.8246411 , -0.87303483, ..., -2.0704474 , -1.8088098 ,\n",
       "                          -1.7831695 ], dtype=float32)},\n",
       "             {'customdata': array(['6544cf856d0970ac84e38a39', '6544cf856d0970ac84e38a45',\n",
       "                                   '6544cf856d0970ac84e38a67', ..., '6544cf8e6d0970ac84e3d80f',\n",
       "                                   '6544cf8e6d0970ac84e3d81a', '6544cf8e6d0970ac84e3d824'], dtype=object),\n",
       "              'hovertemplate': ('<b>label: %{text}</b><br>x, y ' ... ': %{customdata}<extra></extra>'),\n",
       "              'line': {'color': '#782AB6'},\n",
       "              'mode': 'markers',\n",
       "              'name': '3 - three',\n",
       "              'showlegend': True,\n",
       "              'text': array(['3 - three', '3 - three', '3 - three', ..., '3 - three', '3 - three',\n",
       "                             '3 - three'], dtype='<U9'),\n",
       "              'type': 'scattergl',\n",
       "              'uid': 'abc7d3fc-625a-49c3-8754-531ae2f3b190',\n",
       "              'x': array([5.3754244, 5.687469 , 5.0867696, ..., 6.5520773, 5.687463 , 6.5874023],\n",
       "                         dtype=float32),\n",
       "              'y': array([8.110484 , 6.498642 , 7.5718513, ..., 4.7990184, 6.0165086, 7.156946 ],\n",
       "                         dtype=float32)},\n",
       "             {'customdata': array(['6544cf856d0970ac84e38a13', '6544cf856d0970ac84e38a15',\n",
       "                                   '6544cf856d0970ac84e38a3a', ..., '6544cf8e6d0970ac84e3d811',\n",
       "                                   '6544cf8e6d0970ac84e3d81b', '6544cf8e6d0970ac84e3d825'], dtype=object),\n",
       "              'hovertemplate': ('<b>label: %{text}</b><br>x, y ' ... ': %{customdata}<extra></extra>'),\n",
       "              'line': {'color': '#565656'},\n",
       "              'mode': 'markers',\n",
       "              'name': '4 - four',\n",
       "              'showlegend': True,\n",
       "              'text': array(['4 - four', '4 - four', '4 - four', ..., '4 - four', '4 - four',\n",
       "                             '4 - four'], dtype='<U8'),\n",
       "              'type': 'scattergl',\n",
       "              'uid': '12aeab52-8e7c-4f00-b638-d1b6c526a37d',\n",
       "              'x': array([ 0.22380939, -0.63559383, -0.29800326, ..., -2.2826328 , -1.0999476 ,\n",
       "                          -2.0072834 ], dtype=float32),\n",
       "              'y': array([14.555487, 14.352199, 13.781287, ..., 13.970837, 14.39589 , 14.097349],\n",
       "                         dtype=float32)},\n",
       "             {'customdata': array(['6544cf856d0970ac84e38a1f', '6544cf856d0970ac84e38a36',\n",
       "                                   '6544cf856d0970ac84e38a3e', ..., '6544cf8e6d0970ac84e3d816',\n",
       "                                   '6544cf8e6d0970ac84e3d81c', '6544cf8e6d0970ac84e3d826'], dtype=object),\n",
       "              'hovertemplate': ('<b>label: %{text}</b><br>x, y ' ... ': %{customdata}<extra></extra>'),\n",
       "              'line': {'color': '#1C8356'},\n",
       "              'mode': 'markers',\n",
       "              'name': '5 - five',\n",
       "              'showlegend': True,\n",
       "              'text': array(['5 - five', '5 - five', '5 - five', ..., '5 - five', '5 - five',\n",
       "                             '5 - five'], dtype='<U8'),\n",
       "              'type': 'scattergl',\n",
       "              'uid': 'c73a6e87-9bdf-4e18-9fc0-183fb995dab7',\n",
       "              'x': array([2.8013945, 4.369136 , 3.5111198, ..., 6.850271 , 3.3769243, 3.1614316],\n",
       "                         dtype=float32),\n",
       "              'y': array([5.3437796, 7.526073 , 4.9929175, ..., 5.598932 , 3.7967055, 3.1291332],\n",
       "                         dtype=float32)},\n",
       "             {'customdata': array(['6544cf856d0970ac84e38a22', '6544cf856d0970ac84e38a3c',\n",
       "                                   '6544cf856d0970ac84e38a3d', ..., '6544cf8e6d0970ac84e3d815',\n",
       "                                   '6544cf8e6d0970ac84e3d81d', '6544cf8e6d0970ac84e3d827'], dtype=object),\n",
       "              'hovertemplate': ('<b>label: %{text}</b><br>x, y ' ... ': %{customdata}<extra></extra>'),\n",
       "              'line': {'color': '#16FF32'},\n",
       "              'mode': 'markers',\n",
       "              'name': '6 - six',\n",
       "              'showlegend': True,\n",
       "              'text': array(['6 - six', '6 - six', '6 - six', ..., '6 - six', '6 - six', '6 - six'],\n",
       "                            dtype='<U7'),\n",
       "              'type': 'scattergl',\n",
       "              'uid': '1c833b15-acc0-4a9f-bbe2-9bced1373dc8',\n",
       "              'x': array([11.396169, 10.133096, 11.187109, ..., 10.577691, 10.910489, 11.420055],\n",
       "                         dtype=float32),\n",
       "              'y': array([6.189877 , 4.7786527, 6.4451966, ..., 2.6407096, 3.2479439, 3.9304085],\n",
       "                         dtype=float32)},\n",
       "             {'customdata': array(['6544cf856d0970ac84e38a09', '6544cf856d0970ac84e38a38',\n",
       "                                   '6544cf856d0970ac84e38a41', ..., '6544cf8e6d0970ac84e3d808',\n",
       "                                   '6544cf8e6d0970ac84e3d813', '6544cf8e6d0970ac84e3d81e'], dtype=object),\n",
       "              'hovertemplate': ('<b>label: %{text}</b><br>x, y ' ... ': %{customdata}<extra></extra>'),\n",
       "              'line': {'color': '#F7E1A0'},\n",
       "              'mode': 'markers',\n",
       "              'name': '7 - seven',\n",
       "              'showlegend': True,\n",
       "              'text': array(['7 - seven', '7 - seven', '7 - seven', ..., '7 - seven', '7 - seven',\n",
       "                             '7 - seven'], dtype='<U9'),\n",
       "              'type': 'scattergl',\n",
       "              'uid': 'a5a4cccf-a012-4bb3-b1e1-95ca525cb7d1',\n",
       "              'x': array([-4.842938 , -5.23044  , -5.392648 , ..., -4.3971744, -5.1274433,\n",
       "                          -3.954822 ], dtype=float32),\n",
       "              'y': array([ 9.782485, 10.094083, 11.590665, ...,  8.698056,  8.934846,  9.680696],\n",
       "                         dtype=float32)},\n",
       "             {'customdata': array(['6544cf856d0970ac84e38a84', '6544cf856d0970ac84e38adb',\n",
       "                                   '6544cf856d0970ac84e38af5', ..., '6544cf8e6d0970ac84e3d7ff',\n",
       "                                   '6544cf8e6d0970ac84e3d807', '6544cf8e6d0970ac84e3d81f'], dtype=object),\n",
       "              'hovertemplate': ('<b>label: %{text}</b><br>x, y ' ... ': %{customdata}<extra></extra>'),\n",
       "              'line': {'color': '#E2E2E2'},\n",
       "              'mode': 'markers',\n",
       "              'name': '8 - eight',\n",
       "              'showlegend': True,\n",
       "              'text': array(['8 - eight', '8 - eight', '8 - eight', ..., '8 - eight', '8 - eight',\n",
       "                             '8 - eight'], dtype='<U9'),\n",
       "              'type': 'scattergl',\n",
       "              'uid': 'ba65e7f3-8ccf-42c5-b4e2-cfcf967a17cc',\n",
       "              'x': array([-0.25913095,  1.8480469 ,  1.0865424 , ...,  1.5120747 ,  0.38047764,\n",
       "                           1.3483189 ], dtype=float32),\n",
       "              'y': array([5.761706 , 7.3166666, 5.7309065, ..., 6.5615907, 5.7104616, 6.450144 ],\n",
       "                         dtype=float32)},\n",
       "             {'customdata': array(['6544cf856d0970ac84e38a1e', '6544cf856d0970ac84e38a20',\n",
       "                                   '6544cf856d0970ac84e38a23', ..., '6544cf8e6d0970ac84e3d7f1',\n",
       "                                   '6544cf8e6d0970ac84e3d80d', '6544cf8e6d0970ac84e3d820'], dtype=object),\n",
       "              'hovertemplate': ('<b>label: %{text}</b><br>x, y ' ... ': %{customdata}<extra></extra>'),\n",
       "              'line': {'color': '#1CBE4F'},\n",
       "              'mode': 'markers',\n",
       "              'name': '9 - nine',\n",
       "              'showlegend': True,\n",
       "              'text': array(['9 - nine', '9 - nine', '9 - nine', ..., '9 - nine', '9 - nine',\n",
       "                             '9 - nine'], dtype='<U8'),\n",
       "              'type': 'scattergl',\n",
       "              'uid': 'af363574-c59f-40aa-87a8-fed29d0de898',\n",
       "              'x': array([ 0.92092824, -1.4323678 , -0.6209236 , ..., -1.2072587 , -1.1093199 ,\n",
       "                          -0.48138767], dtype=float32),\n",
       "              'y': array([12.558253,  9.733106, 11.052381, ..., 10.623133,  9.812658, 10.546997],\n",
       "                         dtype=float32)},\n",
       "             {'customdata': array(['6544cf4f6d0970ac84e1b549', '6544cf4f6d0970ac84e1b54b',\n",
       "                                   '6544cf4f6d0970ac84e1b54e', ..., '6544cf846d0970ac84e38a05',\n",
       "                                   '6544cf846d0970ac84e38a06', '6544cf846d0970ac84e38a07'], dtype=object),\n",
       "              'hovertemplate': ('<b>label: %{text}</b><br>x, y ' ... ': %{customdata}<extra></extra>'),\n",
       "              'line': {'color': '#C4451C'},\n",
       "              'mode': 'markers',\n",
       "              'name': 'unlabeled',\n",
       "              'showlegend': True,\n",
       "              'text': array(['unlabeled', 'unlabeled', 'unlabeled', ..., 'unlabeled', 'unlabeled',\n",
       "                             'unlabeled'], dtype='<U9'),\n",
       "              'type': 'scattergl',\n",
       "              'uid': '4e847aff-72bc-4c96-8bae-c76a77c7af25',\n",
       "              'x': array([ 4.0540233 , 15.689265  ,  0.86234057, ...,  3.5984437 , 11.025507  ,\n",
       "                          -0.5694422 ], dtype=float32),\n",
       "              'y': array([ 4.994866 ,  6.7380266, 14.477607 , ...,  5.1752124,  3.0345871,\n",
       "                           5.4605227], dtype=float32)}],\n",
       "    'layout': {'height': 720,\n",
       "               'legend': {'itemsizing': 'constant'},\n",
       "               'margin': {'b': 0, 'l': 0, 'r': 0, 't': 30},\n",
       "               'template': '...'}\n",
       "})"
      ]
     },
     "metadata": {},
     "output_type": "display_data"
    }
   ],
   "source": [
    "# Visualize results\n",
    "# The samples from both splits are visualized: train & test\n",
    "# The key is that the samples from the train split are labeled as \"unlabeled\"\n",
    "# Meanwhile, the samples from test have their correct labels: 0, 1, 2, ...\n",
    "# When we plot the embeddings using a UMAP projection\n",
    "# the regions are the same!\n",
    "# Therefore, we can select the \"unlabeled\" samples in each blob\n",
    "# and label/annotate them!\n",
    "# We use the plotly tools (un/select labels, box/lasso selection, etc.)\n",
    "plot = results.visualize(labels=labels)\n",
    "plot.show(height=720)\n",
    "\n",
    "# Attach plot to session\n",
    "session.plots.attach(plot)"
   ]
  },
  {
   "cell_type": "markdown",
   "metadata": {},
   "source": [
    "When the plot is created, the samples from both splits are visualized: train & test. The key is that the samples from the train split are labeled as \"unlabeled\". Meanwhile, the samples from test have their correct labels: 0, 1, 2, ... When we plot the embeddings using a UMAP projection, the regions are the same! Therefore, we can select the \"unlabeled\" samples in each blob and label/annotate them! We use the plotly tools (un/select labels, box/lasso selection, etc.).\n",
    "\n",
    "The annotation process is as follows:\n",
    "\n",
    "- Plot both train & test\n",
    "- Hide \"unlabeled\", see blob labels\n",
    "- Hide labeled, visualize \"unlabeled\"\n",
    "- Select a blob in plotly with lasso\n",
    "- Samples are updated in the UI main frame\n",
    "- Click on \"Tag\" icon, provide a tag (e.g., 6 for a blob containing images of 6)\n",
    "- Apply to samples\n",
    "- Now, the `sample_tags` should have another tag: \"6\""
   ]
  },
  {
   "cell_type": "code",
   "execution_count": 14,
   "metadata": {},
   "outputs": [
    {
     "name": "stdout",
     "output_type": "stream",
     "text": [
      "{'6': 6004, 'train': 60000}\n"
     ]
    }
   ],
   "source": [
    "# Take the train split that we pre-annotated\n",
    "# and print some statistics\n",
    "train_split = dataset.match_tags(\"train\")\n",
    "\n",
    "# Print state about labels that were added\n",
    "print(train_split.count_sample_tags())"
   ]
  },
  {
   "cell_type": "code",
   "execution_count": 15,
   "metadata": {},
   "outputs": [
    {
     "name": "stdout",
     "output_type": "stream",
     "text": []
    },
    {
     "name": "stdout",
     "output_type": "stream",
     "text": [
      " 100% |█████████████| 60000/60000 [47.9s elapsed, 0s remaining, 1.2K samples/s]      \n",
      "{None: 53996, '6': 6004}\n"
     ]
    }
   ],
   "source": [
    "# Converts the sample tags into Classification labels\n",
    "# in a new hypothesis field of the dataset\n",
    "# Add a new Classification field called `hypothesis` to store our guesses\n",
    "# https://docs.voxel51.com/user_guide/using_datasets.html#classification\n",
    "with fo.ProgressBar() as pb:\n",
    "    for sample in pb(train_split):\n",
    "        labels = [t for t in sample.tags if t != \"train\"]\n",
    "        if labels:\n",
    "            sample[\"hypothesis\"] = fo.Classification(label=labels[0])\n",
    "            sample.save()\n",
    "\n",
    "# Print stats about the labels we created\n",
    "print(train_split.count_values(\"hypothesis.label\"))"
   ]
  },
  {
   "cell_type": "code",
   "execution_count": 16,
   "metadata": {},
   "outputs": [
    {
     "name": "stdout",
     "output_type": "stream",
     "text": [
      "Dataset:     mnist\n",
      "Media type:  image\n",
      "Num samples: 53996\n",
      "Sample fields:\n",
      "    id:           fiftyone.core.fields.ObjectIdField\n",
      "    filepath:     fiftyone.core.fields.StringField\n",
      "    tags:         fiftyone.core.fields.ListField(fiftyone.core.fields.StringField)\n",
      "    metadata:     fiftyone.core.fields.EmbeddedDocumentField(fiftyone.core.metadata.ImageMetadata)\n",
      "    ground_truth: fiftyone.core.fields.EmbeddedDocumentField(fiftyone.core.labels.Classification)\n",
      "    hypothesis:   fiftyone.core.fields.EmbeddedDocumentField(fiftyone.core.labels.Classification)\n",
      "View stages:\n",
      "    1. MatchTags(tags=['train'], bool=True, all=False)\n",
      "    2. Exists(field='hypothesis.label', bool=False)\n"
     ]
    }
   ],
   "source": [
    "# Imagine we do that for all classes\n",
    "# We still would have some samples which are not labeled\n",
    "# We can filter them and apply a tag manually!\n",
    "no_hypothesis = train_split.exists(\"hypothesis.label\", False)\n",
    "print(no_hypothesis)"
   ]
  },
  {
   "cell_type": "markdown",
   "metadata": {},
   "source": [
    "\n",
    "```python\n",
    "# Export options:\n",
    "# https://docs.voxel51.com/user_guide/export_datasets.html\n",
    "\n",
    "# Export `hypothesis` labels as a classification directory tree format\n",
    "# `exists()` ensures that we only export samples with a hypothesis\n",
    "train_split.exists(\"hypothesis.label\").export(\n",
    "    export_dir=\"/path/for/dataset\",\n",
    "    dataset_type=fo.types.ImageClassificationDirectoryTree,\n",
    "    label_field=\"hypothesis\",\n",
    ")\n",
    "\n",
    "# Export **only** labels in the `hypothesis` field as classification label\n",
    "# with absolute image filepathsotrain_split.exists(\"hypothesis.label\").export(\n",
    "    dataset_type=fo.types.FiftyOneImageClassificationDataset,\n",
    "    labels_path=\"mnist_hypothesis.json\",\n",
    "    label_field=\"hypothesis\",\n",
    "    abs_paths=True\n",
    ")sis\",\n",
    ")\n",
    "```"
   ]
  },
  {
   "cell_type": "code",
   "execution_count": 19,
   "metadata": {},
   "outputs": [
    {
     "name": "stdout",
     "output_type": "stream",
     "text": []
    },
    {
     "name": "stdout",
     "output_type": "stream",
     "text": [
      " 100% |███████████████| 6004/6004 [4.5s elapsed, 0s remaining, 1.0K samples/s]        \n"
     ]
    }
   ],
   "source": [
    "# Export **only** labels in the `hypothesis` field as classification label\n",
    "# with absolute image filepaths\n",
    "train_split.exists(\"hypothesis.label\").export(\n",
    "    dataset_type=fo.types.FiftyOneImageClassificationDataset,\n",
    "    labels_path=\"mnist_hypothesis.json\",\n",
    "    label_field=\"hypothesis\",\n",
    "    abs_paths=True\n",
    ")"
   ]
  },
  {
   "cell_type": "markdown",
   "metadata": {},
   "source": [
    "### Re-Load Previous Visualizations"
   ]
  },
  {
   "cell_type": "code",
   "execution_count": 20,
   "metadata": {},
   "outputs": [
    {
     "name": "stdout",
     "output_type": "stream",
     "text": [
      "['mnist', 'mnist_test']\n",
      "<class 'fiftyone.brain.visualization.VisualizationResults'>\n",
      "10000\n"
     ]
    }
   ],
   "source": [
    "# If you provide the brain_key argument to compute_visualization(),\n",
    "# then the visualization results that you generate will be saved\n",
    "# and you can recall them later.\n",
    "# List brain runs saved on the dataset\n",
    "print(dataset.list_brain_runs())\n",
    "\n",
    "# Load the results for a brain run\n",
    "results = dataset.load_brain_results(\"mnist_test\")\n",
    "print(type(results))\n",
    "\n",
    "# Load the dataset view on which the results were computed\n",
    "results_view = dataset.load_brain_view(\"mnist_test\")\n",
    "print(len(results_view))"
   ]
  },
  {
   "cell_type": "code",
   "execution_count": null,
   "metadata": {},
   "outputs": [],
   "source": []
  }
 ],
 "metadata": {
  "kernelspec": {
   "display_name": "Python 3 (ipykernel)",
   "language": "python",
   "name": "python3"
  },
  "language_info": {
   "codemirror_mode": {
    "name": "ipython",
    "version": 3
   },
   "file_extension": ".py",
   "mimetype": "text/x-python",
   "name": "python",
   "nbconvert_exporter": "python",
   "pygments_lexer": "ipython3",
   "version": "3.9.18"
  }
 },
 "nbformat": 4,
 "nbformat_minor": 4
}
