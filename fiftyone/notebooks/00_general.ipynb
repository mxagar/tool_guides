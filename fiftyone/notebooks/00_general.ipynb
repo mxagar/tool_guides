{
 "cells": [
  {
   "cell_type": "markdown",
   "metadata": {},
   "source": [
    "# Error Analysis"
   ]
  },
  {
   "cell_type": "markdown",
   "metadata": {},
   "source": [
    "## General Guideline"
   ]
  },
  {
   "cell_type": "markdown",
   "metadata": {},
   "source": [
    "FiftyOne provides a powerful UI that enables you to perform visual error analysis on your datasets. Here are some concrete steps you can take using the FiftyOne UI to analyze the errors in the iris dataset after having trained a logistic regression model:\n",
    "\n",
    "1. **Sort by Prediction Confidence**:\n",
    "   - If your model outputs confidence scores for predictions, you can sort samples based on this score to identify those that the model was least sure about. This can give insight into borderline cases or potential areas of confusion.\n",
    "\n",
    "2. **Filter by Label Mismatches**:\n",
    "   - Use the FiftyOne UI to create a view where the ground truth labels don't match the predicted labels. This will allow you to quickly spot the instances where your model made mistakes.\n",
    "   - In the sidebar, you'll see options to filter by fields. Use the ground truth and prediction fields to find mismatches.\n",
    "\n",
    "3. **Visualize Confusion Matrix**:\n",
    "   - While the FiftyOne UI doesn't provide a built-in confusion matrix, you can quickly generate one using `sklearn` and then use it to guide your error analysis in the UI.\n",
    "   - After creating a confusion matrix, focus on the largest off-diagonal values. These represent the most common mistakes your model is making. Use the FiftyOne UI to filter samples that fall into these categories and inspect them.\n",
    "\n",
    "4. **Examine Feature Values**:\n",
    "   - The iris dataset has four features for each sample: sepal length, sepal width, petal length, and petal width. For any mistakes the model makes, examine these feature values in the FiftyOne UI. Are there patterns to the mistakes? For instance, are most errors happening when the petal length is within a certain range?\n",
    "\n",
    "5. **Use the Plots Feature**:\n",
    "   - FiftyOne has a powerful plots feature that allows you to visualize the distribution of various fields. Use this to visualize the distribution of confidence scores, or perhaps to visualize how the four features of the iris dataset relate to prediction errors.\n",
    "\n",
    "6. **Tag Samples of Interest**:\n",
    "   - As you identify interesting samples or patterns of errors, you can tag these samples directly in the FiftyOne UI. This will allow you to easily return to them later or to pull them up programmatically in your notebook for further analysis.\n",
    "\n",
    "7. **Session Views**:\n",
    "   - As you work, the FiftyOne app tracks the views you create. This means you can always go back to a previous view or state. It's like having a history or breadcrumbs feature for your data exploration.\n"
   ]
  },
  {
   "cell_type": "markdown",
   "metadata": {},
   "source": []
  }
 ],
 "metadata": {
  "kernelspec": {
   "display_name": "label",
   "language": "python",
   "name": "python3"
  },
  "language_info": {
   "name": "python",
   "version": "3.9.18"
  }
 },
 "nbformat": 4,
 "nbformat_minor": 2
}
