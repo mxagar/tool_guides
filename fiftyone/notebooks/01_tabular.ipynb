{
 "cells": [
  {
   "cell_type": "markdown",
   "metadata": {},
   "source": [
    "# FiftyOne: Tabular Datasets"
   ]
  },
  {
   "cell_type": "markdown",
   "metadata": {},
   "source": [
    "## 0. General Guidelines for FiftyOne"
   ]
  },
  {
   "cell_type": "markdown",
   "metadata": {},
   "source": [
    "FiftyOne provides a powerful UI that enables you to perform visual error analysis on your datasets. Here are some concrete steps you can take using the FiftyOne UI to analyze the errors in the iris dataset after having trained a logistic regression model:\n",
    "\n",
    "1. **Sort by Prediction Confidence**:\n",
    "   - If your model outputs confidence scores for predictions, you can sort samples based on this score to identify those that the model was least sure about. This can give insight into borderline cases or potential areas of confusion.\n",
    "\n",
    "2. **Filter by Label Mismatches**:\n",
    "   - Use the FiftyOne UI to create a view where the ground truth labels don't match the predicted labels. This will allow you to quickly spot the instances where your model made mistakes.\n",
    "   - In the sidebar, you'll see options to filter by fields. Use the ground truth and prediction fields to find mismatches.\n",
    "\n",
    "3. **Visualize Confusion Matrix**:\n",
    "   - While the FiftyOne UI doesn't provide a built-in confusion matrix, you can quickly generate one using `sklearn` and then use it to guide your error analysis in the UI.\n",
    "   - After creating a confusion matrix, focus on the largest off-diagonal values. These represent the most common mistakes your model is making. Use the FiftyOne UI to filter samples that fall into these categories and inspect them.\n",
    "\n",
    "4. **Examine Feature Values**:\n",
    "   - The iris dataset has four features for each sample: sepal length, sepal width, petal length, and petal width. For any mistakes the model makes, examine these feature values in the FiftyOne UI. Are there patterns to the mistakes? For instance, are most errors happening when the petal length is within a certain range?\n",
    "\n",
    "5. **Use the Plots Feature**:\n",
    "   - FiftyOne has a powerful plots feature that allows you to visualize the distribution of various fields. Use this to visualize the distribution of confidence scores, or perhaps to visualize how the four features of the iris dataset relate to prediction errors.\n",
    "\n",
    "6. **Tag Samples of Interest**:\n",
    "   - As you identify interesting samples or patterns of errors, you can tag these samples directly in the FiftyOne UI. This will allow you to easily return to them later or to pull them up programmatically in your notebook for further analysis.\n",
    "\n",
    "7. **Session Views**:\n",
    "   - As you work, the FiftyOne app tracks the views you create. This means you can always go back to a previous view or state. It's like having a history or breadcrumbs feature for your data exploration.\n"
   ]
  },
  {
   "cell_type": "markdown",
   "metadata": {},
   "source": [
    "## 1. Load the Iris Dataset & Split"
   ]
  },
  {
   "cell_type": "code",
   "execution_count": 1,
   "metadata": {},
   "outputs": [],
   "source": [
    "from sklearn import datasets\n",
    "from sklearn.model_selection import train_test_split\n",
    "\n",
    "iris = datasets.load_iris()\n",
    "X = iris.data\n",
    "y = iris.target\n",
    "class_names = iris.target_names\n",
    "\n",
    "X_train, X_test, y_train, y_test = train_test_split(X, y, test_size=0.3, random_state=42)"
   ]
  },
  {
   "cell_type": "markdown",
   "metadata": {},
   "source": [
    "## 2. Train a Logistic Regression Model"
   ]
  },
  {
   "cell_type": "code",
   "execution_count": 2,
   "metadata": {},
   "outputs": [
    {
     "data": {
      "text/html": [
       "<style>#sk-container-id-1 {color: black;}#sk-container-id-1 pre{padding: 0;}#sk-container-id-1 div.sk-toggleable {background-color: white;}#sk-container-id-1 label.sk-toggleable__label {cursor: pointer;display: block;width: 100%;margin-bottom: 0;padding: 0.3em;box-sizing: border-box;text-align: center;}#sk-container-id-1 label.sk-toggleable__label-arrow:before {content: \"▸\";float: left;margin-right: 0.25em;color: #696969;}#sk-container-id-1 label.sk-toggleable__label-arrow:hover:before {color: black;}#sk-container-id-1 div.sk-estimator:hover label.sk-toggleable__label-arrow:before {color: black;}#sk-container-id-1 div.sk-toggleable__content {max-height: 0;max-width: 0;overflow: hidden;text-align: left;background-color: #f0f8ff;}#sk-container-id-1 div.sk-toggleable__content pre {margin: 0.2em;color: black;border-radius: 0.25em;background-color: #f0f8ff;}#sk-container-id-1 input.sk-toggleable__control:checked~div.sk-toggleable__content {max-height: 200px;max-width: 100%;overflow: auto;}#sk-container-id-1 input.sk-toggleable__control:checked~label.sk-toggleable__label-arrow:before {content: \"▾\";}#sk-container-id-1 div.sk-estimator input.sk-toggleable__control:checked~label.sk-toggleable__label {background-color: #d4ebff;}#sk-container-id-1 div.sk-label input.sk-toggleable__control:checked~label.sk-toggleable__label {background-color: #d4ebff;}#sk-container-id-1 input.sk-hidden--visually {border: 0;clip: rect(1px 1px 1px 1px);clip: rect(1px, 1px, 1px, 1px);height: 1px;margin: -1px;overflow: hidden;padding: 0;position: absolute;width: 1px;}#sk-container-id-1 div.sk-estimator {font-family: monospace;background-color: #f0f8ff;border: 1px dotted black;border-radius: 0.25em;box-sizing: border-box;margin-bottom: 0.5em;}#sk-container-id-1 div.sk-estimator:hover {background-color: #d4ebff;}#sk-container-id-1 div.sk-parallel-item::after {content: \"\";width: 100%;border-bottom: 1px solid gray;flex-grow: 1;}#sk-container-id-1 div.sk-label:hover label.sk-toggleable__label {background-color: #d4ebff;}#sk-container-id-1 div.sk-serial::before {content: \"\";position: absolute;border-left: 1px solid gray;box-sizing: border-box;top: 0;bottom: 0;left: 50%;z-index: 0;}#sk-container-id-1 div.sk-serial {display: flex;flex-direction: column;align-items: center;background-color: white;padding-right: 0.2em;padding-left: 0.2em;position: relative;}#sk-container-id-1 div.sk-item {position: relative;z-index: 1;}#sk-container-id-1 div.sk-parallel {display: flex;align-items: stretch;justify-content: center;background-color: white;position: relative;}#sk-container-id-1 div.sk-item::before, #sk-container-id-1 div.sk-parallel-item::before {content: \"\";position: absolute;border-left: 1px solid gray;box-sizing: border-box;top: 0;bottom: 0;left: 50%;z-index: -1;}#sk-container-id-1 div.sk-parallel-item {display: flex;flex-direction: column;z-index: 1;position: relative;background-color: white;}#sk-container-id-1 div.sk-parallel-item:first-child::after {align-self: flex-end;width: 50%;}#sk-container-id-1 div.sk-parallel-item:last-child::after {align-self: flex-start;width: 50%;}#sk-container-id-1 div.sk-parallel-item:only-child::after {width: 0;}#sk-container-id-1 div.sk-dashed-wrapped {border: 1px dashed gray;margin: 0 0.4em 0.5em 0.4em;box-sizing: border-box;padding-bottom: 0.4em;background-color: white;}#sk-container-id-1 div.sk-label label {font-family: monospace;font-weight: bold;display: inline-block;line-height: 1.2em;}#sk-container-id-1 div.sk-label-container {text-align: center;}#sk-container-id-1 div.sk-container {/* jupyter's `normalize.less` sets `[hidden] { display: none; }` but bootstrap.min.css set `[hidden] { display: none !important; }` so we also need the `!important` here to be able to override the default hidden behavior on the sphinx rendered scikit-learn.org. See: https://github.com/scikit-learn/scikit-learn/issues/21755 */display: inline-block !important;position: relative;}#sk-container-id-1 div.sk-text-repr-fallback {display: none;}</style><div id=\"sk-container-id-1\" class=\"sk-top-container\"><div class=\"sk-text-repr-fallback\"><pre>LogisticRegression(max_iter=200)</pre><b>In a Jupyter environment, please rerun this cell to show the HTML representation or trust the notebook. <br />On GitHub, the HTML representation is unable to render, please try loading this page with nbviewer.org.</b></div><div class=\"sk-container\" hidden><div class=\"sk-item\"><div class=\"sk-estimator sk-toggleable\"><input class=\"sk-toggleable__control sk-hidden--visually\" id=\"sk-estimator-id-1\" type=\"checkbox\" checked><label for=\"sk-estimator-id-1\" class=\"sk-toggleable__label sk-toggleable__label-arrow\">LogisticRegression</label><div class=\"sk-toggleable__content\"><pre>LogisticRegression(max_iter=200)</pre></div></div></div></div></div>"
      ],
      "text/plain": [
       "LogisticRegression(max_iter=200)"
      ]
     },
     "execution_count": 2,
     "metadata": {},
     "output_type": "execute_result"
    }
   ],
   "source": [
    "from sklearn.linear_model import LogisticRegression\n",
    "from sklearn.preprocessing import StandardScaler\n",
    "\n",
    "scaler = StandardScaler()\n",
    "\n",
    "X_train_scaled = scaler.fit_transform(X_train)\n",
    "X_test_scaled = scaler.transform(X_test)\n",
    "\n",
    "clf = LogisticRegression(max_iter=200)\n",
    "clf.fit(X_train, y_train)"
   ]
  },
  {
   "cell_type": "code",
   "execution_count": 3,
   "metadata": {},
   "outputs": [],
   "source": [
    "# Make the predictions\n",
    "y_pred = clf.predict(X_test)\n",
    "y_probs = clf.predict_proba(X_test)\n"
   ]
  },
  {
   "cell_type": "markdown",
   "metadata": {},
   "source": [
    "## 3. Error Analysis with FiftyOne"
   ]
  },
  {
   "cell_type": "code",
   "execution_count": 4,
   "metadata": {},
   "outputs": [],
   "source": [
    "#!pip install fiftyone"
   ]
  },
  {
   "cell_type": "code",
   "execution_count": 5,
   "metadata": {},
   "outputs": [],
   "source": [
    "import numpy as np\n",
    "import fiftyone as fo\n",
    "import fiftyone.brain as fob\n",
    "from fiftyone import ViewField as F\n",
    "from sklearn.decomposition import PCA"
   ]
  },
  {
   "cell_type": "code",
   "execution_count": 6,
   "metadata": {},
   "outputs": [],
   "source": [
    "DATASET_NAME = \"Iris_Error_Analysis\""
   ]
  },
  {
   "cell_type": "code",
   "execution_count": 15,
   "metadata": {},
   "outputs": [
    {
     "name": "stdout",
     "output_type": "stream",
     "text": [
      "['Iris_Error_Analysis']\n",
      "[]\n"
     ]
    }
   ],
   "source": [
    "# Delete dataset if already created one before\n",
    "# Make sure to close/stop the borwser app (CLI: Ctrl+C)\n",
    "print(fo.list_datasets())\n",
    "if DATASET_NAME in fo.list_datasets():\n",
    "    try:\n",
    "        fo.delete_dataset(DATASET_NAME)\n",
    "    except:\n",
    "        pass\n",
    "print(fo.list_datasets())"
   ]
  },
  {
   "cell_type": "code",
   "execution_count": 16,
   "metadata": {},
   "outputs": [],
   "source": [
    "# Optional: Compute embeddings: PCA\n",
    "pca = PCA(n_components=2)\n",
    "pca = pca.fit(X_train)\n",
    "pca_result = pca.transform(X_test)"
   ]
  },
  {
   "cell_type": "code",
   "execution_count": 17,
   "metadata": {},
   "outputs": [],
   "source": [
    "# Create a FiftyOne sample collection\n",
    "samples = []\n",
    "for true_label, predicted_label, probs, features, pca in zip(y_test, y_pred, y_probs, X_test, pca_result):\n",
    "    sample = fo.Sample(\n",
    "        filepath=\"none\",  # No image paths for the iris dataset\n",
    "        predictions=fo.Classification(\n",
    "            label=class_names[predicted_label], \n",
    "            confidence=max(probs),\n",
    "            logits=probs.tolist()\n",
    "        ),\n",
    "        ground_truth=fo.Classification(label=class_names[true_label]),\n",
    "        # Optional: features\n",
    "        sepal_length=features[0],\n",
    "        sepal_width=features[1],\n",
    "        petal_length=features[2],\n",
    "        petal_width=features[3],\n",
    "        # Optional: PCA embeddings\n",
    "        #pca_1=pca[0],\n",
    "        #pca_2=pca[1]\n",
    "        pca_embedding=pca.tolist()\n",
    "    )\n",
    "    samples.append(sample)"
   ]
  },
  {
   "cell_type": "code",
   "execution_count": 18,
   "metadata": {},
   "outputs": [
    {
     "name": "stdout",
     "output_type": "stream",
     "text": [
      " 100% |███████████████████| 45/45 [165.8ms elapsed, 0s remaining, 271.5 samples/s] \n"
     ]
    }
   ],
   "source": [
    "# Create a FiftyOne dataset\n",
    "dataset = fo.Dataset(name=DATASET_NAME)\n",
    "dataset = dataset.add_samples(samples)\n",
    "# After adding the samples to the dataset\n",
    "# we need to launch the UI -- see next section\n",
    "# http://localhost:5151"
   ]
  },
  {
   "cell_type": "code",
   "execution_count": 26,
   "metadata": {},
   "outputs": [
    {
     "data": {
      "text/plain": [
       "<fiftyone.brain.visualization.VisualizationResults at 0x232105660a0>"
      ]
     },
     "execution_count": 26,
     "metadata": {},
     "output_type": "execute_result"
    }
   ],
   "source": [
    "# Optional: Compute and visualize the PCA embeddings\n",
    "# \n",
    "dataset = fo.load_dataset(DATASET_NAME)\n",
    "fob.compute_visualization(dataset,\n",
    "                          points=pca_result,\n",
    "                          brain_key=\"pca_viz\")"
   ]
  },
  {
   "cell_type": "markdown",
   "metadata": {},
   "source": [
    "### Launch the App"
   ]
  },
  {
   "cell_type": "markdown",
   "metadata": {},
   "source": [
    "We can launch the FiftyOne UI in several ways; the two most common ways:\n",
    "\n",
    "1. With code in our environment:\n",
    "\n",
    "    ```python\n",
    "    session = fo.launch_app(dataset, desktop=True) # Browser: http://localhost:5151\n",
    "    session = fo.launch_app(dataset, desktop=False) # Embedded in Jupyter\n",
    "    ```\n",
    "\n",
    "2. In the CLI:\n",
    "\n",
    "    ```bash\n",
    "    # fiftyone app launch <dataset_name>\n",
    "    (label) fiftyone app launch \"Iris_Error_Analysis\"\n",
    "    # Browser: http://localhost:5151\n",
    "    ```"
   ]
  },
  {
   "cell_type": "code",
   "execution_count": 32,
   "metadata": {},
   "outputs": [],
   "source": [
    "# Launch the FiftyOne app\n",
    "#session = fo.launch_app(dataset, desktop=True) # Browser: http://localhost:5151\n",
    "#session = fo.launch_app(dataset, desktop=False) # Embedded in Jupyter"
   ]
  },
  {
   "cell_type": "markdown",
   "metadata": {},
   "source": [
    "### Basic Usage of the App"
   ]
  },
  {
   "cell_type": "markdown",
   "metadata": {},
   "source": [
    "- Left panel: select tags / labels / primitives (features added in code)\n",
    "- Main frame: we can visualize\n",
    "  - Samples\n",
    "  - Histograms\n",
    "  - Embeddings\n",
    "\n",
    "![Web UI](../assets/web_ui.png)"
   ]
  },
  {
   "cell_type": "markdown",
   "metadata": {},
   "source": []
  },
  {
   "cell_type": "code",
   "execution_count": null,
   "metadata": {},
   "outputs": [],
   "source": []
  }
 ],
 "metadata": {
  "kernelspec": {
   "display_name": "label",
   "language": "python",
   "name": "python3"
  },
  "language_info": {
   "codemirror_mode": {
    "name": "ipython",
    "version": 3
   },
   "file_extension": ".py",
   "mimetype": "text/x-python",
   "name": "python",
   "nbconvert_exporter": "python",
   "pygments_lexer": "ipython3",
   "version": "3.9.18"
  }
 },
 "nbformat": 4,
 "nbformat_minor": 2
}
