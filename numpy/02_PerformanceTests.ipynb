{
 "cells": [
  {
   "cell_type": "markdown",
   "metadata": {},
   "source": [
    "# Numpy: Performance and Other Tests"
   ]
  },
  {
   "cell_type": "markdown",
   "metadata": {},
   "source": [
    "Personal performance tests and other tests.\n",
    "\n",
    "See [mxagar/voxel_point_collision_detection/notebooks](https://github.com/mxagar/voxel_point_collision_detection/tree/main/notebooks)."
   ]
  }
 ],
 "metadata": {
  "language_info": {
   "name": "python"
  }
 },
 "nbformat": 4,
 "nbformat_minor": 2
}
