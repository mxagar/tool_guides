{
 "cells": [
  {
   "cell_type": "markdown",
   "metadata": {},
   "source": [
    "# Utilities"
   ]
  },
  {
   "cell_type": "markdown",
   "metadata": {},
   "source": [
    "This file creates a CSV of the image URLs. That CSV needs to be uploaded to Label Studio.\n",
    "The URLs point to the images of the desired dataset and they are served with the co-located `./serve_local_files.py`.\n",
    "Note that `SERVER_DIRECTORY` needs to be the same here and in `./serve_local_files.py`, pointing in both cases to the root folder were the paths are taken from."
   ]
  },
  {
   "cell_type": "code",
   "execution_count": 2,
   "metadata": {},
   "outputs": [],
   "source": [
    "import os\n",
    "import csv"
   ]
  },
  {
   "cell_type": "code",
   "execution_count": 19,
   "metadata": {},
   "outputs": [],
   "source": [
    "def list_image_files(directory, server_directory,  base_url=\"http://localhost:8000/\"):\n",
    "    \"\"\"\n",
    "    Recursively lists all image URLs from a local server for the images in the given directory and its subdirectories.\n",
    "\n",
    "    :param directory: Path to the directory.\n",
    "    :param server_directory: Path to the directory from which the server is started.\n",
    "    :return: List of URLs to image files served from a local server.\n",
    "    \"\"\"\n",
    "    \n",
    "    # List of common image extensions\n",
    "    image_extensions = ['.jpg', '.jpeg', '.png', '.bmp', '.gif', '.tiff', '.webp']\n",
    "\n",
    "    # Recursively walk through the directory\n",
    "    image_urls = []\n",
    "    for dirpath, _, filenames in os.walk(directory):\n",
    "        for filename in filenames:\n",
    "            if any(filename.lower().endswith(ext) for ext in image_extensions):\n",
    "                # Convert file path to a URL path\n",
    "                relative_path = os.path.relpath(os.path.join(dirpath, filename), server_directory)\n",
    "                web_path = relative_path.replace('\\\\', '/')\n",
    "                full_url = base_url + web_path\n",
    "                \n",
    "                image_urls.append(full_url)\n",
    "                \n",
    "    return image_urls"
   ]
  },
  {
   "cell_type": "code",
   "execution_count": 20,
   "metadata": {},
   "outputs": [],
   "source": [
    "def save_to_csv(image_paths, output_file):\n",
    "    \"\"\"\n",
    "    Save list of image paths to a CSV file.\n",
    "\n",
    "    :param image_paths: List of image paths.\n",
    "    :param output_file: Path to the output CSV file.\n",
    "    \"\"\"\n",
    "    with open(output_file, 'w', newline='') as csvfile:\n",
    "        csv_writer = csv.writer(csvfile)\n",
    "        csv_writer.writerow([\"image_path\"])  # Writing the header\n",
    "        for path in image_paths:\n",
    "            csv_writer.writerow([path])"
   ]
  },
  {
   "cell_type": "code",
   "execution_count": 21,
   "metadata": {},
   "outputs": [
    {
     "name": "stdout",
     "output_type": "stream",
     "text": [
      "['http://localhost:8000/flowers/test/Image_1.jpg', 'http://localhost:8000/flowers/test/Image_10.jpg', 'http://localhost:8000/flowers/test/Image_100.jpg', 'http://localhost:8000/flowers/test/Image_101.jpg', 'http://localhost:8000/flowers/test/Image_102.jpg']\n"
     ]
    }
   ],
   "source": [
    "DIRECTORY_PATH = 'C:/Users/Msagardi/git_repositories/tool_guides/labelstudio/data/flowers/test/'\n",
    "SERVER_DIRECTORY = 'C:/Users/Msagardi/git_repositories/tool_guides/labelstudio/data'\n",
    "image_paths = list_image_files(DIRECTORY_PATH, SERVER_DIRECTORY)\n",
    "print(image_paths[:5]) # ['http://localhost:8000/flowers/test/Image_1.jpg', 'http://localhost:8000/flowers/test/Image_10.jpg', ..."
   ]
  },
  {
   "cell_type": "code",
   "execution_count": 22,
   "metadata": {},
   "outputs": [],
   "source": [
    "output_csv_path = 'image_paths.csv'\n",
    "save_to_csv(image_paths, output_csv_path)"
   ]
  },
  {
   "cell_type": "code",
   "execution_count": 23,
   "metadata": {},
   "outputs": [],
   "source": [
    "# Now, in ./serve_local_files.py, we need to set\n",
    "#   SERVER_DIRECTORY\n",
    "# with the same path as here.\n",
    "# Then, we execute it:\n",
    "#   python serve_local_files.py\n",
    "# With that, we're going to get the images served in the URLs"
   ]
  },
  {
   "cell_type": "code",
   "execution_count": null,
   "metadata": {},
   "outputs": [],
   "source": []
  }
 ],
 "metadata": {
  "kernelspec": {
   "display_name": "ds",
   "language": "python",
   "name": "python3"
  },
  "language_info": {
   "codemirror_mode": {
    "name": "ipython",
    "version": 3
   },
   "file_extension": ".py",
   "mimetype": "text/x-python",
   "name": "python",
   "nbconvert_exporter": "python",
   "pygments_lexer": "ipython3",
   "version": "3.8.16"
  },
  "orig_nbformat": 4
 },
 "nbformat": 4,
 "nbformat_minor": 2
}
