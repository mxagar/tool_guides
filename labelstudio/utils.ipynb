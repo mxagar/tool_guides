{
 "cells": [
  {
   "cell_type": "markdown",
   "metadata": {},
   "source": [
    "# Utilities for Label Studio"
   ]
  },
  {
   "cell_type": "markdown",
   "metadata": {},
   "source": [
    "For a better understanding, follow the co-located [`README.md`](./README.md); this notebook is a companion of that general guide.\n",
    "\n",
    "Table of contents:\n",
    "\n",
    "- CSV/JSON Dataset for Import\n",
    "  - Pre-Annotated Dataset as JSON\n",
    "- API Usage"
   ]
  },
  {
   "cell_type": "code",
   "execution_count": 1,
   "metadata": {},
   "outputs": [
    {
     "data": {
      "text/plain": [
       "True"
      ]
     },
     "execution_count": 1,
     "metadata": {},
     "output_type": "execute_result"
    }
   ],
   "source": [
    "import os\n",
    "import csv\n",
    "import json\n",
    "import pandas as pd\n",
    "import random\n",
    "\n",
    "from dotenv import load_dotenv\n",
    "# Load .env file\n",
    "load_dotenv()"
   ]
  },
  {
   "cell_type": "code",
   "execution_count": 2,
   "metadata": {},
   "outputs": [],
   "source": [
    "# Access the LABEL_STUDIO_API_TOKEN\n",
    "LABEL_STUDIO_API_TOKEN = os.getenv(\"LABEL_STUDIO_API_TOKEN\")"
   ]
  },
  {
   "cell_type": "markdown",
   "metadata": {},
   "source": [
    "## CSV/JSON Dataset for Import"
   ]
  },
  {
   "cell_type": "markdown",
   "metadata": {},
   "source": [
    "This section shows how to create a CSV/JSON of the image URLs. Those CSV/JSON files need to be uploaded to Label Studio.\n",
    "The URLs point to the images of the desired dataset and they are served with the co-located `./serve_local_files.py`.\n",
    "Note that `SERVER_DIRECTORY` needs to be the same here and in `./serve_local_files.py`, pointing in both cases to the root folder were the paths are taken from.\n",
    "\n",
    "In the case of the JSON file, it contains pre-annotated data."
   ]
  },
  {
   "cell_type": "code",
   "execution_count": 19,
   "metadata": {},
   "outputs": [],
   "source": [
    "def list_image_files(directory, server_directory,  base_url=\"http://localhost:8000/\"):\n",
    "    \"\"\"\n",
    "    Recursively lists all image URLs from a local server for the images in the given directory and its subdirectories.\n",
    "\n",
    "    :param directory: Path to the directory.\n",
    "    :param server_directory: Path to the directory from which the server is started.\n",
    "    :return: List of URLs to image files served from a local server.\n",
    "    \"\"\"\n",
    "    \n",
    "    # List of common image extensions\n",
    "    image_extensions = ['.jpg', '.jpeg', '.png', '.bmp', '.gif', '.tiff', '.webp']\n",
    "\n",
    "    # Recursively walk through the directory\n",
    "    image_urls = []\n",
    "    for dirpath, _, filenames in os.walk(directory):\n",
    "        for filename in filenames:\n",
    "            if any(filename.lower().endswith(ext) for ext in image_extensions):\n",
    "                # Convert file path to a URL path\n",
    "                relative_path = os.path.relpath(os.path.join(dirpath, filename), server_directory)\n",
    "                web_path = relative_path.replace('\\\\', '/')\n",
    "                full_url = base_url + web_path\n",
    "                \n",
    "                image_urls.append(full_url)\n",
    "                \n",
    "    return image_urls"
   ]
  },
  {
   "cell_type": "code",
   "execution_count": 20,
   "metadata": {},
   "outputs": [],
   "source": [
    "def save_to_csv(image_paths, output_file):\n",
    "    \"\"\"\n",
    "    Save list of image paths to a CSV file.\n",
    "\n",
    "    :param image_paths: List of image paths.\n",
    "    :param output_file: Path to the output CSV file.\n",
    "    \"\"\"\n",
    "    with open(output_file, 'w', newline='') as csvfile:\n",
    "        csv_writer = csv.writer(csvfile)\n",
    "        csv_writer.writerow([\"image_path\"])  # Writing the header\n",
    "        for path in image_paths:\n",
    "            csv_writer.writerow([path])"
   ]
  },
  {
   "cell_type": "code",
   "execution_count": 21,
   "metadata": {},
   "outputs": [
    {
     "name": "stdout",
     "output_type": "stream",
     "text": [
      "['http://localhost:8000/flowers/test/Image_1.jpg', 'http://localhost:8000/flowers/test/Image_10.jpg', 'http://localhost:8000/flowers/test/Image_100.jpg', 'http://localhost:8000/flowers/test/Image_101.jpg', 'http://localhost:8000/flowers/test/Image_102.jpg']\n"
     ]
    }
   ],
   "source": [
    "DIRECTORY_PATH = 'C:/Users/Msagardi/git_repositories/tool_guides/labelstudio/data/flowers/test/'\n",
    "SERVER_DIRECTORY = 'C:/Users/Msagardi/git_repositories/tool_guides/labelstudio/data'\n",
    "image_paths = list_image_files(DIRECTORY_PATH, SERVER_DIRECTORY)\n",
    "print(image_paths[:5]) # ['http://localhost:8000/flowers/test/Image_1.jpg', 'http://localhost:8000/flowers/test/Image_10.jpg', ..."
   ]
  },
  {
   "cell_type": "code",
   "execution_count": 22,
   "metadata": {},
   "outputs": [],
   "source": [
    "output_csv_path = 'image_paths.csv'\n",
    "save_to_csv(image_paths, output_csv_path)"
   ]
  },
  {
   "cell_type": "code",
   "execution_count": 35,
   "metadata": {},
   "outputs": [],
   "source": [
    "# Now, in ./serve_local_files.py, we need to set\n",
    "#   SERVER_DIRECTORY\n",
    "# with the same path as here.\n",
    "# Then, we execute it:\n",
    "#   python serve_local_files.py\n",
    "# With that, we're going to get the images served in the URLs"
   ]
  },
  {
   "cell_type": "markdown",
   "metadata": {},
   "source": [
    "For reference, that `serve_local_files.py` contains the following code:\n",
    "\n",
    "```python\n",
    "from flask import Flask, send_from_directory\n",
    "from flask_cors import CORS\n",
    "\n",
    "SERVER_DIRECTORY = 'C:/Users/Msagardi/git_repositories/tool_guides/labelstudio/data/'\n",
    "\n",
    "app = Flask(__name__)\n",
    "CORS(app)  # This will enable CORS for all routes\n",
    "\n",
    "@app.route('/<path:path>')\n",
    "def serve_file(path):\n",
    "    return send_from_directory(SERVER_DIRECTORY, path)\n",
    "\n",
    "if __name__ == '__main__':\n",
    "    app.run(port=8000)\n",
    "\n",
    "```"
   ]
  },
  {
   "cell_type": "markdown",
   "metadata": {},
   "source": [
    "### Pre-Annotated Dataset as JSON"
   ]
  },
  {
   "cell_type": "code",
   "execution_count": 29,
   "metadata": {},
   "outputs": [],
   "source": [
    "def create_dataset_dataframe(image_paths):\n",
    "    \"\"\"\n",
    "    Create a DataFrame with given image paths, and two additional columns:\n",
    "    prediction and cluster.\n",
    "\n",
    "    :param image_paths: List of image URLs.\n",
    "    :return: DataFrame with columns: image_paths, prediction, cluster.\n",
    "    \"\"\"\n",
    "    \n",
    "    flower_types = ['daisy', 'dandelion', 'rose', 'sunflower', 'tulip']\n",
    "    predictions = [random.choice(flower_types) for _ in image_paths]\n",
    "    clusters = [random.randint(0, 5) for _ in image_paths]\n",
    "    \n",
    "    df = pd.DataFrame({\n",
    "        'image_paths': image_paths,\n",
    "        'prediction': predictions,\n",
    "        'cluster': clusters\n",
    "    })\n",
    "\n",
    "    return df\n",
    "\n",
    "df = create_dataset_dataframe(image_paths)"
   ]
  },
  {
   "cell_type": "code",
   "execution_count": 30,
   "metadata": {},
   "outputs": [
    {
     "data": {
      "text/html": [
       "<div>\n",
       "<style scoped>\n",
       "    .dataframe tbody tr th:only-of-type {\n",
       "        vertical-align: middle;\n",
       "    }\n",
       "\n",
       "    .dataframe tbody tr th {\n",
       "        vertical-align: top;\n",
       "    }\n",
       "\n",
       "    .dataframe thead th {\n",
       "        text-align: right;\n",
       "    }\n",
       "</style>\n",
       "<table border=\"1\" class=\"dataframe\">\n",
       "  <thead>\n",
       "    <tr style=\"text-align: right;\">\n",
       "      <th></th>\n",
       "      <th>image_paths</th>\n",
       "      <th>prediction</th>\n",
       "      <th>cluster</th>\n",
       "    </tr>\n",
       "  </thead>\n",
       "  <tbody>\n",
       "    <tr>\n",
       "      <th>0</th>\n",
       "      <td>http://localhost:8000/flowers/test/Image_1.jpg</td>\n",
       "      <td>sunflower</td>\n",
       "      <td>0</td>\n",
       "    </tr>\n",
       "    <tr>\n",
       "      <th>1</th>\n",
       "      <td>http://localhost:8000/flowers/test/Image_10.jpg</td>\n",
       "      <td>tulip</td>\n",
       "      <td>4</td>\n",
       "    </tr>\n",
       "    <tr>\n",
       "      <th>2</th>\n",
       "      <td>http://localhost:8000/flowers/test/Image_100.jpg</td>\n",
       "      <td>tulip</td>\n",
       "      <td>1</td>\n",
       "    </tr>\n",
       "    <tr>\n",
       "      <th>3</th>\n",
       "      <td>http://localhost:8000/flowers/test/Image_101.jpg</td>\n",
       "      <td>rose</td>\n",
       "      <td>0</td>\n",
       "    </tr>\n",
       "    <tr>\n",
       "      <th>4</th>\n",
       "      <td>http://localhost:8000/flowers/test/Image_102.jpg</td>\n",
       "      <td>daisy</td>\n",
       "      <td>2</td>\n",
       "    </tr>\n",
       "  </tbody>\n",
       "</table>\n",
       "</div>"
      ],
      "text/plain": [
       "                                        image_paths prediction  cluster\n",
       "0    http://localhost:8000/flowers/test/Image_1.jpg  sunflower        0\n",
       "1   http://localhost:8000/flowers/test/Image_10.jpg      tulip        4\n",
       "2  http://localhost:8000/flowers/test/Image_100.jpg      tulip        1\n",
       "3  http://localhost:8000/flowers/test/Image_101.jpg       rose        0\n",
       "4  http://localhost:8000/flowers/test/Image_102.jpg      daisy        2"
      ]
     },
     "execution_count": 30,
     "metadata": {},
     "output_type": "execute_result"
    }
   ],
   "source": [
    "df.head()"
   ]
  },
  {
   "cell_type": "code",
   "execution_count": 32,
   "metadata": {},
   "outputs": [],
   "source": [
    "def save_to_json_preannotated(df, output_filepath):\n",
    "    \"\"\"\n",
    "    Save DataFrame to a JSON file suitable for importing into Label Studio.\n",
    "\n",
    "    :param df: DataFrame with columns: image_paths, prediction, cluster.\n",
    "    :param output_filepath: Path to the output JSON file.\n",
    "    \"\"\"\n",
    "    \n",
    "    output_data = []\n",
    "\n",
    "    for _, row in df.iterrows():\n",
    "        item = {\n",
    "            \"data\": {\n",
    "                \"image_path\": row['image_paths'],\n",
    "                \"cluster\": row['cluster']  # can be accessed in the Filters!\n",
    "            },\n",
    "            \"predictions\": [\n",
    "                {\n",
    "                    \"result\": [\n",
    "                        {\n",
    "                            \"from_name\": \"class\",\n",
    "                            \"to_name\": \"image\",\n",
    "                            \"type\": \"choices\",\n",
    "                            \"value\": {\n",
    "                                \"choices\": [row['prediction']]\n",
    "                            }\n",
    "                        }\n",
    "                    ]\n",
    "                }\n",
    "            ]\n",
    "        }\n",
    "        output_data.append(item)\n",
    "    \n",
    "    with open(output_filepath, 'w') as outfile:\n",
    "        json.dump(output_data, outfile, indent=4)\n",
    "\n",
    "\n",
    "output_filepath = \"images_paths_preannotated.json\"\n",
    "save_to_json_preannotated(df, output_filepath)"
   ]
  },
  {
   "cell_type": "markdown",
   "metadata": {},
   "source": [
    "## API Usage"
   ]
  },
  {
   "cell_type": "code",
   "execution_count": null,
   "metadata": {},
   "outputs": [],
   "source": []
  }
 ],
 "metadata": {
  "kernelspec": {
   "display_name": "ds",
   "language": "python",
   "name": "python3"
  },
  "language_info": {
   "codemirror_mode": {
    "name": "ipython",
    "version": 3
   },
   "file_extension": ".py",
   "mimetype": "text/x-python",
   "name": "python",
   "nbconvert_exporter": "python",
   "pygments_lexer": "ipython3",
   "version": "3.9.18"
  },
  "orig_nbformat": 4
 },
 "nbformat": 4,
 "nbformat_minor": 2
}
