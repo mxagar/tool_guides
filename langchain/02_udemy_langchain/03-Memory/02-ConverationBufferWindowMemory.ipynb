{
 "cells": [
  {
   "cell_type": "markdown",
   "id": "bcded1a6-2430-4707-a78c-c82f4c5ee6fc",
   "metadata": {},
   "source": [
    "<a href = \"https://www.pieriantraining.com\"><img src=\"../PT Centered Purple.png\"> </a>\n",
    "\n",
    "<em style=\"text-align:center\">Copyrighted by Pierian Training</em>"
   ]
  },
  {
   "cell_type": "markdown",
   "id": "728f1747-b8fc-4d31-96c2-047fc83c079d",
   "metadata": {},
   "source": [
    "#  ConversationBufferWindowMemory"
   ]
  },
  {
   "cell_type": "code",
   "execution_count": 1,
   "id": "c7ab581e",
   "metadata": {},
   "outputs": [],
   "source": [
    "import os\n",
    "from dotenv import load_dotenv\n",
    "\n",
    "# Load environment variables\n",
    "load_dotenv()\n",
    "\n",
    "# Load the OpenAI API key\n",
    "api_key = os.getenv(\"OPENAI_API_KEY\")"
   ]
  },
  {
   "cell_type": "code",
   "execution_count": 2,
   "id": "261e60bc-9653-4acf-91fe-d088f49d494a",
   "metadata": {},
   "outputs": [],
   "source": [
    "from langchain_openai import ChatOpenAI\n",
    "from langchain.chains import ConversationChain\n",
    "from langchain.memory import ConversationBufferMemory\n",
    "from langchain.memory import ConversationBufferWindowMemory"
   ]
  },
  {
   "cell_type": "code",
   "execution_count": 4,
   "id": "4c741139-a54e-46c9-af29-2ba64f914f15",
   "metadata": {},
   "outputs": [],
   "source": [
    "llm = ChatOpenAI(temperature=0.0)\n",
    "# ConversationBufferWindowMemory is very similar to ConversationBufferMemory\n",
    "# but it has a limited k window size for the number of interaction items \n",
    "# that are recalled, being k a parameter set by the user\n",
    "# Here, only one item is remembered\n",
    "memory = ConversationBufferWindowMemory(k=1)"
   ]
  },
  {
   "cell_type": "markdown",
   "id": "bea4a9b5-e52c-44a1-a8c2-6d1c3eed2f1a",
   "metadata": {},
   "source": [
    "## Connect Conversation to Memory"
   ]
  },
  {
   "cell_type": "code",
   "execution_count": 6,
   "id": "ad3336a7-d2ff-4c7d-bd28-f55f45367608",
   "metadata": {},
   "outputs": [],
   "source": [
    "# ConversationChain links a LLM/chat and a memory object\n",
    "# WARNING: ConversationChain is deprecated and will be removed in LangChain 1.0\n",
    "# Instead, use RunnableWithMessageHistory\n",
    "# which is quite different...\n",
    "# https://api.python.langchain.com/en/latest/runnables/langchain_core.runnables.history.RunnableWithMessageHistory.html\n",
    "conversation = ConversationChain(\n",
    "    llm=llm, \n",
    "    memory=memory,\n",
    "    verbose=True\n",
    ")"
   ]
  },
  {
   "cell_type": "code",
   "execution_count": 7,
   "id": "c3443ca2-3ce9-4d4e-9775-c634e8b36832",
   "metadata": {},
   "outputs": [
    {
     "name": "stdout",
     "output_type": "stream",
     "text": [
      "\n",
      "\n",
      "\u001b[1m> Entering new ConversationChain chain...\u001b[0m\n",
      "Prompt after formatting:\n",
      "\u001b[32;1m\u001b[1;3mThe following is a friendly conversation between a human and an AI. The AI is talkative and provides lots of specific details from its context. If the AI does not know the answer to a question, it truthfully says it does not know.\n",
      "\n",
      "Current conversation:\n",
      "\n",
      "Human: Hello, nice to meet you!\n",
      "AI:\u001b[0m\n",
      "\n",
      "\u001b[1m> Finished chain.\u001b[0m\n"
     ]
    },
    {
     "data": {
      "text/plain": [
       "{'input': 'Hello, nice to meet you!',\n",
       " 'history': '',\n",
       " 'response': \"Hello! It's nice to meet you too. I am an AI designed to assist with any questions or tasks you may have. How can I help you today?\"}"
      ]
     },
     "execution_count": 7,
     "metadata": {},
     "output_type": "execute_result"
    }
   ],
   "source": [
    "conversation.invoke(input=\"Hello, nice to meet you!\")"
   ]
  },
  {
   "cell_type": "code",
   "execution_count": 8,
   "id": "dce17805-aa75-4f56-832b-12272b389210",
   "metadata": {},
   "outputs": [
    {
     "name": "stdout",
     "output_type": "stream",
     "text": [
      "Human: Hello, nice to meet you!\n",
      "AI: Hello! It's nice to meet you too. I am an AI designed to assist with any questions or tasks you may have. How can I help you today?\n"
     ]
    }
   ],
   "source": [
    "print(memory.buffer)"
   ]
  },
  {
   "cell_type": "code",
   "execution_count": 9,
   "id": "da9fe5b3-1b52-4611-bf67-ee81a251053f",
   "metadata": {},
   "outputs": [],
   "source": [
    "memory.save_context({\"input\": \"Very Interesting.\"}, \n",
    "                    {\"output\": \"Yes, it was my pleasure as an AI to answer.\"})"
   ]
  },
  {
   "cell_type": "code",
   "execution_count": 10,
   "id": "228792b0-afd2-46c3-bb5d-c3ed48fec31b",
   "metadata": {},
   "outputs": [
    {
     "data": {
      "text/plain": [
       "{'history': 'Human: Very Interesting.\\nAI: Yes, it was my pleasure as an AI to answer.'}"
      ]
     },
     "execution_count": 10,
     "metadata": {},
     "output_type": "execute_result"
    }
   ],
   "source": [
    "# NOTE: load_memory_variables() loads/shows the history\n",
    "memory.load_memory_variables({})"
   ]
  },
  {
   "cell_type": "markdown",
   "id": "c830185f-9b6d-4083-a875-e9a03a305cb1",
   "metadata": {},
   "source": [
    "K is the limitation to number of exchanges!"
   ]
  },
  {
   "cell_type": "markdown",
   "id": "db4313cd",
   "metadata": {},
   "source": []
  },
  {
   "cell_type": "markdown",
   "id": "0a9f1979",
   "metadata": {},
   "source": []
  },
  {
   "cell_type": "markdown",
   "id": "2c9885ba",
   "metadata": {},
   "source": []
  }
 ],
 "metadata": {
  "kernelspec": {
   "display_name": "Python 3 (ipykernel)",
   "language": "python",
   "name": "python3"
  },
  "language_info": {
   "codemirror_mode": {
    "name": "ipython",
    "version": 3
   },
   "file_extension": ".py",
   "mimetype": "text/x-python",
   "name": "python",
   "nbconvert_exporter": "python",
   "pygments_lexer": "ipython3",
   "version": "3.9.18"
  }
 },
 "nbformat": 4,
 "nbformat_minor": 5
}
