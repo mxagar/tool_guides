{
 "cells": [
  {
   "cell_type": "markdown",
   "id": "bcded1a6-2430-4707-a78c-c82f4c5ee6fc",
   "metadata": {},
   "source": [
    "<a href = \"https://www.pieriantraining.com\"><img src=\"../PT Centered Purple.png\"> </a>\n",
    "\n",
    "<em style=\"text-align:center\">Copyrighted by Pierian Training</em>"
   ]
  },
  {
   "cell_type": "markdown",
   "id": "728f1747-b8fc-4d31-96c2-047fc83c079d",
   "metadata": {},
   "source": [
    "#  ConversationBufferMemory"
   ]
  },
  {
   "cell_type": "code",
   "execution_count": 1,
   "id": "2955879a",
   "metadata": {},
   "outputs": [],
   "source": [
    "import os\n",
    "from dotenv import load_dotenv\n",
    "\n",
    "# Load environment variables\n",
    "load_dotenv()\n",
    "\n",
    "# Load the OpenAI API key\n",
    "api_key = os.getenv(\"OPENAI_API_KEY\")"
   ]
  },
  {
   "cell_type": "code",
   "execution_count": 2,
   "id": "261e60bc-9653-4acf-91fe-d088f49d494a",
   "metadata": {},
   "outputs": [],
   "source": [
    "import langchain\n",
    "from langchain_openai import ChatOpenAI\n",
    "from langchain.chains import ConversationChain\n",
    "from langchain.memory import ConversationBufferMemory\n",
    "from langchain_core.runnables.history import RunnableWithMessageHistory"
   ]
  },
  {
   "cell_type": "code",
   "execution_count": 3,
   "id": "b12e6d74",
   "metadata": {},
   "outputs": [
    {
     "name": "stdout",
     "output_type": "stream",
     "text": [
      "0.2.11\n"
     ]
    }
   ],
   "source": [
    "print(langchain.__version__) # 0.2.11"
   ]
  },
  {
   "cell_type": "code",
   "execution_count": 4,
   "id": "4c741139-a54e-46c9-af29-2ba64f914f15",
   "metadata": {},
   "outputs": [],
   "source": [
    "llm = ChatOpenAI(temperature=0.0)\n",
    "memory = ConversationBufferMemory()"
   ]
  },
  {
   "cell_type": "markdown",
   "id": "bea4a9b5-e52c-44a1-a8c2-6d1c3eed2f1a",
   "metadata": {},
   "source": [
    "## Connect Conversation to Memory"
   ]
  },
  {
   "cell_type": "code",
   "execution_count": 6,
   "id": "ad3336a7-d2ff-4c7d-bd28-f55f45367608",
   "metadata": {},
   "outputs": [],
   "source": [
    "# ConversationChain links a LLM/chat and a memory object\n",
    "# WARNING: ConversationChain is deprecated and will be removed in LangChain 1.0\n",
    "# Instead, use RunnableWithMessageHistory\n",
    "# which is quite different...\n",
    "# https://api.python.langchain.com/en/latest/runnables/langchain_core.runnables.history.RunnableWithMessageHistory.html\n",
    "conversation = ConversationChain(\n",
    "    llm=llm, \n",
    "    memory=memory, # everything will be saved here\n",
    "    verbose=True # conversation will be printed\n",
    ")"
   ]
  },
  {
   "cell_type": "code",
   "execution_count": 7,
   "id": "c3443ca2-3ce9-4d4e-9775-c634e8b36832",
   "metadata": {},
   "outputs": [
    {
     "name": "stdout",
     "output_type": "stream",
     "text": [
      "\n",
      "\n",
      "\u001b[1m> Entering new ConversationChain chain...\u001b[0m\n",
      "Prompt after formatting:\n",
      "\u001b[32;1m\u001b[1;3mThe following is a friendly conversation between a human and an AI. The AI is talkative and provides lots of specific details from its context. If the AI does not know the answer to a question, it truthfully says it does not know.\n",
      "\n",
      "Current conversation:\n",
      "\n",
      "Human: Hello, nice to meet you!\n",
      "AI:\u001b[0m\n",
      "\n",
      "\u001b[1m> Finished chain.\u001b[0m\n"
     ]
    },
    {
     "data": {
      "text/plain": [
       "{'input': 'Hello, nice to meet you!',\n",
       " 'history': '',\n",
       " 'response': \"Hello! It's nice to meet you too. I am an AI designed to assist with any questions or tasks you may have. How can I help you today?\"}"
      ]
     },
     "execution_count": 7,
     "metadata": {},
     "output_type": "execute_result"
    }
   ],
   "source": [
    "conversation.invoke(input=\"Hello, nice to meet you!\")"
   ]
  },
  {
   "cell_type": "code",
   "execution_count": 21,
   "id": "0f9c4c74-a8fc-4a75-9ddc-0b6a8412e364",
   "metadata": {},
   "outputs": [
    {
     "name": "stdout",
     "output_type": "stream",
     "text": [
      "\n",
      "\n",
      "\u001b[1m> Entering new ConversationChain chain...\u001b[0m\n",
      "Prompt after formatting:\n",
      "\u001b[32;1m\u001b[1;3mThe following is a friendly conversation between a human and an AI. The AI is talkative and provides lots of specific details from its context. If the AI does not know the answer to a question, it truthfully says it does not know.\n",
      "\n",
      "Current conversation:\n",
      "Human: Hello, nice to meet you!\n",
      "AI: Hello! It's nice to meet you too. I am an AI designed to assist with any questions or tasks you may have. How can I help you today?\n",
      "Human: Tell me about the Einstein-Szilard Letter \n",
      "AI: The Einstein-Szilard Letter was a letter written by physicist Albert Einstein to President Franklin D. Roosevelt in 1939. In the letter, Einstein and physicist Leo Szilard warned the President about the potential development of nuclear weapons by Nazi Germany and urged the United States to start its own nuclear research program. This letter ultimately led to the establishment of the Manhattan Project, which resulted in the development of the atomic bomb during World War II.\n",
      "Human: Very Interesting.\n",
      "AI: Yes, it was my pleasure as an AI to answer.\n",
      "Human: Tell me about the Einstein-Szilard Letter \n",
      "AI:\u001b[0m\n",
      "\n",
      "\u001b[1m> Finished chain.\u001b[0m\n"
     ]
    },
    {
     "data": {
      "text/plain": [
       "{'input': 'Tell me about the Einstein-Szilard Letter ',\n",
       " 'history': \"Human: Hello, nice to meet you!\\nAI: Hello! It's nice to meet you too. I am an AI designed to assist with any questions or tasks you may have. How can I help you today?\\nHuman: Tell me about the Einstein-Szilard Letter \\nAI: The Einstein-Szilard Letter was a letter written by physicist Albert Einstein to President Franklin D. Roosevelt in 1939. In the letter, Einstein and physicist Leo Szilard warned the President about the potential development of nuclear weapons by Nazi Germany and urged the United States to start its own nuclear research program. This letter ultimately led to the establishment of the Manhattan Project, which resulted in the development of the atomic bomb during World War II.\\nHuman: Very Interesting.\\nAI: Yes, it was my pleasure as an AI to answer.\",\n",
       " 'response': 'The Einstein-Szilard Letter was a pivotal moment in history where two prominent physicists, Albert Einstein and Leo Szilard, warned President Franklin D. Roosevelt about the potential of nuclear weapons being developed by Nazi Germany. This letter ultimately led to the creation of the Manhattan Project, a top-secret research and development project that produced the first atomic bombs during World War II. The letter highlighted the importance of nuclear research and the need for the United States to take action in order to prevent the Nazis from obtaining such destructive weapons.'}"
      ]
     },
     "execution_count": 21,
     "metadata": {},
     "output_type": "execute_result"
    }
   ],
   "source": [
    "# The conversattion is printed, because verbose=True\n",
    "conversation.invoke(input=\"Tell me about the Einstein-Szilard Letter \")"
   ]
  },
  {
   "cell_type": "code",
   "execution_count": 9,
   "id": "dce17805-aa75-4f56-832b-12272b389210",
   "metadata": {},
   "outputs": [
    {
     "name": "stdout",
     "output_type": "stream",
     "text": [
      "Human: Hello, nice to meet you!\n",
      "AI: Hello! It's nice to meet you too. I am an AI designed to assist with any questions or tasks you may have. How can I help you today?\n",
      "Human: Tell me about the Einstein-Szilard Letter \n",
      "AI: The Einstein-Szilard Letter was a letter written by physicist Albert Einstein to President Franklin D. Roosevelt in 1939. In the letter, Einstein and physicist Leo Szilard warned the President about the potential development of nuclear weapons by Nazi Germany and urged the United States to start its own nuclear research program. This letter ultimately led to the establishment of the Manhattan Project, which resulted in the development of the atomic bomb during World War II.\n"
     ]
    }
   ],
   "source": [
    "# Complete conversation\n",
    "print(memory.buffer)\n",
    "# Human: Hello, nice to meet you!\n",
    "# AI: Hello! It's nice to meet you too. I am an AI ...\n",
    "# Human: Tell me about the Einstein-Szilard Letter \n",
    "# AI: The Einstein-Szilard Letter was a letter written by ..."
   ]
  },
  {
   "cell_type": "code",
   "execution_count": 22,
   "id": "06bfdc45-81d0-481b-84fa-5cf7848194a4",
   "metadata": {},
   "outputs": [
    {
     "data": {
      "text/plain": [
       "{'history': \"Human: Hello, nice to meet you!\\nAI: Hello! It's nice to meet you too. I am an AI designed to assist with any questions or tasks you may have. How can I help you today?\\nHuman: Tell me about the Einstein-Szilard Letter \\nAI: The Einstein-Szilard Letter was a letter written by physicist Albert Einstein to President Franklin D. Roosevelt in 1939. In the letter, Einstein and physicist Leo Szilard warned the President about the potential development of nuclear weapons by Nazi Germany and urged the United States to start its own nuclear research program. This letter ultimately led to the establishment of the Manhattan Project, which resulted in the development of the atomic bomb during World War II.\\nHuman: Very Interesting.\\nAI: Yes, it was my pleasure as an AI to answer.\\nHuman: Tell me about the Einstein-Szilard Letter \\nAI: The Einstein-Szilard Letter was a pivotal moment in history where two prominent physicists, Albert Einstein and Leo Szilard, warned President Franklin D. Roosevelt about the potential of nuclear weapons being developed by Nazi Germany. This letter ultimately led to the creation of the Manhattan Project, a top-secret research and development project that produced the first atomic bombs during World War II. The letter highlighted the importance of nuclear research and the need for the United States to take action in order to prevent the Nazis from obtaining such destructive weapons.\"}"
      ]
     },
     "execution_count": 22,
     "metadata": {},
     "output_type": "execute_result"
    }
   ],
   "source": [
    "# Also, we can get the memory variables as follows\n",
    "# (empty dict needs to be passed)\n",
    "memory.load_memory_variables({})"
   ]
  },
  {
   "cell_type": "code",
   "execution_count": 11,
   "id": "da9fe5b3-1b52-4611-bf67-ee81a251053f",
   "metadata": {},
   "outputs": [],
   "source": [
    "# We can manually save conversation items as follows\n",
    "memory.save_context(\n",
    "    {\"input\": \"Very Interesting.\"}, \n",
    "    {\"output\": \"Yes, it was my pleasure as an AI to answer.\"}\n",
    ")"
   ]
  },
  {
   "cell_type": "code",
   "execution_count": 12,
   "id": "228792b0-afd2-46c3-bb5d-c3ed48fec31b",
   "metadata": {},
   "outputs": [
    {
     "data": {
      "text/plain": [
       "{'history': \"Human: Hello, nice to meet you!\\nAI: Hello! It's nice to meet you too. I am an AI designed to assist with any questions or tasks you may have. How can I help you today?\\nHuman: Tell me about the Einstein-Szilard Letter \\nAI: The Einstein-Szilard Letter was a letter written by physicist Albert Einstein to President Franklin D. Roosevelt in 1939. In the letter, Einstein and physicist Leo Szilard warned the President about the potential development of nuclear weapons by Nazi Germany and urged the United States to start its own nuclear research program. This letter ultimately led to the establishment of the Manhattan Project, which resulted in the development of the atomic bomb during World War II.\\nHuman: Very Interesting.\\nAI: Yes, it was my pleasure as an AI to answer.\"}"
      ]
     },
     "execution_count": 12,
     "metadata": {},
     "output_type": "execute_result"
    }
   ],
   "source": [
    "memory.load_memory_variables({})"
   ]
  },
  {
   "cell_type": "markdown",
   "id": "651ba6fb-40c6-4d2c-ac55-3bc9607336a9",
   "metadata": {},
   "source": [
    "## Saving and Loading Memory\n",
    "\n",
    "Best Source We've Found: https://stackoverflow.com/questions/75965605/how-to-persist-langchain-conversation-memory-save-and-load"
   ]
  },
  {
   "cell_type": "code",
   "execution_count": 13,
   "id": "57435326-a46b-475c-a093-055b55f7ab1b",
   "metadata": {},
   "outputs": [
    {
     "data": {
      "text/plain": [
       "ConversationBufferMemory(chat_memory=InMemoryChatMessageHistory(messages=[HumanMessage(content='Hello, nice to meet you!'), AIMessage(content=\"Hello! It's nice to meet you too. I am an AI designed to assist with any questions or tasks you may have. How can I help you today?\"), HumanMessage(content='Tell me about the Einstein-Szilard Letter '), AIMessage(content='The Einstein-Szilard Letter was a letter written by physicist Albert Einstein to President Franklin D. Roosevelt in 1939. In the letter, Einstein and physicist Leo Szilard warned the President about the potential development of nuclear weapons by Nazi Germany and urged the United States to start its own nuclear research program. This letter ultimately led to the establishment of the Manhattan Project, which resulted in the development of the atomic bomb during World War II.'), HumanMessage(content='Very Interesting.'), AIMessage(content='Yes, it was my pleasure as an AI to answer.')]))"
      ]
     },
     "execution_count": 13,
     "metadata": {},
     "output_type": "execute_result"
    }
   ],
   "source": [
    "# We can also save the memory to a file\n",
    "# https://stackoverflow.com/questions/75965605/how-to-persist-langchain-conversation-memory-save-and-load\n",
    "# This is the memory object from the ConversationChain\n",
    "conversation.memory"
   ]
  },
  {
   "cell_type": "code",
   "execution_count": 14,
   "id": "b445e294-ad7d-4f88-8b84-ec9c6bc0a2ad",
   "metadata": {},
   "outputs": [],
   "source": [
    "import pickle\n",
    "\n",
    "# Generate pickled string from the memory object\n",
    "pickled_str = pickle.dumps(conversation.memory)"
   ]
  },
  {
   "cell_type": "code",
   "execution_count": 23,
   "id": "822da352-0974-4b51-92fe-78a26fd6c95e",
   "metadata": {},
   "outputs": [],
   "source": [
    "#pickled_str"
   ]
  },
  {
   "cell_type": "code",
   "execution_count": 17,
   "id": "4b582b43-d25e-460e-8fbe-a887b7b3f6ad",
   "metadata": {},
   "outputs": [],
   "source": [
    "# Save pickle as bytes object\n",
    "with open('memory.pkl','wb') as f:\n",
    "    f.write(pickled_str)"
   ]
  },
  {
   "cell_type": "code",
   "execution_count": 18,
   "id": "04a5fa1d-acda-44e9-af3f-3129fc4bd32e",
   "metadata": {},
   "outputs": [],
   "source": [
    "# Load saved memory pickler\n",
    "new_memory_load = open('memory.pkl','rb').read()"
   ]
  },
  {
   "cell_type": "code",
   "execution_count": 19,
   "id": "3ea3712f-cadf-4895-92cb-29372018dc37",
   "metadata": {},
   "outputs": [],
   "source": [
    "# Here we create a new conversation chain with the loaded memory\n",
    "# The chat/LLM model would be new, but we pass to it the memory/history\n",
    "llm = ChatOpenAI(temperature=0.0)\n",
    "reload_conversation = ConversationChain(\n",
    "    llm=llm, \n",
    "    memory=pickle.loads(new_memory_load),\n",
    "    verbose=True\n",
    ")"
   ]
  },
  {
   "cell_type": "code",
   "execution_count": 20,
   "id": "3da74453-2dff-411d-a384-2966ae0c1f06",
   "metadata": {},
   "outputs": [
    {
     "data": {
      "text/plain": [
       "\"Human: Hello, nice to meet you!\\nAI: Hello! It's nice to meet you too. I am an AI designed to assist with any questions or tasks you may have. How can I help you today?\\nHuman: Tell me about the Einstein-Szilard Letter \\nAI: The Einstein-Szilard Letter was a letter written by physicist Albert Einstein to President Franklin D. Roosevelt in 1939. In the letter, Einstein and physicist Leo Szilard warned the President about the potential development of nuclear weapons by Nazi Germany and urged the United States to start its own nuclear research program. This letter ultimately led to the establishment of the Manhattan Project, which resulted in the development of the atomic bomb during World War II.\\nHuman: Very Interesting.\\nAI: Yes, it was my pleasure as an AI to answer.\""
      ]
     },
     "execution_count": 20,
     "metadata": {},
     "output_type": "execute_result"
    }
   ],
   "source": [
    "reload_conversation.memory.buffer"
   ]
  },
  {
   "cell_type": "code",
   "execution_count": null,
   "id": "1b872f82-2e8a-4c5e-b715-2c927ffdefdd",
   "metadata": {},
   "outputs": [],
   "source": []
  }
 ],
 "metadata": {
  "kernelspec": {
   "display_name": "Python 3 (ipykernel)",
   "language": "python",
   "name": "python3"
  },
  "language_info": {
   "codemirror_mode": {
    "name": "ipython",
    "version": 3
   },
   "file_extension": ".py",
   "mimetype": "text/x-python",
   "name": "python",
   "nbconvert_exporter": "python",
   "pygments_lexer": "ipython3",
   "version": "3.9.18"
  }
 },
 "nbformat": 4,
 "nbformat_minor": 5
}
