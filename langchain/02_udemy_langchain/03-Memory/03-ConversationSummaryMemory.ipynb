{
 "cells": [
  {
   "cell_type": "markdown",
   "id": "bcded1a6-2430-4707-a78c-c82f4c5ee6fc",
   "metadata": {},
   "source": [
    "<a href = \"https://www.pieriantraining.com\"><img src=\"../PT Centered Purple.png\"> </a>\n",
    "\n",
    "<em style=\"text-align:center\">Copyrighted by Pierian Training</em>"
   ]
  },
  {
   "cell_type": "markdown",
   "id": "728f1747-b8fc-4d31-96c2-047fc83c079d",
   "metadata": {},
   "source": [
    "#  ConversationSummaryMemory"
   ]
  },
  {
   "cell_type": "code",
   "execution_count": 1,
   "id": "e3af2373",
   "metadata": {},
   "outputs": [],
   "source": [
    "import os\n",
    "from dotenv import load_dotenv\n",
    "\n",
    "# Load environment variables\n",
    "load_dotenv()\n",
    "\n",
    "# Load the OpenAI API key\n",
    "api_key = os.getenv(\"OPENAI_API_KEY\")"
   ]
  },
  {
   "cell_type": "code",
   "execution_count": 2,
   "id": "261e60bc-9653-4acf-91fe-d088f49d494a",
   "metadata": {},
   "outputs": [],
   "source": [
    "from langchain_openai import ChatOpenAI\n",
    "from langchain.memory import ConversationSummaryBufferMemory"
   ]
  },
  {
   "cell_type": "code",
   "execution_count": 9,
   "id": "4c741139-a54e-46c9-af29-2ba64f914f15",
   "metadata": {},
   "outputs": [],
   "source": [
    "llm = ChatOpenAI(temperature=0.0)"
   ]
  },
  {
   "cell_type": "code",
   "execution_count": 10,
   "id": "efb997dd-caac-4483-9d70-cb53fedb7183",
   "metadata": {},
   "outputs": [],
   "source": [
    "# Create a Long string that will break a token limit, causing the need for a summary\n",
    "trip_plans = '''Oh, this weekend I'm actually planning a trip to Yellowstone National\n",
    "Park! I'm super excited about it! I'll be starting off by driving through\n",
    "the grand entrance and soaking in the stunning scenery. My first stop will\n",
    "be the famous Old Faithful Geyser to catch its incredible eruptions.\n",
    "Then, I'll wander around the Upper Geyser Basin on the boardwalks to \n",
    "check out all those cool geothermal features. And guess what? I'll \n",
    "be wrapping up the day with a relaxing dip in the Boiling River, \n",
    "a natural hot spring. Can't wait to unwind and enjoy the beauty of \n",
    "nature! So yeah, that's my weekend plan. How about you?'''"
   ]
  },
  {
   "cell_type": "code",
   "execution_count": 11,
   "id": "2cf7d584-61b2-4d5a-8158-4e7870e399bf",
   "metadata": {},
   "outputs": [],
   "source": [
    "# Here, we link a chat/LLM to the memory\n",
    "# and specify the max number of tokens\n",
    "# in the summrized response that the model\n",
    "# will generate\n",
    "memory = ConversationSummaryBufferMemory(\n",
    "    llm=llm,\n",
    "    max_token_limit=100\n",
    ")"
   ]
  },
  {
   "cell_type": "code",
   "execution_count": 12,
   "id": "aea93b0f-6caf-423e-9308-af0231ac6872",
   "metadata": {},
   "outputs": [],
   "source": [
    "memory.save_context({\"input\": \"Hello\"}, {\"output\": \"Hi!\"})\n",
    "memory.save_context({\"input\": \"What plans do you have this weekend?\"}, \n",
    "                    {\"output\": f\"{trip_plans}\"})"
   ]
  },
  {
   "cell_type": "code",
   "execution_count": 13,
   "id": "9a3f219b-7d5e-49c9-b4bf-79ab0a95cc25",
   "metadata": {},
   "outputs": [
    {
     "data": {
      "text/plain": [
       "{'history': 'System: The human greets the AI and asks about its weekend plans. The AI excitedly shares that it is planning a trip to Yellowstone National Park, detailing its itinerary from visiting Old Faithful Geyser to relaxing in the Boiling River. The AI then asks the human about their weekend plans.'}"
      ]
     },
     "execution_count": 13,
     "metadata": {},
     "output_type": "execute_result"
    }
   ],
   "source": [
    "# load_memory_variables() shows the history\n",
    "# here, the history is summarized!\n",
    "memory.load_memory_variables({})\n",
    "# {'history': 'System: The human greets the AI and asks about its weekend plans. \n",
    "#  The AI excitedly shares that it is planning a trip to Yellowstone National Park, \n",
    "#  detailing its itinerary from visiting Old Faithful Geyser to relaxing in the Boiling River. \n",
    "#  The AI then asks the human about their weekend plans.'}"
   ]
  },
  {
   "cell_type": "markdown",
   "id": "116ff2cc",
   "metadata": {},
   "source": []
  }
 ],
 "metadata": {
  "kernelspec": {
   "display_name": "Python 3 (ipykernel)",
   "language": "python",
   "name": "python3"
  },
  "language_info": {
   "codemirror_mode": {
    "name": "ipython",
    "version": 3
   },
   "file_extension": ".py",
   "mimetype": "text/x-python",
   "name": "python",
   "nbconvert_exporter": "python",
   "pygments_lexer": "ipython3",
   "version": "3.9.18"
  }
 },
 "nbformat": 4,
 "nbformat_minor": 5
}
