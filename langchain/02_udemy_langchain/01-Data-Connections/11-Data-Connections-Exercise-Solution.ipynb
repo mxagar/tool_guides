{
 "cells": [
  {
   "cell_type": "markdown",
   "id": "bcded1a6-2430-4707-a78c-c82f4c5ee6fc",
   "metadata": {},
   "source": [
    "<a href = \"https://www.pieriantraining.com\"><img src=\"../PT Centered Purple.png\"> </a>\n",
    "\n",
    "<em style=\"text-align:center\">Copyrighted by Pierian Training</em>"
   ]
  },
  {
   "cell_type": "markdown",
   "id": "728f1747-b8fc-4d31-96c2-047fc83c079d",
   "metadata": {},
   "source": [
    "#  Data Connections Exercise\n",
    "\n",
    "## Ask a Legal Research Assistant Bot about the US Constitution\n",
    "\n",
    "Let's revisit our first exercise and add offline capability using ChromaDB. Your function should do the following:\n",
    "\n",
    "* Read the US_Constitution.txt file inside the some_data folder\n",
    "* Split this into chunks (you choose the size)\n",
    "* Write this to a ChromaDB Vector Store\n",
    "* Use Context Compression to return the relevant portion of the document to the question"
   ]
  },
  {
   "cell_type": "code",
   "execution_count": 1,
   "id": "3a17f111-e290-4ffc-b614-4d10e5673087",
   "metadata": {},
   "outputs": [],
   "source": [
    "from langchain.vectorstores import Chroma\n",
    "from langchain_openai import ChatOpenAI\n",
    "from langchain.document_loaders import TextLoader\n",
    "from langchain_openai import OpenAIEmbeddings\n",
    "from langchain.text_splitter import CharacterTextSplitter\n",
    "from langchain.retrievers import ContextualCompressionRetriever\n",
    "from langchain.retrievers.document_compressors import LLMChainExtractor \n",
    "\n",
    "import os\n",
    "from dotenv i   mport load_dotenv\n",
    "load_dotenv()\n",
    "\n",
    "openai_token = os.getenv(\"OPENAI_API_KEY\")"
   ]
  },
  {
   "cell_type": "code",
   "execution_count": 20,
   "id": "dc7dafe9-7e3b-4bb5-abeb-4c99b66f623b",
   "metadata": {},
   "outputs": [],
   "source": [
    "def us_constitution_helper(question):\n",
    "    '''\n",
    "    Takes in a question about the US Constitution and returns the most relevant\n",
    "    part of the constitution. Notice it may not directly answer the actual question!\n",
    "    \n",
    "    Follow the steps below to fill out this function:\n",
    "    '''\n",
    "    # PART ONE:\n",
    "    # LOAD \"some_data/US_Constitution in a Document object\n",
    "    loader = TextLoader(\"some_data/US_Constitution.txt\")\n",
    "    documents = loader.load()\n",
    "    \n",
    "    # PART TWO\n",
    "    # Split the document into chunks (you choose how and what size)\n",
    "    text_splitter = CharacterTextSplitter.from_tiktoken_encoder(chunk_size=500)\n",
    "    docs = text_splitter.split_documents(documents)\n",
    "    \n",
    "    # PART THREE\n",
    "    # EMBED THE Documents (now in chunks) to a persisted ChromaDB\n",
    "    embedding_function = OpenAIEmbeddings()\n",
    "    embedding_function = OpenAIEmbeddings()\n",
    "    db = Chroma.from_documents(docs, embedding_function,persist_directory='./US_Constitution')\n",
    "    db.persist()\n",
    "\n",
    "    # PART FOUR\n",
    "    # Use ChatOpenAI and ContextualCompressionRetriever to return the most\n",
    "    # relevant part of the documents.\n",
    "\n",
    "    # results = db.similarity_search(\"What is the 13th Amendment?\")\n",
    "    # print(results[0].page_content) # NEED TO COMPRESS THESE RESULTS!\n",
    "    llm = ChatOpenAI(temperature=0)\n",
    "    compressor = LLMChainExtractor.from_llm(llm)\n",
    "\n",
    "    compression_retriever = ContextualCompressionRetriever(base_compressor=compressor, \n",
    "                                                           base_retriever=db.as_retriever())\n",
    "\n",
    "    compressed_docs = compression_retriever.invoke(question)\n",
    "\n",
    "    return compressed_docs[0].page_content"
   ]
  },
  {
   "cell_type": "code",
   "execution_count": 21,
   "id": "b6ca1a37-bc2f-49de-af25-22bc7437bff0",
   "metadata": {},
   "outputs": [
    {
     "name": "stdout",
     "output_type": "stream",
     "text": [
      "First Amendment\n",
      "Congress shall make no law respecting an establishment of religion, or prohibiting the free exercise thereof; or abridging the freedom of speech, or of the press; or the right of the people peaceably to assemble, and to petition the Government for a redress of grievances.\n"
     ]
    }
   ],
   "source": [
    "print(us_constitution_helper(\"What is the 1st Amendment?\"))"
   ]
  },
  {
   "cell_type": "code",
   "execution_count": 5,
   "id": "225643e3-32ca-4cfe-ac96-e79c799c9cf5",
   "metadata": {},
   "outputs": [],
   "source": [
    "from typing import List\n",
    "from langchain.schema import Document\n",
    "\n",
    "\n",
    "class QABot:\n",
    "    def __init__(self, persist_directory: str):\n",
    "        self.persist_directory = persist_directory\n",
    "        self.docs: List[Document] = []\n",
    "        self.db = None\n",
    "        self.llm = None\n",
    "        self.retriever = None\n",
    "\n",
    "    def load_text_file(self, file_path: str, chunk_size: int = 500) -> None:\n",
    "        # Load the text file into a Document object\n",
    "        loader = TextLoader(file_path)\n",
    "        documents = loader.load()\n",
    "\n",
    "        # Split the document into chunks\n",
    "        text_splitter = CharacterTextSplitter.from_tiktoken_encoder(chunk_size=chunk_size)\n",
    "        self.docs = text_splitter.split_documents(documents)\n",
    "        \n",
    "        # Embed the documents and create a persisted ChromaDB\n",
    "        embedding_function = OpenAIEmbeddings()\n",
    "        self.db = Chroma.from_documents(self.docs,\n",
    "                                        embedding_function,\n",
    "                                        persist_directory=self.persist_directory)\n",
    "        #self.db.persist()\n",
    "    \n",
    "    def _connect_llm(self) -> ChatOpenAI:\n",
    "        # Initialize and return the LLM chat model\n",
    "        self.llm = ChatOpenAI(temperature=0.0)\n",
    "        return self.llm\n",
    "\n",
    "    def _get_retriever(self) -> ContextualCompressionRetriever:\n",
    "        # Initialize the LLM compressor\n",
    "        if self.llm is None:\n",
    "            self._connect_llm()\n",
    "        compressor = LLMChainExtractor.from_llm(self.llm)\n",
    "\n",
    "        # Create and return the contextual compression retriever\n",
    "        self.retriever = ContextualCompressionRetriever(base_compressor=compressor, base_retriever=self.db.as_retriever())\n",
    "        return self.retriever\n",
    "\n",
    "    def ask(self, question: str) -> str:\n",
    "        # Ensure the LLM and retriever are loaded\n",
    "        if self.retriever is None:\n",
    "            self._get_retriever()\n",
    "\n",
    "        # Use the retriever to get the most relevant part of the documents\n",
    "        compressed_docs = self.retriever.invoke(question)\n",
    "        return compressed_docs[0].page_content if compressed_docs else \"No relevant content found.\""
   ]
  },
  {
   "cell_type": "code",
   "execution_count": 6,
   "id": "1515d5bf",
   "metadata": {},
   "outputs": [],
   "source": [
    "# First, load the documents and create a specific chatbot\n",
    "qa_bot = QABot(persist_directory='./US_Constitution')\n",
    "qa_bot.load_text_file(\"some_data/US_Constitution.txt\")"
   ]
  },
  {
   "cell_type": "code",
   "execution_count": 7,
   "id": "7e69a8be",
   "metadata": {},
   "outputs": [
    {
     "name": "stdout",
     "output_type": "stream",
     "text": [
      "First Amendment\n",
      "Congress shall make no law respecting an establishment of religion, or prohibiting the free exercise thereof; or abridging the freedom of speech, or of the press; or the right of the people peaceably to assemble, and to petition the Government for a redress of grievances.\n"
     ]
    }
   ],
   "source": [
    "# Then, ask questions to the chatbot\n",
    "answer = qa_bot.ask(\"What is the 1st Amendment?\")\n",
    "print(answer) # First Amendment: Congress shall make no law respecting an establishment of religion..."
   ]
  },
  {
   "cell_type": "code",
   "execution_count": null,
   "id": "d07d3cd1",
   "metadata": {},
   "outputs": [],
   "source": []
  }
 ],
 "metadata": {
  "kernelspec": {
   "display_name": "Python 3 (ipykernel)",
   "language": "python",
   "name": "python3"
  },
  "language_info": {
   "codemirror_mode": {
    "name": "ipython",
    "version": 3
   },
   "file_extension": ".py",
   "mimetype": "text/x-python",
   "name": "python",
   "nbconvert_exporter": "python",
   "pygments_lexer": "ipython3",
   "version": "3.9.18"
  }
 },
 "nbformat": 4,
 "nbformat_minor": 5
}
