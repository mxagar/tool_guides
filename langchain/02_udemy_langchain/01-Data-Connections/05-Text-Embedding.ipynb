{
 "cells": [
  {
   "cell_type": "markdown",
   "id": "bcded1a6-2430-4707-a78c-c82f4c5ee6fc",
   "metadata": {},
   "source": [
    "<a href = \"https://www.pieriantraining.com\"><img src=\"../PT Centered Purple.png\"> </a>\n",
    "\n",
    "<em style=\"text-align:center\">Copyrighted by Pierian Training</em>"
   ]
  },
  {
   "cell_type": "markdown",
   "id": "728f1747-b8fc-4d31-96c2-047fc83c079d",
   "metadata": {},
   "source": [
    "#  Text Embeddings"
   ]
  },
  {
   "cell_type": "code",
   "execution_count": 1,
   "id": "244f42d8-2349-446e-a1c2-ae4b8d3ee38f",
   "metadata": {},
   "outputs": [],
   "source": [
    "from langchain_openai.embeddings import OpenAIEmbeddings"
   ]
  },
  {
   "cell_type": "code",
   "execution_count": 2,
   "id": "8d10fe9f-e020-4dfd-9508-d5be9402f79c",
   "metadata": {},
   "outputs": [],
   "source": [
    "import os\n",
    "from dotenv import load_dotenv\n",
    "load_dotenv()\n",
    "\n",
    "openai_token = os.getenv(\"OPENAI_API_KEY\")"
   ]
  },
  {
   "cell_type": "code",
   "execution_count": 3,
   "id": "8b637a11-23a2-41e9-9689-09787b090df8",
   "metadata": {},
   "outputs": [],
   "source": [
    "# Embedding model\n",
    "# To use the OpenAI model, we need to have defined OPENAI_API_KEY as environment variable\n",
    "# https://platform.openai.com/docs/guides/embeddings\n",
    "# Default model: text-embedding-ada-002\n",
    "# Dimension: 1536\n",
    "embeddings = OpenAIEmbeddings()"
   ]
  },
  {
   "cell_type": "code",
   "execution_count": 4,
   "id": "752bb0b8-171c-4fa4-ad6d-81feef54beb3",
   "metadata": {},
   "outputs": [],
   "source": [
    "text = \"Some normal text to send to OpenAI to be embedded into a N dimensional vector\""
   ]
  },
  {
   "cell_type": "code",
   "execution_count": 5,
   "id": "b44a71e9-613a-427f-ba25-0373a0c27cea",
   "metadata": {},
   "outputs": [],
   "source": [
    "embedded_text = embeddings.embed_query(text)"
   ]
  },
  {
   "cell_type": "code",
   "execution_count": 7,
   "id": "bd201025-120f-484e-b6b0-3ac92f80ab72",
   "metadata": {},
   "outputs": [
    {
     "data": {
      "text/plain": [
       "list"
      ]
     },
     "execution_count": 7,
     "metadata": {},
     "output_type": "execute_result"
    }
   ],
   "source": [
    "type(embedded_text) # list"
   ]
  },
  {
   "cell_type": "code",
   "execution_count": 9,
   "id": "70b6f1b3",
   "metadata": {},
   "outputs": [
    {
     "data": {
      "text/plain": [
       "1536"
      ]
     },
     "execution_count": 9,
     "metadata": {},
     "output_type": "execute_result"
    }
   ],
   "source": [
    "len(embedded_text) # 1536"
   ]
  },
  {
   "cell_type": "code",
   "execution_count": 10,
   "id": "c6c61655",
   "metadata": {},
   "outputs": [],
   "source": [
    "import numpy as np"
   ]
  },
  {
   "cell_type": "code",
   "execution_count": 35,
   "id": "7f3d8c30",
   "metadata": {},
   "outputs": [],
   "source": [
    "embedding_array = np.array(embedded_text)"
   ]
  },
  {
   "cell_type": "code",
   "execution_count": 36,
   "id": "2e2dd4f9",
   "metadata": {},
   "outputs": [
    {
     "data": {
      "text/plain": [
       "(1536,)"
      ]
     },
     "execution_count": 36,
     "metadata": {},
     "output_type": "execute_result"
    }
   ],
   "source": [
    "embedding_array.shape # (1536,)"
   ]
  },
  {
   "cell_type": "markdown",
   "id": "7ecd9d15-de49-4023-ab0d-4bde26ce4874",
   "metadata": {},
   "source": [
    "## Embed Documents"
   ]
  },
  {
   "cell_type": "code",
   "execution_count": 17,
   "id": "e64501be-11c7-464c-b316-aa2bc703e131",
   "metadata": {},
   "outputs": [],
   "source": [
    "from langchain.document_loaders import CSVLoader"
   ]
  },
  {
   "cell_type": "code",
   "execution_count": 18,
   "id": "10e35048-eb5c-4660-bcee-be3b5334991f",
   "metadata": {},
   "outputs": [],
   "source": [
    "loader = CSVLoader('some_data/penguins.csv')"
   ]
  },
  {
   "cell_type": "code",
   "execution_count": 30,
   "id": "681c0808-6524-4e54-bca4-b1f5da5476e0",
   "metadata": {},
   "outputs": [],
   "source": [
    "# This loads a list of Document objects\n",
    "# Each Document is a row in the CSV\n",
    "data = loader.load()"
   ]
  },
  {
   "cell_type": "code",
   "execution_count": 31,
   "id": "87190f5e",
   "metadata": {},
   "outputs": [
    {
     "data": {
      "text/plain": [
       "[Document(metadata={'source': 'some_data/penguins.csv', 'row': 0}, page_content='species: Adelie\\nisland: Torgersen\\nbill_length_mm: 39.1\\nbill_depth_mm: 18.7\\nflipper_length_mm: 181\\nbody_mass_g: 3750\\nsex: MALE'),\n",
       " Document(metadata={'source': 'some_data/penguins.csv', 'row': 1}, page_content='species: Adelie\\nisland: Torgersen\\nbill_length_mm: 39.5\\nbill_depth_mm: 17.4\\nflipper_length_mm: 186\\nbody_mass_g: 3800\\nsex: FEMALE'),\n",
       " Document(metadata={'source': 'some_data/penguins.csv', 'row': 2}, page_content='species: Adelie\\nisland: Torgersen\\nbill_length_mm: 40.3\\nbill_depth_mm: 18\\nflipper_length_mm: 195\\nbody_mass_g: 3250\\nsex: FEMALE'),\n",
       " Document(metadata={'source': 'some_data/penguins.csv', 'row': 3}, page_content='species: Adelie\\nisland: Torgersen\\nbill_length_mm: \\nbill_depth_mm: \\nflipper_length_mm: \\nbody_mass_g: \\nsex: '),\n",
       " Document(metadata={'source': 'some_data/penguins.csv', 'row': 4}, page_content='species: Adelie\\nisland: Torgersen\\nbill_length_mm: 36.7\\nbill_depth_mm: 19.3\\nflipper_length_mm: 193\\nbody_mass_g: 3450\\nsex: FEMALE'),\n",
       " Document(metadata={'source': 'some_data/penguins.csv', 'row': 5}, page_content='species: Adelie\\nisland: Torgersen\\nbill_length_mm: 39.3\\nbill_depth_mm: 20.6\\nflipper_length_mm: 190\\nbody_mass_g: 3650\\nsex: MALE'),\n",
       " Document(metadata={'source': 'some_data/penguins.csv', 'row': 6}, page_content='species: Adelie\\nisland: Torgersen\\nbill_length_mm: 38.9\\nbill_depth_mm: 17.8\\nflipper_length_mm: 181\\nbody_mass_g: 3625\\nsex: FEMALE'),\n",
       " Document(metadata={'source': 'some_data/penguins.csv', 'row': 7}, page_content='species: Adelie\\nisland: Torgersen\\nbill_length_mm: 39.2\\nbill_depth_mm: 19.6\\nflipper_length_mm: 195\\nbody_mass_g: 4675\\nsex: MALE'),\n",
       " Document(metadata={'source': 'some_data/penguins.csv', 'row': 8}, page_content='species: Adelie\\nisland: Torgersen\\nbill_length_mm: 34.1\\nbill_depth_mm: 18.1\\nflipper_length_mm: 193\\nbody_mass_g: 3475\\nsex: '),\n",
       " Document(metadata={'source': 'some_data/penguins.csv', 'row': 9}, page_content='species: Adelie\\nisland: Torgersen\\nbill_length_mm: 42\\nbill_depth_mm: 20.2\\nflipper_length_mm: 190\\nbody_mass_g: 4250\\nsex: '),\n",
       " Document(metadata={'source': 'some_data/penguins.csv', 'row': 10}, page_content='species: Adelie\\nisland: Torgersen\\nbill_length_mm: 37.8\\nbill_depth_mm: 17.1\\nflipper_length_mm: 186\\nbody_mass_g: 3300\\nsex: '),\n",
       " Document(metadata={'source': 'some_data/penguins.csv', 'row': 11}, page_content='species: Adelie\\nisland: Torgersen\\nbill_length_mm: 37.8\\nbill_depth_mm: 17.3\\nflipper_length_mm: 180\\nbody_mass_g: 3700\\nsex: '),\n",
       " Document(metadata={'source': 'some_data/penguins.csv', 'row': 12}, page_content='species: Adelie\\nisland: Torgersen\\nbill_length_mm: 41.1\\nbill_depth_mm: 17.6\\nflipper_length_mm: 182\\nbody_mass_g: 3200\\nsex: FEMALE'),\n",
       " Document(metadata={'source': 'some_data/penguins.csv', 'row': 13}, page_content='species: Adelie\\nisland: Torgersen\\nbill_length_mm: 38.6\\nbill_depth_mm: 21.2\\nflipper_length_mm: 191\\nbody_mass_g: 3800\\nsex: MALE'),\n",
       " Document(metadata={'source': 'some_data/penguins.csv', 'row': 14}, page_content='species: Adelie\\nisland: Torgersen\\nbill_length_mm: 34.6\\nbill_depth_mm: 21.1\\nflipper_length_mm: 198\\nbody_mass_g: 4400\\nsex: MALE'),\n",
       " Document(metadata={'source': 'some_data/penguins.csv', 'row': 15}, page_content='species: Adelie\\nisland: Torgersen\\nbill_length_mm: 36.6\\nbill_depth_mm: 17.8\\nflipper_length_mm: 185\\nbody_mass_g: 3700\\nsex: FEMALE'),\n",
       " Document(metadata={'source': 'some_data/penguins.csv', 'row': 16}, page_content='species: Adelie\\nisland: Torgersen\\nbill_length_mm: 38.7\\nbill_depth_mm: 19\\nflipper_length_mm: 195\\nbody_mass_g: 3450\\nsex: FEMALE'),\n",
       " Document(metadata={'source': 'some_data/penguins.csv', 'row': 17}, page_content='species: Adelie\\nisland: Torgersen\\nbill_length_mm: 42.5\\nbill_depth_mm: 20.7\\nflipper_length_mm: 197\\nbody_mass_g: 4500\\nsex: MALE'),\n",
       " Document(metadata={'source': 'some_data/penguins.csv', 'row': 18}, page_content='species: Adelie\\nisland: Torgersen\\nbill_length_mm: 34.4\\nbill_depth_mm: 18.4\\nflipper_length_mm: 184\\nbody_mass_g: 3325\\nsex: FEMALE'),\n",
       " Document(metadata={'source': 'some_data/penguins.csv', 'row': 19}, page_content='species: Adelie\\nisland: Torgersen\\nbill_length_mm: 46\\nbill_depth_mm: 21.5\\nflipper_length_mm: 194\\nbody_mass_g: 4200\\nsex: MALE'),\n",
       " Document(metadata={'source': 'some_data/penguins.csv', 'row': 20}, page_content='species: Adelie\\nisland: Biscoe\\nbill_length_mm: 37.8\\nbill_depth_mm: 18.3\\nflipper_length_mm: 174\\nbody_mass_g: 3400\\nsex: FEMALE'),\n",
       " Document(metadata={'source': 'some_data/penguins.csv', 'row': 21}, page_content='species: Adelie\\nisland: Biscoe\\nbill_length_mm: 37.7\\nbill_depth_mm: 18.7\\nflipper_length_mm: 180\\nbody_mass_g: 3600\\nsex: MALE'),\n",
       " Document(metadata={'source': 'some_data/penguins.csv', 'row': 22}, page_content='species: Adelie\\nisland: Biscoe\\nbill_length_mm: 35.9\\nbill_depth_mm: 19.2\\nflipper_length_mm: 189\\nbody_mass_g: 3800\\nsex: FEMALE'),\n",
       " Document(metadata={'source': 'some_data/penguins.csv', 'row': 23}, page_content='species: Adelie\\nisland: Biscoe\\nbill_length_mm: 38.2\\nbill_depth_mm: 18.1\\nflipper_length_mm: 185\\nbody_mass_g: 3950\\nsex: MALE'),\n",
       " Document(metadata={'source': 'some_data/penguins.csv', 'row': 24}, page_content='species: Adelie\\nisland: Biscoe\\nbill_length_mm: 38.8\\nbill_depth_mm: 17.2\\nflipper_length_mm: 180\\nbody_mass_g: 3800\\nsex: MALE'),\n",
       " Document(metadata={'source': 'some_data/penguins.csv', 'row': 25}, page_content='species: Adelie\\nisland: Biscoe\\nbill_length_mm: 35.3\\nbill_depth_mm: 18.9\\nflipper_length_mm: 187\\nbody_mass_g: 3800\\nsex: FEMALE'),\n",
       " Document(metadata={'source': 'some_data/penguins.csv', 'row': 26}, page_content='species: Adelie\\nisland: Biscoe\\nbill_length_mm: 40.6\\nbill_depth_mm: 18.6\\nflipper_length_mm: 183\\nbody_mass_g: 3550\\nsex: MALE'),\n",
       " Document(metadata={'source': 'some_data/penguins.csv', 'row': 27}, page_content='species: Adelie\\nisland: Biscoe\\nbill_length_mm: 40.5\\nbill_depth_mm: 17.9\\nflipper_length_mm: 187\\nbody_mass_g: 3200\\nsex: FEMALE'),\n",
       " Document(metadata={'source': 'some_data/penguins.csv', 'row': 28}, page_content='species: Adelie\\nisland: Biscoe\\nbill_length_mm: 37.9\\nbill_depth_mm: 18.6\\nflipper_length_mm: 172\\nbody_mass_g: 3150\\nsex: FEMALE'),\n",
       " Document(metadata={'source': 'some_data/penguins.csv', 'row': 29}, page_content='species: Adelie\\nisland: Biscoe\\nbill_length_mm: 40.5\\nbill_depth_mm: 18.9\\nflipper_length_mm: 180\\nbody_mass_g: 3950\\nsex: MALE'),\n",
       " Document(metadata={'source': 'some_data/penguins.csv', 'row': 30}, page_content='species: Adelie\\nisland: Dream\\nbill_length_mm: 39.5\\nbill_depth_mm: 16.7\\nflipper_length_mm: 178\\nbody_mass_g: 3250\\nsex: FEMALE'),\n",
       " Document(metadata={'source': 'some_data/penguins.csv', 'row': 31}, page_content='species: Adelie\\nisland: Dream\\nbill_length_mm: 37.2\\nbill_depth_mm: 18.1\\nflipper_length_mm: 178\\nbody_mass_g: 3900\\nsex: MALE'),\n",
       " Document(metadata={'source': 'some_data/penguins.csv', 'row': 32}, page_content='species: Adelie\\nisland: Dream\\nbill_length_mm: 39.5\\nbill_depth_mm: 17.8\\nflipper_length_mm: 188\\nbody_mass_g: 3300\\nsex: FEMALE'),\n",
       " Document(metadata={'source': 'some_data/penguins.csv', 'row': 33}, page_content='species: Adelie\\nisland: Dream\\nbill_length_mm: 40.9\\nbill_depth_mm: 18.9\\nflipper_length_mm: 184\\nbody_mass_g: 3900\\nsex: MALE'),\n",
       " Document(metadata={'source': 'some_data/penguins.csv', 'row': 34}, page_content='species: Adelie\\nisland: Dream\\nbill_length_mm: 36.4\\nbill_depth_mm: 17\\nflipper_length_mm: 195\\nbody_mass_g: 3325\\nsex: FEMALE'),\n",
       " Document(metadata={'source': 'some_data/penguins.csv', 'row': 35}, page_content='species: Adelie\\nisland: Dream\\nbill_length_mm: 39.2\\nbill_depth_mm: 21.1\\nflipper_length_mm: 196\\nbody_mass_g: 4150\\nsex: MALE'),\n",
       " Document(metadata={'source': 'some_data/penguins.csv', 'row': 36}, page_content='species: Adelie\\nisland: Dream\\nbill_length_mm: 38.8\\nbill_depth_mm: 20\\nflipper_length_mm: 190\\nbody_mass_g: 3950\\nsex: MALE'),\n",
       " Document(metadata={'source': 'some_data/penguins.csv', 'row': 37}, page_content='species: Adelie\\nisland: Dream\\nbill_length_mm: 42.2\\nbill_depth_mm: 18.5\\nflipper_length_mm: 180\\nbody_mass_g: 3550\\nsex: FEMALE'),\n",
       " Document(metadata={'source': 'some_data/penguins.csv', 'row': 38}, page_content='species: Adelie\\nisland: Dream\\nbill_length_mm: 37.6\\nbill_depth_mm: 19.3\\nflipper_length_mm: 181\\nbody_mass_g: 3300\\nsex: FEMALE'),\n",
       " Document(metadata={'source': 'some_data/penguins.csv', 'row': 39}, page_content='species: Adelie\\nisland: Dream\\nbill_length_mm: 39.8\\nbill_depth_mm: 19.1\\nflipper_length_mm: 184\\nbody_mass_g: 4650\\nsex: MALE'),\n",
       " Document(metadata={'source': 'some_data/penguins.csv', 'row': 40}, page_content='species: Adelie\\nisland: Dream\\nbill_length_mm: 36.5\\nbill_depth_mm: 18\\nflipper_length_mm: 182\\nbody_mass_g: 3150\\nsex: FEMALE'),\n",
       " Document(metadata={'source': 'some_data/penguins.csv', 'row': 41}, page_content='species: Adelie\\nisland: Dream\\nbill_length_mm: 40.8\\nbill_depth_mm: 18.4\\nflipper_length_mm: 195\\nbody_mass_g: 3900\\nsex: MALE'),\n",
       " Document(metadata={'source': 'some_data/penguins.csv', 'row': 42}, page_content='species: Adelie\\nisland: Dream\\nbill_length_mm: 36\\nbill_depth_mm: 18.5\\nflipper_length_mm: 186\\nbody_mass_g: 3100\\nsex: FEMALE'),\n",
       " Document(metadata={'source': 'some_data/penguins.csv', 'row': 43}, page_content='species: Adelie\\nisland: Dream\\nbill_length_mm: 44.1\\nbill_depth_mm: 19.7\\nflipper_length_mm: 196\\nbody_mass_g: 4400\\nsex: MALE'),\n",
       " Document(metadata={'source': 'some_data/penguins.csv', 'row': 44}, page_content='species: Adelie\\nisland: Dream\\nbill_length_mm: 37\\nbill_depth_mm: 16.9\\nflipper_length_mm: 185\\nbody_mass_g: 3000\\nsex: FEMALE'),\n",
       " Document(metadata={'source': 'some_data/penguins.csv', 'row': 45}, page_content='species: Adelie\\nisland: Dream\\nbill_length_mm: 39.6\\nbill_depth_mm: 18.8\\nflipper_length_mm: 190\\nbody_mass_g: 4600\\nsex: MALE'),\n",
       " Document(metadata={'source': 'some_data/penguins.csv', 'row': 46}, page_content='species: Adelie\\nisland: Dream\\nbill_length_mm: 41.1\\nbill_depth_mm: 19\\nflipper_length_mm: 182\\nbody_mass_g: 3425\\nsex: MALE'),\n",
       " Document(metadata={'source': 'some_data/penguins.csv', 'row': 47}, page_content='species: Adelie\\nisland: Dream\\nbill_length_mm: 37.5\\nbill_depth_mm: 18.9\\nflipper_length_mm: 179\\nbody_mass_g: 2975\\nsex: '),\n",
       " Document(metadata={'source': 'some_data/penguins.csv', 'row': 48}, page_content='species: Adelie\\nisland: Dream\\nbill_length_mm: 36\\nbill_depth_mm: 17.9\\nflipper_length_mm: 190\\nbody_mass_g: 3450\\nsex: FEMALE'),\n",
       " Document(metadata={'source': 'some_data/penguins.csv', 'row': 49}, page_content='species: Adelie\\nisland: Dream\\nbill_length_mm: 42.3\\nbill_depth_mm: 21.2\\nflipper_length_mm: 191\\nbody_mass_g: 4150\\nsex: MALE'),\n",
       " Document(metadata={'source': 'some_data/penguins.csv', 'row': 50}, page_content='species: Adelie\\nisland: Biscoe\\nbill_length_mm: 39.6\\nbill_depth_mm: 17.7\\nflipper_length_mm: 186\\nbody_mass_g: 3500\\nsex: FEMALE'),\n",
       " Document(metadata={'source': 'some_data/penguins.csv', 'row': 51}, page_content='species: Adelie\\nisland: Biscoe\\nbill_length_mm: 40.1\\nbill_depth_mm: 18.9\\nflipper_length_mm: 188\\nbody_mass_g: 4300\\nsex: MALE'),\n",
       " Document(metadata={'source': 'some_data/penguins.csv', 'row': 52}, page_content='species: Adelie\\nisland: Biscoe\\nbill_length_mm: 35\\nbill_depth_mm: 17.9\\nflipper_length_mm: 190\\nbody_mass_g: 3450\\nsex: FEMALE'),\n",
       " Document(metadata={'source': 'some_data/penguins.csv', 'row': 53}, page_content='species: Adelie\\nisland: Biscoe\\nbill_length_mm: 42\\nbill_depth_mm: 19.5\\nflipper_length_mm: 200\\nbody_mass_g: 4050\\nsex: MALE'),\n",
       " Document(metadata={'source': 'some_data/penguins.csv', 'row': 54}, page_content='species: Adelie\\nisland: Biscoe\\nbill_length_mm: 34.5\\nbill_depth_mm: 18.1\\nflipper_length_mm: 187\\nbody_mass_g: 2900\\nsex: FEMALE'),\n",
       " Document(metadata={'source': 'some_data/penguins.csv', 'row': 55}, page_content='species: Adelie\\nisland: Biscoe\\nbill_length_mm: 41.4\\nbill_depth_mm: 18.6\\nflipper_length_mm: 191\\nbody_mass_g: 3700\\nsex: MALE'),\n",
       " Document(metadata={'source': 'some_data/penguins.csv', 'row': 56}, page_content='species: Adelie\\nisland: Biscoe\\nbill_length_mm: 39\\nbill_depth_mm: 17.5\\nflipper_length_mm: 186\\nbody_mass_g: 3550\\nsex: FEMALE'),\n",
       " Document(metadata={'source': 'some_data/penguins.csv', 'row': 57}, page_content='species: Adelie\\nisland: Biscoe\\nbill_length_mm: 40.6\\nbill_depth_mm: 18.8\\nflipper_length_mm: 193\\nbody_mass_g: 3800\\nsex: MALE'),\n",
       " Document(metadata={'source': 'some_data/penguins.csv', 'row': 58}, page_content='species: Adelie\\nisland: Biscoe\\nbill_length_mm: 36.5\\nbill_depth_mm: 16.6\\nflipper_length_mm: 181\\nbody_mass_g: 2850\\nsex: FEMALE'),\n",
       " Document(metadata={'source': 'some_data/penguins.csv', 'row': 59}, page_content='species: Adelie\\nisland: Biscoe\\nbill_length_mm: 37.6\\nbill_depth_mm: 19.1\\nflipper_length_mm: 194\\nbody_mass_g: 3750\\nsex: MALE'),\n",
       " Document(metadata={'source': 'some_data/penguins.csv', 'row': 60}, page_content='species: Adelie\\nisland: Biscoe\\nbill_length_mm: 35.7\\nbill_depth_mm: 16.9\\nflipper_length_mm: 185\\nbody_mass_g: 3150\\nsex: FEMALE'),\n",
       " Document(metadata={'source': 'some_data/penguins.csv', 'row': 61}, page_content='species: Adelie\\nisland: Biscoe\\nbill_length_mm: 41.3\\nbill_depth_mm: 21.1\\nflipper_length_mm: 195\\nbody_mass_g: 4400\\nsex: MALE'),\n",
       " Document(metadata={'source': 'some_data/penguins.csv', 'row': 62}, page_content='species: Adelie\\nisland: Biscoe\\nbill_length_mm: 37.6\\nbill_depth_mm: 17\\nflipper_length_mm: 185\\nbody_mass_g: 3600\\nsex: FEMALE'),\n",
       " Document(metadata={'source': 'some_data/penguins.csv', 'row': 63}, page_content='species: Adelie\\nisland: Biscoe\\nbill_length_mm: 41.1\\nbill_depth_mm: 18.2\\nflipper_length_mm: 192\\nbody_mass_g: 4050\\nsex: MALE'),\n",
       " Document(metadata={'source': 'some_data/penguins.csv', 'row': 64}, page_content='species: Adelie\\nisland: Biscoe\\nbill_length_mm: 36.4\\nbill_depth_mm: 17.1\\nflipper_length_mm: 184\\nbody_mass_g: 2850\\nsex: FEMALE'),\n",
       " Document(metadata={'source': 'some_data/penguins.csv', 'row': 65}, page_content='species: Adelie\\nisland: Biscoe\\nbill_length_mm: 41.6\\nbill_depth_mm: 18\\nflipper_length_mm: 192\\nbody_mass_g: 3950\\nsex: MALE'),\n",
       " Document(metadata={'source': 'some_data/penguins.csv', 'row': 66}, page_content='species: Adelie\\nisland: Biscoe\\nbill_length_mm: 35.5\\nbill_depth_mm: 16.2\\nflipper_length_mm: 195\\nbody_mass_g: 3350\\nsex: FEMALE'),\n",
       " Document(metadata={'source': 'some_data/penguins.csv', 'row': 67}, page_content='species: Adelie\\nisland: Biscoe\\nbill_length_mm: 41.1\\nbill_depth_mm: 19.1\\nflipper_length_mm: 188\\nbody_mass_g: 4100\\nsex: MALE'),\n",
       " Document(metadata={'source': 'some_data/penguins.csv', 'row': 68}, page_content='species: Adelie\\nisland: Torgersen\\nbill_length_mm: 35.9\\nbill_depth_mm: 16.6\\nflipper_length_mm: 190\\nbody_mass_g: 3050\\nsex: FEMALE'),\n",
       " Document(metadata={'source': 'some_data/penguins.csv', 'row': 69}, page_content='species: Adelie\\nisland: Torgersen\\nbill_length_mm: 41.8\\nbill_depth_mm: 19.4\\nflipper_length_mm: 198\\nbody_mass_g: 4450\\nsex: MALE'),\n",
       " Document(metadata={'source': 'some_data/penguins.csv', 'row': 70}, page_content='species: Adelie\\nisland: Torgersen\\nbill_length_mm: 33.5\\nbill_depth_mm: 19\\nflipper_length_mm: 190\\nbody_mass_g: 3600\\nsex: FEMALE'),\n",
       " Document(metadata={'source': 'some_data/penguins.csv', 'row': 71}, page_content='species: Adelie\\nisland: Torgersen\\nbill_length_mm: 39.7\\nbill_depth_mm: 18.4\\nflipper_length_mm: 190\\nbody_mass_g: 3900\\nsex: MALE'),\n",
       " Document(metadata={'source': 'some_data/penguins.csv', 'row': 72}, page_content='species: Adelie\\nisland: Torgersen\\nbill_length_mm: 39.6\\nbill_depth_mm: 17.2\\nflipper_length_mm: 196\\nbody_mass_g: 3550\\nsex: FEMALE'),\n",
       " Document(metadata={'source': 'some_data/penguins.csv', 'row': 73}, page_content='species: Adelie\\nisland: Torgersen\\nbill_length_mm: 45.8\\nbill_depth_mm: 18.9\\nflipper_length_mm: 197\\nbody_mass_g: 4150\\nsex: MALE'),\n",
       " Document(metadata={'source': 'some_data/penguins.csv', 'row': 74}, page_content='species: Adelie\\nisland: Torgersen\\nbill_length_mm: 35.5\\nbill_depth_mm: 17.5\\nflipper_length_mm: 190\\nbody_mass_g: 3700\\nsex: FEMALE'),\n",
       " Document(metadata={'source': 'some_data/penguins.csv', 'row': 75}, page_content='species: Adelie\\nisland: Torgersen\\nbill_length_mm: 42.8\\nbill_depth_mm: 18.5\\nflipper_length_mm: 195\\nbody_mass_g: 4250\\nsex: MALE'),\n",
       " Document(metadata={'source': 'some_data/penguins.csv', 'row': 76}, page_content='species: Adelie\\nisland: Torgersen\\nbill_length_mm: 40.9\\nbill_depth_mm: 16.8\\nflipper_length_mm: 191\\nbody_mass_g: 3700\\nsex: FEMALE'),\n",
       " Document(metadata={'source': 'some_data/penguins.csv', 'row': 77}, page_content='species: Adelie\\nisland: Torgersen\\nbill_length_mm: 37.2\\nbill_depth_mm: 19.4\\nflipper_length_mm: 184\\nbody_mass_g: 3900\\nsex: MALE'),\n",
       " Document(metadata={'source': 'some_data/penguins.csv', 'row': 78}, page_content='species: Adelie\\nisland: Torgersen\\nbill_length_mm: 36.2\\nbill_depth_mm: 16.1\\nflipper_length_mm: 187\\nbody_mass_g: 3550\\nsex: FEMALE'),\n",
       " Document(metadata={'source': 'some_data/penguins.csv', 'row': 79}, page_content='species: Adelie\\nisland: Torgersen\\nbill_length_mm: 42.1\\nbill_depth_mm: 19.1\\nflipper_length_mm: 195\\nbody_mass_g: 4000\\nsex: MALE'),\n",
       " Document(metadata={'source': 'some_data/penguins.csv', 'row': 80}, page_content='species: Adelie\\nisland: Torgersen\\nbill_length_mm: 34.6\\nbill_depth_mm: 17.2\\nflipper_length_mm: 189\\nbody_mass_g: 3200\\nsex: FEMALE'),\n",
       " Document(metadata={'source': 'some_data/penguins.csv', 'row': 81}, page_content='species: Adelie\\nisland: Torgersen\\nbill_length_mm: 42.9\\nbill_depth_mm: 17.6\\nflipper_length_mm: 196\\nbody_mass_g: 4700\\nsex: MALE'),\n",
       " Document(metadata={'source': 'some_data/penguins.csv', 'row': 82}, page_content='species: Adelie\\nisland: Torgersen\\nbill_length_mm: 36.7\\nbill_depth_mm: 18.8\\nflipper_length_mm: 187\\nbody_mass_g: 3800\\nsex: FEMALE'),\n",
       " Document(metadata={'source': 'some_data/penguins.csv', 'row': 83}, page_content='species: Adelie\\nisland: Torgersen\\nbill_length_mm: 35.1\\nbill_depth_mm: 19.4\\nflipper_length_mm: 193\\nbody_mass_g: 4200\\nsex: MALE'),\n",
       " Document(metadata={'source': 'some_data/penguins.csv', 'row': 84}, page_content='species: Adelie\\nisland: Dream\\nbill_length_mm: 37.3\\nbill_depth_mm: 17.8\\nflipper_length_mm: 191\\nbody_mass_g: 3350\\nsex: FEMALE'),\n",
       " Document(metadata={'source': 'some_data/penguins.csv', 'row': 85}, page_content='species: Adelie\\nisland: Dream\\nbill_length_mm: 41.3\\nbill_depth_mm: 20.3\\nflipper_length_mm: 194\\nbody_mass_g: 3550\\nsex: MALE'),\n",
       " Document(metadata={'source': 'some_data/penguins.csv', 'row': 86}, page_content='species: Adelie\\nisland: Dream\\nbill_length_mm: 36.3\\nbill_depth_mm: 19.5\\nflipper_length_mm: 190\\nbody_mass_g: 3800\\nsex: MALE'),\n",
       " Document(metadata={'source': 'some_data/penguins.csv', 'row': 87}, page_content='species: Adelie\\nisland: Dream\\nbill_length_mm: 36.9\\nbill_depth_mm: 18.6\\nflipper_length_mm: 189\\nbody_mass_g: 3500\\nsex: FEMALE'),\n",
       " Document(metadata={'source': 'some_data/penguins.csv', 'row': 88}, page_content='species: Adelie\\nisland: Dream\\nbill_length_mm: 38.3\\nbill_depth_mm: 19.2\\nflipper_length_mm: 189\\nbody_mass_g: 3950\\nsex: MALE'),\n",
       " Document(metadata={'source': 'some_data/penguins.csv', 'row': 89}, page_content='species: Adelie\\nisland: Dream\\nbill_length_mm: 38.9\\nbill_depth_mm: 18.8\\nflipper_length_mm: 190\\nbody_mass_g: 3600\\nsex: FEMALE'),\n",
       " Document(metadata={'source': 'some_data/penguins.csv', 'row': 90}, page_content='species: Adelie\\nisland: Dream\\nbill_length_mm: 35.7\\nbill_depth_mm: 18\\nflipper_length_mm: 202\\nbody_mass_g: 3550\\nsex: FEMALE'),\n",
       " Document(metadata={'source': 'some_data/penguins.csv', 'row': 91}, page_content='species: Adelie\\nisland: Dream\\nbill_length_mm: 41.1\\nbill_depth_mm: 18.1\\nflipper_length_mm: 205\\nbody_mass_g: 4300\\nsex: MALE'),\n",
       " Document(metadata={'source': 'some_data/penguins.csv', 'row': 92}, page_content='species: Adelie\\nisland: Dream\\nbill_length_mm: 34\\nbill_depth_mm: 17.1\\nflipper_length_mm: 185\\nbody_mass_g: 3400\\nsex: FEMALE'),\n",
       " Document(metadata={'source': 'some_data/penguins.csv', 'row': 93}, page_content='species: Adelie\\nisland: Dream\\nbill_length_mm: 39.6\\nbill_depth_mm: 18.1\\nflipper_length_mm: 186\\nbody_mass_g: 4450\\nsex: MALE'),\n",
       " Document(metadata={'source': 'some_data/penguins.csv', 'row': 94}, page_content='species: Adelie\\nisland: Dream\\nbill_length_mm: 36.2\\nbill_depth_mm: 17.3\\nflipper_length_mm: 187\\nbody_mass_g: 3300\\nsex: FEMALE'),\n",
       " Document(metadata={'source': 'some_data/penguins.csv', 'row': 95}, page_content='species: Adelie\\nisland: Dream\\nbill_length_mm: 40.8\\nbill_depth_mm: 18.9\\nflipper_length_mm: 208\\nbody_mass_g: 4300\\nsex: MALE'),\n",
       " Document(metadata={'source': 'some_data/penguins.csv', 'row': 96}, page_content='species: Adelie\\nisland: Dream\\nbill_length_mm: 38.1\\nbill_depth_mm: 18.6\\nflipper_length_mm: 190\\nbody_mass_g: 3700\\nsex: FEMALE'),\n",
       " Document(metadata={'source': 'some_data/penguins.csv', 'row': 97}, page_content='species: Adelie\\nisland: Dream\\nbill_length_mm: 40.3\\nbill_depth_mm: 18.5\\nflipper_length_mm: 196\\nbody_mass_g: 4350\\nsex: MALE'),\n",
       " Document(metadata={'source': 'some_data/penguins.csv', 'row': 98}, page_content='species: Adelie\\nisland: Dream\\nbill_length_mm: 33.1\\nbill_depth_mm: 16.1\\nflipper_length_mm: 178\\nbody_mass_g: 2900\\nsex: FEMALE'),\n",
       " Document(metadata={'source': 'some_data/penguins.csv', 'row': 99}, page_content='species: Adelie\\nisland: Dream\\nbill_length_mm: 43.2\\nbill_depth_mm: 18.5\\nflipper_length_mm: 192\\nbody_mass_g: 4100\\nsex: MALE'),\n",
       " Document(metadata={'source': 'some_data/penguins.csv', 'row': 100}, page_content='species: Adelie\\nisland: Biscoe\\nbill_length_mm: 35\\nbill_depth_mm: 17.9\\nflipper_length_mm: 192\\nbody_mass_g: 3725\\nsex: FEMALE'),\n",
       " Document(metadata={'source': 'some_data/penguins.csv', 'row': 101}, page_content='species: Adelie\\nisland: Biscoe\\nbill_length_mm: 41\\nbill_depth_mm: 20\\nflipper_length_mm: 203\\nbody_mass_g: 4725\\nsex: MALE'),\n",
       " Document(metadata={'source': 'some_data/penguins.csv', 'row': 102}, page_content='species: Adelie\\nisland: Biscoe\\nbill_length_mm: 37.7\\nbill_depth_mm: 16\\nflipper_length_mm: 183\\nbody_mass_g: 3075\\nsex: FEMALE'),\n",
       " Document(metadata={'source': 'some_data/penguins.csv', 'row': 103}, page_content='species: Adelie\\nisland: Biscoe\\nbill_length_mm: 37.8\\nbill_depth_mm: 20\\nflipper_length_mm: 190\\nbody_mass_g: 4250\\nsex: MALE'),\n",
       " Document(metadata={'source': 'some_data/penguins.csv', 'row': 104}, page_content='species: Adelie\\nisland: Biscoe\\nbill_length_mm: 37.9\\nbill_depth_mm: 18.6\\nflipper_length_mm: 193\\nbody_mass_g: 2925\\nsex: FEMALE'),\n",
       " Document(metadata={'source': 'some_data/penguins.csv', 'row': 105}, page_content='species: Adelie\\nisland: Biscoe\\nbill_length_mm: 39.7\\nbill_depth_mm: 18.9\\nflipper_length_mm: 184\\nbody_mass_g: 3550\\nsex: MALE'),\n",
       " Document(metadata={'source': 'some_data/penguins.csv', 'row': 106}, page_content='species: Adelie\\nisland: Biscoe\\nbill_length_mm: 38.6\\nbill_depth_mm: 17.2\\nflipper_length_mm: 199\\nbody_mass_g: 3750\\nsex: FEMALE'),\n",
       " Document(metadata={'source': 'some_data/penguins.csv', 'row': 107}, page_content='species: Adelie\\nisland: Biscoe\\nbill_length_mm: 38.2\\nbill_depth_mm: 20\\nflipper_length_mm: 190\\nbody_mass_g: 3900\\nsex: MALE'),\n",
       " Document(metadata={'source': 'some_data/penguins.csv', 'row': 108}, page_content='species: Adelie\\nisland: Biscoe\\nbill_length_mm: 38.1\\nbill_depth_mm: 17\\nflipper_length_mm: 181\\nbody_mass_g: 3175\\nsex: FEMALE'),\n",
       " Document(metadata={'source': 'some_data/penguins.csv', 'row': 109}, page_content='species: Adelie\\nisland: Biscoe\\nbill_length_mm: 43.2\\nbill_depth_mm: 19\\nflipper_length_mm: 197\\nbody_mass_g: 4775\\nsex: MALE'),\n",
       " Document(metadata={'source': 'some_data/penguins.csv', 'row': 110}, page_content='species: Adelie\\nisland: Biscoe\\nbill_length_mm: 38.1\\nbill_depth_mm: 16.5\\nflipper_length_mm: 198\\nbody_mass_g: 3825\\nsex: FEMALE'),\n",
       " Document(metadata={'source': 'some_data/penguins.csv', 'row': 111}, page_content='species: Adelie\\nisland: Biscoe\\nbill_length_mm: 45.6\\nbill_depth_mm: 20.3\\nflipper_length_mm: 191\\nbody_mass_g: 4600\\nsex: MALE'),\n",
       " Document(metadata={'source': 'some_data/penguins.csv', 'row': 112}, page_content='species: Adelie\\nisland: Biscoe\\nbill_length_mm: 39.7\\nbill_depth_mm: 17.7\\nflipper_length_mm: 193\\nbody_mass_g: 3200\\nsex: FEMALE'),\n",
       " Document(metadata={'source': 'some_data/penguins.csv', 'row': 113}, page_content='species: Adelie\\nisland: Biscoe\\nbill_length_mm: 42.2\\nbill_depth_mm: 19.5\\nflipper_length_mm: 197\\nbody_mass_g: 4275\\nsex: MALE'),\n",
       " Document(metadata={'source': 'some_data/penguins.csv', 'row': 114}, page_content='species: Adelie\\nisland: Biscoe\\nbill_length_mm: 39.6\\nbill_depth_mm: 20.7\\nflipper_length_mm: 191\\nbody_mass_g: 3900\\nsex: FEMALE'),\n",
       " Document(metadata={'source': 'some_data/penguins.csv', 'row': 115}, page_content='species: Adelie\\nisland: Biscoe\\nbill_length_mm: 42.7\\nbill_depth_mm: 18.3\\nflipper_length_mm: 196\\nbody_mass_g: 4075\\nsex: MALE'),\n",
       " Document(metadata={'source': 'some_data/penguins.csv', 'row': 116}, page_content='species: Adelie\\nisland: Torgersen\\nbill_length_mm: 38.6\\nbill_depth_mm: 17\\nflipper_length_mm: 188\\nbody_mass_g: 2900\\nsex: FEMALE'),\n",
       " Document(metadata={'source': 'some_data/penguins.csv', 'row': 117}, page_content='species: Adelie\\nisland: Torgersen\\nbill_length_mm: 37.3\\nbill_depth_mm: 20.5\\nflipper_length_mm: 199\\nbody_mass_g: 3775\\nsex: MALE'),\n",
       " Document(metadata={'source': 'some_data/penguins.csv', 'row': 118}, page_content='species: Adelie\\nisland: Torgersen\\nbill_length_mm: 35.7\\nbill_depth_mm: 17\\nflipper_length_mm: 189\\nbody_mass_g: 3350\\nsex: FEMALE'),\n",
       " Document(metadata={'source': 'some_data/penguins.csv', 'row': 119}, page_content='species: Adelie\\nisland: Torgersen\\nbill_length_mm: 41.1\\nbill_depth_mm: 18.6\\nflipper_length_mm: 189\\nbody_mass_g: 3325\\nsex: MALE'),\n",
       " Document(metadata={'source': 'some_data/penguins.csv', 'row': 120}, page_content='species: Adelie\\nisland: Torgersen\\nbill_length_mm: 36.2\\nbill_depth_mm: 17.2\\nflipper_length_mm: 187\\nbody_mass_g: 3150\\nsex: FEMALE'),\n",
       " Document(metadata={'source': 'some_data/penguins.csv', 'row': 121}, page_content='species: Adelie\\nisland: Torgersen\\nbill_length_mm: 37.7\\nbill_depth_mm: 19.8\\nflipper_length_mm: 198\\nbody_mass_g: 3500\\nsex: MALE'),\n",
       " Document(metadata={'source': 'some_data/penguins.csv', 'row': 122}, page_content='species: Adelie\\nisland: Torgersen\\nbill_length_mm: 40.2\\nbill_depth_mm: 17\\nflipper_length_mm: 176\\nbody_mass_g: 3450\\nsex: FEMALE'),\n",
       " Document(metadata={'source': 'some_data/penguins.csv', 'row': 123}, page_content='species: Adelie\\nisland: Torgersen\\nbill_length_mm: 41.4\\nbill_depth_mm: 18.5\\nflipper_length_mm: 202\\nbody_mass_g: 3875\\nsex: MALE'),\n",
       " Document(metadata={'source': 'some_data/penguins.csv', 'row': 124}, page_content='species: Adelie\\nisland: Torgersen\\nbill_length_mm: 35.2\\nbill_depth_mm: 15.9\\nflipper_length_mm: 186\\nbody_mass_g: 3050\\nsex: FEMALE'),\n",
       " Document(metadata={'source': 'some_data/penguins.csv', 'row': 125}, page_content='species: Adelie\\nisland: Torgersen\\nbill_length_mm: 40.6\\nbill_depth_mm: 19\\nflipper_length_mm: 199\\nbody_mass_g: 4000\\nsex: MALE'),\n",
       " Document(metadata={'source': 'some_data/penguins.csv', 'row': 126}, page_content='species: Adelie\\nisland: Torgersen\\nbill_length_mm: 38.8\\nbill_depth_mm: 17.6\\nflipper_length_mm: 191\\nbody_mass_g: 3275\\nsex: FEMALE'),\n",
       " Document(metadata={'source': 'some_data/penguins.csv', 'row': 127}, page_content='species: Adelie\\nisland: Torgersen\\nbill_length_mm: 41.5\\nbill_depth_mm: 18.3\\nflipper_length_mm: 195\\nbody_mass_g: 4300\\nsex: MALE'),\n",
       " Document(metadata={'source': 'some_data/penguins.csv', 'row': 128}, page_content='species: Adelie\\nisland: Torgersen\\nbill_length_mm: 39\\nbill_depth_mm: 17.1\\nflipper_length_mm: 191\\nbody_mass_g: 3050\\nsex: FEMALE'),\n",
       " Document(metadata={'source': 'some_data/penguins.csv', 'row': 129}, page_content='species: Adelie\\nisland: Torgersen\\nbill_length_mm: 44.1\\nbill_depth_mm: 18\\nflipper_length_mm: 210\\nbody_mass_g: 4000\\nsex: MALE'),\n",
       " Document(metadata={'source': 'some_data/penguins.csv', 'row': 130}, page_content='species: Adelie\\nisland: Torgersen\\nbill_length_mm: 38.5\\nbill_depth_mm: 17.9\\nflipper_length_mm: 190\\nbody_mass_g: 3325\\nsex: FEMALE'),\n",
       " Document(metadata={'source': 'some_data/penguins.csv', 'row': 131}, page_content='species: Adelie\\nisland: Torgersen\\nbill_length_mm: 43.1\\nbill_depth_mm: 19.2\\nflipper_length_mm: 197\\nbody_mass_g: 3500\\nsex: MALE'),\n",
       " Document(metadata={'source': 'some_data/penguins.csv', 'row': 132}, page_content='species: Adelie\\nisland: Dream\\nbill_length_mm: 36.8\\nbill_depth_mm: 18.5\\nflipper_length_mm: 193\\nbody_mass_g: 3500\\nsex: FEMALE'),\n",
       " Document(metadata={'source': 'some_data/penguins.csv', 'row': 133}, page_content='species: Adelie\\nisland: Dream\\nbill_length_mm: 37.5\\nbill_depth_mm: 18.5\\nflipper_length_mm: 199\\nbody_mass_g: 4475\\nsex: MALE'),\n",
       " Document(metadata={'source': 'some_data/penguins.csv', 'row': 134}, page_content='species: Adelie\\nisland: Dream\\nbill_length_mm: 38.1\\nbill_depth_mm: 17.6\\nflipper_length_mm: 187\\nbody_mass_g: 3425\\nsex: FEMALE'),\n",
       " Document(metadata={'source': 'some_data/penguins.csv', 'row': 135}, page_content='species: Adelie\\nisland: Dream\\nbill_length_mm: 41.1\\nbill_depth_mm: 17.5\\nflipper_length_mm: 190\\nbody_mass_g: 3900\\nsex: MALE'),\n",
       " Document(metadata={'source': 'some_data/penguins.csv', 'row': 136}, page_content='species: Adelie\\nisland: Dream\\nbill_length_mm: 35.6\\nbill_depth_mm: 17.5\\nflipper_length_mm: 191\\nbody_mass_g: 3175\\nsex: FEMALE'),\n",
       " Document(metadata={'source': 'some_data/penguins.csv', 'row': 137}, page_content='species: Adelie\\nisland: Dream\\nbill_length_mm: 40.2\\nbill_depth_mm: 20.1\\nflipper_length_mm: 200\\nbody_mass_g: 3975\\nsex: MALE'),\n",
       " Document(metadata={'source': 'some_data/penguins.csv', 'row': 138}, page_content='species: Adelie\\nisland: Dream\\nbill_length_mm: 37\\nbill_depth_mm: 16.5\\nflipper_length_mm: 185\\nbody_mass_g: 3400\\nsex: FEMALE'),\n",
       " Document(metadata={'source': 'some_data/penguins.csv', 'row': 139}, page_content='species: Adelie\\nisland: Dream\\nbill_length_mm: 39.7\\nbill_depth_mm: 17.9\\nflipper_length_mm: 193\\nbody_mass_g: 4250\\nsex: MALE'),\n",
       " Document(metadata={'source': 'some_data/penguins.csv', 'row': 140}, page_content='species: Adelie\\nisland: Dream\\nbill_length_mm: 40.2\\nbill_depth_mm: 17.1\\nflipper_length_mm: 193\\nbody_mass_g: 3400\\nsex: FEMALE'),\n",
       " Document(metadata={'source': 'some_data/penguins.csv', 'row': 141}, page_content='species: Adelie\\nisland: Dream\\nbill_length_mm: 40.6\\nbill_depth_mm: 17.2\\nflipper_length_mm: 187\\nbody_mass_g: 3475\\nsex: MALE'),\n",
       " Document(metadata={'source': 'some_data/penguins.csv', 'row': 142}, page_content='species: Adelie\\nisland: Dream\\nbill_length_mm: 32.1\\nbill_depth_mm: 15.5\\nflipper_length_mm: 188\\nbody_mass_g: 3050\\nsex: FEMALE'),\n",
       " Document(metadata={'source': 'some_data/penguins.csv', 'row': 143}, page_content='species: Adelie\\nisland: Dream\\nbill_length_mm: 40.7\\nbill_depth_mm: 17\\nflipper_length_mm: 190\\nbody_mass_g: 3725\\nsex: MALE'),\n",
       " Document(metadata={'source': 'some_data/penguins.csv', 'row': 144}, page_content='species: Adelie\\nisland: Dream\\nbill_length_mm: 37.3\\nbill_depth_mm: 16.8\\nflipper_length_mm: 192\\nbody_mass_g: 3000\\nsex: FEMALE'),\n",
       " Document(metadata={'source': 'some_data/penguins.csv', 'row': 145}, page_content='species: Adelie\\nisland: Dream\\nbill_length_mm: 39\\nbill_depth_mm: 18.7\\nflipper_length_mm: 185\\nbody_mass_g: 3650\\nsex: MALE'),\n",
       " Document(metadata={'source': 'some_data/penguins.csv', 'row': 146}, page_content='species: Adelie\\nisland: Dream\\nbill_length_mm: 39.2\\nbill_depth_mm: 18.6\\nflipper_length_mm: 190\\nbody_mass_g: 4250\\nsex: MALE'),\n",
       " Document(metadata={'source': 'some_data/penguins.csv', 'row': 147}, page_content='species: Adelie\\nisland: Dream\\nbill_length_mm: 36.6\\nbill_depth_mm: 18.4\\nflipper_length_mm: 184\\nbody_mass_g: 3475\\nsex: FEMALE'),\n",
       " Document(metadata={'source': 'some_data/penguins.csv', 'row': 148}, page_content='species: Adelie\\nisland: Dream\\nbill_length_mm: 36\\nbill_depth_mm: 17.8\\nflipper_length_mm: 195\\nbody_mass_g: 3450\\nsex: FEMALE'),\n",
       " Document(metadata={'source': 'some_data/penguins.csv', 'row': 149}, page_content='species: Adelie\\nisland: Dream\\nbill_length_mm: 37.8\\nbill_depth_mm: 18.1\\nflipper_length_mm: 193\\nbody_mass_g: 3750\\nsex: MALE'),\n",
       " Document(metadata={'source': 'some_data/penguins.csv', 'row': 150}, page_content='species: Adelie\\nisland: Dream\\nbill_length_mm: 36\\nbill_depth_mm: 17.1\\nflipper_length_mm: 187\\nbody_mass_g: 3700\\nsex: FEMALE'),\n",
       " Document(metadata={'source': 'some_data/penguins.csv', 'row': 151}, page_content='species: Adelie\\nisland: Dream\\nbill_length_mm: 41.5\\nbill_depth_mm: 18.5\\nflipper_length_mm: 201\\nbody_mass_g: 4000\\nsex: MALE'),\n",
       " Document(metadata={'source': 'some_data/penguins.csv', 'row': 152}, page_content='species: Chinstrap\\nisland: Dream\\nbill_length_mm: 46.5\\nbill_depth_mm: 17.9\\nflipper_length_mm: 192\\nbody_mass_g: 3500\\nsex: FEMALE'),\n",
       " Document(metadata={'source': 'some_data/penguins.csv', 'row': 153}, page_content='species: Chinstrap\\nisland: Dream\\nbill_length_mm: 50\\nbill_depth_mm: 19.5\\nflipper_length_mm: 196\\nbody_mass_g: 3900\\nsex: MALE'),\n",
       " Document(metadata={'source': 'some_data/penguins.csv', 'row': 154}, page_content='species: Chinstrap\\nisland: Dream\\nbill_length_mm: 51.3\\nbill_depth_mm: 19.2\\nflipper_length_mm: 193\\nbody_mass_g: 3650\\nsex: MALE'),\n",
       " Document(metadata={'source': 'some_data/penguins.csv', 'row': 155}, page_content='species: Chinstrap\\nisland: Dream\\nbill_length_mm: 45.4\\nbill_depth_mm: 18.7\\nflipper_length_mm: 188\\nbody_mass_g: 3525\\nsex: FEMALE'),\n",
       " Document(metadata={'source': 'some_data/penguins.csv', 'row': 156}, page_content='species: Chinstrap\\nisland: Dream\\nbill_length_mm: 52.7\\nbill_depth_mm: 19.8\\nflipper_length_mm: 197\\nbody_mass_g: 3725\\nsex: MALE'),\n",
       " Document(metadata={'source': 'some_data/penguins.csv', 'row': 157}, page_content='species: Chinstrap\\nisland: Dream\\nbill_length_mm: 45.2\\nbill_depth_mm: 17.8\\nflipper_length_mm: 198\\nbody_mass_g: 3950\\nsex: FEMALE'),\n",
       " Document(metadata={'source': 'some_data/penguins.csv', 'row': 158}, page_content='species: Chinstrap\\nisland: Dream\\nbill_length_mm: 46.1\\nbill_depth_mm: 18.2\\nflipper_length_mm: 178\\nbody_mass_g: 3250\\nsex: FEMALE'),\n",
       " Document(metadata={'source': 'some_data/penguins.csv', 'row': 159}, page_content='species: Chinstrap\\nisland: Dream\\nbill_length_mm: 51.3\\nbill_depth_mm: 18.2\\nflipper_length_mm: 197\\nbody_mass_g: 3750\\nsex: MALE'),\n",
       " Document(metadata={'source': 'some_data/penguins.csv', 'row': 160}, page_content='species: Chinstrap\\nisland: Dream\\nbill_length_mm: 46\\nbill_depth_mm: 18.9\\nflipper_length_mm: 195\\nbody_mass_g: 4150\\nsex: FEMALE'),\n",
       " Document(metadata={'source': 'some_data/penguins.csv', 'row': 161}, page_content='species: Chinstrap\\nisland: Dream\\nbill_length_mm: 51.3\\nbill_depth_mm: 19.9\\nflipper_length_mm: 198\\nbody_mass_g: 3700\\nsex: MALE'),\n",
       " Document(metadata={'source': 'some_data/penguins.csv', 'row': 162}, page_content='species: Chinstrap\\nisland: Dream\\nbill_length_mm: 46.6\\nbill_depth_mm: 17.8\\nflipper_length_mm: 193\\nbody_mass_g: 3800\\nsex: FEMALE'),\n",
       " Document(metadata={'source': 'some_data/penguins.csv', 'row': 163}, page_content='species: Chinstrap\\nisland: Dream\\nbill_length_mm: 51.7\\nbill_depth_mm: 20.3\\nflipper_length_mm: 194\\nbody_mass_g: 3775\\nsex: MALE'),\n",
       " Document(metadata={'source': 'some_data/penguins.csv', 'row': 164}, page_content='species: Chinstrap\\nisland: Dream\\nbill_length_mm: 47\\nbill_depth_mm: 17.3\\nflipper_length_mm: 185\\nbody_mass_g: 3700\\nsex: FEMALE'),\n",
       " Document(metadata={'source': 'some_data/penguins.csv', 'row': 165}, page_content='species: Chinstrap\\nisland: Dream\\nbill_length_mm: 52\\nbill_depth_mm: 18.1\\nflipper_length_mm: 201\\nbody_mass_g: 4050\\nsex: MALE'),\n",
       " Document(metadata={'source': 'some_data/penguins.csv', 'row': 166}, page_content='species: Chinstrap\\nisland: Dream\\nbill_length_mm: 45.9\\nbill_depth_mm: 17.1\\nflipper_length_mm: 190\\nbody_mass_g: 3575\\nsex: FEMALE'),\n",
       " Document(metadata={'source': 'some_data/penguins.csv', 'row': 167}, page_content='species: Chinstrap\\nisland: Dream\\nbill_length_mm: 50.5\\nbill_depth_mm: 19.6\\nflipper_length_mm: 201\\nbody_mass_g: 4050\\nsex: MALE'),\n",
       " Document(metadata={'source': 'some_data/penguins.csv', 'row': 168}, page_content='species: Chinstrap\\nisland: Dream\\nbill_length_mm: 50.3\\nbill_depth_mm: 20\\nflipper_length_mm: 197\\nbody_mass_g: 3300\\nsex: MALE'),\n",
       " Document(metadata={'source': 'some_data/penguins.csv', 'row': 169}, page_content='species: Chinstrap\\nisland: Dream\\nbill_length_mm: 58\\nbill_depth_mm: 17.8\\nflipper_length_mm: 181\\nbody_mass_g: 3700\\nsex: FEMALE'),\n",
       " Document(metadata={'source': 'some_data/penguins.csv', 'row': 170}, page_content='species: Chinstrap\\nisland: Dream\\nbill_length_mm: 46.4\\nbill_depth_mm: 18.6\\nflipper_length_mm: 190\\nbody_mass_g: 3450\\nsex: FEMALE'),\n",
       " Document(metadata={'source': 'some_data/penguins.csv', 'row': 171}, page_content='species: Chinstrap\\nisland: Dream\\nbill_length_mm: 49.2\\nbill_depth_mm: 18.2\\nflipper_length_mm: 195\\nbody_mass_g: 4400\\nsex: MALE'),\n",
       " Document(metadata={'source': 'some_data/penguins.csv', 'row': 172}, page_content='species: Chinstrap\\nisland: Dream\\nbill_length_mm: 42.4\\nbill_depth_mm: 17.3\\nflipper_length_mm: 181\\nbody_mass_g: 3600\\nsex: FEMALE'),\n",
       " Document(metadata={'source': 'some_data/penguins.csv', 'row': 173}, page_content='species: Chinstrap\\nisland: Dream\\nbill_length_mm: 48.5\\nbill_depth_mm: 17.5\\nflipper_length_mm: 191\\nbody_mass_g: 3400\\nsex: MALE'),\n",
       " Document(metadata={'source': 'some_data/penguins.csv', 'row': 174}, page_content='species: Chinstrap\\nisland: Dream\\nbill_length_mm: 43.2\\nbill_depth_mm: 16.6\\nflipper_length_mm: 187\\nbody_mass_g: 2900\\nsex: FEMALE'),\n",
       " Document(metadata={'source': 'some_data/penguins.csv', 'row': 175}, page_content='species: Chinstrap\\nisland: Dream\\nbill_length_mm: 50.6\\nbill_depth_mm: 19.4\\nflipper_length_mm: 193\\nbody_mass_g: 3800\\nsex: MALE'),\n",
       " Document(metadata={'source': 'some_data/penguins.csv', 'row': 176}, page_content='species: Chinstrap\\nisland: Dream\\nbill_length_mm: 46.7\\nbill_depth_mm: 17.9\\nflipper_length_mm: 195\\nbody_mass_g: 3300\\nsex: FEMALE'),\n",
       " Document(metadata={'source': 'some_data/penguins.csv', 'row': 177}, page_content='species: Chinstrap\\nisland: Dream\\nbill_length_mm: 52\\nbill_depth_mm: 19\\nflipper_length_mm: 197\\nbody_mass_g: 4150\\nsex: MALE'),\n",
       " Document(metadata={'source': 'some_data/penguins.csv', 'row': 178}, page_content='species: Chinstrap\\nisland: Dream\\nbill_length_mm: 50.5\\nbill_depth_mm: 18.4\\nflipper_length_mm: 200\\nbody_mass_g: 3400\\nsex: FEMALE'),\n",
       " Document(metadata={'source': 'some_data/penguins.csv', 'row': 179}, page_content='species: Chinstrap\\nisland: Dream\\nbill_length_mm: 49.5\\nbill_depth_mm: 19\\nflipper_length_mm: 200\\nbody_mass_g: 3800\\nsex: MALE'),\n",
       " Document(metadata={'source': 'some_data/penguins.csv', 'row': 180}, page_content='species: Chinstrap\\nisland: Dream\\nbill_length_mm: 46.4\\nbill_depth_mm: 17.8\\nflipper_length_mm: 191\\nbody_mass_g: 3700\\nsex: FEMALE'),\n",
       " Document(metadata={'source': 'some_data/penguins.csv', 'row': 181}, page_content='species: Chinstrap\\nisland: Dream\\nbill_length_mm: 52.8\\nbill_depth_mm: 20\\nflipper_length_mm: 205\\nbody_mass_g: 4550\\nsex: MALE'),\n",
       " Document(metadata={'source': 'some_data/penguins.csv', 'row': 182}, page_content='species: Chinstrap\\nisland: Dream\\nbill_length_mm: 40.9\\nbill_depth_mm: 16.6\\nflipper_length_mm: 187\\nbody_mass_g: 3200\\nsex: FEMALE'),\n",
       " Document(metadata={'source': 'some_data/penguins.csv', 'row': 183}, page_content='species: Chinstrap\\nisland: Dream\\nbill_length_mm: 54.2\\nbill_depth_mm: 20.8\\nflipper_length_mm: 201\\nbody_mass_g: 4300\\nsex: MALE'),\n",
       " Document(metadata={'source': 'some_data/penguins.csv', 'row': 184}, page_content='species: Chinstrap\\nisland: Dream\\nbill_length_mm: 42.5\\nbill_depth_mm: 16.7\\nflipper_length_mm: 187\\nbody_mass_g: 3350\\nsex: FEMALE'),\n",
       " Document(metadata={'source': 'some_data/penguins.csv', 'row': 185}, page_content='species: Chinstrap\\nisland: Dream\\nbill_length_mm: 51\\nbill_depth_mm: 18.8\\nflipper_length_mm: 203\\nbody_mass_g: 4100\\nsex: MALE'),\n",
       " Document(metadata={'source': 'some_data/penguins.csv', 'row': 186}, page_content='species: Chinstrap\\nisland: Dream\\nbill_length_mm: 49.7\\nbill_depth_mm: 18.6\\nflipper_length_mm: 195\\nbody_mass_g: 3600\\nsex: MALE'),\n",
       " Document(metadata={'source': 'some_data/penguins.csv', 'row': 187}, page_content='species: Chinstrap\\nisland: Dream\\nbill_length_mm: 47.5\\nbill_depth_mm: 16.8\\nflipper_length_mm: 199\\nbody_mass_g: 3900\\nsex: FEMALE'),\n",
       " Document(metadata={'source': 'some_data/penguins.csv', 'row': 188}, page_content='species: Chinstrap\\nisland: Dream\\nbill_length_mm: 47.6\\nbill_depth_mm: 18.3\\nflipper_length_mm: 195\\nbody_mass_g: 3850\\nsex: FEMALE'),\n",
       " Document(metadata={'source': 'some_data/penguins.csv', 'row': 189}, page_content='species: Chinstrap\\nisland: Dream\\nbill_length_mm: 52\\nbill_depth_mm: 20.7\\nflipper_length_mm: 210\\nbody_mass_g: 4800\\nsex: MALE'),\n",
       " Document(metadata={'source': 'some_data/penguins.csv', 'row': 190}, page_content='species: Chinstrap\\nisland: Dream\\nbill_length_mm: 46.9\\nbill_depth_mm: 16.6\\nflipper_length_mm: 192\\nbody_mass_g: 2700\\nsex: FEMALE'),\n",
       " Document(metadata={'source': 'some_data/penguins.csv', 'row': 191}, page_content='species: Chinstrap\\nisland: Dream\\nbill_length_mm: 53.5\\nbill_depth_mm: 19.9\\nflipper_length_mm: 205\\nbody_mass_g: 4500\\nsex: MALE'),\n",
       " Document(metadata={'source': 'some_data/penguins.csv', 'row': 192}, page_content='species: Chinstrap\\nisland: Dream\\nbill_length_mm: 49\\nbill_depth_mm: 19.5\\nflipper_length_mm: 210\\nbody_mass_g: 3950\\nsex: MALE'),\n",
       " Document(metadata={'source': 'some_data/penguins.csv', 'row': 193}, page_content='species: Chinstrap\\nisland: Dream\\nbill_length_mm: 46.2\\nbill_depth_mm: 17.5\\nflipper_length_mm: 187\\nbody_mass_g: 3650\\nsex: FEMALE'),\n",
       " Document(metadata={'source': 'some_data/penguins.csv', 'row': 194}, page_content='species: Chinstrap\\nisland: Dream\\nbill_length_mm: 50.9\\nbill_depth_mm: 19.1\\nflipper_length_mm: 196\\nbody_mass_g: 3550\\nsex: MALE'),\n",
       " Document(metadata={'source': 'some_data/penguins.csv', 'row': 195}, page_content='species: Chinstrap\\nisland: Dream\\nbill_length_mm: 45.5\\nbill_depth_mm: 17\\nflipper_length_mm: 196\\nbody_mass_g: 3500\\nsex: FEMALE'),\n",
       " Document(metadata={'source': 'some_data/penguins.csv', 'row': 196}, page_content='species: Chinstrap\\nisland: Dream\\nbill_length_mm: 50.9\\nbill_depth_mm: 17.9\\nflipper_length_mm: 196\\nbody_mass_g: 3675\\nsex: FEMALE'),\n",
       " Document(metadata={'source': 'some_data/penguins.csv', 'row': 197}, page_content='species: Chinstrap\\nisland: Dream\\nbill_length_mm: 50.8\\nbill_depth_mm: 18.5\\nflipper_length_mm: 201\\nbody_mass_g: 4450\\nsex: MALE'),\n",
       " Document(metadata={'source': 'some_data/penguins.csv', 'row': 198}, page_content='species: Chinstrap\\nisland: Dream\\nbill_length_mm: 50.1\\nbill_depth_mm: 17.9\\nflipper_length_mm: 190\\nbody_mass_g: 3400\\nsex: FEMALE'),\n",
       " Document(metadata={'source': 'some_data/penguins.csv', 'row': 199}, page_content='species: Chinstrap\\nisland: Dream\\nbill_length_mm: 49\\nbill_depth_mm: 19.6\\nflipper_length_mm: 212\\nbody_mass_g: 4300\\nsex: MALE'),\n",
       " Document(metadata={'source': 'some_data/penguins.csv', 'row': 200}, page_content='species: Chinstrap\\nisland: Dream\\nbill_length_mm: 51.5\\nbill_depth_mm: 18.7\\nflipper_length_mm: 187\\nbody_mass_g: 3250\\nsex: MALE'),\n",
       " Document(metadata={'source': 'some_data/penguins.csv', 'row': 201}, page_content='species: Chinstrap\\nisland: Dream\\nbill_length_mm: 49.8\\nbill_depth_mm: 17.3\\nflipper_length_mm: 198\\nbody_mass_g: 3675\\nsex: FEMALE'),\n",
       " Document(metadata={'source': 'some_data/penguins.csv', 'row': 202}, page_content='species: Chinstrap\\nisland: Dream\\nbill_length_mm: 48.1\\nbill_depth_mm: 16.4\\nflipper_length_mm: 199\\nbody_mass_g: 3325\\nsex: FEMALE'),\n",
       " Document(metadata={'source': 'some_data/penguins.csv', 'row': 203}, page_content='species: Chinstrap\\nisland: Dream\\nbill_length_mm: 51.4\\nbill_depth_mm: 19\\nflipper_length_mm: 201\\nbody_mass_g: 3950\\nsex: MALE'),\n",
       " Document(metadata={'source': 'some_data/penguins.csv', 'row': 204}, page_content='species: Chinstrap\\nisland: Dream\\nbill_length_mm: 45.7\\nbill_depth_mm: 17.3\\nflipper_length_mm: 193\\nbody_mass_g: 3600\\nsex: FEMALE'),\n",
       " Document(metadata={'source': 'some_data/penguins.csv', 'row': 205}, page_content='species: Chinstrap\\nisland: Dream\\nbill_length_mm: 50.7\\nbill_depth_mm: 19.7\\nflipper_length_mm: 203\\nbody_mass_g: 4050\\nsex: MALE'),\n",
       " Document(metadata={'source': 'some_data/penguins.csv', 'row': 206}, page_content='species: Chinstrap\\nisland: Dream\\nbill_length_mm: 42.5\\nbill_depth_mm: 17.3\\nflipper_length_mm: 187\\nbody_mass_g: 3350\\nsex: FEMALE'),\n",
       " Document(metadata={'source': 'some_data/penguins.csv', 'row': 207}, page_content='species: Chinstrap\\nisland: Dream\\nbill_length_mm: 52.2\\nbill_depth_mm: 18.8\\nflipper_length_mm: 197\\nbody_mass_g: 3450\\nsex: MALE'),\n",
       " Document(metadata={'source': 'some_data/penguins.csv', 'row': 208}, page_content='species: Chinstrap\\nisland: Dream\\nbill_length_mm: 45.2\\nbill_depth_mm: 16.6\\nflipper_length_mm: 191\\nbody_mass_g: 3250\\nsex: FEMALE'),\n",
       " Document(metadata={'source': 'some_data/penguins.csv', 'row': 209}, page_content='species: Chinstrap\\nisland: Dream\\nbill_length_mm: 49.3\\nbill_depth_mm: 19.9\\nflipper_length_mm: 203\\nbody_mass_g: 4050\\nsex: MALE'),\n",
       " Document(metadata={'source': 'some_data/penguins.csv', 'row': 210}, page_content='species: Chinstrap\\nisland: Dream\\nbill_length_mm: 50.2\\nbill_depth_mm: 18.8\\nflipper_length_mm: 202\\nbody_mass_g: 3800\\nsex: MALE'),\n",
       " Document(metadata={'source': 'some_data/penguins.csv', 'row': 211}, page_content='species: Chinstrap\\nisland: Dream\\nbill_length_mm: 45.6\\nbill_depth_mm: 19.4\\nflipper_length_mm: 194\\nbody_mass_g: 3525\\nsex: FEMALE'),\n",
       " Document(metadata={'source': 'some_data/penguins.csv', 'row': 212}, page_content='species: Chinstrap\\nisland: Dream\\nbill_length_mm: 51.9\\nbill_depth_mm: 19.5\\nflipper_length_mm: 206\\nbody_mass_g: 3950\\nsex: MALE'),\n",
       " Document(metadata={'source': 'some_data/penguins.csv', 'row': 213}, page_content='species: Chinstrap\\nisland: Dream\\nbill_length_mm: 46.8\\nbill_depth_mm: 16.5\\nflipper_length_mm: 189\\nbody_mass_g: 3650\\nsex: FEMALE'),\n",
       " Document(metadata={'source': 'some_data/penguins.csv', 'row': 214}, page_content='species: Chinstrap\\nisland: Dream\\nbill_length_mm: 45.7\\nbill_depth_mm: 17\\nflipper_length_mm: 195\\nbody_mass_g: 3650\\nsex: FEMALE'),\n",
       " Document(metadata={'source': 'some_data/penguins.csv', 'row': 215}, page_content='species: Chinstrap\\nisland: Dream\\nbill_length_mm: 55.8\\nbill_depth_mm: 19.8\\nflipper_length_mm: 207\\nbody_mass_g: 4000\\nsex: MALE'),\n",
       " Document(metadata={'source': 'some_data/penguins.csv', 'row': 216}, page_content='species: Chinstrap\\nisland: Dream\\nbill_length_mm: 43.5\\nbill_depth_mm: 18.1\\nflipper_length_mm: 202\\nbody_mass_g: 3400\\nsex: FEMALE'),\n",
       " Document(metadata={'source': 'some_data/penguins.csv', 'row': 217}, page_content='species: Chinstrap\\nisland: Dream\\nbill_length_mm: 49.6\\nbill_depth_mm: 18.2\\nflipper_length_mm: 193\\nbody_mass_g: 3775\\nsex: MALE'),\n",
       " Document(metadata={'source': 'some_data/penguins.csv', 'row': 218}, page_content='species: Chinstrap\\nisland: Dream\\nbill_length_mm: 50.8\\nbill_depth_mm: 19\\nflipper_length_mm: 210\\nbody_mass_g: 4100\\nsex: MALE'),\n",
       " Document(metadata={'source': 'some_data/penguins.csv', 'row': 219}, page_content='species: Chinstrap\\nisland: Dream\\nbill_length_mm: 50.2\\nbill_depth_mm: 18.7\\nflipper_length_mm: 198\\nbody_mass_g: 3775\\nsex: FEMALE'),\n",
       " Document(metadata={'source': 'some_data/penguins.csv', 'row': 220}, page_content='species: Gentoo\\nisland: Biscoe\\nbill_length_mm: 46.1\\nbill_depth_mm: 13.2\\nflipper_length_mm: 211\\nbody_mass_g: 4500\\nsex: FEMALE'),\n",
       " Document(metadata={'source': 'some_data/penguins.csv', 'row': 221}, page_content='species: Gentoo\\nisland: Biscoe\\nbill_length_mm: 50\\nbill_depth_mm: 16.3\\nflipper_length_mm: 230\\nbody_mass_g: 5700\\nsex: MALE'),\n",
       " Document(metadata={'source': 'some_data/penguins.csv', 'row': 222}, page_content='species: Gentoo\\nisland: Biscoe\\nbill_length_mm: 48.7\\nbill_depth_mm: 14.1\\nflipper_length_mm: 210\\nbody_mass_g: 4450\\nsex: FEMALE'),\n",
       " Document(metadata={'source': 'some_data/penguins.csv', 'row': 223}, page_content='species: Gentoo\\nisland: Biscoe\\nbill_length_mm: 50\\nbill_depth_mm: 15.2\\nflipper_length_mm: 218\\nbody_mass_g: 5700\\nsex: MALE'),\n",
       " Document(metadata={'source': 'some_data/penguins.csv', 'row': 224}, page_content='species: Gentoo\\nisland: Biscoe\\nbill_length_mm: 47.6\\nbill_depth_mm: 14.5\\nflipper_length_mm: 215\\nbody_mass_g: 5400\\nsex: MALE'),\n",
       " Document(metadata={'source': 'some_data/penguins.csv', 'row': 225}, page_content='species: Gentoo\\nisland: Biscoe\\nbill_length_mm: 46.5\\nbill_depth_mm: 13.5\\nflipper_length_mm: 210\\nbody_mass_g: 4550\\nsex: FEMALE'),\n",
       " Document(metadata={'source': 'some_data/penguins.csv', 'row': 226}, page_content='species: Gentoo\\nisland: Biscoe\\nbill_length_mm: 45.4\\nbill_depth_mm: 14.6\\nflipper_length_mm: 211\\nbody_mass_g: 4800\\nsex: FEMALE'),\n",
       " Document(metadata={'source': 'some_data/penguins.csv', 'row': 227}, page_content='species: Gentoo\\nisland: Biscoe\\nbill_length_mm: 46.7\\nbill_depth_mm: 15.3\\nflipper_length_mm: 219\\nbody_mass_g: 5200\\nsex: MALE'),\n",
       " Document(metadata={'source': 'some_data/penguins.csv', 'row': 228}, page_content='species: Gentoo\\nisland: Biscoe\\nbill_length_mm: 43.3\\nbill_depth_mm: 13.4\\nflipper_length_mm: 209\\nbody_mass_g: 4400\\nsex: FEMALE'),\n",
       " Document(metadata={'source': 'some_data/penguins.csv', 'row': 229}, page_content='species: Gentoo\\nisland: Biscoe\\nbill_length_mm: 46.8\\nbill_depth_mm: 15.4\\nflipper_length_mm: 215\\nbody_mass_g: 5150\\nsex: MALE'),\n",
       " Document(metadata={'source': 'some_data/penguins.csv', 'row': 230}, page_content='species: Gentoo\\nisland: Biscoe\\nbill_length_mm: 40.9\\nbill_depth_mm: 13.7\\nflipper_length_mm: 214\\nbody_mass_g: 4650\\nsex: FEMALE'),\n",
       " Document(metadata={'source': 'some_data/penguins.csv', 'row': 231}, page_content='species: Gentoo\\nisland: Biscoe\\nbill_length_mm: 49\\nbill_depth_mm: 16.1\\nflipper_length_mm: 216\\nbody_mass_g: 5550\\nsex: MALE'),\n",
       " Document(metadata={'source': 'some_data/penguins.csv', 'row': 232}, page_content='species: Gentoo\\nisland: Biscoe\\nbill_length_mm: 45.5\\nbill_depth_mm: 13.7\\nflipper_length_mm: 214\\nbody_mass_g: 4650\\nsex: FEMALE'),\n",
       " Document(metadata={'source': 'some_data/penguins.csv', 'row': 233}, page_content='species: Gentoo\\nisland: Biscoe\\nbill_length_mm: 48.4\\nbill_depth_mm: 14.6\\nflipper_length_mm: 213\\nbody_mass_g: 5850\\nsex: MALE'),\n",
       " Document(metadata={'source': 'some_data/penguins.csv', 'row': 234}, page_content='species: Gentoo\\nisland: Biscoe\\nbill_length_mm: 45.8\\nbill_depth_mm: 14.6\\nflipper_length_mm: 210\\nbody_mass_g: 4200\\nsex: FEMALE'),\n",
       " Document(metadata={'source': 'some_data/penguins.csv', 'row': 235}, page_content='species: Gentoo\\nisland: Biscoe\\nbill_length_mm: 49.3\\nbill_depth_mm: 15.7\\nflipper_length_mm: 217\\nbody_mass_g: 5850\\nsex: MALE'),\n",
       " Document(metadata={'source': 'some_data/penguins.csv', 'row': 236}, page_content='species: Gentoo\\nisland: Biscoe\\nbill_length_mm: 42\\nbill_depth_mm: 13.5\\nflipper_length_mm: 210\\nbody_mass_g: 4150\\nsex: FEMALE'),\n",
       " Document(metadata={'source': 'some_data/penguins.csv', 'row': 237}, page_content='species: Gentoo\\nisland: Biscoe\\nbill_length_mm: 49.2\\nbill_depth_mm: 15.2\\nflipper_length_mm: 221\\nbody_mass_g: 6300\\nsex: MALE'),\n",
       " Document(metadata={'source': 'some_data/penguins.csv', 'row': 238}, page_content='species: Gentoo\\nisland: Biscoe\\nbill_length_mm: 46.2\\nbill_depth_mm: 14.5\\nflipper_length_mm: 209\\nbody_mass_g: 4800\\nsex: FEMALE'),\n",
       " Document(metadata={'source': 'some_data/penguins.csv', 'row': 239}, page_content='species: Gentoo\\nisland: Biscoe\\nbill_length_mm: 48.7\\nbill_depth_mm: 15.1\\nflipper_length_mm: 222\\nbody_mass_g: 5350\\nsex: MALE'),\n",
       " Document(metadata={'source': 'some_data/penguins.csv', 'row': 240}, page_content='species: Gentoo\\nisland: Biscoe\\nbill_length_mm: 50.2\\nbill_depth_mm: 14.3\\nflipper_length_mm: 218\\nbody_mass_g: 5700\\nsex: MALE'),\n",
       " Document(metadata={'source': 'some_data/penguins.csv', 'row': 241}, page_content='species: Gentoo\\nisland: Biscoe\\nbill_length_mm: 45.1\\nbill_depth_mm: 14.5\\nflipper_length_mm: 215\\nbody_mass_g: 5000\\nsex: FEMALE'),\n",
       " Document(metadata={'source': 'some_data/penguins.csv', 'row': 242}, page_content='species: Gentoo\\nisland: Biscoe\\nbill_length_mm: 46.5\\nbill_depth_mm: 14.5\\nflipper_length_mm: 213\\nbody_mass_g: 4400\\nsex: FEMALE'),\n",
       " Document(metadata={'source': 'some_data/penguins.csv', 'row': 243}, page_content='species: Gentoo\\nisland: Biscoe\\nbill_length_mm: 46.3\\nbill_depth_mm: 15.8\\nflipper_length_mm: 215\\nbody_mass_g: 5050\\nsex: MALE'),\n",
       " Document(metadata={'source': 'some_data/penguins.csv', 'row': 244}, page_content='species: Gentoo\\nisland: Biscoe\\nbill_length_mm: 42.9\\nbill_depth_mm: 13.1\\nflipper_length_mm: 215\\nbody_mass_g: 5000\\nsex: FEMALE'),\n",
       " Document(metadata={'source': 'some_data/penguins.csv', 'row': 245}, page_content='species: Gentoo\\nisland: Biscoe\\nbill_length_mm: 46.1\\nbill_depth_mm: 15.1\\nflipper_length_mm: 215\\nbody_mass_g: 5100\\nsex: MALE'),\n",
       " Document(metadata={'source': 'some_data/penguins.csv', 'row': 246}, page_content='species: Gentoo\\nisland: Biscoe\\nbill_length_mm: 44.5\\nbill_depth_mm: 14.3\\nflipper_length_mm: 216\\nbody_mass_g: 4100\\nsex: '),\n",
       " Document(metadata={'source': 'some_data/penguins.csv', 'row': 247}, page_content='species: Gentoo\\nisland: Biscoe\\nbill_length_mm: 47.8\\nbill_depth_mm: 15\\nflipper_length_mm: 215\\nbody_mass_g: 5650\\nsex: MALE'),\n",
       " Document(metadata={'source': 'some_data/penguins.csv', 'row': 248}, page_content='species: Gentoo\\nisland: Biscoe\\nbill_length_mm: 48.2\\nbill_depth_mm: 14.3\\nflipper_length_mm: 210\\nbody_mass_g: 4600\\nsex: FEMALE'),\n",
       " Document(metadata={'source': 'some_data/penguins.csv', 'row': 249}, page_content='species: Gentoo\\nisland: Biscoe\\nbill_length_mm: 50\\nbill_depth_mm: 15.3\\nflipper_length_mm: 220\\nbody_mass_g: 5550\\nsex: MALE'),\n",
       " Document(metadata={'source': 'some_data/penguins.csv', 'row': 250}, page_content='species: Gentoo\\nisland: Biscoe\\nbill_length_mm: 47.3\\nbill_depth_mm: 15.3\\nflipper_length_mm: 222\\nbody_mass_g: 5250\\nsex: MALE'),\n",
       " Document(metadata={'source': 'some_data/penguins.csv', 'row': 251}, page_content='species: Gentoo\\nisland: Biscoe\\nbill_length_mm: 42.8\\nbill_depth_mm: 14.2\\nflipper_length_mm: 209\\nbody_mass_g: 4700\\nsex: FEMALE'),\n",
       " Document(metadata={'source': 'some_data/penguins.csv', 'row': 252}, page_content='species: Gentoo\\nisland: Biscoe\\nbill_length_mm: 45.1\\nbill_depth_mm: 14.5\\nflipper_length_mm: 207\\nbody_mass_g: 5050\\nsex: FEMALE'),\n",
       " Document(metadata={'source': 'some_data/penguins.csv', 'row': 253}, page_content='species: Gentoo\\nisland: Biscoe\\nbill_length_mm: 59.6\\nbill_depth_mm: 17\\nflipper_length_mm: 230\\nbody_mass_g: 6050\\nsex: MALE'),\n",
       " Document(metadata={'source': 'some_data/penguins.csv', 'row': 254}, page_content='species: Gentoo\\nisland: Biscoe\\nbill_length_mm: 49.1\\nbill_depth_mm: 14.8\\nflipper_length_mm: 220\\nbody_mass_g: 5150\\nsex: FEMALE'),\n",
       " Document(metadata={'source': 'some_data/penguins.csv', 'row': 255}, page_content='species: Gentoo\\nisland: Biscoe\\nbill_length_mm: 48.4\\nbill_depth_mm: 16.3\\nflipper_length_mm: 220\\nbody_mass_g: 5400\\nsex: MALE'),\n",
       " Document(metadata={'source': 'some_data/penguins.csv', 'row': 256}, page_content='species: Gentoo\\nisland: Biscoe\\nbill_length_mm: 42.6\\nbill_depth_mm: 13.7\\nflipper_length_mm: 213\\nbody_mass_g: 4950\\nsex: FEMALE'),\n",
       " Document(metadata={'source': 'some_data/penguins.csv', 'row': 257}, page_content='species: Gentoo\\nisland: Biscoe\\nbill_length_mm: 44.4\\nbill_depth_mm: 17.3\\nflipper_length_mm: 219\\nbody_mass_g: 5250\\nsex: MALE'),\n",
       " Document(metadata={'source': 'some_data/penguins.csv', 'row': 258}, page_content='species: Gentoo\\nisland: Biscoe\\nbill_length_mm: 44\\nbill_depth_mm: 13.6\\nflipper_length_mm: 208\\nbody_mass_g: 4350\\nsex: FEMALE'),\n",
       " Document(metadata={'source': 'some_data/penguins.csv', 'row': 259}, page_content='species: Gentoo\\nisland: Biscoe\\nbill_length_mm: 48.7\\nbill_depth_mm: 15.7\\nflipper_length_mm: 208\\nbody_mass_g: 5350\\nsex: MALE'),\n",
       " Document(metadata={'source': 'some_data/penguins.csv', 'row': 260}, page_content='species: Gentoo\\nisland: Biscoe\\nbill_length_mm: 42.7\\nbill_depth_mm: 13.7\\nflipper_length_mm: 208\\nbody_mass_g: 3950\\nsex: FEMALE'),\n",
       " Document(metadata={'source': 'some_data/penguins.csv', 'row': 261}, page_content='species: Gentoo\\nisland: Biscoe\\nbill_length_mm: 49.6\\nbill_depth_mm: 16\\nflipper_length_mm: 225\\nbody_mass_g: 5700\\nsex: MALE'),\n",
       " Document(metadata={'source': 'some_data/penguins.csv', 'row': 262}, page_content='species: Gentoo\\nisland: Biscoe\\nbill_length_mm: 45.3\\nbill_depth_mm: 13.7\\nflipper_length_mm: 210\\nbody_mass_g: 4300\\nsex: FEMALE'),\n",
       " Document(metadata={'source': 'some_data/penguins.csv', 'row': 263}, page_content='species: Gentoo\\nisland: Biscoe\\nbill_length_mm: 49.6\\nbill_depth_mm: 15\\nflipper_length_mm: 216\\nbody_mass_g: 4750\\nsex: MALE'),\n",
       " Document(metadata={'source': 'some_data/penguins.csv', 'row': 264}, page_content='species: Gentoo\\nisland: Biscoe\\nbill_length_mm: 50.5\\nbill_depth_mm: 15.9\\nflipper_length_mm: 222\\nbody_mass_g: 5550\\nsex: MALE'),\n",
       " Document(metadata={'source': 'some_data/penguins.csv', 'row': 265}, page_content='species: Gentoo\\nisland: Biscoe\\nbill_length_mm: 43.6\\nbill_depth_mm: 13.9\\nflipper_length_mm: 217\\nbody_mass_g: 4900\\nsex: FEMALE'),\n",
       " Document(metadata={'source': 'some_data/penguins.csv', 'row': 266}, page_content='species: Gentoo\\nisland: Biscoe\\nbill_length_mm: 45.5\\nbill_depth_mm: 13.9\\nflipper_length_mm: 210\\nbody_mass_g: 4200\\nsex: FEMALE'),\n",
       " Document(metadata={'source': 'some_data/penguins.csv', 'row': 267}, page_content='species: Gentoo\\nisland: Biscoe\\nbill_length_mm: 50.5\\nbill_depth_mm: 15.9\\nflipper_length_mm: 225\\nbody_mass_g: 5400\\nsex: MALE'),\n",
       " Document(metadata={'source': 'some_data/penguins.csv', 'row': 268}, page_content='species: Gentoo\\nisland: Biscoe\\nbill_length_mm: 44.9\\nbill_depth_mm: 13.3\\nflipper_length_mm: 213\\nbody_mass_g: 5100\\nsex: FEMALE'),\n",
       " Document(metadata={'source': 'some_data/penguins.csv', 'row': 269}, page_content='species: Gentoo\\nisland: Biscoe\\nbill_length_mm: 45.2\\nbill_depth_mm: 15.8\\nflipper_length_mm: 215\\nbody_mass_g: 5300\\nsex: MALE'),\n",
       " Document(metadata={'source': 'some_data/penguins.csv', 'row': 270}, page_content='species: Gentoo\\nisland: Biscoe\\nbill_length_mm: 46.6\\nbill_depth_mm: 14.2\\nflipper_length_mm: 210\\nbody_mass_g: 4850\\nsex: FEMALE'),\n",
       " Document(metadata={'source': 'some_data/penguins.csv', 'row': 271}, page_content='species: Gentoo\\nisland: Biscoe\\nbill_length_mm: 48.5\\nbill_depth_mm: 14.1\\nflipper_length_mm: 220\\nbody_mass_g: 5300\\nsex: MALE'),\n",
       " Document(metadata={'source': 'some_data/penguins.csv', 'row': 272}, page_content='species: Gentoo\\nisland: Biscoe\\nbill_length_mm: 45.1\\nbill_depth_mm: 14.4\\nflipper_length_mm: 210\\nbody_mass_g: 4400\\nsex: FEMALE'),\n",
       " Document(metadata={'source': 'some_data/penguins.csv', 'row': 273}, page_content='species: Gentoo\\nisland: Biscoe\\nbill_length_mm: 50.1\\nbill_depth_mm: 15\\nflipper_length_mm: 225\\nbody_mass_g: 5000\\nsex: MALE'),\n",
       " Document(metadata={'source': 'some_data/penguins.csv', 'row': 274}, page_content='species: Gentoo\\nisland: Biscoe\\nbill_length_mm: 46.5\\nbill_depth_mm: 14.4\\nflipper_length_mm: 217\\nbody_mass_g: 4900\\nsex: FEMALE'),\n",
       " Document(metadata={'source': 'some_data/penguins.csv', 'row': 275}, page_content='species: Gentoo\\nisland: Biscoe\\nbill_length_mm: 45\\nbill_depth_mm: 15.4\\nflipper_length_mm: 220\\nbody_mass_g: 5050\\nsex: MALE'),\n",
       " Document(metadata={'source': 'some_data/penguins.csv', 'row': 276}, page_content='species: Gentoo\\nisland: Biscoe\\nbill_length_mm: 43.8\\nbill_depth_mm: 13.9\\nflipper_length_mm: 208\\nbody_mass_g: 4300\\nsex: FEMALE'),\n",
       " Document(metadata={'source': 'some_data/penguins.csv', 'row': 277}, page_content='species: Gentoo\\nisland: Biscoe\\nbill_length_mm: 45.5\\nbill_depth_mm: 15\\nflipper_length_mm: 220\\nbody_mass_g: 5000\\nsex: MALE'),\n",
       " Document(metadata={'source': 'some_data/penguins.csv', 'row': 278}, page_content='species: Gentoo\\nisland: Biscoe\\nbill_length_mm: 43.2\\nbill_depth_mm: 14.5\\nflipper_length_mm: 208\\nbody_mass_g: 4450\\nsex: FEMALE'),\n",
       " Document(metadata={'source': 'some_data/penguins.csv', 'row': 279}, page_content='species: Gentoo\\nisland: Biscoe\\nbill_length_mm: 50.4\\nbill_depth_mm: 15.3\\nflipper_length_mm: 224\\nbody_mass_g: 5550\\nsex: MALE'),\n",
       " Document(metadata={'source': 'some_data/penguins.csv', 'row': 280}, page_content='species: Gentoo\\nisland: Biscoe\\nbill_length_mm: 45.3\\nbill_depth_mm: 13.8\\nflipper_length_mm: 208\\nbody_mass_g: 4200\\nsex: FEMALE'),\n",
       " Document(metadata={'source': 'some_data/penguins.csv', 'row': 281}, page_content='species: Gentoo\\nisland: Biscoe\\nbill_length_mm: 46.2\\nbill_depth_mm: 14.9\\nflipper_length_mm: 221\\nbody_mass_g: 5300\\nsex: MALE'),\n",
       " Document(metadata={'source': 'some_data/penguins.csv', 'row': 282}, page_content='species: Gentoo\\nisland: Biscoe\\nbill_length_mm: 45.7\\nbill_depth_mm: 13.9\\nflipper_length_mm: 214\\nbody_mass_g: 4400\\nsex: FEMALE'),\n",
       " Document(metadata={'source': 'some_data/penguins.csv', 'row': 283}, page_content='species: Gentoo\\nisland: Biscoe\\nbill_length_mm: 54.3\\nbill_depth_mm: 15.7\\nflipper_length_mm: 231\\nbody_mass_g: 5650\\nsex: MALE'),\n",
       " Document(metadata={'source': 'some_data/penguins.csv', 'row': 284}, page_content='species: Gentoo\\nisland: Biscoe\\nbill_length_mm: 45.8\\nbill_depth_mm: 14.2\\nflipper_length_mm: 219\\nbody_mass_g: 4700\\nsex: FEMALE'),\n",
       " Document(metadata={'source': 'some_data/penguins.csv', 'row': 285}, page_content='species: Gentoo\\nisland: Biscoe\\nbill_length_mm: 49.8\\nbill_depth_mm: 16.8\\nflipper_length_mm: 230\\nbody_mass_g: 5700\\nsex: MALE'),\n",
       " Document(metadata={'source': 'some_data/penguins.csv', 'row': 286}, page_content='species: Gentoo\\nisland: Biscoe\\nbill_length_mm: 46.2\\nbill_depth_mm: 14.4\\nflipper_length_mm: 214\\nbody_mass_g: 4650\\nsex: '),\n",
       " Document(metadata={'source': 'some_data/penguins.csv', 'row': 287}, page_content='species: Gentoo\\nisland: Biscoe\\nbill_length_mm: 49.5\\nbill_depth_mm: 16.2\\nflipper_length_mm: 229\\nbody_mass_g: 5800\\nsex: MALE'),\n",
       " Document(metadata={'source': 'some_data/penguins.csv', 'row': 288}, page_content='species: Gentoo\\nisland: Biscoe\\nbill_length_mm: 43.5\\nbill_depth_mm: 14.2\\nflipper_length_mm: 220\\nbody_mass_g: 4700\\nsex: FEMALE'),\n",
       " Document(metadata={'source': 'some_data/penguins.csv', 'row': 289}, page_content='species: Gentoo\\nisland: Biscoe\\nbill_length_mm: 50.7\\nbill_depth_mm: 15\\nflipper_length_mm: 223\\nbody_mass_g: 5550\\nsex: MALE'),\n",
       " Document(metadata={'source': 'some_data/penguins.csv', 'row': 290}, page_content='species: Gentoo\\nisland: Biscoe\\nbill_length_mm: 47.7\\nbill_depth_mm: 15\\nflipper_length_mm: 216\\nbody_mass_g: 4750\\nsex: FEMALE'),\n",
       " Document(metadata={'source': 'some_data/penguins.csv', 'row': 291}, page_content='species: Gentoo\\nisland: Biscoe\\nbill_length_mm: 46.4\\nbill_depth_mm: 15.6\\nflipper_length_mm: 221\\nbody_mass_g: 5000\\nsex: MALE'),\n",
       " Document(metadata={'source': 'some_data/penguins.csv', 'row': 292}, page_content='species: Gentoo\\nisland: Biscoe\\nbill_length_mm: 48.2\\nbill_depth_mm: 15.6\\nflipper_length_mm: 221\\nbody_mass_g: 5100\\nsex: MALE'),\n",
       " Document(metadata={'source': 'some_data/penguins.csv', 'row': 293}, page_content='species: Gentoo\\nisland: Biscoe\\nbill_length_mm: 46.5\\nbill_depth_mm: 14.8\\nflipper_length_mm: 217\\nbody_mass_g: 5200\\nsex: FEMALE'),\n",
       " Document(metadata={'source': 'some_data/penguins.csv', 'row': 294}, page_content='species: Gentoo\\nisland: Biscoe\\nbill_length_mm: 46.4\\nbill_depth_mm: 15\\nflipper_length_mm: 216\\nbody_mass_g: 4700\\nsex: FEMALE'),\n",
       " Document(metadata={'source': 'some_data/penguins.csv', 'row': 295}, page_content='species: Gentoo\\nisland: Biscoe\\nbill_length_mm: 48.6\\nbill_depth_mm: 16\\nflipper_length_mm: 230\\nbody_mass_g: 5800\\nsex: MALE'),\n",
       " Document(metadata={'source': 'some_data/penguins.csv', 'row': 296}, page_content='species: Gentoo\\nisland: Biscoe\\nbill_length_mm: 47.5\\nbill_depth_mm: 14.2\\nflipper_length_mm: 209\\nbody_mass_g: 4600\\nsex: FEMALE'),\n",
       " Document(metadata={'source': 'some_data/penguins.csv', 'row': 297}, page_content='species: Gentoo\\nisland: Biscoe\\nbill_length_mm: 51.1\\nbill_depth_mm: 16.3\\nflipper_length_mm: 220\\nbody_mass_g: 6000\\nsex: MALE'),\n",
       " Document(metadata={'source': 'some_data/penguins.csv', 'row': 298}, page_content='species: Gentoo\\nisland: Biscoe\\nbill_length_mm: 45.2\\nbill_depth_mm: 13.8\\nflipper_length_mm: 215\\nbody_mass_g: 4750\\nsex: FEMALE'),\n",
       " Document(metadata={'source': 'some_data/penguins.csv', 'row': 299}, page_content='species: Gentoo\\nisland: Biscoe\\nbill_length_mm: 45.2\\nbill_depth_mm: 16.4\\nflipper_length_mm: 223\\nbody_mass_g: 5950\\nsex: MALE'),\n",
       " Document(metadata={'source': 'some_data/penguins.csv', 'row': 300}, page_content='species: Gentoo\\nisland: Biscoe\\nbill_length_mm: 49.1\\nbill_depth_mm: 14.5\\nflipper_length_mm: 212\\nbody_mass_g: 4625\\nsex: FEMALE'),\n",
       " Document(metadata={'source': 'some_data/penguins.csv', 'row': 301}, page_content='species: Gentoo\\nisland: Biscoe\\nbill_length_mm: 52.5\\nbill_depth_mm: 15.6\\nflipper_length_mm: 221\\nbody_mass_g: 5450\\nsex: MALE'),\n",
       " Document(metadata={'source': 'some_data/penguins.csv', 'row': 302}, page_content='species: Gentoo\\nisland: Biscoe\\nbill_length_mm: 47.4\\nbill_depth_mm: 14.6\\nflipper_length_mm: 212\\nbody_mass_g: 4725\\nsex: FEMALE'),\n",
       " Document(metadata={'source': 'some_data/penguins.csv', 'row': 303}, page_content='species: Gentoo\\nisland: Biscoe\\nbill_length_mm: 50\\nbill_depth_mm: 15.9\\nflipper_length_mm: 224\\nbody_mass_g: 5350\\nsex: MALE'),\n",
       " Document(metadata={'source': 'some_data/penguins.csv', 'row': 304}, page_content='species: Gentoo\\nisland: Biscoe\\nbill_length_mm: 44.9\\nbill_depth_mm: 13.8\\nflipper_length_mm: 212\\nbody_mass_g: 4750\\nsex: FEMALE'),\n",
       " Document(metadata={'source': 'some_data/penguins.csv', 'row': 305}, page_content='species: Gentoo\\nisland: Biscoe\\nbill_length_mm: 50.8\\nbill_depth_mm: 17.3\\nflipper_length_mm: 228\\nbody_mass_g: 5600\\nsex: MALE'),\n",
       " Document(metadata={'source': 'some_data/penguins.csv', 'row': 306}, page_content='species: Gentoo\\nisland: Biscoe\\nbill_length_mm: 43.4\\nbill_depth_mm: 14.4\\nflipper_length_mm: 218\\nbody_mass_g: 4600\\nsex: FEMALE'),\n",
       " Document(metadata={'source': 'some_data/penguins.csv', 'row': 307}, page_content='species: Gentoo\\nisland: Biscoe\\nbill_length_mm: 51.3\\nbill_depth_mm: 14.2\\nflipper_length_mm: 218\\nbody_mass_g: 5300\\nsex: MALE'),\n",
       " Document(metadata={'source': 'some_data/penguins.csv', 'row': 308}, page_content='species: Gentoo\\nisland: Biscoe\\nbill_length_mm: 47.5\\nbill_depth_mm: 14\\nflipper_length_mm: 212\\nbody_mass_g: 4875\\nsex: FEMALE'),\n",
       " Document(metadata={'source': 'some_data/penguins.csv', 'row': 309}, page_content='species: Gentoo\\nisland: Biscoe\\nbill_length_mm: 52.1\\nbill_depth_mm: 17\\nflipper_length_mm: 230\\nbody_mass_g: 5550\\nsex: MALE'),\n",
       " Document(metadata={'source': 'some_data/penguins.csv', 'row': 310}, page_content='species: Gentoo\\nisland: Biscoe\\nbill_length_mm: 47.5\\nbill_depth_mm: 15\\nflipper_length_mm: 218\\nbody_mass_g: 4950\\nsex: FEMALE'),\n",
       " Document(metadata={'source': 'some_data/penguins.csv', 'row': 311}, page_content='species: Gentoo\\nisland: Biscoe\\nbill_length_mm: 52.2\\nbill_depth_mm: 17.1\\nflipper_length_mm: 228\\nbody_mass_g: 5400\\nsex: MALE'),\n",
       " Document(metadata={'source': 'some_data/penguins.csv', 'row': 312}, page_content='species: Gentoo\\nisland: Biscoe\\nbill_length_mm: 45.5\\nbill_depth_mm: 14.5\\nflipper_length_mm: 212\\nbody_mass_g: 4750\\nsex: FEMALE'),\n",
       " Document(metadata={'source': 'some_data/penguins.csv', 'row': 313}, page_content='species: Gentoo\\nisland: Biscoe\\nbill_length_mm: 49.5\\nbill_depth_mm: 16.1\\nflipper_length_mm: 224\\nbody_mass_g: 5650\\nsex: MALE'),\n",
       " Document(metadata={'source': 'some_data/penguins.csv', 'row': 314}, page_content='species: Gentoo\\nisland: Biscoe\\nbill_length_mm: 44.5\\nbill_depth_mm: 14.7\\nflipper_length_mm: 214\\nbody_mass_g: 4850\\nsex: FEMALE'),\n",
       " Document(metadata={'source': 'some_data/penguins.csv', 'row': 315}, page_content='species: Gentoo\\nisland: Biscoe\\nbill_length_mm: 50.8\\nbill_depth_mm: 15.7\\nflipper_length_mm: 226\\nbody_mass_g: 5200\\nsex: MALE'),\n",
       " Document(metadata={'source': 'some_data/penguins.csv', 'row': 316}, page_content='species: Gentoo\\nisland: Biscoe\\nbill_length_mm: 49.4\\nbill_depth_mm: 15.8\\nflipper_length_mm: 216\\nbody_mass_g: 4925\\nsex: MALE'),\n",
       " Document(metadata={'source': 'some_data/penguins.csv', 'row': 317}, page_content='species: Gentoo\\nisland: Biscoe\\nbill_length_mm: 46.9\\nbill_depth_mm: 14.6\\nflipper_length_mm: 222\\nbody_mass_g: 4875\\nsex: FEMALE'),\n",
       " Document(metadata={'source': 'some_data/penguins.csv', 'row': 318}, page_content='species: Gentoo\\nisland: Biscoe\\nbill_length_mm: 48.4\\nbill_depth_mm: 14.4\\nflipper_length_mm: 203\\nbody_mass_g: 4625\\nsex: FEMALE'),\n",
       " Document(metadata={'source': 'some_data/penguins.csv', 'row': 319}, page_content='species: Gentoo\\nisland: Biscoe\\nbill_length_mm: 51.1\\nbill_depth_mm: 16.5\\nflipper_length_mm: 225\\nbody_mass_g: 5250\\nsex: MALE'),\n",
       " Document(metadata={'source': 'some_data/penguins.csv', 'row': 320}, page_content='species: Gentoo\\nisland: Biscoe\\nbill_length_mm: 48.5\\nbill_depth_mm: 15\\nflipper_length_mm: 219\\nbody_mass_g: 4850\\nsex: FEMALE'),\n",
       " Document(metadata={'source': 'some_data/penguins.csv', 'row': 321}, page_content='species: Gentoo\\nisland: Biscoe\\nbill_length_mm: 55.9\\nbill_depth_mm: 17\\nflipper_length_mm: 228\\nbody_mass_g: 5600\\nsex: MALE'),\n",
       " Document(metadata={'source': 'some_data/penguins.csv', 'row': 322}, page_content='species: Gentoo\\nisland: Biscoe\\nbill_length_mm: 47.2\\nbill_depth_mm: 15.5\\nflipper_length_mm: 215\\nbody_mass_g: 4975\\nsex: FEMALE'),\n",
       " Document(metadata={'source': 'some_data/penguins.csv', 'row': 323}, page_content='species: Gentoo\\nisland: Biscoe\\nbill_length_mm: 49.1\\nbill_depth_mm: 15\\nflipper_length_mm: 228\\nbody_mass_g: 5500\\nsex: MALE'),\n",
       " Document(metadata={'source': 'some_data/penguins.csv', 'row': 324}, page_content='species: Gentoo\\nisland: Biscoe\\nbill_length_mm: 47.3\\nbill_depth_mm: 13.8\\nflipper_length_mm: 216\\nbody_mass_g: 4725\\nsex: '),\n",
       " Document(metadata={'source': 'some_data/penguins.csv', 'row': 325}, page_content='species: Gentoo\\nisland: Biscoe\\nbill_length_mm: 46.8\\nbill_depth_mm: 16.1\\nflipper_length_mm: 215\\nbody_mass_g: 5500\\nsex: MALE'),\n",
       " Document(metadata={'source': 'some_data/penguins.csv', 'row': 326}, page_content='species: Gentoo\\nisland: Biscoe\\nbill_length_mm: 41.7\\nbill_depth_mm: 14.7\\nflipper_length_mm: 210\\nbody_mass_g: 4700\\nsex: FEMALE'),\n",
       " Document(metadata={'source': 'some_data/penguins.csv', 'row': 327}, page_content='species: Gentoo\\nisland: Biscoe\\nbill_length_mm: 53.4\\nbill_depth_mm: 15.8\\nflipper_length_mm: 219\\nbody_mass_g: 5500\\nsex: MALE'),\n",
       " Document(metadata={'source': 'some_data/penguins.csv', 'row': 328}, page_content='species: Gentoo\\nisland: Biscoe\\nbill_length_mm: 43.3\\nbill_depth_mm: 14\\nflipper_length_mm: 208\\nbody_mass_g: 4575\\nsex: FEMALE'),\n",
       " Document(metadata={'source': 'some_data/penguins.csv', 'row': 329}, page_content='species: Gentoo\\nisland: Biscoe\\nbill_length_mm: 48.1\\nbill_depth_mm: 15.1\\nflipper_length_mm: 209\\nbody_mass_g: 5500\\nsex: MALE'),\n",
       " Document(metadata={'source': 'some_data/penguins.csv', 'row': 330}, page_content='species: Gentoo\\nisland: Biscoe\\nbill_length_mm: 50.5\\nbill_depth_mm: 15.2\\nflipper_length_mm: 216\\nbody_mass_g: 5000\\nsex: FEMALE'),\n",
       " Document(metadata={'source': 'some_data/penguins.csv', 'row': 331}, page_content='species: Gentoo\\nisland: Biscoe\\nbill_length_mm: 49.8\\nbill_depth_mm: 15.9\\nflipper_length_mm: 229\\nbody_mass_g: 5950\\nsex: MALE'),\n",
       " Document(metadata={'source': 'some_data/penguins.csv', 'row': 332}, page_content='species: Gentoo\\nisland: Biscoe\\nbill_length_mm: 43.5\\nbill_depth_mm: 15.2\\nflipper_length_mm: 213\\nbody_mass_g: 4650\\nsex: FEMALE'),\n",
       " Document(metadata={'source': 'some_data/penguins.csv', 'row': 333}, page_content='species: Gentoo\\nisland: Biscoe\\nbill_length_mm: 51.5\\nbill_depth_mm: 16.3\\nflipper_length_mm: 230\\nbody_mass_g: 5500\\nsex: MALE'),\n",
       " Document(metadata={'source': 'some_data/penguins.csv', 'row': 334}, page_content='species: Gentoo\\nisland: Biscoe\\nbill_length_mm: 46.2\\nbill_depth_mm: 14.1\\nflipper_length_mm: 217\\nbody_mass_g: 4375\\nsex: FEMALE'),\n",
       " Document(metadata={'source': 'some_data/penguins.csv', 'row': 335}, page_content='species: Gentoo\\nisland: Biscoe\\nbill_length_mm: 55.1\\nbill_depth_mm: 16\\nflipper_length_mm: 230\\nbody_mass_g: 5850\\nsex: MALE'),\n",
       " Document(metadata={'source': 'some_data/penguins.csv', 'row': 336}, page_content='species: Gentoo\\nisland: Biscoe\\nbill_length_mm: 44.5\\nbill_depth_mm: 15.7\\nflipper_length_mm: 217\\nbody_mass_g: 4875\\nsex: '),\n",
       " Document(metadata={'source': 'some_data/penguins.csv', 'row': 337}, page_content='species: Gentoo\\nisland: Biscoe\\nbill_length_mm: 48.8\\nbill_depth_mm: 16.2\\nflipper_length_mm: 222\\nbody_mass_g: 6000\\nsex: MALE'),\n",
       " Document(metadata={'source': 'some_data/penguins.csv', 'row': 338}, page_content='species: Gentoo\\nisland: Biscoe\\nbill_length_mm: 47.2\\nbill_depth_mm: 13.7\\nflipper_length_mm: 214\\nbody_mass_g: 4925\\nsex: FEMALE'),\n",
       " Document(metadata={'source': 'some_data/penguins.csv', 'row': 339}, page_content='species: Gentoo\\nisland: Biscoe\\nbill_length_mm: \\nbill_depth_mm: \\nflipper_length_mm: \\nbody_mass_g: \\nsex: '),\n",
       " Document(metadata={'source': 'some_data/penguins.csv', 'row': 340}, page_content='species: Gentoo\\nisland: Biscoe\\nbill_length_mm: 46.8\\nbill_depth_mm: 14.3\\nflipper_length_mm: 215\\nbody_mass_g: 4850\\nsex: FEMALE'),\n",
       " Document(metadata={'source': 'some_data/penguins.csv', 'row': 341}, page_content='species: Gentoo\\nisland: Biscoe\\nbill_length_mm: 50.4\\nbill_depth_mm: 15.7\\nflipper_length_mm: 222\\nbody_mass_g: 5750\\nsex: MALE'),\n",
       " Document(metadata={'source': 'some_data/penguins.csv', 'row': 342}, page_content='species: Gentoo\\nisland: Biscoe\\nbill_length_mm: 45.2\\nbill_depth_mm: 14.8\\nflipper_length_mm: 212\\nbody_mass_g: 5200\\nsex: FEMALE'),\n",
       " Document(metadata={'source': 'some_data/penguins.csv', 'row': 343}, page_content='species: Gentoo\\nisland: Biscoe\\nbill_length_mm: 49.9\\nbill_depth_mm: 16.1\\nflipper_length_mm: 213\\nbody_mass_g: 5400\\nsex: MALE')]"
      ]
     },
     "execution_count": 31,
     "metadata": {},
     "output_type": "execute_result"
    }
   ],
   "source": [
    "data"
   ]
  },
  {
   "cell_type": "code",
   "execution_count": 20,
   "id": "578c5d01-b4bc-4908-9454-962b28bdc4df",
   "metadata": {},
   "outputs": [
    {
     "data": {
      "text/plain": [
       "list"
      ]
     },
     "execution_count": 20,
     "metadata": {},
     "output_type": "execute_result"
    }
   ],
   "source": [
    "type(data) # list"
   ]
  },
  {
   "cell_type": "code",
   "execution_count": 21,
   "id": "9b60904e-23e5-4451-814d-3338f685797c",
   "metadata": {},
   "outputs": [
    {
     "data": {
      "text/plain": [
       "langchain_core.documents.base.Document"
      ]
     },
     "execution_count": 21,
     "metadata": {},
     "output_type": "execute_result"
    }
   ],
   "source": [
    "type(data[0]) # langchain_core.documents.base.Document"
   ]
  },
  {
   "cell_type": "code",
   "execution_count": 33,
   "id": "ac004bec-97a7-4429-b9cc-a250354495cc",
   "metadata": {},
   "outputs": [],
   "source": [
    "# embedded_docs = embeddings.embed_documents(data)"
   ]
  },
  {
   "cell_type": "code",
   "execution_count": 23,
   "id": "b817094e-d47e-4ca2-88fc-037cd6293895",
   "metadata": {},
   "outputs": [],
   "source": [
    "# Unfortunately, we cannot pass a list of Documents\n",
    "# but we need to pass a list of strings, i.e., page_content\n",
    "embedded_docs = embeddings.embed_documents([text.page_content for text in data])"
   ]
  },
  {
   "cell_type": "code",
   "execution_count": 28,
   "id": "cce4f482-ae72-4c19-9f76-376ea24378cc",
   "metadata": {},
   "outputs": [
    {
     "data": {
      "text/plain": [
       "344"
      ]
     },
     "execution_count": 28,
     "metadata": {},
     "output_type": "execute_result"
    }
   ],
   "source": [
    "len(embedded_docs) # 344 (rows)"
   ]
  },
  {
   "cell_type": "code",
   "execution_count": 29,
   "id": "fddc022c",
   "metadata": {},
   "outputs": [
    {
     "data": {
      "text/plain": [
       "1536"
      ]
     },
     "execution_count": 29,
     "metadata": {},
     "output_type": "execute_result"
    }
   ],
   "source": [
    "len(embedded_docs[0]) # Embedding dimension"
   ]
  },
  {
   "cell_type": "code",
   "execution_count": 27,
   "id": "7548d924-e04a-41bf-ace7-06a92025e582",
   "metadata": {},
   "outputs": [
    {
     "data": {
      "text/plain": [
       "[-0.012702560983598232,\n",
       " -0.010648328810930252,\n",
       " -0.01997656188905239,\n",
       " -0.030550803989171982,\n",
       " -0.006775597110390663,\n",
       " 0.03521155193448067,\n",
       " -0.03688187897205353,\n",
       " -0.0006528921076096594,\n",
       " -0.01406306866556406,\n",
       " -0.03292158991098404]"
      ]
     },
     "execution_count": 27,
     "metadata": {},
     "output_type": "execute_result"
    }
   ],
   "source": [
    "embedded_docs[0][:10]"
   ]
  },
  {
   "cell_type": "code",
   "execution_count": null,
   "id": "39c3bd8e-f216-4386-a2cc-fad1518806af",
   "metadata": {},
   "outputs": [],
   "source": [
    "\n"
   ]
  }
 ],
 "metadata": {
  "kernelspec": {
   "display_name": "Python 3 (ipykernel)",
   "language": "python",
   "name": "python3"
  },
  "language_info": {
   "codemirror_mode": {
    "name": "ipython",
    "version": 3
   },
   "file_extension": ".py",
   "mimetype": "text/x-python",
   "name": "python",
   "nbconvert_exporter": "python",
   "pygments_lexer": "ipython3",
   "version": "3.9.18"
  }
 },
 "nbformat": 4,
 "nbformat_minor": 5
}
