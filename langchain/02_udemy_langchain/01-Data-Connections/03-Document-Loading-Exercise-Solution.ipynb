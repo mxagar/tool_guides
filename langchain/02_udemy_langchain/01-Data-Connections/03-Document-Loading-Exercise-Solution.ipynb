{
 "cells": [
  {
   "cell_type": "markdown",
   "id": "bcded1a6-2430-4707-a78c-c82f4c5ee6fc",
   "metadata": {},
   "source": [
    "<a href = \"https://www.pieriantraining.com\"><img src=\"../PT Centered Purple.png\"> </a>\n",
    "\n",
    "<em style=\"text-align:center\">Copyrighted by Pierian Training</em>"
   ]
  },
  {
   "cell_type": "markdown",
   "id": "728f1747-b8fc-4d31-96c2-047fc83c079d",
   "metadata": {},
   "source": [
    "#  Document Loading Exercise Solution\n",
    "\n",
    "## Answering a Single Question\n",
    "\n",
    "Using the Wikipedia Document Loader Integration,can you make a function that accepts a famous historical figure name and a question about them, and then uses a ChatModel to answer questions with the additional context?"
   ]
  },
  {
   "cell_type": "code",
   "execution_count": 1,
   "id": "244f42d8-2349-446e-a1c2-ae4b8d3ee38f",
   "metadata": {},
   "outputs": [],
   "source": [
    "# !pip install wikipedia\n",
    "# https://python.langchain.com/v0.2/docs/integrations/document_loaders/wikipedia/"
   ]
  },
  {
   "cell_type": "code",
   "execution_count": 2,
   "id": "d2c9ca45",
   "metadata": {},
   "outputs": [],
   "source": [
    "import os\n",
    "from dotenv import load_dotenv\n",
    "\n",
    "load_dotenv()\n",
    "api_key = os.getenv(\"OPENAI_API_KEY\")"
   ]
  },
  {
   "cell_type": "code",
   "execution_count": 3,
   "id": "2a539244-89c6-4019-8608-1cdf51ba1983",
   "metadata": {},
   "outputs": [],
   "source": [
    "# Project: provide a famous person name and a question about them, and get an answer.\n",
    "def answer_question_about(person_name: str, question: str, model=None) -> str:\n",
    "    '''\n",
    "    Use the Wikipedia Document Loader to help answer questions about someone,\n",
    "    insert it as additional helpful context.\n",
    "    '''\n",
    "    pass"
   ]
  },
  {
   "cell_type": "code",
   "execution_count": 4,
   "id": "b5243006-d86e-41b0-aa52-3b6f1308d631",
   "metadata": {},
   "outputs": [],
   "source": [
    "from langchain.prompts import (\n",
    "    ChatPromptTemplate,\n",
    "    SystemMessagePromptTemplate,\n",
    "    HumanMessagePromptTemplate,\n",
    ")\n",
    "from langchain_openai.chat_models import ChatOpenAI\n",
    "from langchain.document_loaders import WikipediaLoader\n",
    "\n",
    "\n",
    "def answer_question_about(person_name: str, question: str, model=None) -> str:\n",
    "    '''\n",
    "    Use the Wikipedia Document Loader to help answer questions about someone,\n",
    "    insert it as additional helpful context.\n",
    "    '''\n",
    "    # Get Wikipedia Article\n",
    "    docs = WikipediaLoader(query=person_name,load_max_docs=1)\n",
    "    context_text = docs.load()[0].page_content\n",
    "    \n",
    "    # Connect to OpenAI Model\n",
    "    if model is None:\n",
    "        #load_dotenv()\n",
    "        api_key = os.getenv(\"OPENAI_API_KEY\")\n",
    "        model = ChatOpenAI(openai_api_key=api_key)\n",
    "    \n",
    "    # Ask Model Question\n",
    "    human_prompt = HumanMessagePromptTemplate.from_template('Answer this question\\n{question}, here is some extra context:\\n{document}')\n",
    "    \n",
    "    # Assemble chat prompt\n",
    "    chat_prompt = ChatPromptTemplate.from_messages([human_prompt])\n",
    "    \n",
    "    #result\n",
    "    result = model.invoke(chat_prompt.format_prompt(question=question,document=context_text).to_messages())\n",
    "    \n",
    "    print(result.content)"
   ]
  },
  {
   "cell_type": "code",
   "execution_count": null,
   "id": "e3a43963-57d4-44c5-8d28-b6164b2c0b83",
   "metadata": {},
   "outputs": [],
   "source": [
    "model = ChatOpenAI(openai_api_key=api_key)\n",
    "answer_question_about(\"Claude Shannon\", \"When was he born?\", model)"
   ]
  },
  {
   "cell_type": "code",
   "execution_count": null,
   "id": "b9074e58-b4af-4a21-a503-a0c58621a7a3",
   "metadata": {},
   "outputs": [],
   "source": []
  }
 ],
 "metadata": {
  "kernelspec": {
   "display_name": "Python 3 (ipykernel)",
   "language": "python",
   "name": "python3"
  },
  "language_info": {
   "codemirror_mode": {
    "name": "ipython",
    "version": 3
   },
   "file_extension": ".py",
   "mimetype": "text/x-python",
   "name": "python",
   "nbconvert_exporter": "python",
   "pygments_lexer": "ipython3",
   "version": "3.9.18"
  }
 },
 "nbformat": 4,
 "nbformat_minor": 5
}
