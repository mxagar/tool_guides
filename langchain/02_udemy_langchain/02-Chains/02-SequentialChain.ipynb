{
 "cells": [
  {
   "cell_type": "markdown",
   "id": "bcded1a6-2430-4707-a78c-c82f4c5ee6fc",
   "metadata": {},
   "source": [
    "<a href = \"https://www.pieriantraining.com\"><img src=\"../PT Centered Purple.png\"> </a>\n",
    "\n",
    "<em style=\"text-align:center\">Copyrighted by Pierian Training</em>"
   ]
  },
  {
   "cell_type": "markdown",
   "id": "728f1747-b8fc-4d31-96c2-047fc83c079d",
   "metadata": {},
   "source": [
    "#  Sequential Chains"
   ]
  },
  {
   "cell_type": "code",
   "execution_count": 76,
   "id": "8a482e73-7d0c-407f-bd88-9f3c1c7eb559",
   "metadata": {},
   "outputs": [],
   "source": [
    "from langchain_openai import ChatOpenAI\n",
    "from langchain.prompts import ChatPromptTemplate\n",
    "from langchain.chains.sequential import SequentialChain"
   ]
  },
  {
   "cell_type": "code",
   "execution_count": 77,
   "id": "dda2db90-b54b-422e-baff-2bd96faeaaeb",
   "metadata": {},
   "outputs": [],
   "source": [
    "llm = ChatOpenAI()"
   ]
  },
  {
   "cell_type": "code",
   "execution_count": 78,
   "id": "c2db5816-b29d-4567-b6aa-12e0c74e9331",
   "metadata": {},
   "outputs": [],
   "source": [
    "template1 = \"Give a summary of this employee's performance review:\\n{review}\"\n",
    "prompt1 = ChatPromptTemplate.from_template(template1)\n",
    "chain_1 = prompt1|llm"
   ]
  },
  {
   "cell_type": "code",
   "execution_count": 79,
   "id": "2a6c1d04-1fe0-4386-8b3a-4535cbfaff43",
   "metadata": {},
   "outputs": [],
   "source": [
    "template2 = \"Identify key employee weaknesses in this review summary:\\n{review_summary}\"\n",
    "prompt2 = ChatPromptTemplate.from_template(template2)\n",
    "chain_2 = prompt2|llm"
   ]
  },
  {
   "cell_type": "code",
   "execution_count": 80,
   "id": "8031844b-586e-44b5-ac74-23b3767a9413",
   "metadata": {},
   "outputs": [],
   "source": [
    "template3 = \"Create a personalized plan to help address and fix these weaknesses:\\n{weaknesses}\"\n",
    "prompt3 = ChatPromptTemplate.from_template(template3)\n",
    "chain_3 = prompt3|llm"
   ]
  },
  {
   "cell_type": "code",
   "execution_count": 87,
   "id": "937bc141-1229-456b-9faf-bdd004ad88c7",
   "metadata": {},
   "outputs": [],
   "source": [
    "seq_chain = chain_1|chain_2|chain_3"
   ]
  },
  {
   "cell_type": "code",
   "execution_count": 88,
   "id": "0e6013f5-40c9-401b-9d45-98b52de1bb3f",
   "metadata": {},
   "outputs": [],
   "source": [
    "employee_review = '''\n",
    "Employee Information:\n",
    "Name: Joe Schmo\n",
    "Position: Software Engineer\n",
    "Date of Review: July 14, 2023\n",
    "\n",
    "Strengths:\n",
    "Joe is a highly skilled software engineer with a deep understanding of programming languages, algorithms, and software development best practices. His technical expertise shines through in his ability to efficiently solve complex problems and deliver high-quality code.\n",
    "\n",
    "One of Joe's greatest strengths is his collaborative nature. He actively engages with cross-functional teams, contributing valuable insights and seeking input from others. His open-mindedness and willingness to learn from colleagues make him a true team player.\n",
    "\n",
    "Joe consistently demonstrates initiative and self-motivation. He takes the lead in seeking out new projects and challenges, and his proactive attitude has led to significant improvements in existing processes and systems. His dedication to self-improvement and growth is commendable.\n",
    "\n",
    "Another notable strength is Joe's adaptability. He has shown great flexibility in handling changing project requirements and learning new technologies. This adaptability allows him to seamlessly transition between different projects and tasks, making him a valuable asset to the team.\n",
    "\n",
    "Joe's problem-solving skills are exceptional. He approaches issues with a logical mindset and consistently finds effective solutions, often thinking outside the box. His ability to break down complex problems into manageable parts is key to his success in resolving issues efficiently.\n",
    "\n",
    "Weaknesses:\n",
    "While Joe possesses numerous strengths, there are a few areas where he could benefit from improvement. One such area is time management. Occasionally, Joe struggles with effectively managing his time, resulting in missed deadlines or the need for additional support to complete tasks on time. Developing better prioritization and time management techniques would greatly enhance his efficiency.\n",
    "\n",
    "Another area for improvement is Joe's written communication skills. While he communicates well verbally, there have been instances where his written documentation lacked clarity, leading to confusion among team members. Focusing on enhancing his written communication abilities will help him effectively convey ideas and instructions.\n",
    "\n",
    "Additionally, Joe tends to take on too many responsibilities and hesitates to delegate tasks to others. This can result in an excessive workload and potential burnout. Encouraging him to delegate tasks appropriately will not only alleviate his own workload but also foster a more balanced and productive team environment.\n",
    "'''"
   ]
  },
  {
   "cell_type": "code",
   "execution_count": 89,
   "id": "406813b0-b79d-4056-8dbc-923e1986df41",
   "metadata": {},
   "outputs": [],
   "source": [
    "results = seq_chain.invoke(employee_review)"
   ]
  },
  {
   "cell_type": "code",
   "execution_count": 90,
   "id": "be395801-2e84-4686-9203-3857f8b5934b",
   "metadata": {},
   "outputs": [
    {
     "data": {
      "text/plain": [
       "AIMessage(content='Personalized Plan to Address Key Employee Weaknesses:\\n\\n1. Time Management:\\n- Create a daily schedule with set tasks and deadlines to prioritize work effectively.\\n- Use a time tracking tool to monitor how time is being spent and identify areas for improvement.\\n- Set realistic goals and break them down into smaller tasks to manage time more efficiently.\\n- Consider taking a time management course or workshop to learn new strategies and techniques.\\n\\n2. Written Communication Skills:\\n- Practice writing regularly, such as journaling or writing emails with clear and concise language.\\n- Ask for feedback on written communication from colleagues or supervisors to identify areas for improvement.\\n- Read books or articles on effective communication to learn new writing techniques.\\n- Consider taking a writing course or workshop to enhance writing skills and grammar.\\n\\n3. Delegation Abilities:\\n- Identify tasks that can be delegated to team members based on their strengths and skills.\\n- Communicate clearly and effectively when delegating tasks, providing clear instructions and expectations.\\n- Trust team members to complete tasks and provide support as needed.\\n- Evaluate the success of delegated tasks and provide feedback for improvement.\\n\\nOverall, continuous practice, learning, and feedback will help improve these key weaknesses and develop stronger skills in time management, written communication, and delegation abilities.', response_metadata={'token_usage': {'completion_tokens': 249, 'prompt_tokens': 140, 'total_tokens': 389}, 'model_name': 'gpt-3.5-turbo', 'system_fingerprint': None, 'finish_reason': 'stop', 'logprobs': None}, id='run-43ea0b16-4034-45bf-82d6-be9c4b717119-0')"
      ]
     },
     "execution_count": 90,
     "metadata": {},
     "output_type": "execute_result"
    }
   ],
   "source": [
    "results"
   ]
  },
  {
   "cell_type": "code",
   "execution_count": 91,
   "id": "2edc6866-769b-47ee-921d-ae40eb9891eb",
   "metadata": {},
   "outputs": [
    {
     "name": "stdout",
     "output_type": "stream",
     "text": [
      "Personalized Plan to Address Key Employee Weaknesses:\n",
      "\n",
      "1. Time Management:\n",
      "- Create a daily schedule with set tasks and deadlines to prioritize work effectively.\n",
      "- Use a time tracking tool to monitor how time is being spent and identify areas for improvement.\n",
      "- Set realistic goals and break them down into smaller tasks to manage time more efficiently.\n",
      "- Consider taking a time management course or workshop to learn new strategies and techniques.\n",
      "\n",
      "2. Written Communication Skills:\n",
      "- Practice writing regularly, such as journaling or writing emails with clear and concise language.\n",
      "- Ask for feedback on written communication from colleagues or supervisors to identify areas for improvement.\n",
      "- Read books or articles on effective communication to learn new writing techniques.\n",
      "- Consider taking a writing course or workshop to enhance writing skills and grammar.\n",
      "\n",
      "3. Delegation Abilities:\n",
      "- Identify tasks that can be delegated to team members based on their strengths and skills.\n",
      "- Communicate clearly and effectively when delegating tasks, providing clear instructions and expectations.\n",
      "- Trust team members to complete tasks and provide support as needed.\n",
      "- Evaluate the success of delegated tasks and provide feedback for improvement.\n",
      "\n",
      "Overall, continuous practice, learning, and feedback will help improve these key weaknesses and develop stronger skills in time management, written communication, and delegation abilities.\n"
     ]
    }
   ],
   "source": [
    "print(results.content)"
   ]
  },
  {
   "cell_type": "markdown",
   "id": "08bd3b6d-fdda-4cad-8820-d50cd10b3c92",
   "metadata": {},
   "source": [
    "## As of right now, to get the intermediate outputs, we need to call the individual chains"
   ]
  },
  {
   "cell_type": "code",
   "execution_count": 92,
   "id": "16300002-3e93-4a3e-b733-4e20d62a607f",
   "metadata": {},
   "outputs": [
    {
     "data": {
      "text/plain": [
       "'Overall, Joe Schmo is an exceptional software engineer with a strong technical skill set, collaborative nature, initiative, adaptability, and problem-solving abilities. However, he could benefit from improving his time management, written communication skills, and ability to delegate tasks. With some focused development in these areas, Joe has the potential to further excel in his role and continue to contribute effectively to the team.'"
      ]
     },
     "execution_count": 92,
     "metadata": {},
     "output_type": "execute_result"
    }
   ],
   "source": [
    "chain_1.invoke(employee_review).content"
   ]
  },
  {
   "cell_type": "code",
   "execution_count": 93,
   "id": "151765b2-2c52-4284-b164-1b07d336b449",
   "metadata": {},
   "outputs": [
    {
     "data": {
      "text/plain": [
       "'Key employee weaknesses identified in this review summary for Joe Schmo include:\\n1. Time management skills\\n2. Written communication abilities\\n3. Delegation of tasks to avoid burnout and enhance team productivity'"
      ]
     },
     "execution_count": 93,
     "metadata": {},
     "output_type": "execute_result"
    }
   ],
   "source": [
    "(chain_1|chain_2).invoke(employee_review).content"
   ]
  },
  {
   "cell_type": "code",
   "execution_count": 94,
   "id": "7ef78cfc-e356-48bd-80ac-9494d8175c11",
   "metadata": {},
   "outputs": [
    {
     "data": {
      "text/plain": [
       "AIMessage(content=\"Personalized Plan to Address and Fix Key Employee Weaknesses:\\n\\n1. Time Management:\\n- Schedule a meeting with the employee to discuss their current time management practices and identify areas for improvement.\\n- Provide resources or training on effective time management techniques, such as creating to-do lists, setting priorities, and avoiding multitasking.\\n- Encourage the employee to use tools like calendars, reminders, and time tracking apps to help them stay organized and focused.\\n- Set clear expectations and deadlines for tasks and projects to help the employee prioritize their workload.\\n- Check in regularly with the employee to monitor their progress and offer support as needed.\\n\\n2. Written Communication Skills:\\n- Offer the employee opportunities for training or workshops on improving written communication skills, such as grammar, punctuation, and clarity.\\n- Provide examples of well-written communication and offer feedback on the employee's written work.\\n- Encourage the employee to practice writing regularly, whether it's through emails, reports, or other written documents.\\n- Offer resources or tools, such as grammar checkers or style guides, to help the employee improve their writing skills.\\n- Set specific goals for the employee to work on their written communication skills and provide regular feedback on their progress.\\n\\n3. Delegation of Tasks:\\n- Have a discussion with the employee about their current delegation practices and identify any barriers or challenges they may be facing.\\n- Provide training or resources on effective delegation techniques, such as assigning tasks based on employee strengths, setting clear expectations, and providing support and feedback.\\n- Encourage the employee to prioritize tasks and delegate responsibilities to team members who have the skills and capacity to handle them.\\n- Monitor the employee's delegation practices and provide feedback on their effectiveness.\\n- Offer support and guidance to help the employee build confidence in delegating tasks and trusting their team members.\\n\\nOverall, it's important to approach these weaknesses with a positive and supportive attitude, focusing on providing the employee with the tools and resources they need to improve. Regular communication, feedback, and encouragement will be key in helping the employee address and fix these weaknesses effectively.\", response_metadata={'token_usage': {'completion_tokens': 410, 'prompt_tokens': 140, 'total_tokens': 550}, 'model_name': 'gpt-3.5-turbo', 'system_fingerprint': None, 'finish_reason': 'stop', 'logprobs': None}, id='run-b43e409c-1485-4142-ac18-e9e6dff95e33-0')"
      ]
     },
     "execution_count": 94,
     "metadata": {},
     "output_type": "execute_result"
    }
   ],
   "source": [
    "(chain_1|chain_2|chain_3).invoke(employee_review)"
   ]
  },
  {
   "cell_type": "code",
   "execution_count": null,
   "id": "b62ab008-a867-4ca3-8056-341a86f5aae7",
   "metadata": {},
   "outputs": [],
   "source": []
  }
 ],
 "metadata": {
  "kernelspec": {
   "display_name": "Python 3 (ipykernel)",
   "language": "python",
   "name": "python3"
  },
  "language_info": {
   "codemirror_mode": {
    "name": "ipython",
    "version": 3
   },
   "file_extension": ".py",
   "mimetype": "text/x-python",
   "name": "python",
   "nbconvert_exporter": "python",
   "pygments_lexer": "ipython3",
   "version": "3.11.0"
  }
 },
 "nbformat": 4,
 "nbformat_minor": 5
}
