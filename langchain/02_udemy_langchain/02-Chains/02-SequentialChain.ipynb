{
 "cells": [
  {
   "cell_type": "markdown",
   "id": "bcded1a6-2430-4707-a78c-c82f4c5ee6fc",
   "metadata": {},
   "source": [
    "<a href = \"https://www.pieriantraining.com\"><img src=\"../PT Centered Purple.png\"> </a>\n",
    "\n",
    "<em style=\"text-align:center\">Copyrighted by Pierian Training</em>"
   ]
  },
  {
   "cell_type": "markdown",
   "id": "728f1747-b8fc-4d31-96c2-047fc83c079d",
   "metadata": {},
   "source": [
    "#  Sequential Chains"
   ]
  },
  {
   "cell_type": "code",
   "execution_count": 15,
   "id": "2b601c29",
   "metadata": {},
   "outputs": [],
   "source": [
    "import os\n",
    "from dotenv import load_dotenv\n",
    "load_dotenv()\n",
    "\n",
    "openai_token = os.getenv(\"OPENAI_API_KEY\")"
   ]
  },
  {
   "cell_type": "code",
   "execution_count": 16,
   "id": "8a482e73-7d0c-407f-bd88-9f3c1c7eb559",
   "metadata": {},
   "outputs": [],
   "source": [
    "from langchain_openai import ChatOpenAI\n",
    "from langchain.prompts import ChatPromptTemplate\n",
    "from langchain.chains.sequential import SequentialChain"
   ]
  },
  {
   "cell_type": "code",
   "execution_count": 17,
   "id": "dda2db90-b54b-422e-baff-2bd96faeaaeb",
   "metadata": {},
   "outputs": [],
   "source": [
    "llm = ChatOpenAI()"
   ]
  },
  {
   "cell_type": "code",
   "execution_count": 18,
   "id": "c2db5816-b29d-4567-b6aa-12e0c74e9331",
   "metadata": {},
   "outputs": [],
   "source": [
    "template1 = \"Give a summary of this employee's performance review:\\n{review}\"\n",
    "prompt1 = ChatPromptTemplate.from_template(template1)\n",
    "chain_1 = prompt1|llm"
   ]
  },
  {
   "cell_type": "code",
   "execution_count": 19,
   "id": "2a6c1d04-1fe0-4386-8b3a-4535cbfaff43",
   "metadata": {},
   "outputs": [],
   "source": [
    "template2 = \"Identify key employee weaknesses in this review summary:\\n{review_summary}\"\n",
    "prompt2 = ChatPromptTemplate.from_template(template2)\n",
    "chain_2 = prompt2|llm"
   ]
  },
  {
   "cell_type": "code",
   "execution_count": 20,
   "id": "8031844b-586e-44b5-ac74-23b3767a9413",
   "metadata": {},
   "outputs": [],
   "source": [
    "template3 = \"Create a personalized plan to help address and fix these weaknesses:\\n{weaknesses}\"\n",
    "prompt3 = ChatPromptTemplate.from_template(template3)\n",
    "chain_3 = prompt3|llm"
   ]
  },
  {
   "cell_type": "code",
   "execution_count": 21,
   "id": "937bc141-1229-456b-9faf-bdd004ad88c7",
   "metadata": {},
   "outputs": [],
   "source": [
    "seq_chain = chain_1|chain_2|chain_3"
   ]
  },
  {
   "cell_type": "code",
   "execution_count": 22,
   "id": "0e6013f5-40c9-401b-9d45-98b52de1bb3f",
   "metadata": {},
   "outputs": [],
   "source": [
    "employee_review = '''\n",
    "Employee Information:\n",
    "Name: Joe Schmo\n",
    "Position: Software Engineer\n",
    "Date of Review: July 14, 2023\n",
    "\n",
    "Strengths:\n",
    "Joe is a highly skilled software engineer with a deep understanding of programming languages, algorithms, and software development best practices. His technical expertise shines through in his ability to efficiently solve complex problems and deliver high-quality code.\n",
    "\n",
    "One of Joe's greatest strengths is his collaborative nature. He actively engages with cross-functional teams, contributing valuable insights and seeking input from others. His open-mindedness and willingness to learn from colleagues make him a true team player.\n",
    "\n",
    "Joe consistently demonstrates initiative and self-motivation. He takes the lead in seeking out new projects and challenges, and his proactive attitude has led to significant improvements in existing processes and systems. His dedication to self-improvement and growth is commendable.\n",
    "\n",
    "Another notable strength is Joe's adaptability. He has shown great flexibility in handling changing project requirements and learning new technologies. This adaptability allows him to seamlessly transition between different projects and tasks, making him a valuable asset to the team.\n",
    "\n",
    "Joe's problem-solving skills are exceptional. He approaches issues with a logical mindset and consistently finds effective solutions, often thinking outside the box. His ability to break down complex problems into manageable parts is key to his success in resolving issues efficiently.\n",
    "\n",
    "Weaknesses:\n",
    "While Joe possesses numerous strengths, there are a few areas where he could benefit from improvement. One such area is time management. Occasionally, Joe struggles with effectively managing his time, resulting in missed deadlines or the need for additional support to complete tasks on time. Developing better prioritization and time management techniques would greatly enhance his efficiency.\n",
    "\n",
    "Another area for improvement is Joe's written communication skills. While he communicates well verbally, there have been instances where his written documentation lacked clarity, leading to confusion among team members. Focusing on enhancing his written communication abilities will help him effectively convey ideas and instructions.\n",
    "\n",
    "Additionally, Joe tends to take on too many responsibilities and hesitates to delegate tasks to others. This can result in an excessive workload and potential burnout. Encouraging him to delegate tasks appropriately will not only alleviate his own workload but also foster a more balanced and productive team environment.\n",
    "'''"
   ]
  },
  {
   "cell_type": "code",
   "execution_count": 23,
   "id": "406813b0-b79d-4056-8dbc-923e1986df41",
   "metadata": {},
   "outputs": [],
   "source": [
    "results = seq_chain.invoke(employee_review)"
   ]
  },
  {
   "cell_type": "code",
   "execution_count": 24,
   "id": "be395801-2e84-4686-9203-3857f8b5934b",
   "metadata": {},
   "outputs": [
    {
     "data": {
      "text/plain": [
       "AIMessage(content='Personalized Plan to Address and Fix Weaknesses:\\n\\n1. Time Management:\\n- Create a daily or weekly schedule to prioritize tasks and allocate time efficiently.\\n- Set specific goals and deadlines for each task to stay on track.\\n- Use tools like time-tracking apps or calendars to monitor progress and identify areas for improvement.\\n- Consider taking a time management course or seeking guidance from a mentor to develop better time management skills.\\n\\n2. Written Communication Skills:\\n- Practice writing regularly, such as by sending concise and clear emails or documenting project updates.\\n- Seek feedback on your written communication from colleagues or supervisors to identify areas for improvement.\\n- Take a writing or communication course to enhance your skills and learn best practices for effective written communication.\\n- Utilize tools like grammar checkers or style guides to improve the quality of your written work.\\n\\n3. Delegation of Tasks:\\n- Identify tasks that can be delegated to others based on their skills and expertise.\\n- Communicate clearly and effectively when assigning tasks to ensure understanding and successful completion.\\n- Trust your team members to handle delegated tasks and provide support or guidance as needed.\\n- Monitor progress and provide feedback to ensure tasks are completed efficiently and effectively.\\n\\nBy actively working on these areas for improvement, Joe Schmo can enhance his performance as a Software Engineer and achieve greater success in his role.', response_metadata={'token_usage': {'completion_tokens': 263, 'prompt_tokens': 218, 'total_tokens': 481}, 'model_name': 'gpt-3.5-turbo-0125', 'system_fingerprint': None, 'finish_reason': 'stop', 'logprobs': None}, id='run-ccc59f50-0ccf-40ac-9723-937c5dcd2ffb-0', usage_metadata={'input_tokens': 218, 'output_tokens': 263, 'total_tokens': 481})"
      ]
     },
     "execution_count": 24,
     "metadata": {},
     "output_type": "execute_result"
    }
   ],
   "source": [
    "results"
   ]
  },
  {
   "cell_type": "code",
   "execution_count": 25,
   "id": "2edc6866-769b-47ee-921d-ae40eb9891eb",
   "metadata": {},
   "outputs": [
    {
     "name": "stdout",
     "output_type": "stream",
     "text": [
      "Personalized Plan to Address and Fix Weaknesses:\n",
      "\n",
      "1. Time Management:\n",
      "- Create a daily or weekly schedule to prioritize tasks and allocate time efficiently.\n",
      "- Set specific goals and deadlines for each task to stay on track.\n",
      "- Use tools like time-tracking apps or calendars to monitor progress and identify areas for improvement.\n",
      "- Consider taking a time management course or seeking guidance from a mentor to develop better time management skills.\n",
      "\n",
      "2. Written Communication Skills:\n",
      "- Practice writing regularly, such as by sending concise and clear emails or documenting project updates.\n",
      "- Seek feedback on your written communication from colleagues or supervisors to identify areas for improvement.\n",
      "- Take a writing or communication course to enhance your skills and learn best practices for effective written communication.\n",
      "- Utilize tools like grammar checkers or style guides to improve the quality of your written work.\n",
      "\n",
      "3. Delegation of Tasks:\n",
      "- Identify tasks that can be delegated to others based on their skills and expertise.\n",
      "- Communicate clearly and effectively when assigning tasks to ensure understanding and successful completion.\n",
      "- Trust your team members to handle delegated tasks and provide support or guidance as needed.\n",
      "- Monitor progress and provide feedback to ensure tasks are completed efficiently and effectively.\n",
      "\n",
      "By actively working on these areas for improvement, Joe Schmo can enhance his performance as a Software Engineer and achieve greater success in his role.\n"
     ]
    }
   ],
   "source": [
    "print(results.content)"
   ]
  },
  {
   "cell_type": "markdown",
   "id": "08bd3b6d-fdda-4cad-8820-d50cd10b3c92",
   "metadata": {},
   "source": [
    "## As of right now, to get the intermediate outputs, we need to call the individual chains"
   ]
  },
  {
   "cell_type": "code",
   "execution_count": 26,
   "id": "16300002-3e93-4a3e-b733-4e20d62a607f",
   "metadata": {},
   "outputs": [
    {
     "data": {
      "text/plain": [
       "\"Overall, Joe Schmo's performance review reflects his exceptional technical skills, collaborative nature, initiative, adaptability, and problem-solving abilities. However, areas for improvement include time management, written communication skills, and delegation. By focusing on these areas, Joe has the potential to further excel in his role as a Software Engineer and contribute even more effectively to his team.\""
      ]
     },
     "execution_count": 26,
     "metadata": {},
     "output_type": "execute_result"
    }
   ],
   "source": [
    "chain_1.invoke(employee_review).content"
   ]
  },
  {
   "cell_type": "code",
   "execution_count": 27,
   "id": "151765b2-2c52-4284-b164-1b07d336b449",
   "metadata": {},
   "outputs": [
    {
     "data": {
      "text/plain": [
       "'Key employee weaknesses identified in the review summary include:\\n1. Time management\\n2. Written communication skills\\n3. Delegation of tasks'"
      ]
     },
     "execution_count": 27,
     "metadata": {},
     "output_type": "execute_result"
    }
   ],
   "source": [
    "(chain_1|chain_2).invoke(employee_review).content"
   ]
  },
  {
   "cell_type": "code",
   "execution_count": 28,
   "id": "7ef78cfc-e356-48bd-80ac-9494d8175c11",
   "metadata": {},
   "outputs": [
    {
     "data": {
      "text/plain": [
       "AIMessage(content=\"Personalized Plan to Address Employee Weaknesses for Joe Schmo:\\n\\n1. Time Management Improvement:\\n- Implement a daily or weekly schedule to prioritize tasks and allocate specific time slots for each task.\\n- Use time management tools or apps to track and monitor daily activities and progress.\\n- Set realistic deadlines for tasks and break down larger projects into smaller, manageable tasks with deadlines.\\n\\n2. Written Communication Skills Development:\\n- Enroll Joe in a writing course or workshop to improve his written communication skills.\\n- Provide opportunities for Joe to practice writing, such as drafting emails, reports, or project updates.\\n- Encourage Joe to seek feedback on his written communication from colleagues or supervisors to identify areas for improvement.\\n\\n3. Delegation Skills Enhancement:\\n- Offer training or workshops on effective delegation techniques and strategies.\\n- Encourage Joe to delegate tasks to team members based on their strengths and expertise.\\n- Provide guidance on how to set clear expectations, monitor progress, and provide feedback to team members on delegated tasks.\\n\\n4. Regular Monitoring and Feedback:\\n- Schedule regular check-ins with Joe to review his progress in addressing these weaknesses.\\n- Provide constructive feedback and positive reinforcement to encourage Joe's growth and development.\\n- Celebrate milestones and achievements as Joe makes progress in improving his time management, written communication, and delegation skills.\\n\\nBy implementing this personalized plan, Joe can work towards addressing his weaknesses and further developing his professional skills to improve his performance in the workplace.\", response_metadata={'token_usage': {'completion_tokens': 286, 'prompt_tokens': 272, 'total_tokens': 558}, 'model_name': 'gpt-3.5-turbo-0125', 'system_fingerprint': None, 'finish_reason': 'stop', 'logprobs': None}, id='run-4fa37990-6d4a-47bb-9c9b-cbaf048eb4a8-0', usage_metadata={'input_tokens': 272, 'output_tokens': 286, 'total_tokens': 558})"
      ]
     },
     "execution_count": 28,
     "metadata": {},
     "output_type": "execute_result"
    }
   ],
   "source": [
    "(chain_1|chain_2|chain_3).invoke(employee_review)"
   ]
  },
  {
   "cell_type": "code",
   "execution_count": null,
   "id": "b62ab008-a867-4ca3-8056-341a86f5aae7",
   "metadata": {},
   "outputs": [],
   "source": []
  }
 ],
 "metadata": {
  "kernelspec": {
   "display_name": "Python 3 (ipykernel)",
   "language": "python",
   "name": "python3"
  },
  "language_info": {
   "codemirror_mode": {
    "name": "ipython",
    "version": 3
   },
   "file_extension": ".py",
   "mimetype": "text/x-python",
   "name": "python",
   "nbconvert_exporter": "python",
   "pygments_lexer": "ipython3",
   "version": "3.9.18"
  }
 },
 "nbformat": 4,
 "nbformat_minor": 5
}
