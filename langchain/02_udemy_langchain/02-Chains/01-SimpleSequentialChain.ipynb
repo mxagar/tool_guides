{
 "cells": [
  {
   "cell_type": "markdown",
   "id": "bcded1a6-2430-4707-a78c-c82f4c5ee6fc",
   "metadata": {},
   "source": [
    "<a href = \"https://www.pieriantraining.com\"><img src=\"../PT Centered Purple.png\"> </a>\n",
    "\n",
    "<em style=\"text-align:center\">Copyrighted by Pierian Training</em>"
   ]
  },
  {
   "cell_type": "markdown",
   "id": "728f1747-b8fc-4d31-96c2-047fc83c079d",
   "metadata": {},
   "source": [
    "#  Simple Sequential Chain"
   ]
  },
  {
   "cell_type": "code",
   "execution_count": 1,
   "id": "5f4cb796-3ea3-4a63-96a3-58d9be1991a8",
   "metadata": {},
   "outputs": [],
   "source": [
    "from langchain_openai import ChatOpenAI\n",
    "from langchain.prompts import ChatPromptTemplate\n",
    "from langchain.chains import SimpleSequentialChain"
   ]
  },
  {
   "cell_type": "code",
   "execution_count": 2,
   "id": "ee4cf672-8071-42c1-917a-f04c2f88c8d6",
   "metadata": {},
   "outputs": [],
   "source": [
    "llm = ChatOpenAI()"
   ]
  },
  {
   "cell_type": "code",
   "execution_count": 3,
   "id": "75505659-35af-4eec-a890-42ab4486ea9a",
   "metadata": {},
   "outputs": [],
   "source": [
    "template = \"Give me a simple bullet point outline for a blog post on {topic}\"\n",
    "first_prompt = ChatPromptTemplate.from_template(template)\n",
    "chain_one = first_prompt|llm"
   ]
  },
  {
   "cell_type": "code",
   "execution_count": 4,
   "id": "24b974d6-446f-4328-b2af-eda7041f6587",
   "metadata": {},
   "outputs": [],
   "source": [
    "template = \"Write a blog post using this outline: {outline}\"\n",
    "second_prompt = ChatPromptTemplate.from_template(template)\n",
    "chain_two = second_prompt|llm"
   ]
  },
  {
   "cell_type": "code",
   "execution_count": 6,
   "id": "5881141f-41e9-41ec-9ee2-a519b5576e57",
   "metadata": {},
   "outputs": [
    {
     "data": {
      "text/plain": [
       "ChatPromptTemplate(input_variables=['topic'], messages=[HumanMessagePromptTemplate(prompt=PromptTemplate(input_variables=['topic'], template='Give me a simple bullet point outline for a blog post on {topic}'))])\n",
       "| ChatOpenAI(client=<openai.resources.chat.completions.Completions object at 0x11342e850>, async_client=<openai.resources.chat.completions.AsyncCompletions object at 0x11478f7d0>, openai_api_key=SecretStr('**********'), openai_proxy='')"
      ]
     },
     "execution_count": 6,
     "metadata": {},
     "output_type": "execute_result"
    }
   ],
   "source": [
    "chain_one"
   ]
  },
  {
   "cell_type": "code",
   "execution_count": 12,
   "id": "9f3919a0-fee1-48bb-aeab-4be80f4799fc",
   "metadata": {},
   "outputs": [],
   "source": [
    "full_chain = chain_one|chain_two"
   ]
  },
  {
   "cell_type": "code",
   "execution_count": 15,
   "id": "23708ed6-3511-4adb-83ad-ca24cd936fd8",
   "metadata": {},
   "outputs": [
    {
     "name": "stdout",
     "output_type": "stream",
     "text": [
      "In today's digital world, data science has become an increasingly important field. With the vast amounts of data being generated every day, the ability to collect, analyze, and interpret this data has never been more crucial. Data science is a multidisciplinary field that combines statistics, computer science, and domain expertise to extract insights and knowledge from data.\n",
      "\n",
      "Data science involves a variety of tasks, including collecting data from various sources, cleaning and organizing the data, analyzing the data to uncover patterns and trends, and interpreting the results to make informed decisions. This process often involves the use of various tools and technologies, such as programming languages like Python and R, as well as machine learning algorithms like neural networks and decision trees.\n",
      "\n",
      "The applications of data science are vast and varied. In business, data science is used to optimize marketing campaigns, improve customer retention, and enhance operational efficiency. In healthcare, data science is used to analyze patient data and develop personalized treatment plans. In government, data science is used to improve public services and policy-making.\n",
      "\n",
      "If you're interested in pursuing a career in data science, there are a few tips to keep in mind. Start by taking courses in statistics, computer science, and data analysis. Consider getting certifications in data science tools and technologies to demonstrate your skills to potential employers. Build a portfolio of projects that showcase your data science skills and experience.\n",
      "\n",
      "In conclusion, the demand for data scientists is growing rapidly, and there are many exciting opportunities in the field. Whether you're interested in business, healthcare, government, or any other industry, data science skills are sure to be in high demand. By getting started in data science now, you can position yourself for a successful and rewarding career in this dynamic and rapidly evolving field.\n"
     ]
    }
   ],
   "source": [
    "result = full_chain.invoke(\"Data Science\")\n",
    "print(result.content)"
   ]
  },
  {
   "cell_type": "code",
   "execution_count": null,
   "id": "c41b4952-b601-446c-83cf-49b7cdd9bab2",
   "metadata": {},
   "outputs": [],
   "source": []
  }
 ],
 "metadata": {
  "kernelspec": {
   "display_name": "Python 3 (ipykernel)",
   "language": "python",
   "name": "python3"
  },
  "language_info": {
   "codemirror_mode": {
    "name": "ipython",
    "version": 3
   },
   "file_extension": ".py",
   "mimetype": "text/x-python",
   "name": "python",
   "nbconvert_exporter": "python",
   "pygments_lexer": "ipython3",
   "version": "3.11.0"
  }
 },
 "nbformat": 4,
 "nbformat_minor": 5
}
