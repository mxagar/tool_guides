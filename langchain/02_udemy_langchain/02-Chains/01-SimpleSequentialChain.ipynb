{
 "cells": [
  {
   "cell_type": "markdown",
   "id": "bcded1a6-2430-4707-a78c-c82f4c5ee6fc",
   "metadata": {},
   "source": [
    "<a href = \"https://www.pieriantraining.com\"><img src=\"../PT Centered Purple.png\"> </a>\n",
    "\n",
    "<em style=\"text-align:center\">Copyrighted by Pierian Training</em>"
   ]
  },
  {
   "cell_type": "markdown",
   "id": "728f1747-b8fc-4d31-96c2-047fc83c079d",
   "metadata": {},
   "source": [
    "#  Simple Sequential Chain"
   ]
  },
  {
   "cell_type": "code",
   "execution_count": 1,
   "id": "02628dab",
   "metadata": {},
   "outputs": [],
   "source": [
    "import os\n",
    "from dotenv import load_dotenv\n",
    "load_dotenv()\n",
    "\n",
    "openai_token = os.getenv(\"OPENAI_API_KEY\")"
   ]
  },
  {
   "cell_type": "code",
   "execution_count": 2,
   "id": "5f4cb796-3ea3-4a63-96a3-58d9be1991a8",
   "metadata": {},
   "outputs": [],
   "source": [
    "from langchain_openai import ChatOpenAI\n",
    "from langchain.prompts import ChatPromptTemplate\n",
    "from langchain.chains import SimpleSequentialChain"
   ]
  },
  {
   "cell_type": "code",
   "execution_count": 3,
   "id": "ee4cf672-8071-42c1-917a-f04c2f88c8d6",
   "metadata": {},
   "outputs": [],
   "source": [
    "llm = ChatOpenAI()"
   ]
  },
  {
   "cell_type": "code",
   "execution_count": 4,
   "id": "75505659-35af-4eec-a890-42ab4486ea9a",
   "metadata": {},
   "outputs": [],
   "source": [
    "# The first chain creates an outline for a blog post, the topic is given by the user.\n",
    "template = \"Give me a simple bullet point outline for a blog post on {topic}\"\n",
    "first_prompt = ChatPromptTemplate.from_template(template)\n",
    "chain_one = first_prompt|llm"
   ]
  },
  {
   "cell_type": "code",
   "execution_count": 5,
   "id": "24b974d6-446f-4328-b2af-eda7041f6587",
   "metadata": {},
   "outputs": [],
   "source": [
    "# The second writes the blog post with the outline.\n",
    "template = \"Write a blog post using this outline: {outline}\"\n",
    "second_prompt = ChatPromptTemplate.from_template(template)\n",
    "chain_two = second_prompt|llm"
   ]
  },
  {
   "cell_type": "code",
   "execution_count": 6,
   "id": "5881141f-41e9-41ec-9ee2-a519b5576e57",
   "metadata": {},
   "outputs": [
    {
     "data": {
      "text/plain": [
       "ChatPromptTemplate(input_variables=['topic'], messages=[HumanMessagePromptTemplate(prompt=PromptTemplate(input_variables=['topic'], template='Give me a simple bullet point outline for a blog post on {topic}'))])\n",
       "| ChatOpenAI(client=<openai.resources.chat.completions.Completions object at 0x0000020ADF9076D0>, async_client=<openai.resources.chat.completions.AsyncCompletions object at 0x0000020ADF91B280>, openai_api_key=SecretStr('**********'), openai_proxy='')"
      ]
     },
     "execution_count": 6,
     "metadata": {},
     "output_type": "execute_result"
    }
   ],
   "source": [
    "chain_one"
   ]
  },
  {
   "cell_type": "code",
   "execution_count": 7,
   "id": "9f3919a0-fee1-48bb-aeab-4be80f4799fc",
   "metadata": {},
   "outputs": [],
   "source": [
    "# SimpleSequentialChain: there is no difference in the new versions of LangChain\n",
    "# wrt. the LLMChain notation\n",
    "full_chain = chain_one|chain_two"
   ]
  },
  {
   "cell_type": "code",
   "execution_count": 8,
   "id": "23708ed6-3511-4adb-83ad-ca24cd936fd8",
   "metadata": {},
   "outputs": [
    {
     "name": "stdout",
     "output_type": "stream",
     "text": [
      "In today's data-driven world, the field of data science has become increasingly important across various industries. From healthcare to finance to marketing, businesses are relying on data scientists to extract valuable insights from vast amounts of data. In this blog post, we will discuss the importance of data science, what it entails, the skills required to excel in the field, the stages of the data science process, tools and technologies used, real-world applications, tips for aspiring data scientists, and the growing demand for professionals in this field.\n",
      "\n",
      "Data science is the practice of using scientific methods, algorithms, and systems to extract knowledge and insights from structured and unstructured data. It involves a combination of statistics, mathematics, programming, and domain expertise to analyze and interpret complex data sets. Data scientists are tasked with uncovering patterns, trends, and relationships in data that can help businesses make informed decisions and drive growth.\n",
      "\n",
      "To excel in the field of data science, one must possess a strong foundation in mathematics and statistics, as well as programming skills in languages such as Python, R, and SQL. Additionally, critical thinking, problem-solving, and communication skills are essential for effectively analyzing and presenting data findings to stakeholders.\n",
      "\n",
      "The data science process typically involves four main stages: data collection, data cleaning, data analysis, and data visualization. Data collection involves gathering relevant data from various sources, while data cleaning is the process of identifying and correcting errors, inconsistencies, and missing values in the data. Data analysis focuses on applying statistical and machine learning techniques to uncover insights, and data visualization helps to communicate findings through charts, graphs, and dashboards.\n",
      "\n",
      "In the field of data science, there are a variety of tools and technologies used to analyze data, such as programming languages like Python and R, statistical analysis tools like SAS and SPSS, and machine learning algorithms like neural networks and decision trees. These tools help data scientists to process and interpret data more efficiently and accurately.\n",
      "\n",
      "Real-world applications of data science are vast and varied. In healthcare, data scientists are using predictive analytics to improve patient outcomes and reduce costs. In finance, data scientists are leveraging algorithms to detect fraud and optimize investment strategies. In marketing, data scientists are analyzing customer behavior to personalize marketing campaigns and increase customer engagement.\n",
      "\n",
      "For aspiring data scientists looking to break into the field, it is important to continuously upskill and stay current with the latest trends and technologies in data science. Building a strong portfolio of projects and networking with professionals in the field can also help to advance one's career. With the growing demand for data scientists across industries, there are limitless opportunities for professionals to make a meaningful impact with their data-driven insights.\n",
      "\n",
      "In conclusion, data science plays a crucial role in driving innovation and decision-making in today's data-driven world. With the right skills, tools, and mindset, aspiring data scientists can unlock endless opportunities for growth and success in this dynamic field.\n"
     ]
    }
   ],
   "source": [
    "result = full_chain.invoke(\"Data Science\")\n",
    "print(result.content)"
   ]
  },
  {
   "cell_type": "code",
   "execution_count": 11,
   "id": "c41b4952-b601-446c-83cf-49b7cdd9bab2",
   "metadata": {},
   "outputs": [
    {
     "name": "stdout",
     "output_type": "stream",
     "text": [
      "- Introduction to Data Science and its importance in today's world\n",
      "- Explanation of what data science is and how it is used to analyze and interpret data\n",
      "- Overview of the various techniques and tools used in data science, such as machine learning and data visualization\n",
      "- Benefits of data science for businesses and organizations, including improved decision-making and increased efficiency\n",
      "- Examples of real-world applications of data science in various industries\n",
      "- Tips for getting started in data science, including recommended courses and resources for learning\n",
      "- Conclusion highlighting the impact of data science on the future of technology and business\n",
      "In today's increasingly data-driven world, the field of data science has emerged as a powerful tool for organizations looking to harness the power of data to make informed decisions and drive business growth. With the vast amounts of data being generated every day, the ability to analyze and interpret this data is crucial for staying competitive in today's fast-paced business environment.\n",
      "\n",
      "Data science is the practice of applying advanced analytical techniques to large datasets to uncover patterns, trends, and insights that can inform decision-making. By using techniques such as machine learning, statistical analysis, and data visualization, data scientists are able to extract valuable information from raw data and present it in a way that is easily understandable and actionable.\n",
      "\n",
      "One of the key benefits of data science for businesses and organizations is the ability to improve decision-making processes. By analyzing data from various sources, organizations can gain valuable insights that can help them make more informed decisions and drive business growth. In addition, data science can help organizations increase efficiency by identifying areas for improvement and optimizing processes.\n",
      "\n",
      "Data science has a wide range of applications across various industries, from finance and healthcare to marketing and retail. For example, in the healthcare industry, data science is being used to analyze patient data and improve diagnosis and treatment methods. In the finance industry, data science is helping organizations better understand market trends and make more accurate predictions about future performance.\n",
      "\n",
      "If you're interested in getting started in data science, there are a number of resources available to help you learn the necessary skills. Online courses and tutorials are a great way to get started, and there are also many books and workshops available that can help you deepen your understanding of the field. In addition, networking with other data scientists and attending conferences and events can help you stay up to date on the latest trends and developments in the field.\n",
      "\n",
      "In conclusion, data science is a powerful tool that is shaping the future of technology and business. By learning the skills and techniques necessary to analyze and interpret data, individuals and organizations can gain a competitive edge and drive business growth. As the field of data science continues to evolve, it will be increasingly important for organizations to leverage the power of data to make informed decisions and drive innovation.\n"
     ]
    }
   ],
   "source": [
    "# If we want to access to the intermmediate output/input results\n",
    "# of each step we need to invoke each chain separately\n",
    "result_1 = chain_one.invoke(\"Data Science\")\n",
    "print(result_1.content)\n",
    "result_2 = chain_two.invoke(result_1.content)\n",
    "print(result_2.content)\n"
   ]
  },
  {
   "cell_type": "code",
   "execution_count": null,
   "id": "57d213d5",
   "metadata": {},
   "outputs": [],
   "source": []
  }
 ],
 "metadata": {
  "kernelspec": {
   "display_name": "Python 3 (ipykernel)",
   "language": "python",
   "name": "python3"
  },
  "language_info": {
   "codemirror_mode": {
    "name": "ipython",
    "version": 3
   },
   "file_extension": ".py",
   "mimetype": "text/x-python",
   "name": "python",
   "nbconvert_exporter": "python",
   "pygments_lexer": "ipython3",
   "version": "3.9.18"
  }
 },
 "nbformat": 4,
 "nbformat_minor": 5
}
