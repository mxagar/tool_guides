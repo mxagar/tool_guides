{
 "cells": [
  {
   "cell_type": "markdown",
   "id": "bcded1a6-2430-4707-a78c-c82f4c5ee6fc",
   "metadata": {},
   "source": [
    "<a href = \"https://www.pieriantraining.com\"><img src=\"../PT Centered Purple.png\"> </a>\n",
    "\n",
    "<em style=\"text-align:center\">Copyrighted by Pierian Training</em>"
   ]
  },
  {
   "cell_type": "markdown",
   "id": "728f1747-b8fc-4d31-96c2-047fc83c079d",
   "metadata": {},
   "source": [
    "#  Simple Sequential Chain"
   ]
  },
  {
   "cell_type": "code",
   "execution_count": 1,
   "id": "02628dab",
   "metadata": {},
   "outputs": [],
   "source": [
    "import os\n",
    "from dotenv import load_dotenv\n",
    "load_dotenv()\n",
    "\n",
    "openai_token = os.getenv(\"OPENAI_API_KEY\")"
   ]
  },
  {
   "cell_type": "code",
   "execution_count": 2,
   "id": "5f4cb796-3ea3-4a63-96a3-58d9be1991a8",
   "metadata": {},
   "outputs": [],
   "source": [
    "from langchain_openai import ChatOpenAI\n",
    "from langchain.prompts import ChatPromptTemplate\n",
    "from langchain.chains import SimpleSequentialChain"
   ]
  },
  {
   "cell_type": "code",
   "execution_count": 3,
   "id": "ee4cf672-8071-42c1-917a-f04c2f88c8d6",
   "metadata": {},
   "outputs": [],
   "source": [
    "llm = ChatOpenAI()"
   ]
  },
  {
   "cell_type": "code",
   "execution_count": 4,
   "id": "75505659-35af-4eec-a890-42ab4486ea9a",
   "metadata": {},
   "outputs": [],
   "source": [
    "# The first chain creates an outline for a blog post, the topic is given by the user.\n",
    "template = \"Give me a simple bullet point outline for a blog post on {topic}\"\n",
    "first_prompt = ChatPromptTemplate.from_template(template)\n",
    "chain_one = first_prompt|llm"
   ]
  },
  {
   "cell_type": "code",
   "execution_count": 5,
   "id": "24b974d6-446f-4328-b2af-eda7041f6587",
   "metadata": {},
   "outputs": [],
   "source": [
    "# The second writes the blog post with the outline.\n",
    "template = \"Write a blog post using this outline: {outline}\"\n",
    "second_prompt = ChatPromptTemplate.from_template(template)\n",
    "chain_two = second_prompt|llm"
   ]
  },
  {
   "cell_type": "code",
   "execution_count": 6,
   "id": "5881141f-41e9-41ec-9ee2-a519b5576e57",
   "metadata": {},
   "outputs": [
    {
     "data": {
      "text/plain": [
       "ChatPromptTemplate(input_variables=['topic'], messages=[HumanMessagePromptTemplate(prompt=PromptTemplate(input_variables=['topic'], template='Give me a simple bullet point outline for a blog post on {topic}'))])\n",
       "| ChatOpenAI(client=<openai.resources.chat.completions.Completions object at 0x0000020ADF9076D0>, async_client=<openai.resources.chat.completions.AsyncCompletions object at 0x0000020ADF91B280>, openai_api_key=SecretStr('**********'), openai_proxy='')"
      ]
     },
     "execution_count": 6,
     "metadata": {},
     "output_type": "execute_result"
    }
   ],
   "source": [
    "chain_one"
   ]
  },
  {
   "cell_type": "code",
   "execution_count": 7,
   "id": "9f3919a0-fee1-48bb-aeab-4be80f4799fc",
   "metadata": {},
   "outputs": [],
   "source": [
    "# SimpleSequentialChain: there is no difference in the new versions of LangChain\n",
    "# wrt. the LLMChain notation\n",
    "full_chain = chain_one|chain_two"
   ]
  },
  {
   "cell_type": "code",
   "execution_count": 8,
   "id": "23708ed6-3511-4adb-83ad-ca24cd936fd8",
   "metadata": {},
   "outputs": [
    {
     "name": "stdout",
     "output_type": "stream",
     "text": [
      "In today's data-driven world, the field of data science has become increasingly important across various industries. From healthcare to finance to marketing, businesses are relying on data scientists to extract valuable insights from vast amounts of data. In this blog post, we will discuss the importance of data science, what it entails, the skills required to excel in the field, the stages of the data science process, tools and technologies used, real-world applications, tips for aspiring data scientists, and the growing demand for professionals in this field.\n",
      "\n",
      "Data science is the practice of using scientific methods, algorithms, and systems to extract knowledge and insights from structured and unstructured data. It involves a combination of statistics, mathematics, programming, and domain expertise to analyze and interpret complex data sets. Data scientists are tasked with uncovering patterns, trends, and relationships in data that can help businesses make informed decisions and drive growth.\n",
      "\n",
      "To excel in the field of data science, one must possess a strong foundation in mathematics and statistics, as well as programming skills in languages such as Python, R, and SQL. Additionally, critical thinking, problem-solving, and communication skills are essential for effectively analyzing and presenting data findings to stakeholders.\n",
      "\n",
      "The data science process typically involves four main stages: data collection, data cleaning, data analysis, and data visualization. Data collection involves gathering relevant data from various sources, while data cleaning is the process of identifying and correcting errors, inconsistencies, and missing values in the data. Data analysis focuses on applying statistical and machine learning techniques to uncover insights, and data visualization helps to communicate findings through charts, graphs, and dashboards.\n",
      "\n",
      "In the field of data science, there are a variety of tools and technologies used to analyze data, such as programming languages like Python and R, statistical analysis tools like SAS and SPSS, and machine learning algorithms like neural networks and decision trees. These tools help data scientists to process and interpret data more efficiently and accurately.\n",
      "\n",
      "Real-world applications of data science are vast and varied. In healthcare, data scientists are using predictive analytics to improve patient outcomes and reduce costs. In finance, data scientists are leveraging algorithms to detect fraud and optimize investment strategies. In marketing, data scientists are analyzing customer behavior to personalize marketing campaigns and increase customer engagement.\n",
      "\n",
      "For aspiring data scientists looking to break into the field, it is important to continuously upskill and stay current with the latest trends and technologies in data science. Building a strong portfolio of projects and networking with professionals in the field can also help to advance one's career. With the growing demand for data scientists across industries, there are limitless opportunities for professionals to make a meaningful impact with their data-driven insights.\n",
      "\n",
      "In conclusion, data science plays a crucial role in driving innovation and decision-making in today's data-driven world. With the right skills, tools, and mindset, aspiring data scientists can unlock endless opportunities for growth and success in this dynamic field.\n"
     ]
    }
   ],
   "source": [
    "result = full_chain.invoke(\"Data Science\")\n",
    "print(result.content)"
   ]
  },
  {
   "cell_type": "code",
   "execution_count": null,
   "id": "c41b4952-b601-446c-83cf-49b7cdd9bab2",
   "metadata": {},
   "outputs": [],
   "source": []
  }
 ],
 "metadata": {
  "kernelspec": {
   "display_name": "Python 3 (ipykernel)",
   "language": "python",
   "name": "python3"
  },
  "language_info": {
   "codemirror_mode": {
    "name": "ipython",
    "version": 3
   },
   "file_extension": ".py",
   "mimetype": "text/x-python",
   "name": "python",
   "nbconvert_exporter": "python",
   "pygments_lexer": "ipython3",
   "version": "3.9.18"
  }
 },
 "nbformat": 4,
 "nbformat_minor": 5
}
