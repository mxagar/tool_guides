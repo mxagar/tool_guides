{
 "cells": [
  {
   "cell_type": "markdown",
   "id": "bcded1a6-2430-4707-a78c-c82f4c5ee6fc",
   "metadata": {},
   "source": [
    "<a href = \"https://www.pieriantraining.com\"><img src=\"../PT Centered Purple.png\"> </a>\n",
    "\n",
    "<em style=\"text-align:center\">Copyrighted by Pierian Training</em>"
   ]
  },
  {
   "cell_type": "markdown",
   "id": "728f1747-b8fc-4d31-96c2-047fc83c079d",
   "metadata": {},
   "source": [
    "# MathChain"
   ]
  },
  {
   "cell_type": "code",
   "execution_count": 3,
   "id": "64027de5",
   "metadata": {},
   "outputs": [],
   "source": [
    "import os\n",
    "from dotenv import load_dotenv\n",
    "load_dotenv()\n",
    "\n",
    "api_key = os.getenv(\"OPENAI_API_KEY\")"
   ]
  },
  {
   "cell_type": "code",
   "execution_count": 4,
   "id": "cd3d33fa-113b-41c1-870f-68d281fc2587",
   "metadata": {},
   "outputs": [],
   "source": [
    "from langchain_openai import ChatOpenAI\n",
    "from langchain.prompts import ChatPromptTemplate, HumanMessagePromptTemplate\n",
    "\n",
    "from langchain.schema import (\n",
    "    AIMessage,\n",
    "    HumanMessage,\n",
    "    SystemMessage\n",
    ")"
   ]
  },
  {
   "cell_type": "code",
   "execution_count": 5,
   "id": "781c65fc-b139-43e0-95d3-714ad4220205",
   "metadata": {},
   "outputs": [],
   "source": [
    "# The chat/LLM model; OPENAI_API_KEY needs to be defined in the environment\n",
    "model = ChatOpenAI()"
   ]
  },
  {
   "cell_type": "code",
   "execution_count": 6,
   "id": "7a766d75-1aca-42f4-8d8d-b7de5a140600",
   "metadata": {},
   "outputs": [
    {
     "data": {
      "text/plain": [
       "34271896307633"
      ]
     },
     "execution_count": 6,
     "metadata": {},
     "output_type": "execute_result"
    }
   ],
   "source": [
    "# In Python, eval() can easily be used to transform a code string\n",
    "# into code that is executed; so we can execute mathematical expressions\n",
    "eval('17**11') # 34271896307633"
   ]
  },
  {
   "cell_type": "code",
   "execution_count": 7,
   "id": "f3e75218-d45b-4329-a176-861734d03447",
   "metadata": {},
   "outputs": [
    {
     "data": {
      "text/plain": [
       "'17^11 = 141,167,095,653'"
      ]
     },
     "execution_count": 7,
     "metadata": {},
     "output_type": "execute_result"
    }
   ],
   "source": [
    "# We ask the plain question\n",
    "result = model.invoke([HumanMessage(content=\"What is 17 raised to the power of 11?\")])\n",
    "result.content # A hallucination is output"
   ]
  },
  {
   "cell_type": "code",
   "execution_count": 8,
   "id": "2831050d-0d17-4ba7-be5c-e269067c8fe1",
   "metadata": {},
   "outputs": [
    {
     "data": {
      "text/plain": [
       "'17 ** 11'"
      ]
     },
     "execution_count": 8,
     "metadata": {},
     "output_type": "execute_result"
    }
   ],
   "source": [
    "# We prompt the model to generate the Python formula\n",
    "# for the simple question\n",
    "result = model.invoke([HumanMessage(content=\"Give me the Python formula that represents: What is 17 raised to the power of 11? Only reply with the formula, nothing else!\")])\n",
    "result.content # Now, a formula is ouput: '17 ** 11'"
   ]
  },
  {
   "cell_type": "code",
   "execution_count": 9,
   "id": "43fa0e3a-7d2a-4f27-9a48-fc4fed306bb4",
   "metadata": {},
   "outputs": [
    {
     "data": {
      "text/plain": [
       "34271896307633"
      ]
     },
     "execution_count": 9,
     "metadata": {},
     "output_type": "execute_result"
    }
   ],
   "source": [
    "# The output formula, evaluated, yields the correct result\n",
    "eval(result.content)"
   ]
  },
  {
   "cell_type": "markdown",
   "id": "4cfd180e-3fba-4839-93d6-317d708e2039",
   "metadata": {},
   "source": [
    "### Easier Way!"
   ]
  },
  {
   "cell_type": "code",
   "execution_count": 10,
   "id": "9b942aac-db7e-4a76-8a19-a887c1b5dd35",
   "metadata": {},
   "outputs": [],
   "source": [
    "from langchain import LLMMathChain"
   ]
  },
  {
   "cell_type": "code",
   "execution_count": 11,
   "id": "cd2cffa5-ced1-4793-b1e7-0ed2047a06a0",
   "metadata": {},
   "outputs": [],
   "source": [
    "llm_math_model = LLMMathChain.from_llm(model)"
   ]
  },
  {
   "cell_type": "code",
   "execution_count": 12,
   "id": "c57fd11b-f12b-41ce-af4a-a9e54136447d",
   "metadata": {},
   "outputs": [
    {
     "data": {
      "text/plain": [
       "{'question': 'What is 17 raised to the power of 11?',\n",
       " 'answer': 'Answer: 34271896307633'}"
      ]
     },
     "execution_count": 12,
     "metadata": {},
     "output_type": "execute_result"
    }
   ],
   "source": [
    "llm_math_model.invoke(\"What is 17 raised to the power of 11?\") # 34271896307633"
   ]
  },
  {
   "cell_type": "code",
   "execution_count": null,
   "id": "3b96aacc",
   "metadata": {},
   "outputs": [],
   "source": []
  }
 ],
 "metadata": {
  "kernelspec": {
   "display_name": "Python 3 (ipykernel)",
   "language": "python",
   "name": "python3"
  },
  "language_info": {
   "codemirror_mode": {
    "name": "ipython",
    "version": 3
   },
   "file_extension": ".py",
   "mimetype": "text/x-python",
   "name": "python",
   "nbconvert_exporter": "python",
   "pygments_lexer": "ipython3",
   "version": "3.9.18"
  }
 },
 "nbformat": 4,
 "nbformat_minor": 5
}
