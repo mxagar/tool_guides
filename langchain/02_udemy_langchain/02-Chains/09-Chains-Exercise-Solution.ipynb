{
 "cells": [
  {
   "cell_type": "markdown",
   "id": "bcded1a6-2430-4707-a78c-c82f4c5ee6fc",
   "metadata": {},
   "source": [
    "<a href = \"https://www.pieriantraining.com\"><img src=\"../PT Centered Purple.png\"> </a>\n",
    "\n",
    "<em style=\"text-align:center\">Copyrighted by Pierian Training</em>"
   ]
  },
  {
   "cell_type": "markdown",
   "id": "728f1747-b8fc-4d31-96c2-047fc83c079d",
   "metadata": {},
   "source": [
    "#  Chains Exercise - Solution\n",
    "\n",
    "## TASK:\n",
    "Fill out the function below that takes in a string input Customer Support email that could be written in any language. The function will then detect the language, translate the email, and provide a summary.\n",
    "\n",
    "Fill out the function below using a Sequential Chain, the function should do the following:\n",
    "\n",
    "1. Detect the language the email is written in\n",
    "2. Translate the email from detected language to English\n",
    "3. Return a summary of the translated email\n",
    "\n",
    "Note: The Function should return a dictionary that contains all three of these outputs!"
   ]
  },
  {
   "cell_type": "markdown",
   "id": "1e10f522-2a0f-44c0-9e37-934639609bdf",
   "metadata": {},
   "source": [
    "## Reading in our example Email Text File:"
   ]
  },
  {
   "cell_type": "code",
   "execution_count": 1,
   "id": "f5cec8e4-c2cf-4adc-b589-322cd45d8dfa",
   "metadata": {},
   "outputs": [],
   "source": [
    "spanish_email = open('spanish_customer_email.txt', encoding=\"latin-1\").read()"
   ]
  },
  {
   "cell_type": "code",
   "execution_count": 2,
   "id": "d93c70a5-951e-4c40-a08d-6ad7a978e35b",
   "metadata": {},
   "outputs": [
    {
     "name": "stdout",
     "output_type": "stream",
     "text": [
      "Asunto: Reporte de Problemas Técnicos - Funcionalidad del Panel SAAS\n",
      "\n",
      "Estimado Equipo de Soporte al Cliente,\n",
      "\n",
      "Espero que este mensaje les encuentre bien. Les escribo para informarles sobre un problema técnico que he encontrado mientras utilizo su producto de panel SAAS. Como cliente leal, aprecio el valor que su producto aporta a mi negocio, pero actualmente me enfrento a un desafío que requiere su experiencia.\n",
      "\n",
      "Me gustaría describir detalladamente el problema que estoy experimentando:\n",
      "\n",
      "1. Problema Gráfico: Al iniciar sesión en el panel SAAS, he notado que los gráficos y las tablas en la página principal del panel no se renderizan correctamente. Los puntos de datos aparecen distorsionados y algunos elementos se superponen, lo que dificulta la interpretación precisa de la información.\n",
      "\n",
      "2. Fallo en la Función de Exportación: Además, no he podido exportar informes y datos desde el panel. Cada vez que intento exportar un informe en formato CSV o PDF, recibo un mensaje de error que indica que la exportación ha fallado. Esta funcionalidad es crucial para compartir información con mi equipo y partes interesadas externas, por lo que es imperativo que se resuelva rápidamente.\n",
      "\n",
      "3. Lentitud en la Carga: Durante la última semana, he notado una disminución significativa en la velocidad de carga del panel SAAS. Las páginas tardan un tiempo inusualmente largo en cargarse, lo que afecta mi productividad y genera frustración. Tengo una conexión a internet confiable, por lo que creo que el problema radica en el panel mismo.\n",
      "\n",
      "Ya he realizado los siguientes pasos para solucionar el problema:\n",
      "\n",
      "1. Limpieza de Cache: Limpié la memoria caché y las cookies de mi navegador para asegurarme de que los datos desactualizados no estén causando conflictos. Sin embargo, los problemas persisten incluso después de realizar esta acción.\n",
      "\n",
      "2. Varios Navegadores: Probé el panel SAAS en diferentes navegadores web (Chrome, Firefox y Safari) para determinar si el problema era específico del navegador. Desafortunadamente, los problemas gráficos, los fallos en la exportación y la lentitud en la carga persistieron en todos los navegadores.\n",
      "\n",
      "Les solicito amablemente su ayuda para resolver estos problemas, ya que están obstaculizando mi capacidad de aprovechar todo el potencial de su panel SAAS. Aquí están las acciones específicas que agradecería:\n",
      "\n",
      "1. Solución para Problemas Gráficos: Por favor, investiguen y corrijan los problemas gráficos presentes en la página principal del panel para garantizar una visualización precisa de los datos.\n",
      "\n",
      "2. Solución para la Función de Exportación: Identifiquen y solucionen el problema con la exportación de informes en formatos CSV y PDF, permitiéndome compartir datos con mi equipo y partes interesadas de manera fluida.\n",
      "\n",
      "3. Optimización del Rendimiento: Por favor, aborden la lentitud en la carga del panel SAAS para mejorar la experiencia general del usuario y aumentar la productividad.\n",
      "\n",
      "Entiendo que los problemas técnicos pueden surgir de vez en cuando y aprecio su pronta atención a este asunto. Si requieren información adicional o ayuda de mi parte, no duden en contactarme. Espero su pronta respuesta y una pronta resolución a estos desafíos.\n",
      "\n",
      "Gracias por su comprensión y apoyo.\n",
      "\n",
      "Atentamente,\n",
      "\n",
      "María Rodríguez\n",
      "ID de Cliente: 123456789\n",
      "Información de la Cuenta: Empresa Ejemplo S.A.\n"
     ]
    }
   ],
   "source": [
    "print(spanish_email)"
   ]
  },
  {
   "cell_type": "markdown",
   "id": "d4270b75-ce4e-4a76-b069-6cb94eb74318",
   "metadata": {},
   "source": [
    "## Task"
   ]
  },
  {
   "cell_type": "code",
   "execution_count": 28,
   "id": "c34a5627",
   "metadata": {},
   "outputs": [],
   "source": [
    "import os\n",
    "from dotenv import load_dotenv\n",
    "from langchain_openai import ChatOpenAI\n",
    "from langchain.prompts import ChatPromptTemplate\n",
    "from langchain_core.runnables.base import RunnableSequence\n",
    "\n",
    "# Load environment variables\n",
    "load_dotenv()\n",
    "\n",
    "# Load the OpenAI API key\n",
    "api_key = os.getenv(\"OPENAI_API_KEY\")"
   ]
  },
  {
   "cell_type": "code",
   "execution_count": 29,
   "id": "3f4db057-0681-45c5-9d4b-74fbb532f0af",
   "metadata": {},
   "outputs": [],
   "source": [
    "class EmailProcessor:\n",
    "    def __init__(self, api_key: str):\n",
    "        self.api_key = api_key\n",
    "        self.llm = ChatOpenAI(api_key=self.api_key)\n",
    "    \n",
    "    def detect_language_chain(self) -> RunnableSequence:\n",
    "        template = \"Return the language this email is written in:\\n{email}.\\nONLY return the language it was written in.\"\n",
    "        prompt = ChatPromptTemplate.from_template(template)\n",
    "        return prompt | self.llm\n",
    "    \n",
    "    def translate_chain(self) -> RunnableSequence:\n",
    "        template = \"Translate this email from {language} to English. Here is the email:\\n{email}\"\n",
    "        prompt = ChatPromptTemplate.from_template(template)\n",
    "        return prompt | self.llm\n",
    "    \n",
    "    def summarize_chain(self) -> RunnableSequence:\n",
    "        template = \"Create a short summary of this email:\\n{translated_email}\"\n",
    "        prompt = ChatPromptTemplate.from_template(template)\n",
    "        return prompt | self.llm\n",
    "    \n",
    "    def process_email(self, email: str) -> dict:\n",
    "        \"\"\"Translates an email written in a detected language to English and generates a summary.\n",
    "\n",
    "        Args:\n",
    "            email (str): The email to be processed and translated.\n",
    "\n",
    "        Returns:\n",
    "            dict: A dictionary containing the following keys:\n",
    "            - 'language': The language the email was written in.\n",
    "            - 'translated_email': The translated version of the email in English.\n",
    "            - 'summary': A short summary of the translated email.\n",
    "\n",
    "        Raises:\n",
    "            Exception: If any error occurs during the LLM chain execution.\n",
    "\n",
    "        Example:            \n",
    "            email_processor = EmailProcessor(api_key=api_key)\n",
    "            email = \"Hola, ¿cómo estás? Espero que todo vaya bien.\"\n",
    "            result = email_processor.process_email(email)\n",
    "            # Output:\n",
    "            # {\n",
    "            #     'language': 'Spanish',\n",
    "            #     'translated_email': 'Hello, how are you? I hope everything is going well.',\n",
    "            #     'summary': 'A friendly greeting and a wish for well-being.'\n",
    "            # }\n",
    "        \"\"\"\n",
    "\n",
    "        # Create the chains\n",
    "        detect_language_chain = self.detect_language_chain()\n",
    "        translate_chain = self.translate_chain()\n",
    "        summarize_chain = self.summarize_chain()\n",
    "        \n",
    "        # Detect the language\n",
    "        language_result = detect_language_chain.invoke({\"email\": email})\n",
    "        language = language_result.content\n",
    "        \n",
    "        # Translate the email\n",
    "        translated_email_result = translate_chain.invoke({\"language\": language, \"email\": email})\n",
    "        translated_email = translated_email_result.content\n",
    "        \n",
    "        # Summarize the translated email\n",
    "        summary_result = summarize_chain.invoke({\"translated_email\": translated_email})\n",
    "        summary = summary_result.content\n",
    "        \n",
    "        return {\n",
    "            'language': language,\n",
    "            'translated_email': translated_email,\n",
    "            'summary': summary\n",
    "        }"
   ]
  },
  {
   "cell_type": "code",
   "execution_count": 30,
   "id": "e94f9310",
   "metadata": {},
   "outputs": [
    {
     "name": "stdout",
     "output_type": "stream",
     "text": [
      "{'language': 'Spanish', 'translated_email': \"Subject: Technical Issues Report - SAAS Panel Functionality\\n\\nDear Customer Support Team,\\n\\nI hope this message finds you well. I am writing to inform you about a technical issue that I have encountered while using your SAAS panel product. As a loyal customer, I appreciate the value that your product brings to my business, but I am currently facing a challenge that requires your expertise.\\n\\nI would like to describe in detail the problem I am experiencing:\\n\\n1. Graphic Issue: When logging into the SAAS panel, I have noticed that the graphics and tables on the main panel page are not rendering correctly. Data points appear distorted and some elements overlap, making it difficult to accurately interpret the information.\\n\\n2. Export Function Failure: Furthermore, I have been unable to export reports and data from the panel. Every time I try to export a report in CSV or PDF format, I receive an error message indicating that the export has failed. This functionality is crucial for sharing information with my team and external stakeholders, so it is imperative that it is resolved quickly.\\n\\n3. Slow Loading: Over the past week, I have noticed a significant decrease in the loading speed of the SAAS panel. Pages take an unusually long time to load, affecting my productivity and causing frustration. I have a reliable internet connection, so I believe the issue lies within the panel itself.\\n\\nI have already taken the following steps to troubleshoot the problem:\\n\\n1. Cache Clearing: I cleared my browser's cache and cookies to ensure that outdated data is not causing conflicts. However, the issues persist even after taking this action.\\n\\n2. Multiple Browsers: I tried the SAAS panel on different web browsers (Chrome, Firefox, and Safari) to determine if the problem was browser-specific. Unfortunately, the graphic issues, export failures, and slow loading persisted on all browsers.\\n\\nI kindly request your assistance in resolving these issues, as they are hindering my ability to fully leverage the potential of your SAAS panel. Here are the specific actions that I would appreciate:\\n\\n1. Solution for Graphic Issues: Please investigate and correct the graphic problems on the main panel page to ensure accurate data visualization.\\n\\n2. Solution for Export Function: Identify and fix the issue with exporting reports in CSV and PDF formats, allowing me to seamlessly share data with my team and stakeholders.\\n\\n3. Performance Optimization: Please address the slow loading of the SAAS panel to improve the overall user experience and increase productivity.\\n\\nI understand that technical issues can arise from time to time and appreciate your prompt attention to this matter. If you require additional information or assistance from me, do not hesitate to contact me. I look forward to your prompt response and a speedy resolution to these challenges.\\n\\nThank you for your understanding and support.\\n\\nSincerely,\\n\\nMaría Rodríguez\\nClient ID: 123456789\\nAccount Information: Sample Company S.A.\", 'summary': 'The email outlines technical issues encountered while using the SAAS panel product, including graphic rendering problems, export function failures, and slow loading speeds. The customer has already attempted troubleshooting steps and requests assistance from the customer support team to resolve the issues promptly. The customer provides specific actions they would appreciate, such as fixing graphic issues, addressing export function problems, and optimizing performance.'}\n"
     ]
    }
   ],
   "source": [
    "email_processor = EmailProcessor(api_key=api_key)\n",
    "spanish_email = open('spanish_customer_email.txt', encoding=\"latin-1\").read()\n",
    "result = email_processor.process_email(spanish_email)\n",
    "print(result)"
   ]
  },
  {
   "cell_type": "code",
   "execution_count": 31,
   "id": "1440c352",
   "metadata": {},
   "outputs": [
    {
     "data": {
      "text/plain": [
       "'The email outlines technical issues encountered while using the SAAS panel product, including graphic rendering problems, export function failures, and slow loading speeds. The customer has already attempted troubleshooting steps and requests assistance from the customer support team to resolve the issues promptly. The customer provides specific actions they would appreciate, such as fixing graphic issues, addressing export function problems, and optimizing performance.'"
      ]
     },
     "execution_count": 31,
     "metadata": {},
     "output_type": "execute_result"
    }
   ],
   "source": [
    "result['summary']"
   ]
  },
  {
   "cell_type": "code",
   "execution_count": null,
   "id": "2023c347",
   "metadata": {},
   "outputs": [],
   "source": []
  }
 ],
 "metadata": {
  "kernelspec": {
   "display_name": "Python 3 (ipykernel)",
   "language": "python",
   "name": "python3"
  },
  "language_info": {
   "codemirror_mode": {
    "name": "ipython",
    "version": 3
   },
   "file_extension": ".py",
   "mimetype": "text/x-python",
   "name": "python",
   "nbconvert_exporter": "python",
   "pygments_lexer": "ipython3",
   "version": "3.9.18"
  }
 },
 "nbformat": 4,
 "nbformat_minor": 5
}
