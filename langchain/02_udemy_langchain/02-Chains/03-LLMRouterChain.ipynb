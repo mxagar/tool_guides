{
 "cells": [
  {
   "cell_type": "markdown",
   "id": "bcded1a6-2430-4707-a78c-c82f4c5ee6fc",
   "metadata": {},
   "source": [
    "<a href = \"https://www.pieriantraining.com\"><img src=\"../PT Centered Purple.png\"> </a>\n",
    "\n",
    "<em style=\"text-align:center\">Copyrighted by Pierian Training</em>"
   ]
  },
  {
   "cell_type": "markdown",
   "id": "728f1747-b8fc-4d31-96c2-047fc83c079d",
   "metadata": {},
   "source": [
    "#  LLMRouterChain"
   ]
  },
  {
   "cell_type": "code",
   "execution_count": 6,
   "id": "f5c0d98b",
   "metadata": {},
   "outputs": [],
   "source": [
    "import os\n",
    "from dotenv import load_dotenv\n",
    "load_dotenv()\n",
    "\n",
    "openai_token = os.getenv(\"OPENAI_API_KEY\")"
   ]
  },
  {
   "cell_type": "markdown",
   "id": "34c70034-3204-41f7-af62-f25c9cc5a2de",
   "metadata": {},
   "source": [
    "### Route Templates"
   ]
  },
  {
   "cell_type": "code",
   "execution_count": 7,
   "id": "ddea86e7-9240-4369-a938-38aaff2c6d5a",
   "metadata": {},
   "outputs": [],
   "source": [
    "beginner_template = '''You are a physics teacher who is really\n",
    "focused on beginners and explaining complex topics in simple to understand terms. \n",
    "You assume no prior knowledge. Here is the question\\n{input}'''"
   ]
  },
  {
   "cell_type": "code",
   "execution_count": 8,
   "id": "bb91294c-14cc-48f8-9fd3-12f59f178fe9",
   "metadata": {},
   "outputs": [],
   "source": [
    "expert_template = '''You are a world expert physics professor who explains physics topics\n",
    "to advanced audience members. You can assume anyone you answer has a \n",
    "PhD level understanding of Physics. Here is the question\\n{input}'''"
   ]
  },
  {
   "cell_type": "code",
   "execution_count": 9,
   "id": "92180e62-1a77-4f85-bad4-44225a08d7db",
   "metadata": {},
   "outputs": [],
   "source": [
    "# We can create templates for additional chains\n",
    "empty_template = 'empty'"
   ]
  },
  {
   "cell_type": "markdown",
   "id": "00f2c29f-dd15-4821-ac3a-2f5f6321b172",
   "metadata": {},
   "source": [
    "### Route Prompts"
   ]
  },
  {
   "cell_type": "code",
   "execution_count": 10,
   "id": "1ad19090-69a5-481d-87cf-2d4c8119c3ca",
   "metadata": {},
   "outputs": [],
   "source": [
    "# We need to create a list of dictionaries that contain the prompt name, description, and template\n",
    "# We can add more prompts/chains by adding more dictionaries to the list\n",
    "prompt_infos = [\n",
    "    #{'name':'empty','description':'Replies to empty questions','prompt_template':empty_template},\n",
    "    {'name':'advanced physics','description': 'Answers advanced physics questions',\n",
    "     'prompt_template':expert_template},\n",
    "    {'name':'beginner physics','description': 'Answers basic beginner physics questions',\n",
    "     'prompt_template':beginner_template},\n",
    "    \n",
    "]"
   ]
  },
  {
   "cell_type": "markdown",
   "id": "fd4ba041-a4fe-425d-a6e7-0d357dae6ef6",
   "metadata": {},
   "source": [
    "### Routing Chain Call"
   ]
  },
  {
   "cell_type": "code",
   "execution_count": 11,
   "id": "d1a82b26-438a-4882-bcdd-aa7548f4f961",
   "metadata": {},
   "outputs": [],
   "source": [
    "from langchain_openai import ChatOpenAI\n",
    "from langchain.chains.router import MultiPromptChain\n",
    "llm = ChatOpenAI()\n"
   ]
  },
  {
   "cell_type": "code",
   "execution_count": 12,
   "id": "d4a6f916-1701-4332-8dda-09ba6b2a97f7",
   "metadata": {},
   "outputs": [],
   "source": [
    "# Here we create a MultiPromptChain from the prompt_infos list, \n",
    "# which is the router for the chains.\n",
    "# Internally an initial default prompt is used, \n",
    "# which asks to decide between our prompt chains,\n",
    "# and then, the correct promt+llm chain is run.\n",
    "chain = MultiPromptChain.from_prompts(llm, prompt_infos, verbose=True)"
   ]
  },
  {
   "cell_type": "code",
   "execution_count": 13,
   "id": "1a77635b-b475-4bdf-bb35-d0ca5983911d",
   "metadata": {},
   "outputs": [
    {
     "name": "stdout",
     "output_type": "stream",
     "text": [
      "\n",
      "\n",
      "\u001b[1m> Entering new MultiPromptChain chain...\u001b[0m\n",
      "beginner physics: {'input': 'How do magnets work?'}\n",
      "\u001b[1m> Finished chain.\u001b[0m\n"
     ]
    },
    {
     "data": {
      "text/plain": [
       "{'input': 'How do magnets work?',\n",
       " 'text': 'Magnets work by creating a magnetic field around them. This magnetic field is invisible, but it exerts a force on other objects made of certain materials, like iron or steel. \\n\\nInside a magnet, there are tiny particles called electrons that move around in a specific way, creating the magnetic field. When two magnets are brought close together, their magnetic fields interact with each other. Depending on how the magnets are oriented, they can either attract each other (pull together) or repel each other (push apart). \\n\\nThis attraction or repulsion is due to the alignment of the electrons in the two magnets. When the electrons in the two magnets line up in a certain way, they create a stronger magnetic force between the magnets. When the electrons are aligned in opposite directions, they create a weaker force or even repel each other. \\n\\nSo in simple terms, magnets work by creating a magnetic field that interacts with other magnetic materials, either attracting or repelling them based on the alignment of their electrons.'}"
      ]
     },
     "execution_count": 13,
     "metadata": {},
     "output_type": "execute_result"
    }
   ],
   "source": [
    "chain.invoke(\"How do magnets work?\")"
   ]
  },
  {
   "cell_type": "code",
   "execution_count": 14,
   "id": "1c7ed272-808e-4974-ad21-6af0ba31fb98",
   "metadata": {},
   "outputs": [
    {
     "name": "stdout",
     "output_type": "stream",
     "text": [
      "\n",
      "\n",
      "\u001b[1m> Entering new MultiPromptChain chain...\u001b[0m\n",
      "advanced physics: {'input': 'How do Feynman Diagrams work in the context of particle interactions?'}\n",
      "\u001b[1m> Finished chain.\u001b[0m\n"
     ]
    },
    {
     "data": {
      "text/plain": [
       "{'input': 'How do Feynman Diagrams work in the context of particle interactions?',\n",
       " 'text': 'Feynman diagrams are a graphical representation of the mathematical expressions that describe particle interactions in quantum field theory. In these diagrams, each point represents a particle, and each line connecting the points represents the exchange of a virtual particle between them.\\n\\nThe rules for constructing Feynman diagrams are based on the interaction terms in the Lagrangian of the theory. The vertices in the diagram correspond to the interaction terms in the Lagrangian, and the lines represent the propagators of the particles involved in the interaction. The direction of the lines represents the flow of momentum and energy.\\n\\nBy calculating the Feynman diagrams for a given process, one can determine the probability amplitude for that process to occur. The probability amplitude is then squared to obtain the probability of the interaction taking place. Feynman diagrams allow us to visualize and calculate complex particle interactions in a systematic and intuitive way.\\n\\nOverall, Feynman diagrams provide a powerful tool for understanding and predicting the behavior of particles in quantum field theory, and they have been instrumental in the development of the Standard Model of particle physics.'}"
      ]
     },
     "execution_count": 14,
     "metadata": {},
     "output_type": "execute_result"
    }
   ],
   "source": [
    "chain.invoke(\"How do Feynman Diagrams work?\")"
   ]
  },
  {
   "cell_type": "code",
   "execution_count": null,
   "id": "c87d611a",
   "metadata": {},
   "outputs": [],
   "source": []
  }
 ],
 "metadata": {
  "kernelspec": {
   "display_name": "Python 3 (ipykernel)",
   "language": "python",
   "name": "python3"
  },
  "language_info": {
   "codemirror_mode": {
    "name": "ipython",
    "version": 3
   },
   "file_extension": ".py",
   "mimetype": "text/x-python",
   "name": "python",
   "nbconvert_exporter": "python",
   "pygments_lexer": "ipython3",
   "version": "3.9.18"
  }
 },
 "nbformat": 4,
 "nbformat_minor": 5
}
