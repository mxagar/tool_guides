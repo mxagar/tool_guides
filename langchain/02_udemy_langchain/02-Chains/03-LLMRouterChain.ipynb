{
 "cells": [
  {
   "cell_type": "markdown",
   "id": "bcded1a6-2430-4707-a78c-c82f4c5ee6fc",
   "metadata": {},
   "source": [
    "<a href = \"https://www.pieriantraining.com\"><img src=\"../PT Centered Purple.png\"> </a>\n",
    "\n",
    "<em style=\"text-align:center\">Copyrighted by Pierian Training</em>"
   ]
  },
  {
   "cell_type": "markdown",
   "id": "728f1747-b8fc-4d31-96c2-047fc83c079d",
   "metadata": {},
   "source": [
    "#  LLMRouterChain"
   ]
  },
  {
   "cell_type": "markdown",
   "id": "34c70034-3204-41f7-af62-f25c9cc5a2de",
   "metadata": {},
   "source": [
    "### Route Templates"
   ]
  },
  {
   "cell_type": "code",
   "execution_count": 1,
   "id": "ddea86e7-9240-4369-a938-38aaff2c6d5a",
   "metadata": {},
   "outputs": [],
   "source": [
    "beginner_template = '''You are a physics teacher who is really\n",
    "focused on beginners and explaining complex topics in simple to understand terms. \n",
    "You assume no prior knowledge. Here is the question\\n{input}'''"
   ]
  },
  {
   "cell_type": "code",
   "execution_count": 2,
   "id": "bb91294c-14cc-48f8-9fd3-12f59f178fe9",
   "metadata": {},
   "outputs": [],
   "source": [
    "expert_template = '''You are a world expert physics professor who explains physics topics\n",
    "to advanced audience members. You can assume anyone you answer has a \n",
    "PhD level understanding of Physics. Here is the question\\n{input}'''"
   ]
  },
  {
   "cell_type": "code",
   "execution_count": 3,
   "id": "92180e62-1a77-4f85-bad4-44225a08d7db",
   "metadata": {},
   "outputs": [],
   "source": [
    "# ADD YOUR OWN TEMPLATES !\n",
    "empty_template = 'empty'"
   ]
  },
  {
   "cell_type": "markdown",
   "id": "00f2c29f-dd15-4821-ac3a-2f5f6321b172",
   "metadata": {},
   "source": [
    "### Route Prompts"
   ]
  },
  {
   "cell_type": "code",
   "execution_count": 4,
   "id": "1ad19090-69a5-481d-87cf-2d4c8119c3ca",
   "metadata": {},
   "outputs": [],
   "source": [
    "prompt_infos = [\n",
    "    {'name':'empty','description':'Replies to empty questions','prompt_template':empty_template},\n",
    "    {'name':'advanced physics','description': 'Answers advanced physics questions',\n",
    "     'prompt_template':expert_template},\n",
    "    {'name':'beginner physics','description': 'Answers basic beginner physics questions',\n",
    "     'prompt_template':beginner_template},\n",
    "    \n",
    "]"
   ]
  },
  {
   "cell_type": "markdown",
   "id": "fd4ba041-a4fe-425d-a6e7-0d357dae6ef6",
   "metadata": {},
   "source": [
    "### Routing Chain Call"
   ]
  },
  {
   "cell_type": "code",
   "execution_count": 7,
   "id": "d1a82b26-438a-4882-bcdd-aa7548f4f961",
   "metadata": {},
   "outputs": [],
   "source": [
    "from langchain_openai import ChatOpenAI\n",
    "from langchain.chains.router import MultiPromptChain\n",
    "llm = ChatOpenAI()\n"
   ]
  },
  {
   "cell_type": "code",
   "execution_count": 8,
   "id": "d4a6f916-1701-4332-8dda-09ba6b2a97f7",
   "metadata": {},
   "outputs": [],
   "source": [
    "chain = MultiPromptChain.from_prompts(llm, prompt_infos, verbose=True)"
   ]
  },
  {
   "cell_type": "code",
   "execution_count": 9,
   "id": "1a77635b-b475-4bdf-bb35-d0ca5983911d",
   "metadata": {},
   "outputs": [
    {
     "name": "stdout",
     "output_type": "stream",
     "text": [
      "\n",
      "\n",
      "\u001b[1m> Entering new MultiPromptChain chain...\u001b[0m\n",
      "beginner physics: {'input': 'How do magnets work?'}\n",
      "\u001b[1m> Finished chain.\u001b[0m\n"
     ]
    },
    {
     "data": {
      "text/plain": [
       "{'input': 'How do magnets work?',\n",
       " 'text': 'Magnets work by creating a magnetic field around them. This magnetic field is produced by the alignment of the atoms inside the magnet. \\n\\nInside a magnet, the atoms are arranged in such a way that their tiny magnetic fields all point in the same direction. This alignment creates a magnetic force that extends outwards from the magnet, creating a magnetic field.\\n\\nWhen you bring another object near a magnet, the magnetic field of the magnet interacts with the magnetic field of the object. If the object is also magnetic, its atoms will align with the magnetic field of the magnet, causing the two objects to be attracted to each other. \\n\\nOn the other hand, if the object is not magnetic, its atoms will not align with the magnetic field of the magnet, and the two objects will not be attracted to each other. \\n\\nSo in simple terms, magnets work by creating a magnetic field that can attract other magnetic objects by aligning their atoms.'}"
      ]
     },
     "execution_count": 9,
     "metadata": {},
     "output_type": "execute_result"
    }
   ],
   "source": [
    "chain.invoke(\"How do magnets work?\")"
   ]
  },
  {
   "cell_type": "code",
   "execution_count": 10,
   "id": "1c7ed272-808e-4974-ad21-6af0ba31fb98",
   "metadata": {},
   "outputs": [
    {
     "name": "stdout",
     "output_type": "stream",
     "text": [
      "\n",
      "\n",
      "\u001b[1m> Entering new MultiPromptChain chain...\u001b[0m\n",
      "advanced physics: {'input': 'How do Feynman Diagrams work?'}\n",
      "\u001b[1m> Finished chain.\u001b[0m\n"
     ]
    },
    {
     "data": {
      "text/plain": [
       "{'input': 'How do Feynman Diagrams work?',\n",
       " 'text': 'Feynman diagrams are a graphical representation of the mathematical expressions that describe interactions between particles in quantum field theory. They were developed by physicist Richard Feynman in the 1940s as a way to visualize and calculate the probability amplitudes for different particle interactions.\\n\\nIn a Feynman diagram, particles are represented by lines, with arrows indicating the direction of particle flow. Interactions between particles are represented by vertices, where lines come together and split apart. The lines can also be wavy or dotted to represent different types of particles, such as photons or virtual particles.\\n\\nThe calculation of the probability amplitude for a specific particle interaction involves assigning mathematical factors to each vertex and line in the diagram, based on the properties of the particles involved. These factors are combined using the rules of quantum field theory to give the overall probability amplitude for the interaction.\\n\\nFeynman diagrams are a powerful tool for calculating and understanding particle interactions in quantum field theory, and have been instrumental in the development of the Standard Model of particle physics. They provide a clear and intuitive way to visualize complex particle interactions and have revolutionized the way physicists approach calculations in quantum field theory.'}"
      ]
     },
     "execution_count": 10,
     "metadata": {},
     "output_type": "execute_result"
    }
   ],
   "source": [
    "chain.invoke(\"How do Feynman Diagrams work?\")"
   ]
  }
 ],
 "metadata": {
  "kernelspec": {
   "display_name": "Python 3 (ipykernel)",
   "language": "python",
   "name": "python3"
  },
  "language_info": {
   "codemirror_mode": {
    "name": "ipython",
    "version": 3
   },
   "file_extension": ".py",
   "mimetype": "text/x-python",
   "name": "python",
   "nbconvert_exporter": "python",
   "pygments_lexer": "ipython3",
   "version": "3.11.0"
  }
 },
 "nbformat": 4,
 "nbformat_minor": 5
}
