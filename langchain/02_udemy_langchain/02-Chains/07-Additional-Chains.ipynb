{
 "cells": [
  {
   "cell_type": "markdown",
   "id": "bcded1a6-2430-4707-a78c-c82f4c5ee6fc",
   "metadata": {},
   "source": [
    "<a href = \"https://www.pieriantraining.com\"><img src=\"../PT Centered Purple.png\"> </a>\n",
    "\n",
    "<em style=\"text-align:center\">Copyrighted by Pierian Training</em>"
   ]
  },
  {
   "cell_type": "markdown",
   "id": "728f1747-b8fc-4d31-96c2-047fc83c079d",
   "metadata": {},
   "source": [
    "# Additional Chains\n",
    "There are many specialized additional chains you can exlore in the documentation! Let's look at a more commonly used on, whic allows us to directly perform Document QA with just a few simple calls."
   ]
  },
  {
   "cell_type": "markdown",
   "id": "dea207e9-8342-4e29-b2c6-225af73b4459",
   "metadata": {},
   "source": [
    "### Connect to Document Vector Store"
   ]
  },
  {
   "cell_type": "code",
   "execution_count": 5,
   "id": "dc6afae2",
   "metadata": {},
   "outputs": [],
   "source": [
    "import os\n",
    "from dotenv import load_dotenv\n",
    "load_dotenv()\n",
    "\n",
    "api_key = os.getenv(\"OPENAI_API_KEY\")"
   ]
  },
  {
   "cell_type": "code",
   "execution_count": 6,
   "id": "33745370-8834-4ef5-ae38-177f19cb903e",
   "metadata": {},
   "outputs": [],
   "source": [
    "from langchain_openai import OpenAIEmbeddings\n",
    "#from langchain.vectorstores import Chroma\n",
    "from langchain_chroma import Chroma"
   ]
  },
  {
   "cell_type": "code",
   "execution_count": 7,
   "id": "f708fa15-94a1-4afb-a3b1-2d9b8320572f",
   "metadata": {},
   "outputs": [],
   "source": [
    "embedding_function = OpenAIEmbeddings()"
   ]
  },
  {
   "cell_type": "code",
   "execution_count": 8,
   "id": "966cb686-e8c2-45bc-9717-b768a508c978",
   "metadata": {},
   "outputs": [],
   "source": [
    "db_connection = Chroma(\n",
    "    persist_directory='../01-Data-Connections/US_Constitution/',\n",
    "    embedding_function=embedding_function\n",
    ")"
   ]
  },
  {
   "cell_type": "markdown",
   "id": "207e080a-3517-4310-8792-6f9cdc2e854d",
   "metadata": {},
   "source": [
    "### Load QA Models"
   ]
  },
  {
   "cell_type": "code",
   "execution_count": 12,
   "id": "299fc8e0-adb9-4499-b3d6-ed9aec61971d",
   "metadata": {},
   "outputs": [],
   "source": [
    "from langchain.chains.question_answering import load_qa_chain\n",
    "# The QA chain with sources is like the QA chain but\n",
    "# it returns some metadata related to the source documents\n",
    "# where the answer was found.\n",
    "from langchain.chains.qa_with_sources import load_qa_with_sources_chain"
   ]
  },
  {
   "cell_type": "code",
   "execution_count": 10,
   "id": "f9fb525b-25fc-460e-82fd-9f779422b1d9",
   "metadata": {},
   "outputs": [],
   "source": [
    "from langchain_openai import ChatOpenAI"
   ]
  },
  {
   "cell_type": "code",
   "execution_count": 11,
   "id": "7d6d137e-bb92-4479-b5d6-44ea69daad5f",
   "metadata": {},
   "outputs": [],
   "source": [
    "llm = ChatOpenAI(temperature=0)"
   ]
  },
  {
   "cell_type": "code",
   "execution_count": 13,
   "id": "fb332aec-2924-40df-86c2-473a1cb53b96",
   "metadata": {},
   "outputs": [],
   "source": [
    "# chain_type: stuff = we will enter the context in to a prompt; that the usual type\n",
    "chain = load_qa_chain(llm,chain_type='stuff')"
   ]
  },
  {
   "cell_type": "code",
   "execution_count": 14,
   "id": "aee28e63-236b-4aa9-8f59-1198fdae83de",
   "metadata": {},
   "outputs": [],
   "source": [
    "question = \"What is the 15th amendment?\""
   ]
  },
  {
   "cell_type": "code",
   "execution_count": 16,
   "id": "2015fe12-1fa8-4e94-8410-edf5818bda82",
   "metadata": {},
   "outputs": [],
   "source": [
    "# We first need to perform the similarity search and get the documents\n",
    "docs = db_connection.similarity_search(question)"
   ]
  },
  {
   "cell_type": "code",
   "execution_count": 17,
   "id": "00230bfe",
   "metadata": {},
   "outputs": [
    {
     "data": {
      "text/plain": [
       "[Document(metadata={'source': 'some_data/US_Constitution.txt'}, page_content='Section 3\\nNo person shall be a Senator or Representative in Congress, or elector of President and Vice-President, or hold any office, civil or military, under the United States, or under any State, who, having previously taken an oath, as a member of Congress, or as an officer of the United States, or as a member of any State legislature, or as an executive or judicial officer of any State, to support the Constitution of the United States, shall have engaged in insurrection or rebellion against the same, or given aid or comfort to the enemies thereof. But Congress may by a vote of two-thirds of each House, remove such disability.\\n\\nSection 4\\nThe validity of the public debt of the United States, authorized by law, including debts incurred for payment of pensions and bounties for services in suppressing insurrection or rebellion, shall not be questioned. But neither the United States nor any State shall assume or pay any debt or obligation incurred in aid of insurrection or rebellion against the United States, or any claim for the loss or emancipation of any slave; but all such debts, obligations and claims shall be held illegal and void.\\n\\nSection 5\\nThe Congress shall have the power to enforce, by appropriate legislation, the provisions of this article.\\n\\n15th Amendment\\nSection 1\\nThe right of citizens of the United States to vote shall not be denied or abridged by the United States or by any State on account of race, color, or previous condition of servitude.\\n\\nSection 2\\nThe Congress shall have the power to enforce this article by appropriate legislation.\\n\\n16th Amendment\\nThe Congress shall have power to lay and collect taxes on incomes, from whatever source derived, without apportionment among the several States, and without regard to any census or enumeration.\\n\\n17th Amendment\\nThe Senate of the United States shall be composed of two Senators from each State, elected by the people thereof, for six years; and each Senator shall have one vote. The electors in each State shall have the qualifications requisite for electors of the most numerous branch of the State legislatures.\\n\\nWhen vacancies happen in the representation of any State in the Senate, the executive authority of such State shall issue writs of election to fill such vacancies: Provided, That the legislature of any State may empower the executive thereof to make temporary appointments until the people fill the vacancies by election as the legislature may direct.'),\n",
       " Document(metadata={'source': 'some_data/US_Constitution.txt'}, page_content='Section 3\\nNo person shall be a Senator or Representative in Congress, or elector of President and Vice-President, or hold any office, civil or military, under the United States, or under any State, who, having previously taken an oath, as a member of Congress, or as an officer of the United States, or as a member of any State legislature, or as an executive or judicial officer of any State, to support the Constitution of the United States, shall have engaged in insurrection or rebellion against the same, or given aid or comfort to the enemies thereof. But Congress may by a vote of two-thirds of each House, remove such disability.\\n\\nSection 4\\nThe validity of the public debt of the United States, authorized by law, including debts incurred for payment of pensions and bounties for services in suppressing insurrection or rebellion, shall not be questioned. But neither the United States nor any State shall assume or pay any debt or obligation incurred in aid of insurrection or rebellion against the United States, or any claim for the loss or emancipation of any slave; but all such debts, obligations and claims shall be held illegal and void.\\n\\nSection 5\\nThe Congress shall have the power to enforce, by appropriate legislation, the provisions of this article.\\n\\n15th Amendment\\nSection 1\\nThe right of citizens of the United States to vote shall not be denied or abridged by the United States or by any State on account of race, color, or previous condition of servitude.\\n\\nSection 2\\nThe Congress shall have the power to enforce this article by appropriate legislation.\\n\\n16th Amendment\\nThe Congress shall have power to lay and collect taxes on incomes, from whatever source derived, without apportionment among the several States, and without regard to any census or enumeration.\\n\\n17th Amendment\\nThe Senate of the United States shall be composed of two Senators from each State, elected by the people thereof, for six years; and each Senator shall have one vote. The electors in each State shall have the qualifications requisite for electors of the most numerous branch of the State legislatures.\\n\\nWhen vacancies happen in the representation of any State in the Senate, the executive authority of such State shall issue writs of election to fill such vacancies: Provided, That the legislature of any State may empower the executive thereof to make temporary appointments until the people fill the vacancies by election as the legislature may direct.'),\n",
       " Document(metadata={'source': 'some_data/US_Constitution.txt'}, page_content='Section 3\\nNo person shall be a Senator or Representative in Congress, or elector of President and Vice-President, or hold any office, civil or military, under the United States, or under any State, who, having previously taken an oath, as a member of Congress, or as an officer of the United States, or as a member of any State legislature, or as an executive or judicial officer of any State, to support the Constitution of the United States, shall have engaged in insurrection or rebellion against the same, or given aid or comfort to the enemies thereof. But Congress may by a vote of two-thirds of each House, remove such disability.\\n\\nSection 4\\nThe validity of the public debt of the United States, authorized by law, including debts incurred for payment of pensions and bounties for services in suppressing insurrection or rebellion, shall not be questioned. But neither the United States nor any State shall assume or pay any debt or obligation incurred in aid of insurrection or rebellion against the United States, or any claim for the loss or emancipation of any slave; but all such debts, obligations and claims shall be held illegal and void.\\n\\nSection 5\\nThe Congress shall have the power to enforce, by appropriate legislation, the provisions of this article.\\n\\n15th Amendment\\nSection 1\\nThe right of citizens of the United States to vote shall not be denied or abridged by the United States or by any State on account of race, color, or previous condition of servitude.\\n\\nSection 2\\nThe Congress shall have the power to enforce this article by appropriate legislation.\\n\\n16th Amendment\\nThe Congress shall have power to lay and collect taxes on incomes, from whatever source derived, without apportionment among the several States, and without regard to any census or enumeration.\\n\\n17th Amendment\\nThe Senate of the United States shall be composed of two Senators from each State, elected by the people thereof, for six years; and each Senator shall have one vote. The electors in each State shall have the qualifications requisite for electors of the most numerous branch of the State legislatures.\\n\\nWhen vacancies happen in the representation of any State in the Senate, the executive authority of such State shall issue writs of election to fill such vacancies: Provided, That the legislature of any State may empower the executive thereof to make temporary appointments until the people fill the vacancies by election as the legislature may direct.'),\n",
       " Document(metadata={'source': 'some_data/US_Constitution.txt'}, page_content='Section 3\\nNo person shall be a Senator or Representative in Congress, or elector of President and Vice-President, or hold any office, civil or military, under the United States, or under any State, who, having previously taken an oath, as a member of Congress, or as an officer of the United States, or as a member of any State legislature, or as an executive or judicial officer of any State, to support the Constitution of the United States, shall have engaged in insurrection or rebellion against the same, or given aid or comfort to the enemies thereof. But Congress may by a vote of two-thirds of each House, remove such disability.\\n\\nSection 4\\nThe validity of the public debt of the United States, authorized by law, including debts incurred for payment of pensions and bounties for services in suppressing insurrection or rebellion, shall not be questioned. But neither the United States nor any State shall assume or pay any debt or obligation incurred in aid of insurrection or rebellion against the United States, or any claim for the loss or emancipation of any slave; but all such debts, obligations and claims shall be held illegal and void.\\n\\nSection 5\\nThe Congress shall have the power to enforce, by appropriate legislation, the provisions of this article.\\n\\n15th Amendment\\nSection 1\\nThe right of citizens of the United States to vote shall not be denied or abridged by the United States or by any State on account of race, color, or previous condition of servitude.\\n\\nSection 2\\nThe Congress shall have the power to enforce this article by appropriate legislation.\\n\\n16th Amendment\\nThe Congress shall have power to lay and collect taxes on incomes, from whatever source derived, without apportionment among the several States, and without regard to any census or enumeration.\\n\\n17th Amendment\\nThe Senate of the United States shall be composed of two Senators from each State, elected by the people thereof, for six years; and each Senator shall have one vote. The electors in each State shall have the qualifications requisite for electors of the most numerous branch of the State legislatures.\\n\\nWhen vacancies happen in the representation of any State in the Senate, the executive authority of such State shall issue writs of election to fill such vacancies: Provided, That the legislature of any State may empower the executive thereof to make temporary appointments until the people fill the vacancies by election as the legislature may direct.')]"
      ]
     },
     "execution_count": 17,
     "metadata": {},
     "output_type": "execute_result"
    }
   ],
   "source": [
    "docs # [Document(), ...]"
   ]
  },
  {
   "cell_type": "code",
   "execution_count": 18,
   "id": "4ed349b5-6a27-41ed-a361-c47d75450a50",
   "metadata": {
    "scrolled": true
   },
   "outputs": [
    {
     "data": {
      "text/plain": [
       "'The 15th Amendment to the United States Constitution prohibits the denial or abridgment of the right to vote based on race, color, or previous condition of servitude.'"
      ]
     },
     "execution_count": 18,
     "metadata": {},
     "output_type": "execute_result"
    }
   ],
   "source": [
    "# We insert the documents found in the similarity search and the question into the chain\n",
    "chain.invoke({\"input_documents\":docs,\"question\":question})[\"output_text\"] # The 15th Amendment to the United States Constitution prohibits the denial or abridgment..."
   ]
  },
  {
   "cell_type": "markdown",
   "id": "1d0393ad-8916-4ad4-a589-7f60a7f07ec9",
   "metadata": {},
   "source": [
    "### Get Original Source Context Information"
   ]
  },
  {
   "cell_type": "code",
   "execution_count": 19,
   "id": "358abd96-588c-440c-b10c-f8f52cee6190",
   "metadata": {},
   "outputs": [],
   "source": [
    "# The QA chain with sources is like the QA chain but\n",
    "# it returns some metadata related to the source documents\n",
    "# where the answer was found.\n",
    "chain = load_qa_with_sources_chain(llm,chain_type='stuff')"
   ]
  },
  {
   "cell_type": "code",
   "execution_count": 20,
   "id": "c8da0a9c-a3b3-4026-9f8d-c7dac08bed1d",
   "metadata": {},
   "outputs": [],
   "source": [
    "query = \"What is the 14th amendment?\""
   ]
  },
  {
   "cell_type": "code",
   "execution_count": 21,
   "id": "34814f93-472f-43f8-a828-2f9003aaee43",
   "metadata": {},
   "outputs": [],
   "source": [
    "docs = db_connection.similarity_search(query)"
   ]
  },
  {
   "cell_type": "code",
   "execution_count": 22,
   "id": "2d89e0ac-4ef5-4ed6-a386-452f04f6ec74",
   "metadata": {},
   "outputs": [
    {
     "data": {
      "text/plain": [
       "'The 14th Amendment states that all persons born or naturalized in the United States are citizens of the United States and that no State shall make or enforce any law which shall abridge the privileges or immunities of citizens of the United States, nor deprive any person of life, liberty, or property without due process of law, nor deny to any person within its jurisdiction the equal protection of the laws.\\nSOURCES: some_data/US_Constitution.txt'"
      ]
     },
     "execution_count": 22,
     "metadata": {},
     "output_type": "execute_result"
    }
   ],
   "source": [
    "chain.invoke({\"input_documents\":docs,\"question\":query})[\"output_text\"] # The 14th Amendment states that all persons..."
   ]
  },
  {
   "cell_type": "code",
   "execution_count": null,
   "id": "b4ffdfb6",
   "metadata": {},
   "outputs": [],
   "source": []
  }
 ],
 "metadata": {
  "kernelspec": {
   "display_name": "Python 3 (ipykernel)",
   "language": "python",
   "name": "python3"
  },
  "language_info": {
   "codemirror_mode": {
    "name": "ipython",
    "version": 3
   },
   "file_extension": ".py",
   "mimetype": "text/x-python",
   "name": "python",
   "nbconvert_exporter": "python",
   "pygments_lexer": "ipython3",
   "version": "3.9.18"
  }
 },
 "nbformat": 4,
 "nbformat_minor": 5
}
