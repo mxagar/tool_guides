{
 "cells": [
  {
   "cell_type": "markdown",
   "metadata": {},
   "source": [
    "# Conversation Agents"
   ]
  },
  {
   "cell_type": "markdown",
   "metadata": {},
   "source": [
    "Conversation agents make possible to attach a memory object to the agent so that we can refer to previous questions and answers, i.e., the history is used in the context and w can refer to it."
   ]
  },
  {
   "cell_type": "code",
   "execution_count": 1,
   "metadata": {},
   "outputs": [],
   "source": [
    "import os\n",
    "from dotenv import load_dotenv\n",
    "\n",
    "# Load environment variables\n",
    "load_dotenv()\n",
    "\n",
    "# Load API keys\n",
    "openai_api_key = os.getenv(\"OPENAI_API_KEY\")"
   ]
  },
  {
   "cell_type": "code",
   "execution_count": 4,
   "metadata": {},
   "outputs": [],
   "source": [
    "from langchain.agents import load_tools\n",
    "from langchain.agents import initialize_agent\n",
    "from langchain.agents import AgentType\n",
    "from langchain.memory import ConversationBufferMemory"
   ]
  },
  {
   "cell_type": "code",
   "execution_count": 3,
   "metadata": {},
   "outputs": [],
   "source": [
    "from langchain_openai import ChatOpenAI"
   ]
  },
  {
   "cell_type": "code",
   "execution_count": 5,
   "metadata": {},
   "outputs": [],
   "source": [
    "memory = ConversationBufferMemory(memory_key='chat_history')"
   ]
  },
  {
   "cell_type": "code",
   "execution_count": 6,
   "metadata": {},
   "outputs": [],
   "source": [
    "llm = ChatOpenAI(temperature=0.0)\n",
    "tools = load_tools(['llm-math'], llm=llm)"
   ]
  },
  {
   "cell_type": "code",
   "execution_count": 7,
   "metadata": {},
   "outputs": [
    {
     "name": "stderr",
     "output_type": "stream",
     "text": [
      "c:\\Users\\A200239740\\AppData\\Local\\anaconda3\\envs\\llms\\lib\\site-packages\\langchain_core\\_api\\deprecation.py:139: LangChainDeprecationWarning: The function `initialize_agent` was deprecated in LangChain 0.1.0 and will be removed in 0.3.0. Use Use new agent constructor methods like create_react_agent, create_json_agent, create_structured_chat_agent, etc. instead.\n",
      "  warn_deprecated(\n"
     ]
    }
   ],
   "source": [
    "# WARNING: Deprecated... use create_react_agent or similar instead\n",
    "agent = initialize_agent(\n",
    "    tools=tools,\n",
    "    llm=llm,\n",
    "    agent=AgentType.CONVERSATIONAL_REACT_DESCRIPTION,\n",
    "    memory=memory,\n",
    "    verbose=True\n",
    ")"
   ]
  },
  {
   "cell_type": "code",
   "execution_count": 8,
   "metadata": {},
   "outputs": [
    {
     "name": "stderr",
     "output_type": "stream",
     "text": [
      "c:\\Users\\A200239740\\AppData\\Local\\anaconda3\\envs\\llms\\lib\\site-packages\\langchain_core\\_api\\deprecation.py:139: LangChainDeprecationWarning: The method `Chain.run` was deprecated in langchain 0.1.0 and will be removed in 0.3.0. Use invoke instead.\n",
      "  warn_deprecated(\n"
     ]
    },
    {
     "name": "stdout",
     "output_type": "stream",
     "text": [
      "\n",
      "\n",
      "\u001b[1m> Entering new AgentExecutor chain...\u001b[0m\n",
      "\u001b[32;1m\u001b[1;3mThought: Do I need to use a tool? No\n",
      "AI: Here are some popular Thai food recipes you might enjoy:\n",
      "\n",
      "1. Pad Thai: A classic stir-fried noodle dish with a sweet and tangy sauce, usually made with shrimp, tofu, or chicken.\n",
      "2. Green Curry: A spicy and aromatic curry made with green curry paste, coconut milk, and vegetables or meat.\n",
      "3. Tom Yum Goong: A hot and sour soup with shrimp, lemongrass, kaffir lime leaves, and chili peppers.\n",
      "4. Som Tum: A refreshing and spicy green papaya salad with tomatoes, peanuts, and lime juice.\n",
      "5. Massaman Curry: A rich and flavorful curry made with beef, potatoes, and peanuts in a fragrant sauce.\n",
      "\n",
      "These are just a few examples of delicious Thai dishes you can try making at home. Enjoy!\u001b[0m\n",
      "\n",
      "\u001b[1m> Finished chain.\u001b[0m\n"
     ]
    },
    {
     "data": {
      "text/plain": [
       "'Here are some popular Thai food recipes you might enjoy:\\n\\n1. Pad Thai: A classic stir-fried noodle dish with a sweet and tangy sauce, usually made with shrimp, tofu, or chicken.\\n2. Green Curry: A spicy and aromatic curry made with green curry paste, coconut milk, and vegetables or meat.\\n3. Tom Yum Goong: A hot and sour soup with shrimp, lemongrass, kaffir lime leaves, and chili peppers.\\n4. Som Tum: A refreshing and spicy green papaya salad with tomatoes, peanuts, and lime juice.\\n5. Massaman Curry: A rich and flavorful curry made with beef, potatoes, and peanuts in a fragrant sauce.\\n\\nThese are just a few examples of delicious Thai dishes you can try making at home. Enjoy!'"
      ]
     },
     "execution_count": 8,
     "metadata": {},
     "output_type": "execute_result"
    }
   ],
   "source": [
    "# WARNING: Deprecated... use invoke instead\n",
    "agent.run(\"What are some good Thai food recipes?\") # Here are some popular Thai food recipes..."
   ]
  },
  {
   "cell_type": "code",
   "execution_count": 9,
   "metadata": {},
   "outputs": [
    {
     "name": "stdout",
     "output_type": "stream",
     "text": [
      "\n",
      "\n",
      "\u001b[1m> Entering new AgentExecutor chain...\u001b[0m\n",
      "\u001b[32;1m\u001b[1;3mThought: Do I need to use a tool? No\n",
      "AI: Among the dishes I mentioned, Tom Yum Goong is typically the spiciest. It is a hot and sour soup that often contains chili peppers, which give it a spicy kick.\u001b[0m\n",
      "\n",
      "\u001b[1m> Finished chain.\u001b[0m\n"
     ]
    },
    {
     "data": {
      "text/plain": [
       "'Among the dishes I mentioned, Tom Yum Goong is typically the spiciest. It is a hot and sour soup that often contains chili peppers, which give it a spicy kick.'"
      ]
     },
     "execution_count": 9,
     "metadata": {},
     "output_type": "execute_result"
    }
   ],
   "source": [
    "agent.run(\"Which one of those dishes tends to be the spiciest?\") # Among the dishes I mentioned, Tom Yum Goong is typically the spiciest..."
   ]
  },
  {
   "cell_type": "code",
   "execution_count": 10,
   "metadata": {},
   "outputs": [
    {
     "name": "stdout",
     "output_type": "stream",
     "text": [
      "\n",
      "\n",
      "\u001b[1m> Entering new AgentExecutor chain...\u001b[0m\n",
      "\u001b[32;1m\u001b[1;3mThought: Do I need to use a tool? No\n",
      "AI: Here is a grocery shopping list for Tom Yum Goong:\n",
      "\n",
      "1. Shrimp\n",
      "2. Lemongrass\n",
      "3. Kaffir lime leaves\n",
      "4. Chili peppers\n",
      "5. Tomatoes\n",
      "6. Peanuts\n",
      "7. Lime juice\n",
      "\n",
      "These are the main ingredients you will need to make a delicious Tom Yum Goong soup. Enjoy cooking!\u001b[0m\n",
      "\n",
      "\u001b[1m> Finished chain.\u001b[0m\n"
     ]
    },
    {
     "data": {
      "text/plain": [
       "'Here is a grocery shopping list for Tom Yum Goong:\\n\\n1. Shrimp\\n2. Lemongrass\\n3. Kaffir lime leaves\\n4. Chili peppers\\n5. Tomatoes\\n6. Peanuts\\n7. Lime juice\\n\\nThese are the main ingredients you will need to make a delicious Tom Yum Goong soup. Enjoy cooking!'"
      ]
     },
     "execution_count": 10,
     "metadata": {},
     "output_type": "execute_result"
    }
   ],
   "source": [
    "agent.run(\"Ok, give me a grocery shopping list for that dish\") # Here is a grocery shopping list..."
   ]
  },
  {
   "cell_type": "code",
   "execution_count": null,
   "metadata": {},
   "outputs": [],
   "source": []
  }
 ],
 "metadata": {
  "kernelspec": {
   "display_name": "Python 3",
   "language": "python",
   "name": "python3"
  },
  "language_info": {
   "codemirror_mode": {
    "name": "ipython",
    "version": 3
   },
   "file_extension": ".py",
   "mimetype": "text/x-python",
   "name": "python",
   "nbconvert_exporter": "python",
   "pygments_lexer": "ipython3",
   "version": "3.9.18"
  }
 },
 "nbformat": 4,
 "nbformat_minor": 2
}
