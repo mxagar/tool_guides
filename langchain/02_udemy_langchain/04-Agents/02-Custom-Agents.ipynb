{
 "cells": [
  {
   "cell_type": "markdown",
   "metadata": {},
   "source": [
    "# Custom Agents"
   ]
  },
  {
   "cell_type": "code",
   "execution_count": 4,
   "metadata": {},
   "outputs": [],
   "source": [
    "import os\n",
    "from dotenv import load_dotenv\n",
    "\n",
    "# Load environment variables\n",
    "load_dotenv()\n",
    "\n",
    "# Load API keys\n",
    "openai_api_key = os.getenv(\"OPENAI_API_KEY\")"
   ]
  },
  {
   "cell_type": "code",
   "execution_count": 6,
   "metadata": {},
   "outputs": [],
   "source": [
    "from langchain.agents import load_tools\n",
    "from langchain.agents import initialize_agent\n",
    "from langchain.agents import AgentType\n",
    "from langchain.agents import tool # Decorator"
   ]
  },
  {
   "cell_type": "code",
   "execution_count": 1,
   "metadata": {},
   "outputs": [],
   "source": [
    "from langchain_openai import ChatOpenAI"
   ]
  },
  {
   "cell_type": "code",
   "execution_count": 9,
   "metadata": {},
   "outputs": [],
   "source": [
    "# Here, we define our tool in a function\n",
    "# The Docstring is key here, as it will be used by the LLM to pick it\n",
    "# depending on the task:\n",
    "# LLM -> Tools Docstrings -> Pick tool -> Action -> Observation\n",
    "# Then, we implement the function an decorate it with @tool\n",
    "# This will make it available to the LLM.\n",
    "# The Docstring must explain the input and output of the function\n",
    "# as well as the action it performs.\n",
    "@tool\n",
    "def coolest_guy(text: str) -> str:\n",
    "    \"\"\"Returns the name of the coolest person in the Universe.\n",
    "    Expects an input of an empty string '' and returns the\n",
    "    name of the coolest person in the Universe.\n",
    "    \"\"\"\n",
    "    return \"John Smith\""
   ]
  },
  {
   "cell_type": "code",
   "execution_count": 10,
   "metadata": {},
   "outputs": [],
   "source": [
    "llm = ChatOpenAI(temperature=0.0)"
   ]
  },
  {
   "cell_type": "code",
   "execution_count": 14,
   "metadata": {},
   "outputs": [],
   "source": [
    "tools = load_tools(\n",
    "    tool_names=['llm-math'],\n",
    "    llm=llm\n",
    ")"
   ]
  },
  {
   "cell_type": "code",
   "execution_count": 15,
   "metadata": {},
   "outputs": [],
   "source": [
    "# Here's where we add our tool\n",
    "tools += [coolest_guy]"
   ]
  },
  {
   "cell_type": "code",
   "execution_count": 16,
   "metadata": {},
   "outputs": [],
   "source": [
    "agent = initialize_agent(\n",
    "    tools=tools,\n",
    "    llm=llm,\n",
    "    agent_type=AgentType.ZERO_SHOT_REACT_DESCRIPTION,\n",
    "    verbose=True\n",
    ")"
   ]
  },
  {
   "cell_type": "code",
   "execution_count": 17,
   "metadata": {},
   "outputs": [
    {
     "name": "stdout",
     "output_type": "stream",
     "text": [
      "\n",
      "\n",
      "\u001b[1m> Entering new AgentExecutor chain...\u001b[0m\n",
      "\u001b[32;1m\u001b[1;3mI should use the coolest_guy tool to find out the answer.\n",
      "Action: coolest_guy\n",
      "Action Input: ''\u001b[0m\n",
      "Observation: \u001b[33;1m\u001b[1;3mJohn Smith\u001b[0m\n",
      "Thought:\u001b[32;1m\u001b[1;3mI don't think that was the correct answer. Let me try again.\n",
      "Action: coolest_guy\n",
      "Action Input: ''\u001b[0m\n",
      "Observation: \u001b[33;1m\u001b[1;3mJohn Smith\u001b[0m\n",
      "Thought:\u001b[32;1m\u001b[1;3mIt seems like the coolest_guy tool is not giving the correct answer. I should try a different approach.\n",
      "Action: Calculator\n",
      "Action Input: 2 + 2\u001b[0m\n",
      "Observation: \u001b[36;1m\u001b[1;3mAnswer: 4\u001b[0m\n",
      "Thought:\u001b[32;1m\u001b[1;3mI should try using the Calculator tool to answer the question about the coolest guy in the Universe.\n",
      "Action: Calculator\n",
      "Action Input: 1 + 1\u001b[0m\n",
      "Observation: \u001b[36;1m\u001b[1;3mAnswer: 2\u001b[0m\n",
      "Thought:\u001b[32;1m\u001b[1;3mI should try using the coolest_guy tool again, maybe with a different input.\n",
      "Action: coolest_guy\n",
      "Action Input: ''\u001b[0m\n",
      "Observation: \u001b[33;1m\u001b[1;3mJohn Smith\u001b[0m\n",
      "Thought:\u001b[32;1m\u001b[1;3mIt seems like the coolest_guy tool is not giving the correct answer. I should try a different approach.\n",
      "Final Answer: John Smith\u001b[0m\n",
      "\n",
      "\u001b[1m> Finished chain.\u001b[0m\n"
     ]
    },
    {
     "data": {
      "text/plain": [
       "'John Smith'"
      ]
     },
     "execution_count": 17,
     "metadata": {},
     "output_type": "execute_result"
    }
   ],
   "source": [
    "agent.run(\"Who's the coolest guy in the Universe?\") # John Smith"
   ]
  },
  {
   "cell_type": "code",
   "execution_count": 18,
   "metadata": {},
   "outputs": [],
   "source": [
    "# We can easily add more tools to the agent\n",
    "# or the connection to any API!\n",
    "@tool\n",
    "def some_api(text: str) -> str:\n",
    "    \"\"\"Connect to this API, use this key, and return the response.\n",
    "    Here we explain in detail the input and output of the function\n",
    "    as well as the action it performs.\n",
    "    \"\"\"\n",
    "    return \"API response\""
   ]
  },
  {
   "cell_type": "code",
   "execution_count": 21,
   "metadata": {},
   "outputs": [],
   "source": [
    "from datetime import datetime\n",
    "\n",
    "# Clock\n",
    "@tool\n",
    "def get_current_time(text: str) -> str:\n",
    "    \"\"\"Returns the current time. Use this for any questions\n",
    "    reagrding the current time. Input is an empty string and the current\n",
    "    time is returned as string format. Only use this tool for the current time.\n",
    "    \"\"\"\n",
    "    return str(datetime.now())"
   ]
  },
  {
   "cell_type": "code",
   "execution_count": 22,
   "metadata": {},
   "outputs": [],
   "source": [
    "agent = initialize_agent(\n",
    "    tools=tools + [get_current_time],\n",
    "    llm=llm,\n",
    "    agent_type=AgentType.ZERO_SHOT_REACT_DESCRIPTION,\n",
    "    verbose=True\n",
    ")"
   ]
  },
  {
   "cell_type": "code",
   "execution_count": 23,
   "metadata": {},
   "outputs": [
    {
     "name": "stdout",
     "output_type": "stream",
     "text": [
      "\n",
      "\n",
      "\u001b[1m> Entering new AgentExecutor chain...\u001b[0m\n",
      "\u001b[32;1m\u001b[1;3mI should use the get_current_time tool to find out the current time.\n",
      "Action: get_current_time\n",
      "Action Input: ''\u001b[0m\n",
      "Observation: \u001b[38;5;200m\u001b[1;3m2024-07-28 19:17:03.988113\u001b[0m\n",
      "Thought:\u001b[32;1m\u001b[1;3mI now know the current time.\n",
      "Final Answer: The current time is 2024-07-28 19:17:03.988113.\u001b[0m\n",
      "\n",
      "\u001b[1m> Finished chain.\u001b[0m\n"
     ]
    },
    {
     "data": {
      "text/plain": [
       "'The current time is 2024-07-28 19:17:03.988113.'"
      ]
     },
     "execution_count": 23,
     "metadata": {},
     "output_type": "execute_result"
    }
   ],
   "source": [
    "agent.run(\"What time is it?\") # The current time is 2024-07-28 19:17:03.988113"
   ]
  },
  {
   "cell_type": "code",
   "execution_count": null,
   "metadata": {},
   "outputs": [],
   "source": [
    "agent.run(\"What time did the Pearl Harbour attack happen?\") # The chain breaks..."
   ]
  },
  {
   "cell_type": "code",
   "execution_count": null,
   "metadata": {},
   "outputs": [],
   "source": []
  }
 ],
 "metadata": {
  "kernelspec": {
   "display_name": "Python 3",
   "language": "python",
   "name": "python3"
  },
  "language_info": {
   "codemirror_mode": {
    "name": "ipython",
    "version": 3
   },
   "file_extension": ".py",
   "mimetype": "text/x-python",
   "name": "python",
   "nbconvert_exporter": "python",
   "pygments_lexer": "ipython3",
   "version": "3.9.18"
  }
 },
 "nbformat": 4,
 "nbformat_minor": 2
}
