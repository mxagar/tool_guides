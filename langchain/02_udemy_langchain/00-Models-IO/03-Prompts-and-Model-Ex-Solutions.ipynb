{
 "cells": [
  {
   "cell_type": "markdown",
   "id": "2212ea45-3a53-425e-8898-6ed2d3697d17",
   "metadata": {},
   "source": [
    "<a href = \"https://www.pieriantraining.com\"><img src=\"../PT Centered Purple.png\"> </a>\n",
    "\n",
    "<em style=\"text-align:center\">Copyrighted by Pierian Training</em>"
   ]
  },
  {
   "cell_type": "markdown",
   "id": "22138968-6bd1-4e21-9acc-50b8fa91b457",
   "metadata": {
    "tags": []
   },
   "source": [
    "# Prompts and Models Exercise - Example Solution\n",
    "\n",
    "**TASK: Create a Python function that uses Prompts and Chat internally to give travel ideas related to two variables:**\n",
    "\n",
    "    * An Interest or Hobby\n",
    "    * A Budget\n",
    "    \n",
    "Remember that you should also decide on a system prompt. The end function will just be a nice wrapper on top of all the previous LangChain components we've discussed earlier."
   ]
  },
  {
   "cell_type": "code",
   "execution_count": 2,
   "id": "15e5de41-7256-456e-b3cd-26f26b24b08a",
   "metadata": {},
   "outputs": [],
   "source": [
    "def travel_idea(interest,budget):\n",
    "    '''\n",
    "    INPUTS:\n",
    "        interest: A str interest or hobby (e.g. fishing)\n",
    "        budget: A str budget (e.g. $10,000)\n",
    "    '''\n",
    "    pass"
   ]
  },
  {
   "cell_type": "markdown",
   "id": "87ee4907-96cf-457d-9455-937db0ed9b72",
   "metadata": {},
   "source": [
    "**Example Solution**\n",
    "\n",
    "Keep in mind your solution may differ slightly, but as long as it works, that's ok!"
   ]
  },
  {
   "cell_type": "code",
   "execution_count": 3,
   "id": "d7bf8ecc-ca46-4b88-a8f4-d5eb21dff643",
   "metadata": {},
   "outputs": [],
   "source": [
    "import os\n",
    "from dotenv import load_dotenv\n",
    "load_dotenv()\n",
    "\n",
    "api_key = os.getenv(\"OPENAI_API_KEY\")"
   ]
  },
  {
   "cell_type": "code",
   "execution_count": 4,
   "id": "d5b5ad98-d184-4dc3-b553-0dbe2200f4fd",
   "metadata": {},
   "outputs": [],
   "source": [
    "from langchain_openai.chat_models import ChatOpenAI\n",
    "from langchain.prompts import (\n",
    "    ChatPromptTemplate,\n",
    "    PromptTemplate,\n",
    "    SystemMessagePromptTemplate,\n",
    "    AIMessagePromptTemplate,\n",
    "    HumanMessagePromptTemplate,\n",
    ")\n",
    "\n",
    "def travel_idea(interest,budget):\n",
    "    '''\n",
    "    INPUTS:\n",
    "        interest: A str interest or hobby (e.g. fishing)\n",
    "        budget: A str budget (e.g. $10,000)\n",
    "    '''\n",
    "    # PART ONE: SYSTEM\n",
    "    system_template=\"You are an AI Travel Agent that helps people plan trips about {interest} on a budget of {budget}\"\n",
    "    system_message_prompt = SystemMessagePromptTemplate.from_template(system_template)\n",
    "    # PART TWO: HUMAN REQUEST\n",
    "    human_template=\"{travel_help_request}\"\n",
    "    human_message_prompt = HumanMessagePromptTemplate.from_template(human_template)\n",
    "    # PART THREE: COMPILE TO CHAT\n",
    "    chat_prompt = ChatPromptTemplate.from_messages([system_message_prompt, human_message_prompt])\n",
    "    # PART FOUR: INSERT VARIABLES\n",
    "    request = chat_prompt.format_prompt(interest=interest, budget=budget, travel_help_request=\"Please give me an example travel itinerary\").to_messages()\n",
    "    # PART FIVE: CHAT REQUEST\n",
    "    chat = ChatOpenAI(openai_api_key=api_key)\n",
    "    result = chat.invoke(request)\n",
    "    return result.content"
   ]
  },
  {
   "cell_type": "code",
   "execution_count": 5,
   "id": "e96ce218-3b9e-4563-a1ab-071cff41d2f2",
   "metadata": {},
   "outputs": [
    {
     "name": "stdout",
     "output_type": "stream",
     "text": [
      "Sure! Here's a sample travel itinerary for a fishing trip on a budget of $10,000:\n",
      "\n",
      "Destination: Key West, Florida\n",
      "\n",
      "Day 1-3:\n",
      "- Fly to Key West and check into a budget-friendly hotel or Airbnb near the water\n",
      "- Spend the first day exploring the city and trying some local seafood\n",
      "- On Day 2, book a half-day fishing charter for inshore fishing for species like snapper, grouper, and tarpon\n",
      "- Enjoy a relaxing evening by the water and have dinner at a waterfront restaurant\n",
      "- On Day 3, head out on a full-day offshore fishing charter to catch bigger game fish like mahi-mahi, tuna, and marlin\n",
      "\n",
      "Day 4-6:\n",
      "- Rent a kayak or paddleboard and spend a day fishing in the calm waters of the backcountry\n",
      "- Take a break from fishing and visit the local attractions like the Ernest Hemingway Home and Museum or the Key West Butterfly and Nature Conservatory\n",
      "- Book a sunset cruise or fishing excursion to experience the beautiful Key West sunset from the water\n",
      "\n",
      "Day 7:\n",
      "- Spend your last day in Key West relaxing on the beach or exploring any spots you may have missed\n",
      "- Enjoy a final seafood dinner at a local restaurant before heading home\n",
      "\n",
      "This itinerary allows you to experience a variety of fishing opportunities in Key West while staying within your $10,000 budget. Prices for fishing charters and activities may vary, so be sure to research and book in advance to secure the best deals.\n"
     ]
    }
   ],
   "source": [
    "print(travel_idea('fishing','$10,000'))"
   ]
  },
  {
   "cell_type": "code",
   "execution_count": null,
   "id": "748da355-4537-4df7-be81-d7065034123f",
   "metadata": {},
   "outputs": [],
   "source": []
  }
 ],
 "metadata": {
  "kernelspec": {
   "display_name": "Python 3 (ipykernel)",
   "language": "python",
   "name": "python3"
  },
  "language_info": {
   "codemirror_mode": {
    "name": "ipython",
    "version": 3
   },
   "file_extension": ".py",
   "mimetype": "text/x-python",
   "name": "python",
   "nbconvert_exporter": "python",
   "pygments_lexer": "ipython3",
   "version": "3.9.18"
  }
 },
 "nbformat": 4,
 "nbformat_minor": 5
}
