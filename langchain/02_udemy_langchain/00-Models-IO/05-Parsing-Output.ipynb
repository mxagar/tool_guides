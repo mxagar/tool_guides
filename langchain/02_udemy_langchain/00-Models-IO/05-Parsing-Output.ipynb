{
 "cells": [
  {
   "cell_type": "markdown",
   "id": "378f3df7-19b9-49a1-b695-5d578138b4ae",
   "metadata": {},
   "source": [
    "<a href = \"https://www.pieriantraining.com\"><img src=\"../PT Centered Purple.png\"> </a>\n",
    "\n",
    "<em style=\"text-align:center\">Copyrighted by Pierian Training</em>"
   ]
  },
  {
   "cell_type": "markdown",
   "id": "e2128d1c-62d1-4681-abe1-754a1410e632",
   "metadata": {},
   "source": [
    "# Parsing Output\n",
    "\n",
    "Let's set up a Chat Model:"
   ]
  },
  {
   "cell_type": "code",
   "execution_count": 3,
   "id": "e2d81e4f-8739-4a19-abf9-7515304fc0a9",
   "metadata": {},
   "outputs": [],
   "source": [
    "import os\n",
    "from dotenv import load_dotenv\n",
    "\n",
    "from langchain.prompts import PromptTemplate, SystemMessagePromptTemplate,ChatPromptTemplate, HumanMessagePromptTemplate\n",
    "from langchain_openai import ChatOpenAI\n",
    "\n",
    "load_dotenv()\n",
    "\n",
    "api_key = os.getenv(\"OPENAI_API_KEY\")"
   ]
  },
  {
   "cell_type": "code",
   "execution_count": 4,
   "id": "dddb6371",
   "metadata": {},
   "outputs": [],
   "source": [
    "model = ChatOpenAI(openai_api_key=api_key)"
   ]
  },
  {
   "cell_type": "markdown",
   "id": "7a7b37ab-4548-4a6f-a3da-77af6068ea3a",
   "metadata": {
    "tags": []
   },
   "source": [
    "## Example: List Parsing "
   ]
  },
  {
   "cell_type": "code",
   "execution_count": 6,
   "id": "7ec14645-3d85-4cde-abf4-b3afc5248278",
   "metadata": {},
   "outputs": [],
   "source": [
    "# List Parsing: we want to have a list as an output\n",
    "# We can browse all the parsers with TAB \n",
    "# https://python.langchain.com/v0.1/docs/modules/model_io/output_parsers/\n",
    "# - JSON\n",
    "# - XML\n",
    "# - CSV: CommaSeparatedListOutputParser\n",
    "# - YAML\n",
    "# - PandasDataFrame\n",
    "# - Enum\n",
    "# - Pydantic\n",
    "# - Datetime\n",
    "# - ...\n",
    "from langchain.output_parsers import CommaSeparatedListOutputParser"
   ]
  },
  {
   "cell_type": "code",
   "execution_count": 7,
   "id": "4cca39c5-72a4-400e-b687-88dbe7a6a1eb",
   "metadata": {},
   "outputs": [],
   "source": [
    "output_parser = CommaSeparatedListOutputParser()"
   ]
  },
  {
   "cell_type": "code",
   "execution_count": 10,
   "id": "1ad58ba7-8369-4a8e-92b1-557a931515a2",
   "metadata": {},
   "outputs": [
    {
     "name": "stdout",
     "output_type": "stream",
     "text": [
      "Your response should be a list of comma separated values, eg: `foo, bar, baz` or `foo,bar,baz`\n"
     ]
    }
   ],
   "source": [
    "# The instructions are really a string \n",
    "format_instructions = output_parser.get_format_instructions()\n",
    "print(format_instructions)"
   ]
  },
  {
   "cell_type": "code",
   "execution_count": 11,
   "id": "545527d3-5556-4558-8835-8efdb76e8010",
   "metadata": {},
   "outputs": [
    {
     "data": {
      "text/plain": [
       "['one', 'two', 'three']"
      ]
     },
     "execution_count": 11,
     "metadata": {},
     "output_type": "execute_result"
    }
   ],
   "source": [
    "# However, the parser has also the method parse() which parses a correctly formatted string\n",
    "reply = \"one, two, three\"\n",
    "output_parser.parse(\"one, two, three\")"
   ]
  },
  {
   "cell_type": "code",
   "execution_count": 18,
   "id": "19ad7894-8a81-46ce-ba3d-3aceb7d4f7b9",
   "metadata": {},
   "outputs": [],
   "source": [
    "# The prompt is a string with two placeholders: {request} and {format_instructions}\n",
    "human_template = '{request}\\n{format_instructions}' # \\n new line is a good idea\n",
    "human_prompt = HumanMessagePromptTemplate.from_template(human_template)"
   ]
  },
  {
   "cell_type": "code",
   "execution_count": 19,
   "id": "a8b091bf-3931-42da-be46-f1bb9ba186ce",
   "metadata": {},
   "outputs": [
    {
     "data": {
      "text/plain": [
       "ChatPromptValue(messages=[HumanMessage(content='give me 5 characteristics of dogs\\nYour response should be a list of comma separated values, eg: `foo, bar, baz` or `foo,bar,baz`')])"
      ]
     },
     "execution_count": 19,
     "metadata": {},
     "output_type": "execute_result"
    }
   ],
   "source": [
    "# Now, we can create a chat prompt\n",
    "chat_prompt = ChatPromptTemplate.from_messages([human_prompt])\n",
    "chat_prompt.format_prompt(request=\"give me 5 characteristics of dogs\",\n",
    "                   format_instructions = output_parser.get_format_instructions())"
   ]
  },
  {
   "cell_type": "code",
   "execution_count": 20,
   "id": "535031e5-61c2-4b6b-9d0e-36cf2f3d469d",
   "metadata": {},
   "outputs": [],
   "source": [
    "# Note: the request needs to line up with the instructions!\n",
    "request = chat_prompt.format_prompt(\n",
    "    request=\"give me 5 characteristics of dogs\",\n",
    "    format_instructions = output_parser.get_format_instructions()).to_messages()"
   ]
  },
  {
   "cell_type": "code",
   "execution_count": 21,
   "id": "71b52ed0-5178-4ca4-8317-e1ca590bf460",
   "metadata": {},
   "outputs": [],
   "source": [
    "result = model.invoke(request)"
   ]
  },
  {
   "cell_type": "code",
   "execution_count": 22,
   "id": "ae2b14fd-941e-4412-a916-04e3d1e886e0",
   "metadata": {},
   "outputs": [
    {
     "data": {
      "text/plain": [
       "'Loyal, playful, protective, social, obedient'"
      ]
     },
     "execution_count": 22,
     "metadata": {},
     "output_type": "execute_result"
    }
   ],
   "source": [
    "# We get back a string but it should follow the instructions\n",
    "result.content # 'Loyal, playful, protective, social, obedient'"
   ]
  },
  {
   "cell_type": "code",
   "execution_count": 23,
   "id": "a35378ea-891a-4c47-b3eb-06aa9854f1d5",
   "metadata": {},
   "outputs": [
    {
     "data": {
      "text/plain": [
       "['Loyal', 'playful', 'protective', 'social', 'obedient']"
      ]
     },
     "execution_count": 23,
     "metadata": {},
     "output_type": "execute_result"
    }
   ],
   "source": [
    "# Convert to desired output\n",
    "output_parser.parse(result.content) # ['Loyal', 'friendly', 'playful', 'protective', 'intelligent']"
   ]
  },
  {
   "cell_type": "markdown",
   "id": "f7dc1d92-0e0d-4703-82f4-47b1b816e967",
   "metadata": {},
   "source": [
    "## Example: Datetime Parser "
   ]
  },
  {
   "cell_type": "code",
   "execution_count": 35,
   "id": "7181df9f-691f-4bd2-af8f-ebe4b2c6d78b",
   "metadata": {},
   "outputs": [],
   "source": [
    "from langchain.output_parsers import DatetimeOutputParser"
   ]
  },
  {
   "cell_type": "code",
   "execution_count": 36,
   "id": "2a7bf62c-c78d-4417-a56e-adf545649f8e",
   "metadata": {},
   "outputs": [],
   "source": [
    "output_parser = DatetimeOutputParser()"
   ]
  },
  {
   "cell_type": "code",
   "execution_count": 37,
   "id": "02b918ea-62f0-457a-bdb1-e923b8d30ae3",
   "metadata": {},
   "outputs": [
    {
     "name": "stdout",
     "output_type": "stream",
     "text": [
      "Write a datetime string that matches the following pattern: '%Y-%m-%dT%H:%M:%S.%fZ'.\n",
      "\n",
      "Examples: 0959-04-28T05:29:30.612263Z, 0123-07-31T09:18:02.715416Z, 0137-03-31T05:16:12.249875Z\n",
      "\n",
      "Return ONLY this string, no other words!\n"
     ]
    }
   ],
   "source": [
    "print(output_parser.get_format_instructions())"
   ]
  },
  {
   "cell_type": "code",
   "execution_count": 38,
   "id": "1d25e7ac-4d85-4cae-9401-a05c444be675",
   "metadata": {},
   "outputs": [],
   "source": [
    "template_text = \"{request}\\n{format_instructions}\"\n",
    "human_prompt=HumanMessagePromptTemplate.from_template(template_text)"
   ]
  },
  {
   "cell_type": "code",
   "execution_count": 39,
   "id": "6f17e9dd-d5bf-4f60-8d66-845d27794cb2",
   "metadata": {},
   "outputs": [],
   "source": [
    "chat_prompt = ChatPromptTemplate.from_messages([human_prompt])"
   ]
  },
  {
   "cell_type": "code",
   "execution_count": 40,
   "id": "d6d5d104-1ccf-484a-9d65-81b89f066ca2",
   "metadata": {},
   "outputs": [
    {
     "name": "stdout",
     "output_type": "stream",
     "text": [
      "Human: When was the 13th Amendment ratified in the US?\n",
      "Write a datetime string that matches the following pattern: '%Y-%m-%dT%H:%M:%S.%fZ'.\n",
      "\n",
      "Examples: 1713-07-27T03:03:40.898689Z, 1718-03-10T13:56:20.049095Z, 0634-05-03T10:46:19.469959Z\n",
      "\n",
      "Return ONLY this string, no other words!\n"
     ]
    }
   ],
   "source": [
    "print(chat_prompt.format(request=\"When was the 13th Amendment ratified in the US?\",\n",
    "                   format_instructions=output_parser.get_format_instructions()\n",
    "                   ))"
   ]
  },
  {
   "cell_type": "code",
   "execution_count": 41,
   "id": "2fb47b36-22f9-4255-8f7d-1fe5f3e4fd69",
   "metadata": {},
   "outputs": [],
   "source": [
    "request = chat_prompt.format_prompt(request=\"What date was the 13th Amendment ratified in the US?\",\n",
    "                   format_instructions=output_parser.get_format_instructions()\n",
    "                   ).to_messages()"
   ]
  },
  {
   "cell_type": "code",
   "execution_count": 42,
   "id": "81091194-52ea-4c85-b899-48146d434c53",
   "metadata": {},
   "outputs": [],
   "source": [
    "result = model.invoke(request,temperature=0)"
   ]
  },
  {
   "cell_type": "code",
   "execution_count": 43,
   "id": "9a5227a5-cd36-4f8f-b93b-8281ddbfe7ac",
   "metadata": {},
   "outputs": [
    {
     "data": {
      "text/plain": [
       "'1865-12-06T00:00:00.000000Z'"
      ]
     },
     "execution_count": 43,
     "metadata": {},
     "output_type": "execute_result"
    }
   ],
   "source": [
    "# Careful with this, it sometimes will include extra information!\n",
    "result.content"
   ]
  },
  {
   "cell_type": "code",
   "execution_count": 44,
   "id": "d48d3df3-325c-43b3-9b58-8c5396b9121e",
   "metadata": {},
   "outputs": [
    {
     "data": {
      "text/plain": [
       "'1865-12-06T00:00:00.000000Z'"
      ]
     },
     "execution_count": 44,
     "metadata": {},
     "output_type": "execute_result"
    }
   ],
   "source": [
    "result.content"
   ]
  },
  {
   "cell_type": "code",
   "execution_count": 45,
   "id": "8d27d13a-0ee7-4cd7-adb7-67f29e519b10",
   "metadata": {},
   "outputs": [
    {
     "data": {
      "text/plain": [
       "datetime.datetime(1865, 12, 6, 0, 0)"
      ]
     },
     "execution_count": 45,
     "metadata": {},
     "output_type": "execute_result"
    }
   ],
   "source": [
    "output_parser.parse(result.content)"
   ]
  },
  {
   "cell_type": "markdown",
   "id": "f8ee5cd6-931d-4b06-963a-19d5e69a1f2b",
   "metadata": {},
   "source": [
    "---\n",
    "\n",
    "# Methods to Fix Parsing Issues\n",
    "\n",
    "## Auto-Fix Parser"
   ]
  },
  {
   "cell_type": "code",
   "execution_count": 81,
   "id": "43dcc805-e48f-488f-81fb-1ae25c0482be",
   "metadata": {},
   "outputs": [],
   "source": [
    "# If we fear we might get misformatted data, we can use the OutputFixingParser\n",
    "# Misformatted data is for instance an answer which is not aligned with the format instructions\n",
    "# Example: '1865-12-06' instead of '1865-12-06T00:00:00Z' in the case of datetimes\n",
    "from langchain.output_parsers import OutputFixingParser\n",
    "\n",
    "output_parser = DatetimeOutputParser()\n",
    "\n",
    "misformatted = result.content # '1865-12-06T00:00:00.000000Z'\n",
    "#misformatted = \"the day is 1865-12-06T00:00:00.000000Z\""
   ]
  },
  {
   "cell_type": "code",
   "execution_count": 82,
   "id": "d4f9ce62-33a0-4aac-a810-cb286051857e",
   "metadata": {},
   "outputs": [
    {
     "data": {
      "text/plain": [
       "'1865-12-06T00:00:00.000000Z'"
      ]
     },
     "execution_count": 82,
     "metadata": {},
     "output_type": "execute_result"
    }
   ],
   "source": [
    "misformatted"
   ]
  },
  {
   "cell_type": "code",
   "execution_count": 83,
   "id": "d6e43db4-2e75-4902-95e9-07a82688ce8d",
   "metadata": {},
   "outputs": [],
   "source": [
    "# To create a new parser which will fix the misformatted data\n",
    "# we need to take the previous parser and the same model we used\n",
    "new_parser = OutputFixingParser.from_llm(parser=output_parser, llm=model)"
   ]
  },
  {
   "cell_type": "code",
   "execution_count": 84,
   "id": "9b91f188-cca3-4659-8e09-9defac58afd9",
   "metadata": {},
   "outputs": [
    {
     "data": {
      "text/plain": [
       "datetime.datetime(1865, 12, 6, 0, 0)"
      ]
     },
     "execution_count": 84,
     "metadata": {},
     "output_type": "execute_result"
    }
   ],
   "source": [
    "# Then, we pass the potentially missformatted data to it\n",
    "# If it's correctly formatted, nothing will happen\n",
    "# NOTE: this incurs in higher costs, because the model is called again\n",
    "new_parser.parse(misformatted)"
   ]
  },
  {
   "cell_type": "markdown",
   "id": "b1e590db-90dc-47db-8341-44491916fc90",
   "metadata": {},
   "source": [
    "____\n",
    "### Fixing via System Prompt:"
   ]
  },
  {
   "cell_type": "code",
   "execution_count": 29,
   "id": "d7714f2d-1063-44bc-9ad0-ab1f578a4143",
   "metadata": {},
   "outputs": [],
   "source": [
    "system_prompt = SystemMessagePromptTemplate.from_template(\"You always reply to questions only in datetime patterns.\")\n",
    "template_text = \"{request}\\n{format_instructions}\"\n",
    "human_prompt=HumanMessagePromptTemplate.from_template(template_text)"
   ]
  },
  {
   "cell_type": "code",
   "execution_count": 30,
   "id": "9a2ec129-ab30-41c1-94e5-988c4e179ef3",
   "metadata": {},
   "outputs": [],
   "source": [
    "chat_prompt = ChatPromptTemplate.from_messages([system_prompt,human_prompt])"
   ]
  },
  {
   "cell_type": "code",
   "execution_count": 31,
   "id": "7e9f115d-78aa-4e48-9b5d-9ac4914b84bd",
   "metadata": {},
   "outputs": [
    {
     "name": "stdout",
     "output_type": "stream",
     "text": [
      "System: You always reply to questions only in datetime patterns.\n",
      "Human: When was the 13th Amendment ratified in the US?\n",
      "Write a datetime string that matches the following pattern: '%Y-%m-%dT%H:%M:%S.%fZ'.\n",
      "\n",
      "Examples: 0878-01-27T13:27:08.832493Z, 2028-04-22T18:12:45.217964Z, 0771-11-18T02:53:24.751667Z\n",
      "\n",
      "Return ONLY this string, no other words!\n"
     ]
    }
   ],
   "source": [
    "print(chat_prompt.format(request=\"When was the 13th Amendment ratified in the US?\",\n",
    "                   format_instructions=output_parser.get_format_instructions()\n",
    "                   ))"
   ]
  },
  {
   "cell_type": "code",
   "execution_count": 32,
   "id": "cddc6803-dbe4-4064-8002-bdd46ff8d418",
   "metadata": {},
   "outputs": [],
   "source": [
    "request = chat_prompt.format_prompt(request=\"What date was the 13th Amendment ratified in the US?\",\n",
    "                   format_instructions=output_parser.get_format_instructions()\n",
    "                   ).to_messages()"
   ]
  },
  {
   "cell_type": "code",
   "execution_count": 33,
   "id": "20db5dd9-eb1b-4a6c-967e-81bed43a868d",
   "metadata": {},
   "outputs": [],
   "source": [
    "result = model.invoke(request,temperature=0)"
   ]
  },
  {
   "cell_type": "code",
   "execution_count": 34,
   "id": "b56baddd-e8ac-45a7-ab25-bc4cd4cbc967",
   "metadata": {},
   "outputs": [
    {
     "data": {
      "text/plain": [
       "'1865-12-06T00:00:00.000000Z'"
      ]
     },
     "execution_count": 34,
     "metadata": {},
     "output_type": "execute_result"
    }
   ],
   "source": [
    "result.content"
   ]
  },
  {
   "cell_type": "code",
   "execution_count": 35,
   "id": "5849a726-e8dd-432f-93d0-078c804ba407",
   "metadata": {},
   "outputs": [
    {
     "data": {
      "text/plain": [
       "datetime.datetime(1865, 12, 6, 0, 0)"
      ]
     },
     "execution_count": 35,
     "metadata": {},
     "output_type": "execute_result"
    }
   ],
   "source": [
    "output_parser.parse(result.content)"
   ]
  },
  {
   "cell_type": "markdown",
   "id": "62292e0b-277a-4fbc-9ac3-2bffaf9a4614",
   "metadata": {},
   "source": [
    "Be careful! This could technically be construed as wrong? The full details from Wikipedia:\n",
    "\n",
    "    27th state to ratify was Georgia: December 6, 1865\n",
    "\n",
    "    Having been ratified by the legislatures of three-fourths of the states (27 of the 36 states, including those that had been in rebellion), Secretary of State Seward, on December 18, 1865, certified that the Thirteenth Amendment had become valid, to all intents and purposes, as a part of the Constitution.\n",
    "\n",
    "You also have the issue of states leaving the union, which complicates what a full ratification means at that time. It kind of depends what is meant by the word \"ratified\"!"
   ]
  },
  {
   "cell_type": "markdown",
   "id": "e874ded7-a158-425e-b946-474845a12b72",
   "metadata": {},
   "source": [
    "## Pydantic JSON Parser\n",
    "You should also be aware of OpenAI's own JSON offerings (which are still quite new at this time!): https://platform.openai.com/docs/guides/gpt/function-calling\n"
   ]
  },
  {
   "cell_type": "code",
   "execution_count": 36,
   "id": "b0646d6f-7370-4e82-8983-ef87585e423d",
   "metadata": {},
   "outputs": [
    {
     "name": "stdout",
     "output_type": "stream",
     "text": [
      "Requirement already satisfied: pydantic in /Users/marci/opt/miniconda3/envs/langchain/lib/python3.11/site-packages (2.7.1)\n",
      "Requirement already satisfied: annotated-types>=0.4.0 in /Users/marci/opt/miniconda3/envs/langchain/lib/python3.11/site-packages (from pydantic) (0.7.0)\n",
      "Requirement already satisfied: pydantic-core==2.18.2 in /Users/marci/opt/miniconda3/envs/langchain/lib/python3.11/site-packages (from pydantic) (2.18.2)\n",
      "Requirement already satisfied: typing-extensions>=4.6.1 in /Users/marci/opt/miniconda3/envs/langchain/lib/python3.11/site-packages (from pydantic) (4.12.0)\n"
     ]
    }
   ],
   "source": [
    "#pip install pydantic"
   ]
  },
  {
   "cell_type": "code",
   "execution_count": 85,
   "id": "279dff90-27f2-424a-8683-fe030f2827df",
   "metadata": {},
   "outputs": [],
   "source": [
    "from langchain.output_parsers import PydanticOutputParser"
   ]
  },
  {
   "cell_type": "code",
   "execution_count": 86,
   "id": "fc5f5225-633a-4c71-a6b4-c46b376c9207",
   "metadata": {},
   "outputs": [],
   "source": [
    "from pydantic import BaseModel, Field"
   ]
  },
  {
   "cell_type": "code",
   "execution_count": 87,
   "id": "2685a18e-cf09-4a92-8380-81feda164740",
   "metadata": {},
   "outputs": [],
   "source": [
    "# First, we define the Pydantic class\n",
    "# We want to get objects that line up with these fields\n",
    "class Scientist(BaseModel):\n",
    "    name: str = Field(description=\"Name of a Scientist\")\n",
    "    discoveries: list = Field(description=\"Python list of discoveries\")"
   ]
  },
  {
   "cell_type": "code",
   "execution_count": 88,
   "id": "6036b3b0-38fe-40b7-b51d-91b3238a8ed5",
   "metadata": {},
   "outputs": [],
   "source": [
    "# This is our NL query\n",
    "query = 'Name a famous scientist and a list of their discoveries' "
   ]
  },
  {
   "cell_type": "code",
   "execution_count": 89,
   "id": "f11cfdad-1234-41b1-9f54-3620d7bd1b96",
   "metadata": {},
   "outputs": [],
   "source": [
    "# Pydantic parser\n",
    "parser = PydanticOutputParser(pydantic_object=Scientist)"
   ]
  },
  {
   "cell_type": "code",
   "execution_count": 90,
   "id": "8cf18594-2ca1-4f3c-bbfc-a8e072f6a78c",
   "metadata": {},
   "outputs": [
    {
     "name": "stdout",
     "output_type": "stream",
     "text": [
      "The output should be formatted as a JSON instance that conforms to the JSON schema below.\n",
      "\n",
      "As an example, for the schema {\"properties\": {\"foo\": {\"title\": \"Foo\", \"description\": \"a list of strings\", \"type\": \"array\", \"items\": {\"type\": \"string\"}}}, \"required\": [\"foo\"]}\n",
      "the object {\"foo\": [\"bar\", \"baz\"]} is a well-formatted instance of the schema. The object {\"properties\": {\"foo\": [\"bar\", \"baz\"]}} is not well-formatted.\n",
      "\n",
      "Here is the output schema:\n",
      "```\n",
      "{\"properties\": {\"name\": {\"description\": \"Name of a Scientist\", \"title\": \"Name\", \"type\": \"string\"}, \"discoveries\": {\"description\": \"Python list of discoveries\", \"items\": {}, \"title\": \"Discoveries\", \"type\": \"array\"}}, \"required\": [\"name\", \"discoveries\"]}\n",
      "```\n"
     ]
    }
   ],
   "source": [
    "print(parser.get_format_instructions()) # The output should be formatted as a JSON instance..."
   ]
  },
  {
   "cell_type": "code",
   "execution_count": 92,
   "id": "07770971-eafe-479f-b632-9dc33759e0da",
   "metadata": {},
   "outputs": [
    {
     "data": {
      "text/plain": [
       "Scientist(name='Isaac Newton', discoveries=['Law of Universal Gravitation', 'Three Laws of Motion', 'Calculus'])"
      ]
     },
     "execution_count": 92,
     "metadata": {},
     "output_type": "execute_result"
    }
   ],
   "source": [
    "# Prompt template\n",
    "prompt = PromptTemplate(\n",
    "    template=\"Answer the user query.\\n{format_instructions}\\n{query}\\n\",\n",
    "    input_variables=[\"query\"],\n",
    "    partial_variables={\"format_instructions\": parser.get_format_instructions()},\n",
    ")\n",
    "\n",
    "# We modify the template with the query\n",
    "input_prompt = prompt.format_prompt(query=query)\n",
    "# Run the model\n",
    "output = model.invoke(input_prompt.to_string()) # Sometimes lowering the temperature helps\n",
    "# Parse\n",
    "parser.parse(output.content) # A Scientist object is returned!"
   ]
  },
  {
   "cell_type": "code",
   "execution_count": null,
   "id": "775f2ed1-72b2-471f-8491-c80e3d4baab4",
   "metadata": {},
   "outputs": [],
   "source": []
  }
 ],
 "metadata": {
  "kernelspec": {
   "display_name": "Python 3 (ipykernel)",
   "language": "python",
   "name": "python3"
  },
  "language_info": {
   "codemirror_mode": {
    "name": "ipython",
    "version": 3
   },
   "file_extension": ".py",
   "mimetype": "text/x-python",
   "name": "python",
   "nbconvert_exporter": "python",
   "pygments_lexer": "ipython3",
   "version": "3.9.18"
  }
 },
 "nbformat": 4,
 "nbformat_minor": 5
}
