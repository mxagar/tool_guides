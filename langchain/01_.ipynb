{
 "cells": [
  {
   "attachments": {},
   "cell_type": "markdown",
   "metadata": {},
   "source": [
    "# LangChain: Introduction"
   ]
  },
  {
   "attachments": {},
   "cell_type": "markdown",
   "metadata": {},
   "source": [
    "> LangChain is a framework for developing applications powered by language models. It enables applications that are:\n",
    ">\n",
    "> - Data-aware: connect a language model to other sources of data\n",
    "> - Agentic: allow a language model to interact with its environment\n",
    "\n",
    "The idea is that we have several modules with different functionalities which are used in chains to accomplish tasks. Check the official\n",
    "\n",
    "- [use cases](https://python.langchain.com/docs/use_cases)\n",
    "- and list of [modules](https://python.langchain.com/docs/modules/).\n",
    "\n",
    "Note that LanChain uses models from other frameworks/vendors, such as OpenAI, Cohere, HuggingFace, etc; these are called **integrations**. As such, we need to have the specific keys or access tokens of those vendors. This mini-tutorial uses `dotenv` to load the keys defined in the `.env` file (not committed):\n",
    "\n",
    "```\n",
    "OPENAI_API_KEY=xxx\n",
    "HUGGINGFACEHUB_API_TOKEN=xxx\n",
    "```\n",
    "\n",
    "Sources followed to prepare this guide:\n",
    "\n",
    "- [LangChain Crash Course - Build apps with language models](https://www.youtube.com/watch?v=LbT1yp6quS8)\n",
    "- [The LangChain Cookbook - Beginner Guide To 7 Essential Concepts](https://www.youtube.com/watch?v=2xxziIWmaSA)\n",
    "\n",
    "Table of contents:\n",
    "\n",
    ":construction:"
   ]
  },
  {
   "attachments": {},
   "cell_type": "markdown",
   "metadata": {},
   "source": [
    "## 0. Setup"
   ]
  },
  {
   "attachments": {},
   "cell_type": "markdown",
   "metadata": {},
   "source": [
    "Official websites:\n",
    "\n",
    "- [documentation](https://python.langchain.com/)\n",
    "- [github](https://github.com/langchain-ai/langchain)\n",
    "\n",
    "To install langchain and the required integrations:\n",
    "\n",
    "```bash\n",
    "conda activate ds\n",
    "\n",
    "# Install langchain without any integrations\n",
    "pip install langchain\n",
    "# Then, integrations are installed later as needed\n",
    "pip install openai\n",
    "pip install huggingface_hub\n",
    "\n",
    "# Install all integrations\n",
    "pip install 'langchain[all]'\n",
    "```"
   ]
  },
  {
   "cell_type": "code",
   "execution_count": 7,
   "metadata": {},
   "outputs": [],
   "source": [
    "import os\n",
    "from dotenv import load_dotenv"
   ]
  },
  {
   "cell_type": "code",
   "execution_count": 10,
   "metadata": {},
   "outputs": [
    {
     "data": {
      "text/plain": [
       "True"
      ]
     },
     "execution_count": 10,
     "metadata": {},
     "output_type": "execute_result"
    }
   ],
   "source": [
    "load_dotenv() # OPENAI_API_KEY, HUGGINGFACEHUB_API_TOKEN"
   ]
  },
  {
   "attachments": {},
   "cell_type": "markdown",
   "metadata": {},
   "source": [
    "## 1. LLMs"
   ]
  },
  {
   "cell_type": "code",
   "execution_count": 12,
   "metadata": {},
   "outputs": [
    {
     "name": "stdout",
     "output_type": "stream",
     "text": [
      "\n",
      "\n",
      "Potato Palaces\n"
     ]
    }
   ],
   "source": [
    "# OpenAI: environment variable OPENAI_API_KEY set\n",
    "from langchain.llms import OpenAI\n",
    "\n",
    "llm = OpenAI(temperature=0.9) # model_name=\"text-davinci-003\"\n",
    "text = \"Tell me a good company name for a company which sells potatoes.\"\n",
    "print(llm(text))"
   ]
  },
  {
   "cell_type": "code",
   "execution_count": 14,
   "metadata": {},
   "outputs": [
    {
     "name": "stdout",
     "output_type": "stream",
     "text": [
      "Qué hora es el momento?\n"
     ]
    }
   ],
   "source": [
    "# HuggingFace: environment variable HUGGINGFACEHUB_API_TOKEN set\n",
    "from langchain import HuggingFaceHub\n",
    "\n",
    "# https://huggingface.co/google/flan-t5-small\n",
    "llm = HuggingFaceHub(repo_id=\"google/flan-t5-small\",\n",
    "                     model_kwargs={\"temperature\":0,\n",
    "                                   \"max_length\":64})\n",
    "text = \"Translate English to Spanish: What time is it?\"\n",
    "print(llm(text))"
   ]
  },
  {
   "cell_type": "code",
   "execution_count": null,
   "metadata": {},
   "outputs": [],
   "source": []
  }
 ],
 "metadata": {
  "kernelspec": {
   "display_name": "ds",
   "language": "python",
   "name": "python3"
  },
  "language_info": {
   "codemirror_mode": {
    "name": "ipython",
    "version": 3
   },
   "file_extension": ".py",
   "mimetype": "text/x-python",
   "name": "python",
   "nbconvert_exporter": "python",
   "pygments_lexer": "ipython3",
   "version": "3.7.13"
  },
  "orig_nbformat": 4
 },
 "nbformat": 4,
 "nbformat_minor": 2
}
